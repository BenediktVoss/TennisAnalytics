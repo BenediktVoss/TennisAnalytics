{
 "cells": [
  {
   "cell_type": "markdown",
   "metadata": {},
   "source": [
    "# Bounce and Hit prediction\n",
    "\n",
    "In this notebook two different models to predict bounces and hits in the balls positions are trained"
   ]
  },
  {
   "cell_type": "markdown",
   "metadata": {},
   "source": [
    "### imports"
   ]
  },
  {
   "cell_type": "code",
   "execution_count": 1,
   "metadata": {},
   "outputs": [],
   "source": [
    "import json\n",
    "import pandas as pd\n",
    "import numpy as np\n",
    "from scipy.spatial import distance\n",
    "from mpl_toolkits.axes_grid1 import make_axes_locatable\n",
    "from xgboost import XGBClassifier\n",
    "from sklearn.metrics import classification_report\n",
    "import matplotlib.pyplot as plt\n",
    "from collections import Counter\n",
    "from xgboost import plot_importance\n",
    "from sklearn.utils import compute_sample_weight\n",
    "from sklearn.preprocessing import StandardScaler\n",
    "from sktime.classification.kernel_based import RocketClassifier\n",
    "from imblearn.over_sampling import SMOTE\n",
    "import wandb\n",
    "from sklearn.metrics import confusion_matrix\n",
    "import seaborn as sns"
   ]
  },
  {
   "cell_type": "code",
   "execution_count": null,
   "metadata": {},
   "outputs": [],
   "source": [
    "# read annotation json\n",
    "with open('../00_Dataset/annotations_bounce.json') as f:\n",
    "    data = json.load(f)"
   ]
  },
  {
   "cell_type": "code",
   "execution_count": null,
   "metadata": {},
   "outputs": [
    {
     "name": "stdout",
     "output_type": "stream",
     "text": [
      "110 {'x': 808, 'y': 135, 'visibility': 'Visible', 'trajectory': 'Hit', 'id': '461'}\n",
      "141 {'x': 526, 'y': 245, 'visibility': 'Difficult', 'trajectory': 'Hit', 'id': '461'}\n",
      "219 {'x': 326, 'y': 264, 'visibility': 'Visible', 'trajectory': 'Hit', 'id': '461'}\n",
      "261 {'x': 705, 'y': 244, 'visibility': 'Difficult', 'trajectory': 'Hit', 'id': '461'}\n"
     ]
    }
   ],
   "source": [
    "for subset in data['subsets']:\n",
    "    for video in subset['videos']:\n",
    "        for clip in video['clips']:\n",
    "            if video['name'] == 'Video_6' and clip['name'] == 'clip_1':\n",
    "                for key, frame in clip['frames_with_objects'].items():\n",
    "                    if len(frame['balls']) > 0:\n",
    "                        if frame['balls'][0]['trajectory'] == 'Hit':\n",
    "                            print(key, frame['balls'][0])"
   ]
  },
  {
   "cell_type": "markdown",
   "metadata": {},
   "source": [
    "## visualization"
   ]
  },
  {
   "cell_type": "code",
   "execution_count": 78,
   "metadata": {},
   "outputs": [],
   "source": [
    "# Define D3 Category 10 colors\n",
    "d3_colors = [\n",
    "    '#1f77b4',  # Blue\n",
    "    '#ff7f0e',  # Orange\n",
    "    '#2ca02c',  # Green\n",
    "    '#d62728',  # Red\n",
    "    '#9467bd',  # Purple\n",
    "    '#8c564b',  # Brown\n",
    "    '#e377c2',  # Pink\n",
    "    '#7f7f7f',  # Gray\n",
    "    '#bcbd22',  # Yellow-Green\n",
    "    '#17becf'   # Cyan\n",
    "]\n",
    "\n",
    "# Set D3 colors as the default color cycle\n",
    "plt.rcParams['axes.prop_cycle'] = plt.cycler(color=d3_colors)\n",
    "\n",
    "\n",
    "def set_plot_style_default():\n",
    "    # General font settings\n",
    "    plt.rcParams['font.family'] = 'Sans Serif'      # Use Ariel like overleaf\n",
    "    plt.rcParams['font.size'] = 12             # Base font size for readability\n",
    "    plt.rcParams['axes.titlesize'] = 14        # Larger title font size\n",
    "    plt.rcParams['axes.labelsize'] = 12        # Label font size\n",
    "    plt.rcParams['xtick.labelsize'] = 10       # X-tick font size\n",
    "    plt.rcParams['ytick.labelsize'] = 10       # Y-tick font size\n",
    "    plt.rcParams['legend.fontsize'] = 10       # Legend font size\n",
    "    \n",
    "    # Line and marker settings\n",
    "    plt.rcParams['lines.linewidth'] = 1.5      # Make lines thicker for better visibility\n",
    "    plt.rcParams['lines.markersize'] = 6       # Standard marker size\n",
    "    \n",
    "    # Axes and grid settings\n",
    "    plt.rcParams['axes.grid'] = True           # Enable grid\n",
    "    plt.rcParams['grid.linestyle'] = '--'      # Use dashed line for grid\n",
    "    plt.rcParams['grid.alpha'] = 0.7           # Grid transparency\n",
    "    plt.rcParams['axes.edgecolor'] = 'black'   # Black border around plot area\n",
    "    plt.rcParams['axes.linewidth'] = 1         # Border line thickness\n",
    "\n",
    "    # Ensure grid is below the plot elements\n",
    "    plt.rcParams['axes.axisbelow'] = True          # Grid lines below plot elements\n",
    "\n",
    "    # Legend settings\n",
    "    plt.rcParams['legend.frameon'] = True      # Frame around the legend\n",
    "    plt.rcParams['legend.framealpha'] = 0.9    # Slightly transparent legend background\n",
    "    plt.rcParams['legend.loc'] = 'best'        # Automatically place legend in the best location\n",
    "\n",
    "    # Tick direction\n",
    "    plt.rcParams['xtick.direction'] = 'in'     # Inward tick direction for x-axis\n",
    "    plt.rcParams['ytick.direction'] = 'in'     # Inward tick direction for y-axis\n"
   ]
  },
  {
   "cell_type": "code",
   "execution_count": null,
   "metadata": {},
   "outputs": [
    {
     "name": "stdout",
     "output_type": "stream",
     "text": [
      "[(808, 135), (526, 245), (326, 264), (705, 244)]\n",
      "[(861, 510), (567, 312), (410, 390), (654, 305), (844, 334)]\n",
      "[4, 110, 124, 141, 193, 219, 242, 261, 285]\n"
     ]
    }
   ],
   "source": [
    "# get video 6 clip 1\n",
    "clip = data[\"subsets\"][0][\"videos\"][5][\"clips\"][0]\n",
    "\n",
    "ball_positions = []\n",
    "hits = []\n",
    "bounces = []\n",
    "indexes = []\n",
    "i = 0\n",
    "# loop over frames\n",
    "for frame, objects in clip[\"frames_with_objects\"].items():\n",
    "    if len(objects['balls']) > 0:\n",
    "        ball_positions.append((objects['balls'][0]['x'], objects['balls'][0]['y']))\n",
    "        if objects['balls'][0]['trajectory'] == 'Hit':\n",
    "            hits.append((objects['balls'][0]['x'], objects['balls'][0]['y']))\n",
    "            indexes.append(i)\n",
    "        elif objects['balls'][0]['trajectory'] == 'Bounce':\n",
    "            bounces.append((objects['balls'][0]['x'], objects['balls'][0]['y']))\n",
    "            indexes.append(i)\n",
    "    else:\n",
    "        ball_positions.append((None, None))\n",
    "    i += 1\n",
    "\n",
    "print(hits)\n",
    "print(bounces)\n",
    "print(indexes)"
   ]
  },
  {
   "cell_type": "code",
   "execution_count": null,
   "metadata": {},
   "outputs": [
    {
     "data": {
      "image/png": "[encoded data removed]",
      "text/plain": [
       "<Figure size 1200x700 with 2 Axes>"
      ]
     },
     "metadata": {},
     "output_type": "display_data"
    }
   ],
   "source": [
    "set_plot_style_default()\n",
    "\n",
    "# replace indexes with (None, None) \n",
    "ball_positions_filtered = ball_positions.copy()\n",
    "for index in indexes:\n",
    "    ball_positions_filtered[index] = (None, None)\n",
    "\n",
    "# plot ball positions\n",
    "ball_positions_filtered = np.array(ball_positions_filtered)\n",
    "hits= np.array(hits)\n",
    "bounces = np.array(bounces)\n",
    "\n",
    "# Simulated time \n",
    "time = np.arange(len(ball_positions_filtered))  # Frames from 0 to length of ball_positions_filtered\n",
    "\n",
    "# Create figure and axis\n",
    "fig, ax = plt.subplots(figsize=(12, 7))\n",
    "\n",
    "# Plot ball positions\n",
    "scatter = ax.scatter(ball_positions_filtered[:, 0], ball_positions_filtered[:, 1], c=time, cmap='viridis', s=100, edgecolor='k')\n",
    "\n",
    "# Add hits and bounces\n",
    "if hits.size > 0:\n",
    "    ax.scatter(hits[:, 0], hits[:, 1], color=d3_colors[1], label='Hits', marker='^', s=170, edgecolors='k')\n",
    "if bounces.size > 0:\n",
    "    ax.scatter(bounces[:, 0], bounces[:, 1], color=d3_colors[9], label='Bounces', marker='X', s=170, edgecolors='k')\n",
    "\n",
    "# Adjust plot settings\n",
    "ax.invert_yaxis()\n",
    "ax.set_xlim(0, 1280)\n",
    "ax.set_ylim(720, 0)\n",
    "ax.set_xlabel(\"Frame Width\")\n",
    "ax.set_ylabel(\"Frame Height\")\n",
    "ax.legend()\n",
    "\n",
    "# Add colorbar for time progression with adjusted position\n",
    "divider = make_axes_locatable(ax)\n",
    "cax = divider.append_axes(\"right\", size=\"2.5%\", pad=0.1)\n",
    "cbar = fig.colorbar(scatter, cax=cax)\n",
    "cbar.set_label(\"Time Progression\", rotation=270, labelpad=15)\n",
    "\n",
    "# Show plot\n",
    "plt.show()\n"
   ]
  },
  {
   "cell_type": "markdown",
   "metadata": {},
   "source": [
    "## bounce and hit prediction"
   ]
  },
  {
   "cell_type": "code",
   "execution_count": 9,
   "metadata": {},
   "outputs": [
    {
     "data": {
      "text/html": [
       "<div>\n",
       "<style scoped>\n",
       "    .dataframe tbody tr th:only-of-type {\n",
       "        vertical-align: middle;\n",
       "    }\n",
       "\n",
       "    .dataframe tbody tr th {\n",
       "        vertical-align: top;\n",
       "    }\n",
       "\n",
       "    .dataframe thead th {\n",
       "        text-align: right;\n",
       "    }\n",
       "</style>\n",
       "<table border=\"1\" class=\"dataframe\">\n",
       "  <thead>\n",
       "    <tr style=\"text-align: right;\">\n",
       "      <th></th>\n",
       "      <th>subset</th>\n",
       "      <th>video</th>\n",
       "      <th>clip</th>\n",
       "      <th>frame</th>\n",
       "      <th>file_path</th>\n",
       "      <th>points</th>\n",
       "    </tr>\n",
       "  </thead>\n",
       "  <tbody>\n",
       "    <tr>\n",
       "      <th>0</th>\n",
       "      <td>New</td>\n",
       "      <td>Video_1</td>\n",
       "      <td>clip_1</td>\n",
       "      <td>0</td>\n",
       "      <td>../FinalDataset/New/Video_1/clip_1/0.jpg</td>\n",
       "      <td>[{'x': 418, 'y': 551, 'visibility': 'Visible',...</td>\n",
       "    </tr>\n",
       "    <tr>\n",
       "      <th>1</th>\n",
       "      <td>New</td>\n",
       "      <td>Video_1</td>\n",
       "      <td>clip_1</td>\n",
       "      <td>1</td>\n",
       "      <td>../FinalDataset/New/Video_1/clip_1/1.jpg</td>\n",
       "      <td>[{'x': 420, 'y': 550, 'visibility': 'Visible',...</td>\n",
       "    </tr>\n",
       "    <tr>\n",
       "      <th>2</th>\n",
       "      <td>New</td>\n",
       "      <td>Video_1</td>\n",
       "      <td>clip_1</td>\n",
       "      <td>2</td>\n",
       "      <td>../FinalDataset/New/Video_1/clip_1/2.jpg</td>\n",
       "      <td>[{'x': 423, 'y': 554, 'visibility': 'Visible',...</td>\n",
       "    </tr>\n",
       "    <tr>\n",
       "      <th>3</th>\n",
       "      <td>New</td>\n",
       "      <td>Video_1</td>\n",
       "      <td>clip_1</td>\n",
       "      <td>3</td>\n",
       "      <td>../FinalDataset/New/Video_1/clip_1/3.jpg</td>\n",
       "      <td>[{'x': 427, 'y': 562, 'visibility': 'Visible',...</td>\n",
       "    </tr>\n",
       "    <tr>\n",
       "      <th>4</th>\n",
       "      <td>New</td>\n",
       "      <td>Video_1</td>\n",
       "      <td>clip_1</td>\n",
       "      <td>4</td>\n",
       "      <td>../FinalDataset/New/Video_1/clip_1/4.jpg</td>\n",
       "      <td>[{'x': 430, 'y': 575, 'visibility': 'Visible',...</td>\n",
       "    </tr>\n",
       "  </tbody>\n",
       "</table>\n",
       "</div>"
      ],
      "text/plain": [
       "  subset    video    clip  frame                                 file_path  \\\n",
       "0    New  Video_1  clip_1      0  ../FinalDataset/New/Video_1/clip_1/0.jpg   \n",
       "1    New  Video_1  clip_1      1  ../FinalDataset/New/Video_1/clip_1/1.jpg   \n",
       "2    New  Video_1  clip_1      2  ../FinalDataset/New/Video_1/clip_1/2.jpg   \n",
       "3    New  Video_1  clip_1      3  ../FinalDataset/New/Video_1/clip_1/3.jpg   \n",
       "4    New  Video_1  clip_1      4  ../FinalDataset/New/Video_1/clip_1/4.jpg   \n",
       "\n",
       "                                              points  \n",
       "0  [{'x': 418, 'y': 551, 'visibility': 'Visible',...  \n",
       "1  [{'x': 420, 'y': 550, 'visibility': 'Visible',...  \n",
       "2  [{'x': 423, 'y': 554, 'visibility': 'Visible',...  \n",
       "3  [{'x': 427, 'y': 562, 'visibility': 'Visible',...  \n",
       "4  [{'x': 430, 'y': 575, 'visibility': 'Visible',...  "
      ]
     },
     "execution_count": 9,
     "metadata": {},
     "output_type": "execute_result"
    }
   ],
   "source": [
    "def scale_points(point, scale):\n",
    "    # scale and round to int\n",
    "    return (int(point[0] * scale), int(point[1] * scale))\n",
    "\n",
    "# read the data\n",
    "def convert_json_to_df(json_data, split='train', resolution=[1280, 720], file_path='../FinalDataset/'):\n",
    "    rows = []\n",
    "    for subset in json_data['subsets']:\n",
    "        resolution_subset= subset['resolution']\n",
    "        if 'ball' in subset['objects']:\n",
    "            for video in subset['videos']:\n",
    "                for clip in video['clips']:\n",
    "                    for frame_number, frame in clip['frames_with_objects'].items():    \n",
    "                        if frame['split'] != split:\n",
    "                            continue\n",
    "                        points = []\n",
    "                        for ball in frame['balls']:\n",
    "                            if ball['visibility'] not in ['Outside'] and ball['trajectory'] not in ['', 'Static']:\n",
    "                                point = scale_points([ball['x'],ball['y']], resolution[0] / resolution_subset[0])\n",
    "                                point_object = {'x': point[0], 'y': point[1], 'visibility': ball['visibility'], 'trajectory': ball['trajectory']}\n",
    "                                points.append(point_object)\n",
    "\n",
    "                        file_path_full = file_path + subset['name'] + '/' + video['name'] + '/' + clip['name'] + '/' + frame_number + '.jpg'\n",
    "                        rows.append({\n",
    "                            'subset': subset['name'],\n",
    "                            'video': video['name'],\n",
    "                            'clip': clip['name'],\n",
    "                            'frame': int(frame_number), \n",
    "                            'file_path': file_path_full, \n",
    "                            'points': points\n",
    "                        })\n",
    "\n",
    "    return pd.DataFrame(rows)\n",
    "\n",
    "df_train = convert_json_to_df(data, split='train')\n",
    "df_test = convert_json_to_df(data, split='test')\n",
    "df_val = convert_json_to_df(data, split='validation') \n",
    "\n",
    "df_train.head()"
   ]
  },
  {
   "cell_type": "code",
   "execution_count": 10,
   "metadata": {},
   "outputs": [
    {
     "data": {
      "text/html": [
       "<div>\n",
       "<style scoped>\n",
       "    .dataframe tbody tr th:only-of-type {\n",
       "        vertical-align: middle;\n",
       "    }\n",
       "\n",
       "    .dataframe tbody tr th {\n",
       "        vertical-align: top;\n",
       "    }\n",
       "\n",
       "    .dataframe thead th {\n",
       "        text-align: right;\n",
       "    }\n",
       "</style>\n",
       "<table border=\"1\" class=\"dataframe\">\n",
       "  <thead>\n",
       "    <tr style=\"text-align: right;\">\n",
       "      <th></th>\n",
       "      <th>subset</th>\n",
       "      <th>video</th>\n",
       "      <th>clip</th>\n",
       "      <th>frame</th>\n",
       "      <th>x</th>\n",
       "      <th>y</th>\n",
       "      <th>trajectory</th>\n",
       "      <th>velocity</th>\n",
       "      <th>direction</th>\n",
       "      <th>slope</th>\n",
       "    </tr>\n",
       "  </thead>\n",
       "  <tbody>\n",
       "    <tr>\n",
       "      <th>0</th>\n",
       "      <td>New</td>\n",
       "      <td>Video_1</td>\n",
       "      <td>clip_1</td>\n",
       "      <td>0</td>\n",
       "      <td>418</td>\n",
       "      <td>551</td>\n",
       "      <td>Flying</td>\n",
       "      <td>NaN</td>\n",
       "      <td>NaN</td>\n",
       "      <td>NaN</td>\n",
       "    </tr>\n",
       "    <tr>\n",
       "      <th>1</th>\n",
       "      <td>New</td>\n",
       "      <td>Video_1</td>\n",
       "      <td>clip_1</td>\n",
       "      <td>1</td>\n",
       "      <td>420</td>\n",
       "      <td>550</td>\n",
       "      <td>Flying</td>\n",
       "      <td>2.236068</td>\n",
       "      <td>333.434949</td>\n",
       "      <td>-0.500000</td>\n",
       "    </tr>\n",
       "    <tr>\n",
       "      <th>2</th>\n",
       "      <td>New</td>\n",
       "      <td>Video_1</td>\n",
       "      <td>clip_1</td>\n",
       "      <td>2</td>\n",
       "      <td>423</td>\n",
       "      <td>554</td>\n",
       "      <td>Flying</td>\n",
       "      <td>5.000000</td>\n",
       "      <td>53.130102</td>\n",
       "      <td>1.333333</td>\n",
       "    </tr>\n",
       "    <tr>\n",
       "      <th>3</th>\n",
       "      <td>New</td>\n",
       "      <td>Video_1</td>\n",
       "      <td>clip_1</td>\n",
       "      <td>3</td>\n",
       "      <td>427</td>\n",
       "      <td>562</td>\n",
       "      <td>Flying</td>\n",
       "      <td>8.944272</td>\n",
       "      <td>63.434949</td>\n",
       "      <td>2.000000</td>\n",
       "    </tr>\n",
       "    <tr>\n",
       "      <th>4</th>\n",
       "      <td>New</td>\n",
       "      <td>Video_1</td>\n",
       "      <td>clip_1</td>\n",
       "      <td>4</td>\n",
       "      <td>430</td>\n",
       "      <td>575</td>\n",
       "      <td>Flying</td>\n",
       "      <td>13.341664</td>\n",
       "      <td>77.005383</td>\n",
       "      <td>4.333333</td>\n",
       "    </tr>\n",
       "  </tbody>\n",
       "</table>\n",
       "</div>"
      ],
      "text/plain": [
       "  subset    video    clip  frame    x    y trajectory   velocity   direction  \\\n",
       "0    New  Video_1  clip_1      0  418  551     Flying        NaN         NaN   \n",
       "1    New  Video_1  clip_1      1  420  550     Flying   2.236068  333.434949   \n",
       "2    New  Video_1  clip_1      2  423  554     Flying   5.000000   53.130102   \n",
       "3    New  Video_1  clip_1      3  427  562     Flying   8.944272   63.434949   \n",
       "4    New  Video_1  clip_1      4  430  575     Flying  13.341664   77.005383   \n",
       "\n",
       "      slope  \n",
       "0       NaN  \n",
       "1 -0.500000  \n",
       "2  1.333333  \n",
       "3  2.000000  \n",
       "4  4.333333  "
      ]
     },
     "execution_count": 10,
     "metadata": {},
     "output_type": "execute_result"
    }
   ],
   "source": [
    "def calculate_Features(df):\n",
    "    for index in range(1, len(df)-1):\n",
    "        current_position = (df.loc[index, 'x'], df.loc[index, 'y'])\n",
    "        previous_position = (df.loc[index-1, 'x'], df.loc[index-1, 'y'])\n",
    "\n",
    "        df.loc[index, 'velocity'] = calculateVelocity(current_position, previous_position)\n",
    "        df.loc[index, 'direction'] = calculateDirection(current_position, previous_position)\n",
    "        df.loc[index, 'slope'] = calculateSlope(current_position, previous_position)\n",
    "\n",
    "    return df\n",
    "\n",
    "\n",
    "def calculateVelocity(current_position, previous_position):\n",
    "    # check if value is missing\n",
    "    if pd.isnull(current_position[0]) or pd.isnull(previous_position[0]):\n",
    "        return -1\n",
    "\n",
    "    distane_travelled = distance.euclidean(current_position, previous_position)\n",
    "\n",
    "    return distane_travelled\n",
    "\n",
    "\n",
    "def calculateDirection(current_position, previous_position):\n",
    "   # check if value is missing\n",
    "    if pd.isnull(current_position[0]) or pd.isnull(previous_position[0]):\n",
    "        return -1\n",
    "    \n",
    "    x1, y1 = previous_position\n",
    "    x2, y2 = current_position\n",
    "\n",
    "    # Calculate the change in x and y\n",
    "    delta_x = x2 - x1\n",
    "    delta_y = y2 - y1\n",
    "\n",
    "    # Compute the angle using atan2\n",
    "    angle = np.arctan2(delta_y, delta_x)\n",
    "\n",
    "    # Convert the angle to degrees and normalize to 0–360\n",
    "    direction = (np.degrees(angle) + 360) % 360\n",
    "\n",
    "    return direction\n",
    "\n",
    "def calculateSlope(current_position, previous_position):\n",
    "   # check if value is missing\n",
    "    if pd.isnull(current_position[0]) or pd.isnull(previous_position[0]):\n",
    "        return -1\n",
    "\n",
    "    x1, y1 = previous_position\n",
    "    x2, y2 = current_position\n",
    "\n",
    "    slope = (y2 - y1) / (x2 - x1) if x2 - x1 != 0 else 0\n",
    "    return slope\n",
    "\n",
    "\n",
    "def preprocess_df (df):\n",
    "    # Create a new dataframe with the same columns\n",
    "    df_new = df.copy()\n",
    "\n",
    "    # Create new columns for the x and y coordinates\n",
    "    df_new['x'] = None\n",
    "    df_new['y'] = None\n",
    "    df_new['trajectory'] = None\n",
    "\n",
    "    # Loop over the rows in the dataframe\n",
    "    for index, row in df.iterrows():\n",
    "        # Loop over the points in the 'points' column\n",
    "        for point in row['points']:\n",
    "            # check if length of points is 0\n",
    "            if len(row['points']) == 0:\n",
    "                df_new.loc[index, 'x'] = None\n",
    "                df_new.loc[index, 'y'] = None\n",
    "                df_new.loc[index, 'trajectory'] = None\n",
    "                continue\n",
    "            point = row['points'][0]\n",
    "            # Set the x and y coordinates\n",
    "            df_new.loc[index, 'x'] = point['x']\n",
    "            df_new.loc[index, 'y'] = point['y']\n",
    "            df_new.loc[index, 'trajectory'] = point['trajectory']\n",
    "\n",
    "    # Drop the 'points' column\n",
    "    df_new = df_new.drop(columns=['points', 'file_path'])\n",
    "\n",
    "    df_new = calculate_Features(df_new)\n",
    "\n",
    "    return df_new\n",
    "\n",
    "df_train = preprocess_df(df_train)\n",
    "\n",
    "df_test = preprocess_df(df_test)\n",
    "\n",
    "df_val = preprocess_df(df_val)\n",
    "\n",
    "df_train.head(5)"
   ]
  },
  {
   "cell_type": "markdown",
   "metadata": {},
   "source": [
    "## test xgboost"
   ]
  },
  {
   "cell_type": "code",
   "execution_count": null,
   "metadata": {},
   "outputs": [],
   "source": [
    "def convert_to_time_series_data(df, window_size=5):\n",
    "    # get unique combinations of subset, video, clip\n",
    "    unique_combinations = df[['subset', 'video', 'clip']].drop_duplicates()\n",
    "\n",
    "    rows = []\n",
    "\n",
    "    for _, row in unique_combinations.iterrows():\n",
    "        subset = row['subset']\n",
    "        video = row['video']\n",
    "        clip = row['clip']\n",
    "        df_subset = df[(df['subset'] == subset) & (df['video'] == video) & (df['clip'] == clip)].sort_values(by='frame').reset_index(drop=True)\n",
    "\n",
    "        for index, row in df_subset.iterrows():\n",
    "            if index <= window_size or index > len(df_subset) - window_size:\n",
    "                continue\n",
    "\n",
    "            previous_frames = {}\n",
    "            for i in range(window_size, 1, -1):\n",
    "                lag_stamp = 'previous_' + str(i) + '_'\n",
    "                previous_frames[lag_stamp + 'x'] = df_subset.loc[index-i, 'x']\n",
    "                previous_frames[lag_stamp + 'y'] = df_subset.loc[index-i, 'y']\n",
    "                previous_frames[lag_stamp + 'velocity'] = df_subset.loc[index-i, 'velocity']\n",
    "                previous_frames[lag_stamp + 'direction'] = df_subset.loc[index-i, 'direction']\n",
    "\n",
    "            current_frame = {\n",
    "                'x': row['x'],\n",
    "                'y': row['y'],\n",
    "                'velocity': row['velocity'],\n",
    "                'direction': row['direction'],\n",
    "                'trajectory': row['trajectory']\n",
    "            } \n",
    "\n",
    "            future_frames = {}\n",
    "            for i in range(1, window_size):\n",
    "                lag_stamp = 'following_' + str(i) + '_'\n",
    "                future_frames[lag_stamp + 'x'] = df_subset.loc[index+i, 'x']\n",
    "                future_frames[lag_stamp + 'y'] = df_subset.loc[index+i, 'y']\n",
    "                future_frames[lag_stamp + 'velocity'] = df_subset.loc[index-i, 'velocity']\n",
    "                future_frames[lag_stamp + 'direction'] = df_subset.loc[index-i, 'direction']\n",
    "\n",
    "            rows.append({\n",
    "                'subset': subset,\n",
    "                'video': video,\n",
    "                'clip': clip,\n",
    "                'frame': row['frame'],\n",
    "                'x': current_frame['x'],\n",
    "                'y': current_frame['y'],\n",
    "                'trajectory': current_frame['trajectory'],\n",
    "                'velocity': current_frame['velocity'],\n",
    "                'direction': current_frame['direction'],\n",
    "                **previous_frames,\n",
    "                **future_frames\n",
    "            })\n",
    "\n",
    "    return pd.DataFrame(rows)\n",
    "\n",
    "df_train_time_series = convert_to_time_series_data(df_train)\n",
    "df_test_time_series = convert_to_time_series_data(df_test)\n",
    "df_val_time_series = convert_to_time_series_data(df_val)"
   ]
  },
  {
   "cell_type": "code",
   "execution_count": null,
   "metadata": {},
   "outputs": [
    {
     "data": {
      "text/html": [
       "<div>\n",
       "<style scoped>\n",
       "    .dataframe tbody tr th:only-of-type {\n",
       "        vertical-align: middle;\n",
       "    }\n",
       "\n",
       "    .dataframe tbody tr th {\n",
       "        vertical-align: top;\n",
       "    }\n",
       "\n",
       "    .dataframe thead th {\n",
       "        text-align: right;\n",
       "    }\n",
       "</style>\n",
       "<table border=\"1\" class=\"dataframe\">\n",
       "  <thead>\n",
       "    <tr style=\"text-align: right;\">\n",
       "      <th></th>\n",
       "      <th>subset</th>\n",
       "      <th>video</th>\n",
       "      <th>clip</th>\n",
       "      <th>frame</th>\n",
       "      <th>x</th>\n",
       "      <th>y</th>\n",
       "      <th>trajectory</th>\n",
       "      <th>velocity</th>\n",
       "      <th>direction</th>\n",
       "      <th>previous_5_x</th>\n",
       "      <th>...</th>\n",
       "      <th>following_2_velocity</th>\n",
       "      <th>following_2_direction</th>\n",
       "      <th>following_3_x</th>\n",
       "      <th>following_3_y</th>\n",
       "      <th>following_3_velocity</th>\n",
       "      <th>following_3_direction</th>\n",
       "      <th>following_4_x</th>\n",
       "      <th>following_4_y</th>\n",
       "      <th>following_4_velocity</th>\n",
       "      <th>following_4_direction</th>\n",
       "    </tr>\n",
       "  </thead>\n",
       "  <tbody>\n",
       "    <tr>\n",
       "      <th>0</th>\n",
       "      <td>New</td>\n",
       "      <td>Video_1</td>\n",
       "      <td>clip_1</td>\n",
       "      <td>6</td>\n",
       "      <td>432.0</td>\n",
       "      <td>612.0</td>\n",
       "      <td>Flying</td>\n",
       "      <td>19.000000</td>\n",
       "      <td>90.000000</td>\n",
       "      <td>420.0</td>\n",
       "      <td>...</td>\n",
       "      <td>13.341664</td>\n",
       "      <td>77.005383</td>\n",
       "      <td>433.0</td>\n",
       "      <td>659.0</td>\n",
       "      <td>8.944272</td>\n",
       "      <td>63.434949</td>\n",
       "      <td>432.0</td>\n",
       "      <td>640.0</td>\n",
       "      <td>5.000000</td>\n",
       "      <td>53.130102</td>\n",
       "    </tr>\n",
       "    <tr>\n",
       "      <th>1</th>\n",
       "      <td>New</td>\n",
       "      <td>Video_1</td>\n",
       "      <td>clip_1</td>\n",
       "      <td>7</td>\n",
       "      <td>435.0</td>\n",
       "      <td>632.0</td>\n",
       "      <td>Flying</td>\n",
       "      <td>20.223748</td>\n",
       "      <td>81.469234</td>\n",
       "      <td>423.0</td>\n",
       "      <td>...</td>\n",
       "      <td>18.110770</td>\n",
       "      <td>83.659808</td>\n",
       "      <td>432.0</td>\n",
       "      <td>640.0</td>\n",
       "      <td>13.341664</td>\n",
       "      <td>77.005383</td>\n",
       "      <td>429.0</td>\n",
       "      <td>625.0</td>\n",
       "      <td>8.944272</td>\n",
       "      <td>63.434949</td>\n",
       "    </tr>\n",
       "    <tr>\n",
       "      <th>2</th>\n",
       "      <td>New</td>\n",
       "      <td>Video_1</td>\n",
       "      <td>clip_1</td>\n",
       "      <td>8</td>\n",
       "      <td>435.0</td>\n",
       "      <td>652.0</td>\n",
       "      <td>Flying</td>\n",
       "      <td>20.000000</td>\n",
       "      <td>90.000000</td>\n",
       "      <td>427.0</td>\n",
       "      <td>...</td>\n",
       "      <td>19.000000</td>\n",
       "      <td>90.000000</td>\n",
       "      <td>429.0</td>\n",
       "      <td>625.0</td>\n",
       "      <td>18.110770</td>\n",
       "      <td>83.659808</td>\n",
       "      <td>426.0</td>\n",
       "      <td>610.0</td>\n",
       "      <td>13.341664</td>\n",
       "      <td>77.005383</td>\n",
       "    </tr>\n",
       "    <tr>\n",
       "      <th>3</th>\n",
       "      <td>New</td>\n",
       "      <td>Video_1</td>\n",
       "      <td>clip_1</td>\n",
       "      <td>9</td>\n",
       "      <td>433.0</td>\n",
       "      <td>659.0</td>\n",
       "      <td>Bounce</td>\n",
       "      <td>7.280110</td>\n",
       "      <td>105.945396</td>\n",
       "      <td>430.0</td>\n",
       "      <td>...</td>\n",
       "      <td>20.223748</td>\n",
       "      <td>81.469234</td>\n",
       "      <td>426.0</td>\n",
       "      <td>610.0</td>\n",
       "      <td>19.000000</td>\n",
       "      <td>90.000000</td>\n",
       "      <td>424.0</td>\n",
       "      <td>598.0</td>\n",
       "      <td>18.110770</td>\n",
       "      <td>83.659808</td>\n",
       "    </tr>\n",
       "    <tr>\n",
       "      <th>4</th>\n",
       "      <td>New</td>\n",
       "      <td>Video_1</td>\n",
       "      <td>clip_1</td>\n",
       "      <td>10</td>\n",
       "      <td>432.0</td>\n",
       "      <td>640.0</td>\n",
       "      <td>Flying</td>\n",
       "      <td>19.026298</td>\n",
       "      <td>266.987212</td>\n",
       "      <td>432.0</td>\n",
       "      <td>...</td>\n",
       "      <td>20.000000</td>\n",
       "      <td>90.000000</td>\n",
       "      <td>424.0</td>\n",
       "      <td>598.0</td>\n",
       "      <td>20.223748</td>\n",
       "      <td>81.469234</td>\n",
       "      <td>420.0</td>\n",
       "      <td>585.0</td>\n",
       "      <td>19.000000</td>\n",
       "      <td>90.000000</td>\n",
       "    </tr>\n",
       "  </tbody>\n",
       "</table>\n",
       "<p>5 rows × 41 columns</p>\n",
       "</div>"
      ],
      "text/plain": [
       "  subset    video    clip  frame      x      y trajectory   velocity  \\\n",
       "0    New  Video_1  clip_1      6  432.0  612.0     Flying  19.000000   \n",
       "1    New  Video_1  clip_1      7  435.0  632.0     Flying  20.223748   \n",
       "2    New  Video_1  clip_1      8  435.0  652.0     Flying  20.000000   \n",
       "3    New  Video_1  clip_1      9  433.0  659.0     Bounce   7.280110   \n",
       "4    New  Video_1  clip_1     10  432.0  640.0     Flying  19.026298   \n",
       "\n",
       "    direction  previous_5_x  ...  following_2_velocity  following_2_direction  \\\n",
       "0   90.000000         420.0  ...             13.341664              77.005383   \n",
       "1   81.469234         423.0  ...             18.110770              83.659808   \n",
       "2   90.000000         427.0  ...             19.000000              90.000000   \n",
       "3  105.945396         430.0  ...             20.223748              81.469234   \n",
       "4  266.987212         432.0  ...             20.000000              90.000000   \n",
       "\n",
       "   following_3_x  following_3_y  following_3_velocity  following_3_direction  \\\n",
       "0          433.0          659.0              8.944272              63.434949   \n",
       "1          432.0          640.0             13.341664              77.005383   \n",
       "2          429.0          625.0             18.110770              83.659808   \n",
       "3          426.0          610.0             19.000000              90.000000   \n",
       "4          424.0          598.0             20.223748              81.469234   \n",
       "\n",
       "   following_4_x  following_4_y  following_4_velocity  following_4_direction  \n",
       "0          432.0          640.0              5.000000              53.130102  \n",
       "1          429.0          625.0              8.944272              63.434949  \n",
       "2          426.0          610.0             13.341664              77.005383  \n",
       "3          424.0          598.0             18.110770              83.659808  \n",
       "4          420.0          585.0             19.000000              90.000000  \n",
       "\n",
       "[5 rows x 41 columns]"
      ]
     },
     "execution_count": 10,
     "metadata": {},
     "output_type": "execute_result"
    }
   ],
   "source": [
    "df_train_time_series.head()"
   ]
  },
  {
   "cell_type": "code",
   "execution_count": null,
   "metadata": {},
   "outputs": [
    {
     "name": "stdout",
     "output_type": "stream",
     "text": [
      "(18923, 36)\n",
      "(18923, 1)\n"
     ]
    }
   ],
   "source": [
    "x_columns =  ['x', 'y', 'velocity',\n",
    "       'direction', 'previous_5_x', 'previous_5_y', 'previous_5_velocity',\n",
    "       'previous_5_direction', 'previous_4_x', 'previous_4_y',\n",
    "       'previous_4_velocity', 'previous_4_direction', 'previous_3_x',\n",
    "       'previous_3_y', 'previous_3_velocity', 'previous_3_direction',\n",
    "       'previous_2_x', 'previous_2_y', 'previous_2_velocity',\n",
    "       'previous_2_direction', 'following_1_x', 'following_1_y',\n",
    "       'following_1_velocity', 'following_1_direction', 'following_2_x',\n",
    "       'following_2_y', 'following_2_velocity', 'following_2_direction',\n",
    "       'following_3_x', 'following_3_y', 'following_3_velocity',\n",
    "       'following_3_direction', 'following_4_x', 'following_4_y',\n",
    "       'following_4_velocity', 'following_4_direction']\n",
    "y_columns = ['trajectory']\n",
    "\n",
    "# create copies\n",
    "df_train_time_series_copy = df_train_time_series.copy()\n",
    "df_test_time_series_copy = df_test_time_series.copy()\n",
    "df_val_time_series_copy = df_val_time_series.copy()\n",
    "\n",
    "# encode trajectory\n",
    "dict_trajectory = {\"Flying\":0, \"Hit\":1, \"Bounce\":2}\n",
    "df_train_time_series_copy['trajectory'] = df_train_time_series_copy['trajectory'].map(dict_trajectory)\n",
    "df_test_time_series_copy['trajectory'] = df_test_time_series_copy['trajectory'].map(dict_trajectory)\n",
    "df_val_time_series_copy['trajectory'] = df_val_time_series_copy['trajectory'].map(dict_trajectory)\n",
    "\n",
    "allcolumns= x_columns + y_columns\n",
    "#remove rows with missing values\n",
    "df_train_time_series_copy = df_train_time_series_copy.dropna(subset=allcolumns)\n",
    "df_test_time_series_copy = df_test_time_series_copy.dropna(subset=allcolumns)\n",
    "df_val_time_series_copy = df_val_time_series_copy.dropna(subset=allcolumns)\n",
    "\n",
    "# Split the data into X and y\n",
    "X_train = df_train_time_series_copy[x_columns]\n",
    "y_train = df_train_time_series_copy[y_columns]\n",
    "\n",
    "X_test = df_test_time_series_copy[x_columns]\n",
    "y_test = df_test_time_series_copy[y_columns]\n",
    "\n",
    "X_val = df_val_time_series_copy[x_columns]\n",
    "y_val = df_val_time_series_copy[y_columns]\n",
    "\n",
    "print (X_train.shape)\n",
    "print (y_train.shape)\n"
   ]
  },
  {
   "cell_type": "code",
   "execution_count": null,
   "metadata": {},
   "outputs": [
    {
     "name": "stdout",
     "output_type": "stream",
     "text": [
      "Train: 0.0    17975\n",
      "2.0      479\n",
      "1.0      469\n",
      "Name: trajectory, dtype: int64\n",
      "Test: 0.0    3699\n",
      "2.0     110\n",
      "1.0      87\n",
      "Name: trajectory, dtype: int64\n",
      "Validation: 0.0    3798\n",
      "2.0     100\n",
      "1.0      94\n",
      "Name: trajectory, dtype: int64\n"
     ]
    }
   ],
   "source": [
    "# show class imbalance\n",
    "print('Train:', y_train['trajectory'].value_counts())\n",
    "print('Test:', y_test['trajectory'].value_counts())\n",
    "print('Validation:', y_val['trajectory'].value_counts())"
   ]
  },
  {
   "cell_type": "code",
   "execution_count": null,
   "metadata": {},
   "outputs": [
    {
     "name": "stdout",
     "output_type": "stream",
     "text": [
      "Counter({0.3509133055169216: 17975, 13.16840640222686: 479, 13.449182658137882: 469})\n",
      "Classification Report on Test Set:\n",
      "              precision    recall  f1-score   support\n",
      "\n",
      "         0.0       0.97      0.99      0.98      3699\n",
      "         1.0       0.48      0.28      0.35        87\n",
      "         2.0       0.67      0.50      0.57       110\n",
      "\n",
      "    accuracy                           0.96      3896\n",
      "   macro avg       0.71      0.59      0.63      3896\n",
      "weighted avg       0.95      0.96      0.95      3896\n",
      "\n"
     ]
    }
   ],
   "source": [
    "# Train an XGBoost classifier\n",
    "xgb = XGBClassifier(\n",
    "    n_estimators=300,      # Number of trees\n",
    "    learning_rate=0.1,     # Step size shrinkage\n",
    "    max_depth=10,           # Maximum tree depth\n",
    "    subsample=0.8,         # Row sampling\n",
    "    colsample_bytree=0.8,  # Feature sampling\n",
    "    random_state=42,\n",
    "    use_label_encoder=False,\n",
    "    objective='multi:softmax', \n",
    "    eval_metric='mlogloss',\n",
    "    verbosity =0 \n",
    ")\n",
    "\n",
    "# Compute sample_weight using compute_sample_weight\n",
    "sample_weight = compute_sample_weight('balanced', y_train)\n",
    "# print uqiue weights\n",
    "print(Counter(sample_weight))\n",
    "# Fit the model on the training data\n",
    "xgb.fit(X_train, y_train, eval_set=[(X_val, y_val)], verbose=False, sample_weight=sample_weight)\n",
    "\n",
    "# Predict on the test set\n",
    "y_pred = xgb.predict(X_test)\n",
    "\n",
    "# Evaluate the model\n",
    "print(\"Classification Report on Test Set:\")\n",
    "print(classification_report(y_test, y_pred))"
   ]
  },
  {
   "cell_type": "code",
   "execution_count": null,
   "metadata": {},
   "outputs": [
    {
     "name": "stdout",
     "output_type": "stream",
     "text": [
      "Counter({0.3509133055169216: 17975, 13.16840640222686: 479, 13.449182658137882: 469})\n",
      "Classification Report on Test Set:\n",
      "              precision    recall  f1-score   support\n",
      "\n",
      "         0.0       0.97      0.99      0.98      3699\n",
      "         1.0       0.48      0.28      0.35        87\n",
      "         2.0       0.67      0.50      0.57       110\n",
      "\n",
      "    accuracy                           0.96      3896\n",
      "   macro avg       0.71      0.59      0.63      3896\n",
      "weighted avg       0.95      0.96      0.95      3896\n",
      "\n"
     ]
    }
   ],
   "source": [
    "# normalize the data\n",
    "scaler = StandardScaler()\n",
    "X_train_scaled = scaler.fit_transform(X_train)\n",
    "X_test_scaled = scaler.transform(X_test)\n",
    "X_val_scaled = scaler.transform(X_val)\n",
    "\n",
    "# Train an XGBoost classifier\n",
    "xgb = XGBClassifier(\n",
    "    n_estimators=300,      # Number of trees\n",
    "    learning_rate=0.1,     # Step size shrinkage\n",
    "    max_depth=10,           # Maximum tree depth\n",
    "    subsample=0.8,         # Row sampling\n",
    "    colsample_bytree=0.8,  # Feature sampling\n",
    "    random_state=42,\n",
    "    use_label_encoder=False,\n",
    "    objective='multi:softmax', \n",
    "    eval_metric='auc',\n",
    "    verbosity =0 \n",
    ")\n",
    "\n",
    "# Compute sample_weight using compute_sample_weight\n",
    "sample_weight = compute_sample_weight('balanced', y_train)\n",
    "# print uqiue weights\n",
    "print(Counter(sample_weight))\n",
    "# Fit the model on the training data\n",
    "xgb.fit(X_train_scaled, y_train, eval_set=[(X_val_scaled, y_val)], verbose=False, sample_weight=sample_weight)\n",
    "\n",
    "# Predict on the test set\n",
    "y_pred = xgb.predict(X_test_scaled)\n",
    "\n",
    "# Evaluate the model\n",
    "print(\"Classification Report on Test Set:\")\n",
    "print(classification_report(y_test, y_pred))"
   ]
  },
  {
   "cell_type": "code",
   "execution_count": null,
   "metadata": {},
   "outputs": [
    {
     "data": {
      "text/plain": [
       "<Figure size 1000x800 with 0 Axes>"
      ]
     },
     "metadata": {},
     "output_type": "display_data"
    },
    {
     "data": {
      "image/png": "[encoded data removed]",
      "text/plain": [
       "<Figure size 640x480 with 1 Axes>"
      ]
     },
     "metadata": {},
     "output_type": "display_data"
    }
   ],
   "source": [
    "# Plot feature importance\n",
    "plt.figure(figsize=(10, 8))\n",
    "plot_importance(xgb, importance_type='weight')  # Options: 'weight', 'gain', 'cover'\n",
    "plt.title(\"Feature Importance\")\n",
    "plt.show()"
   ]
  },
  {
   "cell_type": "markdown",
   "metadata": {},
   "source": [
    "### hyperparameter tuning xgboost using WandB"
   ]
  },
  {
   "cell_type": "code",
   "execution_count": 49,
   "metadata": {},
   "outputs": [
    {
     "name": "stdout",
     "output_type": "stream",
     "text": [
      "(17409, 76)\n",
      "(17409,)\n",
      "Classification Report on Validation Set:\n",
      "              precision    recall  f1-score   support\n",
      "\n",
      "           0       0.98      0.99      0.98      3451\n",
      "           1       0.66      0.45      0.54        86\n",
      "           2       0.74      0.74      0.74        91\n",
      "\n",
      "    accuracy                           0.97      3628\n",
      "   macro avg       0.79      0.73      0.75      3628\n",
      "weighted avg       0.97      0.97      0.97      3628\n",
      "\n"
     ]
    }
   ],
   "source": [
    "def convert_to_time_series_data_dynamic(input_df, window_size=5, features=['x', 'y', 'velocity', 'direction']):\n",
    "    df = input_df.copy()\n",
    "    # get unique combinations of subset, video, clip\n",
    "    unique_combinations = df[['subset', 'video', 'clip']].drop_duplicates()\n",
    "    rows = []\n",
    "\n",
    "    for _, row in unique_combinations.iterrows():\n",
    "        subset = row['subset']\n",
    "        video = row['video']\n",
    "        clip = row['clip']\n",
    "        df_subset = df[(df['subset'] == subset) & (df['video'] == video) & (df['clip'] == clip)].sort_values(by='frame').reset_index(drop=True)\n",
    "\n",
    "        for index, row in df_subset.iterrows():\n",
    "            if index <= window_size or index > len(df_subset) - window_size:\n",
    "                continue\n",
    "\n",
    "            previous_frames = {}\n",
    "            for i in range(window_size, 1, -1):\n",
    "                lag_stamp = 'previous_' + str(i) + '_'\n",
    "                for feature in features:\n",
    "                    previous_frames[lag_stamp + feature] = df_subset.loc[index-i, feature]\n",
    "\n",
    "            current_frame = {}\n",
    "            for feature in features:\n",
    "                current_frame[feature] = df_subset.loc[index, feature]\n",
    "\n",
    "            future_frames = {}\n",
    "            for i in range(1, window_size):\n",
    "                lag_stamp = 'following_' + str(i) + '_'\n",
    "                for feature in features:\n",
    "                    future_frames[lag_stamp + feature] = df_subset.loc[index+i, feature]\n",
    "\n",
    "            dict_trajectory = {\"Flying\":0, \"Hit\":1, \"Bounce\":2}\n",
    "\n",
    "            if df_subset.loc[index, 'trajectory'] not in dict_trajectory:\n",
    "                continue\n",
    "            series = {\n",
    "                'subset': subset,\n",
    "                'video': video,\n",
    "                'clip': clip,\n",
    "                'frame': row['frame'],\n",
    "                'trajectory': dict_trajectory[row['trajectory']],\n",
    "                **current_frame,\n",
    "                **previous_frames,\n",
    "                **future_frames\n",
    "            }\n",
    "            rows.append(series)\n",
    "\n",
    "    return pd.DataFrame(rows)\n",
    "\n",
    "# training function\n",
    "def train_XGBoost(df_train, df_val, config):\n",
    "    n_estimators = config['n_estimators']\n",
    "    learning_rate = config['learning_rate']\n",
    "    max_depth = config['max_depth']\n",
    "    subsample = config['subsample']\n",
    "    window_size = config['window_size']\n",
    "    balancing = config['Balancing']\n",
    "    scaling = config['scaling']\n",
    "    features = config['features']\n",
    "\n",
    "    # Convert the data to time series\n",
    "    df_train_time_series = convert_to_time_series_data_dynamic(df_train, window_size=window_size, features=features)\n",
    "    df_val_time_series = convert_to_time_series_data_dynamic(df_val, window_size=window_size, features=features)\n",
    "\n",
    "    # delete rows with missing values\n",
    "    x_columns = features + ['previous_' + str(i) + '_' + feature for i in range(window_size, 1, -1) for feature in features] + ['following_' + str(i) + '_' + feature for i in range(1, window_size) for feature in features]\n",
    "    allcolumns = x_columns + ['trajectory']\n",
    "    df_train_time_series = df_train_time_series.dropna(subset=allcolumns)\n",
    "    df_val_time_series = df_val_time_series.dropna(subset=allcolumns)\n",
    "\n",
    "    # Split the data into X and y\n",
    "    X_train = df_train_time_series[x_columns]\n",
    "    y_train = df_train_time_series['trajectory']\n",
    "\n",
    "    X_val = df_val_time_series[x_columns]\n",
    "    y_val = df_val_time_series['trajectory']\n",
    "\n",
    "    # Normalize the data if scaling is enabled\n",
    "    if scaling:\n",
    "        scaler = StandardScaler()\n",
    "        X_train = scaler.fit_transform(X_train)\n",
    "        X_val = scaler.transform(X_val)\n",
    "\n",
    "    # If SMOTE is elected for balancing\n",
    "    if balancing == 'SMOTE':\n",
    "        smote = SMOTE(random_state=42)\n",
    "        X_train, y_train = smote.fit_resample(X_train, y_train)\n",
    "    \n",
    "    #compute sample weight\n",
    "    if balancing == 'weights':\n",
    "        sample_weight = compute_sample_weight('balanced', y_train)\n",
    "    else:\n",
    "        sample_weight = compute_sample_weight(None, y_train)\n",
    "\n",
    "    print (X_train.shape)\n",
    "    print (y_train.shape)\n",
    "\n",
    "    # Train an XGBoost classifier\n",
    "    xgb = XGBClassifier(\n",
    "        n_estimators=n_estimators,\n",
    "        learning_rate=learning_rate,\n",
    "        max_depth=max_depth,\n",
    "        subsample=subsample,\n",
    "        colsample_bytree=0.8, \n",
    "        random_state=42,\n",
    "        use_label_encoder=False,\n",
    "        objective='multi:softmax', \n",
    "        eval_metric='mlogloss',\n",
    "        verbosity =0 \n",
    "    )\n",
    "\n",
    "    # Fit the model on the training data\n",
    "    xgb.fit(X_train, y_train, verbose=False, sample_weight=sample_weight)\n",
    "\n",
    "    # Predict on the validation set\n",
    "    y_pred = xgb.predict(X_val)\n",
    "\n",
    "    # Evaluate the model\n",
    "    report_printable = classification_report(y_val, y_pred)\n",
    "    report = classification_report(y_val, y_pred, output_dict=True)\n",
    "\n",
    "    #confusion matrix\n",
    "    cm = confusion_matrix(y_val, y_pred, normalize='true')\n",
    "\n",
    "    return report, report_printable, xgb, cm\n",
    "\n",
    "\n",
    "# Train the model\n",
    "parameters = {\n",
    "    \"n_estimators\": 300,\n",
    "    \"learning_rate\": 0.1,\n",
    "    \"max_depth\": 10,\n",
    "    \"subsample\": 0.8,\n",
    "    \"window_size\": 10,\n",
    "    \"scaling\": True,\n",
    "    \"Balancing\": \"weights\",\n",
    "    \"features\": ['x', 'y', 'velocity', 'direction']\n",
    "}\n",
    "\n",
    "report, report_printable, model, cm = train_XGBoost(df_train, df_val, parameters)\n",
    "# Print the classification report\n",
    "print(\"Classification Report on Validation Set:\")\n",
    "print(report_printable)"
   ]
  },
  {
   "cell_type": "code",
   "execution_count": null,
   "metadata": {},
   "outputs": [
    {
     "data": {
      "text/plain": [
       "0.7529174756579815"
      ]
     },
     "execution_count": 17,
     "metadata": {},
     "output_type": "execute_result"
    }
   ],
   "source": [
    "report['macro avg']['f1-score']"
   ]
  },
  {
   "cell_type": "code",
   "execution_count": null,
   "metadata": {},
   "outputs": [
    {
     "name": "stderr",
     "output_type": "stream",
     "text": [
      "\u001b[34m\u001b[1mwandb\u001b[0m: Using wandb-core as the SDK backend.  Please refer to https://wandb.me/wandb-core for more information.\n"
     ]
    },
    {
     "name": "stdout",
     "output_type": "stream",
     "text": [
      "Create sweep with ID: videkg9h\n",
      "Sweep URL: https://wandb.ai/MasterarbeitBV/XGBoost_Hyperparameter_Tuning/sweeps/videkg9h\n"
     ]
    }
   ],
   "source": [
    "sweep_config = {\n",
    "    \"method\": \"bayes\", \n",
    "    \"metric\": {\n",
    "        \"name\": \"f1-score\",\n",
    "        \"goal\": \"maximize\"  \n",
    "    },\n",
    "    \"parameters\": {\n",
    "        \"n_estimators\": {\n",
    "            \"values\": [200, 300, 500]  # Number of trees in the ensemble\n",
    "        },\n",
    "        \"learning_rate\": {\n",
    "            \"min\": 0.01,\n",
    "            \"max\": 0.2  # Explore a range of learning rates\n",
    "        },\n",
    "        \"max_depth\": {\n",
    "            \"values\": [5, 10, 15, 20]  # Depth of each tree\n",
    "        },\n",
    "        \"subsample\": {\n",
    "            \"values\": [0.6, 0.8, 1.0]  # Fraction of samples used for training\n",
    "        },\n",
    "        \"scaling\": {\n",
    "            \"values\": [True, False]  # Whether to normalize data\n",
    "        },\n",
    "        \"Balancing\": {\n",
    "            \"values\": [\"weights\", \"SMOTE\", None]  # Balancing strategies\n",
    "        },\n",
    "        \"window_size\": {\n",
    "            \"values\": [5, 7, 10]  # Different window sizes for the time-series data\n",
    "        },\n",
    "        \"features\": {\n",
    "            \"values\": [['x', 'y'], ['x', 'y', 'velocity'], ['x', 'y', 'velocity', 'direction']]\n",
    "        }\n",
    "    }\n",
    "}\n",
    "\n",
    "def sweep_train(config=None):\n",
    "    with wandb.init(config=config):\n",
    "        # Access the sweep parameters\n",
    "        config = wandb.config\n",
    "        \n",
    "        # Train the model\n",
    "        report, report_printable, model, cm = train_XGBoost(\n",
    "            df_train,\n",
    "            df_val,\n",
    "            config={\n",
    "                \"n_estimators\": config.n_estimators,\n",
    "                \"learning_rate\": config.learning_rate,\n",
    "                \"max_depth\": config.max_depth,\n",
    "                \"subsample\": config.subsample,\n",
    "                \"window_size\": config.window_size,\n",
    "                \"scaling\": config.scaling,\n",
    "                \"Balancing\": config.Balancing,\n",
    "                \"features\": config.features\n",
    "            }\n",
    "        )\n",
    "        \n",
    "        # log the classification report\n",
    "        wandb.log(report)\n",
    "        wandb.log({'f1-score': report['macro avg']['f1-score']})\n",
    "\n",
    "# Initialize the sweep\n",
    "sweep_id = wandb.sweep(sweep_config, project=\"XGBoost_Hyperparameter_Tuning\")\n",
    "\n",
    "# Start the sweep\n",
    "#wandb.agent(sweep_id, function=sweep_train, count=100)"
   ]
  },
  {
   "cell_type": "markdown",
   "metadata": {},
   "source": [
    "## test sktime "
   ]
  },
  {
   "cell_type": "code",
   "execution_count": null,
   "metadata": {},
   "outputs": [
    {
     "name": "stdout",
     "output_type": "stream",
     "text": [
      "(80, 6, 100)\n",
      "(6, 100)\n",
      "(100,)\n"
     ]
    }
   ],
   "source": [
    "from sktime.datasets import load_basic_motions\n",
    "\n",
    "# load an example time series panel in numpy mtype\n",
    "X, _ = load_basic_motions(return_type=\"numpy3D\")\n",
    "print(X.shape)\n",
    "print(X[0].shape)\n",
    "print(X[0][0].shape)"
   ]
  },
  {
   "cell_type": "code",
   "execution_count": null,
   "metadata": {},
   "outputs": [],
   "source": [
    "def convert_df_to_numpy3d(df, features, sequence_length=21):\n",
    "    # sequence length has to be odd to take the middle element as the target\n",
    "    assert sequence_length % 2 == 1\n",
    "\n",
    "    # get unique combinations of subset, video, clip\n",
    "    unique_combinations = df[['subset', 'video', 'clip']].drop_duplicates()\n",
    "\n",
    "    # create list to store numpy arrays\n",
    "    X = []\n",
    "    Y = []\n",
    "\n",
    "    for _, row in unique_combinations.iterrows():\n",
    "        subset = row['subset']\n",
    "        video = row['video']\n",
    "        clip = row['clip']\n",
    "        df_subset = df[(df['subset'] == subset) & (df['video'] == video) & (df['clip'] == clip)].sort_values(by='frame').reset_index(drop=True)\n",
    "\n",
    "        for index, row in df_subset.iterrows():\n",
    "            #create two dimensional numpy array\n",
    "            series = np.zeros((len(features), sequence_length))\n",
    "\n",
    "            if index <= sequence_length or index > len(df_subset) - sequence_length:\n",
    "                continue\n",
    "\n",
    "            for i in range(sequence_length, 0, -1):\n",
    "                for feature_idx, feature in enumerate(features):\n",
    "                    series[feature_idx, sequence_length - i] = df_subset.loc[index-i, feature]\n",
    "\n",
    "            # check if series or target is missing\n",
    "            if np.isnan(series).any() or pd.isnull(df_subset.loc[index, 'trajectory']):\n",
    "                continue\n",
    "  \n",
    "            X.append(series)\n",
    "            trajectory_index = index - (sequence_length //2)\n",
    "            Y.append(df_subset.loc[trajectory_index, 'trajectory'])\n",
    "\n",
    "    return np.array(X), np.array(Y)\n",
    "\n",
    "X_train, y_train = convert_df_to_numpy3d(df_train, ['x', 'y', 'slope', 'velocity'], sequence_length=11)\n",
    "X_test, y_test = convert_df_to_numpy3d(df_test, ['x', 'y', 'slope', 'velocity'], sequence_length=11)\n",
    "X_val, y_val = convert_df_to_numpy3d(df_val, ['x', 'y', 'slope', 'velocity'], sequence_length=11)"
   ]
  },
  {
   "cell_type": "code",
   "execution_count": null,
   "metadata": {},
   "outputs": [
    {
     "name": "stdout",
     "output_type": "stream",
     "text": [
      "(17819, 4, 11)\n",
      "(4, 11)\n",
      "(11,)\n"
     ]
    }
   ],
   "source": [
    "print(X_train.shape)\n",
    "print(X_train[0].shape)\n",
    "print(X_train[0][0].shape)"
   ]
  },
  {
   "cell_type": "code",
   "execution_count": null,
   "metadata": {},
   "outputs": [],
   "source": [
    "# Assuming X_train is of shape (n_samples, n_timestamps, n_features)\n",
    "n_samples, n_timestamps, n_features = X_train.shape\n",
    "\n",
    "# Reshape for normalization: (total_instances, n_features)\n",
    "X_train_reshaped = X_train.reshape(-1, n_features)\n",
    "\n",
    "# Apply Standard Scaling\n",
    "scaler = StandardScaler()\n",
    "X_train_standardized = scaler.fit_transform(X_train_reshaped)\n",
    "\n",
    "# Reshape back to original 3D shape\n",
    "X_train_standardized = X_train_standardized.reshape(n_samples, n_timestamps, n_features)"
   ]
  },
  {
   "cell_type": "code",
   "execution_count": null,
   "metadata": {},
   "outputs": [],
   "source": [
    "# Assume X_train is in shape (n_samples, n_timestamps, n_features)\n",
    "n_samples, n_timestamps, n_features = X_train.shape\n",
    "\n",
    "# Reshape into 2D array: (n_samples, n_timestamps * n_features)\n",
    "X_train_flat = X_train.reshape(n_samples, n_timestamps * n_features)\n",
    "\n",
    "# Apply SMOTE\n",
    "smote = SMOTE(random_state=42)\n",
    "X_resampled_flat, y_resampled = smote.fit_resample(X_train_flat, y_train)\n",
    "\n",
    "# Calculate the new number of samples after resampling\n",
    "n_resampled = X_resampled_flat.shape[0]\n",
    "\n",
    "# Reshape back into (n_samples, n_timestamps, n_features)\n",
    "X_resampled = X_resampled_flat.reshape(n_resampled, n_timestamps, n_features)"
   ]
  },
  {
   "cell_type": "code",
   "execution_count": null,
   "metadata": {},
   "outputs": [
    {
     "name": "stdout",
     "output_type": "stream",
     "text": [
      "(50796, 4, 11)\n",
      "(4, 11)\n",
      "(11,)\n"
     ]
    }
   ],
   "source": [
    "print(X_resampled.shape)\n",
    "print(X_resampled[0].shape)\n",
    "print(X_resampled[0][0].shape)"
   ]
  },
  {
   "cell_type": "code",
   "execution_count": null,
   "metadata": {},
   "outputs": [
    {
     "name": "stdout",
     "output_type": "stream",
     "text": [
      "Classification Report on Test Set:\n",
      "              precision    recall  f1-score   support\n",
      "\n",
      "      Bounce       0.71      0.40      0.51        85\n",
      "      Flying       0.97      0.99      0.98      3473\n",
      "         Hit       0.72      0.32      0.45        90\n",
      "\n",
      "    accuracy                           0.96      3648\n",
      "   macro avg       0.80      0.57      0.65      3648\n",
      "weighted avg       0.96      0.96      0.96      3648\n",
      "\n"
     ]
    }
   ],
   "source": [
    "\n",
    "clf_default = RocketClassifier(num_kernels=1000, random_state=42)\n",
    "clf_default.fit(X_train, y_train)\n",
    "\n",
    "y_pred = clf_default.predict(X_val)\n",
    "\n",
    "# Evaluate the model\n",
    "print(\"Classification Report on Test Set:\")\n",
    "print(classification_report(y_val, y_pred))"
   ]
  },
  {
   "cell_type": "markdown",
   "metadata": {},
   "source": [
    "## hyperparameter tuning sktime using wandb"
   ]
  },
  {
   "cell_type": "code",
   "execution_count": 48,
   "metadata": {},
   "outputs": [
    {
     "name": "stdout",
     "output_type": "stream",
     "text": [
      "Classification Report on Validation Set:\n",
      "              precision    recall  f1-score   support\n",
      "\n",
      "      Bounce       0.77      0.48      0.59        85\n",
      "      Flying       0.97      0.99      0.98      3473\n",
      "         Hit       0.68      0.36      0.47        90\n",
      "\n",
      "    accuracy                           0.97      3648\n",
      "   macro avg       0.81      0.61      0.68      3648\n",
      "weighted avg       0.96      0.97      0.96      3648\n",
      "\n"
     ]
    }
   ],
   "source": [
    "def convert_df_to_numpy3d(df, features, sequence_length=21):\n",
    "    # sequence length has to be odd to take the middle element as the target\n",
    "    assert sequence_length % 2 == 1\n",
    "\n",
    "    # get unique combinations of subset, video, clip\n",
    "    unique_combinations = df[['subset', 'video', 'clip']].drop_duplicates()\n",
    "\n",
    "    # create list to store numpy arrays\n",
    "    X = []\n",
    "    Y = []\n",
    "\n",
    "    for _, row in unique_combinations.iterrows():\n",
    "        subset = row['subset']\n",
    "        video = row['video']\n",
    "        clip = row['clip']\n",
    "        df_subset = df[(df['subset'] == subset) & (df['video'] == video) & (df['clip'] == clip)].sort_values(by='frame').reset_index(drop=True)\n",
    "\n",
    "        for index, row in df_subset.iterrows():\n",
    "            #create two dimensional numpy array\n",
    "            series = np.zeros((len(features), sequence_length))\n",
    "\n",
    "            if index <= sequence_length or index > len(df_subset) - sequence_length:\n",
    "                continue\n",
    "\n",
    "            for i in range(sequence_length, 0, -1):\n",
    "                for feature_idx, feature in enumerate(features):\n",
    "                    series[feature_idx, sequence_length - i] = df_subset.loc[index-i, feature]\n",
    "\n",
    "            # check if series or target is missing\n",
    "            if np.isnan(series).any() or pd.isnull(df_subset.loc[index, 'trajectory']):\n",
    "                continue\n",
    "  \n",
    "            X.append(series)\n",
    "            trajectory_index = index - (sequence_length //2)\n",
    "            Y.append(df_subset.loc[trajectory_index, 'trajectory'])\n",
    "\n",
    "    return np.array(X), np.array(Y)\n",
    "\n",
    "\n",
    "# training function\n",
    "def train_ROCKET(df_train, df_val, config):\n",
    "    num_kernels = config['num_kernels']\n",
    "    n_features_per_kernel = config['n_features_per_kernel']\n",
    "    rocket_transform = config['rocket_transform']\n",
    "    window_size = config['window_size']\n",
    "    balancing = config['Balancing']\n",
    "    scaling = config['scaling']\n",
    "    features = config['features']\n",
    "\n",
    "    # convert data to numpy3D\n",
    "    X_train, y_train = convert_df_to_numpy3d(df_train, features, sequence_length=window_size)\n",
    "    X_val, y_val = convert_df_to_numpy3d(df_val, features, sequence_length=window_size)\n",
    "\n",
    "    # Normalize the data if scaling is enabled\n",
    "    if scaling:\n",
    "        # Reshape for normalization: (total_instances, n_features)\n",
    "        n_samples, n_timestamps, n_features = X_train.shape\n",
    "        X_train_reshaped = X_train.reshape(-1, n_features)\n",
    "        scaler = StandardScaler()\n",
    "        X_train_standardized = scaler.fit_transform(X_train_reshaped)\n",
    "        X_train = X_train_standardized.reshape(n_samples, n_timestamps, n_features)\n",
    "\n",
    "        # Normalize the validation set\n",
    "        n_samples, n_timestamps, n_features = X_val.shape\n",
    "        X_val_reshaped = X_val.reshape(-1, n_features)\n",
    "        X_val_standardized = scaler.transform(X_val_reshaped)\n",
    "        X_val = X_val_standardized.reshape(n_samples, n_timestamps, n_features)\n",
    "\n",
    "    # Blanace the data if SMOTE is enabled\n",
    "    if balancing:\n",
    "        n_samples, n_timestamps, n_features = X_train.shape\n",
    "        X_train_flat = X_train.reshape(n_samples, n_timestamps * n_features)\n",
    "        smote = SMOTE(random_state=42)\n",
    "        X_resampled_flat, y_train = smote.fit_resample(X_train_flat, y_train)\n",
    "        n_resampled = X_resampled_flat.shape[0]\n",
    "        X_train = X_resampled_flat.reshape(n_resampled, n_timestamps, n_features)\n",
    "\n",
    "    # Train the model\n",
    "    clf = RocketClassifier(num_kernels=num_kernels, n_features_per_kernel=n_features_per_kernel,rocket_transform=rocket_transform , random_state=42, n_jobs=1)\n",
    "\n",
    "    clf.fit(X_train, y_train)\n",
    "\n",
    "    # Predict on the validation set\n",
    "    y_pred = clf.predict(X_val)\n",
    "\n",
    "    # Evaluate the model\n",
    "    report = classification_report(y_val, y_pred, output_dict=True)\n",
    "    report_printable = classification_report(y_val, y_pred)\n",
    "\n",
    "    #confusion matrix\n",
    "    cm = confusion_matrix(y_val, y_pred, normalize='true')\n",
    "\n",
    "    return report, report_printable, clf, cm \n",
    "\n",
    "\n",
    "# Train the model\n",
    "parameters = {\n",
    "    \"num_kernels\": 500,\n",
    "    \"n_features_per_kernel\": 4,\n",
    "    \"rocket_transform\": \"rocket\",\n",
    "    \"window_size\": 11,\n",
    "    \"scaling\": True,\n",
    "    \"Balancing\": False,\n",
    "    \"features\": ['x', 'y']\n",
    "}\n",
    "\n",
    "report, report_printable, model, cm = train_ROCKET(df_train, df_val, parameters)\n",
    "print(\"Classification Report on Validation Set:\")\n",
    "print(report_printable)"
   ]
  },
  {
   "cell_type": "code",
   "execution_count": null,
   "metadata": {},
   "outputs": [
    {
     "name": "stderr",
     "output_type": "stream",
     "text": [
      "\u001b[34m\u001b[1mwandb\u001b[0m: Using wandb-core as the SDK backend.  Please refer to https://wandb.me/wandb-core for more information.\n"
     ]
    },
    {
     "name": "stdout",
     "output_type": "stream",
     "text": [
      "Create sweep with ID: oros33fx\n",
      "Sweep URL: https://wandb.ai/MasterarbeitBV/XGBoost_Hyperparameter_Tuning/sweeps/oros33fx\n"
     ]
    },
    {
     "name": "stderr",
     "output_type": "stream",
     "text": [
      "\u001b[34m\u001b[1mwandb\u001b[0m: Agent Starting Run: bfc1up7g with config:\n",
      "\u001b[34m\u001b[1mwandb\u001b[0m: \tBalancing: True\n",
      "\u001b[34m\u001b[1mwandb\u001b[0m: \tfeatures: ['x', 'y', 'velocity', 'direction']\n",
      "\u001b[34m\u001b[1mwandb\u001b[0m: \tn_features_per_kernel: 4\n",
      "\u001b[34m\u001b[1mwandb\u001b[0m: \tnum_kernels: 500\n",
      "\u001b[34m\u001b[1mwandb\u001b[0m: \trocket_transform: rocket\n",
      "\u001b[34m\u001b[1mwandb\u001b[0m: \tscaling: True\n",
      "\u001b[34m\u001b[1mwandb\u001b[0m: \twindow_size: 11\n",
      "\u001b[34m\u001b[1mwandb\u001b[0m: Currently logged in as: \u001b[33mspleedy\u001b[0m (\u001b[33mMasterarbeitBV\u001b[0m). Use \u001b[1m`wandb login --relogin`\u001b[0m to force relogin\n"
     ]
    },
    {
     "data": {
      "text/html": [
       "Tracking run with wandb version 0.18.6"
      ],
      "text/plain": [
       "<IPython.core.display.HTML object>"
      ]
     },
     "metadata": {},
     "output_type": "display_data"
    },
    {
     "data": {
      "text/html": [
       "Run data is saved locally in <code>c:\\Users\\benev\\Documents\\Uni_Master\\Masterarbeit\\CODE\\8_tennis_analytics\\wandb\\run-20241201_132859-bfc1up7g</code>"
      ],
      "text/plain": [
       "<IPython.core.display.HTML object>"
      ]
     },
     "metadata": {},
     "output_type": "display_data"
    },
    {
     "data": {
      "text/html": [
       "Syncing run <strong><a href='https://wandb.ai/MasterarbeitBV/XGBoost_Hyperparameter_Tuning/runs/bfc1up7g' target=\"_blank\">lilac-sweep-1</a></strong> to <a href='https://wandb.ai/MasterarbeitBV/XGBoost_Hyperparameter_Tuning' target=\"_blank\">Weights & Biases</a> (<a href='https://wandb.me/developer-guide' target=\"_blank\">docs</a>)<br/>Sweep page: <a href='https://wandb.ai/MasterarbeitBV/XGBoost_Hyperparameter_Tuning/sweeps/oros33fx' target=\"_blank\">https://wandb.ai/MasterarbeitBV/XGBoost_Hyperparameter_Tuning/sweeps/oros33fx</a>"
      ],
      "text/plain": [
       "<IPython.core.display.HTML object>"
      ]
     },
     "metadata": {},
     "output_type": "display_data"
    },
    {
     "data": {
      "text/html": [
       " View project at <a href='https://wandb.ai/MasterarbeitBV/XGBoost_Hyperparameter_Tuning' target=\"_blank\">https://wandb.ai/MasterarbeitBV/XGBoost_Hyperparameter_Tuning</a>"
      ],
      "text/plain": [
       "<IPython.core.display.HTML object>"
      ]
     },
     "metadata": {},
     "output_type": "display_data"
    },
    {
     "data": {
      "text/html": [
       " View sweep at <a href='https://wandb.ai/MasterarbeitBV/XGBoost_Hyperparameter_Tuning/sweeps/oros33fx' target=\"_blank\">https://wandb.ai/MasterarbeitBV/XGBoost_Hyperparameter_Tuning/sweeps/oros33fx</a>"
      ],
      "text/plain": [
       "<IPython.core.display.HTML object>"
      ]
     },
     "metadata": {},
     "output_type": "display_data"
    },
    {
     "data": {
      "text/html": [
       " View run at <a href='https://wandb.ai/MasterarbeitBV/XGBoost_Hyperparameter_Tuning/runs/bfc1up7g' target=\"_blank\">https://wandb.ai/MasterarbeitBV/XGBoost_Hyperparameter_Tuning/runs/bfc1up7g</a>"
      ],
      "text/plain": [
       "<IPython.core.display.HTML object>"
      ]
     },
     "metadata": {},
     "output_type": "display_data"
    },
    {
     "data": {
      "text/html": [
       "\n",
       "    <style>\n",
       "        .wandb-row {\n",
       "            display: flex;\n",
       "            flex-direction: row;\n",
       "            flex-wrap: wrap;\n",
       "            justify-content: flex-start;\n",
       "            width: 100%;\n",
       "        }\n",
       "        .wandb-col {\n",
       "            display: flex;\n",
       "            flex-direction: column;\n",
       "            flex-basis: 100%;\n",
       "            flex: 1;\n",
       "            padding: 10px;\n",
       "        }\n",
       "    </style>\n",
       "<div class=\"wandb-row\"><div class=\"wandb-col\"><h3>Run history:</h3><br/><table class=\"wandb\"><tr><td>accuracy</td><td>▁</td></tr><tr><td>f1-score</td><td>▁</td></tr></table><br/></div><div class=\"wandb-col\"><h3>Run summary:</h3><br/><table class=\"wandb\"><tr><td>accuracy</td><td>0.91996</td></tr><tr><td>f1-score</td><td>0.65816</td></tr></table><br/></div></div>"
      ],
      "text/plain": [
       "<IPython.core.display.HTML object>"
      ]
     },
     "metadata": {},
     "output_type": "display_data"
    },
    {
     "data": {
      "text/html": [
       " View run <strong style=\"color:#cdcd00\">lilac-sweep-1</strong> at: <a href='https://wandb.ai/MasterarbeitBV/XGBoost_Hyperparameter_Tuning/runs/bfc1up7g' target=\"_blank\">https://wandb.ai/MasterarbeitBV/XGBoost_Hyperparameter_Tuning/runs/bfc1up7g</a><br/> View project at: <a href='https://wandb.ai/MasterarbeitBV/XGBoost_Hyperparameter_Tuning' target=\"_blank\">https://wandb.ai/MasterarbeitBV/XGBoost_Hyperparameter_Tuning</a><br/>Synced 5 W&B file(s), 0 media file(s), 0 artifact file(s) and 0 other file(s)"
      ],
      "text/plain": [
       "<IPython.core.display.HTML object>"
      ]
     },
     "metadata": {},
     "output_type": "display_data"
    },
    {
     "data": {
      "text/html": [
       "Find logs at: <code>.\\wandb\\run-20241201_132859-bfc1up7g\\logs</code>"
      ],
      "text/plain": [
       "<IPython.core.display.HTML object>"
      ]
     },
     "metadata": {},
     "output_type": "display_data"
    },
    {
     "name": "stderr",
     "output_type": "stream",
     "text": [
      "\u001b[34m\u001b[1mwandb\u001b[0m: Sweep Agent: Waiting for job.\n",
      "\u001b[34m\u001b[1mwandb\u001b[0m: Job received.\n",
      "\u001b[34m\u001b[1mwandb\u001b[0m: Agent Starting Run: yosv1b2o with config:\n",
      "\u001b[34m\u001b[1mwandb\u001b[0m: \tBalancing: True\n",
      "\u001b[34m\u001b[1mwandb\u001b[0m: \tfeatures: ['x', 'y']\n",
      "\u001b[34m\u001b[1mwandb\u001b[0m: \tn_features_per_kernel: 2\n",
      "\u001b[34m\u001b[1mwandb\u001b[0m: \tnum_kernels: 500\n",
      "\u001b[34m\u001b[1mwandb\u001b[0m: \trocket_transform: rocket\n",
      "\u001b[34m\u001b[1mwandb\u001b[0m: \tscaling: True\n",
      "\u001b[34m\u001b[1mwandb\u001b[0m: \twindow_size: 11\n"
     ]
    },
    {
     "data": {
      "text/html": [
       "Tracking run with wandb version 0.18.6"
      ],
      "text/plain": [
       "<IPython.core.display.HTML object>"
      ]
     },
     "metadata": {},
     "output_type": "display_data"
    },
    {
     "data": {
      "text/html": [
       "Run data is saved locally in <code>c:\\Users\\benev\\Documents\\Uni_Master\\Masterarbeit\\CODE\\8_tennis_analytics\\wandb\\run-20241201_132939-yosv1b2o</code>"
      ],
      "text/plain": [
       "<IPython.core.display.HTML object>"
      ]
     },
     "metadata": {},
     "output_type": "display_data"
    },
    {
     "data": {
      "text/html": [
       "Syncing run <strong><a href='https://wandb.ai/MasterarbeitBV/XGBoost_Hyperparameter_Tuning/runs/yosv1b2o' target=\"_blank\">amber-sweep-2</a></strong> to <a href='https://wandb.ai/MasterarbeitBV/XGBoost_Hyperparameter_Tuning' target=\"_blank\">Weights & Biases</a> (<a href='https://wandb.me/developer-guide' target=\"_blank\">docs</a>)<br/>Sweep page: <a href='https://wandb.ai/MasterarbeitBV/XGBoost_Hyperparameter_Tuning/sweeps/oros33fx' target=\"_blank\">https://wandb.ai/MasterarbeitBV/XGBoost_Hyperparameter_Tuning/sweeps/oros33fx</a>"
      ],
      "text/plain": [
       "<IPython.core.display.HTML object>"
      ]
     },
     "metadata": {},
     "output_type": "display_data"
    },
    {
     "data": {
      "text/html": [
       " View project at <a href='https://wandb.ai/MasterarbeitBV/XGBoost_Hyperparameter_Tuning' target=\"_blank\">https://wandb.ai/MasterarbeitBV/XGBoost_Hyperparameter_Tuning</a>"
      ],
      "text/plain": [
       "<IPython.core.display.HTML object>"
      ]
     },
     "metadata": {},
     "output_type": "display_data"
    },
    {
     "data": {
      "text/html": [
       " View sweep at <a href='https://wandb.ai/MasterarbeitBV/XGBoost_Hyperparameter_Tuning/sweeps/oros33fx' target=\"_blank\">https://wandb.ai/MasterarbeitBV/XGBoost_Hyperparameter_Tuning/sweeps/oros33fx</a>"
      ],
      "text/plain": [
       "<IPython.core.display.HTML object>"
      ]
     },
     "metadata": {},
     "output_type": "display_data"
    },
    {
     "data": {
      "text/html": [
       " View run at <a href='https://wandb.ai/MasterarbeitBV/XGBoost_Hyperparameter_Tuning/runs/yosv1b2o' target=\"_blank\">https://wandb.ai/MasterarbeitBV/XGBoost_Hyperparameter_Tuning/runs/yosv1b2o</a>"
      ],
      "text/plain": [
       "<IPython.core.display.HTML object>"
      ]
     },
     "metadata": {},
     "output_type": "display_data"
    },
    {
     "data": {
      "text/html": [
       "\n",
       "    <style>\n",
       "        .wandb-row {\n",
       "            display: flex;\n",
       "            flex-direction: row;\n",
       "            flex-wrap: wrap;\n",
       "            justify-content: flex-start;\n",
       "            width: 100%;\n",
       "        }\n",
       "        .wandb-col {\n",
       "            display: flex;\n",
       "            flex-direction: column;\n",
       "            flex-basis: 100%;\n",
       "            flex: 1;\n",
       "            padding: 10px;\n",
       "        }\n",
       "    </style>\n",
       "<div class=\"wandb-row\"><div class=\"wandb-col\"><h3>Run history:</h3><br/><table class=\"wandb\"><tr><td>accuracy</td><td>▁</td></tr><tr><td>f1-score</td><td>▁</td></tr></table><br/></div><div class=\"wandb-col\"><h3>Run summary:</h3><br/><table class=\"wandb\"><tr><td>accuracy</td><td>0.92133</td></tr><tr><td>f1-score</td><td>0.66657</td></tr></table><br/></div></div>"
      ],
      "text/plain": [
       "<IPython.core.display.HTML object>"
      ]
     },
     "metadata": {},
     "output_type": "display_data"
    },
    {
     "data": {
      "text/html": [
       " View run <strong style=\"color:#cdcd00\">amber-sweep-2</strong> at: <a href='https://wandb.ai/MasterarbeitBV/XGBoost_Hyperparameter_Tuning/runs/yosv1b2o' target=\"_blank\">https://wandb.ai/MasterarbeitBV/XGBoost_Hyperparameter_Tuning/runs/yosv1b2o</a><br/> View project at: <a href='https://wandb.ai/MasterarbeitBV/XGBoost_Hyperparameter_Tuning' target=\"_blank\">https://wandb.ai/MasterarbeitBV/XGBoost_Hyperparameter_Tuning</a><br/>Synced 5 W&B file(s), 0 media file(s), 0 artifact file(s) and 0 other file(s)"
      ],
      "text/plain": [
       "<IPython.core.display.HTML object>"
      ]
     },
     "metadata": {},
     "output_type": "display_data"
    },
    {
     "data": {
      "text/html": [
       "Find logs at: <code>.\\wandb\\run-20241201_132939-yosv1b2o\\logs</code>"
      ],
      "text/plain": [
       "<IPython.core.display.HTML object>"
      ]
     },
     "metadata": {},
     "output_type": "display_data"
    },
    {
     "name": "stderr",
     "output_type": "stream",
     "text": [
      "\u001b[34m\u001b[1mwandb\u001b[0m: Sweep Agent: Waiting for job.\n",
      "\u001b[34m\u001b[1mwandb\u001b[0m: Job received.\n",
      "\u001b[34m\u001b[1mwandb\u001b[0m: Agent Starting Run: piyzud1g with config:\n",
      "\u001b[34m\u001b[1mwandb\u001b[0m: \tBalancing: False\n",
      "\u001b[34m\u001b[1mwandb\u001b[0m: \tfeatures: ['x', 'y', 'velocity', 'direction']\n",
      "\u001b[34m\u001b[1mwandb\u001b[0m: \tn_features_per_kernel: 4\n",
      "\u001b[34m\u001b[1mwandb\u001b[0m: \tnum_kernels: 500\n",
      "\u001b[34m\u001b[1mwandb\u001b[0m: \trocket_transform: rocket\n",
      "\u001b[34m\u001b[1mwandb\u001b[0m: \tscaling: False\n",
      "\u001b[34m\u001b[1mwandb\u001b[0m: \twindow_size: 11\n"
     ]
    },
    {
     "data": {
      "text/html": [
       "Tracking run with wandb version 0.18.6"
      ],
      "text/plain": [
       "<IPython.core.display.HTML object>"
      ]
     },
     "metadata": {},
     "output_type": "display_data"
    },
    {
     "data": {
      "text/html": [
       "Run data is saved locally in <code>c:\\Users\\benev\\Documents\\Uni_Master\\Masterarbeit\\CODE\\8_tennis_analytics\\wandb\\run-20241201_133013-piyzud1g</code>"
      ],
      "text/plain": [
       "<IPython.core.display.HTML object>"
      ]
     },
     "metadata": {},
     "output_type": "display_data"
    },
    {
     "data": {
      "text/html": [
       "Syncing run <strong><a href='https://wandb.ai/MasterarbeitBV/XGBoost_Hyperparameter_Tuning/runs/piyzud1g' target=\"_blank\">smooth-sweep-3</a></strong> to <a href='https://wandb.ai/MasterarbeitBV/XGBoost_Hyperparameter_Tuning' target=\"_blank\">Weights & Biases</a> (<a href='https://wandb.me/developer-guide' target=\"_blank\">docs</a>)<br/>Sweep page: <a href='https://wandb.ai/MasterarbeitBV/XGBoost_Hyperparameter_Tuning/sweeps/oros33fx' target=\"_blank\">https://wandb.ai/MasterarbeitBV/XGBoost_Hyperparameter_Tuning/sweeps/oros33fx</a>"
      ],
      "text/plain": [
       "<IPython.core.display.HTML object>"
      ]
     },
     "metadata": {},
     "output_type": "display_data"
    },
    {
     "data": {
      "text/html": [
       " View project at <a href='https://wandb.ai/MasterarbeitBV/XGBoost_Hyperparameter_Tuning' target=\"_blank\">https://wandb.ai/MasterarbeitBV/XGBoost_Hyperparameter_Tuning</a>"
      ],
      "text/plain": [
       "<IPython.core.display.HTML object>"
      ]
     },
     "metadata": {},
     "output_type": "display_data"
    },
    {
     "data": {
      "text/html": [
       " View sweep at <a href='https://wandb.ai/MasterarbeitBV/XGBoost_Hyperparameter_Tuning/sweeps/oros33fx' target=\"_blank\">https://wandb.ai/MasterarbeitBV/XGBoost_Hyperparameter_Tuning/sweeps/oros33fx</a>"
      ],
      "text/plain": [
       "<IPython.core.display.HTML object>"
      ]
     },
     "metadata": {},
     "output_type": "display_data"
    },
    {
     "data": {
      "text/html": [
       " View run at <a href='https://wandb.ai/MasterarbeitBV/XGBoost_Hyperparameter_Tuning/runs/piyzud1g' target=\"_blank\">https://wandb.ai/MasterarbeitBV/XGBoost_Hyperparameter_Tuning/runs/piyzud1g</a>"
      ],
      "text/plain": [
       "<IPython.core.display.HTML object>"
      ]
     },
     "metadata": {},
     "output_type": "display_data"
    },
    {
     "data": {
      "text/html": [
       "\n",
       "    <style>\n",
       "        .wandb-row {\n",
       "            display: flex;\n",
       "            flex-direction: row;\n",
       "            flex-wrap: wrap;\n",
       "            justify-content: flex-start;\n",
       "            width: 100%;\n",
       "        }\n",
       "        .wandb-col {\n",
       "            display: flex;\n",
       "            flex-direction: column;\n",
       "            flex-basis: 100%;\n",
       "            flex: 1;\n",
       "            padding: 10px;\n",
       "        }\n",
       "    </style>\n",
       "<div class=\"wandb-row\"><div class=\"wandb-col\"><h3>Run history:</h3><br/><table class=\"wandb\"><tr><td>accuracy</td><td>▁</td></tr><tr><td>f1-score</td><td>▁</td></tr></table><br/></div><div class=\"wandb-col\"><h3>Run summary:</h3><br/><table class=\"wandb\"><tr><td>accuracy</td><td>0.96546</td></tr><tr><td>f1-score</td><td>0.68472</td></tr></table><br/></div></div>"
      ],
      "text/plain": [
       "<IPython.core.display.HTML object>"
      ]
     },
     "metadata": {},
     "output_type": "display_data"
    },
    {
     "data": {
      "text/html": [
       " View run <strong style=\"color:#cdcd00\">smooth-sweep-3</strong> at: <a href='https://wandb.ai/MasterarbeitBV/XGBoost_Hyperparameter_Tuning/runs/piyzud1g' target=\"_blank\">https://wandb.ai/MasterarbeitBV/XGBoost_Hyperparameter_Tuning/runs/piyzud1g</a><br/> View project at: <a href='https://wandb.ai/MasterarbeitBV/XGBoost_Hyperparameter_Tuning' target=\"_blank\">https://wandb.ai/MasterarbeitBV/XGBoost_Hyperparameter_Tuning</a><br/>Synced 5 W&B file(s), 0 media file(s), 0 artifact file(s) and 0 other file(s)"
      ],
      "text/plain": [
       "<IPython.core.display.HTML object>"
      ]
     },
     "metadata": {},
     "output_type": "display_data"
    },
    {
     "data": {
      "text/html": [
       "Find logs at: <code>.\\wandb\\run-20241201_133013-piyzud1g\\logs</code>"
      ],
      "text/plain": [
       "<IPython.core.display.HTML object>"
      ]
     },
     "metadata": {},
     "output_type": "display_data"
    },
    {
     "name": "stderr",
     "output_type": "stream",
     "text": [
      "\u001b[34m\u001b[1mwandb\u001b[0m: Sweep Agent: Waiting for job.\n",
      "\u001b[34m\u001b[1mwandb\u001b[0m: Job received.\n",
      "\u001b[34m\u001b[1mwandb\u001b[0m: Agent Starting Run: ccpb8jze with config:\n",
      "\u001b[34m\u001b[1mwandb\u001b[0m: \tBalancing: True\n",
      "\u001b[34m\u001b[1mwandb\u001b[0m: \tfeatures: ['x', 'y', 'velocity', 'direction']\n",
      "\u001b[34m\u001b[1mwandb\u001b[0m: \tn_features_per_kernel: 4\n",
      "\u001b[34m\u001b[1mwandb\u001b[0m: \tnum_kernels: 2000\n",
      "\u001b[34m\u001b[1mwandb\u001b[0m: \trocket_transform: rocket\n",
      "\u001b[34m\u001b[1mwandb\u001b[0m: \tscaling: False\n",
      "\u001b[34m\u001b[1mwandb\u001b[0m: \twindow_size: 7\n"
     ]
    },
    {
     "data": {
      "text/html": [
       "Tracking run with wandb version 0.18.6"
      ],
      "text/plain": [
       "<IPython.core.display.HTML object>"
      ]
     },
     "metadata": {},
     "output_type": "display_data"
    },
    {
     "data": {
      "text/html": [
       "Run data is saved locally in <code>c:\\Users\\benev\\Documents\\Uni_Master\\Masterarbeit\\CODE\\8_tennis_analytics\\wandb\\run-20241201_133039-ccpb8jze</code>"
      ],
      "text/plain": [
       "<IPython.core.display.HTML object>"
      ]
     },
     "metadata": {},
     "output_type": "display_data"
    },
    {
     "data": {
      "text/html": [
       "Syncing run <strong><a href='https://wandb.ai/MasterarbeitBV/XGBoost_Hyperparameter_Tuning/runs/ccpb8jze' target=\"_blank\">likely-sweep-4</a></strong> to <a href='https://wandb.ai/MasterarbeitBV/XGBoost_Hyperparameter_Tuning' target=\"_blank\">Weights & Biases</a> (<a href='https://wandb.me/developer-guide' target=\"_blank\">docs</a>)<br/>Sweep page: <a href='https://wandb.ai/MasterarbeitBV/XGBoost_Hyperparameter_Tuning/sweeps/oros33fx' target=\"_blank\">https://wandb.ai/MasterarbeitBV/XGBoost_Hyperparameter_Tuning/sweeps/oros33fx</a>"
      ],
      "text/plain": [
       "<IPython.core.display.HTML object>"
      ]
     },
     "metadata": {},
     "output_type": "display_data"
    },
    {
     "data": {
      "text/html": [
       " View project at <a href='https://wandb.ai/MasterarbeitBV/XGBoost_Hyperparameter_Tuning' target=\"_blank\">https://wandb.ai/MasterarbeitBV/XGBoost_Hyperparameter_Tuning</a>"
      ],
      "text/plain": [
       "<IPython.core.display.HTML object>"
      ]
     },
     "metadata": {},
     "output_type": "display_data"
    },
    {
     "data": {
      "text/html": [
       " View sweep at <a href='https://wandb.ai/MasterarbeitBV/XGBoost_Hyperparameter_Tuning/sweeps/oros33fx' target=\"_blank\">https://wandb.ai/MasterarbeitBV/XGBoost_Hyperparameter_Tuning/sweeps/oros33fx</a>"
      ],
      "text/plain": [
       "<IPython.core.display.HTML object>"
      ]
     },
     "metadata": {},
     "output_type": "display_data"
    },
    {
     "data": {
      "text/html": [
       " View run at <a href='https://wandb.ai/MasterarbeitBV/XGBoost_Hyperparameter_Tuning/runs/ccpb8jze' target=\"_blank\">https://wandb.ai/MasterarbeitBV/XGBoost_Hyperparameter_Tuning/runs/ccpb8jze</a>"
      ],
      "text/plain": [
       "<IPython.core.display.HTML object>"
      ]
     },
     "metadata": {},
     "output_type": "display_data"
    },
    {
     "data": {
      "text/html": [
       "\n",
       "    <style>\n",
       "        .wandb-row {\n",
       "            display: flex;\n",
       "            flex-direction: row;\n",
       "            flex-wrap: wrap;\n",
       "            justify-content: flex-start;\n",
       "            width: 100%;\n",
       "        }\n",
       "        .wandb-col {\n",
       "            display: flex;\n",
       "            flex-direction: column;\n",
       "            flex-basis: 100%;\n",
       "            flex: 1;\n",
       "            padding: 10px;\n",
       "        }\n",
       "    </style>\n",
       "<div class=\"wandb-row\"><div class=\"wandb-col\"><h3>Run history:</h3><br/><table class=\"wandb\"><tr><td>accuracy</td><td>▁</td></tr><tr><td>f1-score</td><td>▁</td></tr></table><br/></div><div class=\"wandb-col\"><h3>Run summary:</h3><br/><table class=\"wandb\"><tr><td>accuracy</td><td>0.92749</td></tr><tr><td>f1-score</td><td>0.67429</td></tr></table><br/></div></div>"
      ],
      "text/plain": [
       "<IPython.core.display.HTML object>"
      ]
     },
     "metadata": {},
     "output_type": "display_data"
    },
    {
     "data": {
      "text/html": [
       " View run <strong style=\"color:#cdcd00\">likely-sweep-4</strong> at: <a href='https://wandb.ai/MasterarbeitBV/XGBoost_Hyperparameter_Tuning/runs/ccpb8jze' target=\"_blank\">https://wandb.ai/MasterarbeitBV/XGBoost_Hyperparameter_Tuning/runs/ccpb8jze</a><br/> View project at: <a href='https://wandb.ai/MasterarbeitBV/XGBoost_Hyperparameter_Tuning' target=\"_blank\">https://wandb.ai/MasterarbeitBV/XGBoost_Hyperparameter_Tuning</a><br/>Synced 5 W&B file(s), 0 media file(s), 0 artifact file(s) and 0 other file(s)"
      ],
      "text/plain": [
       "<IPython.core.display.HTML object>"
      ]
     },
     "metadata": {},
     "output_type": "display_data"
    },
    {
     "data": {
      "text/html": [
       "Find logs at: <code>.\\wandb\\run-20241201_133039-ccpb8jze\\logs</code>"
      ],
      "text/plain": [
       "<IPython.core.display.HTML object>"
      ]
     },
     "metadata": {},
     "output_type": "display_data"
    },
    {
     "name": "stderr",
     "output_type": "stream",
     "text": [
      "\u001b[34m\u001b[1mwandb\u001b[0m: Sweep Agent: Waiting for job.\n",
      "\u001b[34m\u001b[1mwandb\u001b[0m: Job received.\n",
      "\u001b[34m\u001b[1mwandb\u001b[0m: Agent Starting Run: 01boeghh with config:\n",
      "\u001b[34m\u001b[1mwandb\u001b[0m: \tBalancing: False\n",
      "\u001b[34m\u001b[1mwandb\u001b[0m: \tfeatures: ['x', 'y', 'velocity', 'direction']\n",
      "\u001b[34m\u001b[1mwandb\u001b[0m: \tn_features_per_kernel: 4\n",
      "\u001b[34m\u001b[1mwandb\u001b[0m: \tnum_kernels: 2000\n",
      "\u001b[34m\u001b[1mwandb\u001b[0m: \trocket_transform: rocket\n",
      "\u001b[34m\u001b[1mwandb\u001b[0m: \tscaling: True\n",
      "\u001b[34m\u001b[1mwandb\u001b[0m: \twindow_size: 7\n"
     ]
    },
    {
     "data": {
      "text/html": [
       "Tracking run with wandb version 0.18.6"
      ],
      "text/plain": [
       "<IPython.core.display.HTML object>"
      ]
     },
     "metadata": {},
     "output_type": "display_data"
    },
    {
     "data": {
      "text/html": [
       "Run data is saved locally in <code>c:\\Users\\benev\\Documents\\Uni_Master\\Masterarbeit\\CODE\\8_tennis_analytics\\wandb\\run-20241201_133311-01boeghh</code>"
      ],
      "text/plain": [
       "<IPython.core.display.HTML object>"
      ]
     },
     "metadata": {},
     "output_type": "display_data"
    },
    {
     "data": {
      "text/html": [
       "Syncing run <strong><a href='https://wandb.ai/MasterarbeitBV/XGBoost_Hyperparameter_Tuning/runs/01boeghh' target=\"_blank\">dashing-sweep-5</a></strong> to <a href='https://wandb.ai/MasterarbeitBV/XGBoost_Hyperparameter_Tuning' target=\"_blank\">Weights & Biases</a> (<a href='https://wandb.me/developer-guide' target=\"_blank\">docs</a>)<br/>Sweep page: <a href='https://wandb.ai/MasterarbeitBV/XGBoost_Hyperparameter_Tuning/sweeps/oros33fx' target=\"_blank\">https://wandb.ai/MasterarbeitBV/XGBoost_Hyperparameter_Tuning/sweeps/oros33fx</a>"
      ],
      "text/plain": [
       "<IPython.core.display.HTML object>"
      ]
     },
     "metadata": {},
     "output_type": "display_data"
    },
    {
     "data": {
      "text/html": [
       " View project at <a href='https://wandb.ai/MasterarbeitBV/XGBoost_Hyperparameter_Tuning' target=\"_blank\">https://wandb.ai/MasterarbeitBV/XGBoost_Hyperparameter_Tuning</a>"
      ],
      "text/plain": [
       "<IPython.core.display.HTML object>"
      ]
     },
     "metadata": {},
     "output_type": "display_data"
    },
    {
     "data": {
      "text/html": [
       " View sweep at <a href='https://wandb.ai/MasterarbeitBV/XGBoost_Hyperparameter_Tuning/sweeps/oros33fx' target=\"_blank\">https://wandb.ai/MasterarbeitBV/XGBoost_Hyperparameter_Tuning/sweeps/oros33fx</a>"
      ],
      "text/plain": [
       "<IPython.core.display.HTML object>"
      ]
     },
     "metadata": {},
     "output_type": "display_data"
    },
    {
     "data": {
      "text/html": [
       " View run at <a href='https://wandb.ai/MasterarbeitBV/XGBoost_Hyperparameter_Tuning/runs/01boeghh' target=\"_blank\">https://wandb.ai/MasterarbeitBV/XGBoost_Hyperparameter_Tuning/runs/01boeghh</a>"
      ],
      "text/plain": [
       "<IPython.core.display.HTML object>"
      ]
     },
     "metadata": {},
     "output_type": "display_data"
    },
    {
     "data": {
      "text/html": [
       "\n",
       "    <style>\n",
       "        .wandb-row {\n",
       "            display: flex;\n",
       "            flex-direction: row;\n",
       "            flex-wrap: wrap;\n",
       "            justify-content: flex-start;\n",
       "            width: 100%;\n",
       "        }\n",
       "        .wandb-col {\n",
       "            display: flex;\n",
       "            flex-direction: column;\n",
       "            flex-basis: 100%;\n",
       "            flex: 1;\n",
       "            padding: 10px;\n",
       "        }\n",
       "    </style>\n",
       "<div class=\"wandb-row\"><div class=\"wandb-col\"><h3>Run history:</h3><br/><table class=\"wandb\"><tr><td>accuracy</td><td>▁</td></tr><tr><td>f1-score</td><td>▁</td></tr></table><br/></div><div class=\"wandb-col\"><h3>Run summary:</h3><br/><table class=\"wandb\"><tr><td>accuracy</td><td>0.9649</td></tr><tr><td>f1-score</td><td>0.66625</td></tr></table><br/></div></div>"
      ],
      "text/plain": [
       "<IPython.core.display.HTML object>"
      ]
     },
     "metadata": {},
     "output_type": "display_data"
    },
    {
     "data": {
      "text/html": [
       " View run <strong style=\"color:#cdcd00\">dashing-sweep-5</strong> at: <a href='https://wandb.ai/MasterarbeitBV/XGBoost_Hyperparameter_Tuning/runs/01boeghh' target=\"_blank\">https://wandb.ai/MasterarbeitBV/XGBoost_Hyperparameter_Tuning/runs/01boeghh</a><br/> View project at: <a href='https://wandb.ai/MasterarbeitBV/XGBoost_Hyperparameter_Tuning' target=\"_blank\">https://wandb.ai/MasterarbeitBV/XGBoost_Hyperparameter_Tuning</a><br/>Synced 5 W&B file(s), 0 media file(s), 0 artifact file(s) and 0 other file(s)"
      ],
      "text/plain": [
       "<IPython.core.display.HTML object>"
      ]
     },
     "metadata": {},
     "output_type": "display_data"
    },
    {
     "data": {
      "text/html": [
       "Find logs at: <code>.\\wandb\\run-20241201_133311-01boeghh\\logs</code>"
      ],
      "text/plain": [
       "<IPython.core.display.HTML object>"
      ]
     },
     "metadata": {},
     "output_type": "display_data"
    },
    {
     "name": "stderr",
     "output_type": "stream",
     "text": [
      "\u001b[34m\u001b[1mwandb\u001b[0m: Agent Starting Run: votiba2o with config:\n",
      "\u001b[34m\u001b[1mwandb\u001b[0m: \tBalancing: False\n",
      "\u001b[34m\u001b[1mwandb\u001b[0m: \tfeatures: ['x', 'y', 'velocity', 'direction']\n",
      "\u001b[34m\u001b[1mwandb\u001b[0m: \tn_features_per_kernel: 4\n",
      "\u001b[34m\u001b[1mwandb\u001b[0m: \tnum_kernels: 500\n",
      "\u001b[34m\u001b[1mwandb\u001b[0m: \trocket_transform: rocket\n",
      "\u001b[34m\u001b[1mwandb\u001b[0m: \tscaling: False\n",
      "\u001b[34m\u001b[1mwandb\u001b[0m: \twindow_size: 7\n"
     ]
    },
    {
     "data": {
      "text/html": [
       "Tracking run with wandb version 0.18.6"
      ],
      "text/plain": [
       "<IPython.core.display.HTML object>"
      ]
     },
     "metadata": {},
     "output_type": "display_data"
    },
    {
     "data": {
      "text/html": [
       "Run data is saved locally in <code>c:\\Users\\benev\\Documents\\Uni_Master\\Masterarbeit\\CODE\\8_tennis_analytics\\wandb\\run-20241201_133423-votiba2o</code>"
      ],
      "text/plain": [
       "<IPython.core.display.HTML object>"
      ]
     },
     "metadata": {},
     "output_type": "display_data"
    },
    {
     "data": {
      "text/html": [
       "Syncing run <strong><a href='https://wandb.ai/MasterarbeitBV/XGBoost_Hyperparameter_Tuning/runs/votiba2o' target=\"_blank\">rare-sweep-6</a></strong> to <a href='https://wandb.ai/MasterarbeitBV/XGBoost_Hyperparameter_Tuning' target=\"_blank\">Weights & Biases</a> (<a href='https://wandb.me/developer-guide' target=\"_blank\">docs</a>)<br/>Sweep page: <a href='https://wandb.ai/MasterarbeitBV/XGBoost_Hyperparameter_Tuning/sweeps/oros33fx' target=\"_blank\">https://wandb.ai/MasterarbeitBV/XGBoost_Hyperparameter_Tuning/sweeps/oros33fx</a>"
      ],
      "text/plain": [
       "<IPython.core.display.HTML object>"
      ]
     },
     "metadata": {},
     "output_type": "display_data"
    },
    {
     "data": {
      "text/html": [
       " View project at <a href='https://wandb.ai/MasterarbeitBV/XGBoost_Hyperparameter_Tuning' target=\"_blank\">https://wandb.ai/MasterarbeitBV/XGBoost_Hyperparameter_Tuning</a>"
      ],
      "text/plain": [
       "<IPython.core.display.HTML object>"
      ]
     },
     "metadata": {},
     "output_type": "display_data"
    },
    {
     "data": {
      "text/html": [
       " View sweep at <a href='https://wandb.ai/MasterarbeitBV/XGBoost_Hyperparameter_Tuning/sweeps/oros33fx' target=\"_blank\">https://wandb.ai/MasterarbeitBV/XGBoost_Hyperparameter_Tuning/sweeps/oros33fx</a>"
      ],
      "text/plain": [
       "<IPython.core.display.HTML object>"
      ]
     },
     "metadata": {},
     "output_type": "display_data"
    },
    {
     "data": {
      "text/html": [
       " View run at <a href='https://wandb.ai/MasterarbeitBV/XGBoost_Hyperparameter_Tuning/runs/votiba2o' target=\"_blank\">https://wandb.ai/MasterarbeitBV/XGBoost_Hyperparameter_Tuning/runs/votiba2o</a>"
      ],
      "text/plain": [
       "<IPython.core.display.HTML object>"
      ]
     },
     "metadata": {},
     "output_type": "display_data"
    },
    {
     "data": {
      "text/html": [
       "\n",
       "    <style>\n",
       "        .wandb-row {\n",
       "            display: flex;\n",
       "            flex-direction: row;\n",
       "            flex-wrap: wrap;\n",
       "            justify-content: flex-start;\n",
       "            width: 100%;\n",
       "        }\n",
       "        .wandb-col {\n",
       "            display: flex;\n",
       "            flex-direction: column;\n",
       "            flex-basis: 100%;\n",
       "            flex: 1;\n",
       "            padding: 10px;\n",
       "        }\n",
       "    </style>\n",
       "<div class=\"wandb-row\"><div class=\"wandb-col\"><h3>Run history:</h3><br/><table class=\"wandb\"><tr><td>accuracy</td><td>▁</td></tr><tr><td>f1-score</td><td>▁</td></tr></table><br/></div><div class=\"wandb-col\"><h3>Run summary:</h3><br/><table class=\"wandb\"><tr><td>accuracy</td><td>0.95926</td></tr><tr><td>f1-score</td><td>0.58352</td></tr></table><br/></div></div>"
      ],
      "text/plain": [
       "<IPython.core.display.HTML object>"
      ]
     },
     "metadata": {},
     "output_type": "display_data"
    },
    {
     "data": {
      "text/html": [
       " View run <strong style=\"color:#cdcd00\">rare-sweep-6</strong> at: <a href='https://wandb.ai/MasterarbeitBV/XGBoost_Hyperparameter_Tuning/runs/votiba2o' target=\"_blank\">https://wandb.ai/MasterarbeitBV/XGBoost_Hyperparameter_Tuning/runs/votiba2o</a><br/> View project at: <a href='https://wandb.ai/MasterarbeitBV/XGBoost_Hyperparameter_Tuning' target=\"_blank\">https://wandb.ai/MasterarbeitBV/XGBoost_Hyperparameter_Tuning</a><br/>Synced 5 W&B file(s), 0 media file(s), 0 artifact file(s) and 0 other file(s)"
      ],
      "text/plain": [
       "<IPython.core.display.HTML object>"
      ]
     },
     "metadata": {},
     "output_type": "display_data"
    },
    {
     "data": {
      "text/html": [
       "Find logs at: <code>.\\wandb\\run-20241201_133423-votiba2o\\logs</code>"
      ],
      "text/plain": [
       "<IPython.core.display.HTML object>"
      ]
     },
     "metadata": {},
     "output_type": "display_data"
    },
    {
     "name": "stderr",
     "output_type": "stream",
     "text": [
      "\u001b[34m\u001b[1mwandb\u001b[0m: Agent Starting Run: fsl1tnd9 with config:\n",
      "\u001b[34m\u001b[1mwandb\u001b[0m: \tBalancing: True\n",
      "\u001b[34m\u001b[1mwandb\u001b[0m: \tfeatures: ['x', 'y', 'velocity']\n",
      "\u001b[34m\u001b[1mwandb\u001b[0m: \tn_features_per_kernel: 2\n",
      "\u001b[34m\u001b[1mwandb\u001b[0m: \tnum_kernels: 500\n",
      "\u001b[34m\u001b[1mwandb\u001b[0m: \trocket_transform: rocket\n",
      "\u001b[34m\u001b[1mwandb\u001b[0m: \tscaling: True\n",
      "\u001b[34m\u001b[1mwandb\u001b[0m: \twindow_size: 7\n"
     ]
    },
    {
     "data": {
      "text/html": [
       "Tracking run with wandb version 0.18.6"
      ],
      "text/plain": [
       "<IPython.core.display.HTML object>"
      ]
     },
     "metadata": {},
     "output_type": "display_data"
    },
    {
     "data": {
      "text/html": [
       "Run data is saved locally in <code>c:\\Users\\benev\\Documents\\Uni_Master\\Masterarbeit\\CODE\\8_tennis_analytics\\wandb\\run-20241201_133440-fsl1tnd9</code>"
      ],
      "text/plain": [
       "<IPython.core.display.HTML object>"
      ]
     },
     "metadata": {},
     "output_type": "display_data"
    },
    {
     "data": {
      "text/html": [
       "Syncing run <strong><a href='https://wandb.ai/MasterarbeitBV/XGBoost_Hyperparameter_Tuning/runs/fsl1tnd9' target=\"_blank\">cool-sweep-7</a></strong> to <a href='https://wandb.ai/MasterarbeitBV/XGBoost_Hyperparameter_Tuning' target=\"_blank\">Weights & Biases</a> (<a href='https://wandb.me/developer-guide' target=\"_blank\">docs</a>)<br/>Sweep page: <a href='https://wandb.ai/MasterarbeitBV/XGBoost_Hyperparameter_Tuning/sweeps/oros33fx' target=\"_blank\">https://wandb.ai/MasterarbeitBV/XGBoost_Hyperparameter_Tuning/sweeps/oros33fx</a>"
      ],
      "text/plain": [
       "<IPython.core.display.HTML object>"
      ]
     },
     "metadata": {},
     "output_type": "display_data"
    },
    {
     "data": {
      "text/html": [
       " View project at <a href='https://wandb.ai/MasterarbeitBV/XGBoost_Hyperparameter_Tuning' target=\"_blank\">https://wandb.ai/MasterarbeitBV/XGBoost_Hyperparameter_Tuning</a>"
      ],
      "text/plain": [
       "<IPython.core.display.HTML object>"
      ]
     },
     "metadata": {},
     "output_type": "display_data"
    },
    {
     "data": {
      "text/html": [
       " View sweep at <a href='https://wandb.ai/MasterarbeitBV/XGBoost_Hyperparameter_Tuning/sweeps/oros33fx' target=\"_blank\">https://wandb.ai/MasterarbeitBV/XGBoost_Hyperparameter_Tuning/sweeps/oros33fx</a>"
      ],
      "text/plain": [
       "<IPython.core.display.HTML object>"
      ]
     },
     "metadata": {},
     "output_type": "display_data"
    },
    {
     "data": {
      "text/html": [
       " View run at <a href='https://wandb.ai/MasterarbeitBV/XGBoost_Hyperparameter_Tuning/runs/fsl1tnd9' target=\"_blank\">https://wandb.ai/MasterarbeitBV/XGBoost_Hyperparameter_Tuning/runs/fsl1tnd9</a>"
      ],
      "text/plain": [
       "<IPython.core.display.HTML object>"
      ]
     },
     "metadata": {},
     "output_type": "display_data"
    },
    {
     "data": {
      "text/html": [
       "\n",
       "    <style>\n",
       "        .wandb-row {\n",
       "            display: flex;\n",
       "            flex-direction: row;\n",
       "            flex-wrap: wrap;\n",
       "            justify-content: flex-start;\n",
       "            width: 100%;\n",
       "        }\n",
       "        .wandb-col {\n",
       "            display: flex;\n",
       "            flex-direction: column;\n",
       "            flex-basis: 100%;\n",
       "            flex: 1;\n",
       "            padding: 10px;\n",
       "        }\n",
       "    </style>\n",
       "<div class=\"wandb-row\"><div class=\"wandb-col\"><h3>Run history:</h3><br/><table class=\"wandb\"><tr><td>accuracy</td><td>▁</td></tr><tr><td>f1-score</td><td>▁</td></tr></table><br/></div><div class=\"wandb-col\"><h3>Run summary:</h3><br/><table class=\"wandb\"><tr><td>accuracy</td><td>0.89008</td></tr><tr><td>f1-score</td><td>0.60078</td></tr></table><br/></div></div>"
      ],
      "text/plain": [
       "<IPython.core.display.HTML object>"
      ]
     },
     "metadata": {},
     "output_type": "display_data"
    },
    {
     "data": {
      "text/html": [
       " View run <strong style=\"color:#cdcd00\">cool-sweep-7</strong> at: <a href='https://wandb.ai/MasterarbeitBV/XGBoost_Hyperparameter_Tuning/runs/fsl1tnd9' target=\"_blank\">https://wandb.ai/MasterarbeitBV/XGBoost_Hyperparameter_Tuning/runs/fsl1tnd9</a><br/> View project at: <a href='https://wandb.ai/MasterarbeitBV/XGBoost_Hyperparameter_Tuning' target=\"_blank\">https://wandb.ai/MasterarbeitBV/XGBoost_Hyperparameter_Tuning</a><br/>Synced 5 W&B file(s), 0 media file(s), 0 artifact file(s) and 0 other file(s)"
      ],
      "text/plain": [
       "<IPython.core.display.HTML object>"
      ]
     },
     "metadata": {},
     "output_type": "display_data"
    },
    {
     "data": {
      "text/html": [
       "Find logs at: <code>.\\wandb\\run-20241201_133440-fsl1tnd9\\logs</code>"
      ],
      "text/plain": [
       "<IPython.core.display.HTML object>"
      ]
     },
     "metadata": {},
     "output_type": "display_data"
    },
    {
     "name": "stderr",
     "output_type": "stream",
     "text": [
      "\u001b[34m\u001b[1mwandb\u001b[0m: Sweep Agent: Waiting for job.\n",
      "\u001b[34m\u001b[1mwandb\u001b[0m: Job received.\n",
      "\u001b[34m\u001b[1mwandb\u001b[0m: Agent Starting Run: 6rqqosyt with config:\n",
      "\u001b[34m\u001b[1mwandb\u001b[0m: \tBalancing: False\n",
      "\u001b[34m\u001b[1mwandb\u001b[0m: \tfeatures: ['x', 'y', 'velocity', 'direction']\n",
      "\u001b[34m\u001b[1mwandb\u001b[0m: \tn_features_per_kernel: 2\n",
      "\u001b[34m\u001b[1mwandb\u001b[0m: \tnum_kernels: 1000\n",
      "\u001b[34m\u001b[1mwandb\u001b[0m: \trocket_transform: rocket\n",
      "\u001b[34m\u001b[1mwandb\u001b[0m: \tscaling: False\n",
      "\u001b[34m\u001b[1mwandb\u001b[0m: \twindow_size: 21\n"
     ]
    },
    {
     "data": {
      "text/html": [
       "Tracking run with wandb version 0.18.6"
      ],
      "text/plain": [
       "<IPython.core.display.HTML object>"
      ]
     },
     "metadata": {},
     "output_type": "display_data"
    },
    {
     "data": {
      "text/html": [
       "Run data is saved locally in <code>c:\\Users\\benev\\Documents\\Uni_Master\\Masterarbeit\\CODE\\8_tennis_analytics\\wandb\\run-20241201_133516-6rqqosyt</code>"
      ],
      "text/plain": [
       "<IPython.core.display.HTML object>"
      ]
     },
     "metadata": {},
     "output_type": "display_data"
    },
    {
     "data": {
      "text/html": [
       "Syncing run <strong><a href='https://wandb.ai/MasterarbeitBV/XGBoost_Hyperparameter_Tuning/runs/6rqqosyt' target=\"_blank\">rural-sweep-8</a></strong> to <a href='https://wandb.ai/MasterarbeitBV/XGBoost_Hyperparameter_Tuning' target=\"_blank\">Weights & Biases</a> (<a href='https://wandb.me/developer-guide' target=\"_blank\">docs</a>)<br/>Sweep page: <a href='https://wandb.ai/MasterarbeitBV/XGBoost_Hyperparameter_Tuning/sweeps/oros33fx' target=\"_blank\">https://wandb.ai/MasterarbeitBV/XGBoost_Hyperparameter_Tuning/sweeps/oros33fx</a>"
      ],
      "text/plain": [
       "<IPython.core.display.HTML object>"
      ]
     },
     "metadata": {},
     "output_type": "display_data"
    },
    {
     "data": {
      "text/html": [
       " View project at <a href='https://wandb.ai/MasterarbeitBV/XGBoost_Hyperparameter_Tuning' target=\"_blank\">https://wandb.ai/MasterarbeitBV/XGBoost_Hyperparameter_Tuning</a>"
      ],
      "text/plain": [
       "<IPython.core.display.HTML object>"
      ]
     },
     "metadata": {},
     "output_type": "display_data"
    },
    {
     "data": {
      "text/html": [
       " View sweep at <a href='https://wandb.ai/MasterarbeitBV/XGBoost_Hyperparameter_Tuning/sweeps/oros33fx' target=\"_blank\">https://wandb.ai/MasterarbeitBV/XGBoost_Hyperparameter_Tuning/sweeps/oros33fx</a>"
      ],
      "text/plain": [
       "<IPython.core.display.HTML object>"
      ]
     },
     "metadata": {},
     "output_type": "display_data"
    },
    {
     "data": {
      "text/html": [
       " View run at <a href='https://wandb.ai/MasterarbeitBV/XGBoost_Hyperparameter_Tuning/runs/6rqqosyt' target=\"_blank\">https://wandb.ai/MasterarbeitBV/XGBoost_Hyperparameter_Tuning/runs/6rqqosyt</a>"
      ],
      "text/plain": [
       "<IPython.core.display.HTML object>"
      ]
     },
     "metadata": {},
     "output_type": "display_data"
    },
    {
     "data": {
      "text/html": [
       "\n",
       "    <style>\n",
       "        .wandb-row {\n",
       "            display: flex;\n",
       "            flex-direction: row;\n",
       "            flex-wrap: wrap;\n",
       "            justify-content: flex-start;\n",
       "            width: 100%;\n",
       "        }\n",
       "        .wandb-col {\n",
       "            display: flex;\n",
       "            flex-direction: column;\n",
       "            flex-basis: 100%;\n",
       "            flex: 1;\n",
       "            padding: 10px;\n",
       "        }\n",
       "    </style>\n",
       "<div class=\"wandb-row\"><div class=\"wandb-col\"><h3>Run history:</h3><br/><table class=\"wandb\"><tr><td>accuracy</td><td>▁</td></tr><tr><td>f1-score</td><td>▁</td></tr></table><br/></div><div class=\"wandb-col\"><h3>Run summary:</h3><br/><table class=\"wandb\"><tr><td>accuracy</td><td>0.95482</td></tr><tr><td>f1-score</td><td>0.44313</td></tr></table><br/></div></div>"
      ],
      "text/plain": [
       "<IPython.core.display.HTML object>"
      ]
     },
     "metadata": {},
     "output_type": "display_data"
    },
    {
     "data": {
      "text/html": [
       " View run <strong style=\"color:#cdcd00\">rural-sweep-8</strong> at: <a href='https://wandb.ai/MasterarbeitBV/XGBoost_Hyperparameter_Tuning/runs/6rqqosyt' target=\"_blank\">https://wandb.ai/MasterarbeitBV/XGBoost_Hyperparameter_Tuning/runs/6rqqosyt</a><br/> View project at: <a href='https://wandb.ai/MasterarbeitBV/XGBoost_Hyperparameter_Tuning' target=\"_blank\">https://wandb.ai/MasterarbeitBV/XGBoost_Hyperparameter_Tuning</a><br/>Synced 5 W&B file(s), 0 media file(s), 0 artifact file(s) and 0 other file(s)"
      ],
      "text/plain": [
       "<IPython.core.display.HTML object>"
      ]
     },
     "metadata": {},
     "output_type": "display_data"
    },
    {
     "data": {
      "text/html": [
       "Find logs at: <code>.\\wandb\\run-20241201_133516-6rqqosyt\\logs</code>"
      ],
      "text/plain": [
       "<IPython.core.display.HTML object>"
      ]
     },
     "metadata": {},
     "output_type": "display_data"
    },
    {
     "name": "stderr",
     "output_type": "stream",
     "text": [
      "\u001b[34m\u001b[1mwandb\u001b[0m: Agent Starting Run: n5p54lcy with config:\n",
      "\u001b[34m\u001b[1mwandb\u001b[0m: \tBalancing: True\n",
      "\u001b[34m\u001b[1mwandb\u001b[0m: \tfeatures: ['x', 'y', 'velocity']\n",
      "\u001b[34m\u001b[1mwandb\u001b[0m: \tn_features_per_kernel: 2\n",
      "\u001b[34m\u001b[1mwandb\u001b[0m: \tnum_kernels: 500\n",
      "\u001b[34m\u001b[1mwandb\u001b[0m: \trocket_transform: rocket\n",
      "\u001b[34m\u001b[1mwandb\u001b[0m: \tscaling: True\n",
      "\u001b[34m\u001b[1mwandb\u001b[0m: \twindow_size: 7\n"
     ]
    },
    {
     "data": {
      "text/html": [
       "Tracking run with wandb version 0.18.6"
      ],
      "text/plain": [
       "<IPython.core.display.HTML object>"
      ]
     },
     "metadata": {},
     "output_type": "display_data"
    },
    {
     "data": {
      "text/html": [
       "Run data is saved locally in <code>c:\\Users\\benev\\Documents\\Uni_Master\\Masterarbeit\\CODE\\8_tennis_analytics\\wandb\\run-20241201_133552-n5p54lcy</code>"
      ],
      "text/plain": [
       "<IPython.core.display.HTML object>"
      ]
     },
     "metadata": {},
     "output_type": "display_data"
    },
    {
     "data": {
      "text/html": [
       "Syncing run <strong><a href='https://wandb.ai/MasterarbeitBV/XGBoost_Hyperparameter_Tuning/runs/n5p54lcy' target=\"_blank\">confused-sweep-9</a></strong> to <a href='https://wandb.ai/MasterarbeitBV/XGBoost_Hyperparameter_Tuning' target=\"_blank\">Weights & Biases</a> (<a href='https://wandb.me/developer-guide' target=\"_blank\">docs</a>)<br/>Sweep page: <a href='https://wandb.ai/MasterarbeitBV/XGBoost_Hyperparameter_Tuning/sweeps/oros33fx' target=\"_blank\">https://wandb.ai/MasterarbeitBV/XGBoost_Hyperparameter_Tuning/sweeps/oros33fx</a>"
      ],
      "text/plain": [
       "<IPython.core.display.HTML object>"
      ]
     },
     "metadata": {},
     "output_type": "display_data"
    },
    {
     "data": {
      "text/html": [
       " View project at <a href='https://wandb.ai/MasterarbeitBV/XGBoost_Hyperparameter_Tuning' target=\"_blank\">https://wandb.ai/MasterarbeitBV/XGBoost_Hyperparameter_Tuning</a>"
      ],
      "text/plain": [
       "<IPython.core.display.HTML object>"
      ]
     },
     "metadata": {},
     "output_type": "display_data"
    },
    {
     "data": {
      "text/html": [
       " View sweep at <a href='https://wandb.ai/MasterarbeitBV/XGBoost_Hyperparameter_Tuning/sweeps/oros33fx' target=\"_blank\">https://wandb.ai/MasterarbeitBV/XGBoost_Hyperparameter_Tuning/sweeps/oros33fx</a>"
      ],
      "text/plain": [
       "<IPython.core.display.HTML object>"
      ]
     },
     "metadata": {},
     "output_type": "display_data"
    },
    {
     "data": {
      "text/html": [
       " View run at <a href='https://wandb.ai/MasterarbeitBV/XGBoost_Hyperparameter_Tuning/runs/n5p54lcy' target=\"_blank\">https://wandb.ai/MasterarbeitBV/XGBoost_Hyperparameter_Tuning/runs/n5p54lcy</a>"
      ],
      "text/plain": [
       "<IPython.core.display.HTML object>"
      ]
     },
     "metadata": {},
     "output_type": "display_data"
    },
    {
     "data": {
      "text/html": [
       "\n",
       "    <style>\n",
       "        .wandb-row {\n",
       "            display: flex;\n",
       "            flex-direction: row;\n",
       "            flex-wrap: wrap;\n",
       "            justify-content: flex-start;\n",
       "            width: 100%;\n",
       "        }\n",
       "        .wandb-col {\n",
       "            display: flex;\n",
       "            flex-direction: column;\n",
       "            flex-basis: 100%;\n",
       "            flex: 1;\n",
       "            padding: 10px;\n",
       "        }\n",
       "    </style>\n",
       "<div class=\"wandb-row\"><div class=\"wandb-col\"><h3>Run history:</h3><br/><table class=\"wandb\"><tr><td>accuracy</td><td>▁</td></tr><tr><td>f1-score</td><td>▁</td></tr></table><br/></div><div class=\"wandb-col\"><h3>Run summary:</h3><br/><table class=\"wandb\"><tr><td>accuracy</td><td>0.89008</td></tr><tr><td>f1-score</td><td>0.60078</td></tr></table><br/></div></div>"
      ],
      "text/plain": [
       "<IPython.core.display.HTML object>"
      ]
     },
     "metadata": {},
     "output_type": "display_data"
    },
    {
     "data": {
      "text/html": [
       " View run <strong style=\"color:#cdcd00\">confused-sweep-9</strong> at: <a href='https://wandb.ai/MasterarbeitBV/XGBoost_Hyperparameter_Tuning/runs/n5p54lcy' target=\"_blank\">https://wandb.ai/MasterarbeitBV/XGBoost_Hyperparameter_Tuning/runs/n5p54lcy</a><br/> View project at: <a href='https://wandb.ai/MasterarbeitBV/XGBoost_Hyperparameter_Tuning' target=\"_blank\">https://wandb.ai/MasterarbeitBV/XGBoost_Hyperparameter_Tuning</a><br/>Synced 5 W&B file(s), 0 media file(s), 0 artifact file(s) and 0 other file(s)"
      ],
      "text/plain": [
       "<IPython.core.display.HTML object>"
      ]
     },
     "metadata": {},
     "output_type": "display_data"
    },
    {
     "data": {
      "text/html": [
       "Find logs at: <code>.\\wandb\\run-20241201_133552-n5p54lcy\\logs</code>"
      ],
      "text/plain": [
       "<IPython.core.display.HTML object>"
      ]
     },
     "metadata": {},
     "output_type": "display_data"
    },
    {
     "name": "stderr",
     "output_type": "stream",
     "text": [
      "\u001b[34m\u001b[1mwandb\u001b[0m: Agent Starting Run: kr1h2rqb with config:\n",
      "\u001b[34m\u001b[1mwandb\u001b[0m: \tBalancing: True\n",
      "\u001b[34m\u001b[1mwandb\u001b[0m: \tfeatures: ['x', 'y']\n",
      "\u001b[34m\u001b[1mwandb\u001b[0m: \tn_features_per_kernel: 4\n",
      "\u001b[34m\u001b[1mwandb\u001b[0m: \tnum_kernels: 1000\n",
      "\u001b[34m\u001b[1mwandb\u001b[0m: \trocket_transform: rocket\n",
      "\u001b[34m\u001b[1mwandb\u001b[0m: \tscaling: False\n",
      "\u001b[34m\u001b[1mwandb\u001b[0m: \twindow_size: 11\n"
     ]
    },
    {
     "data": {
      "text/html": [
       "Tracking run with wandb version 0.18.6"
      ],
      "text/plain": [
       "<IPython.core.display.HTML object>"
      ]
     },
     "metadata": {},
     "output_type": "display_data"
    },
    {
     "data": {
      "text/html": [
       "Run data is saved locally in <code>c:\\Users\\benev\\Documents\\Uni_Master\\Masterarbeit\\CODE\\8_tennis_analytics\\wandb\\run-20241201_133618-kr1h2rqb</code>"
      ],
      "text/plain": [
       "<IPython.core.display.HTML object>"
      ]
     },
     "metadata": {},
     "output_type": "display_data"
    },
    {
     "data": {
      "text/html": [
       "Syncing run <strong><a href='https://wandb.ai/MasterarbeitBV/XGBoost_Hyperparameter_Tuning/runs/kr1h2rqb' target=\"_blank\">icy-sweep-10</a></strong> to <a href='https://wandb.ai/MasterarbeitBV/XGBoost_Hyperparameter_Tuning' target=\"_blank\">Weights & Biases</a> (<a href='https://wandb.me/developer-guide' target=\"_blank\">docs</a>)<br/>Sweep page: <a href='https://wandb.ai/MasterarbeitBV/XGBoost_Hyperparameter_Tuning/sweeps/oros33fx' target=\"_blank\">https://wandb.ai/MasterarbeitBV/XGBoost_Hyperparameter_Tuning/sweeps/oros33fx</a>"
      ],
      "text/plain": [
       "<IPython.core.display.HTML object>"
      ]
     },
     "metadata": {},
     "output_type": "display_data"
    },
    {
     "data": {
      "text/html": [
       " View project at <a href='https://wandb.ai/MasterarbeitBV/XGBoost_Hyperparameter_Tuning' target=\"_blank\">https://wandb.ai/MasterarbeitBV/XGBoost_Hyperparameter_Tuning</a>"
      ],
      "text/plain": [
       "<IPython.core.display.HTML object>"
      ]
     },
     "metadata": {},
     "output_type": "display_data"
    },
    {
     "data": {
      "text/html": [
       " View sweep at <a href='https://wandb.ai/MasterarbeitBV/XGBoost_Hyperparameter_Tuning/sweeps/oros33fx' target=\"_blank\">https://wandb.ai/MasterarbeitBV/XGBoost_Hyperparameter_Tuning/sweeps/oros33fx</a>"
      ],
      "text/plain": [
       "<IPython.core.display.HTML object>"
      ]
     },
     "metadata": {},
     "output_type": "display_data"
    },
    {
     "data": {
      "text/html": [
       " View run at <a href='https://wandb.ai/MasterarbeitBV/XGBoost_Hyperparameter_Tuning/runs/kr1h2rqb' target=\"_blank\">https://wandb.ai/MasterarbeitBV/XGBoost_Hyperparameter_Tuning/runs/kr1h2rqb</a>"
      ],
      "text/plain": [
       "<IPython.core.display.HTML object>"
      ]
     },
     "metadata": {},
     "output_type": "display_data"
    },
    {
     "data": {
      "text/html": [
       "\n",
       "    <style>\n",
       "        .wandb-row {\n",
       "            display: flex;\n",
       "            flex-direction: row;\n",
       "            flex-wrap: wrap;\n",
       "            justify-content: flex-start;\n",
       "            width: 100%;\n",
       "        }\n",
       "        .wandb-col {\n",
       "            display: flex;\n",
       "            flex-direction: column;\n",
       "            flex-basis: 100%;\n",
       "            flex: 1;\n",
       "            padding: 10px;\n",
       "        }\n",
       "    </style>\n",
       "<div class=\"wandb-row\"><div class=\"wandb-col\"><h3>Run history:</h3><br/><table class=\"wandb\"><tr><td>accuracy</td><td>▁</td></tr><tr><td>f1-score</td><td>▁</td></tr></table><br/></div><div class=\"wandb-col\"><h3>Run summary:</h3><br/><table class=\"wandb\"><tr><td>accuracy</td><td>0.93147</td></tr><tr><td>f1-score</td><td>0.69138</td></tr></table><br/></div></div>"
      ],
      "text/plain": [
       "<IPython.core.display.HTML object>"
      ]
     },
     "metadata": {},
     "output_type": "display_data"
    },
    {
     "data": {
      "text/html": [
       " View run <strong style=\"color:#cdcd00\">icy-sweep-10</strong> at: <a href='https://wandb.ai/MasterarbeitBV/XGBoost_Hyperparameter_Tuning/runs/kr1h2rqb' target=\"_blank\">https://wandb.ai/MasterarbeitBV/XGBoost_Hyperparameter_Tuning/runs/kr1h2rqb</a><br/> View project at: <a href='https://wandb.ai/MasterarbeitBV/XGBoost_Hyperparameter_Tuning' target=\"_blank\">https://wandb.ai/MasterarbeitBV/XGBoost_Hyperparameter_Tuning</a><br/>Synced 5 W&B file(s), 0 media file(s), 0 artifact file(s) and 0 other file(s)"
      ],
      "text/plain": [
       "<IPython.core.display.HTML object>"
      ]
     },
     "metadata": {},
     "output_type": "display_data"
    },
    {
     "data": {
      "text/html": [
       "Find logs at: <code>.\\wandb\\run-20241201_133618-kr1h2rqb\\logs</code>"
      ],
      "text/plain": [
       "<IPython.core.display.HTML object>"
      ]
     },
     "metadata": {},
     "output_type": "display_data"
    },
    {
     "name": "stderr",
     "output_type": "stream",
     "text": [
      "\u001b[34m\u001b[1mwandb\u001b[0m: Agent Starting Run: 2emb5nru with config:\n",
      "\u001b[34m\u001b[1mwandb\u001b[0m: \tBalancing: False\n",
      "\u001b[34m\u001b[1mwandb\u001b[0m: \tfeatures: ['x', 'y', 'velocity', 'direction']\n",
      "\u001b[34m\u001b[1mwandb\u001b[0m: \tn_features_per_kernel: 4\n",
      "\u001b[34m\u001b[1mwandb\u001b[0m: \tnum_kernels: 2000\n",
      "\u001b[34m\u001b[1mwandb\u001b[0m: \trocket_transform: rocket\n",
      "\u001b[34m\u001b[1mwandb\u001b[0m: \tscaling: False\n",
      "\u001b[34m\u001b[1mwandb\u001b[0m: \twindow_size: 11\n"
     ]
    },
    {
     "data": {
      "text/html": [
       "Tracking run with wandb version 0.18.6"
      ],
      "text/plain": [
       "<IPython.core.display.HTML object>"
      ]
     },
     "metadata": {},
     "output_type": "display_data"
    },
    {
     "data": {
      "text/html": [
       "Run data is saved locally in <code>c:\\Users\\benev\\Documents\\Uni_Master\\Masterarbeit\\CODE\\8_tennis_analytics\\wandb\\run-20241201_133706-2emb5nru</code>"
      ],
      "text/plain": [
       "<IPython.core.display.HTML object>"
      ]
     },
     "metadata": {},
     "output_type": "display_data"
    },
    {
     "data": {
      "text/html": [
       "Syncing run <strong><a href='https://wandb.ai/MasterarbeitBV/XGBoost_Hyperparameter_Tuning/runs/2emb5nru' target=\"_blank\">hearty-sweep-11</a></strong> to <a href='https://wandb.ai/MasterarbeitBV/XGBoost_Hyperparameter_Tuning' target=\"_blank\">Weights & Biases</a> (<a href='https://wandb.me/developer-guide' target=\"_blank\">docs</a>)<br/>Sweep page: <a href='https://wandb.ai/MasterarbeitBV/XGBoost_Hyperparameter_Tuning/sweeps/oros33fx' target=\"_blank\">https://wandb.ai/MasterarbeitBV/XGBoost_Hyperparameter_Tuning/sweeps/oros33fx</a>"
      ],
      "text/plain": [
       "<IPython.core.display.HTML object>"
      ]
     },
     "metadata": {},
     "output_type": "display_data"
    },
    {
     "data": {
      "text/html": [
       " View project at <a href='https://wandb.ai/MasterarbeitBV/XGBoost_Hyperparameter_Tuning' target=\"_blank\">https://wandb.ai/MasterarbeitBV/XGBoost_Hyperparameter_Tuning</a>"
      ],
      "text/plain": [
       "<IPython.core.display.HTML object>"
      ]
     },
     "metadata": {},
     "output_type": "display_data"
    },
    {
     "data": {
      "text/html": [
       " View sweep at <a href='https://wandb.ai/MasterarbeitBV/XGBoost_Hyperparameter_Tuning/sweeps/oros33fx' target=\"_blank\">https://wandb.ai/MasterarbeitBV/XGBoost_Hyperparameter_Tuning/sweeps/oros33fx</a>"
      ],
      "text/plain": [
       "<IPython.core.display.HTML object>"
      ]
     },
     "metadata": {},
     "output_type": "display_data"
    },
    {
     "data": {
      "text/html": [
       " View run at <a href='https://wandb.ai/MasterarbeitBV/XGBoost_Hyperparameter_Tuning/runs/2emb5nru' target=\"_blank\">https://wandb.ai/MasterarbeitBV/XGBoost_Hyperparameter_Tuning/runs/2emb5nru</a>"
      ],
      "text/plain": [
       "<IPython.core.display.HTML object>"
      ]
     },
     "metadata": {},
     "output_type": "display_data"
    },
    {
     "data": {
      "text/html": [
       "\n",
       "    <style>\n",
       "        .wandb-row {\n",
       "            display: flex;\n",
       "            flex-direction: row;\n",
       "            flex-wrap: wrap;\n",
       "            justify-content: flex-start;\n",
       "            width: 100%;\n",
       "        }\n",
       "        .wandb-col {\n",
       "            display: flex;\n",
       "            flex-direction: column;\n",
       "            flex-basis: 100%;\n",
       "            flex: 1;\n",
       "            padding: 10px;\n",
       "        }\n",
       "    </style>\n",
       "<div class=\"wandb-row\"><div class=\"wandb-col\"><h3>Run history:</h3><br/><table class=\"wandb\"><tr><td>accuracy</td><td>▁</td></tr><tr><td>f1-score</td><td>▁</td></tr></table><br/></div><div class=\"wandb-col\"><h3>Run summary:</h3><br/><table class=\"wandb\"><tr><td>accuracy</td><td>0.96683</td></tr><tr><td>f1-score</td><td>0.70695</td></tr></table><br/></div></div>"
      ],
      "text/plain": [
       "<IPython.core.display.HTML object>"
      ]
     },
     "metadata": {},
     "output_type": "display_data"
    },
    {
     "data": {
      "text/html": [
       " View run <strong style=\"color:#cdcd00\">hearty-sweep-11</strong> at: <a href='https://wandb.ai/MasterarbeitBV/XGBoost_Hyperparameter_Tuning/runs/2emb5nru' target=\"_blank\">https://wandb.ai/MasterarbeitBV/XGBoost_Hyperparameter_Tuning/runs/2emb5nru</a><br/> View project at: <a href='https://wandb.ai/MasterarbeitBV/XGBoost_Hyperparameter_Tuning' target=\"_blank\">https://wandb.ai/MasterarbeitBV/XGBoost_Hyperparameter_Tuning</a><br/>Synced 5 W&B file(s), 0 media file(s), 0 artifact file(s) and 0 other file(s)"
      ],
      "text/plain": [
       "<IPython.core.display.HTML object>"
      ]
     },
     "metadata": {},
     "output_type": "display_data"
    },
    {
     "data": {
      "text/html": [
       "Find logs at: <code>.\\wandb\\run-20241201_133706-2emb5nru\\logs</code>"
      ],
      "text/plain": [
       "<IPython.core.display.HTML object>"
      ]
     },
     "metadata": {},
     "output_type": "display_data"
    },
    {
     "name": "stderr",
     "output_type": "stream",
     "text": [
      "\u001b[34m\u001b[1mwandb\u001b[0m: Agent Starting Run: 6pnbgtoi with config:\n",
      "\u001b[34m\u001b[1mwandb\u001b[0m: \tBalancing: True\n",
      "\u001b[34m\u001b[1mwandb\u001b[0m: \tfeatures: ['x', 'y', 'velocity']\n",
      "\u001b[34m\u001b[1mwandb\u001b[0m: \tn_features_per_kernel: 4\n",
      "\u001b[34m\u001b[1mwandb\u001b[0m: \tnum_kernels: 1000\n",
      "\u001b[34m\u001b[1mwandb\u001b[0m: \trocket_transform: rocket\n",
      "\u001b[34m\u001b[1mwandb\u001b[0m: \tscaling: True\n",
      "\u001b[34m\u001b[1mwandb\u001b[0m: \twindow_size: 21\n"
     ]
    },
    {
     "data": {
      "text/html": [
       "Tracking run with wandb version 0.18.6"
      ],
      "text/plain": [
       "<IPython.core.display.HTML object>"
      ]
     },
     "metadata": {},
     "output_type": "display_data"
    },
    {
     "data": {
      "text/html": [
       "Run data is saved locally in <code>c:\\Users\\benev\\Documents\\Uni_Master\\Masterarbeit\\CODE\\8_tennis_analytics\\wandb\\run-20241201_133817-6pnbgtoi</code>"
      ],
      "text/plain": [
       "<IPython.core.display.HTML object>"
      ]
     },
     "metadata": {},
     "output_type": "display_data"
    },
    {
     "data": {
      "text/html": [
       "Syncing run <strong><a href='https://wandb.ai/MasterarbeitBV/XGBoost_Hyperparameter_Tuning/runs/6pnbgtoi' target=\"_blank\">royal-sweep-12</a></strong> to <a href='https://wandb.ai/MasterarbeitBV/XGBoost_Hyperparameter_Tuning' target=\"_blank\">Weights & Biases</a> (<a href='https://wandb.me/developer-guide' target=\"_blank\">docs</a>)<br/>Sweep page: <a href='https://wandb.ai/MasterarbeitBV/XGBoost_Hyperparameter_Tuning/sweeps/oros33fx' target=\"_blank\">https://wandb.ai/MasterarbeitBV/XGBoost_Hyperparameter_Tuning/sweeps/oros33fx</a>"
      ],
      "text/plain": [
       "<IPython.core.display.HTML object>"
      ]
     },
     "metadata": {},
     "output_type": "display_data"
    },
    {
     "data": {
      "text/html": [
       " View project at <a href='https://wandb.ai/MasterarbeitBV/XGBoost_Hyperparameter_Tuning' target=\"_blank\">https://wandb.ai/MasterarbeitBV/XGBoost_Hyperparameter_Tuning</a>"
      ],
      "text/plain": [
       "<IPython.core.display.HTML object>"
      ]
     },
     "metadata": {},
     "output_type": "display_data"
    },
    {
     "data": {
      "text/html": [
       " View sweep at <a href='https://wandb.ai/MasterarbeitBV/XGBoost_Hyperparameter_Tuning/sweeps/oros33fx' target=\"_blank\">https://wandb.ai/MasterarbeitBV/XGBoost_Hyperparameter_Tuning/sweeps/oros33fx</a>"
      ],
      "text/plain": [
       "<IPython.core.display.HTML object>"
      ]
     },
     "metadata": {},
     "output_type": "display_data"
    },
    {
     "data": {
      "text/html": [
       " View run at <a href='https://wandb.ai/MasterarbeitBV/XGBoost_Hyperparameter_Tuning/runs/6pnbgtoi' target=\"_blank\">https://wandb.ai/MasterarbeitBV/XGBoost_Hyperparameter_Tuning/runs/6pnbgtoi</a>"
      ],
      "text/plain": [
       "<IPython.core.display.HTML object>"
      ]
     },
     "metadata": {},
     "output_type": "display_data"
    },
    {
     "data": {
      "text/html": [
       "\n",
       "    <style>\n",
       "        .wandb-row {\n",
       "            display: flex;\n",
       "            flex-direction: row;\n",
       "            flex-wrap: wrap;\n",
       "            justify-content: flex-start;\n",
       "            width: 100%;\n",
       "        }\n",
       "        .wandb-col {\n",
       "            display: flex;\n",
       "            flex-direction: column;\n",
       "            flex-basis: 100%;\n",
       "            flex: 1;\n",
       "            padding: 10px;\n",
       "        }\n",
       "    </style>\n",
       "<div class=\"wandb-row\"><div class=\"wandb-col\"><h3>Run history:</h3><br/><table class=\"wandb\"><tr><td>accuracy</td><td>▁</td></tr><tr><td>f1-score</td><td>▁</td></tr></table><br/></div><div class=\"wandb-col\"><h3>Run summary:</h3><br/><table class=\"wandb\"><tr><td>accuracy</td><td>0.91707</td></tr><tr><td>f1-score</td><td>0.66355</td></tr></table><br/></div></div>"
      ],
      "text/plain": [
       "<IPython.core.display.HTML object>"
      ]
     },
     "metadata": {},
     "output_type": "display_data"
    },
    {
     "data": {
      "text/html": [
       " View run <strong style=\"color:#cdcd00\">royal-sweep-12</strong> at: <a href='https://wandb.ai/MasterarbeitBV/XGBoost_Hyperparameter_Tuning/runs/6pnbgtoi' target=\"_blank\">https://wandb.ai/MasterarbeitBV/XGBoost_Hyperparameter_Tuning/runs/6pnbgtoi</a><br/> View project at: <a href='https://wandb.ai/MasterarbeitBV/XGBoost_Hyperparameter_Tuning' target=\"_blank\">https://wandb.ai/MasterarbeitBV/XGBoost_Hyperparameter_Tuning</a><br/>Synced 5 W&B file(s), 0 media file(s), 0 artifact file(s) and 0 other file(s)"
      ],
      "text/plain": [
       "<IPython.core.display.HTML object>"
      ]
     },
     "metadata": {},
     "output_type": "display_data"
    },
    {
     "data": {
      "text/html": [
       "Find logs at: <code>.\\wandb\\run-20241201_133817-6pnbgtoi\\logs</code>"
      ],
      "text/plain": [
       "<IPython.core.display.HTML object>"
      ]
     },
     "metadata": {},
     "output_type": "display_data"
    },
    {
     "name": "stderr",
     "output_type": "stream",
     "text": [
      "\u001b[34m\u001b[1mwandb\u001b[0m: Agent Starting Run: e5klhro8 with config:\n",
      "\u001b[34m\u001b[1mwandb\u001b[0m: \tBalancing: True\n",
      "\u001b[34m\u001b[1mwandb\u001b[0m: \tfeatures: ['x', 'y']\n",
      "\u001b[34m\u001b[1mwandb\u001b[0m: \tn_features_per_kernel: 4\n",
      "\u001b[34m\u001b[1mwandb\u001b[0m: \tnum_kernels: 2000\n",
      "\u001b[34m\u001b[1mwandb\u001b[0m: \trocket_transform: rocket\n",
      "\u001b[34m\u001b[1mwandb\u001b[0m: \tscaling: False\n",
      "\u001b[34m\u001b[1mwandb\u001b[0m: \twindow_size: 11\n"
     ]
    },
    {
     "data": {
      "text/html": [
       "Tracking run with wandb version 0.18.6"
      ],
      "text/plain": [
       "<IPython.core.display.HTML object>"
      ]
     },
     "metadata": {},
     "output_type": "display_data"
    },
    {
     "data": {
      "text/html": [
       "Run data is saved locally in <code>c:\\Users\\benev\\Documents\\Uni_Master\\Masterarbeit\\CODE\\8_tennis_analytics\\wandb\\run-20241201_133924-e5klhro8</code>"
      ],
      "text/plain": [
       "<IPython.core.display.HTML object>"
      ]
     },
     "metadata": {},
     "output_type": "display_data"
    },
    {
     "data": {
      "text/html": [
       "Syncing run <strong><a href='https://wandb.ai/MasterarbeitBV/XGBoost_Hyperparameter_Tuning/runs/e5klhro8' target=\"_blank\">youthful-sweep-13</a></strong> to <a href='https://wandb.ai/MasterarbeitBV/XGBoost_Hyperparameter_Tuning' target=\"_blank\">Weights & Biases</a> (<a href='https://wandb.me/developer-guide' target=\"_blank\">docs</a>)<br/>Sweep page: <a href='https://wandb.ai/MasterarbeitBV/XGBoost_Hyperparameter_Tuning/sweeps/oros33fx' target=\"_blank\">https://wandb.ai/MasterarbeitBV/XGBoost_Hyperparameter_Tuning/sweeps/oros33fx</a>"
      ],
      "text/plain": [
       "<IPython.core.display.HTML object>"
      ]
     },
     "metadata": {},
     "output_type": "display_data"
    },
    {
     "data": {
      "text/html": [
       " View project at <a href='https://wandb.ai/MasterarbeitBV/XGBoost_Hyperparameter_Tuning' target=\"_blank\">https://wandb.ai/MasterarbeitBV/XGBoost_Hyperparameter_Tuning</a>"
      ],
      "text/plain": [
       "<IPython.core.display.HTML object>"
      ]
     },
     "metadata": {},
     "output_type": "display_data"
    },
    {
     "data": {
      "text/html": [
       " View sweep at <a href='https://wandb.ai/MasterarbeitBV/XGBoost_Hyperparameter_Tuning/sweeps/oros33fx' target=\"_blank\">https://wandb.ai/MasterarbeitBV/XGBoost_Hyperparameter_Tuning/sweeps/oros33fx</a>"
      ],
      "text/plain": [
       "<IPython.core.display.HTML object>"
      ]
     },
     "metadata": {},
     "output_type": "display_data"
    },
    {
     "data": {
      "text/html": [
       " View run at <a href='https://wandb.ai/MasterarbeitBV/XGBoost_Hyperparameter_Tuning/runs/e5klhro8' target=\"_blank\">https://wandb.ai/MasterarbeitBV/XGBoost_Hyperparameter_Tuning/runs/e5klhro8</a>"
      ],
      "text/plain": [
       "<IPython.core.display.HTML object>"
      ]
     },
     "metadata": {},
     "output_type": "display_data"
    },
    {
     "data": {
      "text/html": [
       "\n",
       "    <style>\n",
       "        .wandb-row {\n",
       "            display: flex;\n",
       "            flex-direction: row;\n",
       "            flex-wrap: wrap;\n",
       "            justify-content: flex-start;\n",
       "            width: 100%;\n",
       "        }\n",
       "        .wandb-col {\n",
       "            display: flex;\n",
       "            flex-direction: column;\n",
       "            flex-basis: 100%;\n",
       "            flex: 1;\n",
       "            padding: 10px;\n",
       "        }\n",
       "    </style>\n",
       "<div class=\"wandb-row\"><div class=\"wandb-col\"><h3>Run history:</h3><br/><table class=\"wandb\"><tr><td>accuracy</td><td>▁</td></tr><tr><td>f1-score</td><td>▁</td></tr></table><br/></div><div class=\"wandb-col\"><h3>Run summary:</h3><br/><table class=\"wandb\"><tr><td>accuracy</td><td>0.93777</td></tr><tr><td>f1-score</td><td>0.70348</td></tr></table><br/></div></div>"
      ],
      "text/plain": [
       "<IPython.core.display.HTML object>"
      ]
     },
     "metadata": {},
     "output_type": "display_data"
    },
    {
     "data": {
      "text/html": [
       " View run <strong style=\"color:#cdcd00\">youthful-sweep-13</strong> at: <a href='https://wandb.ai/MasterarbeitBV/XGBoost_Hyperparameter_Tuning/runs/e5klhro8' target=\"_blank\">https://wandb.ai/MasterarbeitBV/XGBoost_Hyperparameter_Tuning/runs/e5klhro8</a><br/> View project at: <a href='https://wandb.ai/MasterarbeitBV/XGBoost_Hyperparameter_Tuning' target=\"_blank\">https://wandb.ai/MasterarbeitBV/XGBoost_Hyperparameter_Tuning</a><br/>Synced 5 W&B file(s), 0 media file(s), 0 artifact file(s) and 0 other file(s)"
      ],
      "text/plain": [
       "<IPython.core.display.HTML object>"
      ]
     },
     "metadata": {},
     "output_type": "display_data"
    },
    {
     "data": {
      "text/html": [
       "Find logs at: <code>.\\wandb\\run-20241201_133924-e5klhro8\\logs</code>"
      ],
      "text/plain": [
       "<IPython.core.display.HTML object>"
      ]
     },
     "metadata": {},
     "output_type": "display_data"
    },
    {
     "name": "stderr",
     "output_type": "stream",
     "text": [
      "\u001b[34m\u001b[1mwandb\u001b[0m: Agent Starting Run: g0m7sn09 with config:\n",
      "\u001b[34m\u001b[1mwandb\u001b[0m: \tBalancing: True\n",
      "\u001b[34m\u001b[1mwandb\u001b[0m: \tfeatures: ['x', 'y']\n",
      "\u001b[34m\u001b[1mwandb\u001b[0m: \tn_features_per_kernel: 4\n",
      "\u001b[34m\u001b[1mwandb\u001b[0m: \tnum_kernels: 2000\n",
      "\u001b[34m\u001b[1mwandb\u001b[0m: \trocket_transform: rocket\n",
      "\u001b[34m\u001b[1mwandb\u001b[0m: \tscaling: False\n",
      "\u001b[34m\u001b[1mwandb\u001b[0m: \twindow_size: 21\n"
     ]
    },
    {
     "data": {
      "text/html": [
       "Tracking run with wandb version 0.18.6"
      ],
      "text/plain": [
       "<IPython.core.display.HTML object>"
      ]
     },
     "metadata": {},
     "output_type": "display_data"
    },
    {
     "data": {
      "text/html": [
       "Run data is saved locally in <code>c:\\Users\\benev\\Documents\\Uni_Master\\Masterarbeit\\CODE\\8_tennis_analytics\\wandb\\run-20241201_134129-g0m7sn09</code>"
      ],
      "text/plain": [
       "<IPython.core.display.HTML object>"
      ]
     },
     "metadata": {},
     "output_type": "display_data"
    },
    {
     "data": {
      "text/html": [
       "Syncing run <strong><a href='https://wandb.ai/MasterarbeitBV/XGBoost_Hyperparameter_Tuning/runs/g0m7sn09' target=\"_blank\">sweepy-sweep-14</a></strong> to <a href='https://wandb.ai/MasterarbeitBV/XGBoost_Hyperparameter_Tuning' target=\"_blank\">Weights & Biases</a> (<a href='https://wandb.me/developer-guide' target=\"_blank\">docs</a>)<br/>Sweep page: <a href='https://wandb.ai/MasterarbeitBV/XGBoost_Hyperparameter_Tuning/sweeps/oros33fx' target=\"_blank\">https://wandb.ai/MasterarbeitBV/XGBoost_Hyperparameter_Tuning/sweeps/oros33fx</a>"
      ],
      "text/plain": [
       "<IPython.core.display.HTML object>"
      ]
     },
     "metadata": {},
     "output_type": "display_data"
    },
    {
     "data": {
      "text/html": [
       " View project at <a href='https://wandb.ai/MasterarbeitBV/XGBoost_Hyperparameter_Tuning' target=\"_blank\">https://wandb.ai/MasterarbeitBV/XGBoost_Hyperparameter_Tuning</a>"
      ],
      "text/plain": [
       "<IPython.core.display.HTML object>"
      ]
     },
     "metadata": {},
     "output_type": "display_data"
    },
    {
     "data": {
      "text/html": [
       " View sweep at <a href='https://wandb.ai/MasterarbeitBV/XGBoost_Hyperparameter_Tuning/sweeps/oros33fx' target=\"_blank\">https://wandb.ai/MasterarbeitBV/XGBoost_Hyperparameter_Tuning/sweeps/oros33fx</a>"
      ],
      "text/plain": [
       "<IPython.core.display.HTML object>"
      ]
     },
     "metadata": {},
     "output_type": "display_data"
    },
    {
     "data": {
      "text/html": [
       " View run at <a href='https://wandb.ai/MasterarbeitBV/XGBoost_Hyperparameter_Tuning/runs/g0m7sn09' target=\"_blank\">https://wandb.ai/MasterarbeitBV/XGBoost_Hyperparameter_Tuning/runs/g0m7sn09</a>"
      ],
      "text/plain": [
       "<IPython.core.display.HTML object>"
      ]
     },
     "metadata": {},
     "output_type": "display_data"
    },
    {
     "data": {
      "text/html": [
       "\n",
       "    <style>\n",
       "        .wandb-row {\n",
       "            display: flex;\n",
       "            flex-direction: row;\n",
       "            flex-wrap: wrap;\n",
       "            justify-content: flex-start;\n",
       "            width: 100%;\n",
       "        }\n",
       "        .wandb-col {\n",
       "            display: flex;\n",
       "            flex-direction: column;\n",
       "            flex-basis: 100%;\n",
       "            flex: 1;\n",
       "            padding: 10px;\n",
       "        }\n",
       "    </style>\n",
       "<div class=\"wandb-row\"><div class=\"wandb-col\"><h3>Run history:</h3><br/><table class=\"wandb\"><tr><td>accuracy</td><td>▁</td></tr><tr><td>f1-score</td><td>▁</td></tr></table><br/></div><div class=\"wandb-col\"><h3>Run summary:</h3><br/><table class=\"wandb\"><tr><td>accuracy</td><td>0.92062</td></tr><tr><td>f1-score</td><td>0.6691</td></tr></table><br/></div></div>"
      ],
      "text/plain": [
       "<IPython.core.display.HTML object>"
      ]
     },
     "metadata": {},
     "output_type": "display_data"
    },
    {
     "data": {
      "text/html": [
       " View run <strong style=\"color:#cdcd00\">sweepy-sweep-14</strong> at: <a href='https://wandb.ai/MasterarbeitBV/XGBoost_Hyperparameter_Tuning/runs/g0m7sn09' target=\"_blank\">https://wandb.ai/MasterarbeitBV/XGBoost_Hyperparameter_Tuning/runs/g0m7sn09</a><br/> View project at: <a href='https://wandb.ai/MasterarbeitBV/XGBoost_Hyperparameter_Tuning' target=\"_blank\">https://wandb.ai/MasterarbeitBV/XGBoost_Hyperparameter_Tuning</a><br/>Synced 5 W&B file(s), 0 media file(s), 0 artifact file(s) and 0 other file(s)"
      ],
      "text/plain": [
       "<IPython.core.display.HTML object>"
      ]
     },
     "metadata": {},
     "output_type": "display_data"
    },
    {
     "data": {
      "text/html": [
       "Find logs at: <code>.\\wandb\\run-20241201_134129-g0m7sn09\\logs</code>"
      ],
      "text/plain": [
       "<IPython.core.display.HTML object>"
      ]
     },
     "metadata": {},
     "output_type": "display_data"
    },
    {
     "name": "stderr",
     "output_type": "stream",
     "text": [
      "\u001b[34m\u001b[1mwandb\u001b[0m: Agent Starting Run: b865ewhr with config:\n",
      "\u001b[34m\u001b[1mwandb\u001b[0m: \tBalancing: True\n",
      "\u001b[34m\u001b[1mwandb\u001b[0m: \tfeatures: ['x', 'y', 'velocity']\n",
      "\u001b[34m\u001b[1mwandb\u001b[0m: \tn_features_per_kernel: 4\n",
      "\u001b[34m\u001b[1mwandb\u001b[0m: \tnum_kernels: 2000\n",
      "\u001b[34m\u001b[1mwandb\u001b[0m: \trocket_transform: rocket\n",
      "\u001b[34m\u001b[1mwandb\u001b[0m: \tscaling: False\n",
      "\u001b[34m\u001b[1mwandb\u001b[0m: \twindow_size: 11\n"
     ]
    },
    {
     "data": {
      "text/html": [
       "Tracking run with wandb version 0.18.6"
      ],
      "text/plain": [
       "<IPython.core.display.HTML object>"
      ]
     },
     "metadata": {},
     "output_type": "display_data"
    },
    {
     "data": {
      "text/html": [
       "Run data is saved locally in <code>c:\\Users\\benev\\Documents\\Uni_Master\\Masterarbeit\\CODE\\8_tennis_analytics\\wandb\\run-20241201_134344-b865ewhr</code>"
      ],
      "text/plain": [
       "<IPython.core.display.HTML object>"
      ]
     },
     "metadata": {},
     "output_type": "display_data"
    },
    {
     "data": {
      "text/html": [
       "Syncing run <strong><a href='https://wandb.ai/MasterarbeitBV/XGBoost_Hyperparameter_Tuning/runs/b865ewhr' target=\"_blank\">helpful-sweep-15</a></strong> to <a href='https://wandb.ai/MasterarbeitBV/XGBoost_Hyperparameter_Tuning' target=\"_blank\">Weights & Biases</a> (<a href='https://wandb.me/developer-guide' target=\"_blank\">docs</a>)<br/>Sweep page: <a href='https://wandb.ai/MasterarbeitBV/XGBoost_Hyperparameter_Tuning/sweeps/oros33fx' target=\"_blank\">https://wandb.ai/MasterarbeitBV/XGBoost_Hyperparameter_Tuning/sweeps/oros33fx</a>"
      ],
      "text/plain": [
       "<IPython.core.display.HTML object>"
      ]
     },
     "metadata": {},
     "output_type": "display_data"
    },
    {
     "data": {
      "text/html": [
       " View project at <a href='https://wandb.ai/MasterarbeitBV/XGBoost_Hyperparameter_Tuning' target=\"_blank\">https://wandb.ai/MasterarbeitBV/XGBoost_Hyperparameter_Tuning</a>"
      ],
      "text/plain": [
       "<IPython.core.display.HTML object>"
      ]
     },
     "metadata": {},
     "output_type": "display_data"
    },
    {
     "data": {
      "text/html": [
       " View sweep at <a href='https://wandb.ai/MasterarbeitBV/XGBoost_Hyperparameter_Tuning/sweeps/oros33fx' target=\"_blank\">https://wandb.ai/MasterarbeitBV/XGBoost_Hyperparameter_Tuning/sweeps/oros33fx</a>"
      ],
      "text/plain": [
       "<IPython.core.display.HTML object>"
      ]
     },
     "metadata": {},
     "output_type": "display_data"
    },
    {
     "data": {
      "text/html": [
       " View run at <a href='https://wandb.ai/MasterarbeitBV/XGBoost_Hyperparameter_Tuning/runs/b865ewhr' target=\"_blank\">https://wandb.ai/MasterarbeitBV/XGBoost_Hyperparameter_Tuning/runs/b865ewhr</a>"
      ],
      "text/plain": [
       "<IPython.core.display.HTML object>"
      ]
     },
     "metadata": {},
     "output_type": "display_data"
    },
    {
     "data": {
      "text/html": [
       "\n",
       "    <style>\n",
       "        .wandb-row {\n",
       "            display: flex;\n",
       "            flex-direction: row;\n",
       "            flex-wrap: wrap;\n",
       "            justify-content: flex-start;\n",
       "            width: 100%;\n",
       "        }\n",
       "        .wandb-col {\n",
       "            display: flex;\n",
       "            flex-direction: column;\n",
       "            flex-basis: 100%;\n",
       "            flex: 1;\n",
       "            padding: 10px;\n",
       "        }\n",
       "    </style>\n",
       "<div class=\"wandb-row\"><div class=\"wandb-col\"><h3>Run history:</h3><br/><table class=\"wandb\"><tr><td>accuracy</td><td>▁</td></tr><tr><td>f1-score</td><td>▁</td></tr></table><br/></div><div class=\"wandb-col\"><h3>Run summary:</h3><br/><table class=\"wandb\"><tr><td>accuracy</td><td>0.93942</td></tr><tr><td>f1-score</td><td>0.70799</td></tr></table><br/></div></div>"
      ],
      "text/plain": [
       "<IPython.core.display.HTML object>"
      ]
     },
     "metadata": {},
     "output_type": "display_data"
    },
    {
     "data": {
      "text/html": [
       " View run <strong style=\"color:#cdcd00\">helpful-sweep-15</strong> at: <a href='https://wandb.ai/MasterarbeitBV/XGBoost_Hyperparameter_Tuning/runs/b865ewhr' target=\"_blank\">https://wandb.ai/MasterarbeitBV/XGBoost_Hyperparameter_Tuning/runs/b865ewhr</a><br/> View project at: <a href='https://wandb.ai/MasterarbeitBV/XGBoost_Hyperparameter_Tuning' target=\"_blank\">https://wandb.ai/MasterarbeitBV/XGBoost_Hyperparameter_Tuning</a><br/>Synced 5 W&B file(s), 0 media file(s), 0 artifact file(s) and 0 other file(s)"
      ],
      "text/plain": [
       "<IPython.core.display.HTML object>"
      ]
     },
     "metadata": {},
     "output_type": "display_data"
    },
    {
     "data": {
      "text/html": [
       "Find logs at: <code>.\\wandb\\run-20241201_134344-b865ewhr\\logs</code>"
      ],
      "text/plain": [
       "<IPython.core.display.HTML object>"
      ]
     },
     "metadata": {},
     "output_type": "display_data"
    },
    {
     "name": "stderr",
     "output_type": "stream",
     "text": [
      "\u001b[34m\u001b[1mwandb\u001b[0m: Agent Starting Run: vh9wut1k with config:\n",
      "\u001b[34m\u001b[1mwandb\u001b[0m: \tBalancing: False\n",
      "\u001b[34m\u001b[1mwandb\u001b[0m: \tfeatures: ['x', 'y', 'velocity']\n",
      "\u001b[34m\u001b[1mwandb\u001b[0m: \tn_features_per_kernel: 4\n",
      "\u001b[34m\u001b[1mwandb\u001b[0m: \tnum_kernels: 2000\n",
      "\u001b[34m\u001b[1mwandb\u001b[0m: \trocket_transform: rocket\n",
      "\u001b[34m\u001b[1mwandb\u001b[0m: \tscaling: True\n",
      "\u001b[34m\u001b[1mwandb\u001b[0m: \twindow_size: 21\n"
     ]
    },
    {
     "data": {
      "text/html": [
       "Tracking run with wandb version 0.18.6"
      ],
      "text/plain": [
       "<IPython.core.display.HTML object>"
      ]
     },
     "metadata": {},
     "output_type": "display_data"
    },
    {
     "data": {
      "text/html": [
       "Run data is saved locally in <code>c:\\Users\\benev\\Documents\\Uni_Master\\Masterarbeit\\CODE\\8_tennis_analytics\\wandb\\run-20241201_134552-vh9wut1k</code>"
      ],
      "text/plain": [
       "<IPython.core.display.HTML object>"
      ]
     },
     "metadata": {},
     "output_type": "display_data"
    },
    {
     "data": {
      "text/html": [
       "Syncing run <strong><a href='https://wandb.ai/MasterarbeitBV/XGBoost_Hyperparameter_Tuning/runs/vh9wut1k' target=\"_blank\">leafy-sweep-16</a></strong> to <a href='https://wandb.ai/MasterarbeitBV/XGBoost_Hyperparameter_Tuning' target=\"_blank\">Weights & Biases</a> (<a href='https://wandb.me/developer-guide' target=\"_blank\">docs</a>)<br/>Sweep page: <a href='https://wandb.ai/MasterarbeitBV/XGBoost_Hyperparameter_Tuning/sweeps/oros33fx' target=\"_blank\">https://wandb.ai/MasterarbeitBV/XGBoost_Hyperparameter_Tuning/sweeps/oros33fx</a>"
      ],
      "text/plain": [
       "<IPython.core.display.HTML object>"
      ]
     },
     "metadata": {},
     "output_type": "display_data"
    },
    {
     "data": {
      "text/html": [
       " View project at <a href='https://wandb.ai/MasterarbeitBV/XGBoost_Hyperparameter_Tuning' target=\"_blank\">https://wandb.ai/MasterarbeitBV/XGBoost_Hyperparameter_Tuning</a>"
      ],
      "text/plain": [
       "<IPython.core.display.HTML object>"
      ]
     },
     "metadata": {},
     "output_type": "display_data"
    },
    {
     "data": {
      "text/html": [
       " View sweep at <a href='https://wandb.ai/MasterarbeitBV/XGBoost_Hyperparameter_Tuning/sweeps/oros33fx' target=\"_blank\">https://wandb.ai/MasterarbeitBV/XGBoost_Hyperparameter_Tuning/sweeps/oros33fx</a>"
      ],
      "text/plain": [
       "<IPython.core.display.HTML object>"
      ]
     },
     "metadata": {},
     "output_type": "display_data"
    },
    {
     "data": {
      "text/html": [
       " View run at <a href='https://wandb.ai/MasterarbeitBV/XGBoost_Hyperparameter_Tuning/runs/vh9wut1k' target=\"_blank\">https://wandb.ai/MasterarbeitBV/XGBoost_Hyperparameter_Tuning/runs/vh9wut1k</a>"
      ],
      "text/plain": [
       "<IPython.core.display.HTML object>"
      ]
     },
     "metadata": {},
     "output_type": "display_data"
    },
    {
     "data": {
      "text/html": [
       "\n",
       "    <style>\n",
       "        .wandb-row {\n",
       "            display: flex;\n",
       "            flex-direction: row;\n",
       "            flex-wrap: wrap;\n",
       "            justify-content: flex-start;\n",
       "            width: 100%;\n",
       "        }\n",
       "        .wandb-col {\n",
       "            display: flex;\n",
       "            flex-direction: column;\n",
       "            flex-basis: 100%;\n",
       "            flex: 1;\n",
       "            padding: 10px;\n",
       "        }\n",
       "    </style>\n",
       "<div class=\"wandb-row\"><div class=\"wandb-col\"><h3>Run history:</h3><br/><table class=\"wandb\"><tr><td>accuracy</td><td>▁</td></tr><tr><td>f1-score</td><td>▁</td></tr></table><br/></div><div class=\"wandb-col\"><h3>Run summary:</h3><br/><table class=\"wandb\"><tr><td>accuracy</td><td>0.95579</td></tr><tr><td>f1-score</td><td>0.50094</td></tr></table><br/></div></div>"
      ],
      "text/plain": [
       "<IPython.core.display.HTML object>"
      ]
     },
     "metadata": {},
     "output_type": "display_data"
    },
    {
     "data": {
      "text/html": [
       " View run <strong style=\"color:#cdcd00\">leafy-sweep-16</strong> at: <a href='https://wandb.ai/MasterarbeitBV/XGBoost_Hyperparameter_Tuning/runs/vh9wut1k' target=\"_blank\">https://wandb.ai/MasterarbeitBV/XGBoost_Hyperparameter_Tuning/runs/vh9wut1k</a><br/> View project at: <a href='https://wandb.ai/MasterarbeitBV/XGBoost_Hyperparameter_Tuning' target=\"_blank\">https://wandb.ai/MasterarbeitBV/XGBoost_Hyperparameter_Tuning</a><br/>Synced 5 W&B file(s), 0 media file(s), 0 artifact file(s) and 0 other file(s)"
      ],
      "text/plain": [
       "<IPython.core.display.HTML object>"
      ]
     },
     "metadata": {},
     "output_type": "display_data"
    },
    {
     "data": {
      "text/html": [
       "Find logs at: <code>.\\wandb\\run-20241201_134552-vh9wut1k\\logs</code>"
      ],
      "text/plain": [
       "<IPython.core.display.HTML object>"
      ]
     },
     "metadata": {},
     "output_type": "display_data"
    },
    {
     "name": "stderr",
     "output_type": "stream",
     "text": [
      "\u001b[34m\u001b[1mwandb\u001b[0m: Agent Starting Run: 7wnj3kw5 with config:\n",
      "\u001b[34m\u001b[1mwandb\u001b[0m: \tBalancing: True\n",
      "\u001b[34m\u001b[1mwandb\u001b[0m: \tfeatures: ['x', 'y', 'velocity']\n",
      "\u001b[34m\u001b[1mwandb\u001b[0m: \tn_features_per_kernel: 2\n",
      "\u001b[34m\u001b[1mwandb\u001b[0m: \tnum_kernels: 500\n",
      "\u001b[34m\u001b[1mwandb\u001b[0m: \trocket_transform: rocket\n",
      "\u001b[34m\u001b[1mwandb\u001b[0m: \tscaling: True\n",
      "\u001b[34m\u001b[1mwandb\u001b[0m: \twindow_size: 21\n"
     ]
    },
    {
     "data": {
      "text/html": [
       "Tracking run with wandb version 0.18.6"
      ],
      "text/plain": [
       "<IPython.core.display.HTML object>"
      ]
     },
     "metadata": {},
     "output_type": "display_data"
    },
    {
     "data": {
      "text/html": [
       "Run data is saved locally in <code>c:\\Users\\benev\\Documents\\Uni_Master\\Masterarbeit\\CODE\\8_tennis_analytics\\wandb\\run-20241201_134709-7wnj3kw5</code>"
      ],
      "text/plain": [
       "<IPython.core.display.HTML object>"
      ]
     },
     "metadata": {},
     "output_type": "display_data"
    },
    {
     "data": {
      "text/html": [
       "Syncing run <strong><a href='https://wandb.ai/MasterarbeitBV/XGBoost_Hyperparameter_Tuning/runs/7wnj3kw5' target=\"_blank\">swift-sweep-17</a></strong> to <a href='https://wandb.ai/MasterarbeitBV/XGBoost_Hyperparameter_Tuning' target=\"_blank\">Weights & Biases</a> (<a href='https://wandb.me/developer-guide' target=\"_blank\">docs</a>)<br/>Sweep page: <a href='https://wandb.ai/MasterarbeitBV/XGBoost_Hyperparameter_Tuning/sweeps/oros33fx' target=\"_blank\">https://wandb.ai/MasterarbeitBV/XGBoost_Hyperparameter_Tuning/sweeps/oros33fx</a>"
      ],
      "text/plain": [
       "<IPython.core.display.HTML object>"
      ]
     },
     "metadata": {},
     "output_type": "display_data"
    },
    {
     "data": {
      "text/html": [
       " View project at <a href='https://wandb.ai/MasterarbeitBV/XGBoost_Hyperparameter_Tuning' target=\"_blank\">https://wandb.ai/MasterarbeitBV/XGBoost_Hyperparameter_Tuning</a>"
      ],
      "text/plain": [
       "<IPython.core.display.HTML object>"
      ]
     },
     "metadata": {},
     "output_type": "display_data"
    },
    {
     "data": {
      "text/html": [
       " View sweep at <a href='https://wandb.ai/MasterarbeitBV/XGBoost_Hyperparameter_Tuning/sweeps/oros33fx' target=\"_blank\">https://wandb.ai/MasterarbeitBV/XGBoost_Hyperparameter_Tuning/sweeps/oros33fx</a>"
      ],
      "text/plain": [
       "<IPython.core.display.HTML object>"
      ]
     },
     "metadata": {},
     "output_type": "display_data"
    },
    {
     "data": {
      "text/html": [
       " View run at <a href='https://wandb.ai/MasterarbeitBV/XGBoost_Hyperparameter_Tuning/runs/7wnj3kw5' target=\"_blank\">https://wandb.ai/MasterarbeitBV/XGBoost_Hyperparameter_Tuning/runs/7wnj3kw5</a>"
      ],
      "text/plain": [
       "<IPython.core.display.HTML object>"
      ]
     },
     "metadata": {},
     "output_type": "display_data"
    },
    {
     "data": {
      "text/html": [
       "\n",
       "    <style>\n",
       "        .wandb-row {\n",
       "            display: flex;\n",
       "            flex-direction: row;\n",
       "            flex-wrap: wrap;\n",
       "            justify-content: flex-start;\n",
       "            width: 100%;\n",
       "        }\n",
       "        .wandb-col {\n",
       "            display: flex;\n",
       "            flex-direction: column;\n",
       "            flex-basis: 100%;\n",
       "            flex: 1;\n",
       "            padding: 10px;\n",
       "        }\n",
       "    </style>\n",
       "<div class=\"wandb-row\"><div class=\"wandb-col\"><h3>Run history:</h3><br/><table class=\"wandb\"><tr><td>accuracy</td><td>▁</td></tr><tr><td>f1-score</td><td>▁</td></tr></table><br/></div><div class=\"wandb-col\"><h3>Run summary:</h3><br/><table class=\"wandb\"><tr><td>accuracy</td><td>0.88738</td></tr><tr><td>f1-score</td><td>0.60434</td></tr></table><br/></div></div>"
      ],
      "text/plain": [
       "<IPython.core.display.HTML object>"
      ]
     },
     "metadata": {},
     "output_type": "display_data"
    },
    {
     "data": {
      "text/html": [
       " View run <strong style=\"color:#cdcd00\">swift-sweep-17</strong> at: <a href='https://wandb.ai/MasterarbeitBV/XGBoost_Hyperparameter_Tuning/runs/7wnj3kw5' target=\"_blank\">https://wandb.ai/MasterarbeitBV/XGBoost_Hyperparameter_Tuning/runs/7wnj3kw5</a><br/> View project at: <a href='https://wandb.ai/MasterarbeitBV/XGBoost_Hyperparameter_Tuning' target=\"_blank\">https://wandb.ai/MasterarbeitBV/XGBoost_Hyperparameter_Tuning</a><br/>Synced 5 W&B file(s), 0 media file(s), 0 artifact file(s) and 0 other file(s)"
      ],
      "text/plain": [
       "<IPython.core.display.HTML object>"
      ]
     },
     "metadata": {},
     "output_type": "display_data"
    },
    {
     "data": {
      "text/html": [
       "Find logs at: <code>.\\wandb\\run-20241201_134709-7wnj3kw5\\logs</code>"
      ],
      "text/plain": [
       "<IPython.core.display.HTML object>"
      ]
     },
     "metadata": {},
     "output_type": "display_data"
    },
    {
     "name": "stderr",
     "output_type": "stream",
     "text": [
      "\u001b[34m\u001b[1mwandb\u001b[0m: Agent Starting Run: a06fe7yr with config:\n",
      "\u001b[34m\u001b[1mwandb\u001b[0m: \tBalancing: True\n",
      "\u001b[34m\u001b[1mwandb\u001b[0m: \tfeatures: ['x', 'y', 'velocity', 'direction']\n",
      "\u001b[34m\u001b[1mwandb\u001b[0m: \tn_features_per_kernel: 4\n",
      "\u001b[34m\u001b[1mwandb\u001b[0m: \tnum_kernels: 2000\n",
      "\u001b[34m\u001b[1mwandb\u001b[0m: \trocket_transform: rocket\n",
      "\u001b[34m\u001b[1mwandb\u001b[0m: \tscaling: True\n",
      "\u001b[34m\u001b[1mwandb\u001b[0m: \twindow_size: 11\n"
     ]
    },
    {
     "data": {
      "text/html": [
       "Tracking run with wandb version 0.18.6"
      ],
      "text/plain": [
       "<IPython.core.display.HTML object>"
      ]
     },
     "metadata": {},
     "output_type": "display_data"
    },
    {
     "data": {
      "text/html": [
       "Run data is saved locally in <code>c:\\Users\\benev\\Documents\\Uni_Master\\Masterarbeit\\CODE\\8_tennis_analytics\\wandb\\run-20241201_134746-a06fe7yr</code>"
      ],
      "text/plain": [
       "<IPython.core.display.HTML object>"
      ]
     },
     "metadata": {},
     "output_type": "display_data"
    },
    {
     "data": {
      "text/html": [
       "Syncing run <strong><a href='https://wandb.ai/MasterarbeitBV/XGBoost_Hyperparameter_Tuning/runs/a06fe7yr' target=\"_blank\">ethereal-sweep-18</a></strong> to <a href='https://wandb.ai/MasterarbeitBV/XGBoost_Hyperparameter_Tuning' target=\"_blank\">Weights & Biases</a> (<a href='https://wandb.me/developer-guide' target=\"_blank\">docs</a>)<br/>Sweep page: <a href='https://wandb.ai/MasterarbeitBV/XGBoost_Hyperparameter_Tuning/sweeps/oros33fx' target=\"_blank\">https://wandb.ai/MasterarbeitBV/XGBoost_Hyperparameter_Tuning/sweeps/oros33fx</a>"
      ],
      "text/plain": [
       "<IPython.core.display.HTML object>"
      ]
     },
     "metadata": {},
     "output_type": "display_data"
    },
    {
     "data": {
      "text/html": [
       " View project at <a href='https://wandb.ai/MasterarbeitBV/XGBoost_Hyperparameter_Tuning' target=\"_blank\">https://wandb.ai/MasterarbeitBV/XGBoost_Hyperparameter_Tuning</a>"
      ],
      "text/plain": [
       "<IPython.core.display.HTML object>"
      ]
     },
     "metadata": {},
     "output_type": "display_data"
    },
    {
     "data": {
      "text/html": [
       " View sweep at <a href='https://wandb.ai/MasterarbeitBV/XGBoost_Hyperparameter_Tuning/sweeps/oros33fx' target=\"_blank\">https://wandb.ai/MasterarbeitBV/XGBoost_Hyperparameter_Tuning/sweeps/oros33fx</a>"
      ],
      "text/plain": [
       "<IPython.core.display.HTML object>"
      ]
     },
     "metadata": {},
     "output_type": "display_data"
    },
    {
     "data": {
      "text/html": [
       " View run at <a href='https://wandb.ai/MasterarbeitBV/XGBoost_Hyperparameter_Tuning/runs/a06fe7yr' target=\"_blank\">https://wandb.ai/MasterarbeitBV/XGBoost_Hyperparameter_Tuning/runs/a06fe7yr</a>"
      ],
      "text/plain": [
       "<IPython.core.display.HTML object>"
      ]
     },
     "metadata": {},
     "output_type": "display_data"
    },
    {
     "data": {
      "text/html": [
       "\n",
       "    <style>\n",
       "        .wandb-row {\n",
       "            display: flex;\n",
       "            flex-direction: row;\n",
       "            flex-wrap: wrap;\n",
       "            justify-content: flex-start;\n",
       "            width: 100%;\n",
       "        }\n",
       "        .wandb-col {\n",
       "            display: flex;\n",
       "            flex-direction: column;\n",
       "            flex-basis: 100%;\n",
       "            flex: 1;\n",
       "            padding: 10px;\n",
       "        }\n",
       "    </style>\n",
       "<div class=\"wandb-row\"><div class=\"wandb-col\"><h3>Run history:</h3><br/><table class=\"wandb\"><tr><td>accuracy</td><td>▁</td></tr><tr><td>f1-score</td><td>▁</td></tr></table><br/></div><div class=\"wandb-col\"><h3>Run summary:</h3><br/><table class=\"wandb\"><tr><td>accuracy</td><td>0.94463</td></tr><tr><td>f1-score</td><td>0.71883</td></tr></table><br/></div></div>"
      ],
      "text/plain": [
       "<IPython.core.display.HTML object>"
      ]
     },
     "metadata": {},
     "output_type": "display_data"
    },
    {
     "data": {
      "text/html": [
       " View run <strong style=\"color:#cdcd00\">ethereal-sweep-18</strong> at: <a href='https://wandb.ai/MasterarbeitBV/XGBoost_Hyperparameter_Tuning/runs/a06fe7yr' target=\"_blank\">https://wandb.ai/MasterarbeitBV/XGBoost_Hyperparameter_Tuning/runs/a06fe7yr</a><br/> View project at: <a href='https://wandb.ai/MasterarbeitBV/XGBoost_Hyperparameter_Tuning' target=\"_blank\">https://wandb.ai/MasterarbeitBV/XGBoost_Hyperparameter_Tuning</a><br/>Synced 5 W&B file(s), 0 media file(s), 0 artifact file(s) and 0 other file(s)"
      ],
      "text/plain": [
       "<IPython.core.display.HTML object>"
      ]
     },
     "metadata": {},
     "output_type": "display_data"
    },
    {
     "data": {
      "text/html": [
       "Find logs at: <code>.\\wandb\\run-20241201_134746-a06fe7yr\\logs</code>"
      ],
      "text/plain": [
       "<IPython.core.display.HTML object>"
      ]
     },
     "metadata": {},
     "output_type": "display_data"
    },
    {
     "name": "stderr",
     "output_type": "stream",
     "text": [
      "\u001b[34m\u001b[1mwandb\u001b[0m: Sweep Agent: Waiting for job.\n",
      "\u001b[34m\u001b[1mwandb\u001b[0m: Job received.\n",
      "\u001b[34m\u001b[1mwandb\u001b[0m: Agent Starting Run: wxrfy7nv with config:\n",
      "\u001b[34m\u001b[1mwandb\u001b[0m: \tBalancing: False\n",
      "\u001b[34m\u001b[1mwandb\u001b[0m: \tfeatures: ['x', 'y', 'velocity', 'direction']\n",
      "\u001b[34m\u001b[1mwandb\u001b[0m: \tn_features_per_kernel: 4\n",
      "\u001b[34m\u001b[1mwandb\u001b[0m: \tnum_kernels: 2000\n",
      "\u001b[34m\u001b[1mwandb\u001b[0m: \trocket_transform: rocket\n",
      "\u001b[34m\u001b[1mwandb\u001b[0m: \tscaling: True\n",
      "\u001b[34m\u001b[1mwandb\u001b[0m: \twindow_size: 7\n"
     ]
    },
    {
     "data": {
      "text/html": [
       "Tracking run with wandb version 0.18.6"
      ],
      "text/plain": [
       "<IPython.core.display.HTML object>"
      ]
     },
     "metadata": {},
     "output_type": "display_data"
    },
    {
     "data": {
      "text/html": [
       "Run data is saved locally in <code>c:\\Users\\benev\\Documents\\Uni_Master\\Masterarbeit\\CODE\\8_tennis_analytics\\wandb\\run-20241201_135007-wxrfy7nv</code>"
      ],
      "text/plain": [
       "<IPython.core.display.HTML object>"
      ]
     },
     "metadata": {},
     "output_type": "display_data"
    },
    {
     "data": {
      "text/html": [
       "Syncing run <strong><a href='https://wandb.ai/MasterarbeitBV/XGBoost_Hyperparameter_Tuning/runs/wxrfy7nv' target=\"_blank\">glad-sweep-19</a></strong> to <a href='https://wandb.ai/MasterarbeitBV/XGBoost_Hyperparameter_Tuning' target=\"_blank\">Weights & Biases</a> (<a href='https://wandb.me/developer-guide' target=\"_blank\">docs</a>)<br/>Sweep page: <a href='https://wandb.ai/MasterarbeitBV/XGBoost_Hyperparameter_Tuning/sweeps/oros33fx' target=\"_blank\">https://wandb.ai/MasterarbeitBV/XGBoost_Hyperparameter_Tuning/sweeps/oros33fx</a>"
      ],
      "text/plain": [
       "<IPython.core.display.HTML object>"
      ]
     },
     "metadata": {},
     "output_type": "display_data"
    },
    {
     "data": {
      "text/html": [
       " View project at <a href='https://wandb.ai/MasterarbeitBV/XGBoost_Hyperparameter_Tuning' target=\"_blank\">https://wandb.ai/MasterarbeitBV/XGBoost_Hyperparameter_Tuning</a>"
      ],
      "text/plain": [
       "<IPython.core.display.HTML object>"
      ]
     },
     "metadata": {},
     "output_type": "display_data"
    },
    {
     "data": {
      "text/html": [
       " View sweep at <a href='https://wandb.ai/MasterarbeitBV/XGBoost_Hyperparameter_Tuning/sweeps/oros33fx' target=\"_blank\">https://wandb.ai/MasterarbeitBV/XGBoost_Hyperparameter_Tuning/sweeps/oros33fx</a>"
      ],
      "text/plain": [
       "<IPython.core.display.HTML object>"
      ]
     },
     "metadata": {},
     "output_type": "display_data"
    },
    {
     "data": {
      "text/html": [
       " View run at <a href='https://wandb.ai/MasterarbeitBV/XGBoost_Hyperparameter_Tuning/runs/wxrfy7nv' target=\"_blank\">https://wandb.ai/MasterarbeitBV/XGBoost_Hyperparameter_Tuning/runs/wxrfy7nv</a>"
      ],
      "text/plain": [
       "<IPython.core.display.HTML object>"
      ]
     },
     "metadata": {},
     "output_type": "display_data"
    },
    {
     "data": {
      "text/html": [
       "\n",
       "    <style>\n",
       "        .wandb-row {\n",
       "            display: flex;\n",
       "            flex-direction: row;\n",
       "            flex-wrap: wrap;\n",
       "            justify-content: flex-start;\n",
       "            width: 100%;\n",
       "        }\n",
       "        .wandb-col {\n",
       "            display: flex;\n",
       "            flex-direction: column;\n",
       "            flex-basis: 100%;\n",
       "            flex: 1;\n",
       "            padding: 10px;\n",
       "        }\n",
       "    </style>\n",
       "<div class=\"wandb-row\"><div class=\"wandb-col\"><h3>Run history:</h3><br/><table class=\"wandb\"><tr><td>accuracy</td><td>▁</td></tr><tr><td>f1-score</td><td>▁</td></tr></table><br/></div><div class=\"wandb-col\"><h3>Run summary:</h3><br/><table class=\"wandb\"><tr><td>accuracy</td><td>0.9649</td></tr><tr><td>f1-score</td><td>0.66625</td></tr></table><br/></div></div>"
      ],
      "text/plain": [
       "<IPython.core.display.HTML object>"
      ]
     },
     "metadata": {},
     "output_type": "display_data"
    },
    {
     "data": {
      "text/html": [
       " View run <strong style=\"color:#cdcd00\">glad-sweep-19</strong> at: <a href='https://wandb.ai/MasterarbeitBV/XGBoost_Hyperparameter_Tuning/runs/wxrfy7nv' target=\"_blank\">https://wandb.ai/MasterarbeitBV/XGBoost_Hyperparameter_Tuning/runs/wxrfy7nv</a><br/> View project at: <a href='https://wandb.ai/MasterarbeitBV/XGBoost_Hyperparameter_Tuning' target=\"_blank\">https://wandb.ai/MasterarbeitBV/XGBoost_Hyperparameter_Tuning</a><br/>Synced 5 W&B file(s), 0 media file(s), 0 artifact file(s) and 0 other file(s)"
      ],
      "text/plain": [
       "<IPython.core.display.HTML object>"
      ]
     },
     "metadata": {},
     "output_type": "display_data"
    },
    {
     "data": {
      "text/html": [
       "Find logs at: <code>.\\wandb\\run-20241201_135007-wxrfy7nv\\logs</code>"
      ],
      "text/plain": [
       "<IPython.core.display.HTML object>"
      ]
     },
     "metadata": {},
     "output_type": "display_data"
    },
    {
     "name": "stderr",
     "output_type": "stream",
     "text": [
      "\u001b[34m\u001b[1mwandb\u001b[0m: Agent Starting Run: asbljf3p with config:\n",
      "\u001b[34m\u001b[1mwandb\u001b[0m: \tBalancing: False\n",
      "\u001b[34m\u001b[1mwandb\u001b[0m: \tfeatures: ['x', 'y', 'velocity', 'direction']\n",
      "\u001b[34m\u001b[1mwandb\u001b[0m: \tn_features_per_kernel: 4\n",
      "\u001b[34m\u001b[1mwandb\u001b[0m: \tnum_kernels: 500\n",
      "\u001b[34m\u001b[1mwandb\u001b[0m: \trocket_transform: rocket\n",
      "\u001b[34m\u001b[1mwandb\u001b[0m: \tscaling: False\n",
      "\u001b[34m\u001b[1mwandb\u001b[0m: \twindow_size: 11\n"
     ]
    },
    {
     "data": {
      "text/html": [
       "Tracking run with wandb version 0.18.6"
      ],
      "text/plain": [
       "<IPython.core.display.HTML object>"
      ]
     },
     "metadata": {},
     "output_type": "display_data"
    },
    {
     "data": {
      "text/html": [
       "Run data is saved locally in <code>c:\\Users\\benev\\Documents\\Uni_Master\\Masterarbeit\\CODE\\8_tennis_analytics\\wandb\\run-20241201_135115-asbljf3p</code>"
      ],
      "text/plain": [
       "<IPython.core.display.HTML object>"
      ]
     },
     "metadata": {},
     "output_type": "display_data"
    },
    {
     "data": {
      "text/html": [
       "Syncing run <strong><a href='https://wandb.ai/MasterarbeitBV/XGBoost_Hyperparameter_Tuning/runs/asbljf3p' target=\"_blank\">sparkling-sweep-20</a></strong> to <a href='https://wandb.ai/MasterarbeitBV/XGBoost_Hyperparameter_Tuning' target=\"_blank\">Weights & Biases</a> (<a href='https://wandb.me/developer-guide' target=\"_blank\">docs</a>)<br/>Sweep page: <a href='https://wandb.ai/MasterarbeitBV/XGBoost_Hyperparameter_Tuning/sweeps/oros33fx' target=\"_blank\">https://wandb.ai/MasterarbeitBV/XGBoost_Hyperparameter_Tuning/sweeps/oros33fx</a>"
      ],
      "text/plain": [
       "<IPython.core.display.HTML object>"
      ]
     },
     "metadata": {},
     "output_type": "display_data"
    },
    {
     "data": {
      "text/html": [
       " View project at <a href='https://wandb.ai/MasterarbeitBV/XGBoost_Hyperparameter_Tuning' target=\"_blank\">https://wandb.ai/MasterarbeitBV/XGBoost_Hyperparameter_Tuning</a>"
      ],
      "text/plain": [
       "<IPython.core.display.HTML object>"
      ]
     },
     "metadata": {},
     "output_type": "display_data"
    },
    {
     "data": {
      "text/html": [
       " View sweep at <a href='https://wandb.ai/MasterarbeitBV/XGBoost_Hyperparameter_Tuning/sweeps/oros33fx' target=\"_blank\">https://wandb.ai/MasterarbeitBV/XGBoost_Hyperparameter_Tuning/sweeps/oros33fx</a>"
      ],
      "text/plain": [
       "<IPython.core.display.HTML object>"
      ]
     },
     "metadata": {},
     "output_type": "display_data"
    },
    {
     "data": {
      "text/html": [
       " View run at <a href='https://wandb.ai/MasterarbeitBV/XGBoost_Hyperparameter_Tuning/runs/asbljf3p' target=\"_blank\">https://wandb.ai/MasterarbeitBV/XGBoost_Hyperparameter_Tuning/runs/asbljf3p</a>"
      ],
      "text/plain": [
       "<IPython.core.display.HTML object>"
      ]
     },
     "metadata": {},
     "output_type": "display_data"
    },
    {
     "data": {
      "text/html": [
       "\n",
       "    <style>\n",
       "        .wandb-row {\n",
       "            display: flex;\n",
       "            flex-direction: row;\n",
       "            flex-wrap: wrap;\n",
       "            justify-content: flex-start;\n",
       "            width: 100%;\n",
       "        }\n",
       "        .wandb-col {\n",
       "            display: flex;\n",
       "            flex-direction: column;\n",
       "            flex-basis: 100%;\n",
       "            flex: 1;\n",
       "            padding: 10px;\n",
       "        }\n",
       "    </style>\n",
       "<div class=\"wandb-row\"><div class=\"wandb-col\"><h3>Run history:</h3><br/><table class=\"wandb\"><tr><td>accuracy</td><td>▁</td></tr><tr><td>f1-score</td><td>▁</td></tr></table><br/></div><div class=\"wandb-col\"><h3>Run summary:</h3><br/><table class=\"wandb\"><tr><td>accuracy</td><td>0.96546</td></tr><tr><td>f1-score</td><td>0.68472</td></tr></table><br/></div></div>"
      ],
      "text/plain": [
       "<IPython.core.display.HTML object>"
      ]
     },
     "metadata": {},
     "output_type": "display_data"
    },
    {
     "data": {
      "text/html": [
       " View run <strong style=\"color:#cdcd00\">sparkling-sweep-20</strong> at: <a href='https://wandb.ai/MasterarbeitBV/XGBoost_Hyperparameter_Tuning/runs/asbljf3p' target=\"_blank\">https://wandb.ai/MasterarbeitBV/XGBoost_Hyperparameter_Tuning/runs/asbljf3p</a><br/> View project at: <a href='https://wandb.ai/MasterarbeitBV/XGBoost_Hyperparameter_Tuning' target=\"_blank\">https://wandb.ai/MasterarbeitBV/XGBoost_Hyperparameter_Tuning</a><br/>Synced 5 W&B file(s), 0 media file(s), 0 artifact file(s) and 0 other file(s)"
      ],
      "text/plain": [
       "<IPython.core.display.HTML object>"
      ]
     },
     "metadata": {},
     "output_type": "display_data"
    },
    {
     "data": {
      "text/html": [
       "Find logs at: <code>.\\wandb\\run-20241201_135115-asbljf3p\\logs</code>"
      ],
      "text/plain": [
       "<IPython.core.display.HTML object>"
      ]
     },
     "metadata": {},
     "output_type": "display_data"
    },
    {
     "name": "stderr",
     "output_type": "stream",
     "text": [
      "\u001b[34m\u001b[1mwandb\u001b[0m: Sweep Agent: Waiting for job.\n",
      "\u001b[34m\u001b[1mwandb\u001b[0m: Job received.\n",
      "\u001b[34m\u001b[1mwandb\u001b[0m: Agent Starting Run: 128fsxdt with config:\n",
      "\u001b[34m\u001b[1mwandb\u001b[0m: \tBalancing: False\n",
      "\u001b[34m\u001b[1mwandb\u001b[0m: \tfeatures: ['x', 'y', 'velocity']\n",
      "\u001b[34m\u001b[1mwandb\u001b[0m: \tn_features_per_kernel: 2\n",
      "\u001b[34m\u001b[1mwandb\u001b[0m: \tnum_kernels: 500\n",
      "\u001b[34m\u001b[1mwandb\u001b[0m: \trocket_transform: rocket\n",
      "\u001b[34m\u001b[1mwandb\u001b[0m: \tscaling: False\n",
      "\u001b[34m\u001b[1mwandb\u001b[0m: \twindow_size: 21\n"
     ]
    },
    {
     "data": {
      "text/html": [
       "Tracking run with wandb version 0.18.6"
      ],
      "text/plain": [
       "<IPython.core.display.HTML object>"
      ]
     },
     "metadata": {},
     "output_type": "display_data"
    },
    {
     "data": {
      "text/html": [
       "Run data is saved locally in <code>c:\\Users\\benev\\Documents\\Uni_Master\\Masterarbeit\\CODE\\8_tennis_analytics\\wandb\\run-20241201_135141-128fsxdt</code>"
      ],
      "text/plain": [
       "<IPython.core.display.HTML object>"
      ]
     },
     "metadata": {},
     "output_type": "display_data"
    },
    {
     "data": {
      "text/html": [
       "Syncing run <strong><a href='https://wandb.ai/MasterarbeitBV/XGBoost_Hyperparameter_Tuning/runs/128fsxdt' target=\"_blank\">denim-sweep-21</a></strong> to <a href='https://wandb.ai/MasterarbeitBV/XGBoost_Hyperparameter_Tuning' target=\"_blank\">Weights & Biases</a> (<a href='https://wandb.me/developer-guide' target=\"_blank\">docs</a>)<br/>Sweep page: <a href='https://wandb.ai/MasterarbeitBV/XGBoost_Hyperparameter_Tuning/sweeps/oros33fx' target=\"_blank\">https://wandb.ai/MasterarbeitBV/XGBoost_Hyperparameter_Tuning/sweeps/oros33fx</a>"
      ],
      "text/plain": [
       "<IPython.core.display.HTML object>"
      ]
     },
     "metadata": {},
     "output_type": "display_data"
    },
    {
     "data": {
      "text/html": [
       " View project at <a href='https://wandb.ai/MasterarbeitBV/XGBoost_Hyperparameter_Tuning' target=\"_blank\">https://wandb.ai/MasterarbeitBV/XGBoost_Hyperparameter_Tuning</a>"
      ],
      "text/plain": [
       "<IPython.core.display.HTML object>"
      ]
     },
     "metadata": {},
     "output_type": "display_data"
    },
    {
     "data": {
      "text/html": [
       " View sweep at <a href='https://wandb.ai/MasterarbeitBV/XGBoost_Hyperparameter_Tuning/sweeps/oros33fx' target=\"_blank\">https://wandb.ai/MasterarbeitBV/XGBoost_Hyperparameter_Tuning/sweeps/oros33fx</a>"
      ],
      "text/plain": [
       "<IPython.core.display.HTML object>"
      ]
     },
     "metadata": {},
     "output_type": "display_data"
    },
    {
     "data": {
      "text/html": [
       " View run at <a href='https://wandb.ai/MasterarbeitBV/XGBoost_Hyperparameter_Tuning/runs/128fsxdt' target=\"_blank\">https://wandb.ai/MasterarbeitBV/XGBoost_Hyperparameter_Tuning/runs/128fsxdt</a>"
      ],
      "text/plain": [
       "<IPython.core.display.HTML object>"
      ]
     },
     "metadata": {},
     "output_type": "display_data"
    },
    {
     "data": {
      "text/html": [
       "\n",
       "    <style>\n",
       "        .wandb-row {\n",
       "            display: flex;\n",
       "            flex-direction: row;\n",
       "            flex-wrap: wrap;\n",
       "            justify-content: flex-start;\n",
       "            width: 100%;\n",
       "        }\n",
       "        .wandb-col {\n",
       "            display: flex;\n",
       "            flex-direction: column;\n",
       "            flex-basis: 100%;\n",
       "            flex: 1;\n",
       "            padding: 10px;\n",
       "        }\n",
       "    </style>\n",
       "<div class=\"wandb-row\"><div class=\"wandb-col\"><h3>Run history:</h3><br/><table class=\"wandb\"><tr><td>accuracy</td><td>▁</td></tr><tr><td>f1-score</td><td>▁</td></tr></table><br/></div><div class=\"wandb-col\"><h3>Run summary:</h3><br/><table class=\"wandb\"><tr><td>accuracy</td><td>0.95547</td></tr><tr><td>f1-score</td><td>0.46522</td></tr></table><br/></div></div>"
      ],
      "text/plain": [
       "<IPython.core.display.HTML object>"
      ]
     },
     "metadata": {},
     "output_type": "display_data"
    },
    {
     "data": {
      "text/html": [
       " View run <strong style=\"color:#cdcd00\">denim-sweep-21</strong> at: <a href='https://wandb.ai/MasterarbeitBV/XGBoost_Hyperparameter_Tuning/runs/128fsxdt' target=\"_blank\">https://wandb.ai/MasterarbeitBV/XGBoost_Hyperparameter_Tuning/runs/128fsxdt</a><br/> View project at: <a href='https://wandb.ai/MasterarbeitBV/XGBoost_Hyperparameter_Tuning' target=\"_blank\">https://wandb.ai/MasterarbeitBV/XGBoost_Hyperparameter_Tuning</a><br/>Synced 5 W&B file(s), 0 media file(s), 0 artifact file(s) and 0 other file(s)"
      ],
      "text/plain": [
       "<IPython.core.display.HTML object>"
      ]
     },
     "metadata": {},
     "output_type": "display_data"
    },
    {
     "data": {
      "text/html": [
       "Find logs at: <code>.\\wandb\\run-20241201_135141-128fsxdt\\logs</code>"
      ],
      "text/plain": [
       "<IPython.core.display.HTML object>"
      ]
     },
     "metadata": {},
     "output_type": "display_data"
    },
    {
     "name": "stderr",
     "output_type": "stream",
     "text": [
      "\u001b[34m\u001b[1mwandb\u001b[0m: Agent Starting Run: mdot0rob with config:\n",
      "\u001b[34m\u001b[1mwandb\u001b[0m: \tBalancing: True\n",
      "\u001b[34m\u001b[1mwandb\u001b[0m: \tfeatures: ['x', 'y']\n",
      "\u001b[34m\u001b[1mwandb\u001b[0m: \tn_features_per_kernel: 2\n",
      "\u001b[34m\u001b[1mwandb\u001b[0m: \tnum_kernels: 500\n",
      "\u001b[34m\u001b[1mwandb\u001b[0m: \trocket_transform: rocket\n",
      "\u001b[34m\u001b[1mwandb\u001b[0m: \tscaling: False\n",
      "\u001b[34m\u001b[1mwandb\u001b[0m: \twindow_size: 21\n"
     ]
    },
    {
     "data": {
      "text/html": [
       "Tracking run with wandb version 0.18.6"
      ],
      "text/plain": [
       "<IPython.core.display.HTML object>"
      ]
     },
     "metadata": {},
     "output_type": "display_data"
    },
    {
     "data": {
      "text/html": [
       "Run data is saved locally in <code>c:\\Users\\benev\\Documents\\Uni_Master\\Masterarbeit\\CODE\\8_tennis_analytics\\wandb\\run-20241201_135202-mdot0rob</code>"
      ],
      "text/plain": [
       "<IPython.core.display.HTML object>"
      ]
     },
     "metadata": {},
     "output_type": "display_data"
    },
    {
     "data": {
      "text/html": [
       "Syncing run <strong><a href='https://wandb.ai/MasterarbeitBV/XGBoost_Hyperparameter_Tuning/runs/mdot0rob' target=\"_blank\">warm-sweep-22</a></strong> to <a href='https://wandb.ai/MasterarbeitBV/XGBoost_Hyperparameter_Tuning' target=\"_blank\">Weights & Biases</a> (<a href='https://wandb.me/developer-guide' target=\"_blank\">docs</a>)<br/>Sweep page: <a href='https://wandb.ai/MasterarbeitBV/XGBoost_Hyperparameter_Tuning/sweeps/oros33fx' target=\"_blank\">https://wandb.ai/MasterarbeitBV/XGBoost_Hyperparameter_Tuning/sweeps/oros33fx</a>"
      ],
      "text/plain": [
       "<IPython.core.display.HTML object>"
      ]
     },
     "metadata": {},
     "output_type": "display_data"
    },
    {
     "data": {
      "text/html": [
       " View project at <a href='https://wandb.ai/MasterarbeitBV/XGBoost_Hyperparameter_Tuning' target=\"_blank\">https://wandb.ai/MasterarbeitBV/XGBoost_Hyperparameter_Tuning</a>"
      ],
      "text/plain": [
       "<IPython.core.display.HTML object>"
      ]
     },
     "metadata": {},
     "output_type": "display_data"
    },
    {
     "data": {
      "text/html": [
       " View sweep at <a href='https://wandb.ai/MasterarbeitBV/XGBoost_Hyperparameter_Tuning/sweeps/oros33fx' target=\"_blank\">https://wandb.ai/MasterarbeitBV/XGBoost_Hyperparameter_Tuning/sweeps/oros33fx</a>"
      ],
      "text/plain": [
       "<IPython.core.display.HTML object>"
      ]
     },
     "metadata": {},
     "output_type": "display_data"
    },
    {
     "data": {
      "text/html": [
       " View run at <a href='https://wandb.ai/MasterarbeitBV/XGBoost_Hyperparameter_Tuning/runs/mdot0rob' target=\"_blank\">https://wandb.ai/MasterarbeitBV/XGBoost_Hyperparameter_Tuning/runs/mdot0rob</a>"
      ],
      "text/plain": [
       "<IPython.core.display.HTML object>"
      ]
     },
     "metadata": {},
     "output_type": "display_data"
    },
    {
     "data": {
      "text/html": [
       "\n",
       "    <style>\n",
       "        .wandb-row {\n",
       "            display: flex;\n",
       "            flex-direction: row;\n",
       "            flex-wrap: wrap;\n",
       "            justify-content: flex-start;\n",
       "            width: 100%;\n",
       "        }\n",
       "        .wandb-col {\n",
       "            display: flex;\n",
       "            flex-direction: column;\n",
       "            flex-basis: 100%;\n",
       "            flex: 1;\n",
       "            padding: 10px;\n",
       "        }\n",
       "    </style>\n",
       "<div class=\"wandb-row\"><div class=\"wandb-col\"><h3>Run history:</h3><br/><table class=\"wandb\"><tr><td>accuracy</td><td>▁</td></tr><tr><td>f1-score</td><td>▁</td></tr></table><br/></div><div class=\"wandb-col\"><h3>Run summary:</h3><br/><table class=\"wandb\"><tr><td>accuracy</td><td>0.89416</td></tr><tr><td>f1-score</td><td>0.62271</td></tr></table><br/></div></div>"
      ],
      "text/plain": [
       "<IPython.core.display.HTML object>"
      ]
     },
     "metadata": {},
     "output_type": "display_data"
    },
    {
     "data": {
      "text/html": [
       " View run <strong style=\"color:#cdcd00\">warm-sweep-22</strong> at: <a href='https://wandb.ai/MasterarbeitBV/XGBoost_Hyperparameter_Tuning/runs/mdot0rob' target=\"_blank\">https://wandb.ai/MasterarbeitBV/XGBoost_Hyperparameter_Tuning/runs/mdot0rob</a><br/> View project at: <a href='https://wandb.ai/MasterarbeitBV/XGBoost_Hyperparameter_Tuning' target=\"_blank\">https://wandb.ai/MasterarbeitBV/XGBoost_Hyperparameter_Tuning</a><br/>Synced 5 W&B file(s), 0 media file(s), 0 artifact file(s) and 0 other file(s)"
      ],
      "text/plain": [
       "<IPython.core.display.HTML object>"
      ]
     },
     "metadata": {},
     "output_type": "display_data"
    },
    {
     "data": {
      "text/html": [
       "Find logs at: <code>.\\wandb\\run-20241201_135202-mdot0rob\\logs</code>"
      ],
      "text/plain": [
       "<IPython.core.display.HTML object>"
      ]
     },
     "metadata": {},
     "output_type": "display_data"
    },
    {
     "name": "stderr",
     "output_type": "stream",
     "text": [
      "\u001b[34m\u001b[1mwandb\u001b[0m: Agent Starting Run: beg4zdpt with config:\n",
      "\u001b[34m\u001b[1mwandb\u001b[0m: \tBalancing: False\n",
      "\u001b[34m\u001b[1mwandb\u001b[0m: \tfeatures: ['x', 'y', 'velocity']\n",
      "\u001b[34m\u001b[1mwandb\u001b[0m: \tn_features_per_kernel: 4\n",
      "\u001b[34m\u001b[1mwandb\u001b[0m: \tnum_kernels: 1000\n",
      "\u001b[34m\u001b[1mwandb\u001b[0m: \trocket_transform: rocket\n",
      "\u001b[34m\u001b[1mwandb\u001b[0m: \tscaling: False\n",
      "\u001b[34m\u001b[1mwandb\u001b[0m: \twindow_size: 21\n"
     ]
    },
    {
     "data": {
      "text/html": [
       "Tracking run with wandb version 0.18.6"
      ],
      "text/plain": [
       "<IPython.core.display.HTML object>"
      ]
     },
     "metadata": {},
     "output_type": "display_data"
    },
    {
     "data": {
      "text/html": [
       "Run data is saved locally in <code>c:\\Users\\benev\\Documents\\Uni_Master\\Masterarbeit\\CODE\\8_tennis_analytics\\wandb\\run-20241201_135232-beg4zdpt</code>"
      ],
      "text/plain": [
       "<IPython.core.display.HTML object>"
      ]
     },
     "metadata": {},
     "output_type": "display_data"
    },
    {
     "data": {
      "text/html": [
       "Syncing run <strong><a href='https://wandb.ai/MasterarbeitBV/XGBoost_Hyperparameter_Tuning/runs/beg4zdpt' target=\"_blank\">floral-sweep-23</a></strong> to <a href='https://wandb.ai/MasterarbeitBV/XGBoost_Hyperparameter_Tuning' target=\"_blank\">Weights & Biases</a> (<a href='https://wandb.me/developer-guide' target=\"_blank\">docs</a>)<br/>Sweep page: <a href='https://wandb.ai/MasterarbeitBV/XGBoost_Hyperparameter_Tuning/sweeps/oros33fx' target=\"_blank\">https://wandb.ai/MasterarbeitBV/XGBoost_Hyperparameter_Tuning/sweeps/oros33fx</a>"
      ],
      "text/plain": [
       "<IPython.core.display.HTML object>"
      ]
     },
     "metadata": {},
     "output_type": "display_data"
    },
    {
     "data": {
      "text/html": [
       " View project at <a href='https://wandb.ai/MasterarbeitBV/XGBoost_Hyperparameter_Tuning' target=\"_blank\">https://wandb.ai/MasterarbeitBV/XGBoost_Hyperparameter_Tuning</a>"
      ],
      "text/plain": [
       "<IPython.core.display.HTML object>"
      ]
     },
     "metadata": {},
     "output_type": "display_data"
    },
    {
     "data": {
      "text/html": [
       " View sweep at <a href='https://wandb.ai/MasterarbeitBV/XGBoost_Hyperparameter_Tuning/sweeps/oros33fx' target=\"_blank\">https://wandb.ai/MasterarbeitBV/XGBoost_Hyperparameter_Tuning/sweeps/oros33fx</a>"
      ],
      "text/plain": [
       "<IPython.core.display.HTML object>"
      ]
     },
     "metadata": {},
     "output_type": "display_data"
    },
    {
     "data": {
      "text/html": [
       " View run at <a href='https://wandb.ai/MasterarbeitBV/XGBoost_Hyperparameter_Tuning/runs/beg4zdpt' target=\"_blank\">https://wandb.ai/MasterarbeitBV/XGBoost_Hyperparameter_Tuning/runs/beg4zdpt</a>"
      ],
      "text/plain": [
       "<IPython.core.display.HTML object>"
      ]
     },
     "metadata": {},
     "output_type": "display_data"
    },
    {
     "data": {
      "text/html": [
       "\n",
       "    <style>\n",
       "        .wandb-row {\n",
       "            display: flex;\n",
       "            flex-direction: row;\n",
       "            flex-wrap: wrap;\n",
       "            justify-content: flex-start;\n",
       "            width: 100%;\n",
       "        }\n",
       "        .wandb-col {\n",
       "            display: flex;\n",
       "            flex-direction: column;\n",
       "            flex-basis: 100%;\n",
       "            flex: 1;\n",
       "            padding: 10px;\n",
       "        }\n",
       "    </style>\n",
       "<div class=\"wandb-row\"><div class=\"wandb-col\"><h3>Run history:</h3><br/><table class=\"wandb\"><tr><td>accuracy</td><td>▁</td></tr><tr><td>f1-score</td><td>▁</td></tr></table><br/></div><div class=\"wandb-col\"><h3>Run summary:</h3><br/><table class=\"wandb\"><tr><td>accuracy</td><td>0.95708</td></tr><tr><td>f1-score</td><td>0.52077</td></tr></table><br/></div></div>"
      ],
      "text/plain": [
       "<IPython.core.display.HTML object>"
      ]
     },
     "metadata": {},
     "output_type": "display_data"
    },
    {
     "data": {
      "text/html": [
       " View run <strong style=\"color:#cdcd00\">floral-sweep-23</strong> at: <a href='https://wandb.ai/MasterarbeitBV/XGBoost_Hyperparameter_Tuning/runs/beg4zdpt' target=\"_blank\">https://wandb.ai/MasterarbeitBV/XGBoost_Hyperparameter_Tuning/runs/beg4zdpt</a><br/> View project at: <a href='https://wandb.ai/MasterarbeitBV/XGBoost_Hyperparameter_Tuning' target=\"_blank\">https://wandb.ai/MasterarbeitBV/XGBoost_Hyperparameter_Tuning</a><br/>Synced 5 W&B file(s), 0 media file(s), 0 artifact file(s) and 0 other file(s)"
      ],
      "text/plain": [
       "<IPython.core.display.HTML object>"
      ]
     },
     "metadata": {},
     "output_type": "display_data"
    },
    {
     "data": {
      "text/html": [
       "Find logs at: <code>.\\wandb\\run-20241201_135232-beg4zdpt\\logs</code>"
      ],
      "text/plain": [
       "<IPython.core.display.HTML object>"
      ]
     },
     "metadata": {},
     "output_type": "display_data"
    },
    {
     "name": "stderr",
     "output_type": "stream",
     "text": [
      "\u001b[34m\u001b[1mwandb\u001b[0m: Agent Starting Run: c1x8jknw with config:\n",
      "\u001b[34m\u001b[1mwandb\u001b[0m: \tBalancing: False\n",
      "\u001b[34m\u001b[1mwandb\u001b[0m: \tfeatures: ['x', 'y', 'velocity', 'direction']\n",
      "\u001b[34m\u001b[1mwandb\u001b[0m: \tn_features_per_kernel: 4\n",
      "\u001b[34m\u001b[1mwandb\u001b[0m: \tnum_kernels: 2000\n",
      "\u001b[34m\u001b[1mwandb\u001b[0m: \trocket_transform: rocket\n",
      "\u001b[34m\u001b[1mwandb\u001b[0m: \tscaling: True\n",
      "\u001b[34m\u001b[1mwandb\u001b[0m: \twindow_size: 7\n"
     ]
    },
    {
     "data": {
      "text/html": [
       "Tracking run with wandb version 0.18.6"
      ],
      "text/plain": [
       "<IPython.core.display.HTML object>"
      ]
     },
     "metadata": {},
     "output_type": "display_data"
    },
    {
     "data": {
      "text/html": [
       "Run data is saved locally in <code>c:\\Users\\benev\\Documents\\Uni_Master\\Masterarbeit\\CODE\\8_tennis_analytics\\wandb\\run-20241201_135304-c1x8jknw</code>"
      ],
      "text/plain": [
       "<IPython.core.display.HTML object>"
      ]
     },
     "metadata": {},
     "output_type": "display_data"
    },
    {
     "data": {
      "text/html": [
       "Syncing run <strong><a href='https://wandb.ai/MasterarbeitBV/XGBoost_Hyperparameter_Tuning/runs/c1x8jknw' target=\"_blank\">upbeat-sweep-24</a></strong> to <a href='https://wandb.ai/MasterarbeitBV/XGBoost_Hyperparameter_Tuning' target=\"_blank\">Weights & Biases</a> (<a href='https://wandb.me/developer-guide' target=\"_blank\">docs</a>)<br/>Sweep page: <a href='https://wandb.ai/MasterarbeitBV/XGBoost_Hyperparameter_Tuning/sweeps/oros33fx' target=\"_blank\">https://wandb.ai/MasterarbeitBV/XGBoost_Hyperparameter_Tuning/sweeps/oros33fx</a>"
      ],
      "text/plain": [
       "<IPython.core.display.HTML object>"
      ]
     },
     "metadata": {},
     "output_type": "display_data"
    },
    {
     "data": {
      "text/html": [
       " View project at <a href='https://wandb.ai/MasterarbeitBV/XGBoost_Hyperparameter_Tuning' target=\"_blank\">https://wandb.ai/MasterarbeitBV/XGBoost_Hyperparameter_Tuning</a>"
      ],
      "text/plain": [
       "<IPython.core.display.HTML object>"
      ]
     },
     "metadata": {},
     "output_type": "display_data"
    },
    {
     "data": {
      "text/html": [
       " View sweep at <a href='https://wandb.ai/MasterarbeitBV/XGBoost_Hyperparameter_Tuning/sweeps/oros33fx' target=\"_blank\">https://wandb.ai/MasterarbeitBV/XGBoost_Hyperparameter_Tuning/sweeps/oros33fx</a>"
      ],
      "text/plain": [
       "<IPython.core.display.HTML object>"
      ]
     },
     "metadata": {},
     "output_type": "display_data"
    },
    {
     "data": {
      "text/html": [
       " View run at <a href='https://wandb.ai/MasterarbeitBV/XGBoost_Hyperparameter_Tuning/runs/c1x8jknw' target=\"_blank\">https://wandb.ai/MasterarbeitBV/XGBoost_Hyperparameter_Tuning/runs/c1x8jknw</a>"
      ],
      "text/plain": [
       "<IPython.core.display.HTML object>"
      ]
     },
     "metadata": {},
     "output_type": "display_data"
    },
    {
     "data": {
      "text/html": [
       "\n",
       "    <style>\n",
       "        .wandb-row {\n",
       "            display: flex;\n",
       "            flex-direction: row;\n",
       "            flex-wrap: wrap;\n",
       "            justify-content: flex-start;\n",
       "            width: 100%;\n",
       "        }\n",
       "        .wandb-col {\n",
       "            display: flex;\n",
       "            flex-direction: column;\n",
       "            flex-basis: 100%;\n",
       "            flex: 1;\n",
       "            padding: 10px;\n",
       "        }\n",
       "    </style>\n",
       "<div class=\"wandb-row\"><div class=\"wandb-col\"><h3>Run history:</h3><br/><table class=\"wandb\"><tr><td>accuracy</td><td>▁</td></tr><tr><td>f1-score</td><td>▁</td></tr></table><br/></div><div class=\"wandb-col\"><h3>Run summary:</h3><br/><table class=\"wandb\"><tr><td>accuracy</td><td>0.9649</td></tr><tr><td>f1-score</td><td>0.66625</td></tr></table><br/></div></div>"
      ],
      "text/plain": [
       "<IPython.core.display.HTML object>"
      ]
     },
     "metadata": {},
     "output_type": "display_data"
    },
    {
     "data": {
      "text/html": [
       " View run <strong style=\"color:#cdcd00\">upbeat-sweep-24</strong> at: <a href='https://wandb.ai/MasterarbeitBV/XGBoost_Hyperparameter_Tuning/runs/c1x8jknw' target=\"_blank\">https://wandb.ai/MasterarbeitBV/XGBoost_Hyperparameter_Tuning/runs/c1x8jknw</a><br/> View project at: <a href='https://wandb.ai/MasterarbeitBV/XGBoost_Hyperparameter_Tuning' target=\"_blank\">https://wandb.ai/MasterarbeitBV/XGBoost_Hyperparameter_Tuning</a><br/>Synced 5 W&B file(s), 0 media file(s), 0 artifact file(s) and 0 other file(s)"
      ],
      "text/plain": [
       "<IPython.core.display.HTML object>"
      ]
     },
     "metadata": {},
     "output_type": "display_data"
    },
    {
     "data": {
      "text/html": [
       "Find logs at: <code>.\\wandb\\run-20241201_135304-c1x8jknw\\logs</code>"
      ],
      "text/plain": [
       "<IPython.core.display.HTML object>"
      ]
     },
     "metadata": {},
     "output_type": "display_data"
    },
    {
     "name": "stderr",
     "output_type": "stream",
     "text": [
      "\u001b[34m\u001b[1mwandb\u001b[0m: Agent Starting Run: vc42vxg3 with config:\n",
      "\u001b[34m\u001b[1mwandb\u001b[0m: \tBalancing: False\n",
      "\u001b[34m\u001b[1mwandb\u001b[0m: \tfeatures: ['x', 'y', 'velocity', 'direction']\n",
      "\u001b[34m\u001b[1mwandb\u001b[0m: \tn_features_per_kernel: 4\n",
      "\u001b[34m\u001b[1mwandb\u001b[0m: \tnum_kernels: 2000\n",
      "\u001b[34m\u001b[1mwandb\u001b[0m: \trocket_transform: rocket\n",
      "\u001b[34m\u001b[1mwandb\u001b[0m: \tscaling: True\n",
      "\u001b[34m\u001b[1mwandb\u001b[0m: \twindow_size: 11\n"
     ]
    },
    {
     "data": {
      "text/html": [
       "Tracking run with wandb version 0.18.6"
      ],
      "text/plain": [
       "<IPython.core.display.HTML object>"
      ]
     },
     "metadata": {},
     "output_type": "display_data"
    },
    {
     "data": {
      "text/html": [
       "Run data is saved locally in <code>c:\\Users\\benev\\Documents\\Uni_Master\\Masterarbeit\\CODE\\8_tennis_analytics\\wandb\\run-20241201_135411-vc42vxg3</code>"
      ],
      "text/plain": [
       "<IPython.core.display.HTML object>"
      ]
     },
     "metadata": {},
     "output_type": "display_data"
    },
    {
     "data": {
      "text/html": [
       "Syncing run <strong><a href='https://wandb.ai/MasterarbeitBV/XGBoost_Hyperparameter_Tuning/runs/vc42vxg3' target=\"_blank\">hopeful-sweep-25</a></strong> to <a href='https://wandb.ai/MasterarbeitBV/XGBoost_Hyperparameter_Tuning' target=\"_blank\">Weights & Biases</a> (<a href='https://wandb.me/developer-guide' target=\"_blank\">docs</a>)<br/>Sweep page: <a href='https://wandb.ai/MasterarbeitBV/XGBoost_Hyperparameter_Tuning/sweeps/oros33fx' target=\"_blank\">https://wandb.ai/MasterarbeitBV/XGBoost_Hyperparameter_Tuning/sweeps/oros33fx</a>"
      ],
      "text/plain": [
       "<IPython.core.display.HTML object>"
      ]
     },
     "metadata": {},
     "output_type": "display_data"
    },
    {
     "data": {
      "text/html": [
       " View project at <a href='https://wandb.ai/MasterarbeitBV/XGBoost_Hyperparameter_Tuning' target=\"_blank\">https://wandb.ai/MasterarbeitBV/XGBoost_Hyperparameter_Tuning</a>"
      ],
      "text/plain": [
       "<IPython.core.display.HTML object>"
      ]
     },
     "metadata": {},
     "output_type": "display_data"
    },
    {
     "data": {
      "text/html": [
       " View sweep at <a href='https://wandb.ai/MasterarbeitBV/XGBoost_Hyperparameter_Tuning/sweeps/oros33fx' target=\"_blank\">https://wandb.ai/MasterarbeitBV/XGBoost_Hyperparameter_Tuning/sweeps/oros33fx</a>"
      ],
      "text/plain": [
       "<IPython.core.display.HTML object>"
      ]
     },
     "metadata": {},
     "output_type": "display_data"
    },
    {
     "data": {
      "text/html": [
       " View run at <a href='https://wandb.ai/MasterarbeitBV/XGBoost_Hyperparameter_Tuning/runs/vc42vxg3' target=\"_blank\">https://wandb.ai/MasterarbeitBV/XGBoost_Hyperparameter_Tuning/runs/vc42vxg3</a>"
      ],
      "text/plain": [
       "<IPython.core.display.HTML object>"
      ]
     },
     "metadata": {},
     "output_type": "display_data"
    },
    {
     "data": {
      "text/html": [
       "\n",
       "    <style>\n",
       "        .wandb-row {\n",
       "            display: flex;\n",
       "            flex-direction: row;\n",
       "            flex-wrap: wrap;\n",
       "            justify-content: flex-start;\n",
       "            width: 100%;\n",
       "        }\n",
       "        .wandb-col {\n",
       "            display: flex;\n",
       "            flex-direction: column;\n",
       "            flex-basis: 100%;\n",
       "            flex: 1;\n",
       "            padding: 10px;\n",
       "        }\n",
       "    </style>\n",
       "<div class=\"wandb-row\"><div class=\"wandb-col\"><h3>Run history:</h3><br/><table class=\"wandb\"><tr><td>accuracy</td><td>▁</td></tr><tr><td>f1-score</td><td>▁</td></tr></table><br/></div><div class=\"wandb-col\"><h3>Run summary:</h3><br/><table class=\"wandb\"><tr><td>accuracy</td><td>0.96573</td></tr><tr><td>f1-score</td><td>0.69926</td></tr></table><br/></div></div>"
      ],
      "text/plain": [
       "<IPython.core.display.HTML object>"
      ]
     },
     "metadata": {},
     "output_type": "display_data"
    },
    {
     "data": {
      "text/html": [
       " View run <strong style=\"color:#cdcd00\">hopeful-sweep-25</strong> at: <a href='https://wandb.ai/MasterarbeitBV/XGBoost_Hyperparameter_Tuning/runs/vc42vxg3' target=\"_blank\">https://wandb.ai/MasterarbeitBV/XGBoost_Hyperparameter_Tuning/runs/vc42vxg3</a><br/> View project at: <a href='https://wandb.ai/MasterarbeitBV/XGBoost_Hyperparameter_Tuning' target=\"_blank\">https://wandb.ai/MasterarbeitBV/XGBoost_Hyperparameter_Tuning</a><br/>Synced 5 W&B file(s), 0 media file(s), 0 artifact file(s) and 0 other file(s)"
      ],
      "text/plain": [
       "<IPython.core.display.HTML object>"
      ]
     },
     "metadata": {},
     "output_type": "display_data"
    },
    {
     "data": {
      "text/html": [
       "Find logs at: <code>.\\wandb\\run-20241201_135411-vc42vxg3\\logs</code>"
      ],
      "text/plain": [
       "<IPython.core.display.HTML object>"
      ]
     },
     "metadata": {},
     "output_type": "display_data"
    },
    {
     "name": "stderr",
     "output_type": "stream",
     "text": [
      "\u001b[34m\u001b[1mwandb\u001b[0m: Agent Starting Run: xfup2olq with config:\n",
      "\u001b[34m\u001b[1mwandb\u001b[0m: \tBalancing: False\n",
      "\u001b[34m\u001b[1mwandb\u001b[0m: \tfeatures: ['x', 'y']\n",
      "\u001b[34m\u001b[1mwandb\u001b[0m: \tn_features_per_kernel: 4\n",
      "\u001b[34m\u001b[1mwandb\u001b[0m: \tnum_kernels: 2000\n",
      "\u001b[34m\u001b[1mwandb\u001b[0m: \trocket_transform: rocket\n",
      "\u001b[34m\u001b[1mwandb\u001b[0m: \tscaling: True\n",
      "\u001b[34m\u001b[1mwandb\u001b[0m: \twindow_size: 11\n"
     ]
    },
    {
     "data": {
      "text/html": [
       "Tracking run with wandb version 0.18.6"
      ],
      "text/plain": [
       "<IPython.core.display.HTML object>"
      ]
     },
     "metadata": {},
     "output_type": "display_data"
    },
    {
     "data": {
      "text/html": [
       "Run data is saved locally in <code>c:\\Users\\benev\\Documents\\Uni_Master\\Masterarbeit\\CODE\\8_tennis_analytics\\wandb\\run-20241201_135522-xfup2olq</code>"
      ],
      "text/plain": [
       "<IPython.core.display.HTML object>"
      ]
     },
     "metadata": {},
     "output_type": "display_data"
    },
    {
     "data": {
      "text/html": [
       "Syncing run <strong><a href='https://wandb.ai/MasterarbeitBV/XGBoost_Hyperparameter_Tuning/runs/xfup2olq' target=\"_blank\">resilient-sweep-26</a></strong> to <a href='https://wandb.ai/MasterarbeitBV/XGBoost_Hyperparameter_Tuning' target=\"_blank\">Weights & Biases</a> (<a href='https://wandb.me/developer-guide' target=\"_blank\">docs</a>)<br/>Sweep page: <a href='https://wandb.ai/MasterarbeitBV/XGBoost_Hyperparameter_Tuning/sweeps/oros33fx' target=\"_blank\">https://wandb.ai/MasterarbeitBV/XGBoost_Hyperparameter_Tuning/sweeps/oros33fx</a>"
      ],
      "text/plain": [
       "<IPython.core.display.HTML object>"
      ]
     },
     "metadata": {},
     "output_type": "display_data"
    },
    {
     "data": {
      "text/html": [
       " View project at <a href='https://wandb.ai/MasterarbeitBV/XGBoost_Hyperparameter_Tuning' target=\"_blank\">https://wandb.ai/MasterarbeitBV/XGBoost_Hyperparameter_Tuning</a>"
      ],
      "text/plain": [
       "<IPython.core.display.HTML object>"
      ]
     },
     "metadata": {},
     "output_type": "display_data"
    },
    {
     "data": {
      "text/html": [
       " View sweep at <a href='https://wandb.ai/MasterarbeitBV/XGBoost_Hyperparameter_Tuning/sweeps/oros33fx' target=\"_blank\">https://wandb.ai/MasterarbeitBV/XGBoost_Hyperparameter_Tuning/sweeps/oros33fx</a>"
      ],
      "text/plain": [
       "<IPython.core.display.HTML object>"
      ]
     },
     "metadata": {},
     "output_type": "display_data"
    },
    {
     "data": {
      "text/html": [
       " View run at <a href='https://wandb.ai/MasterarbeitBV/XGBoost_Hyperparameter_Tuning/runs/xfup2olq' target=\"_blank\">https://wandb.ai/MasterarbeitBV/XGBoost_Hyperparameter_Tuning/runs/xfup2olq</a>"
      ],
      "text/plain": [
       "<IPython.core.display.HTML object>"
      ]
     },
     "metadata": {},
     "output_type": "display_data"
    },
    {
     "data": {
      "text/html": [
       "\n",
       "    <style>\n",
       "        .wandb-row {\n",
       "            display: flex;\n",
       "            flex-direction: row;\n",
       "            flex-wrap: wrap;\n",
       "            justify-content: flex-start;\n",
       "            width: 100%;\n",
       "        }\n",
       "        .wandb-col {\n",
       "            display: flex;\n",
       "            flex-direction: column;\n",
       "            flex-basis: 100%;\n",
       "            flex: 1;\n",
       "            padding: 10px;\n",
       "        }\n",
       "    </style>\n",
       "<div class=\"wandb-row\"><div class=\"wandb-col\"><h3>Run history:</h3><br/><table class=\"wandb\"><tr><td>accuracy</td><td>▁</td></tr><tr><td>f1-score</td><td>▁</td></tr></table><br/></div><div class=\"wandb-col\"><h3>Run summary:</h3><br/><table class=\"wandb\"><tr><td>accuracy</td><td>0.96875</td></tr><tr><td>f1-score</td><td>0.72909</td></tr></table><br/></div></div>"
      ],
      "text/plain": [
       "<IPython.core.display.HTML object>"
      ]
     },
     "metadata": {},
     "output_type": "display_data"
    },
    {
     "data": {
      "text/html": [
       " View run <strong style=\"color:#cdcd00\">resilient-sweep-26</strong> at: <a href='https://wandb.ai/MasterarbeitBV/XGBoost_Hyperparameter_Tuning/runs/xfup2olq' target=\"_blank\">https://wandb.ai/MasterarbeitBV/XGBoost_Hyperparameter_Tuning/runs/xfup2olq</a><br/> View project at: <a href='https://wandb.ai/MasterarbeitBV/XGBoost_Hyperparameter_Tuning' target=\"_blank\">https://wandb.ai/MasterarbeitBV/XGBoost_Hyperparameter_Tuning</a><br/>Synced 5 W&B file(s), 0 media file(s), 0 artifact file(s) and 0 other file(s)"
      ],
      "text/plain": [
       "<IPython.core.display.HTML object>"
      ]
     },
     "metadata": {},
     "output_type": "display_data"
    },
    {
     "data": {
      "text/html": [
       "Find logs at: <code>.\\wandb\\run-20241201_135522-xfup2olq\\logs</code>"
      ],
      "text/plain": [
       "<IPython.core.display.HTML object>"
      ]
     },
     "metadata": {},
     "output_type": "display_data"
    },
    {
     "name": "stderr",
     "output_type": "stream",
     "text": [
      "\u001b[34m\u001b[1mwandb\u001b[0m: Agent Starting Run: h6ens5kg with config:\n",
      "\u001b[34m\u001b[1mwandb\u001b[0m: \tBalancing: True\n",
      "\u001b[34m\u001b[1mwandb\u001b[0m: \tfeatures: ['x', 'y']\n",
      "\u001b[34m\u001b[1mwandb\u001b[0m: \tn_features_per_kernel: 4\n",
      "\u001b[34m\u001b[1mwandb\u001b[0m: \tnum_kernels: 2000\n",
      "\u001b[34m\u001b[1mwandb\u001b[0m: \trocket_transform: rocket\n",
      "\u001b[34m\u001b[1mwandb\u001b[0m: \tscaling: True\n",
      "\u001b[34m\u001b[1mwandb\u001b[0m: \twindow_size: 21\n"
     ]
    },
    {
     "data": {
      "text/html": [
       "Tracking run with wandb version 0.18.6"
      ],
      "text/plain": [
       "<IPython.core.display.HTML object>"
      ]
     },
     "metadata": {},
     "output_type": "display_data"
    },
    {
     "data": {
      "text/html": [
       "Run data is saved locally in <code>c:\\Users\\benev\\Documents\\Uni_Master\\Masterarbeit\\CODE\\8_tennis_analytics\\wandb\\run-20241201_135625-h6ens5kg</code>"
      ],
      "text/plain": [
       "<IPython.core.display.HTML object>"
      ]
     },
     "metadata": {},
     "output_type": "display_data"
    },
    {
     "data": {
      "text/html": [
       "Syncing run <strong><a href='https://wandb.ai/MasterarbeitBV/XGBoost_Hyperparameter_Tuning/runs/h6ens5kg' target=\"_blank\">silver-sweep-27</a></strong> to <a href='https://wandb.ai/MasterarbeitBV/XGBoost_Hyperparameter_Tuning' target=\"_blank\">Weights & Biases</a> (<a href='https://wandb.me/developer-guide' target=\"_blank\">docs</a>)<br/>Sweep page: <a href='https://wandb.ai/MasterarbeitBV/XGBoost_Hyperparameter_Tuning/sweeps/oros33fx' target=\"_blank\">https://wandb.ai/MasterarbeitBV/XGBoost_Hyperparameter_Tuning/sweeps/oros33fx</a>"
      ],
      "text/plain": [
       "<IPython.core.display.HTML object>"
      ]
     },
     "metadata": {},
     "output_type": "display_data"
    },
    {
     "data": {
      "text/html": [
       " View project at <a href='https://wandb.ai/MasterarbeitBV/XGBoost_Hyperparameter_Tuning' target=\"_blank\">https://wandb.ai/MasterarbeitBV/XGBoost_Hyperparameter_Tuning</a>"
      ],
      "text/plain": [
       "<IPython.core.display.HTML object>"
      ]
     },
     "metadata": {},
     "output_type": "display_data"
    },
    {
     "data": {
      "text/html": [
       " View sweep at <a href='https://wandb.ai/MasterarbeitBV/XGBoost_Hyperparameter_Tuning/sweeps/oros33fx' target=\"_blank\">https://wandb.ai/MasterarbeitBV/XGBoost_Hyperparameter_Tuning/sweeps/oros33fx</a>"
      ],
      "text/plain": [
       "<IPython.core.display.HTML object>"
      ]
     },
     "metadata": {},
     "output_type": "display_data"
    },
    {
     "data": {
      "text/html": [
       " View run at <a href='https://wandb.ai/MasterarbeitBV/XGBoost_Hyperparameter_Tuning/runs/h6ens5kg' target=\"_blank\">https://wandb.ai/MasterarbeitBV/XGBoost_Hyperparameter_Tuning/runs/h6ens5kg</a>"
      ],
      "text/plain": [
       "<IPython.core.display.HTML object>"
      ]
     },
     "metadata": {},
     "output_type": "display_data"
    },
    {
     "data": {
      "text/html": [
       "\n",
       "    <style>\n",
       "        .wandb-row {\n",
       "            display: flex;\n",
       "            flex-direction: row;\n",
       "            flex-wrap: wrap;\n",
       "            justify-content: flex-start;\n",
       "            width: 100%;\n",
       "        }\n",
       "        .wandb-col {\n",
       "            display: flex;\n",
       "            flex-direction: column;\n",
       "            flex-basis: 100%;\n",
       "            flex: 1;\n",
       "            padding: 10px;\n",
       "        }\n",
       "    </style>\n",
       "<div class=\"wandb-row\"><div class=\"wandb-col\"><h3>Run history:</h3><br/><table class=\"wandb\"><tr><td>accuracy</td><td>▁</td></tr><tr><td>f1-score</td><td>▁</td></tr></table><br/></div><div class=\"wandb-col\"><h3>Run summary:</h3><br/><table class=\"wandb\"><tr><td>accuracy</td><td>0.9232</td></tr><tr><td>f1-score</td><td>0.67739</td></tr></table><br/></div></div>"
      ],
      "text/plain": [
       "<IPython.core.display.HTML object>"
      ]
     },
     "metadata": {},
     "output_type": "display_data"
    },
    {
     "data": {
      "text/html": [
       " View run <strong style=\"color:#cdcd00\">silver-sweep-27</strong> at: <a href='https://wandb.ai/MasterarbeitBV/XGBoost_Hyperparameter_Tuning/runs/h6ens5kg' target=\"_blank\">https://wandb.ai/MasterarbeitBV/XGBoost_Hyperparameter_Tuning/runs/h6ens5kg</a><br/> View project at: <a href='https://wandb.ai/MasterarbeitBV/XGBoost_Hyperparameter_Tuning' target=\"_blank\">https://wandb.ai/MasterarbeitBV/XGBoost_Hyperparameter_Tuning</a><br/>Synced 5 W&B file(s), 0 media file(s), 0 artifact file(s) and 0 other file(s)"
      ],
      "text/plain": [
       "<IPython.core.display.HTML object>"
      ]
     },
     "metadata": {},
     "output_type": "display_data"
    },
    {
     "data": {
      "text/html": [
       "Find logs at: <code>.\\wandb\\run-20241201_135625-h6ens5kg\\logs</code>"
      ],
      "text/plain": [
       "<IPython.core.display.HTML object>"
      ]
     },
     "metadata": {},
     "output_type": "display_data"
    },
    {
     "name": "stderr",
     "output_type": "stream",
     "text": [
      "\u001b[34m\u001b[1mwandb\u001b[0m: Agent Starting Run: 56kdabyx with config:\n",
      "\u001b[34m\u001b[1mwandb\u001b[0m: \tBalancing: False\n",
      "\u001b[34m\u001b[1mwandb\u001b[0m: \tfeatures: ['x', 'y']\n",
      "\u001b[34m\u001b[1mwandb\u001b[0m: \tn_features_per_kernel: 4\n",
      "\u001b[34m\u001b[1mwandb\u001b[0m: \tnum_kernels: 2000\n",
      "\u001b[34m\u001b[1mwandb\u001b[0m: \trocket_transform: rocket\n",
      "\u001b[34m\u001b[1mwandb\u001b[0m: \tscaling: True\n",
      "\u001b[34m\u001b[1mwandb\u001b[0m: \twindow_size: 11\n"
     ]
    },
    {
     "data": {
      "text/html": [
       "Tracking run with wandb version 0.18.6"
      ],
      "text/plain": [
       "<IPython.core.display.HTML object>"
      ]
     },
     "metadata": {},
     "output_type": "display_data"
    },
    {
     "data": {
      "text/html": [
       "Run data is saved locally in <code>c:\\Users\\benev\\Documents\\Uni_Master\\Masterarbeit\\CODE\\8_tennis_analytics\\wandb\\run-20241201_135851-56kdabyx</code>"
      ],
      "text/plain": [
       "<IPython.core.display.HTML object>"
      ]
     },
     "metadata": {},
     "output_type": "display_data"
    },
    {
     "data": {
      "text/html": [
       "Syncing run <strong><a href='https://wandb.ai/MasterarbeitBV/XGBoost_Hyperparameter_Tuning/runs/56kdabyx' target=\"_blank\">wandering-sweep-28</a></strong> to <a href='https://wandb.ai/MasterarbeitBV/XGBoost_Hyperparameter_Tuning' target=\"_blank\">Weights & Biases</a> (<a href='https://wandb.me/developer-guide' target=\"_blank\">docs</a>)<br/>Sweep page: <a href='https://wandb.ai/MasterarbeitBV/XGBoost_Hyperparameter_Tuning/sweeps/oros33fx' target=\"_blank\">https://wandb.ai/MasterarbeitBV/XGBoost_Hyperparameter_Tuning/sweeps/oros33fx</a>"
      ],
      "text/plain": [
       "<IPython.core.display.HTML object>"
      ]
     },
     "metadata": {},
     "output_type": "display_data"
    },
    {
     "data": {
      "text/html": [
       " View project at <a href='https://wandb.ai/MasterarbeitBV/XGBoost_Hyperparameter_Tuning' target=\"_blank\">https://wandb.ai/MasterarbeitBV/XGBoost_Hyperparameter_Tuning</a>"
      ],
      "text/plain": [
       "<IPython.core.display.HTML object>"
      ]
     },
     "metadata": {},
     "output_type": "display_data"
    },
    {
     "data": {
      "text/html": [
       " View sweep at <a href='https://wandb.ai/MasterarbeitBV/XGBoost_Hyperparameter_Tuning/sweeps/oros33fx' target=\"_blank\">https://wandb.ai/MasterarbeitBV/XGBoost_Hyperparameter_Tuning/sweeps/oros33fx</a>"
      ],
      "text/plain": [
       "<IPython.core.display.HTML object>"
      ]
     },
     "metadata": {},
     "output_type": "display_data"
    },
    {
     "data": {
      "text/html": [
       " View run at <a href='https://wandb.ai/MasterarbeitBV/XGBoost_Hyperparameter_Tuning/runs/56kdabyx' target=\"_blank\">https://wandb.ai/MasterarbeitBV/XGBoost_Hyperparameter_Tuning/runs/56kdabyx</a>"
      ],
      "text/plain": [
       "<IPython.core.display.HTML object>"
      ]
     },
     "metadata": {},
     "output_type": "display_data"
    },
    {
     "data": {
      "text/html": [
       "\n",
       "    <style>\n",
       "        .wandb-row {\n",
       "            display: flex;\n",
       "            flex-direction: row;\n",
       "            flex-wrap: wrap;\n",
       "            justify-content: flex-start;\n",
       "            width: 100%;\n",
       "        }\n",
       "        .wandb-col {\n",
       "            display: flex;\n",
       "            flex-direction: column;\n",
       "            flex-basis: 100%;\n",
       "            flex: 1;\n",
       "            padding: 10px;\n",
       "        }\n",
       "    </style>\n",
       "<div class=\"wandb-row\"><div class=\"wandb-col\"><h3>Run history:</h3><br/><table class=\"wandb\"><tr><td>accuracy</td><td>▁</td></tr><tr><td>f1-score</td><td>▁</td></tr></table><br/></div><div class=\"wandb-col\"><h3>Run summary:</h3><br/><table class=\"wandb\"><tr><td>accuracy</td><td>0.96875</td></tr><tr><td>f1-score</td><td>0.72909</td></tr></table><br/></div></div>"
      ],
      "text/plain": [
       "<IPython.core.display.HTML object>"
      ]
     },
     "metadata": {},
     "output_type": "display_data"
    },
    {
     "data": {
      "text/html": [
       " View run <strong style=\"color:#cdcd00\">wandering-sweep-28</strong> at: <a href='https://wandb.ai/MasterarbeitBV/XGBoost_Hyperparameter_Tuning/runs/56kdabyx' target=\"_blank\">https://wandb.ai/MasterarbeitBV/XGBoost_Hyperparameter_Tuning/runs/56kdabyx</a><br/> View project at: <a href='https://wandb.ai/MasterarbeitBV/XGBoost_Hyperparameter_Tuning' target=\"_blank\">https://wandb.ai/MasterarbeitBV/XGBoost_Hyperparameter_Tuning</a><br/>Synced 5 W&B file(s), 0 media file(s), 0 artifact file(s) and 0 other file(s)"
      ],
      "text/plain": [
       "<IPython.core.display.HTML object>"
      ]
     },
     "metadata": {},
     "output_type": "display_data"
    },
    {
     "data": {
      "text/html": [
       "Find logs at: <code>.\\wandb\\run-20241201_135851-56kdabyx\\logs</code>"
      ],
      "text/plain": [
       "<IPython.core.display.HTML object>"
      ]
     },
     "metadata": {},
     "output_type": "display_data"
    },
    {
     "name": "stderr",
     "output_type": "stream",
     "text": [
      "\u001b[34m\u001b[1mwandb\u001b[0m: Agent Starting Run: l62z4xmt with config:\n",
      "\u001b[34m\u001b[1mwandb\u001b[0m: \tBalancing: True\n",
      "\u001b[34m\u001b[1mwandb\u001b[0m: \tfeatures: ['x', 'y']\n",
      "\u001b[34m\u001b[1mwandb\u001b[0m: \tn_features_per_kernel: 4\n",
      "\u001b[34m\u001b[1mwandb\u001b[0m: \tnum_kernels: 2000\n",
      "\u001b[34m\u001b[1mwandb\u001b[0m: \trocket_transform: rocket\n",
      "\u001b[34m\u001b[1mwandb\u001b[0m: \tscaling: True\n",
      "\u001b[34m\u001b[1mwandb\u001b[0m: \twindow_size: 11\n"
     ]
    },
    {
     "data": {
      "text/html": [
       "Tracking run with wandb version 0.18.6"
      ],
      "text/plain": [
       "<IPython.core.display.HTML object>"
      ]
     },
     "metadata": {},
     "output_type": "display_data"
    },
    {
     "data": {
      "text/html": [
       "Run data is saved locally in <code>c:\\Users\\benev\\Documents\\Uni_Master\\Masterarbeit\\CODE\\8_tennis_analytics\\wandb\\run-20241201_135957-l62z4xmt</code>"
      ],
      "text/plain": [
       "<IPython.core.display.HTML object>"
      ]
     },
     "metadata": {},
     "output_type": "display_data"
    },
    {
     "data": {
      "text/html": [
       "Syncing run <strong><a href='https://wandb.ai/MasterarbeitBV/XGBoost_Hyperparameter_Tuning/runs/l62z4xmt' target=\"_blank\">soft-sweep-29</a></strong> to <a href='https://wandb.ai/MasterarbeitBV/XGBoost_Hyperparameter_Tuning' target=\"_blank\">Weights & Biases</a> (<a href='https://wandb.me/developer-guide' target=\"_blank\">docs</a>)<br/>Sweep page: <a href='https://wandb.ai/MasterarbeitBV/XGBoost_Hyperparameter_Tuning/sweeps/oros33fx' target=\"_blank\">https://wandb.ai/MasterarbeitBV/XGBoost_Hyperparameter_Tuning/sweeps/oros33fx</a>"
      ],
      "text/plain": [
       "<IPython.core.display.HTML object>"
      ]
     },
     "metadata": {},
     "output_type": "display_data"
    },
    {
     "data": {
      "text/html": [
       " View project at <a href='https://wandb.ai/MasterarbeitBV/XGBoost_Hyperparameter_Tuning' target=\"_blank\">https://wandb.ai/MasterarbeitBV/XGBoost_Hyperparameter_Tuning</a>"
      ],
      "text/plain": [
       "<IPython.core.display.HTML object>"
      ]
     },
     "metadata": {},
     "output_type": "display_data"
    },
    {
     "data": {
      "text/html": [
       " View sweep at <a href='https://wandb.ai/MasterarbeitBV/XGBoost_Hyperparameter_Tuning/sweeps/oros33fx' target=\"_blank\">https://wandb.ai/MasterarbeitBV/XGBoost_Hyperparameter_Tuning/sweeps/oros33fx</a>"
      ],
      "text/plain": [
       "<IPython.core.display.HTML object>"
      ]
     },
     "metadata": {},
     "output_type": "display_data"
    },
    {
     "data": {
      "text/html": [
       " View run at <a href='https://wandb.ai/MasterarbeitBV/XGBoost_Hyperparameter_Tuning/runs/l62z4xmt' target=\"_blank\">https://wandb.ai/MasterarbeitBV/XGBoost_Hyperparameter_Tuning/runs/l62z4xmt</a>"
      ],
      "text/plain": [
       "<IPython.core.display.HTML object>"
      ]
     },
     "metadata": {},
     "output_type": "display_data"
    },
    {
     "data": {
      "text/html": [
       "\n",
       "    <style>\n",
       "        .wandb-row {\n",
       "            display: flex;\n",
       "            flex-direction: row;\n",
       "            flex-wrap: wrap;\n",
       "            justify-content: flex-start;\n",
       "            width: 100%;\n",
       "        }\n",
       "        .wandb-col {\n",
       "            display: flex;\n",
       "            flex-direction: column;\n",
       "            flex-basis: 100%;\n",
       "            flex: 1;\n",
       "            padding: 10px;\n",
       "        }\n",
       "    </style>\n",
       "<div class=\"wandb-row\"><div class=\"wandb-col\"><h3>Run history:</h3><br/><table class=\"wandb\"><tr><td>accuracy</td><td>▁</td></tr><tr><td>f1-score</td><td>▁</td></tr></table><br/></div><div class=\"wandb-col\"><h3>Run summary:</h3><br/><table class=\"wandb\"><tr><td>accuracy</td><td>0.93914</td></tr><tr><td>f1-score</td><td>0.70994</td></tr></table><br/></div></div>"
      ],
      "text/plain": [
       "<IPython.core.display.HTML object>"
      ]
     },
     "metadata": {},
     "output_type": "display_data"
    },
    {
     "data": {
      "text/html": [
       " View run <strong style=\"color:#cdcd00\">soft-sweep-29</strong> at: <a href='https://wandb.ai/MasterarbeitBV/XGBoost_Hyperparameter_Tuning/runs/l62z4xmt' target=\"_blank\">https://wandb.ai/MasterarbeitBV/XGBoost_Hyperparameter_Tuning/runs/l62z4xmt</a><br/> View project at: <a href='https://wandb.ai/MasterarbeitBV/XGBoost_Hyperparameter_Tuning' target=\"_blank\">https://wandb.ai/MasterarbeitBV/XGBoost_Hyperparameter_Tuning</a><br/>Synced 5 W&B file(s), 0 media file(s), 0 artifact file(s) and 0 other file(s)"
      ],
      "text/plain": [
       "<IPython.core.display.HTML object>"
      ]
     },
     "metadata": {},
     "output_type": "display_data"
    },
    {
     "data": {
      "text/html": [
       "Find logs at: <code>.\\wandb\\run-20241201_135957-l62z4xmt\\logs</code>"
      ],
      "text/plain": [
       "<IPython.core.display.HTML object>"
      ]
     },
     "metadata": {},
     "output_type": "display_data"
    },
    {
     "name": "stderr",
     "output_type": "stream",
     "text": [
      "\u001b[34m\u001b[1mwandb\u001b[0m: Agent Starting Run: wl9es4gl with config:\n",
      "\u001b[34m\u001b[1mwandb\u001b[0m: \tBalancing: False\n",
      "\u001b[34m\u001b[1mwandb\u001b[0m: \tfeatures: ['x', 'y']\n",
      "\u001b[34m\u001b[1mwandb\u001b[0m: \tn_features_per_kernel: 4\n",
      "\u001b[34m\u001b[1mwandb\u001b[0m: \tnum_kernels: 2000\n",
      "\u001b[34m\u001b[1mwandb\u001b[0m: \trocket_transform: rocket\n",
      "\u001b[34m\u001b[1mwandb\u001b[0m: \tscaling: False\n",
      "\u001b[34m\u001b[1mwandb\u001b[0m: \twindow_size: 11\n"
     ]
    },
    {
     "data": {
      "text/html": [
       "Tracking run with wandb version 0.18.6"
      ],
      "text/plain": [
       "<IPython.core.display.HTML object>"
      ]
     },
     "metadata": {},
     "output_type": "display_data"
    },
    {
     "data": {
      "text/html": [
       "Run data is saved locally in <code>c:\\Users\\benev\\Documents\\Uni_Master\\Masterarbeit\\CODE\\8_tennis_analytics\\wandb\\run-20241201_140159-wl9es4gl</code>"
      ],
      "text/plain": [
       "<IPython.core.display.HTML object>"
      ]
     },
     "metadata": {},
     "output_type": "display_data"
    },
    {
     "data": {
      "text/html": [
       "Syncing run <strong><a href='https://wandb.ai/MasterarbeitBV/XGBoost_Hyperparameter_Tuning/runs/wl9es4gl' target=\"_blank\">rich-sweep-30</a></strong> to <a href='https://wandb.ai/MasterarbeitBV/XGBoost_Hyperparameter_Tuning' target=\"_blank\">Weights & Biases</a> (<a href='https://wandb.me/developer-guide' target=\"_blank\">docs</a>)<br/>Sweep page: <a href='https://wandb.ai/MasterarbeitBV/XGBoost_Hyperparameter_Tuning/sweeps/oros33fx' target=\"_blank\">https://wandb.ai/MasterarbeitBV/XGBoost_Hyperparameter_Tuning/sweeps/oros33fx</a>"
      ],
      "text/plain": [
       "<IPython.core.display.HTML object>"
      ]
     },
     "metadata": {},
     "output_type": "display_data"
    },
    {
     "data": {
      "text/html": [
       " View project at <a href='https://wandb.ai/MasterarbeitBV/XGBoost_Hyperparameter_Tuning' target=\"_blank\">https://wandb.ai/MasterarbeitBV/XGBoost_Hyperparameter_Tuning</a>"
      ],
      "text/plain": [
       "<IPython.core.display.HTML object>"
      ]
     },
     "metadata": {},
     "output_type": "display_data"
    },
    {
     "data": {
      "text/html": [
       " View sweep at <a href='https://wandb.ai/MasterarbeitBV/XGBoost_Hyperparameter_Tuning/sweeps/oros33fx' target=\"_blank\">https://wandb.ai/MasterarbeitBV/XGBoost_Hyperparameter_Tuning/sweeps/oros33fx</a>"
      ],
      "text/plain": [
       "<IPython.core.display.HTML object>"
      ]
     },
     "metadata": {},
     "output_type": "display_data"
    },
    {
     "data": {
      "text/html": [
       " View run at <a href='https://wandb.ai/MasterarbeitBV/XGBoost_Hyperparameter_Tuning/runs/wl9es4gl' target=\"_blank\">https://wandb.ai/MasterarbeitBV/XGBoost_Hyperparameter_Tuning/runs/wl9es4gl</a>"
      ],
      "text/plain": [
       "<IPython.core.display.HTML object>"
      ]
     },
     "metadata": {},
     "output_type": "display_data"
    },
    {
     "data": {
      "text/html": [
       "\n",
       "    <style>\n",
       "        .wandb-row {\n",
       "            display: flex;\n",
       "            flex-direction: row;\n",
       "            flex-wrap: wrap;\n",
       "            justify-content: flex-start;\n",
       "            width: 100%;\n",
       "        }\n",
       "        .wandb-col {\n",
       "            display: flex;\n",
       "            flex-direction: column;\n",
       "            flex-basis: 100%;\n",
       "            flex: 1;\n",
       "            padding: 10px;\n",
       "        }\n",
       "    </style>\n",
       "<div class=\"wandb-row\"><div class=\"wandb-col\"><h3>Run history:</h3><br/><table class=\"wandb\"><tr><td>accuracy</td><td>▁</td></tr><tr><td>f1-score</td><td>▁</td></tr></table><br/></div><div class=\"wandb-col\"><h3>Run summary:</h3><br/><table class=\"wandb\"><tr><td>accuracy</td><td>0.9682</td></tr><tr><td>f1-score</td><td>0.72409</td></tr></table><br/></div></div>"
      ],
      "text/plain": [
       "<IPython.core.display.HTML object>"
      ]
     },
     "metadata": {},
     "output_type": "display_data"
    },
    {
     "data": {
      "text/html": [
       " View run <strong style=\"color:#cdcd00\">rich-sweep-30</strong> at: <a href='https://wandb.ai/MasterarbeitBV/XGBoost_Hyperparameter_Tuning/runs/wl9es4gl' target=\"_blank\">https://wandb.ai/MasterarbeitBV/XGBoost_Hyperparameter_Tuning/runs/wl9es4gl</a><br/> View project at: <a href='https://wandb.ai/MasterarbeitBV/XGBoost_Hyperparameter_Tuning' target=\"_blank\">https://wandb.ai/MasterarbeitBV/XGBoost_Hyperparameter_Tuning</a><br/>Synced 5 W&B file(s), 0 media file(s), 0 artifact file(s) and 0 other file(s)"
      ],
      "text/plain": [
       "<IPython.core.display.HTML object>"
      ]
     },
     "metadata": {},
     "output_type": "display_data"
    },
    {
     "data": {
      "text/html": [
       "Find logs at: <code>.\\wandb\\run-20241201_140159-wl9es4gl\\logs</code>"
      ],
      "text/plain": [
       "<IPython.core.display.HTML object>"
      ]
     },
     "metadata": {},
     "output_type": "display_data"
    },
    {
     "name": "stderr",
     "output_type": "stream",
     "text": [
      "\u001b[34m\u001b[1mwandb\u001b[0m: Agent Starting Run: 24kwnte2 with config:\n",
      "\u001b[34m\u001b[1mwandb\u001b[0m: \tBalancing: True\n",
      "\u001b[34m\u001b[1mwandb\u001b[0m: \tfeatures: ['x', 'y']\n",
      "\u001b[34m\u001b[1mwandb\u001b[0m: \tn_features_per_kernel: 4\n",
      "\u001b[34m\u001b[1mwandb\u001b[0m: \tnum_kernels: 2000\n",
      "\u001b[34m\u001b[1mwandb\u001b[0m: \trocket_transform: rocket\n",
      "\u001b[34m\u001b[1mwandb\u001b[0m: \tscaling: False\n",
      "\u001b[34m\u001b[1mwandb\u001b[0m: \twindow_size: 11\n"
     ]
    },
    {
     "data": {
      "text/html": [
       "Tracking run with wandb version 0.18.6"
      ],
      "text/plain": [
       "<IPython.core.display.HTML object>"
      ]
     },
     "metadata": {},
     "output_type": "display_data"
    },
    {
     "data": {
      "text/html": [
       "Run data is saved locally in <code>c:\\Users\\benev\\Documents\\Uni_Master\\Masterarbeit\\CODE\\8_tennis_analytics\\wandb\\run-20241201_140304-24kwnte2</code>"
      ],
      "text/plain": [
       "<IPython.core.display.HTML object>"
      ]
     },
     "metadata": {},
     "output_type": "display_data"
    },
    {
     "data": {
      "text/html": [
       "Syncing run <strong><a href='https://wandb.ai/MasterarbeitBV/XGBoost_Hyperparameter_Tuning/runs/24kwnte2' target=\"_blank\">worthy-sweep-31</a></strong> to <a href='https://wandb.ai/MasterarbeitBV/XGBoost_Hyperparameter_Tuning' target=\"_blank\">Weights & Biases</a> (<a href='https://wandb.me/developer-guide' target=\"_blank\">docs</a>)<br/>Sweep page: <a href='https://wandb.ai/MasterarbeitBV/XGBoost_Hyperparameter_Tuning/sweeps/oros33fx' target=\"_blank\">https://wandb.ai/MasterarbeitBV/XGBoost_Hyperparameter_Tuning/sweeps/oros33fx</a>"
      ],
      "text/plain": [
       "<IPython.core.display.HTML object>"
      ]
     },
     "metadata": {},
     "output_type": "display_data"
    },
    {
     "data": {
      "text/html": [
       " View project at <a href='https://wandb.ai/MasterarbeitBV/XGBoost_Hyperparameter_Tuning' target=\"_blank\">https://wandb.ai/MasterarbeitBV/XGBoost_Hyperparameter_Tuning</a>"
      ],
      "text/plain": [
       "<IPython.core.display.HTML object>"
      ]
     },
     "metadata": {},
     "output_type": "display_data"
    },
    {
     "data": {
      "text/html": [
       " View sweep at <a href='https://wandb.ai/MasterarbeitBV/XGBoost_Hyperparameter_Tuning/sweeps/oros33fx' target=\"_blank\">https://wandb.ai/MasterarbeitBV/XGBoost_Hyperparameter_Tuning/sweeps/oros33fx</a>"
      ],
      "text/plain": [
       "<IPython.core.display.HTML object>"
      ]
     },
     "metadata": {},
     "output_type": "display_data"
    },
    {
     "data": {
      "text/html": [
       " View run at <a href='https://wandb.ai/MasterarbeitBV/XGBoost_Hyperparameter_Tuning/runs/24kwnte2' target=\"_blank\">https://wandb.ai/MasterarbeitBV/XGBoost_Hyperparameter_Tuning/runs/24kwnte2</a>"
      ],
      "text/plain": [
       "<IPython.core.display.HTML object>"
      ]
     },
     "metadata": {},
     "output_type": "display_data"
    },
    {
     "data": {
      "text/html": [
       "\n",
       "    <style>\n",
       "        .wandb-row {\n",
       "            display: flex;\n",
       "            flex-direction: row;\n",
       "            flex-wrap: wrap;\n",
       "            justify-content: flex-start;\n",
       "            width: 100%;\n",
       "        }\n",
       "        .wandb-col {\n",
       "            display: flex;\n",
       "            flex-direction: column;\n",
       "            flex-basis: 100%;\n",
       "            flex: 1;\n",
       "            padding: 10px;\n",
       "        }\n",
       "    </style>\n",
       "<div class=\"wandb-row\"><div class=\"wandb-col\"><h3>Run history:</h3><br/><table class=\"wandb\"><tr><td>accuracy</td><td>▁</td></tr><tr><td>f1-score</td><td>▁</td></tr></table><br/></div><div class=\"wandb-col\"><h3>Run summary:</h3><br/><table class=\"wandb\"><tr><td>accuracy</td><td>0.93777</td></tr><tr><td>f1-score</td><td>0.70348</td></tr></table><br/></div></div>"
      ],
      "text/plain": [
       "<IPython.core.display.HTML object>"
      ]
     },
     "metadata": {},
     "output_type": "display_data"
    },
    {
     "data": {
      "text/html": [
       " View run <strong style=\"color:#cdcd00\">worthy-sweep-31</strong> at: <a href='https://wandb.ai/MasterarbeitBV/XGBoost_Hyperparameter_Tuning/runs/24kwnte2' target=\"_blank\">https://wandb.ai/MasterarbeitBV/XGBoost_Hyperparameter_Tuning/runs/24kwnte2</a><br/> View project at: <a href='https://wandb.ai/MasterarbeitBV/XGBoost_Hyperparameter_Tuning' target=\"_blank\">https://wandb.ai/MasterarbeitBV/XGBoost_Hyperparameter_Tuning</a><br/>Synced 5 W&B file(s), 0 media file(s), 0 artifact file(s) and 0 other file(s)"
      ],
      "text/plain": [
       "<IPython.core.display.HTML object>"
      ]
     },
     "metadata": {},
     "output_type": "display_data"
    },
    {
     "data": {
      "text/html": [
       "Find logs at: <code>.\\wandb\\run-20241201_140304-24kwnte2\\logs</code>"
      ],
      "text/plain": [
       "<IPython.core.display.HTML object>"
      ]
     },
     "metadata": {},
     "output_type": "display_data"
    },
    {
     "name": "stderr",
     "output_type": "stream",
     "text": [
      "\u001b[34m\u001b[1mwandb\u001b[0m: Agent Starting Run: 2sdid3jm with config:\n",
      "\u001b[34m\u001b[1mwandb\u001b[0m: \tBalancing: False\n",
      "\u001b[34m\u001b[1mwandb\u001b[0m: \tfeatures: ['x', 'y']\n",
      "\u001b[34m\u001b[1mwandb\u001b[0m: \tn_features_per_kernel: 4\n",
      "\u001b[34m\u001b[1mwandb\u001b[0m: \tnum_kernels: 2000\n",
      "\u001b[34m\u001b[1mwandb\u001b[0m: \trocket_transform: rocket\n",
      "\u001b[34m\u001b[1mwandb\u001b[0m: \tscaling: True\n",
      "\u001b[34m\u001b[1mwandb\u001b[0m: \twindow_size: 21\n"
     ]
    },
    {
     "data": {
      "text/html": [
       "Tracking run with wandb version 0.18.6"
      ],
      "text/plain": [
       "<IPython.core.display.HTML object>"
      ]
     },
     "metadata": {},
     "output_type": "display_data"
    },
    {
     "data": {
      "text/html": [
       "Run data is saved locally in <code>c:\\Users\\benev\\Documents\\Uni_Master\\Masterarbeit\\CODE\\8_tennis_analytics\\wandb\\run-20241201_140506-2sdid3jm</code>"
      ],
      "text/plain": [
       "<IPython.core.display.HTML object>"
      ]
     },
     "metadata": {},
     "output_type": "display_data"
    },
    {
     "data": {
      "text/html": [
       "Syncing run <strong><a href='https://wandb.ai/MasterarbeitBV/XGBoost_Hyperparameter_Tuning/runs/2sdid3jm' target=\"_blank\">electric-sweep-32</a></strong> to <a href='https://wandb.ai/MasterarbeitBV/XGBoost_Hyperparameter_Tuning' target=\"_blank\">Weights & Biases</a> (<a href='https://wandb.me/developer-guide' target=\"_blank\">docs</a>)<br/>Sweep page: <a href='https://wandb.ai/MasterarbeitBV/XGBoost_Hyperparameter_Tuning/sweeps/oros33fx' target=\"_blank\">https://wandb.ai/MasterarbeitBV/XGBoost_Hyperparameter_Tuning/sweeps/oros33fx</a>"
      ],
      "text/plain": [
       "<IPython.core.display.HTML object>"
      ]
     },
     "metadata": {},
     "output_type": "display_data"
    },
    {
     "data": {
      "text/html": [
       " View project at <a href='https://wandb.ai/MasterarbeitBV/XGBoost_Hyperparameter_Tuning' target=\"_blank\">https://wandb.ai/MasterarbeitBV/XGBoost_Hyperparameter_Tuning</a>"
      ],
      "text/plain": [
       "<IPython.core.display.HTML object>"
      ]
     },
     "metadata": {},
     "output_type": "display_data"
    },
    {
     "data": {
      "text/html": [
       " View sweep at <a href='https://wandb.ai/MasterarbeitBV/XGBoost_Hyperparameter_Tuning/sweeps/oros33fx' target=\"_blank\">https://wandb.ai/MasterarbeitBV/XGBoost_Hyperparameter_Tuning/sweeps/oros33fx</a>"
      ],
      "text/plain": [
       "<IPython.core.display.HTML object>"
      ]
     },
     "metadata": {},
     "output_type": "display_data"
    },
    {
     "data": {
      "text/html": [
       " View run at <a href='https://wandb.ai/MasterarbeitBV/XGBoost_Hyperparameter_Tuning/runs/2sdid3jm' target=\"_blank\">https://wandb.ai/MasterarbeitBV/XGBoost_Hyperparameter_Tuning/runs/2sdid3jm</a>"
      ],
      "text/plain": [
       "<IPython.core.display.HTML object>"
      ]
     },
     "metadata": {},
     "output_type": "display_data"
    },
    {
     "data": {
      "text/html": [
       "\n",
       "    <style>\n",
       "        .wandb-row {\n",
       "            display: flex;\n",
       "            flex-direction: row;\n",
       "            flex-wrap: wrap;\n",
       "            justify-content: flex-start;\n",
       "            width: 100%;\n",
       "        }\n",
       "        .wandb-col {\n",
       "            display: flex;\n",
       "            flex-direction: column;\n",
       "            flex-basis: 100%;\n",
       "            flex: 1;\n",
       "            padding: 10px;\n",
       "        }\n",
       "    </style>\n",
       "<div class=\"wandb-row\"><div class=\"wandb-col\"><h3>Run history:</h3><br/><table class=\"wandb\"><tr><td>accuracy</td><td>▁</td></tr><tr><td>f1-score</td><td>▁</td></tr></table><br/></div><div class=\"wandb-col\"><h3>Run summary:</h3><br/><table class=\"wandb\"><tr><td>accuracy</td><td>0.95547</td></tr><tr><td>f1-score</td><td>0.46411</td></tr></table><br/></div></div>"
      ],
      "text/plain": [
       "<IPython.core.display.HTML object>"
      ]
     },
     "metadata": {},
     "output_type": "display_data"
    },
    {
     "data": {
      "text/html": [
       " View run <strong style=\"color:#cdcd00\">electric-sweep-32</strong> at: <a href='https://wandb.ai/MasterarbeitBV/XGBoost_Hyperparameter_Tuning/runs/2sdid3jm' target=\"_blank\">https://wandb.ai/MasterarbeitBV/XGBoost_Hyperparameter_Tuning/runs/2sdid3jm</a><br/> View project at: <a href='https://wandb.ai/MasterarbeitBV/XGBoost_Hyperparameter_Tuning' target=\"_blank\">https://wandb.ai/MasterarbeitBV/XGBoost_Hyperparameter_Tuning</a><br/>Synced 5 W&B file(s), 0 media file(s), 0 artifact file(s) and 0 other file(s)"
      ],
      "text/plain": [
       "<IPython.core.display.HTML object>"
      ]
     },
     "metadata": {},
     "output_type": "display_data"
    },
    {
     "data": {
      "text/html": [
       "Find logs at: <code>.\\wandb\\run-20241201_140506-2sdid3jm\\logs</code>"
      ],
      "text/plain": [
       "<IPython.core.display.HTML object>"
      ]
     },
     "metadata": {},
     "output_type": "display_data"
    },
    {
     "name": "stderr",
     "output_type": "stream",
     "text": [
      "\u001b[34m\u001b[1mwandb\u001b[0m: Agent Starting Run: 14y19444 with config:\n",
      "\u001b[34m\u001b[1mwandb\u001b[0m: \tBalancing: True\n",
      "\u001b[34m\u001b[1mwandb\u001b[0m: \tfeatures: ['x', 'y', 'velocity']\n",
      "\u001b[34m\u001b[1mwandb\u001b[0m: \tn_features_per_kernel: 4\n",
      "\u001b[34m\u001b[1mwandb\u001b[0m: \tnum_kernels: 2000\n",
      "\u001b[34m\u001b[1mwandb\u001b[0m: \trocket_transform: rocket\n",
      "\u001b[34m\u001b[1mwandb\u001b[0m: \tscaling: True\n",
      "\u001b[34m\u001b[1mwandb\u001b[0m: \twindow_size: 11\n"
     ]
    },
    {
     "data": {
      "text/html": [
       "Tracking run with wandb version 0.18.6"
      ],
      "text/plain": [
       "<IPython.core.display.HTML object>"
      ]
     },
     "metadata": {},
     "output_type": "display_data"
    },
    {
     "data": {
      "text/html": [
       "Run data is saved locally in <code>c:\\Users\\benev\\Documents\\Uni_Master\\Masterarbeit\\CODE\\8_tennis_analytics\\wandb\\run-20241201_140616-14y19444</code>"
      ],
      "text/plain": [
       "<IPython.core.display.HTML object>"
      ]
     },
     "metadata": {},
     "output_type": "display_data"
    },
    {
     "data": {
      "text/html": [
       "Syncing run <strong><a href='https://wandb.ai/MasterarbeitBV/XGBoost_Hyperparameter_Tuning/runs/14y19444' target=\"_blank\">gentle-sweep-33</a></strong> to <a href='https://wandb.ai/MasterarbeitBV/XGBoost_Hyperparameter_Tuning' target=\"_blank\">Weights & Biases</a> (<a href='https://wandb.me/developer-guide' target=\"_blank\">docs</a>)<br/>Sweep page: <a href='https://wandb.ai/MasterarbeitBV/XGBoost_Hyperparameter_Tuning/sweeps/oros33fx' target=\"_blank\">https://wandb.ai/MasterarbeitBV/XGBoost_Hyperparameter_Tuning/sweeps/oros33fx</a>"
      ],
      "text/plain": [
       "<IPython.core.display.HTML object>"
      ]
     },
     "metadata": {},
     "output_type": "display_data"
    },
    {
     "data": {
      "text/html": [
       " View project at <a href='https://wandb.ai/MasterarbeitBV/XGBoost_Hyperparameter_Tuning' target=\"_blank\">https://wandb.ai/MasterarbeitBV/XGBoost_Hyperparameter_Tuning</a>"
      ],
      "text/plain": [
       "<IPython.core.display.HTML object>"
      ]
     },
     "metadata": {},
     "output_type": "display_data"
    },
    {
     "data": {
      "text/html": [
       " View sweep at <a href='https://wandb.ai/MasterarbeitBV/XGBoost_Hyperparameter_Tuning/sweeps/oros33fx' target=\"_blank\">https://wandb.ai/MasterarbeitBV/XGBoost_Hyperparameter_Tuning/sweeps/oros33fx</a>"
      ],
      "text/plain": [
       "<IPython.core.display.HTML object>"
      ]
     },
     "metadata": {},
     "output_type": "display_data"
    },
    {
     "data": {
      "text/html": [
       " View run at <a href='https://wandb.ai/MasterarbeitBV/XGBoost_Hyperparameter_Tuning/runs/14y19444' target=\"_blank\">https://wandb.ai/MasterarbeitBV/XGBoost_Hyperparameter_Tuning/runs/14y19444</a>"
      ],
      "text/plain": [
       "<IPython.core.display.HTML object>"
      ]
     },
     "metadata": {},
     "output_type": "display_data"
    },
    {
     "data": {
      "text/html": [
       "\n",
       "    <style>\n",
       "        .wandb-row {\n",
       "            display: flex;\n",
       "            flex-direction: row;\n",
       "            flex-wrap: wrap;\n",
       "            justify-content: flex-start;\n",
       "            width: 100%;\n",
       "        }\n",
       "        .wandb-col {\n",
       "            display: flex;\n",
       "            flex-direction: column;\n",
       "            flex-basis: 100%;\n",
       "            flex: 1;\n",
       "            padding: 10px;\n",
       "        }\n",
       "    </style>\n",
       "<div class=\"wandb-row\"><div class=\"wandb-col\"><h3>Run history:</h3><br/><table class=\"wandb\"><tr><td>accuracy</td><td>▁</td></tr><tr><td>f1-score</td><td>▁</td></tr></table><br/></div><div class=\"wandb-col\"><h3>Run summary:</h3><br/><table class=\"wandb\"><tr><td>accuracy</td><td>0.9386</td></tr><tr><td>f1-score</td><td>0.70736</td></tr></table><br/></div></div>"
      ],
      "text/plain": [
       "<IPython.core.display.HTML object>"
      ]
     },
     "metadata": {},
     "output_type": "display_data"
    },
    {
     "data": {
      "text/html": [
       " View run <strong style=\"color:#cdcd00\">gentle-sweep-33</strong> at: <a href='https://wandb.ai/MasterarbeitBV/XGBoost_Hyperparameter_Tuning/runs/14y19444' target=\"_blank\">https://wandb.ai/MasterarbeitBV/XGBoost_Hyperparameter_Tuning/runs/14y19444</a><br/> View project at: <a href='https://wandb.ai/MasterarbeitBV/XGBoost_Hyperparameter_Tuning' target=\"_blank\">https://wandb.ai/MasterarbeitBV/XGBoost_Hyperparameter_Tuning</a><br/>Synced 5 W&B file(s), 0 media file(s), 0 artifact file(s) and 0 other file(s)"
      ],
      "text/plain": [
       "<IPython.core.display.HTML object>"
      ]
     },
     "metadata": {},
     "output_type": "display_data"
    },
    {
     "data": {
      "text/html": [
       "Find logs at: <code>.\\wandb\\run-20241201_140616-14y19444\\logs</code>"
      ],
      "text/plain": [
       "<IPython.core.display.HTML object>"
      ]
     },
     "metadata": {},
     "output_type": "display_data"
    },
    {
     "name": "stderr",
     "output_type": "stream",
     "text": [
      "\u001b[34m\u001b[1mwandb\u001b[0m: Agent Starting Run: gcf32962 with config:\n",
      "\u001b[34m\u001b[1mwandb\u001b[0m: \tBalancing: False\n",
      "\u001b[34m\u001b[1mwandb\u001b[0m: \tfeatures: ['x', 'y']\n",
      "\u001b[34m\u001b[1mwandb\u001b[0m: \tn_features_per_kernel: 4\n",
      "\u001b[34m\u001b[1mwandb\u001b[0m: \tnum_kernels: 2000\n",
      "\u001b[34m\u001b[1mwandb\u001b[0m: \trocket_transform: rocket\n",
      "\u001b[34m\u001b[1mwandb\u001b[0m: \tscaling: False\n",
      "\u001b[34m\u001b[1mwandb\u001b[0m: \twindow_size: 7\n"
     ]
    },
    {
     "data": {
      "text/html": [
       "Tracking run with wandb version 0.18.6"
      ],
      "text/plain": [
       "<IPython.core.display.HTML object>"
      ]
     },
     "metadata": {},
     "output_type": "display_data"
    },
    {
     "data": {
      "text/html": [
       "Run data is saved locally in <code>c:\\Users\\benev\\Documents\\Uni_Master\\Masterarbeit\\CODE\\8_tennis_analytics\\wandb\\run-20241201_140829-gcf32962</code>"
      ],
      "text/plain": [
       "<IPython.core.display.HTML object>"
      ]
     },
     "metadata": {},
     "output_type": "display_data"
    },
    {
     "data": {
      "text/html": [
       "Syncing run <strong><a href='https://wandb.ai/MasterarbeitBV/XGBoost_Hyperparameter_Tuning/runs/gcf32962' target=\"_blank\">frosty-sweep-34</a></strong> to <a href='https://wandb.ai/MasterarbeitBV/XGBoost_Hyperparameter_Tuning' target=\"_blank\">Weights & Biases</a> (<a href='https://wandb.me/developer-guide' target=\"_blank\">docs</a>)<br/>Sweep page: <a href='https://wandb.ai/MasterarbeitBV/XGBoost_Hyperparameter_Tuning/sweeps/oros33fx' target=\"_blank\">https://wandb.ai/MasterarbeitBV/XGBoost_Hyperparameter_Tuning/sweeps/oros33fx</a>"
      ],
      "text/plain": [
       "<IPython.core.display.HTML object>"
      ]
     },
     "metadata": {},
     "output_type": "display_data"
    },
    {
     "data": {
      "text/html": [
       " View project at <a href='https://wandb.ai/MasterarbeitBV/XGBoost_Hyperparameter_Tuning' target=\"_blank\">https://wandb.ai/MasterarbeitBV/XGBoost_Hyperparameter_Tuning</a>"
      ],
      "text/plain": [
       "<IPython.core.display.HTML object>"
      ]
     },
     "metadata": {},
     "output_type": "display_data"
    },
    {
     "data": {
      "text/html": [
       " View sweep at <a href='https://wandb.ai/MasterarbeitBV/XGBoost_Hyperparameter_Tuning/sweeps/oros33fx' target=\"_blank\">https://wandb.ai/MasterarbeitBV/XGBoost_Hyperparameter_Tuning/sweeps/oros33fx</a>"
      ],
      "text/plain": [
       "<IPython.core.display.HTML object>"
      ]
     },
     "metadata": {},
     "output_type": "display_data"
    },
    {
     "data": {
      "text/html": [
       " View run at <a href='https://wandb.ai/MasterarbeitBV/XGBoost_Hyperparameter_Tuning/runs/gcf32962' target=\"_blank\">https://wandb.ai/MasterarbeitBV/XGBoost_Hyperparameter_Tuning/runs/gcf32962</a>"
      ],
      "text/plain": [
       "<IPython.core.display.HTML object>"
      ]
     },
     "metadata": {},
     "output_type": "display_data"
    },
    {
     "data": {
      "text/html": [
       "\n",
       "    <style>\n",
       "        .wandb-row {\n",
       "            display: flex;\n",
       "            flex-direction: row;\n",
       "            flex-wrap: wrap;\n",
       "            justify-content: flex-start;\n",
       "            width: 100%;\n",
       "        }\n",
       "        .wandb-col {\n",
       "            display: flex;\n",
       "            flex-direction: column;\n",
       "            flex-basis: 100%;\n",
       "            flex: 1;\n",
       "            padding: 10px;\n",
       "        }\n",
       "    </style>\n",
       "<div class=\"wandb-row\"><div class=\"wandb-col\"><h3>Run history:</h3><br/><table class=\"wandb\"><tr><td>accuracy</td><td>▁</td></tr><tr><td>f1-score</td><td>▁</td></tr></table><br/></div><div class=\"wandb-col\"><h3>Run summary:</h3><br/><table class=\"wandb\"><tr><td>accuracy</td><td>0.96387</td></tr><tr><td>f1-score</td><td>0.68542</td></tr></table><br/></div></div>"
      ],
      "text/plain": [
       "<IPython.core.display.HTML object>"
      ]
     },
     "metadata": {},
     "output_type": "display_data"
    },
    {
     "data": {
      "text/html": [
       " View run <strong style=\"color:#cdcd00\">frosty-sweep-34</strong> at: <a href='https://wandb.ai/MasterarbeitBV/XGBoost_Hyperparameter_Tuning/runs/gcf32962' target=\"_blank\">https://wandb.ai/MasterarbeitBV/XGBoost_Hyperparameter_Tuning/runs/gcf32962</a><br/> View project at: <a href='https://wandb.ai/MasterarbeitBV/XGBoost_Hyperparameter_Tuning' target=\"_blank\">https://wandb.ai/MasterarbeitBV/XGBoost_Hyperparameter_Tuning</a><br/>Synced 5 W&B file(s), 0 media file(s), 0 artifact file(s) and 0 other file(s)"
      ],
      "text/plain": [
       "<IPython.core.display.HTML object>"
      ]
     },
     "metadata": {},
     "output_type": "display_data"
    },
    {
     "data": {
      "text/html": [
       "Find logs at: <code>.\\wandb\\run-20241201_140829-gcf32962\\logs</code>"
      ],
      "text/plain": [
       "<IPython.core.display.HTML object>"
      ]
     },
     "metadata": {},
     "output_type": "display_data"
    },
    {
     "name": "stderr",
     "output_type": "stream",
     "text": [
      "\u001b[34m\u001b[1mwandb\u001b[0m: Agent Starting Run: 6gokg9er with config:\n",
      "\u001b[34m\u001b[1mwandb\u001b[0m: \tBalancing: False\n",
      "\u001b[34m\u001b[1mwandb\u001b[0m: \tfeatures: ['x', 'y']\n",
      "\u001b[34m\u001b[1mwandb\u001b[0m: \tn_features_per_kernel: 4\n",
      "\u001b[34m\u001b[1mwandb\u001b[0m: \tnum_kernels: 2000\n",
      "\u001b[34m\u001b[1mwandb\u001b[0m: \trocket_transform: rocket\n",
      "\u001b[34m\u001b[1mwandb\u001b[0m: \tscaling: True\n",
      "\u001b[34m\u001b[1mwandb\u001b[0m: \twindow_size: 11\n"
     ]
    },
    {
     "data": {
      "text/html": [
       "Tracking run with wandb version 0.18.6"
      ],
      "text/plain": [
       "<IPython.core.display.HTML object>"
      ]
     },
     "metadata": {},
     "output_type": "display_data"
    },
    {
     "data": {
      "text/html": [
       "Run data is saved locally in <code>c:\\Users\\benev\\Documents\\Uni_Master\\Masterarbeit\\CODE\\8_tennis_analytics\\wandb\\run-20241201_140933-6gokg9er</code>"
      ],
      "text/plain": [
       "<IPython.core.display.HTML object>"
      ]
     },
     "metadata": {},
     "output_type": "display_data"
    },
    {
     "data": {
      "text/html": [
       "Syncing run <strong><a href='https://wandb.ai/MasterarbeitBV/XGBoost_Hyperparameter_Tuning/runs/6gokg9er' target=\"_blank\">icy-sweep-35</a></strong> to <a href='https://wandb.ai/MasterarbeitBV/XGBoost_Hyperparameter_Tuning' target=\"_blank\">Weights & Biases</a> (<a href='https://wandb.me/developer-guide' target=\"_blank\">docs</a>)<br/>Sweep page: <a href='https://wandb.ai/MasterarbeitBV/XGBoost_Hyperparameter_Tuning/sweeps/oros33fx' target=\"_blank\">https://wandb.ai/MasterarbeitBV/XGBoost_Hyperparameter_Tuning/sweeps/oros33fx</a>"
      ],
      "text/plain": [
       "<IPython.core.display.HTML object>"
      ]
     },
     "metadata": {},
     "output_type": "display_data"
    },
    {
     "data": {
      "text/html": [
       " View project at <a href='https://wandb.ai/MasterarbeitBV/XGBoost_Hyperparameter_Tuning' target=\"_blank\">https://wandb.ai/MasterarbeitBV/XGBoost_Hyperparameter_Tuning</a>"
      ],
      "text/plain": [
       "<IPython.core.display.HTML object>"
      ]
     },
     "metadata": {},
     "output_type": "display_data"
    },
    {
     "data": {
      "text/html": [
       " View sweep at <a href='https://wandb.ai/MasterarbeitBV/XGBoost_Hyperparameter_Tuning/sweeps/oros33fx' target=\"_blank\">https://wandb.ai/MasterarbeitBV/XGBoost_Hyperparameter_Tuning/sweeps/oros33fx</a>"
      ],
      "text/plain": [
       "<IPython.core.display.HTML object>"
      ]
     },
     "metadata": {},
     "output_type": "display_data"
    },
    {
     "data": {
      "text/html": [
       " View run at <a href='https://wandb.ai/MasterarbeitBV/XGBoost_Hyperparameter_Tuning/runs/6gokg9er' target=\"_blank\">https://wandb.ai/MasterarbeitBV/XGBoost_Hyperparameter_Tuning/runs/6gokg9er</a>"
      ],
      "text/plain": [
       "<IPython.core.display.HTML object>"
      ]
     },
     "metadata": {},
     "output_type": "display_data"
    },
    {
     "data": {
      "text/html": [
       "\n",
       "    <style>\n",
       "        .wandb-row {\n",
       "            display: flex;\n",
       "            flex-direction: row;\n",
       "            flex-wrap: wrap;\n",
       "            justify-content: flex-start;\n",
       "            width: 100%;\n",
       "        }\n",
       "        .wandb-col {\n",
       "            display: flex;\n",
       "            flex-direction: column;\n",
       "            flex-basis: 100%;\n",
       "            flex: 1;\n",
       "            padding: 10px;\n",
       "        }\n",
       "    </style>\n",
       "<div class=\"wandb-row\"><div class=\"wandb-col\"><h3>Run history:</h3><br/><table class=\"wandb\"><tr><td>accuracy</td><td>▁</td></tr><tr><td>f1-score</td><td>▁</td></tr></table><br/></div><div class=\"wandb-col\"><h3>Run summary:</h3><br/><table class=\"wandb\"><tr><td>accuracy</td><td>0.96875</td></tr><tr><td>f1-score</td><td>0.72909</td></tr></table><br/></div></div>"
      ],
      "text/plain": [
       "<IPython.core.display.HTML object>"
      ]
     },
     "metadata": {},
     "output_type": "display_data"
    },
    {
     "data": {
      "text/html": [
       " View run <strong style=\"color:#cdcd00\">icy-sweep-35</strong> at: <a href='https://wandb.ai/MasterarbeitBV/XGBoost_Hyperparameter_Tuning/runs/6gokg9er' target=\"_blank\">https://wandb.ai/MasterarbeitBV/XGBoost_Hyperparameter_Tuning/runs/6gokg9er</a><br/> View project at: <a href='https://wandb.ai/MasterarbeitBV/XGBoost_Hyperparameter_Tuning' target=\"_blank\">https://wandb.ai/MasterarbeitBV/XGBoost_Hyperparameter_Tuning</a><br/>Synced 5 W&B file(s), 0 media file(s), 0 artifact file(s) and 0 other file(s)"
      ],
      "text/plain": [
       "<IPython.core.display.HTML object>"
      ]
     },
     "metadata": {},
     "output_type": "display_data"
    },
    {
     "data": {
      "text/html": [
       "Find logs at: <code>.\\wandb\\run-20241201_140933-6gokg9er\\logs</code>"
      ],
      "text/plain": [
       "<IPython.core.display.HTML object>"
      ]
     },
     "metadata": {},
     "output_type": "display_data"
    },
    {
     "name": "stderr",
     "output_type": "stream",
     "text": [
      "\u001b[34m\u001b[1mwandb\u001b[0m: Agent Starting Run: q0otvog6 with config:\n",
      "\u001b[34m\u001b[1mwandb\u001b[0m: \tBalancing: False\n",
      "\u001b[34m\u001b[1mwandb\u001b[0m: \tfeatures: ['x', 'y', 'velocity']\n",
      "\u001b[34m\u001b[1mwandb\u001b[0m: \tn_features_per_kernel: 4\n",
      "\u001b[34m\u001b[1mwandb\u001b[0m: \tnum_kernels: 2000\n",
      "\u001b[34m\u001b[1mwandb\u001b[0m: \trocket_transform: rocket\n",
      "\u001b[34m\u001b[1mwandb\u001b[0m: \tscaling: True\n",
      "\u001b[34m\u001b[1mwandb\u001b[0m: \twindow_size: 11\n"
     ]
    },
    {
     "data": {
      "text/html": [
       "Tracking run with wandb version 0.18.6"
      ],
      "text/plain": [
       "<IPython.core.display.HTML object>"
      ]
     },
     "metadata": {},
     "output_type": "display_data"
    },
    {
     "data": {
      "text/html": [
       "Run data is saved locally in <code>c:\\Users\\benev\\Documents\\Uni_Master\\Masterarbeit\\CODE\\8_tennis_analytics\\wandb\\run-20241201_141038-q0otvog6</code>"
      ],
      "text/plain": [
       "<IPython.core.display.HTML object>"
      ]
     },
     "metadata": {},
     "output_type": "display_data"
    },
    {
     "data": {
      "text/html": [
       "Syncing run <strong><a href='https://wandb.ai/MasterarbeitBV/XGBoost_Hyperparameter_Tuning/runs/q0otvog6' target=\"_blank\">fallen-sweep-36</a></strong> to <a href='https://wandb.ai/MasterarbeitBV/XGBoost_Hyperparameter_Tuning' target=\"_blank\">Weights & Biases</a> (<a href='https://wandb.me/developer-guide' target=\"_blank\">docs</a>)<br/>Sweep page: <a href='https://wandb.ai/MasterarbeitBV/XGBoost_Hyperparameter_Tuning/sweeps/oros33fx' target=\"_blank\">https://wandb.ai/MasterarbeitBV/XGBoost_Hyperparameter_Tuning/sweeps/oros33fx</a>"
      ],
      "text/plain": [
       "<IPython.core.display.HTML object>"
      ]
     },
     "metadata": {},
     "output_type": "display_data"
    },
    {
     "data": {
      "text/html": [
       " View project at <a href='https://wandb.ai/MasterarbeitBV/XGBoost_Hyperparameter_Tuning' target=\"_blank\">https://wandb.ai/MasterarbeitBV/XGBoost_Hyperparameter_Tuning</a>"
      ],
      "text/plain": [
       "<IPython.core.display.HTML object>"
      ]
     },
     "metadata": {},
     "output_type": "display_data"
    },
    {
     "data": {
      "text/html": [
       " View sweep at <a href='https://wandb.ai/MasterarbeitBV/XGBoost_Hyperparameter_Tuning/sweeps/oros33fx' target=\"_blank\">https://wandb.ai/MasterarbeitBV/XGBoost_Hyperparameter_Tuning/sweeps/oros33fx</a>"
      ],
      "text/plain": [
       "<IPython.core.display.HTML object>"
      ]
     },
     "metadata": {},
     "output_type": "display_data"
    },
    {
     "data": {
      "text/html": [
       " View run at <a href='https://wandb.ai/MasterarbeitBV/XGBoost_Hyperparameter_Tuning/runs/q0otvog6' target=\"_blank\">https://wandb.ai/MasterarbeitBV/XGBoost_Hyperparameter_Tuning/runs/q0otvog6</a>"
      ],
      "text/plain": [
       "<IPython.core.display.HTML object>"
      ]
     },
     "metadata": {},
     "output_type": "display_data"
    },
    {
     "data": {
      "text/html": [
       "\n",
       "    <style>\n",
       "        .wandb-row {\n",
       "            display: flex;\n",
       "            flex-direction: row;\n",
       "            flex-wrap: wrap;\n",
       "            justify-content: flex-start;\n",
       "            width: 100%;\n",
       "        }\n",
       "        .wandb-col {\n",
       "            display: flex;\n",
       "            flex-direction: column;\n",
       "            flex-basis: 100%;\n",
       "            flex: 1;\n",
       "            padding: 10px;\n",
       "        }\n",
       "    </style>\n",
       "<div class=\"wandb-row\"><div class=\"wandb-col\"><h3>Run history:</h3><br/><table class=\"wandb\"><tr><td>accuracy</td><td>▁</td></tr><tr><td>f1-score</td><td>▁</td></tr></table><br/></div><div class=\"wandb-col\"><h3>Run summary:</h3><br/><table class=\"wandb\"><tr><td>accuracy</td><td>0.9682</td></tr><tr><td>f1-score</td><td>0.72626</td></tr></table><br/></div></div>"
      ],
      "text/plain": [
       "<IPython.core.display.HTML object>"
      ]
     },
     "metadata": {},
     "output_type": "display_data"
    },
    {
     "data": {
      "text/html": [
       " View run <strong style=\"color:#cdcd00\">fallen-sweep-36</strong> at: <a href='https://wandb.ai/MasterarbeitBV/XGBoost_Hyperparameter_Tuning/runs/q0otvog6' target=\"_blank\">https://wandb.ai/MasterarbeitBV/XGBoost_Hyperparameter_Tuning/runs/q0otvog6</a><br/> View project at: <a href='https://wandb.ai/MasterarbeitBV/XGBoost_Hyperparameter_Tuning' target=\"_blank\">https://wandb.ai/MasterarbeitBV/XGBoost_Hyperparameter_Tuning</a><br/>Synced 5 W&B file(s), 0 media file(s), 0 artifact file(s) and 0 other file(s)"
      ],
      "text/plain": [
       "<IPython.core.display.HTML object>"
      ]
     },
     "metadata": {},
     "output_type": "display_data"
    },
    {
     "data": {
      "text/html": [
       "Find logs at: <code>.\\wandb\\run-20241201_141038-q0otvog6\\logs</code>"
      ],
      "text/plain": [
       "<IPython.core.display.HTML object>"
      ]
     },
     "metadata": {},
     "output_type": "display_data"
    },
    {
     "name": "stderr",
     "output_type": "stream",
     "text": [
      "\u001b[34m\u001b[1mwandb\u001b[0m: Agent Starting Run: ifo62zr2 with config:\n",
      "\u001b[34m\u001b[1mwandb\u001b[0m: \tBalancing: False\n",
      "\u001b[34m\u001b[1mwandb\u001b[0m: \tfeatures: ['x', 'y', 'velocity']\n",
      "\u001b[34m\u001b[1mwandb\u001b[0m: \tn_features_per_kernel: 4\n",
      "\u001b[34m\u001b[1mwandb\u001b[0m: \tnum_kernels: 2000\n",
      "\u001b[34m\u001b[1mwandb\u001b[0m: \trocket_transform: rocket\n",
      "\u001b[34m\u001b[1mwandb\u001b[0m: \tscaling: False\n",
      "\u001b[34m\u001b[1mwandb\u001b[0m: \twindow_size: 11\n"
     ]
    },
    {
     "data": {
      "text/html": [
       "Tracking run with wandb version 0.18.6"
      ],
      "text/plain": [
       "<IPython.core.display.HTML object>"
      ]
     },
     "metadata": {},
     "output_type": "display_data"
    },
    {
     "data": {
      "text/html": [
       "Run data is saved locally in <code>c:\\Users\\benev\\Documents\\Uni_Master\\Masterarbeit\\CODE\\8_tennis_analytics\\wandb\\run-20241201_141146-ifo62zr2</code>"
      ],
      "text/plain": [
       "<IPython.core.display.HTML object>"
      ]
     },
     "metadata": {},
     "output_type": "display_data"
    },
    {
     "data": {
      "text/html": [
       "Syncing run <strong><a href='https://wandb.ai/MasterarbeitBV/XGBoost_Hyperparameter_Tuning/runs/ifo62zr2' target=\"_blank\">eager-sweep-37</a></strong> to <a href='https://wandb.ai/MasterarbeitBV/XGBoost_Hyperparameter_Tuning' target=\"_blank\">Weights & Biases</a> (<a href='https://wandb.me/developer-guide' target=\"_blank\">docs</a>)<br/>Sweep page: <a href='https://wandb.ai/MasterarbeitBV/XGBoost_Hyperparameter_Tuning/sweeps/oros33fx' target=\"_blank\">https://wandb.ai/MasterarbeitBV/XGBoost_Hyperparameter_Tuning/sweeps/oros33fx</a>"
      ],
      "text/plain": [
       "<IPython.core.display.HTML object>"
      ]
     },
     "metadata": {},
     "output_type": "display_data"
    },
    {
     "data": {
      "text/html": [
       " View project at <a href='https://wandb.ai/MasterarbeitBV/XGBoost_Hyperparameter_Tuning' target=\"_blank\">https://wandb.ai/MasterarbeitBV/XGBoost_Hyperparameter_Tuning</a>"
      ],
      "text/plain": [
       "<IPython.core.display.HTML object>"
      ]
     },
     "metadata": {},
     "output_type": "display_data"
    },
    {
     "data": {
      "text/html": [
       " View sweep at <a href='https://wandb.ai/MasterarbeitBV/XGBoost_Hyperparameter_Tuning/sweeps/oros33fx' target=\"_blank\">https://wandb.ai/MasterarbeitBV/XGBoost_Hyperparameter_Tuning/sweeps/oros33fx</a>"
      ],
      "text/plain": [
       "<IPython.core.display.HTML object>"
      ]
     },
     "metadata": {},
     "output_type": "display_data"
    },
    {
     "data": {
      "text/html": [
       " View run at <a href='https://wandb.ai/MasterarbeitBV/XGBoost_Hyperparameter_Tuning/runs/ifo62zr2' target=\"_blank\">https://wandb.ai/MasterarbeitBV/XGBoost_Hyperparameter_Tuning/runs/ifo62zr2</a>"
      ],
      "text/plain": [
       "<IPython.core.display.HTML object>"
      ]
     },
     "metadata": {},
     "output_type": "display_data"
    },
    {
     "data": {
      "text/html": [
       "\n",
       "    <style>\n",
       "        .wandb-row {\n",
       "            display: flex;\n",
       "            flex-direction: row;\n",
       "            flex-wrap: wrap;\n",
       "            justify-content: flex-start;\n",
       "            width: 100%;\n",
       "        }\n",
       "        .wandb-col {\n",
       "            display: flex;\n",
       "            flex-direction: column;\n",
       "            flex-basis: 100%;\n",
       "            flex: 1;\n",
       "            padding: 10px;\n",
       "        }\n",
       "    </style>\n",
       "<div class=\"wandb-row\"><div class=\"wandb-col\"><h3>Run history:</h3><br/><table class=\"wandb\"><tr><td>accuracy</td><td>▁</td></tr><tr><td>f1-score</td><td>▁</td></tr></table><br/></div><div class=\"wandb-col\"><h3>Run summary:</h3><br/><table class=\"wandb\"><tr><td>accuracy</td><td>0.96711</td></tr><tr><td>f1-score</td><td>0.71808</td></tr></table><br/></div></div>"
      ],
      "text/plain": [
       "<IPython.core.display.HTML object>"
      ]
     },
     "metadata": {},
     "output_type": "display_data"
    },
    {
     "data": {
      "text/html": [
       " View run <strong style=\"color:#cdcd00\">eager-sweep-37</strong> at: <a href='https://wandb.ai/MasterarbeitBV/XGBoost_Hyperparameter_Tuning/runs/ifo62zr2' target=\"_blank\">https://wandb.ai/MasterarbeitBV/XGBoost_Hyperparameter_Tuning/runs/ifo62zr2</a><br/> View project at: <a href='https://wandb.ai/MasterarbeitBV/XGBoost_Hyperparameter_Tuning' target=\"_blank\">https://wandb.ai/MasterarbeitBV/XGBoost_Hyperparameter_Tuning</a><br/>Synced 5 W&B file(s), 0 media file(s), 0 artifact file(s) and 0 other file(s)"
      ],
      "text/plain": [
       "<IPython.core.display.HTML object>"
      ]
     },
     "metadata": {},
     "output_type": "display_data"
    },
    {
     "data": {
      "text/html": [
       "Find logs at: <code>.\\wandb\\run-20241201_141146-ifo62zr2\\logs</code>"
      ],
      "text/plain": [
       "<IPython.core.display.HTML object>"
      ]
     },
     "metadata": {},
     "output_type": "display_data"
    },
    {
     "name": "stderr",
     "output_type": "stream",
     "text": [
      "\u001b[34m\u001b[1mwandb\u001b[0m: Agent Starting Run: wir8mslh with config:\n",
      "\u001b[34m\u001b[1mwandb\u001b[0m: \tBalancing: False\n",
      "\u001b[34m\u001b[1mwandb\u001b[0m: \tfeatures: ['x', 'y', 'velocity', 'direction']\n",
      "\u001b[34m\u001b[1mwandb\u001b[0m: \tn_features_per_kernel: 4\n",
      "\u001b[34m\u001b[1mwandb\u001b[0m: \tnum_kernels: 2000\n",
      "\u001b[34m\u001b[1mwandb\u001b[0m: \trocket_transform: rocket\n",
      "\u001b[34m\u001b[1mwandb\u001b[0m: \tscaling: False\n",
      "\u001b[34m\u001b[1mwandb\u001b[0m: \twindow_size: 11\n"
     ]
    },
    {
     "data": {
      "text/html": [
       "Tracking run with wandb version 0.18.6"
      ],
      "text/plain": [
       "<IPython.core.display.HTML object>"
      ]
     },
     "metadata": {},
     "output_type": "display_data"
    },
    {
     "data": {
      "text/html": [
       "Run data is saved locally in <code>c:\\Users\\benev\\Documents\\Uni_Master\\Masterarbeit\\CODE\\8_tennis_analytics\\wandb\\run-20241201_141254-wir8mslh</code>"
      ],
      "text/plain": [
       "<IPython.core.display.HTML object>"
      ]
     },
     "metadata": {},
     "output_type": "display_data"
    },
    {
     "data": {
      "text/html": [
       "Syncing run <strong><a href='https://wandb.ai/MasterarbeitBV/XGBoost_Hyperparameter_Tuning/runs/wir8mslh' target=\"_blank\">ancient-sweep-38</a></strong> to <a href='https://wandb.ai/MasterarbeitBV/XGBoost_Hyperparameter_Tuning' target=\"_blank\">Weights & Biases</a> (<a href='https://wandb.me/developer-guide' target=\"_blank\">docs</a>)<br/>Sweep page: <a href='https://wandb.ai/MasterarbeitBV/XGBoost_Hyperparameter_Tuning/sweeps/oros33fx' target=\"_blank\">https://wandb.ai/MasterarbeitBV/XGBoost_Hyperparameter_Tuning/sweeps/oros33fx</a>"
      ],
      "text/plain": [
       "<IPython.core.display.HTML object>"
      ]
     },
     "metadata": {},
     "output_type": "display_data"
    },
    {
     "data": {
      "text/html": [
       " View project at <a href='https://wandb.ai/MasterarbeitBV/XGBoost_Hyperparameter_Tuning' target=\"_blank\">https://wandb.ai/MasterarbeitBV/XGBoost_Hyperparameter_Tuning</a>"
      ],
      "text/plain": [
       "<IPython.core.display.HTML object>"
      ]
     },
     "metadata": {},
     "output_type": "display_data"
    },
    {
     "data": {
      "text/html": [
       " View sweep at <a href='https://wandb.ai/MasterarbeitBV/XGBoost_Hyperparameter_Tuning/sweeps/oros33fx' target=\"_blank\">https://wandb.ai/MasterarbeitBV/XGBoost_Hyperparameter_Tuning/sweeps/oros33fx</a>"
      ],
      "text/plain": [
       "<IPython.core.display.HTML object>"
      ]
     },
     "metadata": {},
     "output_type": "display_data"
    },
    {
     "data": {
      "text/html": [
       " View run at <a href='https://wandb.ai/MasterarbeitBV/XGBoost_Hyperparameter_Tuning/runs/wir8mslh' target=\"_blank\">https://wandb.ai/MasterarbeitBV/XGBoost_Hyperparameter_Tuning/runs/wir8mslh</a>"
      ],
      "text/plain": [
       "<IPython.core.display.HTML object>"
      ]
     },
     "metadata": {},
     "output_type": "display_data"
    },
    {
     "data": {
      "text/html": [
       "\n",
       "    <style>\n",
       "        .wandb-row {\n",
       "            display: flex;\n",
       "            flex-direction: row;\n",
       "            flex-wrap: wrap;\n",
       "            justify-content: flex-start;\n",
       "            width: 100%;\n",
       "        }\n",
       "        .wandb-col {\n",
       "            display: flex;\n",
       "            flex-direction: column;\n",
       "            flex-basis: 100%;\n",
       "            flex: 1;\n",
       "            padding: 10px;\n",
       "        }\n",
       "    </style>\n",
       "<div class=\"wandb-row\"><div class=\"wandb-col\"><h3>Run history:</h3><br/><table class=\"wandb\"><tr><td>accuracy</td><td>▁</td></tr><tr><td>f1-score</td><td>▁</td></tr></table><br/></div><div class=\"wandb-col\"><h3>Run summary:</h3><br/><table class=\"wandb\"><tr><td>accuracy</td><td>0.96683</td></tr><tr><td>f1-score</td><td>0.70695</td></tr></table><br/></div></div>"
      ],
      "text/plain": [
       "<IPython.core.display.HTML object>"
      ]
     },
     "metadata": {},
     "output_type": "display_data"
    },
    {
     "data": {
      "text/html": [
       " View run <strong style=\"color:#cdcd00\">ancient-sweep-38</strong> at: <a href='https://wandb.ai/MasterarbeitBV/XGBoost_Hyperparameter_Tuning/runs/wir8mslh' target=\"_blank\">https://wandb.ai/MasterarbeitBV/XGBoost_Hyperparameter_Tuning/runs/wir8mslh</a><br/> View project at: <a href='https://wandb.ai/MasterarbeitBV/XGBoost_Hyperparameter_Tuning' target=\"_blank\">https://wandb.ai/MasterarbeitBV/XGBoost_Hyperparameter_Tuning</a><br/>Synced 5 W&B file(s), 0 media file(s), 0 artifact file(s) and 0 other file(s)"
      ],
      "text/plain": [
       "<IPython.core.display.HTML object>"
      ]
     },
     "metadata": {},
     "output_type": "display_data"
    },
    {
     "data": {
      "text/html": [
       "Find logs at: <code>.\\wandb\\run-20241201_141254-wir8mslh\\logs</code>"
      ],
      "text/plain": [
       "<IPython.core.display.HTML object>"
      ]
     },
     "metadata": {},
     "output_type": "display_data"
    },
    {
     "name": "stderr",
     "output_type": "stream",
     "text": [
      "\u001b[34m\u001b[1mwandb\u001b[0m: Agent Starting Run: ou6bj3kw with config:\n",
      "\u001b[34m\u001b[1mwandb\u001b[0m: \tBalancing: True\n",
      "\u001b[34m\u001b[1mwandb\u001b[0m: \tfeatures: ['x', 'y']\n",
      "\u001b[34m\u001b[1mwandb\u001b[0m: \tn_features_per_kernel: 4\n",
      "\u001b[34m\u001b[1mwandb\u001b[0m: \tnum_kernels: 2000\n",
      "\u001b[34m\u001b[1mwandb\u001b[0m: \trocket_transform: rocket\n",
      "\u001b[34m\u001b[1mwandb\u001b[0m: \tscaling: False\n",
      "\u001b[34m\u001b[1mwandb\u001b[0m: \twindow_size: 11\n"
     ]
    },
    {
     "data": {
      "text/html": [
       "Tracking run with wandb version 0.18.6"
      ],
      "text/plain": [
       "<IPython.core.display.HTML object>"
      ]
     },
     "metadata": {},
     "output_type": "display_data"
    },
    {
     "data": {
      "text/html": [
       "Run data is saved locally in <code>c:\\Users\\benev\\Documents\\Uni_Master\\Masterarbeit\\CODE\\8_tennis_analytics\\wandb\\run-20241201_141405-ou6bj3kw</code>"
      ],
      "text/plain": [
       "<IPython.core.display.HTML object>"
      ]
     },
     "metadata": {},
     "output_type": "display_data"
    },
    {
     "data": {
      "text/html": [
       "Syncing run <strong><a href='https://wandb.ai/MasterarbeitBV/XGBoost_Hyperparameter_Tuning/runs/ou6bj3kw' target=\"_blank\">glamorous-sweep-39</a></strong> to <a href='https://wandb.ai/MasterarbeitBV/XGBoost_Hyperparameter_Tuning' target=\"_blank\">Weights & Biases</a> (<a href='https://wandb.me/developer-guide' target=\"_blank\">docs</a>)<br/>Sweep page: <a href='https://wandb.ai/MasterarbeitBV/XGBoost_Hyperparameter_Tuning/sweeps/oros33fx' target=\"_blank\">https://wandb.ai/MasterarbeitBV/XGBoost_Hyperparameter_Tuning/sweeps/oros33fx</a>"
      ],
      "text/plain": [
       "<IPython.core.display.HTML object>"
      ]
     },
     "metadata": {},
     "output_type": "display_data"
    },
    {
     "data": {
      "text/html": [
       " View project at <a href='https://wandb.ai/MasterarbeitBV/XGBoost_Hyperparameter_Tuning' target=\"_blank\">https://wandb.ai/MasterarbeitBV/XGBoost_Hyperparameter_Tuning</a>"
      ],
      "text/plain": [
       "<IPython.core.display.HTML object>"
      ]
     },
     "metadata": {},
     "output_type": "display_data"
    },
    {
     "data": {
      "text/html": [
       " View sweep at <a href='https://wandb.ai/MasterarbeitBV/XGBoost_Hyperparameter_Tuning/sweeps/oros33fx' target=\"_blank\">https://wandb.ai/MasterarbeitBV/XGBoost_Hyperparameter_Tuning/sweeps/oros33fx</a>"
      ],
      "text/plain": [
       "<IPython.core.display.HTML object>"
      ]
     },
     "metadata": {},
     "output_type": "display_data"
    },
    {
     "data": {
      "text/html": [
       " View run at <a href='https://wandb.ai/MasterarbeitBV/XGBoost_Hyperparameter_Tuning/runs/ou6bj3kw' target=\"_blank\">https://wandb.ai/MasterarbeitBV/XGBoost_Hyperparameter_Tuning/runs/ou6bj3kw</a>"
      ],
      "text/plain": [
       "<IPython.core.display.HTML object>"
      ]
     },
     "metadata": {},
     "output_type": "display_data"
    },
    {
     "data": {
      "text/html": [
       "\n",
       "    <style>\n",
       "        .wandb-row {\n",
       "            display: flex;\n",
       "            flex-direction: row;\n",
       "            flex-wrap: wrap;\n",
       "            justify-content: flex-start;\n",
       "            width: 100%;\n",
       "        }\n",
       "        .wandb-col {\n",
       "            display: flex;\n",
       "            flex-direction: column;\n",
       "            flex-basis: 100%;\n",
       "            flex: 1;\n",
       "            padding: 10px;\n",
       "        }\n",
       "    </style>\n",
       "<div class=\"wandb-row\"><div class=\"wandb-col\"><h3>Run history:</h3><br/><table class=\"wandb\"><tr><td>accuracy</td><td>▁</td></tr><tr><td>f1-score</td><td>▁</td></tr></table><br/></div><div class=\"wandb-col\"><h3>Run summary:</h3><br/><table class=\"wandb\"><tr><td>accuracy</td><td>0.93777</td></tr><tr><td>f1-score</td><td>0.70348</td></tr></table><br/></div></div>"
      ],
      "text/plain": [
       "<IPython.core.display.HTML object>"
      ]
     },
     "metadata": {},
     "output_type": "display_data"
    },
    {
     "data": {
      "text/html": [
       " View run <strong style=\"color:#cdcd00\">glamorous-sweep-39</strong> at: <a href='https://wandb.ai/MasterarbeitBV/XGBoost_Hyperparameter_Tuning/runs/ou6bj3kw' target=\"_blank\">https://wandb.ai/MasterarbeitBV/XGBoost_Hyperparameter_Tuning/runs/ou6bj3kw</a><br/> View project at: <a href='https://wandb.ai/MasterarbeitBV/XGBoost_Hyperparameter_Tuning' target=\"_blank\">https://wandb.ai/MasterarbeitBV/XGBoost_Hyperparameter_Tuning</a><br/>Synced 5 W&B file(s), 0 media file(s), 0 artifact file(s) and 0 other file(s)"
      ],
      "text/plain": [
       "<IPython.core.display.HTML object>"
      ]
     },
     "metadata": {},
     "output_type": "display_data"
    },
    {
     "data": {
      "text/html": [
       "Find logs at: <code>.\\wandb\\run-20241201_141405-ou6bj3kw\\logs</code>"
      ],
      "text/plain": [
       "<IPython.core.display.HTML object>"
      ]
     },
     "metadata": {},
     "output_type": "display_data"
    },
    {
     "name": "stderr",
     "output_type": "stream",
     "text": [
      "\u001b[34m\u001b[1mwandb\u001b[0m: Agent Starting Run: c4a403ck with config:\n",
      "\u001b[34m\u001b[1mwandb\u001b[0m: \tBalancing: False\n",
      "\u001b[34m\u001b[1mwandb\u001b[0m: \tfeatures: ['x', 'y', 'velocity']\n",
      "\u001b[34m\u001b[1mwandb\u001b[0m: \tn_features_per_kernel: 4\n",
      "\u001b[34m\u001b[1mwandb\u001b[0m: \tnum_kernels: 2000\n",
      "\u001b[34m\u001b[1mwandb\u001b[0m: \trocket_transform: rocket\n",
      "\u001b[34m\u001b[1mwandb\u001b[0m: \tscaling: True\n",
      "\u001b[34m\u001b[1mwandb\u001b[0m: \twindow_size: 11\n"
     ]
    },
    {
     "data": {
      "text/html": [
       "Tracking run with wandb version 0.18.6"
      ],
      "text/plain": [
       "<IPython.core.display.HTML object>"
      ]
     },
     "metadata": {},
     "output_type": "display_data"
    },
    {
     "data": {
      "text/html": [
       "Run data is saved locally in <code>c:\\Users\\benev\\Documents\\Uni_Master\\Masterarbeit\\CODE\\8_tennis_analytics\\wandb\\run-20241201_141613-c4a403ck</code>"
      ],
      "text/plain": [
       "<IPython.core.display.HTML object>"
      ]
     },
     "metadata": {},
     "output_type": "display_data"
    },
    {
     "data": {
      "text/html": [
       "Syncing run <strong><a href='https://wandb.ai/MasterarbeitBV/XGBoost_Hyperparameter_Tuning/runs/c4a403ck' target=\"_blank\">sweepy-sweep-40</a></strong> to <a href='https://wandb.ai/MasterarbeitBV/XGBoost_Hyperparameter_Tuning' target=\"_blank\">Weights & Biases</a> (<a href='https://wandb.me/developer-guide' target=\"_blank\">docs</a>)<br/>Sweep page: <a href='https://wandb.ai/MasterarbeitBV/XGBoost_Hyperparameter_Tuning/sweeps/oros33fx' target=\"_blank\">https://wandb.ai/MasterarbeitBV/XGBoost_Hyperparameter_Tuning/sweeps/oros33fx</a>"
      ],
      "text/plain": [
       "<IPython.core.display.HTML object>"
      ]
     },
     "metadata": {},
     "output_type": "display_data"
    },
    {
     "data": {
      "text/html": [
       " View project at <a href='https://wandb.ai/MasterarbeitBV/XGBoost_Hyperparameter_Tuning' target=\"_blank\">https://wandb.ai/MasterarbeitBV/XGBoost_Hyperparameter_Tuning</a>"
      ],
      "text/plain": [
       "<IPython.core.display.HTML object>"
      ]
     },
     "metadata": {},
     "output_type": "display_data"
    },
    {
     "data": {
      "text/html": [
       " View sweep at <a href='https://wandb.ai/MasterarbeitBV/XGBoost_Hyperparameter_Tuning/sweeps/oros33fx' target=\"_blank\">https://wandb.ai/MasterarbeitBV/XGBoost_Hyperparameter_Tuning/sweeps/oros33fx</a>"
      ],
      "text/plain": [
       "<IPython.core.display.HTML object>"
      ]
     },
     "metadata": {},
     "output_type": "display_data"
    },
    {
     "data": {
      "text/html": [
       " View run at <a href='https://wandb.ai/MasterarbeitBV/XGBoost_Hyperparameter_Tuning/runs/c4a403ck' target=\"_blank\">https://wandb.ai/MasterarbeitBV/XGBoost_Hyperparameter_Tuning/runs/c4a403ck</a>"
      ],
      "text/plain": [
       "<IPython.core.display.HTML object>"
      ]
     },
     "metadata": {},
     "output_type": "display_data"
    },
    {
     "data": {
      "text/html": [
       "\n",
       "    <style>\n",
       "        .wandb-row {\n",
       "            display: flex;\n",
       "            flex-direction: row;\n",
       "            flex-wrap: wrap;\n",
       "            justify-content: flex-start;\n",
       "            width: 100%;\n",
       "        }\n",
       "        .wandb-col {\n",
       "            display: flex;\n",
       "            flex-direction: column;\n",
       "            flex-basis: 100%;\n",
       "            flex: 1;\n",
       "            padding: 10px;\n",
       "        }\n",
       "    </style>\n",
       "<div class=\"wandb-row\"><div class=\"wandb-col\"><h3>Run history:</h3><br/><table class=\"wandb\"><tr><td>accuracy</td><td>▁</td></tr><tr><td>f1-score</td><td>▁</td></tr></table><br/></div><div class=\"wandb-col\"><h3>Run summary:</h3><br/><table class=\"wandb\"><tr><td>accuracy</td><td>0.9682</td></tr><tr><td>f1-score</td><td>0.72626</td></tr></table><br/></div></div>"
      ],
      "text/plain": [
       "<IPython.core.display.HTML object>"
      ]
     },
     "metadata": {},
     "output_type": "display_data"
    },
    {
     "data": {
      "text/html": [
       " View run <strong style=\"color:#cdcd00\">sweepy-sweep-40</strong> at: <a href='https://wandb.ai/MasterarbeitBV/XGBoost_Hyperparameter_Tuning/runs/c4a403ck' target=\"_blank\">https://wandb.ai/MasterarbeitBV/XGBoost_Hyperparameter_Tuning/runs/c4a403ck</a><br/> View project at: <a href='https://wandb.ai/MasterarbeitBV/XGBoost_Hyperparameter_Tuning' target=\"_blank\">https://wandb.ai/MasterarbeitBV/XGBoost_Hyperparameter_Tuning</a><br/>Synced 5 W&B file(s), 0 media file(s), 0 artifact file(s) and 0 other file(s)"
      ],
      "text/plain": [
       "<IPython.core.display.HTML object>"
      ]
     },
     "metadata": {},
     "output_type": "display_data"
    },
    {
     "data": {
      "text/html": [
       "Find logs at: <code>.\\wandb\\run-20241201_141613-c4a403ck\\logs</code>"
      ],
      "text/plain": [
       "<IPython.core.display.HTML object>"
      ]
     },
     "metadata": {},
     "output_type": "display_data"
    },
    {
     "name": "stderr",
     "output_type": "stream",
     "text": [
      "\u001b[34m\u001b[1mwandb\u001b[0m: Agent Starting Run: irqfkbcl with config:\n",
      "\u001b[34m\u001b[1mwandb\u001b[0m: \tBalancing: False\n",
      "\u001b[34m\u001b[1mwandb\u001b[0m: \tfeatures: ['x', 'y', 'velocity']\n",
      "\u001b[34m\u001b[1mwandb\u001b[0m: \tn_features_per_kernel: 4\n",
      "\u001b[34m\u001b[1mwandb\u001b[0m: \tnum_kernels: 2000\n",
      "\u001b[34m\u001b[1mwandb\u001b[0m: \trocket_transform: rocket\n",
      "\u001b[34m\u001b[1mwandb\u001b[0m: \tscaling: False\n",
      "\u001b[34m\u001b[1mwandb\u001b[0m: \twindow_size: 11\n"
     ]
    },
    {
     "data": {
      "text/html": [
       "Tracking run with wandb version 0.18.6"
      ],
      "text/plain": [
       "<IPython.core.display.HTML object>"
      ]
     },
     "metadata": {},
     "output_type": "display_data"
    },
    {
     "data": {
      "text/html": [
       "Run data is saved locally in <code>c:\\Users\\benev\\Documents\\Uni_Master\\Masterarbeit\\CODE\\8_tennis_analytics\\wandb\\run-20241201_141725-irqfkbcl</code>"
      ],
      "text/plain": [
       "<IPython.core.display.HTML object>"
      ]
     },
     "metadata": {},
     "output_type": "display_data"
    },
    {
     "data": {
      "text/html": [
       "Syncing run <strong><a href='https://wandb.ai/MasterarbeitBV/XGBoost_Hyperparameter_Tuning/runs/irqfkbcl' target=\"_blank\">still-sweep-41</a></strong> to <a href='https://wandb.ai/MasterarbeitBV/XGBoost_Hyperparameter_Tuning' target=\"_blank\">Weights & Biases</a> (<a href='https://wandb.me/developer-guide' target=\"_blank\">docs</a>)<br/>Sweep page: <a href='https://wandb.ai/MasterarbeitBV/XGBoost_Hyperparameter_Tuning/sweeps/oros33fx' target=\"_blank\">https://wandb.ai/MasterarbeitBV/XGBoost_Hyperparameter_Tuning/sweeps/oros33fx</a>"
      ],
      "text/plain": [
       "<IPython.core.display.HTML object>"
      ]
     },
     "metadata": {},
     "output_type": "display_data"
    },
    {
     "data": {
      "text/html": [
       " View project at <a href='https://wandb.ai/MasterarbeitBV/XGBoost_Hyperparameter_Tuning' target=\"_blank\">https://wandb.ai/MasterarbeitBV/XGBoost_Hyperparameter_Tuning</a>"
      ],
      "text/plain": [
       "<IPython.core.display.HTML object>"
      ]
     },
     "metadata": {},
     "output_type": "display_data"
    },
    {
     "data": {
      "text/html": [
       " View sweep at <a href='https://wandb.ai/MasterarbeitBV/XGBoost_Hyperparameter_Tuning/sweeps/oros33fx' target=\"_blank\">https://wandb.ai/MasterarbeitBV/XGBoost_Hyperparameter_Tuning/sweeps/oros33fx</a>"
      ],
      "text/plain": [
       "<IPython.core.display.HTML object>"
      ]
     },
     "metadata": {},
     "output_type": "display_data"
    },
    {
     "data": {
      "text/html": [
       " View run at <a href='https://wandb.ai/MasterarbeitBV/XGBoost_Hyperparameter_Tuning/runs/irqfkbcl' target=\"_blank\">https://wandb.ai/MasterarbeitBV/XGBoost_Hyperparameter_Tuning/runs/irqfkbcl</a>"
      ],
      "text/plain": [
       "<IPython.core.display.HTML object>"
      ]
     },
     "metadata": {},
     "output_type": "display_data"
    },
    {
     "data": {
      "text/html": [
       "\n",
       "    <style>\n",
       "        .wandb-row {\n",
       "            display: flex;\n",
       "            flex-direction: row;\n",
       "            flex-wrap: wrap;\n",
       "            justify-content: flex-start;\n",
       "            width: 100%;\n",
       "        }\n",
       "        .wandb-col {\n",
       "            display: flex;\n",
       "            flex-direction: column;\n",
       "            flex-basis: 100%;\n",
       "            flex: 1;\n",
       "            padding: 10px;\n",
       "        }\n",
       "    </style>\n",
       "<div class=\"wandb-row\"><div class=\"wandb-col\"><h3>Run history:</h3><br/><table class=\"wandb\"><tr><td>accuracy</td><td>▁</td></tr><tr><td>f1-score</td><td>▁</td></tr></table><br/></div><div class=\"wandb-col\"><h3>Run summary:</h3><br/><table class=\"wandb\"><tr><td>accuracy</td><td>0.96711</td></tr><tr><td>f1-score</td><td>0.71808</td></tr></table><br/></div></div>"
      ],
      "text/plain": [
       "<IPython.core.display.HTML object>"
      ]
     },
     "metadata": {},
     "output_type": "display_data"
    },
    {
     "data": {
      "text/html": [
       " View run <strong style=\"color:#cdcd00\">still-sweep-41</strong> at: <a href='https://wandb.ai/MasterarbeitBV/XGBoost_Hyperparameter_Tuning/runs/irqfkbcl' target=\"_blank\">https://wandb.ai/MasterarbeitBV/XGBoost_Hyperparameter_Tuning/runs/irqfkbcl</a><br/> View project at: <a href='https://wandb.ai/MasterarbeitBV/XGBoost_Hyperparameter_Tuning' target=\"_blank\">https://wandb.ai/MasterarbeitBV/XGBoost_Hyperparameter_Tuning</a><br/>Synced 5 W&B file(s), 0 media file(s), 0 artifact file(s) and 0 other file(s)"
      ],
      "text/plain": [
       "<IPython.core.display.HTML object>"
      ]
     },
     "metadata": {},
     "output_type": "display_data"
    },
    {
     "data": {
      "text/html": [
       "Find logs at: <code>.\\wandb\\run-20241201_141725-irqfkbcl\\logs</code>"
      ],
      "text/plain": [
       "<IPython.core.display.HTML object>"
      ]
     },
     "metadata": {},
     "output_type": "display_data"
    },
    {
     "name": "stderr",
     "output_type": "stream",
     "text": [
      "\u001b[34m\u001b[1mwandb\u001b[0m: Agent Starting Run: odt4t1g8 with config:\n",
      "\u001b[34m\u001b[1mwandb\u001b[0m: \tBalancing: False\n",
      "\u001b[34m\u001b[1mwandb\u001b[0m: \tfeatures: ['x', 'y', 'velocity']\n",
      "\u001b[34m\u001b[1mwandb\u001b[0m: \tn_features_per_kernel: 4\n",
      "\u001b[34m\u001b[1mwandb\u001b[0m: \tnum_kernels: 2000\n",
      "\u001b[34m\u001b[1mwandb\u001b[0m: \trocket_transform: rocket\n",
      "\u001b[34m\u001b[1mwandb\u001b[0m: \tscaling: True\n",
      "\u001b[34m\u001b[1mwandb\u001b[0m: \twindow_size: 11\n"
     ]
    },
    {
     "data": {
      "text/html": [
       "Tracking run with wandb version 0.18.6"
      ],
      "text/plain": [
       "<IPython.core.display.HTML object>"
      ]
     },
     "metadata": {},
     "output_type": "display_data"
    },
    {
     "data": {
      "text/html": [
       "Run data is saved locally in <code>c:\\Users\\benev\\Documents\\Uni_Master\\Masterarbeit\\CODE\\8_tennis_analytics\\wandb\\run-20241201_141834-odt4t1g8</code>"
      ],
      "text/plain": [
       "<IPython.core.display.HTML object>"
      ]
     },
     "metadata": {},
     "output_type": "display_data"
    },
    {
     "data": {
      "text/html": [
       "Syncing run <strong><a href='https://wandb.ai/MasterarbeitBV/XGBoost_Hyperparameter_Tuning/runs/odt4t1g8' target=\"_blank\">robust-sweep-42</a></strong> to <a href='https://wandb.ai/MasterarbeitBV/XGBoost_Hyperparameter_Tuning' target=\"_blank\">Weights & Biases</a> (<a href='https://wandb.me/developer-guide' target=\"_blank\">docs</a>)<br/>Sweep page: <a href='https://wandb.ai/MasterarbeitBV/XGBoost_Hyperparameter_Tuning/sweeps/oros33fx' target=\"_blank\">https://wandb.ai/MasterarbeitBV/XGBoost_Hyperparameter_Tuning/sweeps/oros33fx</a>"
      ],
      "text/plain": [
       "<IPython.core.display.HTML object>"
      ]
     },
     "metadata": {},
     "output_type": "display_data"
    },
    {
     "data": {
      "text/html": [
       " View project at <a href='https://wandb.ai/MasterarbeitBV/XGBoost_Hyperparameter_Tuning' target=\"_blank\">https://wandb.ai/MasterarbeitBV/XGBoost_Hyperparameter_Tuning</a>"
      ],
      "text/plain": [
       "<IPython.core.display.HTML object>"
      ]
     },
     "metadata": {},
     "output_type": "display_data"
    },
    {
     "data": {
      "text/html": [
       " View sweep at <a href='https://wandb.ai/MasterarbeitBV/XGBoost_Hyperparameter_Tuning/sweeps/oros33fx' target=\"_blank\">https://wandb.ai/MasterarbeitBV/XGBoost_Hyperparameter_Tuning/sweeps/oros33fx</a>"
      ],
      "text/plain": [
       "<IPython.core.display.HTML object>"
      ]
     },
     "metadata": {},
     "output_type": "display_data"
    },
    {
     "data": {
      "text/html": [
       " View run at <a href='https://wandb.ai/MasterarbeitBV/XGBoost_Hyperparameter_Tuning/runs/odt4t1g8' target=\"_blank\">https://wandb.ai/MasterarbeitBV/XGBoost_Hyperparameter_Tuning/runs/odt4t1g8</a>"
      ],
      "text/plain": [
       "<IPython.core.display.HTML object>"
      ]
     },
     "metadata": {},
     "output_type": "display_data"
    },
    {
     "data": {
      "text/html": [
       "\n",
       "    <style>\n",
       "        .wandb-row {\n",
       "            display: flex;\n",
       "            flex-direction: row;\n",
       "            flex-wrap: wrap;\n",
       "            justify-content: flex-start;\n",
       "            width: 100%;\n",
       "        }\n",
       "        .wandb-col {\n",
       "            display: flex;\n",
       "            flex-direction: column;\n",
       "            flex-basis: 100%;\n",
       "            flex: 1;\n",
       "            padding: 10px;\n",
       "        }\n",
       "    </style>\n",
       "<div class=\"wandb-row\"><div class=\"wandb-col\"><h3>Run history:</h3><br/><table class=\"wandb\"><tr><td>accuracy</td><td>▁</td></tr><tr><td>f1-score</td><td>▁</td></tr></table><br/></div><div class=\"wandb-col\"><h3>Run summary:</h3><br/><table class=\"wandb\"><tr><td>accuracy</td><td>0.9682</td></tr><tr><td>f1-score</td><td>0.72626</td></tr></table><br/></div></div>"
      ],
      "text/plain": [
       "<IPython.core.display.HTML object>"
      ]
     },
     "metadata": {},
     "output_type": "display_data"
    },
    {
     "data": {
      "text/html": [
       " View run <strong style=\"color:#cdcd00\">robust-sweep-42</strong> at: <a href='https://wandb.ai/MasterarbeitBV/XGBoost_Hyperparameter_Tuning/runs/odt4t1g8' target=\"_blank\">https://wandb.ai/MasterarbeitBV/XGBoost_Hyperparameter_Tuning/runs/odt4t1g8</a><br/> View project at: <a href='https://wandb.ai/MasterarbeitBV/XGBoost_Hyperparameter_Tuning' target=\"_blank\">https://wandb.ai/MasterarbeitBV/XGBoost_Hyperparameter_Tuning</a><br/>Synced 5 W&B file(s), 0 media file(s), 0 artifact file(s) and 0 other file(s)"
      ],
      "text/plain": [
       "<IPython.core.display.HTML object>"
      ]
     },
     "metadata": {},
     "output_type": "display_data"
    },
    {
     "data": {
      "text/html": [
       "Find logs at: <code>.\\wandb\\run-20241201_141834-odt4t1g8\\logs</code>"
      ],
      "text/plain": [
       "<IPython.core.display.HTML object>"
      ]
     },
     "metadata": {},
     "output_type": "display_data"
    },
    {
     "name": "stderr",
     "output_type": "stream",
     "text": [
      "\u001b[34m\u001b[1mwandb\u001b[0m: Agent Starting Run: e9k1xz7u with config:\n",
      "\u001b[34m\u001b[1mwandb\u001b[0m: \tBalancing: True\n",
      "\u001b[34m\u001b[1mwandb\u001b[0m: \tfeatures: ['x', 'y']\n",
      "\u001b[34m\u001b[1mwandb\u001b[0m: \tn_features_per_kernel: 4\n",
      "\u001b[34m\u001b[1mwandb\u001b[0m: \tnum_kernels: 2000\n",
      "\u001b[34m\u001b[1mwandb\u001b[0m: \trocket_transform: rocket\n",
      "\u001b[34m\u001b[1mwandb\u001b[0m: \tscaling: True\n",
      "\u001b[34m\u001b[1mwandb\u001b[0m: \twindow_size: 11\n"
     ]
    },
    {
     "data": {
      "text/html": [
       "Tracking run with wandb version 0.18.6"
      ],
      "text/plain": [
       "<IPython.core.display.HTML object>"
      ]
     },
     "metadata": {},
     "output_type": "display_data"
    },
    {
     "data": {
      "text/html": [
       "Run data is saved locally in <code>c:\\Users\\benev\\Documents\\Uni_Master\\Masterarbeit\\CODE\\8_tennis_analytics\\wandb\\run-20241201_141943-e9k1xz7u</code>"
      ],
      "text/plain": [
       "<IPython.core.display.HTML object>"
      ]
     },
     "metadata": {},
     "output_type": "display_data"
    },
    {
     "data": {
      "text/html": [
       "Syncing run <strong><a href='https://wandb.ai/MasterarbeitBV/XGBoost_Hyperparameter_Tuning/runs/e9k1xz7u' target=\"_blank\">worldly-sweep-43</a></strong> to <a href='https://wandb.ai/MasterarbeitBV/XGBoost_Hyperparameter_Tuning' target=\"_blank\">Weights & Biases</a> (<a href='https://wandb.me/developer-guide' target=\"_blank\">docs</a>)<br/>Sweep page: <a href='https://wandb.ai/MasterarbeitBV/XGBoost_Hyperparameter_Tuning/sweeps/oros33fx' target=\"_blank\">https://wandb.ai/MasterarbeitBV/XGBoost_Hyperparameter_Tuning/sweeps/oros33fx</a>"
      ],
      "text/plain": [
       "<IPython.core.display.HTML object>"
      ]
     },
     "metadata": {},
     "output_type": "display_data"
    },
    {
     "data": {
      "text/html": [
       " View project at <a href='https://wandb.ai/MasterarbeitBV/XGBoost_Hyperparameter_Tuning' target=\"_blank\">https://wandb.ai/MasterarbeitBV/XGBoost_Hyperparameter_Tuning</a>"
      ],
      "text/plain": [
       "<IPython.core.display.HTML object>"
      ]
     },
     "metadata": {},
     "output_type": "display_data"
    },
    {
     "data": {
      "text/html": [
       " View sweep at <a href='https://wandb.ai/MasterarbeitBV/XGBoost_Hyperparameter_Tuning/sweeps/oros33fx' target=\"_blank\">https://wandb.ai/MasterarbeitBV/XGBoost_Hyperparameter_Tuning/sweeps/oros33fx</a>"
      ],
      "text/plain": [
       "<IPython.core.display.HTML object>"
      ]
     },
     "metadata": {},
     "output_type": "display_data"
    },
    {
     "data": {
      "text/html": [
       " View run at <a href='https://wandb.ai/MasterarbeitBV/XGBoost_Hyperparameter_Tuning/runs/e9k1xz7u' target=\"_blank\">https://wandb.ai/MasterarbeitBV/XGBoost_Hyperparameter_Tuning/runs/e9k1xz7u</a>"
      ],
      "text/plain": [
       "<IPython.core.display.HTML object>"
      ]
     },
     "metadata": {},
     "output_type": "display_data"
    },
    {
     "data": {
      "text/html": [
       "\n",
       "    <style>\n",
       "        .wandb-row {\n",
       "            display: flex;\n",
       "            flex-direction: row;\n",
       "            flex-wrap: wrap;\n",
       "            justify-content: flex-start;\n",
       "            width: 100%;\n",
       "        }\n",
       "        .wandb-col {\n",
       "            display: flex;\n",
       "            flex-direction: column;\n",
       "            flex-basis: 100%;\n",
       "            flex: 1;\n",
       "            padding: 10px;\n",
       "        }\n",
       "    </style>\n",
       "<div class=\"wandb-row\"><div class=\"wandb-col\"><h3>Run history:</h3><br/><table class=\"wandb\"><tr><td>accuracy</td><td>▁</td></tr><tr><td>f1-score</td><td>▁</td></tr></table><br/></div><div class=\"wandb-col\"><h3>Run summary:</h3><br/><table class=\"wandb\"><tr><td>accuracy</td><td>0.93914</td></tr><tr><td>f1-score</td><td>0.70994</td></tr></table><br/></div></div>"
      ],
      "text/plain": [
       "<IPython.core.display.HTML object>"
      ]
     },
     "metadata": {},
     "output_type": "display_data"
    },
    {
     "data": {
      "text/html": [
       " View run <strong style=\"color:#cdcd00\">worldly-sweep-43</strong> at: <a href='https://wandb.ai/MasterarbeitBV/XGBoost_Hyperparameter_Tuning/runs/e9k1xz7u' target=\"_blank\">https://wandb.ai/MasterarbeitBV/XGBoost_Hyperparameter_Tuning/runs/e9k1xz7u</a><br/> View project at: <a href='https://wandb.ai/MasterarbeitBV/XGBoost_Hyperparameter_Tuning' target=\"_blank\">https://wandb.ai/MasterarbeitBV/XGBoost_Hyperparameter_Tuning</a><br/>Synced 5 W&B file(s), 0 media file(s), 0 artifact file(s) and 0 other file(s)"
      ],
      "text/plain": [
       "<IPython.core.display.HTML object>"
      ]
     },
     "metadata": {},
     "output_type": "display_data"
    },
    {
     "data": {
      "text/html": [
       "Find logs at: <code>.\\wandb\\run-20241201_141943-e9k1xz7u\\logs</code>"
      ],
      "text/plain": [
       "<IPython.core.display.HTML object>"
      ]
     },
     "metadata": {},
     "output_type": "display_data"
    },
    {
     "name": "stderr",
     "output_type": "stream",
     "text": [
      "\u001b[34m\u001b[1mwandb\u001b[0m: Agent Starting Run: n6weouwa with config:\n",
      "\u001b[34m\u001b[1mwandb\u001b[0m: \tBalancing: True\n",
      "\u001b[34m\u001b[1mwandb\u001b[0m: \tfeatures: ['x', 'y']\n",
      "\u001b[34m\u001b[1mwandb\u001b[0m: \tn_features_per_kernel: 4\n",
      "\u001b[34m\u001b[1mwandb\u001b[0m: \tnum_kernels: 2000\n",
      "\u001b[34m\u001b[1mwandb\u001b[0m: \trocket_transform: rocket\n",
      "\u001b[34m\u001b[1mwandb\u001b[0m: \tscaling: False\n",
      "\u001b[34m\u001b[1mwandb\u001b[0m: \twindow_size: 11\n"
     ]
    },
    {
     "data": {
      "text/html": [
       "Tracking run with wandb version 0.18.6"
      ],
      "text/plain": [
       "<IPython.core.display.HTML object>"
      ]
     },
     "metadata": {},
     "output_type": "display_data"
    },
    {
     "data": {
      "text/html": [
       "Run data is saved locally in <code>c:\\Users\\benev\\Documents\\Uni_Master\\Masterarbeit\\CODE\\8_tennis_analytics\\wandb\\run-20241201_142147-n6weouwa</code>"
      ],
      "text/plain": [
       "<IPython.core.display.HTML object>"
      ]
     },
     "metadata": {},
     "output_type": "display_data"
    },
    {
     "data": {
      "text/html": [
       "Syncing run <strong><a href='https://wandb.ai/MasterarbeitBV/XGBoost_Hyperparameter_Tuning/runs/n6weouwa' target=\"_blank\">stellar-sweep-44</a></strong> to <a href='https://wandb.ai/MasterarbeitBV/XGBoost_Hyperparameter_Tuning' target=\"_blank\">Weights & Biases</a> (<a href='https://wandb.me/developer-guide' target=\"_blank\">docs</a>)<br/>Sweep page: <a href='https://wandb.ai/MasterarbeitBV/XGBoost_Hyperparameter_Tuning/sweeps/oros33fx' target=\"_blank\">https://wandb.ai/MasterarbeitBV/XGBoost_Hyperparameter_Tuning/sweeps/oros33fx</a>"
      ],
      "text/plain": [
       "<IPython.core.display.HTML object>"
      ]
     },
     "metadata": {},
     "output_type": "display_data"
    },
    {
     "data": {
      "text/html": [
       " View project at <a href='https://wandb.ai/MasterarbeitBV/XGBoost_Hyperparameter_Tuning' target=\"_blank\">https://wandb.ai/MasterarbeitBV/XGBoost_Hyperparameter_Tuning</a>"
      ],
      "text/plain": [
       "<IPython.core.display.HTML object>"
      ]
     },
     "metadata": {},
     "output_type": "display_data"
    },
    {
     "data": {
      "text/html": [
       " View sweep at <a href='https://wandb.ai/MasterarbeitBV/XGBoost_Hyperparameter_Tuning/sweeps/oros33fx' target=\"_blank\">https://wandb.ai/MasterarbeitBV/XGBoost_Hyperparameter_Tuning/sweeps/oros33fx</a>"
      ],
      "text/plain": [
       "<IPython.core.display.HTML object>"
      ]
     },
     "metadata": {},
     "output_type": "display_data"
    },
    {
     "data": {
      "text/html": [
       " View run at <a href='https://wandb.ai/MasterarbeitBV/XGBoost_Hyperparameter_Tuning/runs/n6weouwa' target=\"_blank\">https://wandb.ai/MasterarbeitBV/XGBoost_Hyperparameter_Tuning/runs/n6weouwa</a>"
      ],
      "text/plain": [
       "<IPython.core.display.HTML object>"
      ]
     },
     "metadata": {},
     "output_type": "display_data"
    },
    {
     "data": {
      "text/html": [
       "\n",
       "    <style>\n",
       "        .wandb-row {\n",
       "            display: flex;\n",
       "            flex-direction: row;\n",
       "            flex-wrap: wrap;\n",
       "            justify-content: flex-start;\n",
       "            width: 100%;\n",
       "        }\n",
       "        .wandb-col {\n",
       "            display: flex;\n",
       "            flex-direction: column;\n",
       "            flex-basis: 100%;\n",
       "            flex: 1;\n",
       "            padding: 10px;\n",
       "        }\n",
       "    </style>\n",
       "<div class=\"wandb-row\"><div class=\"wandb-col\"><h3>Run history:</h3><br/><table class=\"wandb\"><tr><td>accuracy</td><td>▁</td></tr><tr><td>f1-score</td><td>▁</td></tr></table><br/></div><div class=\"wandb-col\"><h3>Run summary:</h3><br/><table class=\"wandb\"><tr><td>accuracy</td><td>0.93777</td></tr><tr><td>f1-score</td><td>0.70348</td></tr></table><br/></div></div>"
      ],
      "text/plain": [
       "<IPython.core.display.HTML object>"
      ]
     },
     "metadata": {},
     "output_type": "display_data"
    },
    {
     "data": {
      "text/html": [
       " View run <strong style=\"color:#cdcd00\">stellar-sweep-44</strong> at: <a href='https://wandb.ai/MasterarbeitBV/XGBoost_Hyperparameter_Tuning/runs/n6weouwa' target=\"_blank\">https://wandb.ai/MasterarbeitBV/XGBoost_Hyperparameter_Tuning/runs/n6weouwa</a><br/> View project at: <a href='https://wandb.ai/MasterarbeitBV/XGBoost_Hyperparameter_Tuning' target=\"_blank\">https://wandb.ai/MasterarbeitBV/XGBoost_Hyperparameter_Tuning</a><br/>Synced 5 W&B file(s), 0 media file(s), 0 artifact file(s) and 0 other file(s)"
      ],
      "text/plain": [
       "<IPython.core.display.HTML object>"
      ]
     },
     "metadata": {},
     "output_type": "display_data"
    },
    {
     "data": {
      "text/html": [
       "Find logs at: <code>.\\wandb\\run-20241201_142147-n6weouwa\\logs</code>"
      ],
      "text/plain": [
       "<IPython.core.display.HTML object>"
      ]
     },
     "metadata": {},
     "output_type": "display_data"
    },
    {
     "name": "stderr",
     "output_type": "stream",
     "text": [
      "\u001b[34m\u001b[1mwandb\u001b[0m: Agent Starting Run: pmbicquq with config:\n",
      "\u001b[34m\u001b[1mwandb\u001b[0m: \tBalancing: False\n",
      "\u001b[34m\u001b[1mwandb\u001b[0m: \tfeatures: ['x', 'y', 'velocity']\n",
      "\u001b[34m\u001b[1mwandb\u001b[0m: \tn_features_per_kernel: 4\n",
      "\u001b[34m\u001b[1mwandb\u001b[0m: \tnum_kernels: 2000\n",
      "\u001b[34m\u001b[1mwandb\u001b[0m: \trocket_transform: rocket\n",
      "\u001b[34m\u001b[1mwandb\u001b[0m: \tscaling: False\n",
      "\u001b[34m\u001b[1mwandb\u001b[0m: \twindow_size: 11\n"
     ]
    },
    {
     "data": {
      "text/html": [
       "Tracking run with wandb version 0.18.6"
      ],
      "text/plain": [
       "<IPython.core.display.HTML object>"
      ]
     },
     "metadata": {},
     "output_type": "display_data"
    },
    {
     "data": {
      "text/html": [
       "Run data is saved locally in <code>c:\\Users\\benev\\Documents\\Uni_Master\\Masterarbeit\\CODE\\8_tennis_analytics\\wandb\\run-20241201_142354-pmbicquq</code>"
      ],
      "text/plain": [
       "<IPython.core.display.HTML object>"
      ]
     },
     "metadata": {},
     "output_type": "display_data"
    },
    {
     "data": {
      "text/html": [
       "Syncing run <strong><a href='https://wandb.ai/MasterarbeitBV/XGBoost_Hyperparameter_Tuning/runs/pmbicquq' target=\"_blank\">fallen-sweep-45</a></strong> to <a href='https://wandb.ai/MasterarbeitBV/XGBoost_Hyperparameter_Tuning' target=\"_blank\">Weights & Biases</a> (<a href='https://wandb.me/developer-guide' target=\"_blank\">docs</a>)<br/>Sweep page: <a href='https://wandb.ai/MasterarbeitBV/XGBoost_Hyperparameter_Tuning/sweeps/oros33fx' target=\"_blank\">https://wandb.ai/MasterarbeitBV/XGBoost_Hyperparameter_Tuning/sweeps/oros33fx</a>"
      ],
      "text/plain": [
       "<IPython.core.display.HTML object>"
      ]
     },
     "metadata": {},
     "output_type": "display_data"
    },
    {
     "data": {
      "text/html": [
       " View project at <a href='https://wandb.ai/MasterarbeitBV/XGBoost_Hyperparameter_Tuning' target=\"_blank\">https://wandb.ai/MasterarbeitBV/XGBoost_Hyperparameter_Tuning</a>"
      ],
      "text/plain": [
       "<IPython.core.display.HTML object>"
      ]
     },
     "metadata": {},
     "output_type": "display_data"
    },
    {
     "data": {
      "text/html": [
       " View sweep at <a href='https://wandb.ai/MasterarbeitBV/XGBoost_Hyperparameter_Tuning/sweeps/oros33fx' target=\"_blank\">https://wandb.ai/MasterarbeitBV/XGBoost_Hyperparameter_Tuning/sweeps/oros33fx</a>"
      ],
      "text/plain": [
       "<IPython.core.display.HTML object>"
      ]
     },
     "metadata": {},
     "output_type": "display_data"
    },
    {
     "data": {
      "text/html": [
       " View run at <a href='https://wandb.ai/MasterarbeitBV/XGBoost_Hyperparameter_Tuning/runs/pmbicquq' target=\"_blank\">https://wandb.ai/MasterarbeitBV/XGBoost_Hyperparameter_Tuning/runs/pmbicquq</a>"
      ],
      "text/plain": [
       "<IPython.core.display.HTML object>"
      ]
     },
     "metadata": {},
     "output_type": "display_data"
    },
    {
     "data": {
      "text/html": [
       "\n",
       "    <style>\n",
       "        .wandb-row {\n",
       "            display: flex;\n",
       "            flex-direction: row;\n",
       "            flex-wrap: wrap;\n",
       "            justify-content: flex-start;\n",
       "            width: 100%;\n",
       "        }\n",
       "        .wandb-col {\n",
       "            display: flex;\n",
       "            flex-direction: column;\n",
       "            flex-basis: 100%;\n",
       "            flex: 1;\n",
       "            padding: 10px;\n",
       "        }\n",
       "    </style>\n",
       "<div class=\"wandb-row\"><div class=\"wandb-col\"><h3>Run history:</h3><br/><table class=\"wandb\"><tr><td>accuracy</td><td>▁</td></tr><tr><td>f1-score</td><td>▁</td></tr></table><br/></div><div class=\"wandb-col\"><h3>Run summary:</h3><br/><table class=\"wandb\"><tr><td>accuracy</td><td>0.96711</td></tr><tr><td>f1-score</td><td>0.71808</td></tr></table><br/></div></div>"
      ],
      "text/plain": [
       "<IPython.core.display.HTML object>"
      ]
     },
     "metadata": {},
     "output_type": "display_data"
    },
    {
     "data": {
      "text/html": [
       " View run <strong style=\"color:#cdcd00\">fallen-sweep-45</strong> at: <a href='https://wandb.ai/MasterarbeitBV/XGBoost_Hyperparameter_Tuning/runs/pmbicquq' target=\"_blank\">https://wandb.ai/MasterarbeitBV/XGBoost_Hyperparameter_Tuning/runs/pmbicquq</a><br/> View project at: <a href='https://wandb.ai/MasterarbeitBV/XGBoost_Hyperparameter_Tuning' target=\"_blank\">https://wandb.ai/MasterarbeitBV/XGBoost_Hyperparameter_Tuning</a><br/>Synced 5 W&B file(s), 0 media file(s), 0 artifact file(s) and 0 other file(s)"
      ],
      "text/plain": [
       "<IPython.core.display.HTML object>"
      ]
     },
     "metadata": {},
     "output_type": "display_data"
    },
    {
     "data": {
      "text/html": [
       "Find logs at: <code>.\\wandb\\run-20241201_142354-pmbicquq\\logs</code>"
      ],
      "text/plain": [
       "<IPython.core.display.HTML object>"
      ]
     },
     "metadata": {},
     "output_type": "display_data"
    },
    {
     "name": "stderr",
     "output_type": "stream",
     "text": [
      "\u001b[34m\u001b[1mwandb\u001b[0m: Agent Starting Run: awc1vr87 with config:\n",
      "\u001b[34m\u001b[1mwandb\u001b[0m: \tBalancing: False\n",
      "\u001b[34m\u001b[1mwandb\u001b[0m: \tfeatures: ['x', 'y', 'velocity']\n",
      "\u001b[34m\u001b[1mwandb\u001b[0m: \tn_features_per_kernel: 4\n",
      "\u001b[34m\u001b[1mwandb\u001b[0m: \tnum_kernels: 2000\n",
      "\u001b[34m\u001b[1mwandb\u001b[0m: \trocket_transform: rocket\n",
      "\u001b[34m\u001b[1mwandb\u001b[0m: \tscaling: True\n",
      "\u001b[34m\u001b[1mwandb\u001b[0m: \twindow_size: 11\n"
     ]
    },
    {
     "data": {
      "text/html": [
       "Tracking run with wandb version 0.18.6"
      ],
      "text/plain": [
       "<IPython.core.display.HTML object>"
      ]
     },
     "metadata": {},
     "output_type": "display_data"
    },
    {
     "data": {
      "text/html": [
       "Run data is saved locally in <code>c:\\Users\\benev\\Documents\\Uni_Master\\Masterarbeit\\CODE\\8_tennis_analytics\\wandb\\run-20241201_142504-awc1vr87</code>"
      ],
      "text/plain": [
       "<IPython.core.display.HTML object>"
      ]
     },
     "metadata": {},
     "output_type": "display_data"
    },
    {
     "data": {
      "text/html": [
       "Syncing run <strong><a href='https://wandb.ai/MasterarbeitBV/XGBoost_Hyperparameter_Tuning/runs/awc1vr87' target=\"_blank\">dazzling-sweep-46</a></strong> to <a href='https://wandb.ai/MasterarbeitBV/XGBoost_Hyperparameter_Tuning' target=\"_blank\">Weights & Biases</a> (<a href='https://wandb.me/developer-guide' target=\"_blank\">docs</a>)<br/>Sweep page: <a href='https://wandb.ai/MasterarbeitBV/XGBoost_Hyperparameter_Tuning/sweeps/oros33fx' target=\"_blank\">https://wandb.ai/MasterarbeitBV/XGBoost_Hyperparameter_Tuning/sweeps/oros33fx</a>"
      ],
      "text/plain": [
       "<IPython.core.display.HTML object>"
      ]
     },
     "metadata": {},
     "output_type": "display_data"
    },
    {
     "data": {
      "text/html": [
       " View project at <a href='https://wandb.ai/MasterarbeitBV/XGBoost_Hyperparameter_Tuning' target=\"_blank\">https://wandb.ai/MasterarbeitBV/XGBoost_Hyperparameter_Tuning</a>"
      ],
      "text/plain": [
       "<IPython.core.display.HTML object>"
      ]
     },
     "metadata": {},
     "output_type": "display_data"
    },
    {
     "data": {
      "text/html": [
       " View sweep at <a href='https://wandb.ai/MasterarbeitBV/XGBoost_Hyperparameter_Tuning/sweeps/oros33fx' target=\"_blank\">https://wandb.ai/MasterarbeitBV/XGBoost_Hyperparameter_Tuning/sweeps/oros33fx</a>"
      ],
      "text/plain": [
       "<IPython.core.display.HTML object>"
      ]
     },
     "metadata": {},
     "output_type": "display_data"
    },
    {
     "data": {
      "text/html": [
       " View run at <a href='https://wandb.ai/MasterarbeitBV/XGBoost_Hyperparameter_Tuning/runs/awc1vr87' target=\"_blank\">https://wandb.ai/MasterarbeitBV/XGBoost_Hyperparameter_Tuning/runs/awc1vr87</a>"
      ],
      "text/plain": [
       "<IPython.core.display.HTML object>"
      ]
     },
     "metadata": {},
     "output_type": "display_data"
    },
    {
     "data": {
      "text/html": [
       "\n",
       "    <style>\n",
       "        .wandb-row {\n",
       "            display: flex;\n",
       "            flex-direction: row;\n",
       "            flex-wrap: wrap;\n",
       "            justify-content: flex-start;\n",
       "            width: 100%;\n",
       "        }\n",
       "        .wandb-col {\n",
       "            display: flex;\n",
       "            flex-direction: column;\n",
       "            flex-basis: 100%;\n",
       "            flex: 1;\n",
       "            padding: 10px;\n",
       "        }\n",
       "    </style>\n",
       "<div class=\"wandb-row\"><div class=\"wandb-col\"><h3>Run history:</h3><br/><table class=\"wandb\"><tr><td>accuracy</td><td>▁</td></tr><tr><td>f1-score</td><td>▁</td></tr></table><br/></div><div class=\"wandb-col\"><h3>Run summary:</h3><br/><table class=\"wandb\"><tr><td>accuracy</td><td>0.9682</td></tr><tr><td>f1-score</td><td>0.72626</td></tr></table><br/></div></div>"
      ],
      "text/plain": [
       "<IPython.core.display.HTML object>"
      ]
     },
     "metadata": {},
     "output_type": "display_data"
    },
    {
     "data": {
      "text/html": [
       " View run <strong style=\"color:#cdcd00\">dazzling-sweep-46</strong> at: <a href='https://wandb.ai/MasterarbeitBV/XGBoost_Hyperparameter_Tuning/runs/awc1vr87' target=\"_blank\">https://wandb.ai/MasterarbeitBV/XGBoost_Hyperparameter_Tuning/runs/awc1vr87</a><br/> View project at: <a href='https://wandb.ai/MasterarbeitBV/XGBoost_Hyperparameter_Tuning' target=\"_blank\">https://wandb.ai/MasterarbeitBV/XGBoost_Hyperparameter_Tuning</a><br/>Synced 5 W&B file(s), 0 media file(s), 0 artifact file(s) and 0 other file(s)"
      ],
      "text/plain": [
       "<IPython.core.display.HTML object>"
      ]
     },
     "metadata": {},
     "output_type": "display_data"
    },
    {
     "data": {
      "text/html": [
       "Find logs at: <code>.\\wandb\\run-20241201_142504-awc1vr87\\logs</code>"
      ],
      "text/plain": [
       "<IPython.core.display.HTML object>"
      ]
     },
     "metadata": {},
     "output_type": "display_data"
    },
    {
     "name": "stderr",
     "output_type": "stream",
     "text": [
      "\u001b[34m\u001b[1mwandb\u001b[0m: Agent Starting Run: qwurzhe3 with config:\n",
      "\u001b[34m\u001b[1mwandb\u001b[0m: \tBalancing: True\n",
      "\u001b[34m\u001b[1mwandb\u001b[0m: \tfeatures: ['x', 'y']\n",
      "\u001b[34m\u001b[1mwandb\u001b[0m: \tn_features_per_kernel: 4\n",
      "\u001b[34m\u001b[1mwandb\u001b[0m: \tnum_kernels: 2000\n",
      "\u001b[34m\u001b[1mwandb\u001b[0m: \trocket_transform: rocket\n",
      "\u001b[34m\u001b[1mwandb\u001b[0m: \tscaling: True\n",
      "\u001b[34m\u001b[1mwandb\u001b[0m: \twindow_size: 11\n"
     ]
    },
    {
     "data": {
      "text/html": [
       "Tracking run with wandb version 0.18.6"
      ],
      "text/plain": [
       "<IPython.core.display.HTML object>"
      ]
     },
     "metadata": {},
     "output_type": "display_data"
    },
    {
     "data": {
      "text/html": [
       "Run data is saved locally in <code>c:\\Users\\benev\\Documents\\Uni_Master\\Masterarbeit\\CODE\\8_tennis_analytics\\wandb\\run-20241201_142611-qwurzhe3</code>"
      ],
      "text/plain": [
       "<IPython.core.display.HTML object>"
      ]
     },
     "metadata": {},
     "output_type": "display_data"
    },
    {
     "data": {
      "text/html": [
       "Syncing run <strong><a href='https://wandb.ai/MasterarbeitBV/XGBoost_Hyperparameter_Tuning/runs/qwurzhe3' target=\"_blank\">morning-sweep-47</a></strong> to <a href='https://wandb.ai/MasterarbeitBV/XGBoost_Hyperparameter_Tuning' target=\"_blank\">Weights & Biases</a> (<a href='https://wandb.me/developer-guide' target=\"_blank\">docs</a>)<br/>Sweep page: <a href='https://wandb.ai/MasterarbeitBV/XGBoost_Hyperparameter_Tuning/sweeps/oros33fx' target=\"_blank\">https://wandb.ai/MasterarbeitBV/XGBoost_Hyperparameter_Tuning/sweeps/oros33fx</a>"
      ],
      "text/plain": [
       "<IPython.core.display.HTML object>"
      ]
     },
     "metadata": {},
     "output_type": "display_data"
    },
    {
     "data": {
      "text/html": [
       " View project at <a href='https://wandb.ai/MasterarbeitBV/XGBoost_Hyperparameter_Tuning' target=\"_blank\">https://wandb.ai/MasterarbeitBV/XGBoost_Hyperparameter_Tuning</a>"
      ],
      "text/plain": [
       "<IPython.core.display.HTML object>"
      ]
     },
     "metadata": {},
     "output_type": "display_data"
    },
    {
     "data": {
      "text/html": [
       " View sweep at <a href='https://wandb.ai/MasterarbeitBV/XGBoost_Hyperparameter_Tuning/sweeps/oros33fx' target=\"_blank\">https://wandb.ai/MasterarbeitBV/XGBoost_Hyperparameter_Tuning/sweeps/oros33fx</a>"
      ],
      "text/plain": [
       "<IPython.core.display.HTML object>"
      ]
     },
     "metadata": {},
     "output_type": "display_data"
    },
    {
     "data": {
      "text/html": [
       " View run at <a href='https://wandb.ai/MasterarbeitBV/XGBoost_Hyperparameter_Tuning/runs/qwurzhe3' target=\"_blank\">https://wandb.ai/MasterarbeitBV/XGBoost_Hyperparameter_Tuning/runs/qwurzhe3</a>"
      ],
      "text/plain": [
       "<IPython.core.display.HTML object>"
      ]
     },
     "metadata": {},
     "output_type": "display_data"
    },
    {
     "data": {
      "text/html": [
       "\n",
       "    <style>\n",
       "        .wandb-row {\n",
       "            display: flex;\n",
       "            flex-direction: row;\n",
       "            flex-wrap: wrap;\n",
       "            justify-content: flex-start;\n",
       "            width: 100%;\n",
       "        }\n",
       "        .wandb-col {\n",
       "            display: flex;\n",
       "            flex-direction: column;\n",
       "            flex-basis: 100%;\n",
       "            flex: 1;\n",
       "            padding: 10px;\n",
       "        }\n",
       "    </style>\n",
       "<div class=\"wandb-row\"><div class=\"wandb-col\"><h3>Run history:</h3><br/><table class=\"wandb\"><tr><td>accuracy</td><td>▁</td></tr><tr><td>f1-score</td><td>▁</td></tr></table><br/></div><div class=\"wandb-col\"><h3>Run summary:</h3><br/><table class=\"wandb\"><tr><td>accuracy</td><td>0.93914</td></tr><tr><td>f1-score</td><td>0.70994</td></tr></table><br/></div></div>"
      ],
      "text/plain": [
       "<IPython.core.display.HTML object>"
      ]
     },
     "metadata": {},
     "output_type": "display_data"
    },
    {
     "data": {
      "text/html": [
       " View run <strong style=\"color:#cdcd00\">morning-sweep-47</strong> at: <a href='https://wandb.ai/MasterarbeitBV/XGBoost_Hyperparameter_Tuning/runs/qwurzhe3' target=\"_blank\">https://wandb.ai/MasterarbeitBV/XGBoost_Hyperparameter_Tuning/runs/qwurzhe3</a><br/> View project at: <a href='https://wandb.ai/MasterarbeitBV/XGBoost_Hyperparameter_Tuning' target=\"_blank\">https://wandb.ai/MasterarbeitBV/XGBoost_Hyperparameter_Tuning</a><br/>Synced 5 W&B file(s), 0 media file(s), 0 artifact file(s) and 0 other file(s)"
      ],
      "text/plain": [
       "<IPython.core.display.HTML object>"
      ]
     },
     "metadata": {},
     "output_type": "display_data"
    },
    {
     "data": {
      "text/html": [
       "Find logs at: <code>.\\wandb\\run-20241201_142611-qwurzhe3\\logs</code>"
      ],
      "text/plain": [
       "<IPython.core.display.HTML object>"
      ]
     },
     "metadata": {},
     "output_type": "display_data"
    },
    {
     "name": "stderr",
     "output_type": "stream",
     "text": [
      "\u001b[34m\u001b[1mwandb\u001b[0m: Agent Starting Run: k3cfbcg2 with config:\n",
      "\u001b[34m\u001b[1mwandb\u001b[0m: \tBalancing: True\n",
      "\u001b[34m\u001b[1mwandb\u001b[0m: \tfeatures: ['x', 'y']\n",
      "\u001b[34m\u001b[1mwandb\u001b[0m: \tn_features_per_kernel: 4\n",
      "\u001b[34m\u001b[1mwandb\u001b[0m: \tnum_kernels: 2000\n",
      "\u001b[34m\u001b[1mwandb\u001b[0m: \trocket_transform: rocket\n",
      "\u001b[34m\u001b[1mwandb\u001b[0m: \tscaling: False\n",
      "\u001b[34m\u001b[1mwandb\u001b[0m: \twindow_size: 11\n"
     ]
    },
    {
     "data": {
      "text/html": [
       "Tracking run with wandb version 0.18.6"
      ],
      "text/plain": [
       "<IPython.core.display.HTML object>"
      ]
     },
     "metadata": {},
     "output_type": "display_data"
    },
    {
     "data": {
      "text/html": [
       "Run data is saved locally in <code>c:\\Users\\benev\\Documents\\Uni_Master\\Masterarbeit\\CODE\\8_tennis_analytics\\wandb\\run-20241201_142815-k3cfbcg2</code>"
      ],
      "text/plain": [
       "<IPython.core.display.HTML object>"
      ]
     },
     "metadata": {},
     "output_type": "display_data"
    },
    {
     "data": {
      "text/html": [
       "Syncing run <strong><a href='https://wandb.ai/MasterarbeitBV/XGBoost_Hyperparameter_Tuning/runs/k3cfbcg2' target=\"_blank\">frosty-sweep-48</a></strong> to <a href='https://wandb.ai/MasterarbeitBV/XGBoost_Hyperparameter_Tuning' target=\"_blank\">Weights & Biases</a> (<a href='https://wandb.me/developer-guide' target=\"_blank\">docs</a>)<br/>Sweep page: <a href='https://wandb.ai/MasterarbeitBV/XGBoost_Hyperparameter_Tuning/sweeps/oros33fx' target=\"_blank\">https://wandb.ai/MasterarbeitBV/XGBoost_Hyperparameter_Tuning/sweeps/oros33fx</a>"
      ],
      "text/plain": [
       "<IPython.core.display.HTML object>"
      ]
     },
     "metadata": {},
     "output_type": "display_data"
    },
    {
     "data": {
      "text/html": [
       " View project at <a href='https://wandb.ai/MasterarbeitBV/XGBoost_Hyperparameter_Tuning' target=\"_blank\">https://wandb.ai/MasterarbeitBV/XGBoost_Hyperparameter_Tuning</a>"
      ],
      "text/plain": [
       "<IPython.core.display.HTML object>"
      ]
     },
     "metadata": {},
     "output_type": "display_data"
    },
    {
     "data": {
      "text/html": [
       " View sweep at <a href='https://wandb.ai/MasterarbeitBV/XGBoost_Hyperparameter_Tuning/sweeps/oros33fx' target=\"_blank\">https://wandb.ai/MasterarbeitBV/XGBoost_Hyperparameter_Tuning/sweeps/oros33fx</a>"
      ],
      "text/plain": [
       "<IPython.core.display.HTML object>"
      ]
     },
     "metadata": {},
     "output_type": "display_data"
    },
    {
     "data": {
      "text/html": [
       " View run at <a href='https://wandb.ai/MasterarbeitBV/XGBoost_Hyperparameter_Tuning/runs/k3cfbcg2' target=\"_blank\">https://wandb.ai/MasterarbeitBV/XGBoost_Hyperparameter_Tuning/runs/k3cfbcg2</a>"
      ],
      "text/plain": [
       "<IPython.core.display.HTML object>"
      ]
     },
     "metadata": {},
     "output_type": "display_data"
    },
    {
     "data": {
      "text/html": [
       "\n",
       "    <style>\n",
       "        .wandb-row {\n",
       "            display: flex;\n",
       "            flex-direction: row;\n",
       "            flex-wrap: wrap;\n",
       "            justify-content: flex-start;\n",
       "            width: 100%;\n",
       "        }\n",
       "        .wandb-col {\n",
       "            display: flex;\n",
       "            flex-direction: column;\n",
       "            flex-basis: 100%;\n",
       "            flex: 1;\n",
       "            padding: 10px;\n",
       "        }\n",
       "    </style>\n",
       "<div class=\"wandb-row\"><div class=\"wandb-col\"><h3>Run history:</h3><br/><table class=\"wandb\"><tr><td>accuracy</td><td>▁</td></tr><tr><td>f1-score</td><td>▁</td></tr></table><br/></div><div class=\"wandb-col\"><h3>Run summary:</h3><br/><table class=\"wandb\"><tr><td>accuracy</td><td>0.93777</td></tr><tr><td>f1-score</td><td>0.70348</td></tr></table><br/></div></div>"
      ],
      "text/plain": [
       "<IPython.core.display.HTML object>"
      ]
     },
     "metadata": {},
     "output_type": "display_data"
    },
    {
     "data": {
      "text/html": [
       " View run <strong style=\"color:#cdcd00\">frosty-sweep-48</strong> at: <a href='https://wandb.ai/MasterarbeitBV/XGBoost_Hyperparameter_Tuning/runs/k3cfbcg2' target=\"_blank\">https://wandb.ai/MasterarbeitBV/XGBoost_Hyperparameter_Tuning/runs/k3cfbcg2</a><br/> View project at: <a href='https://wandb.ai/MasterarbeitBV/XGBoost_Hyperparameter_Tuning' target=\"_blank\">https://wandb.ai/MasterarbeitBV/XGBoost_Hyperparameter_Tuning</a><br/>Synced 5 W&B file(s), 0 media file(s), 0 artifact file(s) and 0 other file(s)"
      ],
      "text/plain": [
       "<IPython.core.display.HTML object>"
      ]
     },
     "metadata": {},
     "output_type": "display_data"
    },
    {
     "data": {
      "text/html": [
       "Find logs at: <code>.\\wandb\\run-20241201_142815-k3cfbcg2\\logs</code>"
      ],
      "text/plain": [
       "<IPython.core.display.HTML object>"
      ]
     },
     "metadata": {},
     "output_type": "display_data"
    },
    {
     "name": "stderr",
     "output_type": "stream",
     "text": [
      "\u001b[34m\u001b[1mwandb\u001b[0m: Sweep Agent: Waiting for job.\n",
      "\u001b[34m\u001b[1mwandb\u001b[0m: Job received.\n",
      "\u001b[34m\u001b[1mwandb\u001b[0m: Agent Starting Run: 94ysmwbi with config:\n",
      "\u001b[34m\u001b[1mwandb\u001b[0m: \tBalancing: False\n",
      "\u001b[34m\u001b[1mwandb\u001b[0m: \tfeatures: ['x', 'y', 'velocity']\n",
      "\u001b[34m\u001b[1mwandb\u001b[0m: \tn_features_per_kernel: 4\n",
      "\u001b[34m\u001b[1mwandb\u001b[0m: \tnum_kernels: 2000\n",
      "\u001b[34m\u001b[1mwandb\u001b[0m: \trocket_transform: rocket\n",
      "\u001b[34m\u001b[1mwandb\u001b[0m: \tscaling: True\n",
      "\u001b[34m\u001b[1mwandb\u001b[0m: \twindow_size: 11\n"
     ]
    },
    {
     "data": {
      "text/html": [
       "Tracking run with wandb version 0.18.6"
      ],
      "text/plain": [
       "<IPython.core.display.HTML object>"
      ]
     },
     "metadata": {},
     "output_type": "display_data"
    },
    {
     "data": {
      "text/html": [
       "Run data is saved locally in <code>c:\\Users\\benev\\Documents\\Uni_Master\\Masterarbeit\\CODE\\8_tennis_analytics\\wandb\\run-20241201_143027-94ysmwbi</code>"
      ],
      "text/plain": [
       "<IPython.core.display.HTML object>"
      ]
     },
     "metadata": {},
     "output_type": "display_data"
    },
    {
     "data": {
      "text/html": [
       "Syncing run <strong><a href='https://wandb.ai/MasterarbeitBV/XGBoost_Hyperparameter_Tuning/runs/94ysmwbi' target=\"_blank\">vital-sweep-49</a></strong> to <a href='https://wandb.ai/MasterarbeitBV/XGBoost_Hyperparameter_Tuning' target=\"_blank\">Weights & Biases</a> (<a href='https://wandb.me/developer-guide' target=\"_blank\">docs</a>)<br/>Sweep page: <a href='https://wandb.ai/MasterarbeitBV/XGBoost_Hyperparameter_Tuning/sweeps/oros33fx' target=\"_blank\">https://wandb.ai/MasterarbeitBV/XGBoost_Hyperparameter_Tuning/sweeps/oros33fx</a>"
      ],
      "text/plain": [
       "<IPython.core.display.HTML object>"
      ]
     },
     "metadata": {},
     "output_type": "display_data"
    },
    {
     "data": {
      "text/html": [
       " View project at <a href='https://wandb.ai/MasterarbeitBV/XGBoost_Hyperparameter_Tuning' target=\"_blank\">https://wandb.ai/MasterarbeitBV/XGBoost_Hyperparameter_Tuning</a>"
      ],
      "text/plain": [
       "<IPython.core.display.HTML object>"
      ]
     },
     "metadata": {},
     "output_type": "display_data"
    },
    {
     "data": {
      "text/html": [
       " View sweep at <a href='https://wandb.ai/MasterarbeitBV/XGBoost_Hyperparameter_Tuning/sweeps/oros33fx' target=\"_blank\">https://wandb.ai/MasterarbeitBV/XGBoost_Hyperparameter_Tuning/sweeps/oros33fx</a>"
      ],
      "text/plain": [
       "<IPython.core.display.HTML object>"
      ]
     },
     "metadata": {},
     "output_type": "display_data"
    },
    {
     "data": {
      "text/html": [
       " View run at <a href='https://wandb.ai/MasterarbeitBV/XGBoost_Hyperparameter_Tuning/runs/94ysmwbi' target=\"_blank\">https://wandb.ai/MasterarbeitBV/XGBoost_Hyperparameter_Tuning/runs/94ysmwbi</a>"
      ],
      "text/plain": [
       "<IPython.core.display.HTML object>"
      ]
     },
     "metadata": {},
     "output_type": "display_data"
    },
    {
     "data": {
      "text/html": [
       "\n",
       "    <style>\n",
       "        .wandb-row {\n",
       "            display: flex;\n",
       "            flex-direction: row;\n",
       "            flex-wrap: wrap;\n",
       "            justify-content: flex-start;\n",
       "            width: 100%;\n",
       "        }\n",
       "        .wandb-col {\n",
       "            display: flex;\n",
       "            flex-direction: column;\n",
       "            flex-basis: 100%;\n",
       "            flex: 1;\n",
       "            padding: 10px;\n",
       "        }\n",
       "    </style>\n",
       "<div class=\"wandb-row\"><div class=\"wandb-col\"><h3>Run history:</h3><br/><table class=\"wandb\"><tr><td>accuracy</td><td>▁</td></tr><tr><td>f1-score</td><td>▁</td></tr></table><br/></div><div class=\"wandb-col\"><h3>Run summary:</h3><br/><table class=\"wandb\"><tr><td>accuracy</td><td>0.9682</td></tr><tr><td>f1-score</td><td>0.72626</td></tr></table><br/></div></div>"
      ],
      "text/plain": [
       "<IPython.core.display.HTML object>"
      ]
     },
     "metadata": {},
     "output_type": "display_data"
    },
    {
     "data": {
      "text/html": [
       " View run <strong style=\"color:#cdcd00\">vital-sweep-49</strong> at: <a href='https://wandb.ai/MasterarbeitBV/XGBoost_Hyperparameter_Tuning/runs/94ysmwbi' target=\"_blank\">https://wandb.ai/MasterarbeitBV/XGBoost_Hyperparameter_Tuning/runs/94ysmwbi</a><br/> View project at: <a href='https://wandb.ai/MasterarbeitBV/XGBoost_Hyperparameter_Tuning' target=\"_blank\">https://wandb.ai/MasterarbeitBV/XGBoost_Hyperparameter_Tuning</a><br/>Synced 5 W&B file(s), 0 media file(s), 0 artifact file(s) and 0 other file(s)"
      ],
      "text/plain": [
       "<IPython.core.display.HTML object>"
      ]
     },
     "metadata": {},
     "output_type": "display_data"
    },
    {
     "data": {
      "text/html": [
       "Find logs at: <code>.\\wandb\\run-20241201_143027-94ysmwbi\\logs</code>"
      ],
      "text/plain": [
       "<IPython.core.display.HTML object>"
      ]
     },
     "metadata": {},
     "output_type": "display_data"
    },
    {
     "name": "stderr",
     "output_type": "stream",
     "text": [
      "\u001b[34m\u001b[1mwandb\u001b[0m: Agent Starting Run: y0eysdrc with config:\n",
      "\u001b[34m\u001b[1mwandb\u001b[0m: \tBalancing: False\n",
      "\u001b[34m\u001b[1mwandb\u001b[0m: \tfeatures: ['x', 'y']\n",
      "\u001b[34m\u001b[1mwandb\u001b[0m: \tn_features_per_kernel: 4\n",
      "\u001b[34m\u001b[1mwandb\u001b[0m: \tnum_kernels: 2000\n",
      "\u001b[34m\u001b[1mwandb\u001b[0m: \trocket_transform: rocket\n",
      "\u001b[34m\u001b[1mwandb\u001b[0m: \tscaling: False\n",
      "\u001b[34m\u001b[1mwandb\u001b[0m: \twindow_size: 11\n"
     ]
    },
    {
     "data": {
      "text/html": [
       "Tracking run with wandb version 0.18.6"
      ],
      "text/plain": [
       "<IPython.core.display.HTML object>"
      ]
     },
     "metadata": {},
     "output_type": "display_data"
    },
    {
     "data": {
      "text/html": [
       "Run data is saved locally in <code>c:\\Users\\benev\\Documents\\Uni_Master\\Masterarbeit\\CODE\\8_tennis_analytics\\wandb\\run-20241201_143135-y0eysdrc</code>"
      ],
      "text/plain": [
       "<IPython.core.display.HTML object>"
      ]
     },
     "metadata": {},
     "output_type": "display_data"
    },
    {
     "data": {
      "text/html": [
       "Syncing run <strong><a href='https://wandb.ai/MasterarbeitBV/XGBoost_Hyperparameter_Tuning/runs/y0eysdrc' target=\"_blank\">vague-sweep-50</a></strong> to <a href='https://wandb.ai/MasterarbeitBV/XGBoost_Hyperparameter_Tuning' target=\"_blank\">Weights & Biases</a> (<a href='https://wandb.me/developer-guide' target=\"_blank\">docs</a>)<br/>Sweep page: <a href='https://wandb.ai/MasterarbeitBV/XGBoost_Hyperparameter_Tuning/sweeps/oros33fx' target=\"_blank\">https://wandb.ai/MasterarbeitBV/XGBoost_Hyperparameter_Tuning/sweeps/oros33fx</a>"
      ],
      "text/plain": [
       "<IPython.core.display.HTML object>"
      ]
     },
     "metadata": {},
     "output_type": "display_data"
    },
    {
     "data": {
      "text/html": [
       " View project at <a href='https://wandb.ai/MasterarbeitBV/XGBoost_Hyperparameter_Tuning' target=\"_blank\">https://wandb.ai/MasterarbeitBV/XGBoost_Hyperparameter_Tuning</a>"
      ],
      "text/plain": [
       "<IPython.core.display.HTML object>"
      ]
     },
     "metadata": {},
     "output_type": "display_data"
    },
    {
     "data": {
      "text/html": [
       " View sweep at <a href='https://wandb.ai/MasterarbeitBV/XGBoost_Hyperparameter_Tuning/sweeps/oros33fx' target=\"_blank\">https://wandb.ai/MasterarbeitBV/XGBoost_Hyperparameter_Tuning/sweeps/oros33fx</a>"
      ],
      "text/plain": [
       "<IPython.core.display.HTML object>"
      ]
     },
     "metadata": {},
     "output_type": "display_data"
    },
    {
     "data": {
      "text/html": [
       " View run at <a href='https://wandb.ai/MasterarbeitBV/XGBoost_Hyperparameter_Tuning/runs/y0eysdrc' target=\"_blank\">https://wandb.ai/MasterarbeitBV/XGBoost_Hyperparameter_Tuning/runs/y0eysdrc</a>"
      ],
      "text/plain": [
       "<IPython.core.display.HTML object>"
      ]
     },
     "metadata": {},
     "output_type": "display_data"
    },
    {
     "data": {
      "text/html": [
       "\n",
       "    <style>\n",
       "        .wandb-row {\n",
       "            display: flex;\n",
       "            flex-direction: row;\n",
       "            flex-wrap: wrap;\n",
       "            justify-content: flex-start;\n",
       "            width: 100%;\n",
       "        }\n",
       "        .wandb-col {\n",
       "            display: flex;\n",
       "            flex-direction: column;\n",
       "            flex-basis: 100%;\n",
       "            flex: 1;\n",
       "            padding: 10px;\n",
       "        }\n",
       "    </style>\n",
       "<div class=\"wandb-row\"><div class=\"wandb-col\"><h3>Run history:</h3><br/><table class=\"wandb\"><tr><td>accuracy</td><td>▁</td></tr><tr><td>f1-score</td><td>▁</td></tr></table><br/></div><div class=\"wandb-col\"><h3>Run summary:</h3><br/><table class=\"wandb\"><tr><td>accuracy</td><td>0.9682</td></tr><tr><td>f1-score</td><td>0.72409</td></tr></table><br/></div></div>"
      ],
      "text/plain": [
       "<IPython.core.display.HTML object>"
      ]
     },
     "metadata": {},
     "output_type": "display_data"
    },
    {
     "data": {
      "text/html": [
       " View run <strong style=\"color:#cdcd00\">vague-sweep-50</strong> at: <a href='https://wandb.ai/MasterarbeitBV/XGBoost_Hyperparameter_Tuning/runs/y0eysdrc' target=\"_blank\">https://wandb.ai/MasterarbeitBV/XGBoost_Hyperparameter_Tuning/runs/y0eysdrc</a><br/> View project at: <a href='https://wandb.ai/MasterarbeitBV/XGBoost_Hyperparameter_Tuning' target=\"_blank\">https://wandb.ai/MasterarbeitBV/XGBoost_Hyperparameter_Tuning</a><br/>Synced 5 W&B file(s), 0 media file(s), 0 artifact file(s) and 0 other file(s)"
      ],
      "text/plain": [
       "<IPython.core.display.HTML object>"
      ]
     },
     "metadata": {},
     "output_type": "display_data"
    },
    {
     "data": {
      "text/html": [
       "Find logs at: <code>.\\wandb\\run-20241201_143135-y0eysdrc\\logs</code>"
      ],
      "text/plain": [
       "<IPython.core.display.HTML object>"
      ]
     },
     "metadata": {},
     "output_type": "display_data"
    },
    {
     "name": "stderr",
     "output_type": "stream",
     "text": [
      "\u001b[34m\u001b[1mwandb\u001b[0m: Agent Starting Run: jdzyr589 with config:\n",
      "\u001b[34m\u001b[1mwandb\u001b[0m: \tBalancing: True\n",
      "\u001b[34m\u001b[1mwandb\u001b[0m: \tfeatures: ['x', 'y']\n",
      "\u001b[34m\u001b[1mwandb\u001b[0m: \tn_features_per_kernel: 4\n",
      "\u001b[34m\u001b[1mwandb\u001b[0m: \tnum_kernels: 2000\n",
      "\u001b[34m\u001b[1mwandb\u001b[0m: \trocket_transform: rocket\n",
      "\u001b[34m\u001b[1mwandb\u001b[0m: \tscaling: True\n",
      "\u001b[34m\u001b[1mwandb\u001b[0m: \twindow_size: 11\n"
     ]
    },
    {
     "data": {
      "text/html": [
       "Tracking run with wandb version 0.18.6"
      ],
      "text/plain": [
       "<IPython.core.display.HTML object>"
      ]
     },
     "metadata": {},
     "output_type": "display_data"
    },
    {
     "data": {
      "text/html": [
       "Run data is saved locally in <code>c:\\Users\\benev\\Documents\\Uni_Master\\Masterarbeit\\CODE\\8_tennis_analytics\\wandb\\run-20241201_143243-jdzyr589</code>"
      ],
      "text/plain": [
       "<IPython.core.display.HTML object>"
      ]
     },
     "metadata": {},
     "output_type": "display_data"
    },
    {
     "data": {
      "text/html": [
       "Syncing run <strong><a href='https://wandb.ai/MasterarbeitBV/XGBoost_Hyperparameter_Tuning/runs/jdzyr589' target=\"_blank\">hardy-sweep-51</a></strong> to <a href='https://wandb.ai/MasterarbeitBV/XGBoost_Hyperparameter_Tuning' target=\"_blank\">Weights & Biases</a> (<a href='https://wandb.me/developer-guide' target=\"_blank\">docs</a>)<br/>Sweep page: <a href='https://wandb.ai/MasterarbeitBV/XGBoost_Hyperparameter_Tuning/sweeps/oros33fx' target=\"_blank\">https://wandb.ai/MasterarbeitBV/XGBoost_Hyperparameter_Tuning/sweeps/oros33fx</a>"
      ],
      "text/plain": [
       "<IPython.core.display.HTML object>"
      ]
     },
     "metadata": {},
     "output_type": "display_data"
    },
    {
     "data": {
      "text/html": [
       " View project at <a href='https://wandb.ai/MasterarbeitBV/XGBoost_Hyperparameter_Tuning' target=\"_blank\">https://wandb.ai/MasterarbeitBV/XGBoost_Hyperparameter_Tuning</a>"
      ],
      "text/plain": [
       "<IPython.core.display.HTML object>"
      ]
     },
     "metadata": {},
     "output_type": "display_data"
    },
    {
     "data": {
      "text/html": [
       " View sweep at <a href='https://wandb.ai/MasterarbeitBV/XGBoost_Hyperparameter_Tuning/sweeps/oros33fx' target=\"_blank\">https://wandb.ai/MasterarbeitBV/XGBoost_Hyperparameter_Tuning/sweeps/oros33fx</a>"
      ],
      "text/plain": [
       "<IPython.core.display.HTML object>"
      ]
     },
     "metadata": {},
     "output_type": "display_data"
    },
    {
     "data": {
      "text/html": [
       " View run at <a href='https://wandb.ai/MasterarbeitBV/XGBoost_Hyperparameter_Tuning/runs/jdzyr589' target=\"_blank\">https://wandb.ai/MasterarbeitBV/XGBoost_Hyperparameter_Tuning/runs/jdzyr589</a>"
      ],
      "text/plain": [
       "<IPython.core.display.HTML object>"
      ]
     },
     "metadata": {},
     "output_type": "display_data"
    },
    {
     "data": {
      "text/html": [
       "\n",
       "    <style>\n",
       "        .wandb-row {\n",
       "            display: flex;\n",
       "            flex-direction: row;\n",
       "            flex-wrap: wrap;\n",
       "            justify-content: flex-start;\n",
       "            width: 100%;\n",
       "        }\n",
       "        .wandb-col {\n",
       "            display: flex;\n",
       "            flex-direction: column;\n",
       "            flex-basis: 100%;\n",
       "            flex: 1;\n",
       "            padding: 10px;\n",
       "        }\n",
       "    </style>\n",
       "<div class=\"wandb-row\"><div class=\"wandb-col\"><h3>Run history:</h3><br/><table class=\"wandb\"><tr><td>accuracy</td><td>▁</td></tr><tr><td>f1-score</td><td>▁</td></tr></table><br/></div><div class=\"wandb-col\"><h3>Run summary:</h3><br/><table class=\"wandb\"><tr><td>accuracy</td><td>0.93914</td></tr><tr><td>f1-score</td><td>0.70994</td></tr></table><br/></div></div>"
      ],
      "text/plain": [
       "<IPython.core.display.HTML object>"
      ]
     },
     "metadata": {},
     "output_type": "display_data"
    },
    {
     "data": {
      "text/html": [
       " View run <strong style=\"color:#cdcd00\">hardy-sweep-51</strong> at: <a href='https://wandb.ai/MasterarbeitBV/XGBoost_Hyperparameter_Tuning/runs/jdzyr589' target=\"_blank\">https://wandb.ai/MasterarbeitBV/XGBoost_Hyperparameter_Tuning/runs/jdzyr589</a><br/> View project at: <a href='https://wandb.ai/MasterarbeitBV/XGBoost_Hyperparameter_Tuning' target=\"_blank\">https://wandb.ai/MasterarbeitBV/XGBoost_Hyperparameter_Tuning</a><br/>Synced 5 W&B file(s), 0 media file(s), 0 artifact file(s) and 0 other file(s)"
      ],
      "text/plain": [
       "<IPython.core.display.HTML object>"
      ]
     },
     "metadata": {},
     "output_type": "display_data"
    },
    {
     "data": {
      "text/html": [
       "Find logs at: <code>.\\wandb\\run-20241201_143243-jdzyr589\\logs</code>"
      ],
      "text/plain": [
       "<IPython.core.display.HTML object>"
      ]
     },
     "metadata": {},
     "output_type": "display_data"
    },
    {
     "name": "stderr",
     "output_type": "stream",
     "text": [
      "\u001b[34m\u001b[1mwandb\u001b[0m: Sweep Agent: Waiting for job.\n",
      "\u001b[34m\u001b[1mwandb\u001b[0m: Job received.\n",
      "\u001b[34m\u001b[1mwandb\u001b[0m: Agent Starting Run: q3ews9k6 with config:\n",
      "\u001b[34m\u001b[1mwandb\u001b[0m: \tBalancing: True\n",
      "\u001b[34m\u001b[1mwandb\u001b[0m: \tfeatures: ['x', 'y', 'velocity']\n",
      "\u001b[34m\u001b[1mwandb\u001b[0m: \tn_features_per_kernel: 4\n",
      "\u001b[34m\u001b[1mwandb\u001b[0m: \tnum_kernels: 2000\n",
      "\u001b[34m\u001b[1mwandb\u001b[0m: \trocket_transform: rocket\n",
      "\u001b[34m\u001b[1mwandb\u001b[0m: \tscaling: False\n",
      "\u001b[34m\u001b[1mwandb\u001b[0m: \twindow_size: 11\n"
     ]
    },
    {
     "data": {
      "text/html": [
       "Tracking run with wandb version 0.18.6"
      ],
      "text/plain": [
       "<IPython.core.display.HTML object>"
      ]
     },
     "metadata": {},
     "output_type": "display_data"
    },
    {
     "data": {
      "text/html": [
       "Run data is saved locally in <code>c:\\Users\\benev\\Documents\\Uni_Master\\Masterarbeit\\CODE\\8_tennis_analytics\\wandb\\run-20241201_143456-q3ews9k6</code>"
      ],
      "text/plain": [
       "<IPython.core.display.HTML object>"
      ]
     },
     "metadata": {},
     "output_type": "display_data"
    },
    {
     "data": {
      "text/html": [
       "Syncing run <strong><a href='https://wandb.ai/MasterarbeitBV/XGBoost_Hyperparameter_Tuning/runs/q3ews9k6' target=\"_blank\">glorious-sweep-52</a></strong> to <a href='https://wandb.ai/MasterarbeitBV/XGBoost_Hyperparameter_Tuning' target=\"_blank\">Weights & Biases</a> (<a href='https://wandb.me/developer-guide' target=\"_blank\">docs</a>)<br/>Sweep page: <a href='https://wandb.ai/MasterarbeitBV/XGBoost_Hyperparameter_Tuning/sweeps/oros33fx' target=\"_blank\">https://wandb.ai/MasterarbeitBV/XGBoost_Hyperparameter_Tuning/sweeps/oros33fx</a>"
      ],
      "text/plain": [
       "<IPython.core.display.HTML object>"
      ]
     },
     "metadata": {},
     "output_type": "display_data"
    },
    {
     "data": {
      "text/html": [
       " View project at <a href='https://wandb.ai/MasterarbeitBV/XGBoost_Hyperparameter_Tuning' target=\"_blank\">https://wandb.ai/MasterarbeitBV/XGBoost_Hyperparameter_Tuning</a>"
      ],
      "text/plain": [
       "<IPython.core.display.HTML object>"
      ]
     },
     "metadata": {},
     "output_type": "display_data"
    },
    {
     "data": {
      "text/html": [
       " View sweep at <a href='https://wandb.ai/MasterarbeitBV/XGBoost_Hyperparameter_Tuning/sweeps/oros33fx' target=\"_blank\">https://wandb.ai/MasterarbeitBV/XGBoost_Hyperparameter_Tuning/sweeps/oros33fx</a>"
      ],
      "text/plain": [
       "<IPython.core.display.HTML object>"
      ]
     },
     "metadata": {},
     "output_type": "display_data"
    },
    {
     "data": {
      "text/html": [
       " View run at <a href='https://wandb.ai/MasterarbeitBV/XGBoost_Hyperparameter_Tuning/runs/q3ews9k6' target=\"_blank\">https://wandb.ai/MasterarbeitBV/XGBoost_Hyperparameter_Tuning/runs/q3ews9k6</a>"
      ],
      "text/plain": [
       "<IPython.core.display.HTML object>"
      ]
     },
     "metadata": {},
     "output_type": "display_data"
    },
    {
     "data": {
      "text/html": [
       "\n",
       "    <style>\n",
       "        .wandb-row {\n",
       "            display: flex;\n",
       "            flex-direction: row;\n",
       "            flex-wrap: wrap;\n",
       "            justify-content: flex-start;\n",
       "            width: 100%;\n",
       "        }\n",
       "        .wandb-col {\n",
       "            display: flex;\n",
       "            flex-direction: column;\n",
       "            flex-basis: 100%;\n",
       "            flex: 1;\n",
       "            padding: 10px;\n",
       "        }\n",
       "    </style>\n",
       "<div class=\"wandb-row\"><div class=\"wandb-col\"><h3>Run history:</h3><br/><table class=\"wandb\"><tr><td>accuracy</td><td>▁</td></tr><tr><td>f1-score</td><td>▁</td></tr></table><br/></div><div class=\"wandb-col\"><h3>Run summary:</h3><br/><table class=\"wandb\"><tr><td>accuracy</td><td>0.93942</td></tr><tr><td>f1-score</td><td>0.70799</td></tr></table><br/></div></div>"
      ],
      "text/plain": [
       "<IPython.core.display.HTML object>"
      ]
     },
     "metadata": {},
     "output_type": "display_data"
    },
    {
     "data": {
      "text/html": [
       " View run <strong style=\"color:#cdcd00\">glorious-sweep-52</strong> at: <a href='https://wandb.ai/MasterarbeitBV/XGBoost_Hyperparameter_Tuning/runs/q3ews9k6' target=\"_blank\">https://wandb.ai/MasterarbeitBV/XGBoost_Hyperparameter_Tuning/runs/q3ews9k6</a><br/> View project at: <a href='https://wandb.ai/MasterarbeitBV/XGBoost_Hyperparameter_Tuning' target=\"_blank\">https://wandb.ai/MasterarbeitBV/XGBoost_Hyperparameter_Tuning</a><br/>Synced 5 W&B file(s), 0 media file(s), 0 artifact file(s) and 0 other file(s)"
      ],
      "text/plain": [
       "<IPython.core.display.HTML object>"
      ]
     },
     "metadata": {},
     "output_type": "display_data"
    },
    {
     "data": {
      "text/html": [
       "Find logs at: <code>.\\wandb\\run-20241201_143456-q3ews9k6\\logs</code>"
      ],
      "text/plain": [
       "<IPython.core.display.HTML object>"
      ]
     },
     "metadata": {},
     "output_type": "display_data"
    },
    {
     "name": "stderr",
     "output_type": "stream",
     "text": [
      "\u001b[34m\u001b[1mwandb\u001b[0m: Agent Starting Run: igfe09jp with config:\n",
      "\u001b[34m\u001b[1mwandb\u001b[0m: \tBalancing: True\n",
      "\u001b[34m\u001b[1mwandb\u001b[0m: \tfeatures: ['x', 'y', 'velocity']\n",
      "\u001b[34m\u001b[1mwandb\u001b[0m: \tn_features_per_kernel: 4\n",
      "\u001b[34m\u001b[1mwandb\u001b[0m: \tnum_kernels: 2000\n",
      "\u001b[34m\u001b[1mwandb\u001b[0m: \trocket_transform: rocket\n",
      "\u001b[34m\u001b[1mwandb\u001b[0m: \tscaling: True\n",
      "\u001b[34m\u001b[1mwandb\u001b[0m: \twindow_size: 11\n"
     ]
    },
    {
     "data": {
      "text/html": [
       "Tracking run with wandb version 0.18.6"
      ],
      "text/plain": [
       "<IPython.core.display.HTML object>"
      ]
     },
     "metadata": {},
     "output_type": "display_data"
    },
    {
     "data": {
      "text/html": [
       "Run data is saved locally in <code>c:\\Users\\benev\\Documents\\Uni_Master\\Masterarbeit\\CODE\\8_tennis_analytics\\wandb\\run-20241201_143712-igfe09jp</code>"
      ],
      "text/plain": [
       "<IPython.core.display.HTML object>"
      ]
     },
     "metadata": {},
     "output_type": "display_data"
    },
    {
     "data": {
      "text/html": [
       "Syncing run <strong><a href='https://wandb.ai/MasterarbeitBV/XGBoost_Hyperparameter_Tuning/runs/igfe09jp' target=\"_blank\">firm-sweep-53</a></strong> to <a href='https://wandb.ai/MasterarbeitBV/XGBoost_Hyperparameter_Tuning' target=\"_blank\">Weights & Biases</a> (<a href='https://wandb.me/developer-guide' target=\"_blank\">docs</a>)<br/>Sweep page: <a href='https://wandb.ai/MasterarbeitBV/XGBoost_Hyperparameter_Tuning/sweeps/oros33fx' target=\"_blank\">https://wandb.ai/MasterarbeitBV/XGBoost_Hyperparameter_Tuning/sweeps/oros33fx</a>"
      ],
      "text/plain": [
       "<IPython.core.display.HTML object>"
      ]
     },
     "metadata": {},
     "output_type": "display_data"
    },
    {
     "data": {
      "text/html": [
       " View project at <a href='https://wandb.ai/MasterarbeitBV/XGBoost_Hyperparameter_Tuning' target=\"_blank\">https://wandb.ai/MasterarbeitBV/XGBoost_Hyperparameter_Tuning</a>"
      ],
      "text/plain": [
       "<IPython.core.display.HTML object>"
      ]
     },
     "metadata": {},
     "output_type": "display_data"
    },
    {
     "data": {
      "text/html": [
       " View sweep at <a href='https://wandb.ai/MasterarbeitBV/XGBoost_Hyperparameter_Tuning/sweeps/oros33fx' target=\"_blank\">https://wandb.ai/MasterarbeitBV/XGBoost_Hyperparameter_Tuning/sweeps/oros33fx</a>"
      ],
      "text/plain": [
       "<IPython.core.display.HTML object>"
      ]
     },
     "metadata": {},
     "output_type": "display_data"
    },
    {
     "data": {
      "text/html": [
       " View run at <a href='https://wandb.ai/MasterarbeitBV/XGBoost_Hyperparameter_Tuning/runs/igfe09jp' target=\"_blank\">https://wandb.ai/MasterarbeitBV/XGBoost_Hyperparameter_Tuning/runs/igfe09jp</a>"
      ],
      "text/plain": [
       "<IPython.core.display.HTML object>"
      ]
     },
     "metadata": {},
     "output_type": "display_data"
    },
    {
     "data": {
      "text/html": [
       "\n",
       "    <style>\n",
       "        .wandb-row {\n",
       "            display: flex;\n",
       "            flex-direction: row;\n",
       "            flex-wrap: wrap;\n",
       "            justify-content: flex-start;\n",
       "            width: 100%;\n",
       "        }\n",
       "        .wandb-col {\n",
       "            display: flex;\n",
       "            flex-direction: column;\n",
       "            flex-basis: 100%;\n",
       "            flex: 1;\n",
       "            padding: 10px;\n",
       "        }\n",
       "    </style>\n",
       "<div class=\"wandb-row\"><div class=\"wandb-col\"><h3>Run history:</h3><br/><table class=\"wandb\"><tr><td>accuracy</td><td>▁</td></tr><tr><td>f1-score</td><td>▁</td></tr></table><br/></div><div class=\"wandb-col\"><h3>Run summary:</h3><br/><table class=\"wandb\"><tr><td>accuracy</td><td>0.9386</td></tr><tr><td>f1-score</td><td>0.70736</td></tr></table><br/></div></div>"
      ],
      "text/plain": [
       "<IPython.core.display.HTML object>"
      ]
     },
     "metadata": {},
     "output_type": "display_data"
    },
    {
     "data": {
      "text/html": [
       " View run <strong style=\"color:#cdcd00\">firm-sweep-53</strong> at: <a href='https://wandb.ai/MasterarbeitBV/XGBoost_Hyperparameter_Tuning/runs/igfe09jp' target=\"_blank\">https://wandb.ai/MasterarbeitBV/XGBoost_Hyperparameter_Tuning/runs/igfe09jp</a><br/> View project at: <a href='https://wandb.ai/MasterarbeitBV/XGBoost_Hyperparameter_Tuning' target=\"_blank\">https://wandb.ai/MasterarbeitBV/XGBoost_Hyperparameter_Tuning</a><br/>Synced 5 W&B file(s), 0 media file(s), 0 artifact file(s) and 0 other file(s)"
      ],
      "text/plain": [
       "<IPython.core.display.HTML object>"
      ]
     },
     "metadata": {},
     "output_type": "display_data"
    },
    {
     "data": {
      "text/html": [
       "Find logs at: <code>.\\wandb\\run-20241201_143712-igfe09jp\\logs</code>"
      ],
      "text/plain": [
       "<IPython.core.display.HTML object>"
      ]
     },
     "metadata": {},
     "output_type": "display_data"
    },
    {
     "name": "stderr",
     "output_type": "stream",
     "text": [
      "\u001b[34m\u001b[1mwandb\u001b[0m: Agent Starting Run: t9j91crx with config:\n",
      "\u001b[34m\u001b[1mwandb\u001b[0m: \tBalancing: False\n",
      "\u001b[34m\u001b[1mwandb\u001b[0m: \tfeatures: ['x', 'y']\n",
      "\u001b[34m\u001b[1mwandb\u001b[0m: \tn_features_per_kernel: 4\n",
      "\u001b[34m\u001b[1mwandb\u001b[0m: \tnum_kernels: 2000\n",
      "\u001b[34m\u001b[1mwandb\u001b[0m: \trocket_transform: rocket\n",
      "\u001b[34m\u001b[1mwandb\u001b[0m: \tscaling: False\n",
      "\u001b[34m\u001b[1mwandb\u001b[0m: \twindow_size: 11\n"
     ]
    },
    {
     "data": {
      "text/html": [
       "Tracking run with wandb version 0.18.6"
      ],
      "text/plain": [
       "<IPython.core.display.HTML object>"
      ]
     },
     "metadata": {},
     "output_type": "display_data"
    },
    {
     "data": {
      "text/html": [
       "Run data is saved locally in <code>c:\\Users\\benev\\Documents\\Uni_Master\\Masterarbeit\\CODE\\8_tennis_analytics\\wandb\\run-20241201_143924-t9j91crx</code>"
      ],
      "text/plain": [
       "<IPython.core.display.HTML object>"
      ]
     },
     "metadata": {},
     "output_type": "display_data"
    },
    {
     "data": {
      "text/html": [
       "Syncing run <strong><a href='https://wandb.ai/MasterarbeitBV/XGBoost_Hyperparameter_Tuning/runs/t9j91crx' target=\"_blank\">vivid-sweep-54</a></strong> to <a href='https://wandb.ai/MasterarbeitBV/XGBoost_Hyperparameter_Tuning' target=\"_blank\">Weights & Biases</a> (<a href='https://wandb.me/developer-guide' target=\"_blank\">docs</a>)<br/>Sweep page: <a href='https://wandb.ai/MasterarbeitBV/XGBoost_Hyperparameter_Tuning/sweeps/oros33fx' target=\"_blank\">https://wandb.ai/MasterarbeitBV/XGBoost_Hyperparameter_Tuning/sweeps/oros33fx</a>"
      ],
      "text/plain": [
       "<IPython.core.display.HTML object>"
      ]
     },
     "metadata": {},
     "output_type": "display_data"
    },
    {
     "data": {
      "text/html": [
       " View project at <a href='https://wandb.ai/MasterarbeitBV/XGBoost_Hyperparameter_Tuning' target=\"_blank\">https://wandb.ai/MasterarbeitBV/XGBoost_Hyperparameter_Tuning</a>"
      ],
      "text/plain": [
       "<IPython.core.display.HTML object>"
      ]
     },
     "metadata": {},
     "output_type": "display_data"
    },
    {
     "data": {
      "text/html": [
       " View sweep at <a href='https://wandb.ai/MasterarbeitBV/XGBoost_Hyperparameter_Tuning/sweeps/oros33fx' target=\"_blank\">https://wandb.ai/MasterarbeitBV/XGBoost_Hyperparameter_Tuning/sweeps/oros33fx</a>"
      ],
      "text/plain": [
       "<IPython.core.display.HTML object>"
      ]
     },
     "metadata": {},
     "output_type": "display_data"
    },
    {
     "data": {
      "text/html": [
       " View run at <a href='https://wandb.ai/MasterarbeitBV/XGBoost_Hyperparameter_Tuning/runs/t9j91crx' target=\"_blank\">https://wandb.ai/MasterarbeitBV/XGBoost_Hyperparameter_Tuning/runs/t9j91crx</a>"
      ],
      "text/plain": [
       "<IPython.core.display.HTML object>"
      ]
     },
     "metadata": {},
     "output_type": "display_data"
    },
    {
     "data": {
      "text/html": [
       "\n",
       "    <style>\n",
       "        .wandb-row {\n",
       "            display: flex;\n",
       "            flex-direction: row;\n",
       "            flex-wrap: wrap;\n",
       "            justify-content: flex-start;\n",
       "            width: 100%;\n",
       "        }\n",
       "        .wandb-col {\n",
       "            display: flex;\n",
       "            flex-direction: column;\n",
       "            flex-basis: 100%;\n",
       "            flex: 1;\n",
       "            padding: 10px;\n",
       "        }\n",
       "    </style>\n",
       "<div class=\"wandb-row\"><div class=\"wandb-col\"><h3>Run history:</h3><br/><table class=\"wandb\"><tr><td>accuracy</td><td>▁</td></tr><tr><td>f1-score</td><td>▁</td></tr></table><br/></div><div class=\"wandb-col\"><h3>Run summary:</h3><br/><table class=\"wandb\"><tr><td>accuracy</td><td>0.9682</td></tr><tr><td>f1-score</td><td>0.72409</td></tr></table><br/></div></div>"
      ],
      "text/plain": [
       "<IPython.core.display.HTML object>"
      ]
     },
     "metadata": {},
     "output_type": "display_data"
    },
    {
     "data": {
      "text/html": [
       " View run <strong style=\"color:#cdcd00\">vivid-sweep-54</strong> at: <a href='https://wandb.ai/MasterarbeitBV/XGBoost_Hyperparameter_Tuning/runs/t9j91crx' target=\"_blank\">https://wandb.ai/MasterarbeitBV/XGBoost_Hyperparameter_Tuning/runs/t9j91crx</a><br/> View project at: <a href='https://wandb.ai/MasterarbeitBV/XGBoost_Hyperparameter_Tuning' target=\"_blank\">https://wandb.ai/MasterarbeitBV/XGBoost_Hyperparameter_Tuning</a><br/>Synced 5 W&B file(s), 0 media file(s), 0 artifact file(s) and 0 other file(s)"
      ],
      "text/plain": [
       "<IPython.core.display.HTML object>"
      ]
     },
     "metadata": {},
     "output_type": "display_data"
    },
    {
     "data": {
      "text/html": [
       "Find logs at: <code>.\\wandb\\run-20241201_143924-t9j91crx\\logs</code>"
      ],
      "text/plain": [
       "<IPython.core.display.HTML object>"
      ]
     },
     "metadata": {},
     "output_type": "display_data"
    },
    {
     "name": "stderr",
     "output_type": "stream",
     "text": [
      "\u001b[34m\u001b[1mwandb\u001b[0m: Agent Starting Run: 02fjqyeh with config:\n",
      "\u001b[34m\u001b[1mwandb\u001b[0m: \tBalancing: True\n",
      "\u001b[34m\u001b[1mwandb\u001b[0m: \tfeatures: ['x', 'y']\n",
      "\u001b[34m\u001b[1mwandb\u001b[0m: \tn_features_per_kernel: 4\n",
      "\u001b[34m\u001b[1mwandb\u001b[0m: \tnum_kernels: 2000\n",
      "\u001b[34m\u001b[1mwandb\u001b[0m: \trocket_transform: rocket\n",
      "\u001b[34m\u001b[1mwandb\u001b[0m: \tscaling: False\n",
      "\u001b[34m\u001b[1mwandb\u001b[0m: \twindow_size: 11\n"
     ]
    },
    {
     "data": {
      "text/html": [
       "Tracking run with wandb version 0.18.6"
      ],
      "text/plain": [
       "<IPython.core.display.HTML object>"
      ]
     },
     "metadata": {},
     "output_type": "display_data"
    },
    {
     "data": {
      "text/html": [
       "Run data is saved locally in <code>c:\\Users\\benev\\Documents\\Uni_Master\\Masterarbeit\\CODE\\8_tennis_analytics\\wandb\\run-20241201_144028-02fjqyeh</code>"
      ],
      "text/plain": [
       "<IPython.core.display.HTML object>"
      ]
     },
     "metadata": {},
     "output_type": "display_data"
    },
    {
     "data": {
      "text/html": [
       "Syncing run <strong><a href='https://wandb.ai/MasterarbeitBV/XGBoost_Hyperparameter_Tuning/runs/02fjqyeh' target=\"_blank\">hardy-sweep-55</a></strong> to <a href='https://wandb.ai/MasterarbeitBV/XGBoost_Hyperparameter_Tuning' target=\"_blank\">Weights & Biases</a> (<a href='https://wandb.me/developer-guide' target=\"_blank\">docs</a>)<br/>Sweep page: <a href='https://wandb.ai/MasterarbeitBV/XGBoost_Hyperparameter_Tuning/sweeps/oros33fx' target=\"_blank\">https://wandb.ai/MasterarbeitBV/XGBoost_Hyperparameter_Tuning/sweeps/oros33fx</a>"
      ],
      "text/plain": [
       "<IPython.core.display.HTML object>"
      ]
     },
     "metadata": {},
     "output_type": "display_data"
    },
    {
     "data": {
      "text/html": [
       " View project at <a href='https://wandb.ai/MasterarbeitBV/XGBoost_Hyperparameter_Tuning' target=\"_blank\">https://wandb.ai/MasterarbeitBV/XGBoost_Hyperparameter_Tuning</a>"
      ],
      "text/plain": [
       "<IPython.core.display.HTML object>"
      ]
     },
     "metadata": {},
     "output_type": "display_data"
    },
    {
     "data": {
      "text/html": [
       " View sweep at <a href='https://wandb.ai/MasterarbeitBV/XGBoost_Hyperparameter_Tuning/sweeps/oros33fx' target=\"_blank\">https://wandb.ai/MasterarbeitBV/XGBoost_Hyperparameter_Tuning/sweeps/oros33fx</a>"
      ],
      "text/plain": [
       "<IPython.core.display.HTML object>"
      ]
     },
     "metadata": {},
     "output_type": "display_data"
    },
    {
     "data": {
      "text/html": [
       " View run at <a href='https://wandb.ai/MasterarbeitBV/XGBoost_Hyperparameter_Tuning/runs/02fjqyeh' target=\"_blank\">https://wandb.ai/MasterarbeitBV/XGBoost_Hyperparameter_Tuning/runs/02fjqyeh</a>"
      ],
      "text/plain": [
       "<IPython.core.display.HTML object>"
      ]
     },
     "metadata": {},
     "output_type": "display_data"
    },
    {
     "data": {
      "text/html": [
       "\n",
       "    <style>\n",
       "        .wandb-row {\n",
       "            display: flex;\n",
       "            flex-direction: row;\n",
       "            flex-wrap: wrap;\n",
       "            justify-content: flex-start;\n",
       "            width: 100%;\n",
       "        }\n",
       "        .wandb-col {\n",
       "            display: flex;\n",
       "            flex-direction: column;\n",
       "            flex-basis: 100%;\n",
       "            flex: 1;\n",
       "            padding: 10px;\n",
       "        }\n",
       "    </style>\n",
       "<div class=\"wandb-row\"><div class=\"wandb-col\"><h3>Run history:</h3><br/><table class=\"wandb\"><tr><td>accuracy</td><td>▁</td></tr><tr><td>f1-score</td><td>▁</td></tr></table><br/></div><div class=\"wandb-col\"><h3>Run summary:</h3><br/><table class=\"wandb\"><tr><td>accuracy</td><td>0.93777</td></tr><tr><td>f1-score</td><td>0.70348</td></tr></table><br/></div></div>"
      ],
      "text/plain": [
       "<IPython.core.display.HTML object>"
      ]
     },
     "metadata": {},
     "output_type": "display_data"
    },
    {
     "data": {
      "text/html": [
       " View run <strong style=\"color:#cdcd00\">hardy-sweep-55</strong> at: <a href='https://wandb.ai/MasterarbeitBV/XGBoost_Hyperparameter_Tuning/runs/02fjqyeh' target=\"_blank\">https://wandb.ai/MasterarbeitBV/XGBoost_Hyperparameter_Tuning/runs/02fjqyeh</a><br/> View project at: <a href='https://wandb.ai/MasterarbeitBV/XGBoost_Hyperparameter_Tuning' target=\"_blank\">https://wandb.ai/MasterarbeitBV/XGBoost_Hyperparameter_Tuning</a><br/>Synced 5 W&B file(s), 0 media file(s), 0 artifact file(s) and 0 other file(s)"
      ],
      "text/plain": [
       "<IPython.core.display.HTML object>"
      ]
     },
     "metadata": {},
     "output_type": "display_data"
    },
    {
     "data": {
      "text/html": [
       "Find logs at: <code>.\\wandb\\run-20241201_144028-02fjqyeh\\logs</code>"
      ],
      "text/plain": [
       "<IPython.core.display.HTML object>"
      ]
     },
     "metadata": {},
     "output_type": "display_data"
    },
    {
     "name": "stderr",
     "output_type": "stream",
     "text": [
      "\u001b[34m\u001b[1mwandb\u001b[0m: Sweep Agent: Waiting for job.\n",
      "\u001b[34m\u001b[1mwandb\u001b[0m: Job received.\n",
      "\u001b[34m\u001b[1mwandb\u001b[0m: Agent Starting Run: x210uohe with config:\n",
      "\u001b[34m\u001b[1mwandb\u001b[0m: \tBalancing: False\n",
      "\u001b[34m\u001b[1mwandb\u001b[0m: \tfeatures: ['x', 'y']\n",
      "\u001b[34m\u001b[1mwandb\u001b[0m: \tn_features_per_kernel: 4\n",
      "\u001b[34m\u001b[1mwandb\u001b[0m: \tnum_kernels: 2000\n",
      "\u001b[34m\u001b[1mwandb\u001b[0m: \trocket_transform: rocket\n",
      "\u001b[34m\u001b[1mwandb\u001b[0m: \tscaling: False\n",
      "\u001b[34m\u001b[1mwandb\u001b[0m: \twindow_size: 11\n"
     ]
    },
    {
     "data": {
      "text/html": [
       "Tracking run with wandb version 0.18.6"
      ],
      "text/plain": [
       "<IPython.core.display.HTML object>"
      ]
     },
     "metadata": {},
     "output_type": "display_data"
    },
    {
     "data": {
      "text/html": [
       "Run data is saved locally in <code>c:\\Users\\benev\\Documents\\Uni_Master\\Masterarbeit\\CODE\\8_tennis_analytics\\wandb\\run-20241201_144239-x210uohe</code>"
      ],
      "text/plain": [
       "<IPython.core.display.HTML object>"
      ]
     },
     "metadata": {},
     "output_type": "display_data"
    },
    {
     "data": {
      "text/html": [
       "Syncing run <strong><a href='https://wandb.ai/MasterarbeitBV/XGBoost_Hyperparameter_Tuning/runs/x210uohe' target=\"_blank\">absurd-sweep-56</a></strong> to <a href='https://wandb.ai/MasterarbeitBV/XGBoost_Hyperparameter_Tuning' target=\"_blank\">Weights & Biases</a> (<a href='https://wandb.me/developer-guide' target=\"_blank\">docs</a>)<br/>Sweep page: <a href='https://wandb.ai/MasterarbeitBV/XGBoost_Hyperparameter_Tuning/sweeps/oros33fx' target=\"_blank\">https://wandb.ai/MasterarbeitBV/XGBoost_Hyperparameter_Tuning/sweeps/oros33fx</a>"
      ],
      "text/plain": [
       "<IPython.core.display.HTML object>"
      ]
     },
     "metadata": {},
     "output_type": "display_data"
    },
    {
     "data": {
      "text/html": [
       " View project at <a href='https://wandb.ai/MasterarbeitBV/XGBoost_Hyperparameter_Tuning' target=\"_blank\">https://wandb.ai/MasterarbeitBV/XGBoost_Hyperparameter_Tuning</a>"
      ],
      "text/plain": [
       "<IPython.core.display.HTML object>"
      ]
     },
     "metadata": {},
     "output_type": "display_data"
    },
    {
     "data": {
      "text/html": [
       " View sweep at <a href='https://wandb.ai/MasterarbeitBV/XGBoost_Hyperparameter_Tuning/sweeps/oros33fx' target=\"_blank\">https://wandb.ai/MasterarbeitBV/XGBoost_Hyperparameter_Tuning/sweeps/oros33fx</a>"
      ],
      "text/plain": [
       "<IPython.core.display.HTML object>"
      ]
     },
     "metadata": {},
     "output_type": "display_data"
    },
    {
     "data": {
      "text/html": [
       " View run at <a href='https://wandb.ai/MasterarbeitBV/XGBoost_Hyperparameter_Tuning/runs/x210uohe' target=\"_blank\">https://wandb.ai/MasterarbeitBV/XGBoost_Hyperparameter_Tuning/runs/x210uohe</a>"
      ],
      "text/plain": [
       "<IPython.core.display.HTML object>"
      ]
     },
     "metadata": {},
     "output_type": "display_data"
    },
    {
     "data": {
      "text/html": [
       "\n",
       "    <style>\n",
       "        .wandb-row {\n",
       "            display: flex;\n",
       "            flex-direction: row;\n",
       "            flex-wrap: wrap;\n",
       "            justify-content: flex-start;\n",
       "            width: 100%;\n",
       "        }\n",
       "        .wandb-col {\n",
       "            display: flex;\n",
       "            flex-direction: column;\n",
       "            flex-basis: 100%;\n",
       "            flex: 1;\n",
       "            padding: 10px;\n",
       "        }\n",
       "    </style>\n",
       "<div class=\"wandb-row\"><div class=\"wandb-col\"><h3>Run history:</h3><br/><table class=\"wandb\"><tr><td>accuracy</td><td>▁</td></tr><tr><td>f1-score</td><td>▁</td></tr></table><br/></div><div class=\"wandb-col\"><h3>Run summary:</h3><br/><table class=\"wandb\"><tr><td>accuracy</td><td>0.9682</td></tr><tr><td>f1-score</td><td>0.72409</td></tr></table><br/></div></div>"
      ],
      "text/plain": [
       "<IPython.core.display.HTML object>"
      ]
     },
     "metadata": {},
     "output_type": "display_data"
    },
    {
     "data": {
      "text/html": [
       " View run <strong style=\"color:#cdcd00\">absurd-sweep-56</strong> at: <a href='https://wandb.ai/MasterarbeitBV/XGBoost_Hyperparameter_Tuning/runs/x210uohe' target=\"_blank\">https://wandb.ai/MasterarbeitBV/XGBoost_Hyperparameter_Tuning/runs/x210uohe</a><br/> View project at: <a href='https://wandb.ai/MasterarbeitBV/XGBoost_Hyperparameter_Tuning' target=\"_blank\">https://wandb.ai/MasterarbeitBV/XGBoost_Hyperparameter_Tuning</a><br/>Synced 5 W&B file(s), 0 media file(s), 0 artifact file(s) and 0 other file(s)"
      ],
      "text/plain": [
       "<IPython.core.display.HTML object>"
      ]
     },
     "metadata": {},
     "output_type": "display_data"
    },
    {
     "data": {
      "text/html": [
       "Find logs at: <code>.\\wandb\\run-20241201_144239-x210uohe\\logs</code>"
      ],
      "text/plain": [
       "<IPython.core.display.HTML object>"
      ]
     },
     "metadata": {},
     "output_type": "display_data"
    },
    {
     "name": "stderr",
     "output_type": "stream",
     "text": [
      "\u001b[34m\u001b[1mwandb\u001b[0m: Agent Starting Run: wio30yz8 with config:\n",
      "\u001b[34m\u001b[1mwandb\u001b[0m: \tBalancing: False\n",
      "\u001b[34m\u001b[1mwandb\u001b[0m: \tfeatures: ['x', 'y', 'velocity']\n",
      "\u001b[34m\u001b[1mwandb\u001b[0m: \tn_features_per_kernel: 4\n",
      "\u001b[34m\u001b[1mwandb\u001b[0m: \tnum_kernels: 2000\n",
      "\u001b[34m\u001b[1mwandb\u001b[0m: \trocket_transform: rocket\n",
      "\u001b[34m\u001b[1mwandb\u001b[0m: \tscaling: True\n",
      "\u001b[34m\u001b[1mwandb\u001b[0m: \twindow_size: 11\n"
     ]
    },
    {
     "data": {
      "text/html": [
       "Tracking run with wandb version 0.18.6"
      ],
      "text/plain": [
       "<IPython.core.display.HTML object>"
      ]
     },
     "metadata": {},
     "output_type": "display_data"
    },
    {
     "data": {
      "text/html": [
       "Run data is saved locally in <code>c:\\Users\\benev\\Documents\\Uni_Master\\Masterarbeit\\CODE\\8_tennis_analytics\\wandb\\run-20241201_144345-wio30yz8</code>"
      ],
      "text/plain": [
       "<IPython.core.display.HTML object>"
      ]
     },
     "metadata": {},
     "output_type": "display_data"
    },
    {
     "data": {
      "text/html": [
       "Syncing run <strong><a href='https://wandb.ai/MasterarbeitBV/XGBoost_Hyperparameter_Tuning/runs/wio30yz8' target=\"_blank\">light-sweep-57</a></strong> to <a href='https://wandb.ai/MasterarbeitBV/XGBoost_Hyperparameter_Tuning' target=\"_blank\">Weights & Biases</a> (<a href='https://wandb.me/developer-guide' target=\"_blank\">docs</a>)<br/>Sweep page: <a href='https://wandb.ai/MasterarbeitBV/XGBoost_Hyperparameter_Tuning/sweeps/oros33fx' target=\"_blank\">https://wandb.ai/MasterarbeitBV/XGBoost_Hyperparameter_Tuning/sweeps/oros33fx</a>"
      ],
      "text/plain": [
       "<IPython.core.display.HTML object>"
      ]
     },
     "metadata": {},
     "output_type": "display_data"
    },
    {
     "data": {
      "text/html": [
       " View project at <a href='https://wandb.ai/MasterarbeitBV/XGBoost_Hyperparameter_Tuning' target=\"_blank\">https://wandb.ai/MasterarbeitBV/XGBoost_Hyperparameter_Tuning</a>"
      ],
      "text/plain": [
       "<IPython.core.display.HTML object>"
      ]
     },
     "metadata": {},
     "output_type": "display_data"
    },
    {
     "data": {
      "text/html": [
       " View sweep at <a href='https://wandb.ai/MasterarbeitBV/XGBoost_Hyperparameter_Tuning/sweeps/oros33fx' target=\"_blank\">https://wandb.ai/MasterarbeitBV/XGBoost_Hyperparameter_Tuning/sweeps/oros33fx</a>"
      ],
      "text/plain": [
       "<IPython.core.display.HTML object>"
      ]
     },
     "metadata": {},
     "output_type": "display_data"
    },
    {
     "data": {
      "text/html": [
       " View run at <a href='https://wandb.ai/MasterarbeitBV/XGBoost_Hyperparameter_Tuning/runs/wio30yz8' target=\"_blank\">https://wandb.ai/MasterarbeitBV/XGBoost_Hyperparameter_Tuning/runs/wio30yz8</a>"
      ],
      "text/plain": [
       "<IPython.core.display.HTML object>"
      ]
     },
     "metadata": {},
     "output_type": "display_data"
    },
    {
     "data": {
      "text/html": [
       "\n",
       "    <style>\n",
       "        .wandb-row {\n",
       "            display: flex;\n",
       "            flex-direction: row;\n",
       "            flex-wrap: wrap;\n",
       "            justify-content: flex-start;\n",
       "            width: 100%;\n",
       "        }\n",
       "        .wandb-col {\n",
       "            display: flex;\n",
       "            flex-direction: column;\n",
       "            flex-basis: 100%;\n",
       "            flex: 1;\n",
       "            padding: 10px;\n",
       "        }\n",
       "    </style>\n",
       "<div class=\"wandb-row\"><div class=\"wandb-col\"><h3>Run history:</h3><br/><table class=\"wandb\"><tr><td>accuracy</td><td>▁</td></tr><tr><td>f1-score</td><td>▁</td></tr></table><br/></div><div class=\"wandb-col\"><h3>Run summary:</h3><br/><table class=\"wandb\"><tr><td>accuracy</td><td>0.9682</td></tr><tr><td>f1-score</td><td>0.72626</td></tr></table><br/></div></div>"
      ],
      "text/plain": [
       "<IPython.core.display.HTML object>"
      ]
     },
     "metadata": {},
     "output_type": "display_data"
    },
    {
     "data": {
      "text/html": [
       " View run <strong style=\"color:#cdcd00\">light-sweep-57</strong> at: <a href='https://wandb.ai/MasterarbeitBV/XGBoost_Hyperparameter_Tuning/runs/wio30yz8' target=\"_blank\">https://wandb.ai/MasterarbeitBV/XGBoost_Hyperparameter_Tuning/runs/wio30yz8</a><br/> View project at: <a href='https://wandb.ai/MasterarbeitBV/XGBoost_Hyperparameter_Tuning' target=\"_blank\">https://wandb.ai/MasterarbeitBV/XGBoost_Hyperparameter_Tuning</a><br/>Synced 5 W&B file(s), 0 media file(s), 0 artifact file(s) and 0 other file(s)"
      ],
      "text/plain": [
       "<IPython.core.display.HTML object>"
      ]
     },
     "metadata": {},
     "output_type": "display_data"
    },
    {
     "data": {
      "text/html": [
       "Find logs at: <code>.\\wandb\\run-20241201_144345-wio30yz8\\logs</code>"
      ],
      "text/plain": [
       "<IPython.core.display.HTML object>"
      ]
     },
     "metadata": {},
     "output_type": "display_data"
    },
    {
     "name": "stderr",
     "output_type": "stream",
     "text": [
      "\u001b[34m\u001b[1mwandb\u001b[0m: Agent Starting Run: 6csdaa7t with config:\n",
      "\u001b[34m\u001b[1mwandb\u001b[0m: \tBalancing: True\n",
      "\u001b[34m\u001b[1mwandb\u001b[0m: \tfeatures: ['x', 'y']\n",
      "\u001b[34m\u001b[1mwandb\u001b[0m: \tn_features_per_kernel: 4\n",
      "\u001b[34m\u001b[1mwandb\u001b[0m: \tnum_kernels: 2000\n",
      "\u001b[34m\u001b[1mwandb\u001b[0m: \trocket_transform: rocket\n",
      "\u001b[34m\u001b[1mwandb\u001b[0m: \tscaling: True\n",
      "\u001b[34m\u001b[1mwandb\u001b[0m: \twindow_size: 7\n"
     ]
    },
    {
     "data": {
      "text/html": [
       "Tracking run with wandb version 0.18.6"
      ],
      "text/plain": [
       "<IPython.core.display.HTML object>"
      ]
     },
     "metadata": {},
     "output_type": "display_data"
    },
    {
     "data": {
      "text/html": [
       "Run data is saved locally in <code>c:\\Users\\benev\\Documents\\Uni_Master\\Masterarbeit\\CODE\\8_tennis_analytics\\wandb\\run-20241201_144459-6csdaa7t</code>"
      ],
      "text/plain": [
       "<IPython.core.display.HTML object>"
      ]
     },
     "metadata": {},
     "output_type": "display_data"
    },
    {
     "data": {
      "text/html": [
       "Syncing run <strong><a href='https://wandb.ai/MasterarbeitBV/XGBoost_Hyperparameter_Tuning/runs/6csdaa7t' target=\"_blank\">fallen-sweep-58</a></strong> to <a href='https://wandb.ai/MasterarbeitBV/XGBoost_Hyperparameter_Tuning' target=\"_blank\">Weights & Biases</a> (<a href='https://wandb.me/developer-guide' target=\"_blank\">docs</a>)<br/>Sweep page: <a href='https://wandb.ai/MasterarbeitBV/XGBoost_Hyperparameter_Tuning/sweeps/oros33fx' target=\"_blank\">https://wandb.ai/MasterarbeitBV/XGBoost_Hyperparameter_Tuning/sweeps/oros33fx</a>"
      ],
      "text/plain": [
       "<IPython.core.display.HTML object>"
      ]
     },
     "metadata": {},
     "output_type": "display_data"
    },
    {
     "data": {
      "text/html": [
       " View project at <a href='https://wandb.ai/MasterarbeitBV/XGBoost_Hyperparameter_Tuning' target=\"_blank\">https://wandb.ai/MasterarbeitBV/XGBoost_Hyperparameter_Tuning</a>"
      ],
      "text/plain": [
       "<IPython.core.display.HTML object>"
      ]
     },
     "metadata": {},
     "output_type": "display_data"
    },
    {
     "data": {
      "text/html": [
       " View sweep at <a href='https://wandb.ai/MasterarbeitBV/XGBoost_Hyperparameter_Tuning/sweeps/oros33fx' target=\"_blank\">https://wandb.ai/MasterarbeitBV/XGBoost_Hyperparameter_Tuning/sweeps/oros33fx</a>"
      ],
      "text/plain": [
       "<IPython.core.display.HTML object>"
      ]
     },
     "metadata": {},
     "output_type": "display_data"
    },
    {
     "data": {
      "text/html": [
       " View run at <a href='https://wandb.ai/MasterarbeitBV/XGBoost_Hyperparameter_Tuning/runs/6csdaa7t' target=\"_blank\">https://wandb.ai/MasterarbeitBV/XGBoost_Hyperparameter_Tuning/runs/6csdaa7t</a>"
      ],
      "text/plain": [
       "<IPython.core.display.HTML object>"
      ]
     },
     "metadata": {},
     "output_type": "display_data"
    },
    {
     "data": {
      "text/html": [
       "\n",
       "    <style>\n",
       "        .wandb-row {\n",
       "            display: flex;\n",
       "            flex-direction: row;\n",
       "            flex-wrap: wrap;\n",
       "            justify-content: flex-start;\n",
       "            width: 100%;\n",
       "        }\n",
       "        .wandb-col {\n",
       "            display: flex;\n",
       "            flex-direction: column;\n",
       "            flex-basis: 100%;\n",
       "            flex: 1;\n",
       "            padding: 10px;\n",
       "        }\n",
       "    </style>\n",
       "<div class=\"wandb-row\"><div class=\"wandb-col\"><h3>Run history:</h3><br/><table class=\"wandb\"><tr><td>accuracy</td><td>▁</td></tr><tr><td>f1-score</td><td>▁</td></tr></table><br/></div><div class=\"wandb-col\"><h3>Run summary:</h3><br/><table class=\"wandb\"><tr><td>accuracy</td><td>0.91417</td></tr><tr><td>f1-score</td><td>0.6506</td></tr></table><br/></div></div>"
      ],
      "text/plain": [
       "<IPython.core.display.HTML object>"
      ]
     },
     "metadata": {},
     "output_type": "display_data"
    },
    {
     "data": {
      "text/html": [
       " View run <strong style=\"color:#cdcd00\">fallen-sweep-58</strong> at: <a href='https://wandb.ai/MasterarbeitBV/XGBoost_Hyperparameter_Tuning/runs/6csdaa7t' target=\"_blank\">https://wandb.ai/MasterarbeitBV/XGBoost_Hyperparameter_Tuning/runs/6csdaa7t</a><br/> View project at: <a href='https://wandb.ai/MasterarbeitBV/XGBoost_Hyperparameter_Tuning' target=\"_blank\">https://wandb.ai/MasterarbeitBV/XGBoost_Hyperparameter_Tuning</a><br/>Synced 5 W&B file(s), 0 media file(s), 0 artifact file(s) and 0 other file(s)"
      ],
      "text/plain": [
       "<IPython.core.display.HTML object>"
      ]
     },
     "metadata": {},
     "output_type": "display_data"
    },
    {
     "data": {
      "text/html": [
       "Find logs at: <code>.\\wandb\\run-20241201_144459-6csdaa7t\\logs</code>"
      ],
      "text/plain": [
       "<IPython.core.display.HTML object>"
      ]
     },
     "metadata": {},
     "output_type": "display_data"
    },
    {
     "name": "stderr",
     "output_type": "stream",
     "text": [
      "\u001b[34m\u001b[1mwandb\u001b[0m: Agent Starting Run: 6ty1wqml with config:\n",
      "\u001b[34m\u001b[1mwandb\u001b[0m: \tBalancing: True\n",
      "\u001b[34m\u001b[1mwandb\u001b[0m: \tfeatures: ['x', 'y']\n",
      "\u001b[34m\u001b[1mwandb\u001b[0m: \tn_features_per_kernel: 4\n",
      "\u001b[34m\u001b[1mwandb\u001b[0m: \tnum_kernels: 1000\n",
      "\u001b[34m\u001b[1mwandb\u001b[0m: \trocket_transform: rocket\n",
      "\u001b[34m\u001b[1mwandb\u001b[0m: \tscaling: False\n",
      "\u001b[34m\u001b[1mwandb\u001b[0m: \twindow_size: 7\n"
     ]
    },
    {
     "data": {
      "text/html": [
       "Tracking run with wandb version 0.18.6"
      ],
      "text/plain": [
       "<IPython.core.display.HTML object>"
      ]
     },
     "metadata": {},
     "output_type": "display_data"
    },
    {
     "data": {
      "text/html": [
       "Run data is saved locally in <code>c:\\Users\\benev\\Documents\\Uni_Master\\Masterarbeit\\CODE\\8_tennis_analytics\\wandb\\run-20241201_144707-6ty1wqml</code>"
      ],
      "text/plain": [
       "<IPython.core.display.HTML object>"
      ]
     },
     "metadata": {},
     "output_type": "display_data"
    },
    {
     "data": {
      "text/html": [
       "Syncing run <strong><a href='https://wandb.ai/MasterarbeitBV/XGBoost_Hyperparameter_Tuning/runs/6ty1wqml' target=\"_blank\">wandering-sweep-59</a></strong> to <a href='https://wandb.ai/MasterarbeitBV/XGBoost_Hyperparameter_Tuning' target=\"_blank\">Weights & Biases</a> (<a href='https://wandb.me/developer-guide' target=\"_blank\">docs</a>)<br/>Sweep page: <a href='https://wandb.ai/MasterarbeitBV/XGBoost_Hyperparameter_Tuning/sweeps/oros33fx' target=\"_blank\">https://wandb.ai/MasterarbeitBV/XGBoost_Hyperparameter_Tuning/sweeps/oros33fx</a>"
      ],
      "text/plain": [
       "<IPython.core.display.HTML object>"
      ]
     },
     "metadata": {},
     "output_type": "display_data"
    },
    {
     "data": {
      "text/html": [
       " View project at <a href='https://wandb.ai/MasterarbeitBV/XGBoost_Hyperparameter_Tuning' target=\"_blank\">https://wandb.ai/MasterarbeitBV/XGBoost_Hyperparameter_Tuning</a>"
      ],
      "text/plain": [
       "<IPython.core.display.HTML object>"
      ]
     },
     "metadata": {},
     "output_type": "display_data"
    },
    {
     "data": {
      "text/html": [
       " View sweep at <a href='https://wandb.ai/MasterarbeitBV/XGBoost_Hyperparameter_Tuning/sweeps/oros33fx' target=\"_blank\">https://wandb.ai/MasterarbeitBV/XGBoost_Hyperparameter_Tuning/sweeps/oros33fx</a>"
      ],
      "text/plain": [
       "<IPython.core.display.HTML object>"
      ]
     },
     "metadata": {},
     "output_type": "display_data"
    },
    {
     "data": {
      "text/html": [
       " View run at <a href='https://wandb.ai/MasterarbeitBV/XGBoost_Hyperparameter_Tuning/runs/6ty1wqml' target=\"_blank\">https://wandb.ai/MasterarbeitBV/XGBoost_Hyperparameter_Tuning/runs/6ty1wqml</a>"
      ],
      "text/plain": [
       "<IPython.core.display.HTML object>"
      ]
     },
     "metadata": {},
     "output_type": "display_data"
    },
    {
     "data": {
      "text/html": [
       "\n",
       "    <style>\n",
       "        .wandb-row {\n",
       "            display: flex;\n",
       "            flex-direction: row;\n",
       "            flex-wrap: wrap;\n",
       "            justify-content: flex-start;\n",
       "            width: 100%;\n",
       "        }\n",
       "        .wandb-col {\n",
       "            display: flex;\n",
       "            flex-direction: column;\n",
       "            flex-basis: 100%;\n",
       "            flex: 1;\n",
       "            padding: 10px;\n",
       "        }\n",
       "    </style>\n",
       "<div class=\"wandb-row\"><div class=\"wandb-col\"><h3>Run history:</h3><br/><table class=\"wandb\"><tr><td>accuracy</td><td>▁</td></tr><tr><td>f1-score</td><td>▁</td></tr></table><br/></div><div class=\"wandb-col\"><h3>Run summary:</h3><br/><table class=\"wandb\"><tr><td>accuracy</td><td>0.92083</td></tr><tr><td>f1-score</td><td>0.65999</td></tr></table><br/></div></div>"
      ],
      "text/plain": [
       "<IPython.core.display.HTML object>"
      ]
     },
     "metadata": {},
     "output_type": "display_data"
    },
    {
     "data": {
      "text/html": [
       " View run <strong style=\"color:#cdcd00\">wandering-sweep-59</strong> at: <a href='https://wandb.ai/MasterarbeitBV/XGBoost_Hyperparameter_Tuning/runs/6ty1wqml' target=\"_blank\">https://wandb.ai/MasterarbeitBV/XGBoost_Hyperparameter_Tuning/runs/6ty1wqml</a><br/> View project at: <a href='https://wandb.ai/MasterarbeitBV/XGBoost_Hyperparameter_Tuning' target=\"_blank\">https://wandb.ai/MasterarbeitBV/XGBoost_Hyperparameter_Tuning</a><br/>Synced 5 W&B file(s), 0 media file(s), 0 artifact file(s) and 0 other file(s)"
      ],
      "text/plain": [
       "<IPython.core.display.HTML object>"
      ]
     },
     "metadata": {},
     "output_type": "display_data"
    },
    {
     "data": {
      "text/html": [
       "Find logs at: <code>.\\wandb\\run-20241201_144707-6ty1wqml\\logs</code>"
      ],
      "text/plain": [
       "<IPython.core.display.HTML object>"
      ]
     },
     "metadata": {},
     "output_type": "display_data"
    },
    {
     "name": "stderr",
     "output_type": "stream",
     "text": [
      "\u001b[34m\u001b[1mwandb\u001b[0m: Agent Starting Run: lrf2gpo1 with config:\n",
      "\u001b[34m\u001b[1mwandb\u001b[0m: \tBalancing: True\n",
      "\u001b[34m\u001b[1mwandb\u001b[0m: \tfeatures: ['x', 'y']\n",
      "\u001b[34m\u001b[1mwandb\u001b[0m: \tn_features_per_kernel: 2\n",
      "\u001b[34m\u001b[1mwandb\u001b[0m: \tnum_kernels: 500\n",
      "\u001b[34m\u001b[1mwandb\u001b[0m: \trocket_transform: rocket\n",
      "\u001b[34m\u001b[1mwandb\u001b[0m: \tscaling: False\n",
      "\u001b[34m\u001b[1mwandb\u001b[0m: \twindow_size: 7\n"
     ]
    },
    {
     "data": {
      "text/html": [
       "Tracking run with wandb version 0.18.6"
      ],
      "text/plain": [
       "<IPython.core.display.HTML object>"
      ]
     },
     "metadata": {},
     "output_type": "display_data"
    },
    {
     "data": {
      "text/html": [
       "Run data is saved locally in <code>c:\\Users\\benev\\Documents\\Uni_Master\\Masterarbeit\\CODE\\8_tennis_analytics\\wandb\\run-20241201_144756-lrf2gpo1</code>"
      ],
      "text/plain": [
       "<IPython.core.display.HTML object>"
      ]
     },
     "metadata": {},
     "output_type": "display_data"
    },
    {
     "data": {
      "text/html": [
       "Syncing run <strong><a href='https://wandb.ai/MasterarbeitBV/XGBoost_Hyperparameter_Tuning/runs/lrf2gpo1' target=\"_blank\">smart-sweep-60</a></strong> to <a href='https://wandb.ai/MasterarbeitBV/XGBoost_Hyperparameter_Tuning' target=\"_blank\">Weights & Biases</a> (<a href='https://wandb.me/developer-guide' target=\"_blank\">docs</a>)<br/>Sweep page: <a href='https://wandb.ai/MasterarbeitBV/XGBoost_Hyperparameter_Tuning/sweeps/oros33fx' target=\"_blank\">https://wandb.ai/MasterarbeitBV/XGBoost_Hyperparameter_Tuning/sweeps/oros33fx</a>"
      ],
      "text/plain": [
       "<IPython.core.display.HTML object>"
      ]
     },
     "metadata": {},
     "output_type": "display_data"
    },
    {
     "data": {
      "text/html": [
       " View project at <a href='https://wandb.ai/MasterarbeitBV/XGBoost_Hyperparameter_Tuning' target=\"_blank\">https://wandb.ai/MasterarbeitBV/XGBoost_Hyperparameter_Tuning</a>"
      ],
      "text/plain": [
       "<IPython.core.display.HTML object>"
      ]
     },
     "metadata": {},
     "output_type": "display_data"
    },
    {
     "data": {
      "text/html": [
       " View sweep at <a href='https://wandb.ai/MasterarbeitBV/XGBoost_Hyperparameter_Tuning/sweeps/oros33fx' target=\"_blank\">https://wandb.ai/MasterarbeitBV/XGBoost_Hyperparameter_Tuning/sweeps/oros33fx</a>"
      ],
      "text/plain": [
       "<IPython.core.display.HTML object>"
      ]
     },
     "metadata": {},
     "output_type": "display_data"
    },
    {
     "data": {
      "text/html": [
       " View run at <a href='https://wandb.ai/MasterarbeitBV/XGBoost_Hyperparameter_Tuning/runs/lrf2gpo1' target=\"_blank\">https://wandb.ai/MasterarbeitBV/XGBoost_Hyperparameter_Tuning/runs/lrf2gpo1</a>"
      ],
      "text/plain": [
       "<IPython.core.display.HTML object>"
      ]
     },
     "metadata": {},
     "output_type": "display_data"
    },
    {
     "data": {
      "text/html": [
       "\n",
       "    <style>\n",
       "        .wandb-row {\n",
       "            display: flex;\n",
       "            flex-direction: row;\n",
       "            flex-wrap: wrap;\n",
       "            justify-content: flex-start;\n",
       "            width: 100%;\n",
       "        }\n",
       "        .wandb-col {\n",
       "            display: flex;\n",
       "            flex-direction: column;\n",
       "            flex-basis: 100%;\n",
       "            flex: 1;\n",
       "            padding: 10px;\n",
       "        }\n",
       "    </style>\n",
       "<div class=\"wandb-row\"><div class=\"wandb-col\"><h3>Run history:</h3><br/><table class=\"wandb\"><tr><td>accuracy</td><td>▁</td></tr><tr><td>f1-score</td><td>▁</td></tr></table><br/></div><div class=\"wandb-col\"><h3>Run summary:</h3><br/><table class=\"wandb\"><tr><td>accuracy</td><td>0.90238</td></tr><tr><td>f1-score</td><td>0.62462</td></tr></table><br/></div></div>"
      ],
      "text/plain": [
       "<IPython.core.display.HTML object>"
      ]
     },
     "metadata": {},
     "output_type": "display_data"
    },
    {
     "data": {
      "text/html": [
       " View run <strong style=\"color:#cdcd00\">smart-sweep-60</strong> at: <a href='https://wandb.ai/MasterarbeitBV/XGBoost_Hyperparameter_Tuning/runs/lrf2gpo1' target=\"_blank\">https://wandb.ai/MasterarbeitBV/XGBoost_Hyperparameter_Tuning/runs/lrf2gpo1</a><br/> View project at: <a href='https://wandb.ai/MasterarbeitBV/XGBoost_Hyperparameter_Tuning' target=\"_blank\">https://wandb.ai/MasterarbeitBV/XGBoost_Hyperparameter_Tuning</a><br/>Synced 5 W&B file(s), 0 media file(s), 0 artifact file(s) and 0 other file(s)"
      ],
      "text/plain": [
       "<IPython.core.display.HTML object>"
      ]
     },
     "metadata": {},
     "output_type": "display_data"
    },
    {
     "data": {
      "text/html": [
       "Find logs at: <code>.\\wandb\\run-20241201_144756-lrf2gpo1\\logs</code>"
      ],
      "text/plain": [
       "<IPython.core.display.HTML object>"
      ]
     },
     "metadata": {},
     "output_type": "display_data"
    },
    {
     "name": "stderr",
     "output_type": "stream",
     "text": [
      "\u001b[34m\u001b[1mwandb\u001b[0m: Agent Starting Run: 5glabo3k with config:\n",
      "\u001b[34m\u001b[1mwandb\u001b[0m: \tBalancing: True\n",
      "\u001b[34m\u001b[1mwandb\u001b[0m: \tfeatures: ['x', 'y']\n",
      "\u001b[34m\u001b[1mwandb\u001b[0m: \tn_features_per_kernel: 2\n",
      "\u001b[34m\u001b[1mwandb\u001b[0m: \tnum_kernels: 2000\n",
      "\u001b[34m\u001b[1mwandb\u001b[0m: \trocket_transform: rocket\n",
      "\u001b[34m\u001b[1mwandb\u001b[0m: \tscaling: False\n",
      "\u001b[34m\u001b[1mwandb\u001b[0m: \twindow_size: 7\n"
     ]
    },
    {
     "data": {
      "text/html": [
       "Tracking run with wandb version 0.18.6"
      ],
      "text/plain": [
       "<IPython.core.display.HTML object>"
      ]
     },
     "metadata": {},
     "output_type": "display_data"
    },
    {
     "data": {
      "text/html": [
       "Run data is saved locally in <code>c:\\Users\\benev\\Documents\\Uni_Master\\Masterarbeit\\CODE\\8_tennis_analytics\\wandb\\run-20241201_144824-5glabo3k</code>"
      ],
      "text/plain": [
       "<IPython.core.display.HTML object>"
      ]
     },
     "metadata": {},
     "output_type": "display_data"
    },
    {
     "data": {
      "text/html": [
       "Syncing run <strong><a href='https://wandb.ai/MasterarbeitBV/XGBoost_Hyperparameter_Tuning/runs/5glabo3k' target=\"_blank\">vivid-sweep-61</a></strong> to <a href='https://wandb.ai/MasterarbeitBV/XGBoost_Hyperparameter_Tuning' target=\"_blank\">Weights & Biases</a> (<a href='https://wandb.me/developer-guide' target=\"_blank\">docs</a>)<br/>Sweep page: <a href='https://wandb.ai/MasterarbeitBV/XGBoost_Hyperparameter_Tuning/sweeps/oros33fx' target=\"_blank\">https://wandb.ai/MasterarbeitBV/XGBoost_Hyperparameter_Tuning/sweeps/oros33fx</a>"
      ],
      "text/plain": [
       "<IPython.core.display.HTML object>"
      ]
     },
     "metadata": {},
     "output_type": "display_data"
    },
    {
     "data": {
      "text/html": [
       " View project at <a href='https://wandb.ai/MasterarbeitBV/XGBoost_Hyperparameter_Tuning' target=\"_blank\">https://wandb.ai/MasterarbeitBV/XGBoost_Hyperparameter_Tuning</a>"
      ],
      "text/plain": [
       "<IPython.core.display.HTML object>"
      ]
     },
     "metadata": {},
     "output_type": "display_data"
    },
    {
     "data": {
      "text/html": [
       " View sweep at <a href='https://wandb.ai/MasterarbeitBV/XGBoost_Hyperparameter_Tuning/sweeps/oros33fx' target=\"_blank\">https://wandb.ai/MasterarbeitBV/XGBoost_Hyperparameter_Tuning/sweeps/oros33fx</a>"
      ],
      "text/plain": [
       "<IPython.core.display.HTML object>"
      ]
     },
     "metadata": {},
     "output_type": "display_data"
    },
    {
     "data": {
      "text/html": [
       " View run at <a href='https://wandb.ai/MasterarbeitBV/XGBoost_Hyperparameter_Tuning/runs/5glabo3k' target=\"_blank\">https://wandb.ai/MasterarbeitBV/XGBoost_Hyperparameter_Tuning/runs/5glabo3k</a>"
      ],
      "text/plain": [
       "<IPython.core.display.HTML object>"
      ]
     },
     "metadata": {},
     "output_type": "display_data"
    },
    {
     "data": {
      "text/html": [
       "\n",
       "    <style>\n",
       "        .wandb-row {\n",
       "            display: flex;\n",
       "            flex-direction: row;\n",
       "            flex-wrap: wrap;\n",
       "            justify-content: flex-start;\n",
       "            width: 100%;\n",
       "        }\n",
       "        .wandb-col {\n",
       "            display: flex;\n",
       "            flex-direction: column;\n",
       "            flex-basis: 100%;\n",
       "            flex: 1;\n",
       "            padding: 10px;\n",
       "        }\n",
       "    </style>\n",
       "<div class=\"wandb-row\"><div class=\"wandb-col\"><h3>Run history:</h3><br/><table class=\"wandb\"><tr><td>accuracy</td><td>▁</td></tr><tr><td>f1-score</td><td>▁</td></tr></table><br/></div><div class=\"wandb-col\"><h3>Run summary:</h3><br/><table class=\"wandb\"><tr><td>accuracy</td><td>0.92288</td></tr><tr><td>f1-score</td><td>0.66206</td></tr></table><br/></div></div>"
      ],
      "text/plain": [
       "<IPython.core.display.HTML object>"
      ]
     },
     "metadata": {},
     "output_type": "display_data"
    },
    {
     "data": {
      "text/html": [
       " View run <strong style=\"color:#cdcd00\">vivid-sweep-61</strong> at: <a href='https://wandb.ai/MasterarbeitBV/XGBoost_Hyperparameter_Tuning/runs/5glabo3k' target=\"_blank\">https://wandb.ai/MasterarbeitBV/XGBoost_Hyperparameter_Tuning/runs/5glabo3k</a><br/> View project at: <a href='https://wandb.ai/MasterarbeitBV/XGBoost_Hyperparameter_Tuning' target=\"_blank\">https://wandb.ai/MasterarbeitBV/XGBoost_Hyperparameter_Tuning</a><br/>Synced 5 W&B file(s), 0 media file(s), 0 artifact file(s) and 0 other file(s)"
      ],
      "text/plain": [
       "<IPython.core.display.HTML object>"
      ]
     },
     "metadata": {},
     "output_type": "display_data"
    },
    {
     "data": {
      "text/html": [
       "Find logs at: <code>.\\wandb\\run-20241201_144824-5glabo3k\\logs</code>"
      ],
      "text/plain": [
       "<IPython.core.display.HTML object>"
      ]
     },
     "metadata": {},
     "output_type": "display_data"
    },
    {
     "name": "stderr",
     "output_type": "stream",
     "text": [
      "\u001b[34m\u001b[1mwandb\u001b[0m: Agent Starting Run: 1s2cfkl6 with config:\n",
      "\u001b[34m\u001b[1mwandb\u001b[0m: \tBalancing: True\n",
      "\u001b[34m\u001b[1mwandb\u001b[0m: \tfeatures: ['x', 'y', 'velocity']\n",
      "\u001b[34m\u001b[1mwandb\u001b[0m: \tn_features_per_kernel: 4\n",
      "\u001b[34m\u001b[1mwandb\u001b[0m: \tnum_kernels: 2000\n",
      "\u001b[34m\u001b[1mwandb\u001b[0m: \trocket_transform: rocket\n",
      "\u001b[34m\u001b[1mwandb\u001b[0m: \tscaling: False\n",
      "\u001b[34m\u001b[1mwandb\u001b[0m: \twindow_size: 11\n"
     ]
    },
    {
     "data": {
      "text/html": [
       "Tracking run with wandb version 0.18.6"
      ],
      "text/plain": [
       "<IPython.core.display.HTML object>"
      ]
     },
     "metadata": {},
     "output_type": "display_data"
    },
    {
     "data": {
      "text/html": [
       "Run data is saved locally in <code>c:\\Users\\benev\\Documents\\Uni_Master\\Masterarbeit\\CODE\\8_tennis_analytics\\wandb\\run-20241201_145032-1s2cfkl6</code>"
      ],
      "text/plain": [
       "<IPython.core.display.HTML object>"
      ]
     },
     "metadata": {},
     "output_type": "display_data"
    },
    {
     "data": {
      "text/html": [
       "Syncing run <strong><a href='https://wandb.ai/MasterarbeitBV/XGBoost_Hyperparameter_Tuning/runs/1s2cfkl6' target=\"_blank\">likely-sweep-62</a></strong> to <a href='https://wandb.ai/MasterarbeitBV/XGBoost_Hyperparameter_Tuning' target=\"_blank\">Weights & Biases</a> (<a href='https://wandb.me/developer-guide' target=\"_blank\">docs</a>)<br/>Sweep page: <a href='https://wandb.ai/MasterarbeitBV/XGBoost_Hyperparameter_Tuning/sweeps/oros33fx' target=\"_blank\">https://wandb.ai/MasterarbeitBV/XGBoost_Hyperparameter_Tuning/sweeps/oros33fx</a>"
      ],
      "text/plain": [
       "<IPython.core.display.HTML object>"
      ]
     },
     "metadata": {},
     "output_type": "display_data"
    },
    {
     "data": {
      "text/html": [
       " View project at <a href='https://wandb.ai/MasterarbeitBV/XGBoost_Hyperparameter_Tuning' target=\"_blank\">https://wandb.ai/MasterarbeitBV/XGBoost_Hyperparameter_Tuning</a>"
      ],
      "text/plain": [
       "<IPython.core.display.HTML object>"
      ]
     },
     "metadata": {},
     "output_type": "display_data"
    },
    {
     "data": {
      "text/html": [
       " View sweep at <a href='https://wandb.ai/MasterarbeitBV/XGBoost_Hyperparameter_Tuning/sweeps/oros33fx' target=\"_blank\">https://wandb.ai/MasterarbeitBV/XGBoost_Hyperparameter_Tuning/sweeps/oros33fx</a>"
      ],
      "text/plain": [
       "<IPython.core.display.HTML object>"
      ]
     },
     "metadata": {},
     "output_type": "display_data"
    },
    {
     "data": {
      "text/html": [
       " View run at <a href='https://wandb.ai/MasterarbeitBV/XGBoost_Hyperparameter_Tuning/runs/1s2cfkl6' target=\"_blank\">https://wandb.ai/MasterarbeitBV/XGBoost_Hyperparameter_Tuning/runs/1s2cfkl6</a>"
      ],
      "text/plain": [
       "<IPython.core.display.HTML object>"
      ]
     },
     "metadata": {},
     "output_type": "display_data"
    },
    {
     "data": {
      "text/html": [
       "\n",
       "    <style>\n",
       "        .wandb-row {\n",
       "            display: flex;\n",
       "            flex-direction: row;\n",
       "            flex-wrap: wrap;\n",
       "            justify-content: flex-start;\n",
       "            width: 100%;\n",
       "        }\n",
       "        .wandb-col {\n",
       "            display: flex;\n",
       "            flex-direction: column;\n",
       "            flex-basis: 100%;\n",
       "            flex: 1;\n",
       "            padding: 10px;\n",
       "        }\n",
       "    </style>\n",
       "<div class=\"wandb-row\"><div class=\"wandb-col\"><h3>Run history:</h3><br/><table class=\"wandb\"><tr><td>accuracy</td><td>▁</td></tr><tr><td>f1-score</td><td>▁</td></tr></table><br/></div><div class=\"wandb-col\"><h3>Run summary:</h3><br/><table class=\"wandb\"><tr><td>accuracy</td><td>0.93942</td></tr><tr><td>f1-score</td><td>0.70799</td></tr></table><br/></div></div>"
      ],
      "text/plain": [
       "<IPython.core.display.HTML object>"
      ]
     },
     "metadata": {},
     "output_type": "display_data"
    },
    {
     "data": {
      "text/html": [
       " View run <strong style=\"color:#cdcd00\">likely-sweep-62</strong> at: <a href='https://wandb.ai/MasterarbeitBV/XGBoost_Hyperparameter_Tuning/runs/1s2cfkl6' target=\"_blank\">https://wandb.ai/MasterarbeitBV/XGBoost_Hyperparameter_Tuning/runs/1s2cfkl6</a><br/> View project at: <a href='https://wandb.ai/MasterarbeitBV/XGBoost_Hyperparameter_Tuning' target=\"_blank\">https://wandb.ai/MasterarbeitBV/XGBoost_Hyperparameter_Tuning</a><br/>Synced 5 W&B file(s), 0 media file(s), 0 artifact file(s) and 0 other file(s)"
      ],
      "text/plain": [
       "<IPython.core.display.HTML object>"
      ]
     },
     "metadata": {},
     "output_type": "display_data"
    },
    {
     "data": {
      "text/html": [
       "Find logs at: <code>.\\wandb\\run-20241201_145032-1s2cfkl6\\logs</code>"
      ],
      "text/plain": [
       "<IPython.core.display.HTML object>"
      ]
     },
     "metadata": {},
     "output_type": "display_data"
    },
    {
     "name": "stderr",
     "output_type": "stream",
     "text": [
      "\u001b[34m\u001b[1mwandb\u001b[0m: Agent Starting Run: rgo0auz5 with config:\n",
      "\u001b[34m\u001b[1mwandb\u001b[0m: \tBalancing: False\n",
      "\u001b[34m\u001b[1mwandb\u001b[0m: \tfeatures: ['x', 'y']\n",
      "\u001b[34m\u001b[1mwandb\u001b[0m: \tn_features_per_kernel: 2\n",
      "\u001b[34m\u001b[1mwandb\u001b[0m: \tnum_kernels: 2000\n",
      "\u001b[34m\u001b[1mwandb\u001b[0m: \trocket_transform: rocket\n",
      "\u001b[34m\u001b[1mwandb\u001b[0m: \tscaling: False\n",
      "\u001b[34m\u001b[1mwandb\u001b[0m: \twindow_size: 7\n"
     ]
    },
    {
     "data": {
      "text/html": [
       "Tracking run with wandb version 0.18.6"
      ],
      "text/plain": [
       "<IPython.core.display.HTML object>"
      ]
     },
     "metadata": {},
     "output_type": "display_data"
    },
    {
     "data": {
      "text/html": [
       "Run data is saved locally in <code>c:\\Users\\benev\\Documents\\Uni_Master\\Masterarbeit\\CODE\\8_tennis_analytics\\wandb\\run-20241201_145246-rgo0auz5</code>"
      ],
      "text/plain": [
       "<IPython.core.display.HTML object>"
      ]
     },
     "metadata": {},
     "output_type": "display_data"
    },
    {
     "data": {
      "text/html": [
       "Syncing run <strong><a href='https://wandb.ai/MasterarbeitBV/XGBoost_Hyperparameter_Tuning/runs/rgo0auz5' target=\"_blank\">wise-sweep-63</a></strong> to <a href='https://wandb.ai/MasterarbeitBV/XGBoost_Hyperparameter_Tuning' target=\"_blank\">Weights & Biases</a> (<a href='https://wandb.me/developer-guide' target=\"_blank\">docs</a>)<br/>Sweep page: <a href='https://wandb.ai/MasterarbeitBV/XGBoost_Hyperparameter_Tuning/sweeps/oros33fx' target=\"_blank\">https://wandb.ai/MasterarbeitBV/XGBoost_Hyperparameter_Tuning/sweeps/oros33fx</a>"
      ],
      "text/plain": [
       "<IPython.core.display.HTML object>"
      ]
     },
     "metadata": {},
     "output_type": "display_data"
    },
    {
     "data": {
      "text/html": [
       " View project at <a href='https://wandb.ai/MasterarbeitBV/XGBoost_Hyperparameter_Tuning' target=\"_blank\">https://wandb.ai/MasterarbeitBV/XGBoost_Hyperparameter_Tuning</a>"
      ],
      "text/plain": [
       "<IPython.core.display.HTML object>"
      ]
     },
     "metadata": {},
     "output_type": "display_data"
    },
    {
     "data": {
      "text/html": [
       " View sweep at <a href='https://wandb.ai/MasterarbeitBV/XGBoost_Hyperparameter_Tuning/sweeps/oros33fx' target=\"_blank\">https://wandb.ai/MasterarbeitBV/XGBoost_Hyperparameter_Tuning/sweeps/oros33fx</a>"
      ],
      "text/plain": [
       "<IPython.core.display.HTML object>"
      ]
     },
     "metadata": {},
     "output_type": "display_data"
    },
    {
     "data": {
      "text/html": [
       " View run at <a href='https://wandb.ai/MasterarbeitBV/XGBoost_Hyperparameter_Tuning/runs/rgo0auz5' target=\"_blank\">https://wandb.ai/MasterarbeitBV/XGBoost_Hyperparameter_Tuning/runs/rgo0auz5</a>"
      ],
      "text/plain": [
       "<IPython.core.display.HTML object>"
      ]
     },
     "metadata": {},
     "output_type": "display_data"
    },
    {
     "data": {
      "text/html": [
       "\n",
       "    <style>\n",
       "        .wandb-row {\n",
       "            display: flex;\n",
       "            flex-direction: row;\n",
       "            flex-wrap: wrap;\n",
       "            justify-content: flex-start;\n",
       "            width: 100%;\n",
       "        }\n",
       "        .wandb-col {\n",
       "            display: flex;\n",
       "            flex-direction: column;\n",
       "            flex-basis: 100%;\n",
       "            flex: 1;\n",
       "            padding: 10px;\n",
       "        }\n",
       "    </style>\n",
       "<div class=\"wandb-row\"><div class=\"wandb-col\"><h3>Run history:</h3><br/><table class=\"wandb\"><tr><td>accuracy</td><td>▁</td></tr><tr><td>f1-score</td><td>▁</td></tr></table><br/></div><div class=\"wandb-col\"><h3>Run summary:</h3><br/><table class=\"wandb\"><tr><td>accuracy</td><td>0.96387</td></tr><tr><td>f1-score</td><td>0.68542</td></tr></table><br/></div></div>"
      ],
      "text/plain": [
       "<IPython.core.display.HTML object>"
      ]
     },
     "metadata": {},
     "output_type": "display_data"
    },
    {
     "data": {
      "text/html": [
       " View run <strong style=\"color:#cdcd00\">wise-sweep-63</strong> at: <a href='https://wandb.ai/MasterarbeitBV/XGBoost_Hyperparameter_Tuning/runs/rgo0auz5' target=\"_blank\">https://wandb.ai/MasterarbeitBV/XGBoost_Hyperparameter_Tuning/runs/rgo0auz5</a><br/> View project at: <a href='https://wandb.ai/MasterarbeitBV/XGBoost_Hyperparameter_Tuning' target=\"_blank\">https://wandb.ai/MasterarbeitBV/XGBoost_Hyperparameter_Tuning</a><br/>Synced 5 W&B file(s), 0 media file(s), 0 artifact file(s) and 0 other file(s)"
      ],
      "text/plain": [
       "<IPython.core.display.HTML object>"
      ]
     },
     "metadata": {},
     "output_type": "display_data"
    },
    {
     "data": {
      "text/html": [
       "Find logs at: <code>.\\wandb\\run-20241201_145246-rgo0auz5\\logs</code>"
      ],
      "text/plain": [
       "<IPython.core.display.HTML object>"
      ]
     },
     "metadata": {},
     "output_type": "display_data"
    },
    {
     "name": "stderr",
     "output_type": "stream",
     "text": [
      "\u001b[34m\u001b[1mwandb\u001b[0m: Agent Starting Run: 9oudw2tl with config:\n",
      "\u001b[34m\u001b[1mwandb\u001b[0m: \tBalancing: False\n",
      "\u001b[34m\u001b[1mwandb\u001b[0m: \tfeatures: ['x', 'y']\n",
      "\u001b[34m\u001b[1mwandb\u001b[0m: \tn_features_per_kernel: 2\n",
      "\u001b[34m\u001b[1mwandb\u001b[0m: \tnum_kernels: 2000\n",
      "\u001b[34m\u001b[1mwandb\u001b[0m: \trocket_transform: rocket\n",
      "\u001b[34m\u001b[1mwandb\u001b[0m: \tscaling: True\n",
      "\u001b[34m\u001b[1mwandb\u001b[0m: \twindow_size: 7\n"
     ]
    },
    {
     "data": {
      "text/html": [
       "Tracking run with wandb version 0.18.6"
      ],
      "text/plain": [
       "<IPython.core.display.HTML object>"
      ]
     },
     "metadata": {},
     "output_type": "display_data"
    },
    {
     "data": {
      "text/html": [
       "Run data is saved locally in <code>c:\\Users\\benev\\Documents\\Uni_Master\\Masterarbeit\\CODE\\8_tennis_analytics\\wandb\\run-20241201_145351-9oudw2tl</code>"
      ],
      "text/plain": [
       "<IPython.core.display.HTML object>"
      ]
     },
     "metadata": {},
     "output_type": "display_data"
    },
    {
     "data": {
      "text/html": [
       "Syncing run <strong><a href='https://wandb.ai/MasterarbeitBV/XGBoost_Hyperparameter_Tuning/runs/9oudw2tl' target=\"_blank\">lucky-sweep-64</a></strong> to <a href='https://wandb.ai/MasterarbeitBV/XGBoost_Hyperparameter_Tuning' target=\"_blank\">Weights & Biases</a> (<a href='https://wandb.me/developer-guide' target=\"_blank\">docs</a>)<br/>Sweep page: <a href='https://wandb.ai/MasterarbeitBV/XGBoost_Hyperparameter_Tuning/sweeps/oros33fx' target=\"_blank\">https://wandb.ai/MasterarbeitBV/XGBoost_Hyperparameter_Tuning/sweeps/oros33fx</a>"
      ],
      "text/plain": [
       "<IPython.core.display.HTML object>"
      ]
     },
     "metadata": {},
     "output_type": "display_data"
    },
    {
     "data": {
      "text/html": [
       " View project at <a href='https://wandb.ai/MasterarbeitBV/XGBoost_Hyperparameter_Tuning' target=\"_blank\">https://wandb.ai/MasterarbeitBV/XGBoost_Hyperparameter_Tuning</a>"
      ],
      "text/plain": [
       "<IPython.core.display.HTML object>"
      ]
     },
     "metadata": {},
     "output_type": "display_data"
    },
    {
     "data": {
      "text/html": [
       " View sweep at <a href='https://wandb.ai/MasterarbeitBV/XGBoost_Hyperparameter_Tuning/sweeps/oros33fx' target=\"_blank\">https://wandb.ai/MasterarbeitBV/XGBoost_Hyperparameter_Tuning/sweeps/oros33fx</a>"
      ],
      "text/plain": [
       "<IPython.core.display.HTML object>"
      ]
     },
     "metadata": {},
     "output_type": "display_data"
    },
    {
     "data": {
      "text/html": [
       " View run at <a href='https://wandb.ai/MasterarbeitBV/XGBoost_Hyperparameter_Tuning/runs/9oudw2tl' target=\"_blank\">https://wandb.ai/MasterarbeitBV/XGBoost_Hyperparameter_Tuning/runs/9oudw2tl</a>"
      ],
      "text/plain": [
       "<IPython.core.display.HTML object>"
      ]
     },
     "metadata": {},
     "output_type": "display_data"
    },
    {
     "data": {
      "text/html": [
       "\n",
       "    <style>\n",
       "        .wandb-row {\n",
       "            display: flex;\n",
       "            flex-direction: row;\n",
       "            flex-wrap: wrap;\n",
       "            justify-content: flex-start;\n",
       "            width: 100%;\n",
       "        }\n",
       "        .wandb-col {\n",
       "            display: flex;\n",
       "            flex-direction: column;\n",
       "            flex-basis: 100%;\n",
       "            flex: 1;\n",
       "            padding: 10px;\n",
       "        }\n",
       "    </style>\n",
       "<div class=\"wandb-row\"><div class=\"wandb-col\"><h3>Run history:</h3><br/><table class=\"wandb\"><tr><td>accuracy</td><td>▁</td></tr><tr><td>f1-score</td><td>▁</td></tr></table><br/></div><div class=\"wandb-col\"><h3>Run summary:</h3><br/><table class=\"wandb\"><tr><td>accuracy</td><td>0.96644</td></tr><tr><td>f1-score</td><td>0.69938</td></tr></table><br/></div></div>"
      ],
      "text/plain": [
       "<IPython.core.display.HTML object>"
      ]
     },
     "metadata": {},
     "output_type": "display_data"
    },
    {
     "data": {
      "text/html": [
       " View run <strong style=\"color:#cdcd00\">lucky-sweep-64</strong> at: <a href='https://wandb.ai/MasterarbeitBV/XGBoost_Hyperparameter_Tuning/runs/9oudw2tl' target=\"_blank\">https://wandb.ai/MasterarbeitBV/XGBoost_Hyperparameter_Tuning/runs/9oudw2tl</a><br/> View project at: <a href='https://wandb.ai/MasterarbeitBV/XGBoost_Hyperparameter_Tuning' target=\"_blank\">https://wandb.ai/MasterarbeitBV/XGBoost_Hyperparameter_Tuning</a><br/>Synced 5 W&B file(s), 0 media file(s), 0 artifact file(s) and 0 other file(s)"
      ],
      "text/plain": [
       "<IPython.core.display.HTML object>"
      ]
     },
     "metadata": {},
     "output_type": "display_data"
    },
    {
     "data": {
      "text/html": [
       "Find logs at: <code>.\\wandb\\run-20241201_145351-9oudw2tl\\logs</code>"
      ],
      "text/plain": [
       "<IPython.core.display.HTML object>"
      ]
     },
     "metadata": {},
     "output_type": "display_data"
    },
    {
     "name": "stderr",
     "output_type": "stream",
     "text": [
      "\u001b[34m\u001b[1mwandb\u001b[0m: Agent Starting Run: gw01c5pw with config:\n",
      "\u001b[34m\u001b[1mwandb\u001b[0m: \tBalancing: False\n",
      "\u001b[34m\u001b[1mwandb\u001b[0m: \tfeatures: ['x', 'y', 'velocity', 'direction']\n",
      "\u001b[34m\u001b[1mwandb\u001b[0m: \tn_features_per_kernel: 4\n",
      "\u001b[34m\u001b[1mwandb\u001b[0m: \tnum_kernels: 2000\n",
      "\u001b[34m\u001b[1mwandb\u001b[0m: \trocket_transform: rocket\n",
      "\u001b[34m\u001b[1mwandb\u001b[0m: \tscaling: True\n",
      "\u001b[34m\u001b[1mwandb\u001b[0m: \twindow_size: 11\n"
     ]
    },
    {
     "data": {
      "text/html": [
       "Tracking run with wandb version 0.18.6"
      ],
      "text/plain": [
       "<IPython.core.display.HTML object>"
      ]
     },
     "metadata": {},
     "output_type": "display_data"
    },
    {
     "data": {
      "text/html": [
       "Run data is saved locally in <code>c:\\Users\\benev\\Documents\\Uni_Master\\Masterarbeit\\CODE\\8_tennis_analytics\\wandb\\run-20241201_145459-gw01c5pw</code>"
      ],
      "text/plain": [
       "<IPython.core.display.HTML object>"
      ]
     },
     "metadata": {},
     "output_type": "display_data"
    },
    {
     "data": {
      "text/html": [
       "Syncing run <strong><a href='https://wandb.ai/MasterarbeitBV/XGBoost_Hyperparameter_Tuning/runs/gw01c5pw' target=\"_blank\">rosy-sweep-65</a></strong> to <a href='https://wandb.ai/MasterarbeitBV/XGBoost_Hyperparameter_Tuning' target=\"_blank\">Weights & Biases</a> (<a href='https://wandb.me/developer-guide' target=\"_blank\">docs</a>)<br/>Sweep page: <a href='https://wandb.ai/MasterarbeitBV/XGBoost_Hyperparameter_Tuning/sweeps/oros33fx' target=\"_blank\">https://wandb.ai/MasterarbeitBV/XGBoost_Hyperparameter_Tuning/sweeps/oros33fx</a>"
      ],
      "text/plain": [
       "<IPython.core.display.HTML object>"
      ]
     },
     "metadata": {},
     "output_type": "display_data"
    },
    {
     "data": {
      "text/html": [
       " View project at <a href='https://wandb.ai/MasterarbeitBV/XGBoost_Hyperparameter_Tuning' target=\"_blank\">https://wandb.ai/MasterarbeitBV/XGBoost_Hyperparameter_Tuning</a>"
      ],
      "text/plain": [
       "<IPython.core.display.HTML object>"
      ]
     },
     "metadata": {},
     "output_type": "display_data"
    },
    {
     "data": {
      "text/html": [
       " View sweep at <a href='https://wandb.ai/MasterarbeitBV/XGBoost_Hyperparameter_Tuning/sweeps/oros33fx' target=\"_blank\">https://wandb.ai/MasterarbeitBV/XGBoost_Hyperparameter_Tuning/sweeps/oros33fx</a>"
      ],
      "text/plain": [
       "<IPython.core.display.HTML object>"
      ]
     },
     "metadata": {},
     "output_type": "display_data"
    },
    {
     "data": {
      "text/html": [
       " View run at <a href='https://wandb.ai/MasterarbeitBV/XGBoost_Hyperparameter_Tuning/runs/gw01c5pw' target=\"_blank\">https://wandb.ai/MasterarbeitBV/XGBoost_Hyperparameter_Tuning/runs/gw01c5pw</a>"
      ],
      "text/plain": [
       "<IPython.core.display.HTML object>"
      ]
     },
     "metadata": {},
     "output_type": "display_data"
    },
    {
     "data": {
      "text/html": [
       "\n",
       "    <style>\n",
       "        .wandb-row {\n",
       "            display: flex;\n",
       "            flex-direction: row;\n",
       "            flex-wrap: wrap;\n",
       "            justify-content: flex-start;\n",
       "            width: 100%;\n",
       "        }\n",
       "        .wandb-col {\n",
       "            display: flex;\n",
       "            flex-direction: column;\n",
       "            flex-basis: 100%;\n",
       "            flex: 1;\n",
       "            padding: 10px;\n",
       "        }\n",
       "    </style>\n",
       "<div class=\"wandb-row\"><div class=\"wandb-col\"><h3>Run history:</h3><br/><table class=\"wandb\"><tr><td>accuracy</td><td>▁</td></tr><tr><td>f1-score</td><td>▁</td></tr></table><br/></div><div class=\"wandb-col\"><h3>Run summary:</h3><br/><table class=\"wandb\"><tr><td>accuracy</td><td>0.96573</td></tr><tr><td>f1-score</td><td>0.69926</td></tr></table><br/></div></div>"
      ],
      "text/plain": [
       "<IPython.core.display.HTML object>"
      ]
     },
     "metadata": {},
     "output_type": "display_data"
    },
    {
     "data": {
      "text/html": [
       " View run <strong style=\"color:#cdcd00\">rosy-sweep-65</strong> at: <a href='https://wandb.ai/MasterarbeitBV/XGBoost_Hyperparameter_Tuning/runs/gw01c5pw' target=\"_blank\">https://wandb.ai/MasterarbeitBV/XGBoost_Hyperparameter_Tuning/runs/gw01c5pw</a><br/> View project at: <a href='https://wandb.ai/MasterarbeitBV/XGBoost_Hyperparameter_Tuning' target=\"_blank\">https://wandb.ai/MasterarbeitBV/XGBoost_Hyperparameter_Tuning</a><br/>Synced 5 W&B file(s), 0 media file(s), 0 artifact file(s) and 0 other file(s)"
      ],
      "text/plain": [
       "<IPython.core.display.HTML object>"
      ]
     },
     "metadata": {},
     "output_type": "display_data"
    },
    {
     "data": {
      "text/html": [
       "Find logs at: <code>.\\wandb\\run-20241201_145459-gw01c5pw\\logs</code>"
      ],
      "text/plain": [
       "<IPython.core.display.HTML object>"
      ]
     },
     "metadata": {},
     "output_type": "display_data"
    },
    {
     "name": "stderr",
     "output_type": "stream",
     "text": [
      "\u001b[34m\u001b[1mwandb\u001b[0m: Agent Starting Run: 4tybf0lj with config:\n",
      "\u001b[34m\u001b[1mwandb\u001b[0m: \tBalancing: False\n",
      "\u001b[34m\u001b[1mwandb\u001b[0m: \tfeatures: ['x', 'y']\n",
      "\u001b[34m\u001b[1mwandb\u001b[0m: \tn_features_per_kernel: 2\n",
      "\u001b[34m\u001b[1mwandb\u001b[0m: \tnum_kernels: 2000\n",
      "\u001b[34m\u001b[1mwandb\u001b[0m: \trocket_transform: rocket\n",
      "\u001b[34m\u001b[1mwandb\u001b[0m: \tscaling: False\n",
      "\u001b[34m\u001b[1mwandb\u001b[0m: \twindow_size: 7\n"
     ]
    },
    {
     "data": {
      "text/html": [
       "Tracking run with wandb version 0.18.6"
      ],
      "text/plain": [
       "<IPython.core.display.HTML object>"
      ]
     },
     "metadata": {},
     "output_type": "display_data"
    },
    {
     "data": {
      "text/html": [
       "Run data is saved locally in <code>c:\\Users\\benev\\Documents\\Uni_Master\\Masterarbeit\\CODE\\8_tennis_analytics\\wandb\\run-20241201_145613-4tybf0lj</code>"
      ],
      "text/plain": [
       "<IPython.core.display.HTML object>"
      ]
     },
     "metadata": {},
     "output_type": "display_data"
    },
    {
     "data": {
      "text/html": [
       "Syncing run <strong><a href='https://wandb.ai/MasterarbeitBV/XGBoost_Hyperparameter_Tuning/runs/4tybf0lj' target=\"_blank\">flowing-sweep-66</a></strong> to <a href='https://wandb.ai/MasterarbeitBV/XGBoost_Hyperparameter_Tuning' target=\"_blank\">Weights & Biases</a> (<a href='https://wandb.me/developer-guide' target=\"_blank\">docs</a>)<br/>Sweep page: <a href='https://wandb.ai/MasterarbeitBV/XGBoost_Hyperparameter_Tuning/sweeps/oros33fx' target=\"_blank\">https://wandb.ai/MasterarbeitBV/XGBoost_Hyperparameter_Tuning/sweeps/oros33fx</a>"
      ],
      "text/plain": [
       "<IPython.core.display.HTML object>"
      ]
     },
     "metadata": {},
     "output_type": "display_data"
    },
    {
     "data": {
      "text/html": [
       " View project at <a href='https://wandb.ai/MasterarbeitBV/XGBoost_Hyperparameter_Tuning' target=\"_blank\">https://wandb.ai/MasterarbeitBV/XGBoost_Hyperparameter_Tuning</a>"
      ],
      "text/plain": [
       "<IPython.core.display.HTML object>"
      ]
     },
     "metadata": {},
     "output_type": "display_data"
    },
    {
     "data": {
      "text/html": [
       " View sweep at <a href='https://wandb.ai/MasterarbeitBV/XGBoost_Hyperparameter_Tuning/sweeps/oros33fx' target=\"_blank\">https://wandb.ai/MasterarbeitBV/XGBoost_Hyperparameter_Tuning/sweeps/oros33fx</a>"
      ],
      "text/plain": [
       "<IPython.core.display.HTML object>"
      ]
     },
     "metadata": {},
     "output_type": "display_data"
    },
    {
     "data": {
      "text/html": [
       " View run at <a href='https://wandb.ai/MasterarbeitBV/XGBoost_Hyperparameter_Tuning/runs/4tybf0lj' target=\"_blank\">https://wandb.ai/MasterarbeitBV/XGBoost_Hyperparameter_Tuning/runs/4tybf0lj</a>"
      ],
      "text/plain": [
       "<IPython.core.display.HTML object>"
      ]
     },
     "metadata": {},
     "output_type": "display_data"
    },
    {
     "data": {
      "text/html": [
       "\n",
       "    <style>\n",
       "        .wandb-row {\n",
       "            display: flex;\n",
       "            flex-direction: row;\n",
       "            flex-wrap: wrap;\n",
       "            justify-content: flex-start;\n",
       "            width: 100%;\n",
       "        }\n",
       "        .wandb-col {\n",
       "            display: flex;\n",
       "            flex-direction: column;\n",
       "            flex-basis: 100%;\n",
       "            flex: 1;\n",
       "            padding: 10px;\n",
       "        }\n",
       "    </style>\n",
       "<div class=\"wandb-row\"><div class=\"wandb-col\"><h3>Run history:</h3><br/><table class=\"wandb\"><tr><td>accuracy</td><td>▁</td></tr><tr><td>f1-score</td><td>▁</td></tr></table><br/></div><div class=\"wandb-col\"><h3>Run summary:</h3><br/><table class=\"wandb\"><tr><td>accuracy</td><td>0.96387</td></tr><tr><td>f1-score</td><td>0.68542</td></tr></table><br/></div></div>"
      ],
      "text/plain": [
       "<IPython.core.display.HTML object>"
      ]
     },
     "metadata": {},
     "output_type": "display_data"
    },
    {
     "data": {
      "text/html": [
       " View run <strong style=\"color:#cdcd00\">flowing-sweep-66</strong> at: <a href='https://wandb.ai/MasterarbeitBV/XGBoost_Hyperparameter_Tuning/runs/4tybf0lj' target=\"_blank\">https://wandb.ai/MasterarbeitBV/XGBoost_Hyperparameter_Tuning/runs/4tybf0lj</a><br/> View project at: <a href='https://wandb.ai/MasterarbeitBV/XGBoost_Hyperparameter_Tuning' target=\"_blank\">https://wandb.ai/MasterarbeitBV/XGBoost_Hyperparameter_Tuning</a><br/>Synced 5 W&B file(s), 0 media file(s), 0 artifact file(s) and 0 other file(s)"
      ],
      "text/plain": [
       "<IPython.core.display.HTML object>"
      ]
     },
     "metadata": {},
     "output_type": "display_data"
    },
    {
     "data": {
      "text/html": [
       "Find logs at: <code>.\\wandb\\run-20241201_145613-4tybf0lj\\logs</code>"
      ],
      "text/plain": [
       "<IPython.core.display.HTML object>"
      ]
     },
     "metadata": {},
     "output_type": "display_data"
    },
    {
     "name": "stderr",
     "output_type": "stream",
     "text": [
      "\u001b[34m\u001b[1mwandb\u001b[0m: Agent Starting Run: cdqzk639 with config:\n",
      "\u001b[34m\u001b[1mwandb\u001b[0m: \tBalancing: False\n",
      "\u001b[34m\u001b[1mwandb\u001b[0m: \tfeatures: ['x', 'y']\n",
      "\u001b[34m\u001b[1mwandb\u001b[0m: \tn_features_per_kernel: 2\n",
      "\u001b[34m\u001b[1mwandb\u001b[0m: \tnum_kernels: 2000\n",
      "\u001b[34m\u001b[1mwandb\u001b[0m: \trocket_transform: rocket\n",
      "\u001b[34m\u001b[1mwandb\u001b[0m: \tscaling: False\n",
      "\u001b[34m\u001b[1mwandb\u001b[0m: \twindow_size: 11\n"
     ]
    },
    {
     "data": {
      "text/html": [
       "Tracking run with wandb version 0.18.6"
      ],
      "text/plain": [
       "<IPython.core.display.HTML object>"
      ]
     },
     "metadata": {},
     "output_type": "display_data"
    },
    {
     "data": {
      "text/html": [
       "Run data is saved locally in <code>c:\\Users\\benev\\Documents\\Uni_Master\\Masterarbeit\\CODE\\8_tennis_analytics\\wandb\\run-20241201_145726-cdqzk639</code>"
      ],
      "text/plain": [
       "<IPython.core.display.HTML object>"
      ]
     },
     "metadata": {},
     "output_type": "display_data"
    },
    {
     "data": {
      "text/html": [
       "Syncing run <strong><a href='https://wandb.ai/MasterarbeitBV/XGBoost_Hyperparameter_Tuning/runs/cdqzk639' target=\"_blank\">floral-sweep-67</a></strong> to <a href='https://wandb.ai/MasterarbeitBV/XGBoost_Hyperparameter_Tuning' target=\"_blank\">Weights & Biases</a> (<a href='https://wandb.me/developer-guide' target=\"_blank\">docs</a>)<br/>Sweep page: <a href='https://wandb.ai/MasterarbeitBV/XGBoost_Hyperparameter_Tuning/sweeps/oros33fx' target=\"_blank\">https://wandb.ai/MasterarbeitBV/XGBoost_Hyperparameter_Tuning/sweeps/oros33fx</a>"
      ],
      "text/plain": [
       "<IPython.core.display.HTML object>"
      ]
     },
     "metadata": {},
     "output_type": "display_data"
    },
    {
     "data": {
      "text/html": [
       " View project at <a href='https://wandb.ai/MasterarbeitBV/XGBoost_Hyperparameter_Tuning' target=\"_blank\">https://wandb.ai/MasterarbeitBV/XGBoost_Hyperparameter_Tuning</a>"
      ],
      "text/plain": [
       "<IPython.core.display.HTML object>"
      ]
     },
     "metadata": {},
     "output_type": "display_data"
    },
    {
     "data": {
      "text/html": [
       " View sweep at <a href='https://wandb.ai/MasterarbeitBV/XGBoost_Hyperparameter_Tuning/sweeps/oros33fx' target=\"_blank\">https://wandb.ai/MasterarbeitBV/XGBoost_Hyperparameter_Tuning/sweeps/oros33fx</a>"
      ],
      "text/plain": [
       "<IPython.core.display.HTML object>"
      ]
     },
     "metadata": {},
     "output_type": "display_data"
    },
    {
     "data": {
      "text/html": [
       " View run at <a href='https://wandb.ai/MasterarbeitBV/XGBoost_Hyperparameter_Tuning/runs/cdqzk639' target=\"_blank\">https://wandb.ai/MasterarbeitBV/XGBoost_Hyperparameter_Tuning/runs/cdqzk639</a>"
      ],
      "text/plain": [
       "<IPython.core.display.HTML object>"
      ]
     },
     "metadata": {},
     "output_type": "display_data"
    },
    {
     "data": {
      "text/html": [
       "\n",
       "    <style>\n",
       "        .wandb-row {\n",
       "            display: flex;\n",
       "            flex-direction: row;\n",
       "            flex-wrap: wrap;\n",
       "            justify-content: flex-start;\n",
       "            width: 100%;\n",
       "        }\n",
       "        .wandb-col {\n",
       "            display: flex;\n",
       "            flex-direction: column;\n",
       "            flex-basis: 100%;\n",
       "            flex: 1;\n",
       "            padding: 10px;\n",
       "        }\n",
       "    </style>\n",
       "<div class=\"wandb-row\"><div class=\"wandb-col\"><h3>Run history:</h3><br/><table class=\"wandb\"><tr><td>accuracy</td><td>▁</td></tr><tr><td>f1-score</td><td>▁</td></tr></table><br/></div><div class=\"wandb-col\"><h3>Run summary:</h3><br/><table class=\"wandb\"><tr><td>accuracy</td><td>0.9682</td></tr><tr><td>f1-score</td><td>0.72409</td></tr></table><br/></div></div>"
      ],
      "text/plain": [
       "<IPython.core.display.HTML object>"
      ]
     },
     "metadata": {},
     "output_type": "display_data"
    },
    {
     "data": {
      "text/html": [
       " View run <strong style=\"color:#cdcd00\">floral-sweep-67</strong> at: <a href='https://wandb.ai/MasterarbeitBV/XGBoost_Hyperparameter_Tuning/runs/cdqzk639' target=\"_blank\">https://wandb.ai/MasterarbeitBV/XGBoost_Hyperparameter_Tuning/runs/cdqzk639</a><br/> View project at: <a href='https://wandb.ai/MasterarbeitBV/XGBoost_Hyperparameter_Tuning' target=\"_blank\">https://wandb.ai/MasterarbeitBV/XGBoost_Hyperparameter_Tuning</a><br/>Synced 5 W&B file(s), 0 media file(s), 0 artifact file(s) and 0 other file(s)"
      ],
      "text/plain": [
       "<IPython.core.display.HTML object>"
      ]
     },
     "metadata": {},
     "output_type": "display_data"
    },
    {
     "data": {
      "text/html": [
       "Find logs at: <code>.\\wandb\\run-20241201_145726-cdqzk639\\logs</code>"
      ],
      "text/plain": [
       "<IPython.core.display.HTML object>"
      ]
     },
     "metadata": {},
     "output_type": "display_data"
    },
    {
     "name": "stderr",
     "output_type": "stream",
     "text": [
      "\u001b[34m\u001b[1mwandb\u001b[0m: Agent Starting Run: ojysnsas with config:\n",
      "\u001b[34m\u001b[1mwandb\u001b[0m: \tBalancing: False\n",
      "\u001b[34m\u001b[1mwandb\u001b[0m: \tfeatures: ['x', 'y']\n",
      "\u001b[34m\u001b[1mwandb\u001b[0m: \tn_features_per_kernel: 4\n",
      "\u001b[34m\u001b[1mwandb\u001b[0m: \tnum_kernels: 2000\n",
      "\u001b[34m\u001b[1mwandb\u001b[0m: \trocket_transform: rocket\n",
      "\u001b[34m\u001b[1mwandb\u001b[0m: \tscaling: True\n",
      "\u001b[34m\u001b[1mwandb\u001b[0m: \twindow_size: 21\n"
     ]
    },
    {
     "data": {
      "text/html": [
       "Tracking run with wandb version 0.18.6"
      ],
      "text/plain": [
       "<IPython.core.display.HTML object>"
      ]
     },
     "metadata": {},
     "output_type": "display_data"
    },
    {
     "data": {
      "text/html": [
       "Run data is saved locally in <code>c:\\Users\\benev\\Documents\\Uni_Master\\Masterarbeit\\CODE\\8_tennis_analytics\\wandb\\run-20241201_145836-ojysnsas</code>"
      ],
      "text/plain": [
       "<IPython.core.display.HTML object>"
      ]
     },
     "metadata": {},
     "output_type": "display_data"
    },
    {
     "data": {
      "text/html": [
       "Syncing run <strong><a href='https://wandb.ai/MasterarbeitBV/XGBoost_Hyperparameter_Tuning/runs/ojysnsas' target=\"_blank\">laced-sweep-68</a></strong> to <a href='https://wandb.ai/MasterarbeitBV/XGBoost_Hyperparameter_Tuning' target=\"_blank\">Weights & Biases</a> (<a href='https://wandb.me/developer-guide' target=\"_blank\">docs</a>)<br/>Sweep page: <a href='https://wandb.ai/MasterarbeitBV/XGBoost_Hyperparameter_Tuning/sweeps/oros33fx' target=\"_blank\">https://wandb.ai/MasterarbeitBV/XGBoost_Hyperparameter_Tuning/sweeps/oros33fx</a>"
      ],
      "text/plain": [
       "<IPython.core.display.HTML object>"
      ]
     },
     "metadata": {},
     "output_type": "display_data"
    },
    {
     "data": {
      "text/html": [
       " View project at <a href='https://wandb.ai/MasterarbeitBV/XGBoost_Hyperparameter_Tuning' target=\"_blank\">https://wandb.ai/MasterarbeitBV/XGBoost_Hyperparameter_Tuning</a>"
      ],
      "text/plain": [
       "<IPython.core.display.HTML object>"
      ]
     },
     "metadata": {},
     "output_type": "display_data"
    },
    {
     "data": {
      "text/html": [
       " View sweep at <a href='https://wandb.ai/MasterarbeitBV/XGBoost_Hyperparameter_Tuning/sweeps/oros33fx' target=\"_blank\">https://wandb.ai/MasterarbeitBV/XGBoost_Hyperparameter_Tuning/sweeps/oros33fx</a>"
      ],
      "text/plain": [
       "<IPython.core.display.HTML object>"
      ]
     },
     "metadata": {},
     "output_type": "display_data"
    },
    {
     "data": {
      "text/html": [
       " View run at <a href='https://wandb.ai/MasterarbeitBV/XGBoost_Hyperparameter_Tuning/runs/ojysnsas' target=\"_blank\">https://wandb.ai/MasterarbeitBV/XGBoost_Hyperparameter_Tuning/runs/ojysnsas</a>"
      ],
      "text/plain": [
       "<IPython.core.display.HTML object>"
      ]
     },
     "metadata": {},
     "output_type": "display_data"
    },
    {
     "data": {
      "text/html": [
       "\n",
       "    <style>\n",
       "        .wandb-row {\n",
       "            display: flex;\n",
       "            flex-direction: row;\n",
       "            flex-wrap: wrap;\n",
       "            justify-content: flex-start;\n",
       "            width: 100%;\n",
       "        }\n",
       "        .wandb-col {\n",
       "            display: flex;\n",
       "            flex-direction: column;\n",
       "            flex-basis: 100%;\n",
       "            flex: 1;\n",
       "            padding: 10px;\n",
       "        }\n",
       "    </style>\n",
       "<div class=\"wandb-row\"><div class=\"wandb-col\"><h3>Run history:</h3><br/><table class=\"wandb\"><tr><td>accuracy</td><td>▁</td></tr><tr><td>f1-score</td><td>▁</td></tr></table><br/></div><div class=\"wandb-col\"><h3>Run summary:</h3><br/><table class=\"wandb\"><tr><td>accuracy</td><td>0.95547</td></tr><tr><td>f1-score</td><td>0.46411</td></tr></table><br/></div></div>"
      ],
      "text/plain": [
       "<IPython.core.display.HTML object>"
      ]
     },
     "metadata": {},
     "output_type": "display_data"
    },
    {
     "data": {
      "text/html": [
       " View run <strong style=\"color:#cdcd00\">laced-sweep-68</strong> at: <a href='https://wandb.ai/MasterarbeitBV/XGBoost_Hyperparameter_Tuning/runs/ojysnsas' target=\"_blank\">https://wandb.ai/MasterarbeitBV/XGBoost_Hyperparameter_Tuning/runs/ojysnsas</a><br/> View project at: <a href='https://wandb.ai/MasterarbeitBV/XGBoost_Hyperparameter_Tuning' target=\"_blank\">https://wandb.ai/MasterarbeitBV/XGBoost_Hyperparameter_Tuning</a><br/>Synced 5 W&B file(s), 0 media file(s), 0 artifact file(s) and 0 other file(s)"
      ],
      "text/plain": [
       "<IPython.core.display.HTML object>"
      ]
     },
     "metadata": {},
     "output_type": "display_data"
    },
    {
     "data": {
      "text/html": [
       "Find logs at: <code>.\\wandb\\run-20241201_145836-ojysnsas\\logs</code>"
      ],
      "text/plain": [
       "<IPython.core.display.HTML object>"
      ]
     },
     "metadata": {},
     "output_type": "display_data"
    },
    {
     "name": "stderr",
     "output_type": "stream",
     "text": [
      "\u001b[34m\u001b[1mwandb\u001b[0m: Agent Starting Run: vagqm32m with config:\n",
      "\u001b[34m\u001b[1mwandb\u001b[0m: \tBalancing: True\n",
      "\u001b[34m\u001b[1mwandb\u001b[0m: \tfeatures: ['x', 'y']\n",
      "\u001b[34m\u001b[1mwandb\u001b[0m: \tn_features_per_kernel: 2\n",
      "\u001b[34m\u001b[1mwandb\u001b[0m: \tnum_kernels: 2000\n",
      "\u001b[34m\u001b[1mwandb\u001b[0m: \trocket_transform: rocket\n",
      "\u001b[34m\u001b[1mwandb\u001b[0m: \tscaling: False\n",
      "\u001b[34m\u001b[1mwandb\u001b[0m: \twindow_size: 21\n"
     ]
    },
    {
     "data": {
      "text/html": [
       "Tracking run with wandb version 0.18.6"
      ],
      "text/plain": [
       "<IPython.core.display.HTML object>"
      ]
     },
     "metadata": {},
     "output_type": "display_data"
    },
    {
     "data": {
      "text/html": [
       "Run data is saved locally in <code>c:\\Users\\benev\\Documents\\Uni_Master\\Masterarbeit\\CODE\\8_tennis_analytics\\wandb\\run-20241201_145950-vagqm32m</code>"
      ],
      "text/plain": [
       "<IPython.core.display.HTML object>"
      ]
     },
     "metadata": {},
     "output_type": "display_data"
    },
    {
     "data": {
      "text/html": [
       "Syncing run <strong><a href='https://wandb.ai/MasterarbeitBV/XGBoost_Hyperparameter_Tuning/runs/vagqm32m' target=\"_blank\">driven-sweep-69</a></strong> to <a href='https://wandb.ai/MasterarbeitBV/XGBoost_Hyperparameter_Tuning' target=\"_blank\">Weights & Biases</a> (<a href='https://wandb.me/developer-guide' target=\"_blank\">docs</a>)<br/>Sweep page: <a href='https://wandb.ai/MasterarbeitBV/XGBoost_Hyperparameter_Tuning/sweeps/oros33fx' target=\"_blank\">https://wandb.ai/MasterarbeitBV/XGBoost_Hyperparameter_Tuning/sweeps/oros33fx</a>"
      ],
      "text/plain": [
       "<IPython.core.display.HTML object>"
      ]
     },
     "metadata": {},
     "output_type": "display_data"
    },
    {
     "data": {
      "text/html": [
       " View project at <a href='https://wandb.ai/MasterarbeitBV/XGBoost_Hyperparameter_Tuning' target=\"_blank\">https://wandb.ai/MasterarbeitBV/XGBoost_Hyperparameter_Tuning</a>"
      ],
      "text/plain": [
       "<IPython.core.display.HTML object>"
      ]
     },
     "metadata": {},
     "output_type": "display_data"
    },
    {
     "data": {
      "text/html": [
       " View sweep at <a href='https://wandb.ai/MasterarbeitBV/XGBoost_Hyperparameter_Tuning/sweeps/oros33fx' target=\"_blank\">https://wandb.ai/MasterarbeitBV/XGBoost_Hyperparameter_Tuning/sweeps/oros33fx</a>"
      ],
      "text/plain": [
       "<IPython.core.display.HTML object>"
      ]
     },
     "metadata": {},
     "output_type": "display_data"
    },
    {
     "data": {
      "text/html": [
       " View run at <a href='https://wandb.ai/MasterarbeitBV/XGBoost_Hyperparameter_Tuning/runs/vagqm32m' target=\"_blank\">https://wandb.ai/MasterarbeitBV/XGBoost_Hyperparameter_Tuning/runs/vagqm32m</a>"
      ],
      "text/plain": [
       "<IPython.core.display.HTML object>"
      ]
     },
     "metadata": {},
     "output_type": "display_data"
    },
    {
     "data": {
      "text/html": [
       "\n",
       "    <style>\n",
       "        .wandb-row {\n",
       "            display: flex;\n",
       "            flex-direction: row;\n",
       "            flex-wrap: wrap;\n",
       "            justify-content: flex-start;\n",
       "            width: 100%;\n",
       "        }\n",
       "        .wandb-col {\n",
       "            display: flex;\n",
       "            flex-direction: column;\n",
       "            flex-basis: 100%;\n",
       "            flex: 1;\n",
       "            padding: 10px;\n",
       "        }\n",
       "    </style>\n",
       "<div class=\"wandb-row\"><div class=\"wandb-col\"><h3>Run history:</h3><br/><table class=\"wandb\"><tr><td>accuracy</td><td>▁</td></tr><tr><td>f1-score</td><td>▁</td></tr></table><br/></div><div class=\"wandb-col\"><h3>Run summary:</h3><br/><table class=\"wandb\"><tr><td>accuracy</td><td>0.92062</td></tr><tr><td>f1-score</td><td>0.6691</td></tr></table><br/></div></div>"
      ],
      "text/plain": [
       "<IPython.core.display.HTML object>"
      ]
     },
     "metadata": {},
     "output_type": "display_data"
    },
    {
     "data": {
      "text/html": [
       " View run <strong style=\"color:#cdcd00\">driven-sweep-69</strong> at: <a href='https://wandb.ai/MasterarbeitBV/XGBoost_Hyperparameter_Tuning/runs/vagqm32m' target=\"_blank\">https://wandb.ai/MasterarbeitBV/XGBoost_Hyperparameter_Tuning/runs/vagqm32m</a><br/> View project at: <a href='https://wandb.ai/MasterarbeitBV/XGBoost_Hyperparameter_Tuning' target=\"_blank\">https://wandb.ai/MasterarbeitBV/XGBoost_Hyperparameter_Tuning</a><br/>Synced 5 W&B file(s), 0 media file(s), 0 artifact file(s) and 0 other file(s)"
      ],
      "text/plain": [
       "<IPython.core.display.HTML object>"
      ]
     },
     "metadata": {},
     "output_type": "display_data"
    },
    {
     "data": {
      "text/html": [
       "Find logs at: <code>.\\wandb\\run-20241201_145950-vagqm32m\\logs</code>"
      ],
      "text/plain": [
       "<IPython.core.display.HTML object>"
      ]
     },
     "metadata": {},
     "output_type": "display_data"
    },
    {
     "name": "stderr",
     "output_type": "stream",
     "text": [
      "\u001b[34m\u001b[1mwandb\u001b[0m: Agent Starting Run: a0npxss3 with config:\n",
      "\u001b[34m\u001b[1mwandb\u001b[0m: \tBalancing: False\n",
      "\u001b[34m\u001b[1mwandb\u001b[0m: \tfeatures: ['x', 'y']\n",
      "\u001b[34m\u001b[1mwandb\u001b[0m: \tn_features_per_kernel: 4\n",
      "\u001b[34m\u001b[1mwandb\u001b[0m: \tnum_kernels: 2000\n",
      "\u001b[34m\u001b[1mwandb\u001b[0m: \trocket_transform: rocket\n",
      "\u001b[34m\u001b[1mwandb\u001b[0m: \tscaling: False\n",
      "\u001b[34m\u001b[1mwandb\u001b[0m: \twindow_size: 11\n"
     ]
    },
    {
     "data": {
      "text/html": [
       "Tracking run with wandb version 0.18.6"
      ],
      "text/plain": [
       "<IPython.core.display.HTML object>"
      ]
     },
     "metadata": {},
     "output_type": "display_data"
    },
    {
     "data": {
      "text/html": [
       "Run data is saved locally in <code>c:\\Users\\benev\\Documents\\Uni_Master\\Masterarbeit\\CODE\\8_tennis_analytics\\wandb\\run-20241201_150213-a0npxss3</code>"
      ],
      "text/plain": [
       "<IPython.core.display.HTML object>"
      ]
     },
     "metadata": {},
     "output_type": "display_data"
    },
    {
     "data": {
      "text/html": [
       "Syncing run <strong><a href='https://wandb.ai/MasterarbeitBV/XGBoost_Hyperparameter_Tuning/runs/a0npxss3' target=\"_blank\">frosty-sweep-70</a></strong> to <a href='https://wandb.ai/MasterarbeitBV/XGBoost_Hyperparameter_Tuning' target=\"_blank\">Weights & Biases</a> (<a href='https://wandb.me/developer-guide' target=\"_blank\">docs</a>)<br/>Sweep page: <a href='https://wandb.ai/MasterarbeitBV/XGBoost_Hyperparameter_Tuning/sweeps/oros33fx' target=\"_blank\">https://wandb.ai/MasterarbeitBV/XGBoost_Hyperparameter_Tuning/sweeps/oros33fx</a>"
      ],
      "text/plain": [
       "<IPython.core.display.HTML object>"
      ]
     },
     "metadata": {},
     "output_type": "display_data"
    },
    {
     "data": {
      "text/html": [
       " View project at <a href='https://wandb.ai/MasterarbeitBV/XGBoost_Hyperparameter_Tuning' target=\"_blank\">https://wandb.ai/MasterarbeitBV/XGBoost_Hyperparameter_Tuning</a>"
      ],
      "text/plain": [
       "<IPython.core.display.HTML object>"
      ]
     },
     "metadata": {},
     "output_type": "display_data"
    },
    {
     "data": {
      "text/html": [
       " View sweep at <a href='https://wandb.ai/MasterarbeitBV/XGBoost_Hyperparameter_Tuning/sweeps/oros33fx' target=\"_blank\">https://wandb.ai/MasterarbeitBV/XGBoost_Hyperparameter_Tuning/sweeps/oros33fx</a>"
      ],
      "text/plain": [
       "<IPython.core.display.HTML object>"
      ]
     },
     "metadata": {},
     "output_type": "display_data"
    },
    {
     "data": {
      "text/html": [
       " View run at <a href='https://wandb.ai/MasterarbeitBV/XGBoost_Hyperparameter_Tuning/runs/a0npxss3' target=\"_blank\">https://wandb.ai/MasterarbeitBV/XGBoost_Hyperparameter_Tuning/runs/a0npxss3</a>"
      ],
      "text/plain": [
       "<IPython.core.display.HTML object>"
      ]
     },
     "metadata": {},
     "output_type": "display_data"
    },
    {
     "data": {
      "text/html": [
       "\n",
       "    <style>\n",
       "        .wandb-row {\n",
       "            display: flex;\n",
       "            flex-direction: row;\n",
       "            flex-wrap: wrap;\n",
       "            justify-content: flex-start;\n",
       "            width: 100%;\n",
       "        }\n",
       "        .wandb-col {\n",
       "            display: flex;\n",
       "            flex-direction: column;\n",
       "            flex-basis: 100%;\n",
       "            flex: 1;\n",
       "            padding: 10px;\n",
       "        }\n",
       "    </style>\n",
       "<div class=\"wandb-row\"><div class=\"wandb-col\"><h3>Run history:</h3><br/><table class=\"wandb\"><tr><td>accuracy</td><td>▁</td></tr><tr><td>f1-score</td><td>▁</td></tr></table><br/></div><div class=\"wandb-col\"><h3>Run summary:</h3><br/><table class=\"wandb\"><tr><td>accuracy</td><td>0.9682</td></tr><tr><td>f1-score</td><td>0.72409</td></tr></table><br/></div></div>"
      ],
      "text/plain": [
       "<IPython.core.display.HTML object>"
      ]
     },
     "metadata": {},
     "output_type": "display_data"
    },
    {
     "data": {
      "text/html": [
       " View run <strong style=\"color:#cdcd00\">frosty-sweep-70</strong> at: <a href='https://wandb.ai/MasterarbeitBV/XGBoost_Hyperparameter_Tuning/runs/a0npxss3' target=\"_blank\">https://wandb.ai/MasterarbeitBV/XGBoost_Hyperparameter_Tuning/runs/a0npxss3</a><br/> View project at: <a href='https://wandb.ai/MasterarbeitBV/XGBoost_Hyperparameter_Tuning' target=\"_blank\">https://wandb.ai/MasterarbeitBV/XGBoost_Hyperparameter_Tuning</a><br/>Synced 5 W&B file(s), 0 media file(s), 0 artifact file(s) and 0 other file(s)"
      ],
      "text/plain": [
       "<IPython.core.display.HTML object>"
      ]
     },
     "metadata": {},
     "output_type": "display_data"
    },
    {
     "data": {
      "text/html": [
       "Find logs at: <code>.\\wandb\\run-20241201_150213-a0npxss3\\logs</code>"
      ],
      "text/plain": [
       "<IPython.core.display.HTML object>"
      ]
     },
     "metadata": {},
     "output_type": "display_data"
    },
    {
     "name": "stderr",
     "output_type": "stream",
     "text": [
      "\u001b[34m\u001b[1mwandb\u001b[0m: Agent Starting Run: ec50sdjg with config:\n",
      "\u001b[34m\u001b[1mwandb\u001b[0m: \tBalancing: True\n",
      "\u001b[34m\u001b[1mwandb\u001b[0m: \tfeatures: ['x', 'y']\n",
      "\u001b[34m\u001b[1mwandb\u001b[0m: \tn_features_per_kernel: 4\n",
      "\u001b[34m\u001b[1mwandb\u001b[0m: \tnum_kernels: 2000\n",
      "\u001b[34m\u001b[1mwandb\u001b[0m: \trocket_transform: rocket\n",
      "\u001b[34m\u001b[1mwandb\u001b[0m: \tscaling: True\n",
      "\u001b[34m\u001b[1mwandb\u001b[0m: \twindow_size: 11\n"
     ]
    },
    {
     "data": {
      "text/html": [
       "Tracking run with wandb version 0.18.6"
      ],
      "text/plain": [
       "<IPython.core.display.HTML object>"
      ]
     },
     "metadata": {},
     "output_type": "display_data"
    },
    {
     "data": {
      "text/html": [
       "Run data is saved locally in <code>c:\\Users\\benev\\Documents\\Uni_Master\\Masterarbeit\\CODE\\8_tennis_analytics\\wandb\\run-20241201_150326-ec50sdjg</code>"
      ],
      "text/plain": [
       "<IPython.core.display.HTML object>"
      ]
     },
     "metadata": {},
     "output_type": "display_data"
    },
    {
     "data": {
      "text/html": [
       "Syncing run <strong><a href='https://wandb.ai/MasterarbeitBV/XGBoost_Hyperparameter_Tuning/runs/ec50sdjg' target=\"_blank\">chocolate-sweep-71</a></strong> to <a href='https://wandb.ai/MasterarbeitBV/XGBoost_Hyperparameter_Tuning' target=\"_blank\">Weights & Biases</a> (<a href='https://wandb.me/developer-guide' target=\"_blank\">docs</a>)<br/>Sweep page: <a href='https://wandb.ai/MasterarbeitBV/XGBoost_Hyperparameter_Tuning/sweeps/oros33fx' target=\"_blank\">https://wandb.ai/MasterarbeitBV/XGBoost_Hyperparameter_Tuning/sweeps/oros33fx</a>"
      ],
      "text/plain": [
       "<IPython.core.display.HTML object>"
      ]
     },
     "metadata": {},
     "output_type": "display_data"
    },
    {
     "data": {
      "text/html": [
       " View project at <a href='https://wandb.ai/MasterarbeitBV/XGBoost_Hyperparameter_Tuning' target=\"_blank\">https://wandb.ai/MasterarbeitBV/XGBoost_Hyperparameter_Tuning</a>"
      ],
      "text/plain": [
       "<IPython.core.display.HTML object>"
      ]
     },
     "metadata": {},
     "output_type": "display_data"
    },
    {
     "data": {
      "text/html": [
       " View sweep at <a href='https://wandb.ai/MasterarbeitBV/XGBoost_Hyperparameter_Tuning/sweeps/oros33fx' target=\"_blank\">https://wandb.ai/MasterarbeitBV/XGBoost_Hyperparameter_Tuning/sweeps/oros33fx</a>"
      ],
      "text/plain": [
       "<IPython.core.display.HTML object>"
      ]
     },
     "metadata": {},
     "output_type": "display_data"
    },
    {
     "data": {
      "text/html": [
       " View run at <a href='https://wandb.ai/MasterarbeitBV/XGBoost_Hyperparameter_Tuning/runs/ec50sdjg' target=\"_blank\">https://wandb.ai/MasterarbeitBV/XGBoost_Hyperparameter_Tuning/runs/ec50sdjg</a>"
      ],
      "text/plain": [
       "<IPython.core.display.HTML object>"
      ]
     },
     "metadata": {},
     "output_type": "display_data"
    },
    {
     "data": {
      "text/html": [
       "\n",
       "    <style>\n",
       "        .wandb-row {\n",
       "            display: flex;\n",
       "            flex-direction: row;\n",
       "            flex-wrap: wrap;\n",
       "            justify-content: flex-start;\n",
       "            width: 100%;\n",
       "        }\n",
       "        .wandb-col {\n",
       "            display: flex;\n",
       "            flex-direction: column;\n",
       "            flex-basis: 100%;\n",
       "            flex: 1;\n",
       "            padding: 10px;\n",
       "        }\n",
       "    </style>\n",
       "<div class=\"wandb-row\"><div class=\"wandb-col\"><h3>Run history:</h3><br/><table class=\"wandb\"><tr><td>accuracy</td><td>▁</td></tr><tr><td>f1-score</td><td>▁</td></tr></table><br/></div><div class=\"wandb-col\"><h3>Run summary:</h3><br/><table class=\"wandb\"><tr><td>accuracy</td><td>0.93914</td></tr><tr><td>f1-score</td><td>0.70994</td></tr></table><br/></div></div>"
      ],
      "text/plain": [
       "<IPython.core.display.HTML object>"
      ]
     },
     "metadata": {},
     "output_type": "display_data"
    },
    {
     "data": {
      "text/html": [
       " View run <strong style=\"color:#cdcd00\">chocolate-sweep-71</strong> at: <a href='https://wandb.ai/MasterarbeitBV/XGBoost_Hyperparameter_Tuning/runs/ec50sdjg' target=\"_blank\">https://wandb.ai/MasterarbeitBV/XGBoost_Hyperparameter_Tuning/runs/ec50sdjg</a><br/> View project at: <a href='https://wandb.ai/MasterarbeitBV/XGBoost_Hyperparameter_Tuning' target=\"_blank\">https://wandb.ai/MasterarbeitBV/XGBoost_Hyperparameter_Tuning</a><br/>Synced 5 W&B file(s), 0 media file(s), 0 artifact file(s) and 0 other file(s)"
      ],
      "text/plain": [
       "<IPython.core.display.HTML object>"
      ]
     },
     "metadata": {},
     "output_type": "display_data"
    },
    {
     "data": {
      "text/html": [
       "Find logs at: <code>.\\wandb\\run-20241201_150326-ec50sdjg\\logs</code>"
      ],
      "text/plain": [
       "<IPython.core.display.HTML object>"
      ]
     },
     "metadata": {},
     "output_type": "display_data"
    },
    {
     "name": "stderr",
     "output_type": "stream",
     "text": [
      "\u001b[34m\u001b[1mwandb\u001b[0m: Sweep Agent: Waiting for job.\n",
      "\u001b[34m\u001b[1mwandb\u001b[0m: Job received.\n",
      "\u001b[34m\u001b[1mwandb\u001b[0m: Agent Starting Run: 21mdfh24 with config:\n",
      "\u001b[34m\u001b[1mwandb\u001b[0m: \tBalancing: False\n",
      "\u001b[34m\u001b[1mwandb\u001b[0m: \tfeatures: ['x', 'y']\n",
      "\u001b[34m\u001b[1mwandb\u001b[0m: \tn_features_per_kernel: 4\n",
      "\u001b[34m\u001b[1mwandb\u001b[0m: \tnum_kernels: 2000\n",
      "\u001b[34m\u001b[1mwandb\u001b[0m: \trocket_transform: rocket\n",
      "\u001b[34m\u001b[1mwandb\u001b[0m: \tscaling: False\n",
      "\u001b[34m\u001b[1mwandb\u001b[0m: \twindow_size: 21\n"
     ]
    },
    {
     "data": {
      "text/html": [
       "Tracking run with wandb version 0.18.6"
      ],
      "text/plain": [
       "<IPython.core.display.HTML object>"
      ]
     },
     "metadata": {},
     "output_type": "display_data"
    },
    {
     "data": {
      "text/html": [
       "Run data is saved locally in <code>c:\\Users\\benev\\Documents\\Uni_Master\\Masterarbeit\\CODE\\8_tennis_analytics\\wandb\\run-20241201_150544-21mdfh24</code>"
      ],
      "text/plain": [
       "<IPython.core.display.HTML object>"
      ]
     },
     "metadata": {},
     "output_type": "display_data"
    },
    {
     "data": {
      "text/html": [
       "Syncing run <strong><a href='https://wandb.ai/MasterarbeitBV/XGBoost_Hyperparameter_Tuning/runs/21mdfh24' target=\"_blank\">efficient-sweep-72</a></strong> to <a href='https://wandb.ai/MasterarbeitBV/XGBoost_Hyperparameter_Tuning' target=\"_blank\">Weights & Biases</a> (<a href='https://wandb.me/developer-guide' target=\"_blank\">docs</a>)<br/>Sweep page: <a href='https://wandb.ai/MasterarbeitBV/XGBoost_Hyperparameter_Tuning/sweeps/oros33fx' target=\"_blank\">https://wandb.ai/MasterarbeitBV/XGBoost_Hyperparameter_Tuning/sweeps/oros33fx</a>"
      ],
      "text/plain": [
       "<IPython.core.display.HTML object>"
      ]
     },
     "metadata": {},
     "output_type": "display_data"
    },
    {
     "data": {
      "text/html": [
       " View project at <a href='https://wandb.ai/MasterarbeitBV/XGBoost_Hyperparameter_Tuning' target=\"_blank\">https://wandb.ai/MasterarbeitBV/XGBoost_Hyperparameter_Tuning</a>"
      ],
      "text/plain": [
       "<IPython.core.display.HTML object>"
      ]
     },
     "metadata": {},
     "output_type": "display_data"
    },
    {
     "data": {
      "text/html": [
       " View sweep at <a href='https://wandb.ai/MasterarbeitBV/XGBoost_Hyperparameter_Tuning/sweeps/oros33fx' target=\"_blank\">https://wandb.ai/MasterarbeitBV/XGBoost_Hyperparameter_Tuning/sweeps/oros33fx</a>"
      ],
      "text/plain": [
       "<IPython.core.display.HTML object>"
      ]
     },
     "metadata": {},
     "output_type": "display_data"
    },
    {
     "data": {
      "text/html": [
       " View run at <a href='https://wandb.ai/MasterarbeitBV/XGBoost_Hyperparameter_Tuning/runs/21mdfh24' target=\"_blank\">https://wandb.ai/MasterarbeitBV/XGBoost_Hyperparameter_Tuning/runs/21mdfh24</a>"
      ],
      "text/plain": [
       "<IPython.core.display.HTML object>"
      ]
     },
     "metadata": {},
     "output_type": "display_data"
    },
    {
     "data": {
      "text/html": [
       "\n",
       "    <style>\n",
       "        .wandb-row {\n",
       "            display: flex;\n",
       "            flex-direction: row;\n",
       "            flex-wrap: wrap;\n",
       "            justify-content: flex-start;\n",
       "            width: 100%;\n",
       "        }\n",
       "        .wandb-col {\n",
       "            display: flex;\n",
       "            flex-direction: column;\n",
       "            flex-basis: 100%;\n",
       "            flex: 1;\n",
       "            padding: 10px;\n",
       "        }\n",
       "    </style>\n",
       "<div class=\"wandb-row\"><div class=\"wandb-col\"><h3>Run history:</h3><br/><table class=\"wandb\"><tr><td>accuracy</td><td>▁</td></tr><tr><td>f1-score</td><td>▁</td></tr></table><br/></div><div class=\"wandb-col\"><h3>Run summary:</h3><br/><table class=\"wandb\"><tr><td>accuracy</td><td>0.95515</td></tr><tr><td>f1-score</td><td>0.45567</td></tr></table><br/></div></div>"
      ],
      "text/plain": [
       "<IPython.core.display.HTML object>"
      ]
     },
     "metadata": {},
     "output_type": "display_data"
    },
    {
     "data": {
      "text/html": [
       " View run <strong style=\"color:#cdcd00\">efficient-sweep-72</strong> at: <a href='https://wandb.ai/MasterarbeitBV/XGBoost_Hyperparameter_Tuning/runs/21mdfh24' target=\"_blank\">https://wandb.ai/MasterarbeitBV/XGBoost_Hyperparameter_Tuning/runs/21mdfh24</a><br/> View project at: <a href='https://wandb.ai/MasterarbeitBV/XGBoost_Hyperparameter_Tuning' target=\"_blank\">https://wandb.ai/MasterarbeitBV/XGBoost_Hyperparameter_Tuning</a><br/>Synced 5 W&B file(s), 0 media file(s), 0 artifact file(s) and 0 other file(s)"
      ],
      "text/plain": [
       "<IPython.core.display.HTML object>"
      ]
     },
     "metadata": {},
     "output_type": "display_data"
    },
    {
     "data": {
      "text/html": [
       "Find logs at: <code>.\\wandb\\run-20241201_150544-21mdfh24\\logs</code>"
      ],
      "text/plain": [
       "<IPython.core.display.HTML object>"
      ]
     },
     "metadata": {},
     "output_type": "display_data"
    },
    {
     "name": "stderr",
     "output_type": "stream",
     "text": [
      "\u001b[34m\u001b[1mwandb\u001b[0m: Agent Starting Run: ewykqvbq with config:\n",
      "\u001b[34m\u001b[1mwandb\u001b[0m: \tBalancing: True\n",
      "\u001b[34m\u001b[1mwandb\u001b[0m: \tfeatures: ['x', 'y']\n",
      "\u001b[34m\u001b[1mwandb\u001b[0m: \tn_features_per_kernel: 2\n",
      "\u001b[34m\u001b[1mwandb\u001b[0m: \tnum_kernels: 2000\n",
      "\u001b[34m\u001b[1mwandb\u001b[0m: \trocket_transform: rocket\n",
      "\u001b[34m\u001b[1mwandb\u001b[0m: \tscaling: True\n",
      "\u001b[34m\u001b[1mwandb\u001b[0m: \twindow_size: 21\n"
     ]
    },
    {
     "data": {
      "text/html": [
       "Tracking run with wandb version 0.18.6"
      ],
      "text/plain": [
       "<IPython.core.display.HTML object>"
      ]
     },
     "metadata": {},
     "output_type": "display_data"
    },
    {
     "data": {
      "text/html": [
       "Run data is saved locally in <code>c:\\Users\\benev\\Documents\\Uni_Master\\Masterarbeit\\CODE\\8_tennis_analytics\\wandb\\run-20241201_150700-ewykqvbq</code>"
      ],
      "text/plain": [
       "<IPython.core.display.HTML object>"
      ]
     },
     "metadata": {},
     "output_type": "display_data"
    },
    {
     "data": {
      "text/html": [
       "Syncing run <strong><a href='https://wandb.ai/MasterarbeitBV/XGBoost_Hyperparameter_Tuning/runs/ewykqvbq' target=\"_blank\">dainty-sweep-73</a></strong> to <a href='https://wandb.ai/MasterarbeitBV/XGBoost_Hyperparameter_Tuning' target=\"_blank\">Weights & Biases</a> (<a href='https://wandb.me/developer-guide' target=\"_blank\">docs</a>)<br/>Sweep page: <a href='https://wandb.ai/MasterarbeitBV/XGBoost_Hyperparameter_Tuning/sweeps/oros33fx' target=\"_blank\">https://wandb.ai/MasterarbeitBV/XGBoost_Hyperparameter_Tuning/sweeps/oros33fx</a>"
      ],
      "text/plain": [
       "<IPython.core.display.HTML object>"
      ]
     },
     "metadata": {},
     "output_type": "display_data"
    },
    {
     "data": {
      "text/html": [
       " View project at <a href='https://wandb.ai/MasterarbeitBV/XGBoost_Hyperparameter_Tuning' target=\"_blank\">https://wandb.ai/MasterarbeitBV/XGBoost_Hyperparameter_Tuning</a>"
      ],
      "text/plain": [
       "<IPython.core.display.HTML object>"
      ]
     },
     "metadata": {},
     "output_type": "display_data"
    },
    {
     "data": {
      "text/html": [
       " View sweep at <a href='https://wandb.ai/MasterarbeitBV/XGBoost_Hyperparameter_Tuning/sweeps/oros33fx' target=\"_blank\">https://wandb.ai/MasterarbeitBV/XGBoost_Hyperparameter_Tuning/sweeps/oros33fx</a>"
      ],
      "text/plain": [
       "<IPython.core.display.HTML object>"
      ]
     },
     "metadata": {},
     "output_type": "display_data"
    },
    {
     "data": {
      "text/html": [
       " View run at <a href='https://wandb.ai/MasterarbeitBV/XGBoost_Hyperparameter_Tuning/runs/ewykqvbq' target=\"_blank\">https://wandb.ai/MasterarbeitBV/XGBoost_Hyperparameter_Tuning/runs/ewykqvbq</a>"
      ],
      "text/plain": [
       "<IPython.core.display.HTML object>"
      ]
     },
     "metadata": {},
     "output_type": "display_data"
    },
    {
     "data": {
      "text/html": [
       "\n",
       "    <style>\n",
       "        .wandb-row {\n",
       "            display: flex;\n",
       "            flex-direction: row;\n",
       "            flex-wrap: wrap;\n",
       "            justify-content: flex-start;\n",
       "            width: 100%;\n",
       "        }\n",
       "        .wandb-col {\n",
       "            display: flex;\n",
       "            flex-direction: column;\n",
       "            flex-basis: 100%;\n",
       "            flex: 1;\n",
       "            padding: 10px;\n",
       "        }\n",
       "    </style>\n",
       "<div class=\"wandb-row\"><div class=\"wandb-col\"><h3>Run history:</h3><br/><table class=\"wandb\"><tr><td>accuracy</td><td>▁</td></tr><tr><td>f1-score</td><td>▁</td></tr></table><br/></div><div class=\"wandb-col\"><h3>Run summary:</h3><br/><table class=\"wandb\"><tr><td>accuracy</td><td>0.9232</td></tr><tr><td>f1-score</td><td>0.67739</td></tr></table><br/></div></div>"
      ],
      "text/plain": [
       "<IPython.core.display.HTML object>"
      ]
     },
     "metadata": {},
     "output_type": "display_data"
    },
    {
     "data": {
      "text/html": [
       " View run <strong style=\"color:#cdcd00\">dainty-sweep-73</strong> at: <a href='https://wandb.ai/MasterarbeitBV/XGBoost_Hyperparameter_Tuning/runs/ewykqvbq' target=\"_blank\">https://wandb.ai/MasterarbeitBV/XGBoost_Hyperparameter_Tuning/runs/ewykqvbq</a><br/> View project at: <a href='https://wandb.ai/MasterarbeitBV/XGBoost_Hyperparameter_Tuning' target=\"_blank\">https://wandb.ai/MasterarbeitBV/XGBoost_Hyperparameter_Tuning</a><br/>Synced 5 W&B file(s), 0 media file(s), 0 artifact file(s) and 0 other file(s)"
      ],
      "text/plain": [
       "<IPython.core.display.HTML object>"
      ]
     },
     "metadata": {},
     "output_type": "display_data"
    },
    {
     "data": {
      "text/html": [
       "Find logs at: <code>.\\wandb\\run-20241201_150700-ewykqvbq\\logs</code>"
      ],
      "text/plain": [
       "<IPython.core.display.HTML object>"
      ]
     },
     "metadata": {},
     "output_type": "display_data"
    },
    {
     "name": "stderr",
     "output_type": "stream",
     "text": [
      "\u001b[34m\u001b[1mwandb\u001b[0m: Agent Starting Run: wlrb7doh with config:\n",
      "\u001b[34m\u001b[1mwandb\u001b[0m: \tBalancing: False\n",
      "\u001b[34m\u001b[1mwandb\u001b[0m: \tfeatures: ['x', 'y']\n",
      "\u001b[34m\u001b[1mwandb\u001b[0m: \tn_features_per_kernel: 4\n",
      "\u001b[34m\u001b[1mwandb\u001b[0m: \tnum_kernels: 2000\n",
      "\u001b[34m\u001b[1mwandb\u001b[0m: \trocket_transform: rocket\n",
      "\u001b[34m\u001b[1mwandb\u001b[0m: \tscaling: True\n",
      "\u001b[34m\u001b[1mwandb\u001b[0m: \twindow_size: 21\n"
     ]
    },
    {
     "data": {
      "text/html": [
       "Tracking run with wandb version 0.18.6"
      ],
      "text/plain": [
       "<IPython.core.display.HTML object>"
      ]
     },
     "metadata": {},
     "output_type": "display_data"
    },
    {
     "data": {
      "text/html": [
       "Run data is saved locally in <code>c:\\Users\\benev\\Documents\\Uni_Master\\Masterarbeit\\CODE\\8_tennis_analytics\\wandb\\run-20241201_150927-wlrb7doh</code>"
      ],
      "text/plain": [
       "<IPython.core.display.HTML object>"
      ]
     },
     "metadata": {},
     "output_type": "display_data"
    },
    {
     "data": {
      "text/html": [
       "Syncing run <strong><a href='https://wandb.ai/MasterarbeitBV/XGBoost_Hyperparameter_Tuning/runs/wlrb7doh' target=\"_blank\">rosy-sweep-74</a></strong> to <a href='https://wandb.ai/MasterarbeitBV/XGBoost_Hyperparameter_Tuning' target=\"_blank\">Weights & Biases</a> (<a href='https://wandb.me/developer-guide' target=\"_blank\">docs</a>)<br/>Sweep page: <a href='https://wandb.ai/MasterarbeitBV/XGBoost_Hyperparameter_Tuning/sweeps/oros33fx' target=\"_blank\">https://wandb.ai/MasterarbeitBV/XGBoost_Hyperparameter_Tuning/sweeps/oros33fx</a>"
      ],
      "text/plain": [
       "<IPython.core.display.HTML object>"
      ]
     },
     "metadata": {},
     "output_type": "display_data"
    },
    {
     "data": {
      "text/html": [
       " View project at <a href='https://wandb.ai/MasterarbeitBV/XGBoost_Hyperparameter_Tuning' target=\"_blank\">https://wandb.ai/MasterarbeitBV/XGBoost_Hyperparameter_Tuning</a>"
      ],
      "text/plain": [
       "<IPython.core.display.HTML object>"
      ]
     },
     "metadata": {},
     "output_type": "display_data"
    },
    {
     "data": {
      "text/html": [
       " View sweep at <a href='https://wandb.ai/MasterarbeitBV/XGBoost_Hyperparameter_Tuning/sweeps/oros33fx' target=\"_blank\">https://wandb.ai/MasterarbeitBV/XGBoost_Hyperparameter_Tuning/sweeps/oros33fx</a>"
      ],
      "text/plain": [
       "<IPython.core.display.HTML object>"
      ]
     },
     "metadata": {},
     "output_type": "display_data"
    },
    {
     "data": {
      "text/html": [
       " View run at <a href='https://wandb.ai/MasterarbeitBV/XGBoost_Hyperparameter_Tuning/runs/wlrb7doh' target=\"_blank\">https://wandb.ai/MasterarbeitBV/XGBoost_Hyperparameter_Tuning/runs/wlrb7doh</a>"
      ],
      "text/plain": [
       "<IPython.core.display.HTML object>"
      ]
     },
     "metadata": {},
     "output_type": "display_data"
    },
    {
     "data": {
      "text/html": [
       "\n",
       "    <style>\n",
       "        .wandb-row {\n",
       "            display: flex;\n",
       "            flex-direction: row;\n",
       "            flex-wrap: wrap;\n",
       "            justify-content: flex-start;\n",
       "            width: 100%;\n",
       "        }\n",
       "        .wandb-col {\n",
       "            display: flex;\n",
       "            flex-direction: column;\n",
       "            flex-basis: 100%;\n",
       "            flex: 1;\n",
       "            padding: 10px;\n",
       "        }\n",
       "    </style>\n",
       "<div class=\"wandb-row\"><div class=\"wandb-col\"><h3>Run history:</h3><br/><table class=\"wandb\"><tr><td>accuracy</td><td>▁</td></tr><tr><td>f1-score</td><td>▁</td></tr></table><br/></div><div class=\"wandb-col\"><h3>Run summary:</h3><br/><table class=\"wandb\"><tr><td>accuracy</td><td>0.95547</td></tr><tr><td>f1-score</td><td>0.46411</td></tr></table><br/></div></div>"
      ],
      "text/plain": [
       "<IPython.core.display.HTML object>"
      ]
     },
     "metadata": {},
     "output_type": "display_data"
    },
    {
     "data": {
      "text/html": [
       " View run <strong style=\"color:#cdcd00\">rosy-sweep-74</strong> at: <a href='https://wandb.ai/MasterarbeitBV/XGBoost_Hyperparameter_Tuning/runs/wlrb7doh' target=\"_blank\">https://wandb.ai/MasterarbeitBV/XGBoost_Hyperparameter_Tuning/runs/wlrb7doh</a><br/> View project at: <a href='https://wandb.ai/MasterarbeitBV/XGBoost_Hyperparameter_Tuning' target=\"_blank\">https://wandb.ai/MasterarbeitBV/XGBoost_Hyperparameter_Tuning</a><br/>Synced 5 W&B file(s), 0 media file(s), 0 artifact file(s) and 0 other file(s)"
      ],
      "text/plain": [
       "<IPython.core.display.HTML object>"
      ]
     },
     "metadata": {},
     "output_type": "display_data"
    },
    {
     "data": {
      "text/html": [
       "Find logs at: <code>.\\wandb\\run-20241201_150927-wlrb7doh\\logs</code>"
      ],
      "text/plain": [
       "<IPython.core.display.HTML object>"
      ]
     },
     "metadata": {},
     "output_type": "display_data"
    },
    {
     "name": "stderr",
     "output_type": "stream",
     "text": [
      "\u001b[34m\u001b[1mwandb\u001b[0m: Agent Starting Run: a0igvars with config:\n",
      "\u001b[34m\u001b[1mwandb\u001b[0m: \tBalancing: True\n",
      "\u001b[34m\u001b[1mwandb\u001b[0m: \tfeatures: ['x', 'y']\n",
      "\u001b[34m\u001b[1mwandb\u001b[0m: \tn_features_per_kernel: 4\n",
      "\u001b[34m\u001b[1mwandb\u001b[0m: \tnum_kernels: 2000\n",
      "\u001b[34m\u001b[1mwandb\u001b[0m: \trocket_transform: rocket\n",
      "\u001b[34m\u001b[1mwandb\u001b[0m: \tscaling: False\n",
      "\u001b[34m\u001b[1mwandb\u001b[0m: \twindow_size: 21\n"
     ]
    },
    {
     "data": {
      "text/html": [
       "Tracking run with wandb version 0.18.6"
      ],
      "text/plain": [
       "<IPython.core.display.HTML object>"
      ]
     },
     "metadata": {},
     "output_type": "display_data"
    },
    {
     "data": {
      "text/html": [
       "Run data is saved locally in <code>c:\\Users\\benev\\Documents\\Uni_Master\\Masterarbeit\\CODE\\8_tennis_analytics\\wandb\\run-20241201_151047-a0igvars</code>"
      ],
      "text/plain": [
       "<IPython.core.display.HTML object>"
      ]
     },
     "metadata": {},
     "output_type": "display_data"
    },
    {
     "data": {
      "text/html": [
       "Syncing run <strong><a href='https://wandb.ai/MasterarbeitBV/XGBoost_Hyperparameter_Tuning/runs/a0igvars' target=\"_blank\">breezy-sweep-75</a></strong> to <a href='https://wandb.ai/MasterarbeitBV/XGBoost_Hyperparameter_Tuning' target=\"_blank\">Weights & Biases</a> (<a href='https://wandb.me/developer-guide' target=\"_blank\">docs</a>)<br/>Sweep page: <a href='https://wandb.ai/MasterarbeitBV/XGBoost_Hyperparameter_Tuning/sweeps/oros33fx' target=\"_blank\">https://wandb.ai/MasterarbeitBV/XGBoost_Hyperparameter_Tuning/sweeps/oros33fx</a>"
      ],
      "text/plain": [
       "<IPython.core.display.HTML object>"
      ]
     },
     "metadata": {},
     "output_type": "display_data"
    },
    {
     "data": {
      "text/html": [
       " View project at <a href='https://wandb.ai/MasterarbeitBV/XGBoost_Hyperparameter_Tuning' target=\"_blank\">https://wandb.ai/MasterarbeitBV/XGBoost_Hyperparameter_Tuning</a>"
      ],
      "text/plain": [
       "<IPython.core.display.HTML object>"
      ]
     },
     "metadata": {},
     "output_type": "display_data"
    },
    {
     "data": {
      "text/html": [
       " View sweep at <a href='https://wandb.ai/MasterarbeitBV/XGBoost_Hyperparameter_Tuning/sweeps/oros33fx' target=\"_blank\">https://wandb.ai/MasterarbeitBV/XGBoost_Hyperparameter_Tuning/sweeps/oros33fx</a>"
      ],
      "text/plain": [
       "<IPython.core.display.HTML object>"
      ]
     },
     "metadata": {},
     "output_type": "display_data"
    },
    {
     "data": {
      "text/html": [
       " View run at <a href='https://wandb.ai/MasterarbeitBV/XGBoost_Hyperparameter_Tuning/runs/a0igvars' target=\"_blank\">https://wandb.ai/MasterarbeitBV/XGBoost_Hyperparameter_Tuning/runs/a0igvars</a>"
      ],
      "text/plain": [
       "<IPython.core.display.HTML object>"
      ]
     },
     "metadata": {},
     "output_type": "display_data"
    },
    {
     "data": {
      "text/html": [
       "\n",
       "    <style>\n",
       "        .wandb-row {\n",
       "            display: flex;\n",
       "            flex-direction: row;\n",
       "            flex-wrap: wrap;\n",
       "            justify-content: flex-start;\n",
       "            width: 100%;\n",
       "        }\n",
       "        .wandb-col {\n",
       "            display: flex;\n",
       "            flex-direction: column;\n",
       "            flex-basis: 100%;\n",
       "            flex: 1;\n",
       "            padding: 10px;\n",
       "        }\n",
       "    </style>\n",
       "<div class=\"wandb-row\"><div class=\"wandb-col\"><h3>Run history:</h3><br/><table class=\"wandb\"><tr><td>accuracy</td><td>▁</td></tr><tr><td>f1-score</td><td>▁</td></tr></table><br/></div><div class=\"wandb-col\"><h3>Run summary:</h3><br/><table class=\"wandb\"><tr><td>accuracy</td><td>0.92062</td></tr><tr><td>f1-score</td><td>0.6691</td></tr></table><br/></div></div>"
      ],
      "text/plain": [
       "<IPython.core.display.HTML object>"
      ]
     },
     "metadata": {},
     "output_type": "display_data"
    },
    {
     "data": {
      "text/html": [
       " View run <strong style=\"color:#cdcd00\">breezy-sweep-75</strong> at: <a href='https://wandb.ai/MasterarbeitBV/XGBoost_Hyperparameter_Tuning/runs/a0igvars' target=\"_blank\">https://wandb.ai/MasterarbeitBV/XGBoost_Hyperparameter_Tuning/runs/a0igvars</a><br/> View project at: <a href='https://wandb.ai/MasterarbeitBV/XGBoost_Hyperparameter_Tuning' target=\"_blank\">https://wandb.ai/MasterarbeitBV/XGBoost_Hyperparameter_Tuning</a><br/>Synced 5 W&B file(s), 0 media file(s), 0 artifact file(s) and 0 other file(s)"
      ],
      "text/plain": [
       "<IPython.core.display.HTML object>"
      ]
     },
     "metadata": {},
     "output_type": "display_data"
    },
    {
     "data": {
      "text/html": [
       "Find logs at: <code>.\\wandb\\run-20241201_151047-a0igvars\\logs</code>"
      ],
      "text/plain": [
       "<IPython.core.display.HTML object>"
      ]
     },
     "metadata": {},
     "output_type": "display_data"
    },
    {
     "name": "stderr",
     "output_type": "stream",
     "text": [
      "\u001b[34m\u001b[1mwandb\u001b[0m: Agent Starting Run: tue3563j with config:\n",
      "\u001b[34m\u001b[1mwandb\u001b[0m: \tBalancing: True\n",
      "\u001b[34m\u001b[1mwandb\u001b[0m: \tfeatures: ['x', 'y']\n",
      "\u001b[34m\u001b[1mwandb\u001b[0m: \tn_features_per_kernel: 4\n",
      "\u001b[34m\u001b[1mwandb\u001b[0m: \tnum_kernels: 2000\n",
      "\u001b[34m\u001b[1mwandb\u001b[0m: \trocket_transform: rocket\n",
      "\u001b[34m\u001b[1mwandb\u001b[0m: \tscaling: False\n",
      "\u001b[34m\u001b[1mwandb\u001b[0m: \twindow_size: 11\n"
     ]
    },
    {
     "data": {
      "text/html": [
       "Tracking run with wandb version 0.18.6"
      ],
      "text/plain": [
       "<IPython.core.display.HTML object>"
      ]
     },
     "metadata": {},
     "output_type": "display_data"
    },
    {
     "data": {
      "text/html": [
       "Run data is saved locally in <code>c:\\Users\\benev\\Documents\\Uni_Master\\Masterarbeit\\CODE\\8_tennis_analytics\\wandb\\run-20241201_151310-tue3563j</code>"
      ],
      "text/plain": [
       "<IPython.core.display.HTML object>"
      ]
     },
     "metadata": {},
     "output_type": "display_data"
    },
    {
     "data": {
      "text/html": [
       "Syncing run <strong><a href='https://wandb.ai/MasterarbeitBV/XGBoost_Hyperparameter_Tuning/runs/tue3563j' target=\"_blank\">worldly-sweep-76</a></strong> to <a href='https://wandb.ai/MasterarbeitBV/XGBoost_Hyperparameter_Tuning' target=\"_blank\">Weights & Biases</a> (<a href='https://wandb.me/developer-guide' target=\"_blank\">docs</a>)<br/>Sweep page: <a href='https://wandb.ai/MasterarbeitBV/XGBoost_Hyperparameter_Tuning/sweeps/oros33fx' target=\"_blank\">https://wandb.ai/MasterarbeitBV/XGBoost_Hyperparameter_Tuning/sweeps/oros33fx</a>"
      ],
      "text/plain": [
       "<IPython.core.display.HTML object>"
      ]
     },
     "metadata": {},
     "output_type": "display_data"
    },
    {
     "data": {
      "text/html": [
       " View project at <a href='https://wandb.ai/MasterarbeitBV/XGBoost_Hyperparameter_Tuning' target=\"_blank\">https://wandb.ai/MasterarbeitBV/XGBoost_Hyperparameter_Tuning</a>"
      ],
      "text/plain": [
       "<IPython.core.display.HTML object>"
      ]
     },
     "metadata": {},
     "output_type": "display_data"
    },
    {
     "data": {
      "text/html": [
       " View sweep at <a href='https://wandb.ai/MasterarbeitBV/XGBoost_Hyperparameter_Tuning/sweeps/oros33fx' target=\"_blank\">https://wandb.ai/MasterarbeitBV/XGBoost_Hyperparameter_Tuning/sweeps/oros33fx</a>"
      ],
      "text/plain": [
       "<IPython.core.display.HTML object>"
      ]
     },
     "metadata": {},
     "output_type": "display_data"
    },
    {
     "data": {
      "text/html": [
       " View run at <a href='https://wandb.ai/MasterarbeitBV/XGBoost_Hyperparameter_Tuning/runs/tue3563j' target=\"_blank\">https://wandb.ai/MasterarbeitBV/XGBoost_Hyperparameter_Tuning/runs/tue3563j</a>"
      ],
      "text/plain": [
       "<IPython.core.display.HTML object>"
      ]
     },
     "metadata": {},
     "output_type": "display_data"
    },
    {
     "data": {
      "text/html": [
       "\n",
       "    <style>\n",
       "        .wandb-row {\n",
       "            display: flex;\n",
       "            flex-direction: row;\n",
       "            flex-wrap: wrap;\n",
       "            justify-content: flex-start;\n",
       "            width: 100%;\n",
       "        }\n",
       "        .wandb-col {\n",
       "            display: flex;\n",
       "            flex-direction: column;\n",
       "            flex-basis: 100%;\n",
       "            flex: 1;\n",
       "            padding: 10px;\n",
       "        }\n",
       "    </style>\n",
       "<div class=\"wandb-row\"><div class=\"wandb-col\"><h3>Run history:</h3><br/><table class=\"wandb\"><tr><td>accuracy</td><td>▁</td></tr><tr><td>f1-score</td><td>▁</td></tr></table><br/></div><div class=\"wandb-col\"><h3>Run summary:</h3><br/><table class=\"wandb\"><tr><td>accuracy</td><td>0.93777</td></tr><tr><td>f1-score</td><td>0.70348</td></tr></table><br/></div></div>"
      ],
      "text/plain": [
       "<IPython.core.display.HTML object>"
      ]
     },
     "metadata": {},
     "output_type": "display_data"
    },
    {
     "data": {
      "text/html": [
       " View run <strong style=\"color:#cdcd00\">worldly-sweep-76</strong> at: <a href='https://wandb.ai/MasterarbeitBV/XGBoost_Hyperparameter_Tuning/runs/tue3563j' target=\"_blank\">https://wandb.ai/MasterarbeitBV/XGBoost_Hyperparameter_Tuning/runs/tue3563j</a><br/> View project at: <a href='https://wandb.ai/MasterarbeitBV/XGBoost_Hyperparameter_Tuning' target=\"_blank\">https://wandb.ai/MasterarbeitBV/XGBoost_Hyperparameter_Tuning</a><br/>Synced 5 W&B file(s), 0 media file(s), 0 artifact file(s) and 0 other file(s)"
      ],
      "text/plain": [
       "<IPython.core.display.HTML object>"
      ]
     },
     "metadata": {},
     "output_type": "display_data"
    },
    {
     "data": {
      "text/html": [
       "Find logs at: <code>.\\wandb\\run-20241201_151310-tue3563j\\logs</code>"
      ],
      "text/plain": [
       "<IPython.core.display.HTML object>"
      ]
     },
     "metadata": {},
     "output_type": "display_data"
    },
    {
     "name": "stderr",
     "output_type": "stream",
     "text": [
      "\u001b[34m\u001b[1mwandb\u001b[0m: Agent Starting Run: suvk14xf with config:\n",
      "\u001b[34m\u001b[1mwandb\u001b[0m: \tBalancing: False\n",
      "\u001b[34m\u001b[1mwandb\u001b[0m: \tfeatures: ['x', 'y']\n",
      "\u001b[34m\u001b[1mwandb\u001b[0m: \tn_features_per_kernel: 4\n",
      "\u001b[34m\u001b[1mwandb\u001b[0m: \tnum_kernels: 2000\n",
      "\u001b[34m\u001b[1mwandb\u001b[0m: \trocket_transform: rocket\n",
      "\u001b[34m\u001b[1mwandb\u001b[0m: \tscaling: True\n",
      "\u001b[34m\u001b[1mwandb\u001b[0m: \twindow_size: 11\n"
     ]
    },
    {
     "data": {
      "text/html": [
       "Tracking run with wandb version 0.18.6"
      ],
      "text/plain": [
       "<IPython.core.display.HTML object>"
      ]
     },
     "metadata": {},
     "output_type": "display_data"
    },
    {
     "data": {
      "text/html": [
       "Run data is saved locally in <code>c:\\Users\\benev\\Documents\\Uni_Master\\Masterarbeit\\CODE\\8_tennis_analytics\\wandb\\run-20241201_151525-suvk14xf</code>"
      ],
      "text/plain": [
       "<IPython.core.display.HTML object>"
      ]
     },
     "metadata": {},
     "output_type": "display_data"
    },
    {
     "data": {
      "text/html": [
       "Syncing run <strong><a href='https://wandb.ai/MasterarbeitBV/XGBoost_Hyperparameter_Tuning/runs/suvk14xf' target=\"_blank\">drawn-sweep-77</a></strong> to <a href='https://wandb.ai/MasterarbeitBV/XGBoost_Hyperparameter_Tuning' target=\"_blank\">Weights & Biases</a> (<a href='https://wandb.me/developer-guide' target=\"_blank\">docs</a>)<br/>Sweep page: <a href='https://wandb.ai/MasterarbeitBV/XGBoost_Hyperparameter_Tuning/sweeps/oros33fx' target=\"_blank\">https://wandb.ai/MasterarbeitBV/XGBoost_Hyperparameter_Tuning/sweeps/oros33fx</a>"
      ],
      "text/plain": [
       "<IPython.core.display.HTML object>"
      ]
     },
     "metadata": {},
     "output_type": "display_data"
    },
    {
     "data": {
      "text/html": [
       " View project at <a href='https://wandb.ai/MasterarbeitBV/XGBoost_Hyperparameter_Tuning' target=\"_blank\">https://wandb.ai/MasterarbeitBV/XGBoost_Hyperparameter_Tuning</a>"
      ],
      "text/plain": [
       "<IPython.core.display.HTML object>"
      ]
     },
     "metadata": {},
     "output_type": "display_data"
    },
    {
     "data": {
      "text/html": [
       " View sweep at <a href='https://wandb.ai/MasterarbeitBV/XGBoost_Hyperparameter_Tuning/sweeps/oros33fx' target=\"_blank\">https://wandb.ai/MasterarbeitBV/XGBoost_Hyperparameter_Tuning/sweeps/oros33fx</a>"
      ],
      "text/plain": [
       "<IPython.core.display.HTML object>"
      ]
     },
     "metadata": {},
     "output_type": "display_data"
    },
    {
     "data": {
      "text/html": [
       " View run at <a href='https://wandb.ai/MasterarbeitBV/XGBoost_Hyperparameter_Tuning/runs/suvk14xf' target=\"_blank\">https://wandb.ai/MasterarbeitBV/XGBoost_Hyperparameter_Tuning/runs/suvk14xf</a>"
      ],
      "text/plain": [
       "<IPython.core.display.HTML object>"
      ]
     },
     "metadata": {},
     "output_type": "display_data"
    },
    {
     "data": {
      "text/html": [
       "\n",
       "    <style>\n",
       "        .wandb-row {\n",
       "            display: flex;\n",
       "            flex-direction: row;\n",
       "            flex-wrap: wrap;\n",
       "            justify-content: flex-start;\n",
       "            width: 100%;\n",
       "        }\n",
       "        .wandb-col {\n",
       "            display: flex;\n",
       "            flex-direction: column;\n",
       "            flex-basis: 100%;\n",
       "            flex: 1;\n",
       "            padding: 10px;\n",
       "        }\n",
       "    </style>\n",
       "<div class=\"wandb-row\"><div class=\"wandb-col\"><h3>Run history:</h3><br/><table class=\"wandb\"><tr><td>accuracy</td><td>▁</td></tr><tr><td>f1-score</td><td>▁</td></tr></table><br/></div><div class=\"wandb-col\"><h3>Run summary:</h3><br/><table class=\"wandb\"><tr><td>accuracy</td><td>0.96875</td></tr><tr><td>f1-score</td><td>0.72909</td></tr></table><br/></div></div>"
      ],
      "text/plain": [
       "<IPython.core.display.HTML object>"
      ]
     },
     "metadata": {},
     "output_type": "display_data"
    },
    {
     "data": {
      "text/html": [
       " View run <strong style=\"color:#cdcd00\">drawn-sweep-77</strong> at: <a href='https://wandb.ai/MasterarbeitBV/XGBoost_Hyperparameter_Tuning/runs/suvk14xf' target=\"_blank\">https://wandb.ai/MasterarbeitBV/XGBoost_Hyperparameter_Tuning/runs/suvk14xf</a><br/> View project at: <a href='https://wandb.ai/MasterarbeitBV/XGBoost_Hyperparameter_Tuning' target=\"_blank\">https://wandb.ai/MasterarbeitBV/XGBoost_Hyperparameter_Tuning</a><br/>Synced 5 W&B file(s), 0 media file(s), 0 artifact file(s) and 0 other file(s)"
      ],
      "text/plain": [
       "<IPython.core.display.HTML object>"
      ]
     },
     "metadata": {},
     "output_type": "display_data"
    },
    {
     "data": {
      "text/html": [
       "Find logs at: <code>.\\wandb\\run-20241201_151525-suvk14xf\\logs</code>"
      ],
      "text/plain": [
       "<IPython.core.display.HTML object>"
      ]
     },
     "metadata": {},
     "output_type": "display_data"
    },
    {
     "name": "stderr",
     "output_type": "stream",
     "text": [
      "\u001b[34m\u001b[1mwandb\u001b[0m: Sweep Agent: Waiting for job.\n",
      "\u001b[34m\u001b[1mwandb\u001b[0m: Job received.\n",
      "\u001b[34m\u001b[1mwandb\u001b[0m: Agent Starting Run: d8cbix4o with config:\n",
      "\u001b[34m\u001b[1mwandb\u001b[0m: \tBalancing: True\n",
      "\u001b[34m\u001b[1mwandb\u001b[0m: \tfeatures: ['x', 'y']\n",
      "\u001b[34m\u001b[1mwandb\u001b[0m: \tn_features_per_kernel: 2\n",
      "\u001b[34m\u001b[1mwandb\u001b[0m: \tnum_kernels: 2000\n",
      "\u001b[34m\u001b[1mwandb\u001b[0m: \trocket_transform: rocket\n",
      "\u001b[34m\u001b[1mwandb\u001b[0m: \tscaling: True\n",
      "\u001b[34m\u001b[1mwandb\u001b[0m: \twindow_size: 21\n"
     ]
    },
    {
     "data": {
      "text/html": [
       "Tracking run with wandb version 0.18.6"
      ],
      "text/plain": [
       "<IPython.core.display.HTML object>"
      ]
     },
     "metadata": {},
     "output_type": "display_data"
    },
    {
     "data": {
      "text/html": [
       "Run data is saved locally in <code>c:\\Users\\benev\\Documents\\Uni_Master\\Masterarbeit\\CODE\\8_tennis_analytics\\wandb\\run-20241201_151641-d8cbix4o</code>"
      ],
      "text/plain": [
       "<IPython.core.display.HTML object>"
      ]
     },
     "metadata": {},
     "output_type": "display_data"
    },
    {
     "data": {
      "text/html": [
       "Syncing run <strong><a href='https://wandb.ai/MasterarbeitBV/XGBoost_Hyperparameter_Tuning/runs/d8cbix4o' target=\"_blank\">eager-sweep-78</a></strong> to <a href='https://wandb.ai/MasterarbeitBV/XGBoost_Hyperparameter_Tuning' target=\"_blank\">Weights & Biases</a> (<a href='https://wandb.me/developer-guide' target=\"_blank\">docs</a>)<br/>Sweep page: <a href='https://wandb.ai/MasterarbeitBV/XGBoost_Hyperparameter_Tuning/sweeps/oros33fx' target=\"_blank\">https://wandb.ai/MasterarbeitBV/XGBoost_Hyperparameter_Tuning/sweeps/oros33fx</a>"
      ],
      "text/plain": [
       "<IPython.core.display.HTML object>"
      ]
     },
     "metadata": {},
     "output_type": "display_data"
    },
    {
     "data": {
      "text/html": [
       " View project at <a href='https://wandb.ai/MasterarbeitBV/XGBoost_Hyperparameter_Tuning' target=\"_blank\">https://wandb.ai/MasterarbeitBV/XGBoost_Hyperparameter_Tuning</a>"
      ],
      "text/plain": [
       "<IPython.core.display.HTML object>"
      ]
     },
     "metadata": {},
     "output_type": "display_data"
    },
    {
     "data": {
      "text/html": [
       " View sweep at <a href='https://wandb.ai/MasterarbeitBV/XGBoost_Hyperparameter_Tuning/sweeps/oros33fx' target=\"_blank\">https://wandb.ai/MasterarbeitBV/XGBoost_Hyperparameter_Tuning/sweeps/oros33fx</a>"
      ],
      "text/plain": [
       "<IPython.core.display.HTML object>"
      ]
     },
     "metadata": {},
     "output_type": "display_data"
    },
    {
     "data": {
      "text/html": [
       " View run at <a href='https://wandb.ai/MasterarbeitBV/XGBoost_Hyperparameter_Tuning/runs/d8cbix4o' target=\"_blank\">https://wandb.ai/MasterarbeitBV/XGBoost_Hyperparameter_Tuning/runs/d8cbix4o</a>"
      ],
      "text/plain": [
       "<IPython.core.display.HTML object>"
      ]
     },
     "metadata": {},
     "output_type": "display_data"
    },
    {
     "data": {
      "text/html": [
       "\n",
       "    <style>\n",
       "        .wandb-row {\n",
       "            display: flex;\n",
       "            flex-direction: row;\n",
       "            flex-wrap: wrap;\n",
       "            justify-content: flex-start;\n",
       "            width: 100%;\n",
       "        }\n",
       "        .wandb-col {\n",
       "            display: flex;\n",
       "            flex-direction: column;\n",
       "            flex-basis: 100%;\n",
       "            flex: 1;\n",
       "            padding: 10px;\n",
       "        }\n",
       "    </style>\n",
       "<div class=\"wandb-row\"><div class=\"wandb-col\"><h3>Run history:</h3><br/><table class=\"wandb\"><tr><td>accuracy</td><td>▁</td></tr><tr><td>f1-score</td><td>▁</td></tr></table><br/></div><div class=\"wandb-col\"><h3>Run summary:</h3><br/><table class=\"wandb\"><tr><td>accuracy</td><td>0.9232</td></tr><tr><td>f1-score</td><td>0.67739</td></tr></table><br/></div></div>"
      ],
      "text/plain": [
       "<IPython.core.display.HTML object>"
      ]
     },
     "metadata": {},
     "output_type": "display_data"
    },
    {
     "data": {
      "text/html": [
       " View run <strong style=\"color:#cdcd00\">eager-sweep-78</strong> at: <a href='https://wandb.ai/MasterarbeitBV/XGBoost_Hyperparameter_Tuning/runs/d8cbix4o' target=\"_blank\">https://wandb.ai/MasterarbeitBV/XGBoost_Hyperparameter_Tuning/runs/d8cbix4o</a><br/> View project at: <a href='https://wandb.ai/MasterarbeitBV/XGBoost_Hyperparameter_Tuning' target=\"_blank\">https://wandb.ai/MasterarbeitBV/XGBoost_Hyperparameter_Tuning</a><br/>Synced 5 W&B file(s), 0 media file(s), 0 artifact file(s) and 0 other file(s)"
      ],
      "text/plain": [
       "<IPython.core.display.HTML object>"
      ]
     },
     "metadata": {},
     "output_type": "display_data"
    },
    {
     "data": {
      "text/html": [
       "Find logs at: <code>.\\wandb\\run-20241201_151641-d8cbix4o\\logs</code>"
      ],
      "text/plain": [
       "<IPython.core.display.HTML object>"
      ]
     },
     "metadata": {},
     "output_type": "display_data"
    },
    {
     "name": "stderr",
     "output_type": "stream",
     "text": [
      "\u001b[34m\u001b[1mwandb\u001b[0m: Agent Starting Run: o47s5aiy with config:\n",
      "\u001b[34m\u001b[1mwandb\u001b[0m: \tBalancing: False\n",
      "\u001b[34m\u001b[1mwandb\u001b[0m: \tfeatures: ['x', 'y']\n",
      "\u001b[34m\u001b[1mwandb\u001b[0m: \tn_features_per_kernel: 2\n",
      "\u001b[34m\u001b[1mwandb\u001b[0m: \tnum_kernels: 2000\n",
      "\u001b[34m\u001b[1mwandb\u001b[0m: \trocket_transform: rocket\n",
      "\u001b[34m\u001b[1mwandb\u001b[0m: \tscaling: True\n",
      "\u001b[34m\u001b[1mwandb\u001b[0m: \twindow_size: 11\n"
     ]
    },
    {
     "data": {
      "text/html": [
       "Tracking run with wandb version 0.18.6"
      ],
      "text/plain": [
       "<IPython.core.display.HTML object>"
      ]
     },
     "metadata": {},
     "output_type": "display_data"
    },
    {
     "data": {
      "text/html": [
       "Run data is saved locally in <code>c:\\Users\\benev\\Documents\\Uni_Master\\Masterarbeit\\CODE\\8_tennis_analytics\\wandb\\run-20241201_151910-o47s5aiy</code>"
      ],
      "text/plain": [
       "<IPython.core.display.HTML object>"
      ]
     },
     "metadata": {},
     "output_type": "display_data"
    },
    {
     "data": {
      "text/html": [
       "Syncing run <strong><a href='https://wandb.ai/MasterarbeitBV/XGBoost_Hyperparameter_Tuning/runs/o47s5aiy' target=\"_blank\">vital-sweep-79</a></strong> to <a href='https://wandb.ai/MasterarbeitBV/XGBoost_Hyperparameter_Tuning' target=\"_blank\">Weights & Biases</a> (<a href='https://wandb.me/developer-guide' target=\"_blank\">docs</a>)<br/>Sweep page: <a href='https://wandb.ai/MasterarbeitBV/XGBoost_Hyperparameter_Tuning/sweeps/oros33fx' target=\"_blank\">https://wandb.ai/MasterarbeitBV/XGBoost_Hyperparameter_Tuning/sweeps/oros33fx</a>"
      ],
      "text/plain": [
       "<IPython.core.display.HTML object>"
      ]
     },
     "metadata": {},
     "output_type": "display_data"
    },
    {
     "data": {
      "text/html": [
       " View project at <a href='https://wandb.ai/MasterarbeitBV/XGBoost_Hyperparameter_Tuning' target=\"_blank\">https://wandb.ai/MasterarbeitBV/XGBoost_Hyperparameter_Tuning</a>"
      ],
      "text/plain": [
       "<IPython.core.display.HTML object>"
      ]
     },
     "metadata": {},
     "output_type": "display_data"
    },
    {
     "data": {
      "text/html": [
       " View sweep at <a href='https://wandb.ai/MasterarbeitBV/XGBoost_Hyperparameter_Tuning/sweeps/oros33fx' target=\"_blank\">https://wandb.ai/MasterarbeitBV/XGBoost_Hyperparameter_Tuning/sweeps/oros33fx</a>"
      ],
      "text/plain": [
       "<IPython.core.display.HTML object>"
      ]
     },
     "metadata": {},
     "output_type": "display_data"
    },
    {
     "data": {
      "text/html": [
       " View run at <a href='https://wandb.ai/MasterarbeitBV/XGBoost_Hyperparameter_Tuning/runs/o47s5aiy' target=\"_blank\">https://wandb.ai/MasterarbeitBV/XGBoost_Hyperparameter_Tuning/runs/o47s5aiy</a>"
      ],
      "text/plain": [
       "<IPython.core.display.HTML object>"
      ]
     },
     "metadata": {},
     "output_type": "display_data"
    },
    {
     "data": {
      "text/html": [
       "\n",
       "    <style>\n",
       "        .wandb-row {\n",
       "            display: flex;\n",
       "            flex-direction: row;\n",
       "            flex-wrap: wrap;\n",
       "            justify-content: flex-start;\n",
       "            width: 100%;\n",
       "        }\n",
       "        .wandb-col {\n",
       "            display: flex;\n",
       "            flex-direction: column;\n",
       "            flex-basis: 100%;\n",
       "            flex: 1;\n",
       "            padding: 10px;\n",
       "        }\n",
       "    </style>\n",
       "<div class=\"wandb-row\"><div class=\"wandb-col\"><h3>Run history:</h3><br/><table class=\"wandb\"><tr><td>accuracy</td><td>▁</td></tr><tr><td>f1-score</td><td>▁</td></tr></table><br/></div><div class=\"wandb-col\"><h3>Run summary:</h3><br/><table class=\"wandb\"><tr><td>accuracy</td><td>0.96875</td></tr><tr><td>f1-score</td><td>0.72909</td></tr></table><br/></div></div>"
      ],
      "text/plain": [
       "<IPython.core.display.HTML object>"
      ]
     },
     "metadata": {},
     "output_type": "display_data"
    },
    {
     "data": {
      "text/html": [
       " View run <strong style=\"color:#cdcd00\">vital-sweep-79</strong> at: <a href='https://wandb.ai/MasterarbeitBV/XGBoost_Hyperparameter_Tuning/runs/o47s5aiy' target=\"_blank\">https://wandb.ai/MasterarbeitBV/XGBoost_Hyperparameter_Tuning/runs/o47s5aiy</a><br/> View project at: <a href='https://wandb.ai/MasterarbeitBV/XGBoost_Hyperparameter_Tuning' target=\"_blank\">https://wandb.ai/MasterarbeitBV/XGBoost_Hyperparameter_Tuning</a><br/>Synced 5 W&B file(s), 0 media file(s), 0 artifact file(s) and 0 other file(s)"
      ],
      "text/plain": [
       "<IPython.core.display.HTML object>"
      ]
     },
     "metadata": {},
     "output_type": "display_data"
    },
    {
     "data": {
      "text/html": [
       "Find logs at: <code>.\\wandb\\run-20241201_151910-o47s5aiy\\logs</code>"
      ],
      "text/plain": [
       "<IPython.core.display.HTML object>"
      ]
     },
     "metadata": {},
     "output_type": "display_data"
    },
    {
     "name": "stderr",
     "output_type": "stream",
     "text": [
      "\u001b[34m\u001b[1mwandb\u001b[0m: Agent Starting Run: brmrkg69 with config:\n",
      "\u001b[34m\u001b[1mwandb\u001b[0m: \tBalancing: True\n",
      "\u001b[34m\u001b[1mwandb\u001b[0m: \tfeatures: ['x', 'y']\n",
      "\u001b[34m\u001b[1mwandb\u001b[0m: \tn_features_per_kernel: 4\n",
      "\u001b[34m\u001b[1mwandb\u001b[0m: \tnum_kernels: 2000\n",
      "\u001b[34m\u001b[1mwandb\u001b[0m: \trocket_transform: rocket\n",
      "\u001b[34m\u001b[1mwandb\u001b[0m: \tscaling: True\n",
      "\u001b[34m\u001b[1mwandb\u001b[0m: \twindow_size: 11\n"
     ]
    },
    {
     "data": {
      "text/html": [
       "Tracking run with wandb version 0.18.6"
      ],
      "text/plain": [
       "<IPython.core.display.HTML object>"
      ]
     },
     "metadata": {},
     "output_type": "display_data"
    },
    {
     "data": {
      "text/html": [
       "Run data is saved locally in <code>c:\\Users\\benev\\Documents\\Uni_Master\\Masterarbeit\\CODE\\8_tennis_analytics\\wandb\\run-20241201_152022-brmrkg69</code>"
      ],
      "text/plain": [
       "<IPython.core.display.HTML object>"
      ]
     },
     "metadata": {},
     "output_type": "display_data"
    },
    {
     "data": {
      "text/html": [
       "Syncing run <strong><a href='https://wandb.ai/MasterarbeitBV/XGBoost_Hyperparameter_Tuning/runs/brmrkg69' target=\"_blank\">whole-sweep-80</a></strong> to <a href='https://wandb.ai/MasterarbeitBV/XGBoost_Hyperparameter_Tuning' target=\"_blank\">Weights & Biases</a> (<a href='https://wandb.me/developer-guide' target=\"_blank\">docs</a>)<br/>Sweep page: <a href='https://wandb.ai/MasterarbeitBV/XGBoost_Hyperparameter_Tuning/sweeps/oros33fx' target=\"_blank\">https://wandb.ai/MasterarbeitBV/XGBoost_Hyperparameter_Tuning/sweeps/oros33fx</a>"
      ],
      "text/plain": [
       "<IPython.core.display.HTML object>"
      ]
     },
     "metadata": {},
     "output_type": "display_data"
    },
    {
     "data": {
      "text/html": [
       " View project at <a href='https://wandb.ai/MasterarbeitBV/XGBoost_Hyperparameter_Tuning' target=\"_blank\">https://wandb.ai/MasterarbeitBV/XGBoost_Hyperparameter_Tuning</a>"
      ],
      "text/plain": [
       "<IPython.core.display.HTML object>"
      ]
     },
     "metadata": {},
     "output_type": "display_data"
    },
    {
     "data": {
      "text/html": [
       " View sweep at <a href='https://wandb.ai/MasterarbeitBV/XGBoost_Hyperparameter_Tuning/sweeps/oros33fx' target=\"_blank\">https://wandb.ai/MasterarbeitBV/XGBoost_Hyperparameter_Tuning/sweeps/oros33fx</a>"
      ],
      "text/plain": [
       "<IPython.core.display.HTML object>"
      ]
     },
     "metadata": {},
     "output_type": "display_data"
    },
    {
     "data": {
      "text/html": [
       " View run at <a href='https://wandb.ai/MasterarbeitBV/XGBoost_Hyperparameter_Tuning/runs/brmrkg69' target=\"_blank\">https://wandb.ai/MasterarbeitBV/XGBoost_Hyperparameter_Tuning/runs/brmrkg69</a>"
      ],
      "text/plain": [
       "<IPython.core.display.HTML object>"
      ]
     },
     "metadata": {},
     "output_type": "display_data"
    },
    {
     "data": {
      "text/html": [
       "\n",
       "    <style>\n",
       "        .wandb-row {\n",
       "            display: flex;\n",
       "            flex-direction: row;\n",
       "            flex-wrap: wrap;\n",
       "            justify-content: flex-start;\n",
       "            width: 100%;\n",
       "        }\n",
       "        .wandb-col {\n",
       "            display: flex;\n",
       "            flex-direction: column;\n",
       "            flex-basis: 100%;\n",
       "            flex: 1;\n",
       "            padding: 10px;\n",
       "        }\n",
       "    </style>\n",
       "<div class=\"wandb-row\"><div class=\"wandb-col\"><h3>Run history:</h3><br/><table class=\"wandb\"><tr><td>accuracy</td><td>▁</td></tr><tr><td>f1-score</td><td>▁</td></tr></table><br/></div><div class=\"wandb-col\"><h3>Run summary:</h3><br/><table class=\"wandb\"><tr><td>accuracy</td><td>0.93914</td></tr><tr><td>f1-score</td><td>0.70994</td></tr></table><br/></div></div>"
      ],
      "text/plain": [
       "<IPython.core.display.HTML object>"
      ]
     },
     "metadata": {},
     "output_type": "display_data"
    },
    {
     "data": {
      "text/html": [
       " View run <strong style=\"color:#cdcd00\">whole-sweep-80</strong> at: <a href='https://wandb.ai/MasterarbeitBV/XGBoost_Hyperparameter_Tuning/runs/brmrkg69' target=\"_blank\">https://wandb.ai/MasterarbeitBV/XGBoost_Hyperparameter_Tuning/runs/brmrkg69</a><br/> View project at: <a href='https://wandb.ai/MasterarbeitBV/XGBoost_Hyperparameter_Tuning' target=\"_blank\">https://wandb.ai/MasterarbeitBV/XGBoost_Hyperparameter_Tuning</a><br/>Synced 5 W&B file(s), 0 media file(s), 0 artifact file(s) and 0 other file(s)"
      ],
      "text/plain": [
       "<IPython.core.display.HTML object>"
      ]
     },
     "metadata": {},
     "output_type": "display_data"
    },
    {
     "data": {
      "text/html": [
       "Find logs at: <code>.\\wandb\\run-20241201_152022-brmrkg69\\logs</code>"
      ],
      "text/plain": [
       "<IPython.core.display.HTML object>"
      ]
     },
     "metadata": {},
     "output_type": "display_data"
    },
    {
     "name": "stderr",
     "output_type": "stream",
     "text": [
      "\u001b[34m\u001b[1mwandb\u001b[0m: Agent Starting Run: d1uxmb4x with config:\n",
      "\u001b[34m\u001b[1mwandb\u001b[0m: \tBalancing: False\n",
      "\u001b[34m\u001b[1mwandb\u001b[0m: \tfeatures: ['x', 'y']\n",
      "\u001b[34m\u001b[1mwandb\u001b[0m: \tn_features_per_kernel: 2\n",
      "\u001b[34m\u001b[1mwandb\u001b[0m: \tnum_kernels: 2000\n",
      "\u001b[34m\u001b[1mwandb\u001b[0m: \trocket_transform: rocket\n",
      "\u001b[34m\u001b[1mwandb\u001b[0m: \tscaling: False\n",
      "\u001b[34m\u001b[1mwandb\u001b[0m: \twindow_size: 11\n"
     ]
    },
    {
     "data": {
      "text/html": [
       "Tracking run with wandb version 0.18.6"
      ],
      "text/plain": [
       "<IPython.core.display.HTML object>"
      ]
     },
     "metadata": {},
     "output_type": "display_data"
    },
    {
     "data": {
      "text/html": [
       "Run data is saved locally in <code>c:\\Users\\benev\\Documents\\Uni_Master\\Masterarbeit\\CODE\\8_tennis_analytics\\wandb\\run-20241201_152224-d1uxmb4x</code>"
      ],
      "text/plain": [
       "<IPython.core.display.HTML object>"
      ]
     },
     "metadata": {},
     "output_type": "display_data"
    },
    {
     "data": {
      "text/html": [
       "Syncing run <strong><a href='https://wandb.ai/MasterarbeitBV/XGBoost_Hyperparameter_Tuning/runs/d1uxmb4x' target=\"_blank\">exalted-sweep-81</a></strong> to <a href='https://wandb.ai/MasterarbeitBV/XGBoost_Hyperparameter_Tuning' target=\"_blank\">Weights & Biases</a> (<a href='https://wandb.me/developer-guide' target=\"_blank\">docs</a>)<br/>Sweep page: <a href='https://wandb.ai/MasterarbeitBV/XGBoost_Hyperparameter_Tuning/sweeps/oros33fx' target=\"_blank\">https://wandb.ai/MasterarbeitBV/XGBoost_Hyperparameter_Tuning/sweeps/oros33fx</a>"
      ],
      "text/plain": [
       "<IPython.core.display.HTML object>"
      ]
     },
     "metadata": {},
     "output_type": "display_data"
    },
    {
     "data": {
      "text/html": [
       " View project at <a href='https://wandb.ai/MasterarbeitBV/XGBoost_Hyperparameter_Tuning' target=\"_blank\">https://wandb.ai/MasterarbeitBV/XGBoost_Hyperparameter_Tuning</a>"
      ],
      "text/plain": [
       "<IPython.core.display.HTML object>"
      ]
     },
     "metadata": {},
     "output_type": "display_data"
    },
    {
     "data": {
      "text/html": [
       " View sweep at <a href='https://wandb.ai/MasterarbeitBV/XGBoost_Hyperparameter_Tuning/sweeps/oros33fx' target=\"_blank\">https://wandb.ai/MasterarbeitBV/XGBoost_Hyperparameter_Tuning/sweeps/oros33fx</a>"
      ],
      "text/plain": [
       "<IPython.core.display.HTML object>"
      ]
     },
     "metadata": {},
     "output_type": "display_data"
    },
    {
     "data": {
      "text/html": [
       " View run at <a href='https://wandb.ai/MasterarbeitBV/XGBoost_Hyperparameter_Tuning/runs/d1uxmb4x' target=\"_blank\">https://wandb.ai/MasterarbeitBV/XGBoost_Hyperparameter_Tuning/runs/d1uxmb4x</a>"
      ],
      "text/plain": [
       "<IPython.core.display.HTML object>"
      ]
     },
     "metadata": {},
     "output_type": "display_data"
    },
    {
     "data": {
      "text/html": [
       "\n",
       "    <style>\n",
       "        .wandb-row {\n",
       "            display: flex;\n",
       "            flex-direction: row;\n",
       "            flex-wrap: wrap;\n",
       "            justify-content: flex-start;\n",
       "            width: 100%;\n",
       "        }\n",
       "        .wandb-col {\n",
       "            display: flex;\n",
       "            flex-direction: column;\n",
       "            flex-basis: 100%;\n",
       "            flex: 1;\n",
       "            padding: 10px;\n",
       "        }\n",
       "    </style>\n",
       "<div class=\"wandb-row\"><div class=\"wandb-col\"><h3>Run history:</h3><br/><table class=\"wandb\"><tr><td>accuracy</td><td>▁</td></tr><tr><td>f1-score</td><td>▁</td></tr></table><br/></div><div class=\"wandb-col\"><h3>Run summary:</h3><br/><table class=\"wandb\"><tr><td>accuracy</td><td>0.9682</td></tr><tr><td>f1-score</td><td>0.72409</td></tr></table><br/></div></div>"
      ],
      "text/plain": [
       "<IPython.core.display.HTML object>"
      ]
     },
     "metadata": {},
     "output_type": "display_data"
    },
    {
     "data": {
      "text/html": [
       " View run <strong style=\"color:#cdcd00\">exalted-sweep-81</strong> at: <a href='https://wandb.ai/MasterarbeitBV/XGBoost_Hyperparameter_Tuning/runs/d1uxmb4x' target=\"_blank\">https://wandb.ai/MasterarbeitBV/XGBoost_Hyperparameter_Tuning/runs/d1uxmb4x</a><br/> View project at: <a href='https://wandb.ai/MasterarbeitBV/XGBoost_Hyperparameter_Tuning' target=\"_blank\">https://wandb.ai/MasterarbeitBV/XGBoost_Hyperparameter_Tuning</a><br/>Synced 5 W&B file(s), 0 media file(s), 0 artifact file(s) and 0 other file(s)"
      ],
      "text/plain": [
       "<IPython.core.display.HTML object>"
      ]
     },
     "metadata": {},
     "output_type": "display_data"
    },
    {
     "data": {
      "text/html": [
       "Find logs at: <code>.\\wandb\\run-20241201_152224-d1uxmb4x\\logs</code>"
      ],
      "text/plain": [
       "<IPython.core.display.HTML object>"
      ]
     },
     "metadata": {},
     "output_type": "display_data"
    },
    {
     "name": "stderr",
     "output_type": "stream",
     "text": [
      "\u001b[34m\u001b[1mwandb\u001b[0m: Agent Starting Run: jyvm8fy0 with config:\n",
      "\u001b[34m\u001b[1mwandb\u001b[0m: \tBalancing: False\n",
      "\u001b[34m\u001b[1mwandb\u001b[0m: \tfeatures: ['x', 'y']\n",
      "\u001b[34m\u001b[1mwandb\u001b[0m: \tn_features_per_kernel: 2\n",
      "\u001b[34m\u001b[1mwandb\u001b[0m: \tnum_kernels: 2000\n",
      "\u001b[34m\u001b[1mwandb\u001b[0m: \trocket_transform: rocket\n",
      "\u001b[34m\u001b[1mwandb\u001b[0m: \tscaling: True\n",
      "\u001b[34m\u001b[1mwandb\u001b[0m: \twindow_size: 11\n"
     ]
    },
    {
     "data": {
      "text/html": [
       "Tracking run with wandb version 0.18.6"
      ],
      "text/plain": [
       "<IPython.core.display.HTML object>"
      ]
     },
     "metadata": {},
     "output_type": "display_data"
    },
    {
     "data": {
      "text/html": [
       "Run data is saved locally in <code>c:\\Users\\benev\\Documents\\Uni_Master\\Masterarbeit\\CODE\\8_tennis_analytics\\wandb\\run-20241201_152328-jyvm8fy0</code>"
      ],
      "text/plain": [
       "<IPython.core.display.HTML object>"
      ]
     },
     "metadata": {},
     "output_type": "display_data"
    },
    {
     "data": {
      "text/html": [
       "Syncing run <strong><a href='https://wandb.ai/MasterarbeitBV/XGBoost_Hyperparameter_Tuning/runs/jyvm8fy0' target=\"_blank\">revived-sweep-82</a></strong> to <a href='https://wandb.ai/MasterarbeitBV/XGBoost_Hyperparameter_Tuning' target=\"_blank\">Weights & Biases</a> (<a href='https://wandb.me/developer-guide' target=\"_blank\">docs</a>)<br/>Sweep page: <a href='https://wandb.ai/MasterarbeitBV/XGBoost_Hyperparameter_Tuning/sweeps/oros33fx' target=\"_blank\">https://wandb.ai/MasterarbeitBV/XGBoost_Hyperparameter_Tuning/sweeps/oros33fx</a>"
      ],
      "text/plain": [
       "<IPython.core.display.HTML object>"
      ]
     },
     "metadata": {},
     "output_type": "display_data"
    },
    {
     "data": {
      "text/html": [
       " View project at <a href='https://wandb.ai/MasterarbeitBV/XGBoost_Hyperparameter_Tuning' target=\"_blank\">https://wandb.ai/MasterarbeitBV/XGBoost_Hyperparameter_Tuning</a>"
      ],
      "text/plain": [
       "<IPython.core.display.HTML object>"
      ]
     },
     "metadata": {},
     "output_type": "display_data"
    },
    {
     "data": {
      "text/html": [
       " View sweep at <a href='https://wandb.ai/MasterarbeitBV/XGBoost_Hyperparameter_Tuning/sweeps/oros33fx' target=\"_blank\">https://wandb.ai/MasterarbeitBV/XGBoost_Hyperparameter_Tuning/sweeps/oros33fx</a>"
      ],
      "text/plain": [
       "<IPython.core.display.HTML object>"
      ]
     },
     "metadata": {},
     "output_type": "display_data"
    },
    {
     "data": {
      "text/html": [
       " View run at <a href='https://wandb.ai/MasterarbeitBV/XGBoost_Hyperparameter_Tuning/runs/jyvm8fy0' target=\"_blank\">https://wandb.ai/MasterarbeitBV/XGBoost_Hyperparameter_Tuning/runs/jyvm8fy0</a>"
      ],
      "text/plain": [
       "<IPython.core.display.HTML object>"
      ]
     },
     "metadata": {},
     "output_type": "display_data"
    },
    {
     "data": {
      "text/html": [
       "\n",
       "    <style>\n",
       "        .wandb-row {\n",
       "            display: flex;\n",
       "            flex-direction: row;\n",
       "            flex-wrap: wrap;\n",
       "            justify-content: flex-start;\n",
       "            width: 100%;\n",
       "        }\n",
       "        .wandb-col {\n",
       "            display: flex;\n",
       "            flex-direction: column;\n",
       "            flex-basis: 100%;\n",
       "            flex: 1;\n",
       "            padding: 10px;\n",
       "        }\n",
       "    </style>\n",
       "<div class=\"wandb-row\"><div class=\"wandb-col\"><h3>Run history:</h3><br/><table class=\"wandb\"><tr><td>accuracy</td><td>▁</td></tr><tr><td>f1-score</td><td>▁</td></tr></table><br/></div><div class=\"wandb-col\"><h3>Run summary:</h3><br/><table class=\"wandb\"><tr><td>accuracy</td><td>0.96875</td></tr><tr><td>f1-score</td><td>0.72909</td></tr></table><br/></div></div>"
      ],
      "text/plain": [
       "<IPython.core.display.HTML object>"
      ]
     },
     "metadata": {},
     "output_type": "display_data"
    },
    {
     "data": {
      "text/html": [
       " View run <strong style=\"color:#cdcd00\">revived-sweep-82</strong> at: <a href='https://wandb.ai/MasterarbeitBV/XGBoost_Hyperparameter_Tuning/runs/jyvm8fy0' target=\"_blank\">https://wandb.ai/MasterarbeitBV/XGBoost_Hyperparameter_Tuning/runs/jyvm8fy0</a><br/> View project at: <a href='https://wandb.ai/MasterarbeitBV/XGBoost_Hyperparameter_Tuning' target=\"_blank\">https://wandb.ai/MasterarbeitBV/XGBoost_Hyperparameter_Tuning</a><br/>Synced 5 W&B file(s), 0 media file(s), 0 artifact file(s) and 0 other file(s)"
      ],
      "text/plain": [
       "<IPython.core.display.HTML object>"
      ]
     },
     "metadata": {},
     "output_type": "display_data"
    },
    {
     "data": {
      "text/html": [
       "Find logs at: <code>.\\wandb\\run-20241201_152328-jyvm8fy0\\logs</code>"
      ],
      "text/plain": [
       "<IPython.core.display.HTML object>"
      ]
     },
     "metadata": {},
     "output_type": "display_data"
    },
    {
     "name": "stderr",
     "output_type": "stream",
     "text": [
      "\u001b[34m\u001b[1mwandb\u001b[0m: Agent Starting Run: f0ptj2ju with config:\n",
      "\u001b[34m\u001b[1mwandb\u001b[0m: \tBalancing: True\n",
      "\u001b[34m\u001b[1mwandb\u001b[0m: \tfeatures: ['x', 'y']\n",
      "\u001b[34m\u001b[1mwandb\u001b[0m: \tn_features_per_kernel: 2\n",
      "\u001b[34m\u001b[1mwandb\u001b[0m: \tnum_kernels: 2000\n",
      "\u001b[34m\u001b[1mwandb\u001b[0m: \trocket_transform: rocket\n",
      "\u001b[34m\u001b[1mwandb\u001b[0m: \tscaling: False\n",
      "\u001b[34m\u001b[1mwandb\u001b[0m: \twindow_size: 21\n"
     ]
    },
    {
     "data": {
      "text/html": [
       "Tracking run with wandb version 0.18.6"
      ],
      "text/plain": [
       "<IPython.core.display.HTML object>"
      ]
     },
     "metadata": {},
     "output_type": "display_data"
    },
    {
     "data": {
      "text/html": [
       "Run data is saved locally in <code>c:\\Users\\benev\\Documents\\Uni_Master\\Masterarbeit\\CODE\\8_tennis_analytics\\wandb\\run-20241201_152433-f0ptj2ju</code>"
      ],
      "text/plain": [
       "<IPython.core.display.HTML object>"
      ]
     },
     "metadata": {},
     "output_type": "display_data"
    },
    {
     "data": {
      "text/html": [
       "Syncing run <strong><a href='https://wandb.ai/MasterarbeitBV/XGBoost_Hyperparameter_Tuning/runs/f0ptj2ju' target=\"_blank\">genial-sweep-83</a></strong> to <a href='https://wandb.ai/MasterarbeitBV/XGBoost_Hyperparameter_Tuning' target=\"_blank\">Weights & Biases</a> (<a href='https://wandb.me/developer-guide' target=\"_blank\">docs</a>)<br/>Sweep page: <a href='https://wandb.ai/MasterarbeitBV/XGBoost_Hyperparameter_Tuning/sweeps/oros33fx' target=\"_blank\">https://wandb.ai/MasterarbeitBV/XGBoost_Hyperparameter_Tuning/sweeps/oros33fx</a>"
      ],
      "text/plain": [
       "<IPython.core.display.HTML object>"
      ]
     },
     "metadata": {},
     "output_type": "display_data"
    },
    {
     "data": {
      "text/html": [
       " View project at <a href='https://wandb.ai/MasterarbeitBV/XGBoost_Hyperparameter_Tuning' target=\"_blank\">https://wandb.ai/MasterarbeitBV/XGBoost_Hyperparameter_Tuning</a>"
      ],
      "text/plain": [
       "<IPython.core.display.HTML object>"
      ]
     },
     "metadata": {},
     "output_type": "display_data"
    },
    {
     "data": {
      "text/html": [
       " View sweep at <a href='https://wandb.ai/MasterarbeitBV/XGBoost_Hyperparameter_Tuning/sweeps/oros33fx' target=\"_blank\">https://wandb.ai/MasterarbeitBV/XGBoost_Hyperparameter_Tuning/sweeps/oros33fx</a>"
      ],
      "text/plain": [
       "<IPython.core.display.HTML object>"
      ]
     },
     "metadata": {},
     "output_type": "display_data"
    },
    {
     "data": {
      "text/html": [
       " View run at <a href='https://wandb.ai/MasterarbeitBV/XGBoost_Hyperparameter_Tuning/runs/f0ptj2ju' target=\"_blank\">https://wandb.ai/MasterarbeitBV/XGBoost_Hyperparameter_Tuning/runs/f0ptj2ju</a>"
      ],
      "text/plain": [
       "<IPython.core.display.HTML object>"
      ]
     },
     "metadata": {},
     "output_type": "display_data"
    },
    {
     "data": {
      "text/html": [
       "\n",
       "    <style>\n",
       "        .wandb-row {\n",
       "            display: flex;\n",
       "            flex-direction: row;\n",
       "            flex-wrap: wrap;\n",
       "            justify-content: flex-start;\n",
       "            width: 100%;\n",
       "        }\n",
       "        .wandb-col {\n",
       "            display: flex;\n",
       "            flex-direction: column;\n",
       "            flex-basis: 100%;\n",
       "            flex: 1;\n",
       "            padding: 10px;\n",
       "        }\n",
       "    </style>\n",
       "<div class=\"wandb-row\"><div class=\"wandb-col\"><h3>Run history:</h3><br/><table class=\"wandb\"><tr><td>accuracy</td><td>▁</td></tr><tr><td>f1-score</td><td>▁</td></tr></table><br/></div><div class=\"wandb-col\"><h3>Run summary:</h3><br/><table class=\"wandb\"><tr><td>accuracy</td><td>0.92062</td></tr><tr><td>f1-score</td><td>0.6691</td></tr></table><br/></div></div>"
      ],
      "text/plain": [
       "<IPython.core.display.HTML object>"
      ]
     },
     "metadata": {},
     "output_type": "display_data"
    },
    {
     "data": {
      "text/html": [
       " View run <strong style=\"color:#cdcd00\">genial-sweep-83</strong> at: <a href='https://wandb.ai/MasterarbeitBV/XGBoost_Hyperparameter_Tuning/runs/f0ptj2ju' target=\"_blank\">https://wandb.ai/MasterarbeitBV/XGBoost_Hyperparameter_Tuning/runs/f0ptj2ju</a><br/> View project at: <a href='https://wandb.ai/MasterarbeitBV/XGBoost_Hyperparameter_Tuning' target=\"_blank\">https://wandb.ai/MasterarbeitBV/XGBoost_Hyperparameter_Tuning</a><br/>Synced 5 W&B file(s), 0 media file(s), 0 artifact file(s) and 0 other file(s)"
      ],
      "text/plain": [
       "<IPython.core.display.HTML object>"
      ]
     },
     "metadata": {},
     "output_type": "display_data"
    },
    {
     "data": {
      "text/html": [
       "Find logs at: <code>.\\wandb\\run-20241201_152433-f0ptj2ju\\logs</code>"
      ],
      "text/plain": [
       "<IPython.core.display.HTML object>"
      ]
     },
     "metadata": {},
     "output_type": "display_data"
    },
    {
     "name": "stderr",
     "output_type": "stream",
     "text": [
      "\u001b[34m\u001b[1mwandb\u001b[0m: Agent Starting Run: 7p3ok05z with config:\n",
      "\u001b[34m\u001b[1mwandb\u001b[0m: \tBalancing: True\n",
      "\u001b[34m\u001b[1mwandb\u001b[0m: \tfeatures: ['x', 'y']\n",
      "\u001b[34m\u001b[1mwandb\u001b[0m: \tn_features_per_kernel: 4\n",
      "\u001b[34m\u001b[1mwandb\u001b[0m: \tnum_kernels: 2000\n",
      "\u001b[34m\u001b[1mwandb\u001b[0m: \trocket_transform: rocket\n",
      "\u001b[34m\u001b[1mwandb\u001b[0m: \tscaling: False\n",
      "\u001b[34m\u001b[1mwandb\u001b[0m: \twindow_size: 21\n"
     ]
    },
    {
     "data": {
      "text/html": [
       "Tracking run with wandb version 0.18.6"
      ],
      "text/plain": [
       "<IPython.core.display.HTML object>"
      ]
     },
     "metadata": {},
     "output_type": "display_data"
    },
    {
     "data": {
      "text/html": [
       "Run data is saved locally in <code>c:\\Users\\benev\\Documents\\Uni_Master\\Masterarbeit\\CODE\\8_tennis_analytics\\wandb\\run-20241201_152652-7p3ok05z</code>"
      ],
      "text/plain": [
       "<IPython.core.display.HTML object>"
      ]
     },
     "metadata": {},
     "output_type": "display_data"
    },
    {
     "data": {
      "text/html": [
       "Syncing run <strong><a href='https://wandb.ai/MasterarbeitBV/XGBoost_Hyperparameter_Tuning/runs/7p3ok05z' target=\"_blank\">astral-sweep-84</a></strong> to <a href='https://wandb.ai/MasterarbeitBV/XGBoost_Hyperparameter_Tuning' target=\"_blank\">Weights & Biases</a> (<a href='https://wandb.me/developer-guide' target=\"_blank\">docs</a>)<br/>Sweep page: <a href='https://wandb.ai/MasterarbeitBV/XGBoost_Hyperparameter_Tuning/sweeps/oros33fx' target=\"_blank\">https://wandb.ai/MasterarbeitBV/XGBoost_Hyperparameter_Tuning/sweeps/oros33fx</a>"
      ],
      "text/plain": [
       "<IPython.core.display.HTML object>"
      ]
     },
     "metadata": {},
     "output_type": "display_data"
    },
    {
     "data": {
      "text/html": [
       " View project at <a href='https://wandb.ai/MasterarbeitBV/XGBoost_Hyperparameter_Tuning' target=\"_blank\">https://wandb.ai/MasterarbeitBV/XGBoost_Hyperparameter_Tuning</a>"
      ],
      "text/plain": [
       "<IPython.core.display.HTML object>"
      ]
     },
     "metadata": {},
     "output_type": "display_data"
    },
    {
     "data": {
      "text/html": [
       " View sweep at <a href='https://wandb.ai/MasterarbeitBV/XGBoost_Hyperparameter_Tuning/sweeps/oros33fx' target=\"_blank\">https://wandb.ai/MasterarbeitBV/XGBoost_Hyperparameter_Tuning/sweeps/oros33fx</a>"
      ],
      "text/plain": [
       "<IPython.core.display.HTML object>"
      ]
     },
     "metadata": {},
     "output_type": "display_data"
    },
    {
     "data": {
      "text/html": [
       " View run at <a href='https://wandb.ai/MasterarbeitBV/XGBoost_Hyperparameter_Tuning/runs/7p3ok05z' target=\"_blank\">https://wandb.ai/MasterarbeitBV/XGBoost_Hyperparameter_Tuning/runs/7p3ok05z</a>"
      ],
      "text/plain": [
       "<IPython.core.display.HTML object>"
      ]
     },
     "metadata": {},
     "output_type": "display_data"
    },
    {
     "data": {
      "text/html": [
       "\n",
       "    <style>\n",
       "        .wandb-row {\n",
       "            display: flex;\n",
       "            flex-direction: row;\n",
       "            flex-wrap: wrap;\n",
       "            justify-content: flex-start;\n",
       "            width: 100%;\n",
       "        }\n",
       "        .wandb-col {\n",
       "            display: flex;\n",
       "            flex-direction: column;\n",
       "            flex-basis: 100%;\n",
       "            flex: 1;\n",
       "            padding: 10px;\n",
       "        }\n",
       "    </style>\n",
       "<div class=\"wandb-row\"><div class=\"wandb-col\"><h3>Run history:</h3><br/><table class=\"wandb\"><tr><td>accuracy</td><td>▁</td></tr><tr><td>f1-score</td><td>▁</td></tr></table><br/></div><div class=\"wandb-col\"><h3>Run summary:</h3><br/><table class=\"wandb\"><tr><td>accuracy</td><td>0.92062</td></tr><tr><td>f1-score</td><td>0.6691</td></tr></table><br/></div></div>"
      ],
      "text/plain": [
       "<IPython.core.display.HTML object>"
      ]
     },
     "metadata": {},
     "output_type": "display_data"
    },
    {
     "data": {
      "text/html": [
       " View run <strong style=\"color:#cdcd00\">astral-sweep-84</strong> at: <a href='https://wandb.ai/MasterarbeitBV/XGBoost_Hyperparameter_Tuning/runs/7p3ok05z' target=\"_blank\">https://wandb.ai/MasterarbeitBV/XGBoost_Hyperparameter_Tuning/runs/7p3ok05z</a><br/> View project at: <a href='https://wandb.ai/MasterarbeitBV/XGBoost_Hyperparameter_Tuning' target=\"_blank\">https://wandb.ai/MasterarbeitBV/XGBoost_Hyperparameter_Tuning</a><br/>Synced 5 W&B file(s), 0 media file(s), 0 artifact file(s) and 0 other file(s)"
      ],
      "text/plain": [
       "<IPython.core.display.HTML object>"
      ]
     },
     "metadata": {},
     "output_type": "display_data"
    },
    {
     "data": {
      "text/html": [
       "Find logs at: <code>.\\wandb\\run-20241201_152652-7p3ok05z\\logs</code>"
      ],
      "text/plain": [
       "<IPython.core.display.HTML object>"
      ]
     },
     "metadata": {},
     "output_type": "display_data"
    },
    {
     "name": "stderr",
     "output_type": "stream",
     "text": [
      "\u001b[34m\u001b[1mwandb\u001b[0m: Agent Starting Run: yuk6nkek with config:\n",
      "\u001b[34m\u001b[1mwandb\u001b[0m: \tBalancing: False\n",
      "\u001b[34m\u001b[1mwandb\u001b[0m: \tfeatures: ['x', 'y']\n",
      "\u001b[34m\u001b[1mwandb\u001b[0m: \tn_features_per_kernel: 4\n",
      "\u001b[34m\u001b[1mwandb\u001b[0m: \tnum_kernels: 2000\n",
      "\u001b[34m\u001b[1mwandb\u001b[0m: \trocket_transform: rocket\n",
      "\u001b[34m\u001b[1mwandb\u001b[0m: \tscaling: False\n",
      "\u001b[34m\u001b[1mwandb\u001b[0m: \twindow_size: 11\n"
     ]
    },
    {
     "data": {
      "text/html": [
       "Tracking run with wandb version 0.18.6"
      ],
      "text/plain": [
       "<IPython.core.display.HTML object>"
      ]
     },
     "metadata": {},
     "output_type": "display_data"
    },
    {
     "data": {
      "text/html": [
       "Run data is saved locally in <code>c:\\Users\\benev\\Documents\\Uni_Master\\Masterarbeit\\CODE\\8_tennis_analytics\\wandb\\run-20241201_152908-yuk6nkek</code>"
      ],
      "text/plain": [
       "<IPython.core.display.HTML object>"
      ]
     },
     "metadata": {},
     "output_type": "display_data"
    },
    {
     "data": {
      "text/html": [
       "Syncing run <strong><a href='https://wandb.ai/MasterarbeitBV/XGBoost_Hyperparameter_Tuning/runs/yuk6nkek' target=\"_blank\">peachy-sweep-85</a></strong> to <a href='https://wandb.ai/MasterarbeitBV/XGBoost_Hyperparameter_Tuning' target=\"_blank\">Weights & Biases</a> (<a href='https://wandb.me/developer-guide' target=\"_blank\">docs</a>)<br/>Sweep page: <a href='https://wandb.ai/MasterarbeitBV/XGBoost_Hyperparameter_Tuning/sweeps/oros33fx' target=\"_blank\">https://wandb.ai/MasterarbeitBV/XGBoost_Hyperparameter_Tuning/sweeps/oros33fx</a>"
      ],
      "text/plain": [
       "<IPython.core.display.HTML object>"
      ]
     },
     "metadata": {},
     "output_type": "display_data"
    },
    {
     "data": {
      "text/html": [
       " View project at <a href='https://wandb.ai/MasterarbeitBV/XGBoost_Hyperparameter_Tuning' target=\"_blank\">https://wandb.ai/MasterarbeitBV/XGBoost_Hyperparameter_Tuning</a>"
      ],
      "text/plain": [
       "<IPython.core.display.HTML object>"
      ]
     },
     "metadata": {},
     "output_type": "display_data"
    },
    {
     "data": {
      "text/html": [
       " View sweep at <a href='https://wandb.ai/MasterarbeitBV/XGBoost_Hyperparameter_Tuning/sweeps/oros33fx' target=\"_blank\">https://wandb.ai/MasterarbeitBV/XGBoost_Hyperparameter_Tuning/sweeps/oros33fx</a>"
      ],
      "text/plain": [
       "<IPython.core.display.HTML object>"
      ]
     },
     "metadata": {},
     "output_type": "display_data"
    },
    {
     "data": {
      "text/html": [
       " View run at <a href='https://wandb.ai/MasterarbeitBV/XGBoost_Hyperparameter_Tuning/runs/yuk6nkek' target=\"_blank\">https://wandb.ai/MasterarbeitBV/XGBoost_Hyperparameter_Tuning/runs/yuk6nkek</a>"
      ],
      "text/plain": [
       "<IPython.core.display.HTML object>"
      ]
     },
     "metadata": {},
     "output_type": "display_data"
    },
    {
     "data": {
      "text/html": [
       "\n",
       "    <style>\n",
       "        .wandb-row {\n",
       "            display: flex;\n",
       "            flex-direction: row;\n",
       "            flex-wrap: wrap;\n",
       "            justify-content: flex-start;\n",
       "            width: 100%;\n",
       "        }\n",
       "        .wandb-col {\n",
       "            display: flex;\n",
       "            flex-direction: column;\n",
       "            flex-basis: 100%;\n",
       "            flex: 1;\n",
       "            padding: 10px;\n",
       "        }\n",
       "    </style>\n",
       "<div class=\"wandb-row\"><div class=\"wandb-col\"><h3>Run history:</h3><br/><table class=\"wandb\"><tr><td>accuracy</td><td>▁</td></tr><tr><td>f1-score</td><td>▁</td></tr></table><br/></div><div class=\"wandb-col\"><h3>Run summary:</h3><br/><table class=\"wandb\"><tr><td>accuracy</td><td>0.9682</td></tr><tr><td>f1-score</td><td>0.72409</td></tr></table><br/></div></div>"
      ],
      "text/plain": [
       "<IPython.core.display.HTML object>"
      ]
     },
     "metadata": {},
     "output_type": "display_data"
    },
    {
     "data": {
      "text/html": [
       " View run <strong style=\"color:#cdcd00\">peachy-sweep-85</strong> at: <a href='https://wandb.ai/MasterarbeitBV/XGBoost_Hyperparameter_Tuning/runs/yuk6nkek' target=\"_blank\">https://wandb.ai/MasterarbeitBV/XGBoost_Hyperparameter_Tuning/runs/yuk6nkek</a><br/> View project at: <a href='https://wandb.ai/MasterarbeitBV/XGBoost_Hyperparameter_Tuning' target=\"_blank\">https://wandb.ai/MasterarbeitBV/XGBoost_Hyperparameter_Tuning</a><br/>Synced 5 W&B file(s), 0 media file(s), 0 artifact file(s) and 0 other file(s)"
      ],
      "text/plain": [
       "<IPython.core.display.HTML object>"
      ]
     },
     "metadata": {},
     "output_type": "display_data"
    },
    {
     "data": {
      "text/html": [
       "Find logs at: <code>.\\wandb\\run-20241201_152908-yuk6nkek\\logs</code>"
      ],
      "text/plain": [
       "<IPython.core.display.HTML object>"
      ]
     },
     "metadata": {},
     "output_type": "display_data"
    },
    {
     "name": "stderr",
     "output_type": "stream",
     "text": [
      "\u001b[34m\u001b[1mwandb\u001b[0m: Agent Starting Run: 3v0l76ug with config:\n",
      "\u001b[34m\u001b[1mwandb\u001b[0m: \tBalancing: True\n",
      "\u001b[34m\u001b[1mwandb\u001b[0m: \tfeatures: ['x', 'y']\n",
      "\u001b[34m\u001b[1mwandb\u001b[0m: \tn_features_per_kernel: 2\n",
      "\u001b[34m\u001b[1mwandb\u001b[0m: \tnum_kernels: 2000\n",
      "\u001b[34m\u001b[1mwandb\u001b[0m: \trocket_transform: rocket\n",
      "\u001b[34m\u001b[1mwandb\u001b[0m: \tscaling: True\n",
      "\u001b[34m\u001b[1mwandb\u001b[0m: \twindow_size: 21\n"
     ]
    },
    {
     "data": {
      "text/html": [
       "Tracking run with wandb version 0.18.6"
      ],
      "text/plain": [
       "<IPython.core.display.HTML object>"
      ]
     },
     "metadata": {},
     "output_type": "display_data"
    },
    {
     "data": {
      "text/html": [
       "Run data is saved locally in <code>c:\\Users\\benev\\Documents\\Uni_Master\\Masterarbeit\\CODE\\8_tennis_analytics\\wandb\\run-20241201_153011-3v0l76ug</code>"
      ],
      "text/plain": [
       "<IPython.core.display.HTML object>"
      ]
     },
     "metadata": {},
     "output_type": "display_data"
    },
    {
     "data": {
      "text/html": [
       "Syncing run <strong><a href='https://wandb.ai/MasterarbeitBV/XGBoost_Hyperparameter_Tuning/runs/3v0l76ug' target=\"_blank\">amber-sweep-86</a></strong> to <a href='https://wandb.ai/MasterarbeitBV/XGBoost_Hyperparameter_Tuning' target=\"_blank\">Weights & Biases</a> (<a href='https://wandb.me/developer-guide' target=\"_blank\">docs</a>)<br/>Sweep page: <a href='https://wandb.ai/MasterarbeitBV/XGBoost_Hyperparameter_Tuning/sweeps/oros33fx' target=\"_blank\">https://wandb.ai/MasterarbeitBV/XGBoost_Hyperparameter_Tuning/sweeps/oros33fx</a>"
      ],
      "text/plain": [
       "<IPython.core.display.HTML object>"
      ]
     },
     "metadata": {},
     "output_type": "display_data"
    },
    {
     "data": {
      "text/html": [
       " View project at <a href='https://wandb.ai/MasterarbeitBV/XGBoost_Hyperparameter_Tuning' target=\"_blank\">https://wandb.ai/MasterarbeitBV/XGBoost_Hyperparameter_Tuning</a>"
      ],
      "text/plain": [
       "<IPython.core.display.HTML object>"
      ]
     },
     "metadata": {},
     "output_type": "display_data"
    },
    {
     "data": {
      "text/html": [
       " View sweep at <a href='https://wandb.ai/MasterarbeitBV/XGBoost_Hyperparameter_Tuning/sweeps/oros33fx' target=\"_blank\">https://wandb.ai/MasterarbeitBV/XGBoost_Hyperparameter_Tuning/sweeps/oros33fx</a>"
      ],
      "text/plain": [
       "<IPython.core.display.HTML object>"
      ]
     },
     "metadata": {},
     "output_type": "display_data"
    },
    {
     "data": {
      "text/html": [
       " View run at <a href='https://wandb.ai/MasterarbeitBV/XGBoost_Hyperparameter_Tuning/runs/3v0l76ug' target=\"_blank\">https://wandb.ai/MasterarbeitBV/XGBoost_Hyperparameter_Tuning/runs/3v0l76ug</a>"
      ],
      "text/plain": [
       "<IPython.core.display.HTML object>"
      ]
     },
     "metadata": {},
     "output_type": "display_data"
    },
    {
     "data": {
      "text/html": [
       "\n",
       "    <style>\n",
       "        .wandb-row {\n",
       "            display: flex;\n",
       "            flex-direction: row;\n",
       "            flex-wrap: wrap;\n",
       "            justify-content: flex-start;\n",
       "            width: 100%;\n",
       "        }\n",
       "        .wandb-col {\n",
       "            display: flex;\n",
       "            flex-direction: column;\n",
       "            flex-basis: 100%;\n",
       "            flex: 1;\n",
       "            padding: 10px;\n",
       "        }\n",
       "    </style>\n",
       "<div class=\"wandb-row\"><div class=\"wandb-col\"><h3>Run history:</h3><br/><table class=\"wandb\"><tr><td>accuracy</td><td>▁</td></tr><tr><td>f1-score</td><td>▁</td></tr></table><br/></div><div class=\"wandb-col\"><h3>Run summary:</h3><br/><table class=\"wandb\"><tr><td>accuracy</td><td>0.9232</td></tr><tr><td>f1-score</td><td>0.67739</td></tr></table><br/></div></div>"
      ],
      "text/plain": [
       "<IPython.core.display.HTML object>"
      ]
     },
     "metadata": {},
     "output_type": "display_data"
    },
    {
     "data": {
      "text/html": [
       " View run <strong style=\"color:#cdcd00\">amber-sweep-86</strong> at: <a href='https://wandb.ai/MasterarbeitBV/XGBoost_Hyperparameter_Tuning/runs/3v0l76ug' target=\"_blank\">https://wandb.ai/MasterarbeitBV/XGBoost_Hyperparameter_Tuning/runs/3v0l76ug</a><br/> View project at: <a href='https://wandb.ai/MasterarbeitBV/XGBoost_Hyperparameter_Tuning' target=\"_blank\">https://wandb.ai/MasterarbeitBV/XGBoost_Hyperparameter_Tuning</a><br/>Synced 5 W&B file(s), 0 media file(s), 0 artifact file(s) and 0 other file(s)"
      ],
      "text/plain": [
       "<IPython.core.display.HTML object>"
      ]
     },
     "metadata": {},
     "output_type": "display_data"
    },
    {
     "data": {
      "text/html": [
       "Find logs at: <code>.\\wandb\\run-20241201_153011-3v0l76ug\\logs</code>"
      ],
      "text/plain": [
       "<IPython.core.display.HTML object>"
      ]
     },
     "metadata": {},
     "output_type": "display_data"
    },
    {
     "name": "stderr",
     "output_type": "stream",
     "text": [
      "\u001b[34m\u001b[1mwandb\u001b[0m: Agent Starting Run: gc4pixk0 with config:\n",
      "\u001b[34m\u001b[1mwandb\u001b[0m: \tBalancing: False\n",
      "\u001b[34m\u001b[1mwandb\u001b[0m: \tfeatures: ['x', 'y']\n",
      "\u001b[34m\u001b[1mwandb\u001b[0m: \tn_features_per_kernel: 2\n",
      "\u001b[34m\u001b[1mwandb\u001b[0m: \tnum_kernels: 2000\n",
      "\u001b[34m\u001b[1mwandb\u001b[0m: \trocket_transform: rocket\n",
      "\u001b[34m\u001b[1mwandb\u001b[0m: \tscaling: False\n",
      "\u001b[34m\u001b[1mwandb\u001b[0m: \twindow_size: 21\n"
     ]
    },
    {
     "data": {
      "text/html": [
       "Tracking run with wandb version 0.18.6"
      ],
      "text/plain": [
       "<IPython.core.display.HTML object>"
      ]
     },
     "metadata": {},
     "output_type": "display_data"
    },
    {
     "data": {
      "text/html": [
       "Run data is saved locally in <code>c:\\Users\\benev\\Documents\\Uni_Master\\Masterarbeit\\CODE\\8_tennis_analytics\\wandb\\run-20241201_153227-gc4pixk0</code>"
      ],
      "text/plain": [
       "<IPython.core.display.HTML object>"
      ]
     },
     "metadata": {},
     "output_type": "display_data"
    },
    {
     "data": {
      "text/html": [
       "Syncing run <strong><a href='https://wandb.ai/MasterarbeitBV/XGBoost_Hyperparameter_Tuning/runs/gc4pixk0' target=\"_blank\">summer-sweep-87</a></strong> to <a href='https://wandb.ai/MasterarbeitBV/XGBoost_Hyperparameter_Tuning' target=\"_blank\">Weights & Biases</a> (<a href='https://wandb.me/developer-guide' target=\"_blank\">docs</a>)<br/>Sweep page: <a href='https://wandb.ai/MasterarbeitBV/XGBoost_Hyperparameter_Tuning/sweeps/oros33fx' target=\"_blank\">https://wandb.ai/MasterarbeitBV/XGBoost_Hyperparameter_Tuning/sweeps/oros33fx</a>"
      ],
      "text/plain": [
       "<IPython.core.display.HTML object>"
      ]
     },
     "metadata": {},
     "output_type": "display_data"
    },
    {
     "data": {
      "text/html": [
       " View project at <a href='https://wandb.ai/MasterarbeitBV/XGBoost_Hyperparameter_Tuning' target=\"_blank\">https://wandb.ai/MasterarbeitBV/XGBoost_Hyperparameter_Tuning</a>"
      ],
      "text/plain": [
       "<IPython.core.display.HTML object>"
      ]
     },
     "metadata": {},
     "output_type": "display_data"
    },
    {
     "data": {
      "text/html": [
       " View sweep at <a href='https://wandb.ai/MasterarbeitBV/XGBoost_Hyperparameter_Tuning/sweeps/oros33fx' target=\"_blank\">https://wandb.ai/MasterarbeitBV/XGBoost_Hyperparameter_Tuning/sweeps/oros33fx</a>"
      ],
      "text/plain": [
       "<IPython.core.display.HTML object>"
      ]
     },
     "metadata": {},
     "output_type": "display_data"
    },
    {
     "data": {
      "text/html": [
       " View run at <a href='https://wandb.ai/MasterarbeitBV/XGBoost_Hyperparameter_Tuning/runs/gc4pixk0' target=\"_blank\">https://wandb.ai/MasterarbeitBV/XGBoost_Hyperparameter_Tuning/runs/gc4pixk0</a>"
      ],
      "text/plain": [
       "<IPython.core.display.HTML object>"
      ]
     },
     "metadata": {},
     "output_type": "display_data"
    },
    {
     "data": {
      "text/html": [
       "\n",
       "    <style>\n",
       "        .wandb-row {\n",
       "            display: flex;\n",
       "            flex-direction: row;\n",
       "            flex-wrap: wrap;\n",
       "            justify-content: flex-start;\n",
       "            width: 100%;\n",
       "        }\n",
       "        .wandb-col {\n",
       "            display: flex;\n",
       "            flex-direction: column;\n",
       "            flex-basis: 100%;\n",
       "            flex: 1;\n",
       "            padding: 10px;\n",
       "        }\n",
       "    </style>\n",
       "<div class=\"wandb-row\"><div class=\"wandb-col\"><h3>Run history:</h3><br/><table class=\"wandb\"><tr><td>accuracy</td><td>▁</td></tr><tr><td>f1-score</td><td>▁</td></tr></table><br/></div><div class=\"wandb-col\"><h3>Run summary:</h3><br/><table class=\"wandb\"><tr><td>accuracy</td><td>0.95515</td></tr><tr><td>f1-score</td><td>0.45567</td></tr></table><br/></div></div>"
      ],
      "text/plain": [
       "<IPython.core.display.HTML object>"
      ]
     },
     "metadata": {},
     "output_type": "display_data"
    },
    {
     "data": {
      "text/html": [
       " View run <strong style=\"color:#cdcd00\">summer-sweep-87</strong> at: <a href='https://wandb.ai/MasterarbeitBV/XGBoost_Hyperparameter_Tuning/runs/gc4pixk0' target=\"_blank\">https://wandb.ai/MasterarbeitBV/XGBoost_Hyperparameter_Tuning/runs/gc4pixk0</a><br/> View project at: <a href='https://wandb.ai/MasterarbeitBV/XGBoost_Hyperparameter_Tuning' target=\"_blank\">https://wandb.ai/MasterarbeitBV/XGBoost_Hyperparameter_Tuning</a><br/>Synced 5 W&B file(s), 0 media file(s), 0 artifact file(s) and 0 other file(s)"
      ],
      "text/plain": [
       "<IPython.core.display.HTML object>"
      ]
     },
     "metadata": {},
     "output_type": "display_data"
    },
    {
     "data": {
      "text/html": [
       "Find logs at: <code>.\\wandb\\run-20241201_153227-gc4pixk0\\logs</code>"
      ],
      "text/plain": [
       "<IPython.core.display.HTML object>"
      ]
     },
     "metadata": {},
     "output_type": "display_data"
    },
    {
     "name": "stderr",
     "output_type": "stream",
     "text": [
      "\u001b[34m\u001b[1mwandb\u001b[0m: Agent Starting Run: o835b5pj with config:\n",
      "\u001b[34m\u001b[1mwandb\u001b[0m: \tBalancing: False\n",
      "\u001b[34m\u001b[1mwandb\u001b[0m: \tfeatures: ['x', 'y']\n",
      "\u001b[34m\u001b[1mwandb\u001b[0m: \tn_features_per_kernel: 2\n",
      "\u001b[34m\u001b[1mwandb\u001b[0m: \tnum_kernels: 2000\n",
      "\u001b[34m\u001b[1mwandb\u001b[0m: \trocket_transform: rocket\n",
      "\u001b[34m\u001b[1mwandb\u001b[0m: \tscaling: False\n",
      "\u001b[34m\u001b[1mwandb\u001b[0m: \twindow_size: 11\n"
     ]
    },
    {
     "data": {
      "text/html": [
       "Tracking run with wandb version 0.18.6"
      ],
      "text/plain": [
       "<IPython.core.display.HTML object>"
      ]
     },
     "metadata": {},
     "output_type": "display_data"
    },
    {
     "data": {
      "text/html": [
       "Run data is saved locally in <code>c:\\Users\\benev\\Documents\\Uni_Master\\Masterarbeit\\CODE\\8_tennis_analytics\\wandb\\run-20241201_153339-o835b5pj</code>"
      ],
      "text/plain": [
       "<IPython.core.display.HTML object>"
      ]
     },
     "metadata": {},
     "output_type": "display_data"
    },
    {
     "data": {
      "text/html": [
       "Syncing run <strong><a href='https://wandb.ai/MasterarbeitBV/XGBoost_Hyperparameter_Tuning/runs/o835b5pj' target=\"_blank\">fancy-sweep-88</a></strong> to <a href='https://wandb.ai/MasterarbeitBV/XGBoost_Hyperparameter_Tuning' target=\"_blank\">Weights & Biases</a> (<a href='https://wandb.me/developer-guide' target=\"_blank\">docs</a>)<br/>Sweep page: <a href='https://wandb.ai/MasterarbeitBV/XGBoost_Hyperparameter_Tuning/sweeps/oros33fx' target=\"_blank\">https://wandb.ai/MasterarbeitBV/XGBoost_Hyperparameter_Tuning/sweeps/oros33fx</a>"
      ],
      "text/plain": [
       "<IPython.core.display.HTML object>"
      ]
     },
     "metadata": {},
     "output_type": "display_data"
    },
    {
     "data": {
      "text/html": [
       " View project at <a href='https://wandb.ai/MasterarbeitBV/XGBoost_Hyperparameter_Tuning' target=\"_blank\">https://wandb.ai/MasterarbeitBV/XGBoost_Hyperparameter_Tuning</a>"
      ],
      "text/plain": [
       "<IPython.core.display.HTML object>"
      ]
     },
     "metadata": {},
     "output_type": "display_data"
    },
    {
     "data": {
      "text/html": [
       " View sweep at <a href='https://wandb.ai/MasterarbeitBV/XGBoost_Hyperparameter_Tuning/sweeps/oros33fx' target=\"_blank\">https://wandb.ai/MasterarbeitBV/XGBoost_Hyperparameter_Tuning/sweeps/oros33fx</a>"
      ],
      "text/plain": [
       "<IPython.core.display.HTML object>"
      ]
     },
     "metadata": {},
     "output_type": "display_data"
    },
    {
     "data": {
      "text/html": [
       " View run at <a href='https://wandb.ai/MasterarbeitBV/XGBoost_Hyperparameter_Tuning/runs/o835b5pj' target=\"_blank\">https://wandb.ai/MasterarbeitBV/XGBoost_Hyperparameter_Tuning/runs/o835b5pj</a>"
      ],
      "text/plain": [
       "<IPython.core.display.HTML object>"
      ]
     },
     "metadata": {},
     "output_type": "display_data"
    },
    {
     "data": {
      "text/html": [
       "\n",
       "    <style>\n",
       "        .wandb-row {\n",
       "            display: flex;\n",
       "            flex-direction: row;\n",
       "            flex-wrap: wrap;\n",
       "            justify-content: flex-start;\n",
       "            width: 100%;\n",
       "        }\n",
       "        .wandb-col {\n",
       "            display: flex;\n",
       "            flex-direction: column;\n",
       "            flex-basis: 100%;\n",
       "            flex: 1;\n",
       "            padding: 10px;\n",
       "        }\n",
       "    </style>\n",
       "<div class=\"wandb-row\"><div class=\"wandb-col\"><h3>Run history:</h3><br/><table class=\"wandb\"><tr><td>accuracy</td><td>▁</td></tr><tr><td>f1-score</td><td>▁</td></tr></table><br/></div><div class=\"wandb-col\"><h3>Run summary:</h3><br/><table class=\"wandb\"><tr><td>accuracy</td><td>0.9682</td></tr><tr><td>f1-score</td><td>0.72409</td></tr></table><br/></div></div>"
      ],
      "text/plain": [
       "<IPython.core.display.HTML object>"
      ]
     },
     "metadata": {},
     "output_type": "display_data"
    },
    {
     "data": {
      "text/html": [
       " View run <strong style=\"color:#cdcd00\">fancy-sweep-88</strong> at: <a href='https://wandb.ai/MasterarbeitBV/XGBoost_Hyperparameter_Tuning/runs/o835b5pj' target=\"_blank\">https://wandb.ai/MasterarbeitBV/XGBoost_Hyperparameter_Tuning/runs/o835b5pj</a><br/> View project at: <a href='https://wandb.ai/MasterarbeitBV/XGBoost_Hyperparameter_Tuning' target=\"_blank\">https://wandb.ai/MasterarbeitBV/XGBoost_Hyperparameter_Tuning</a><br/>Synced 5 W&B file(s), 0 media file(s), 0 artifact file(s) and 0 other file(s)"
      ],
      "text/plain": [
       "<IPython.core.display.HTML object>"
      ]
     },
     "metadata": {},
     "output_type": "display_data"
    },
    {
     "data": {
      "text/html": [
       "Find logs at: <code>.\\wandb\\run-20241201_153339-o835b5pj\\logs</code>"
      ],
      "text/plain": [
       "<IPython.core.display.HTML object>"
      ]
     },
     "metadata": {},
     "output_type": "display_data"
    },
    {
     "name": "stderr",
     "output_type": "stream",
     "text": [
      "\u001b[34m\u001b[1mwandb\u001b[0m: Agent Starting Run: q66slvcb with config:\n",
      "\u001b[34m\u001b[1mwandb\u001b[0m: \tBalancing: True\n",
      "\u001b[34m\u001b[1mwandb\u001b[0m: \tfeatures: ['x', 'y']\n",
      "\u001b[34m\u001b[1mwandb\u001b[0m: \tn_features_per_kernel: 4\n",
      "\u001b[34m\u001b[1mwandb\u001b[0m: \tnum_kernels: 2000\n",
      "\u001b[34m\u001b[1mwandb\u001b[0m: \trocket_transform: rocket\n",
      "\u001b[34m\u001b[1mwandb\u001b[0m: \tscaling: False\n",
      "\u001b[34m\u001b[1mwandb\u001b[0m: \twindow_size: 11\n"
     ]
    },
    {
     "data": {
      "text/html": [
       "Tracking run with wandb version 0.18.6"
      ],
      "text/plain": [
       "<IPython.core.display.HTML object>"
      ]
     },
     "metadata": {},
     "output_type": "display_data"
    },
    {
     "data": {
      "text/html": [
       "Run data is saved locally in <code>c:\\Users\\benev\\Documents\\Uni_Master\\Masterarbeit\\CODE\\8_tennis_analytics\\wandb\\run-20241201_153443-q66slvcb</code>"
      ],
      "text/plain": [
       "<IPython.core.display.HTML object>"
      ]
     },
     "metadata": {},
     "output_type": "display_data"
    },
    {
     "data": {
      "text/html": [
       "Syncing run <strong><a href='https://wandb.ai/MasterarbeitBV/XGBoost_Hyperparameter_Tuning/runs/q66slvcb' target=\"_blank\">crimson-sweep-89</a></strong> to <a href='https://wandb.ai/MasterarbeitBV/XGBoost_Hyperparameter_Tuning' target=\"_blank\">Weights & Biases</a> (<a href='https://wandb.me/developer-guide' target=\"_blank\">docs</a>)<br/>Sweep page: <a href='https://wandb.ai/MasterarbeitBV/XGBoost_Hyperparameter_Tuning/sweeps/oros33fx' target=\"_blank\">https://wandb.ai/MasterarbeitBV/XGBoost_Hyperparameter_Tuning/sweeps/oros33fx</a>"
      ],
      "text/plain": [
       "<IPython.core.display.HTML object>"
      ]
     },
     "metadata": {},
     "output_type": "display_data"
    },
    {
     "data": {
      "text/html": [
       " View project at <a href='https://wandb.ai/MasterarbeitBV/XGBoost_Hyperparameter_Tuning' target=\"_blank\">https://wandb.ai/MasterarbeitBV/XGBoost_Hyperparameter_Tuning</a>"
      ],
      "text/plain": [
       "<IPython.core.display.HTML object>"
      ]
     },
     "metadata": {},
     "output_type": "display_data"
    },
    {
     "data": {
      "text/html": [
       " View sweep at <a href='https://wandb.ai/MasterarbeitBV/XGBoost_Hyperparameter_Tuning/sweeps/oros33fx' target=\"_blank\">https://wandb.ai/MasterarbeitBV/XGBoost_Hyperparameter_Tuning/sweeps/oros33fx</a>"
      ],
      "text/plain": [
       "<IPython.core.display.HTML object>"
      ]
     },
     "metadata": {},
     "output_type": "display_data"
    },
    {
     "data": {
      "text/html": [
       " View run at <a href='https://wandb.ai/MasterarbeitBV/XGBoost_Hyperparameter_Tuning/runs/q66slvcb' target=\"_blank\">https://wandb.ai/MasterarbeitBV/XGBoost_Hyperparameter_Tuning/runs/q66slvcb</a>"
      ],
      "text/plain": [
       "<IPython.core.display.HTML object>"
      ]
     },
     "metadata": {},
     "output_type": "display_data"
    },
    {
     "data": {
      "text/html": [
       "\n",
       "    <style>\n",
       "        .wandb-row {\n",
       "            display: flex;\n",
       "            flex-direction: row;\n",
       "            flex-wrap: wrap;\n",
       "            justify-content: flex-start;\n",
       "            width: 100%;\n",
       "        }\n",
       "        .wandb-col {\n",
       "            display: flex;\n",
       "            flex-direction: column;\n",
       "            flex-basis: 100%;\n",
       "            flex: 1;\n",
       "            padding: 10px;\n",
       "        }\n",
       "    </style>\n",
       "<div class=\"wandb-row\"><div class=\"wandb-col\"><h3>Run history:</h3><br/><table class=\"wandb\"><tr><td>accuracy</td><td>▁</td></tr><tr><td>f1-score</td><td>▁</td></tr></table><br/></div><div class=\"wandb-col\"><h3>Run summary:</h3><br/><table class=\"wandb\"><tr><td>accuracy</td><td>0.93777</td></tr><tr><td>f1-score</td><td>0.70348</td></tr></table><br/></div></div>"
      ],
      "text/plain": [
       "<IPython.core.display.HTML object>"
      ]
     },
     "metadata": {},
     "output_type": "display_data"
    },
    {
     "data": {
      "text/html": [
       " View run <strong style=\"color:#cdcd00\">crimson-sweep-89</strong> at: <a href='https://wandb.ai/MasterarbeitBV/XGBoost_Hyperparameter_Tuning/runs/q66slvcb' target=\"_blank\">https://wandb.ai/MasterarbeitBV/XGBoost_Hyperparameter_Tuning/runs/q66slvcb</a><br/> View project at: <a href='https://wandb.ai/MasterarbeitBV/XGBoost_Hyperparameter_Tuning' target=\"_blank\">https://wandb.ai/MasterarbeitBV/XGBoost_Hyperparameter_Tuning</a><br/>Synced 5 W&B file(s), 0 media file(s), 0 artifact file(s) and 0 other file(s)"
      ],
      "text/plain": [
       "<IPython.core.display.HTML object>"
      ]
     },
     "metadata": {},
     "output_type": "display_data"
    },
    {
     "data": {
      "text/html": [
       "Find logs at: <code>.\\wandb\\run-20241201_153443-q66slvcb\\logs</code>"
      ],
      "text/plain": [
       "<IPython.core.display.HTML object>"
      ]
     },
     "metadata": {},
     "output_type": "display_data"
    },
    {
     "name": "stderr",
     "output_type": "stream",
     "text": [
      "\u001b[34m\u001b[1mwandb\u001b[0m: Agent Starting Run: 0274lvcl with config:\n",
      "\u001b[34m\u001b[1mwandb\u001b[0m: \tBalancing: True\n",
      "\u001b[34m\u001b[1mwandb\u001b[0m: \tfeatures: ['x', 'y']\n",
      "\u001b[34m\u001b[1mwandb\u001b[0m: \tn_features_per_kernel: 2\n",
      "\u001b[34m\u001b[1mwandb\u001b[0m: \tnum_kernels: 2000\n",
      "\u001b[34m\u001b[1mwandb\u001b[0m: \trocket_transform: rocket\n",
      "\u001b[34m\u001b[1mwandb\u001b[0m: \tscaling: False\n",
      "\u001b[34m\u001b[1mwandb\u001b[0m: \twindow_size: 21\n"
     ]
    },
    {
     "data": {
      "text/html": [
       "Tracking run with wandb version 0.18.6"
      ],
      "text/plain": [
       "<IPython.core.display.HTML object>"
      ]
     },
     "metadata": {},
     "output_type": "display_data"
    },
    {
     "data": {
      "text/html": [
       "Run data is saved locally in <code>c:\\Users\\benev\\Documents\\Uni_Master\\Masterarbeit\\CODE\\8_tennis_analytics\\wandb\\run-20241201_153645-0274lvcl</code>"
      ],
      "text/plain": [
       "<IPython.core.display.HTML object>"
      ]
     },
     "metadata": {},
     "output_type": "display_data"
    },
    {
     "data": {
      "text/html": [
       "Syncing run <strong><a href='https://wandb.ai/MasterarbeitBV/XGBoost_Hyperparameter_Tuning/runs/0274lvcl' target=\"_blank\">clean-sweep-90</a></strong> to <a href='https://wandb.ai/MasterarbeitBV/XGBoost_Hyperparameter_Tuning' target=\"_blank\">Weights & Biases</a> (<a href='https://wandb.me/developer-guide' target=\"_blank\">docs</a>)<br/>Sweep page: <a href='https://wandb.ai/MasterarbeitBV/XGBoost_Hyperparameter_Tuning/sweeps/oros33fx' target=\"_blank\">https://wandb.ai/MasterarbeitBV/XGBoost_Hyperparameter_Tuning/sweeps/oros33fx</a>"
      ],
      "text/plain": [
       "<IPython.core.display.HTML object>"
      ]
     },
     "metadata": {},
     "output_type": "display_data"
    },
    {
     "data": {
      "text/html": [
       " View project at <a href='https://wandb.ai/MasterarbeitBV/XGBoost_Hyperparameter_Tuning' target=\"_blank\">https://wandb.ai/MasterarbeitBV/XGBoost_Hyperparameter_Tuning</a>"
      ],
      "text/plain": [
       "<IPython.core.display.HTML object>"
      ]
     },
     "metadata": {},
     "output_type": "display_data"
    },
    {
     "data": {
      "text/html": [
       " View sweep at <a href='https://wandb.ai/MasterarbeitBV/XGBoost_Hyperparameter_Tuning/sweeps/oros33fx' target=\"_blank\">https://wandb.ai/MasterarbeitBV/XGBoost_Hyperparameter_Tuning/sweeps/oros33fx</a>"
      ],
      "text/plain": [
       "<IPython.core.display.HTML object>"
      ]
     },
     "metadata": {},
     "output_type": "display_data"
    },
    {
     "data": {
      "text/html": [
       " View run at <a href='https://wandb.ai/MasterarbeitBV/XGBoost_Hyperparameter_Tuning/runs/0274lvcl' target=\"_blank\">https://wandb.ai/MasterarbeitBV/XGBoost_Hyperparameter_Tuning/runs/0274lvcl</a>"
      ],
      "text/plain": [
       "<IPython.core.display.HTML object>"
      ]
     },
     "metadata": {},
     "output_type": "display_data"
    },
    {
     "data": {
      "text/html": [
       "\n",
       "    <style>\n",
       "        .wandb-row {\n",
       "            display: flex;\n",
       "            flex-direction: row;\n",
       "            flex-wrap: wrap;\n",
       "            justify-content: flex-start;\n",
       "            width: 100%;\n",
       "        }\n",
       "        .wandb-col {\n",
       "            display: flex;\n",
       "            flex-direction: column;\n",
       "            flex-basis: 100%;\n",
       "            flex: 1;\n",
       "            padding: 10px;\n",
       "        }\n",
       "    </style>\n",
       "<div class=\"wandb-row\"><div class=\"wandb-col\"><h3>Run history:</h3><br/><table class=\"wandb\"><tr><td>accuracy</td><td>▁</td></tr><tr><td>f1-score</td><td>▁</td></tr></table><br/></div><div class=\"wandb-col\"><h3>Run summary:</h3><br/><table class=\"wandb\"><tr><td>accuracy</td><td>0.92062</td></tr><tr><td>f1-score</td><td>0.6691</td></tr></table><br/></div></div>"
      ],
      "text/plain": [
       "<IPython.core.display.HTML object>"
      ]
     },
     "metadata": {},
     "output_type": "display_data"
    },
    {
     "data": {
      "text/html": [
       " View run <strong style=\"color:#cdcd00\">clean-sweep-90</strong> at: <a href='https://wandb.ai/MasterarbeitBV/XGBoost_Hyperparameter_Tuning/runs/0274lvcl' target=\"_blank\">https://wandb.ai/MasterarbeitBV/XGBoost_Hyperparameter_Tuning/runs/0274lvcl</a><br/> View project at: <a href='https://wandb.ai/MasterarbeitBV/XGBoost_Hyperparameter_Tuning' target=\"_blank\">https://wandb.ai/MasterarbeitBV/XGBoost_Hyperparameter_Tuning</a><br/>Synced 5 W&B file(s), 0 media file(s), 0 artifact file(s) and 0 other file(s)"
      ],
      "text/plain": [
       "<IPython.core.display.HTML object>"
      ]
     },
     "metadata": {},
     "output_type": "display_data"
    },
    {
     "data": {
      "text/html": [
       "Find logs at: <code>.\\wandb\\run-20241201_153645-0274lvcl\\logs</code>"
      ],
      "text/plain": [
       "<IPython.core.display.HTML object>"
      ]
     },
     "metadata": {},
     "output_type": "display_data"
    },
    {
     "name": "stderr",
     "output_type": "stream",
     "text": [
      "\u001b[34m\u001b[1mwandb\u001b[0m: Agent Starting Run: o8shg6ju with config:\n",
      "\u001b[34m\u001b[1mwandb\u001b[0m: \tBalancing: False\n",
      "\u001b[34m\u001b[1mwandb\u001b[0m: \tfeatures: ['x', 'y']\n",
      "\u001b[34m\u001b[1mwandb\u001b[0m: \tn_features_per_kernel: 2\n",
      "\u001b[34m\u001b[1mwandb\u001b[0m: \tnum_kernels: 2000\n",
      "\u001b[34m\u001b[1mwandb\u001b[0m: \trocket_transform: rocket\n",
      "\u001b[34m\u001b[1mwandb\u001b[0m: \tscaling: False\n",
      "\u001b[34m\u001b[1mwandb\u001b[0m: \twindow_size: 11\n"
     ]
    },
    {
     "data": {
      "text/html": [
       "Tracking run with wandb version 0.18.6"
      ],
      "text/plain": [
       "<IPython.core.display.HTML object>"
      ]
     },
     "metadata": {},
     "output_type": "display_data"
    },
    {
     "data": {
      "text/html": [
       "Run data is saved locally in <code>c:\\Users\\benev\\Documents\\Uni_Master\\Masterarbeit\\CODE\\8_tennis_analytics\\wandb\\run-20241201_153902-o8shg6ju</code>"
      ],
      "text/plain": [
       "<IPython.core.display.HTML object>"
      ]
     },
     "metadata": {},
     "output_type": "display_data"
    },
    {
     "data": {
      "text/html": [
       "Syncing run <strong><a href='https://wandb.ai/MasterarbeitBV/XGBoost_Hyperparameter_Tuning/runs/o8shg6ju' target=\"_blank\">vague-sweep-91</a></strong> to <a href='https://wandb.ai/MasterarbeitBV/XGBoost_Hyperparameter_Tuning' target=\"_blank\">Weights & Biases</a> (<a href='https://wandb.me/developer-guide' target=\"_blank\">docs</a>)<br/>Sweep page: <a href='https://wandb.ai/MasterarbeitBV/XGBoost_Hyperparameter_Tuning/sweeps/oros33fx' target=\"_blank\">https://wandb.ai/MasterarbeitBV/XGBoost_Hyperparameter_Tuning/sweeps/oros33fx</a>"
      ],
      "text/plain": [
       "<IPython.core.display.HTML object>"
      ]
     },
     "metadata": {},
     "output_type": "display_data"
    },
    {
     "data": {
      "text/html": [
       " View project at <a href='https://wandb.ai/MasterarbeitBV/XGBoost_Hyperparameter_Tuning' target=\"_blank\">https://wandb.ai/MasterarbeitBV/XGBoost_Hyperparameter_Tuning</a>"
      ],
      "text/plain": [
       "<IPython.core.display.HTML object>"
      ]
     },
     "metadata": {},
     "output_type": "display_data"
    },
    {
     "data": {
      "text/html": [
       " View sweep at <a href='https://wandb.ai/MasterarbeitBV/XGBoost_Hyperparameter_Tuning/sweeps/oros33fx' target=\"_blank\">https://wandb.ai/MasterarbeitBV/XGBoost_Hyperparameter_Tuning/sweeps/oros33fx</a>"
      ],
      "text/plain": [
       "<IPython.core.display.HTML object>"
      ]
     },
     "metadata": {},
     "output_type": "display_data"
    },
    {
     "data": {
      "text/html": [
       " View run at <a href='https://wandb.ai/MasterarbeitBV/XGBoost_Hyperparameter_Tuning/runs/o8shg6ju' target=\"_blank\">https://wandb.ai/MasterarbeitBV/XGBoost_Hyperparameter_Tuning/runs/o8shg6ju</a>"
      ],
      "text/plain": [
       "<IPython.core.display.HTML object>"
      ]
     },
     "metadata": {},
     "output_type": "display_data"
    },
    {
     "data": {
      "text/html": [
       "\n",
       "    <style>\n",
       "        .wandb-row {\n",
       "            display: flex;\n",
       "            flex-direction: row;\n",
       "            flex-wrap: wrap;\n",
       "            justify-content: flex-start;\n",
       "            width: 100%;\n",
       "        }\n",
       "        .wandb-col {\n",
       "            display: flex;\n",
       "            flex-direction: column;\n",
       "            flex-basis: 100%;\n",
       "            flex: 1;\n",
       "            padding: 10px;\n",
       "        }\n",
       "    </style>\n",
       "<div class=\"wandb-row\"><div class=\"wandb-col\"><h3>Run history:</h3><br/><table class=\"wandb\"><tr><td>accuracy</td><td>▁</td></tr><tr><td>f1-score</td><td>▁</td></tr></table><br/></div><div class=\"wandb-col\"><h3>Run summary:</h3><br/><table class=\"wandb\"><tr><td>accuracy</td><td>0.9682</td></tr><tr><td>f1-score</td><td>0.72409</td></tr></table><br/></div></div>"
      ],
      "text/plain": [
       "<IPython.core.display.HTML object>"
      ]
     },
     "metadata": {},
     "output_type": "display_data"
    },
    {
     "data": {
      "text/html": [
       " View run <strong style=\"color:#cdcd00\">vague-sweep-91</strong> at: <a href='https://wandb.ai/MasterarbeitBV/XGBoost_Hyperparameter_Tuning/runs/o8shg6ju' target=\"_blank\">https://wandb.ai/MasterarbeitBV/XGBoost_Hyperparameter_Tuning/runs/o8shg6ju</a><br/> View project at: <a href='https://wandb.ai/MasterarbeitBV/XGBoost_Hyperparameter_Tuning' target=\"_blank\">https://wandb.ai/MasterarbeitBV/XGBoost_Hyperparameter_Tuning</a><br/>Synced 5 W&B file(s), 0 media file(s), 0 artifact file(s) and 0 other file(s)"
      ],
      "text/plain": [
       "<IPython.core.display.HTML object>"
      ]
     },
     "metadata": {},
     "output_type": "display_data"
    },
    {
     "data": {
      "text/html": [
       "Find logs at: <code>.\\wandb\\run-20241201_153902-o8shg6ju\\logs</code>"
      ],
      "text/plain": [
       "<IPython.core.display.HTML object>"
      ]
     },
     "metadata": {},
     "output_type": "display_data"
    },
    {
     "name": "stderr",
     "output_type": "stream",
     "text": [
      "\u001b[34m\u001b[1mwandb\u001b[0m: Agent Starting Run: z5dtft9g with config:\n",
      "\u001b[34m\u001b[1mwandb\u001b[0m: \tBalancing: True\n",
      "\u001b[34m\u001b[1mwandb\u001b[0m: \tfeatures: ['x', 'y']\n",
      "\u001b[34m\u001b[1mwandb\u001b[0m: \tn_features_per_kernel: 2\n",
      "\u001b[34m\u001b[1mwandb\u001b[0m: \tnum_kernels: 2000\n",
      "\u001b[34m\u001b[1mwandb\u001b[0m: \trocket_transform: rocket\n",
      "\u001b[34m\u001b[1mwandb\u001b[0m: \tscaling: True\n",
      "\u001b[34m\u001b[1mwandb\u001b[0m: \twindow_size: 11\n"
     ]
    },
    {
     "data": {
      "text/html": [
       "Tracking run with wandb version 0.18.6"
      ],
      "text/plain": [
       "<IPython.core.display.HTML object>"
      ]
     },
     "metadata": {},
     "output_type": "display_data"
    },
    {
     "data": {
      "text/html": [
       "Run data is saved locally in <code>c:\\Users\\benev\\Documents\\Uni_Master\\Masterarbeit\\CODE\\8_tennis_analytics\\wandb\\run-20241201_154004-z5dtft9g</code>"
      ],
      "text/plain": [
       "<IPython.core.display.HTML object>"
      ]
     },
     "metadata": {},
     "output_type": "display_data"
    },
    {
     "data": {
      "text/html": [
       "Syncing run <strong><a href='https://wandb.ai/MasterarbeitBV/XGBoost_Hyperparameter_Tuning/runs/z5dtft9g' target=\"_blank\">winter-sweep-92</a></strong> to <a href='https://wandb.ai/MasterarbeitBV/XGBoost_Hyperparameter_Tuning' target=\"_blank\">Weights & Biases</a> (<a href='https://wandb.me/developer-guide' target=\"_blank\">docs</a>)<br/>Sweep page: <a href='https://wandb.ai/MasterarbeitBV/XGBoost_Hyperparameter_Tuning/sweeps/oros33fx' target=\"_blank\">https://wandb.ai/MasterarbeitBV/XGBoost_Hyperparameter_Tuning/sweeps/oros33fx</a>"
      ],
      "text/plain": [
       "<IPython.core.display.HTML object>"
      ]
     },
     "metadata": {},
     "output_type": "display_data"
    },
    {
     "data": {
      "text/html": [
       " View project at <a href='https://wandb.ai/MasterarbeitBV/XGBoost_Hyperparameter_Tuning' target=\"_blank\">https://wandb.ai/MasterarbeitBV/XGBoost_Hyperparameter_Tuning</a>"
      ],
      "text/plain": [
       "<IPython.core.display.HTML object>"
      ]
     },
     "metadata": {},
     "output_type": "display_data"
    },
    {
     "data": {
      "text/html": [
       " View sweep at <a href='https://wandb.ai/MasterarbeitBV/XGBoost_Hyperparameter_Tuning/sweeps/oros33fx' target=\"_blank\">https://wandb.ai/MasterarbeitBV/XGBoost_Hyperparameter_Tuning/sweeps/oros33fx</a>"
      ],
      "text/plain": [
       "<IPython.core.display.HTML object>"
      ]
     },
     "metadata": {},
     "output_type": "display_data"
    },
    {
     "data": {
      "text/html": [
       " View run at <a href='https://wandb.ai/MasterarbeitBV/XGBoost_Hyperparameter_Tuning/runs/z5dtft9g' target=\"_blank\">https://wandb.ai/MasterarbeitBV/XGBoost_Hyperparameter_Tuning/runs/z5dtft9g</a>"
      ],
      "text/plain": [
       "<IPython.core.display.HTML object>"
      ]
     },
     "metadata": {},
     "output_type": "display_data"
    },
    {
     "data": {
      "text/html": [
       "\n",
       "    <style>\n",
       "        .wandb-row {\n",
       "            display: flex;\n",
       "            flex-direction: row;\n",
       "            flex-wrap: wrap;\n",
       "            justify-content: flex-start;\n",
       "            width: 100%;\n",
       "        }\n",
       "        .wandb-col {\n",
       "            display: flex;\n",
       "            flex-direction: column;\n",
       "            flex-basis: 100%;\n",
       "            flex: 1;\n",
       "            padding: 10px;\n",
       "        }\n",
       "    </style>\n",
       "<div class=\"wandb-row\"><div class=\"wandb-col\"><h3>Run history:</h3><br/><table class=\"wandb\"><tr><td>accuracy</td><td>▁</td></tr><tr><td>f1-score</td><td>▁</td></tr></table><br/></div><div class=\"wandb-col\"><h3>Run summary:</h3><br/><table class=\"wandb\"><tr><td>accuracy</td><td>0.93914</td></tr><tr><td>f1-score</td><td>0.70994</td></tr></table><br/></div></div>"
      ],
      "text/plain": [
       "<IPython.core.display.HTML object>"
      ]
     },
     "metadata": {},
     "output_type": "display_data"
    },
    {
     "data": {
      "text/html": [
       " View run <strong style=\"color:#cdcd00\">winter-sweep-92</strong> at: <a href='https://wandb.ai/MasterarbeitBV/XGBoost_Hyperparameter_Tuning/runs/z5dtft9g' target=\"_blank\">https://wandb.ai/MasterarbeitBV/XGBoost_Hyperparameter_Tuning/runs/z5dtft9g</a><br/> View project at: <a href='https://wandb.ai/MasterarbeitBV/XGBoost_Hyperparameter_Tuning' target=\"_blank\">https://wandb.ai/MasterarbeitBV/XGBoost_Hyperparameter_Tuning</a><br/>Synced 5 W&B file(s), 0 media file(s), 0 artifact file(s) and 0 other file(s)"
      ],
      "text/plain": [
       "<IPython.core.display.HTML object>"
      ]
     },
     "metadata": {},
     "output_type": "display_data"
    },
    {
     "data": {
      "text/html": [
       "Find logs at: <code>.\\wandb\\run-20241201_154004-z5dtft9g\\logs</code>"
      ],
      "text/plain": [
       "<IPython.core.display.HTML object>"
      ]
     },
     "metadata": {},
     "output_type": "display_data"
    },
    {
     "name": "stderr",
     "output_type": "stream",
     "text": [
      "\u001b[34m\u001b[1mwandb\u001b[0m: Sweep Agent: Waiting for job.\n",
      "\u001b[34m\u001b[1mwandb\u001b[0m: Job received.\n",
      "\u001b[34m\u001b[1mwandb\u001b[0m: Agent Starting Run: r3yfoluh with config:\n",
      "\u001b[34m\u001b[1mwandb\u001b[0m: \tBalancing: False\n",
      "\u001b[34m\u001b[1mwandb\u001b[0m: \tfeatures: ['x', 'y']\n",
      "\u001b[34m\u001b[1mwandb\u001b[0m: \tn_features_per_kernel: 2\n",
      "\u001b[34m\u001b[1mwandb\u001b[0m: \tnum_kernels: 2000\n",
      "\u001b[34m\u001b[1mwandb\u001b[0m: \trocket_transform: rocket\n",
      "\u001b[34m\u001b[1mwandb\u001b[0m: \tscaling: True\n",
      "\u001b[34m\u001b[1mwandb\u001b[0m: \twindow_size: 11\n"
     ]
    },
    {
     "data": {
      "text/html": [
       "Tracking run with wandb version 0.18.6"
      ],
      "text/plain": [
       "<IPython.core.display.HTML object>"
      ]
     },
     "metadata": {},
     "output_type": "display_data"
    },
    {
     "data": {
      "text/html": [
       "Run data is saved locally in <code>c:\\Users\\benev\\Documents\\Uni_Master\\Masterarbeit\\CODE\\8_tennis_analytics\\wandb\\run-20241201_154218-r3yfoluh</code>"
      ],
      "text/plain": [
       "<IPython.core.display.HTML object>"
      ]
     },
     "metadata": {},
     "output_type": "display_data"
    },
    {
     "data": {
      "text/html": [
       "Syncing run <strong><a href='https://wandb.ai/MasterarbeitBV/XGBoost_Hyperparameter_Tuning/runs/r3yfoluh' target=\"_blank\">lilac-sweep-93</a></strong> to <a href='https://wandb.ai/MasterarbeitBV/XGBoost_Hyperparameter_Tuning' target=\"_blank\">Weights & Biases</a> (<a href='https://wandb.me/developer-guide' target=\"_blank\">docs</a>)<br/>Sweep page: <a href='https://wandb.ai/MasterarbeitBV/XGBoost_Hyperparameter_Tuning/sweeps/oros33fx' target=\"_blank\">https://wandb.ai/MasterarbeitBV/XGBoost_Hyperparameter_Tuning/sweeps/oros33fx</a>"
      ],
      "text/plain": [
       "<IPython.core.display.HTML object>"
      ]
     },
     "metadata": {},
     "output_type": "display_data"
    },
    {
     "data": {
      "text/html": [
       " View project at <a href='https://wandb.ai/MasterarbeitBV/XGBoost_Hyperparameter_Tuning' target=\"_blank\">https://wandb.ai/MasterarbeitBV/XGBoost_Hyperparameter_Tuning</a>"
      ],
      "text/plain": [
       "<IPython.core.display.HTML object>"
      ]
     },
     "metadata": {},
     "output_type": "display_data"
    },
    {
     "data": {
      "text/html": [
       " View sweep at <a href='https://wandb.ai/MasterarbeitBV/XGBoost_Hyperparameter_Tuning/sweeps/oros33fx' target=\"_blank\">https://wandb.ai/MasterarbeitBV/XGBoost_Hyperparameter_Tuning/sweeps/oros33fx</a>"
      ],
      "text/plain": [
       "<IPython.core.display.HTML object>"
      ]
     },
     "metadata": {},
     "output_type": "display_data"
    },
    {
     "data": {
      "text/html": [
       " View run at <a href='https://wandb.ai/MasterarbeitBV/XGBoost_Hyperparameter_Tuning/runs/r3yfoluh' target=\"_blank\">https://wandb.ai/MasterarbeitBV/XGBoost_Hyperparameter_Tuning/runs/r3yfoluh</a>"
      ],
      "text/plain": [
       "<IPython.core.display.HTML object>"
      ]
     },
     "metadata": {},
     "output_type": "display_data"
    },
    {
     "data": {
      "text/html": [
       "\n",
       "    <style>\n",
       "        .wandb-row {\n",
       "            display: flex;\n",
       "            flex-direction: row;\n",
       "            flex-wrap: wrap;\n",
       "            justify-content: flex-start;\n",
       "            width: 100%;\n",
       "        }\n",
       "        .wandb-col {\n",
       "            display: flex;\n",
       "            flex-direction: column;\n",
       "            flex-basis: 100%;\n",
       "            flex: 1;\n",
       "            padding: 10px;\n",
       "        }\n",
       "    </style>\n",
       "<div class=\"wandb-row\"><div class=\"wandb-col\"><h3>Run history:</h3><br/><table class=\"wandb\"><tr><td>accuracy</td><td>▁</td></tr><tr><td>f1-score</td><td>▁</td></tr></table><br/></div><div class=\"wandb-col\"><h3>Run summary:</h3><br/><table class=\"wandb\"><tr><td>accuracy</td><td>0.96875</td></tr><tr><td>f1-score</td><td>0.72909</td></tr></table><br/></div></div>"
      ],
      "text/plain": [
       "<IPython.core.display.HTML object>"
      ]
     },
     "metadata": {},
     "output_type": "display_data"
    },
    {
     "data": {
      "text/html": [
       " View run <strong style=\"color:#cdcd00\">lilac-sweep-93</strong> at: <a href='https://wandb.ai/MasterarbeitBV/XGBoost_Hyperparameter_Tuning/runs/r3yfoluh' target=\"_blank\">https://wandb.ai/MasterarbeitBV/XGBoost_Hyperparameter_Tuning/runs/r3yfoluh</a><br/> View project at: <a href='https://wandb.ai/MasterarbeitBV/XGBoost_Hyperparameter_Tuning' target=\"_blank\">https://wandb.ai/MasterarbeitBV/XGBoost_Hyperparameter_Tuning</a><br/>Synced 5 W&B file(s), 0 media file(s), 0 artifact file(s) and 0 other file(s)"
      ],
      "text/plain": [
       "<IPython.core.display.HTML object>"
      ]
     },
     "metadata": {},
     "output_type": "display_data"
    },
    {
     "data": {
      "text/html": [
       "Find logs at: <code>.\\wandb\\run-20241201_154218-r3yfoluh\\logs</code>"
      ],
      "text/plain": [
       "<IPython.core.display.HTML object>"
      ]
     },
     "metadata": {},
     "output_type": "display_data"
    },
    {
     "name": "stderr",
     "output_type": "stream",
     "text": [
      "\u001b[34m\u001b[1mwandb\u001b[0m: Agent Starting Run: xhj97r08 with config:\n",
      "\u001b[34m\u001b[1mwandb\u001b[0m: \tBalancing: False\n",
      "\u001b[34m\u001b[1mwandb\u001b[0m: \tfeatures: ['x', 'y']\n",
      "\u001b[34m\u001b[1mwandb\u001b[0m: \tn_features_per_kernel: 2\n",
      "\u001b[34m\u001b[1mwandb\u001b[0m: \tnum_kernels: 2000\n",
      "\u001b[34m\u001b[1mwandb\u001b[0m: \trocket_transform: rocket\n",
      "\u001b[34m\u001b[1mwandb\u001b[0m: \tscaling: False\n",
      "\u001b[34m\u001b[1mwandb\u001b[0m: \twindow_size: 21\n"
     ]
    },
    {
     "data": {
      "text/html": [
       "Tracking run with wandb version 0.18.6"
      ],
      "text/plain": [
       "<IPython.core.display.HTML object>"
      ]
     },
     "metadata": {},
     "output_type": "display_data"
    },
    {
     "data": {
      "text/html": [
       "Run data is saved locally in <code>c:\\Users\\benev\\Documents\\Uni_Master\\Masterarbeit\\CODE\\8_tennis_analytics\\wandb\\run-20241201_154328-xhj97r08</code>"
      ],
      "text/plain": [
       "<IPython.core.display.HTML object>"
      ]
     },
     "metadata": {},
     "output_type": "display_data"
    },
    {
     "data": {
      "text/html": [
       "Syncing run <strong><a href='https://wandb.ai/MasterarbeitBV/XGBoost_Hyperparameter_Tuning/runs/xhj97r08' target=\"_blank\">elated-sweep-94</a></strong> to <a href='https://wandb.ai/MasterarbeitBV/XGBoost_Hyperparameter_Tuning' target=\"_blank\">Weights & Biases</a> (<a href='https://wandb.me/developer-guide' target=\"_blank\">docs</a>)<br/>Sweep page: <a href='https://wandb.ai/MasterarbeitBV/XGBoost_Hyperparameter_Tuning/sweeps/oros33fx' target=\"_blank\">https://wandb.ai/MasterarbeitBV/XGBoost_Hyperparameter_Tuning/sweeps/oros33fx</a>"
      ],
      "text/plain": [
       "<IPython.core.display.HTML object>"
      ]
     },
     "metadata": {},
     "output_type": "display_data"
    },
    {
     "data": {
      "text/html": [
       " View project at <a href='https://wandb.ai/MasterarbeitBV/XGBoost_Hyperparameter_Tuning' target=\"_blank\">https://wandb.ai/MasterarbeitBV/XGBoost_Hyperparameter_Tuning</a>"
      ],
      "text/plain": [
       "<IPython.core.display.HTML object>"
      ]
     },
     "metadata": {},
     "output_type": "display_data"
    },
    {
     "data": {
      "text/html": [
       " View sweep at <a href='https://wandb.ai/MasterarbeitBV/XGBoost_Hyperparameter_Tuning/sweeps/oros33fx' target=\"_blank\">https://wandb.ai/MasterarbeitBV/XGBoost_Hyperparameter_Tuning/sweeps/oros33fx</a>"
      ],
      "text/plain": [
       "<IPython.core.display.HTML object>"
      ]
     },
     "metadata": {},
     "output_type": "display_data"
    },
    {
     "data": {
      "text/html": [
       " View run at <a href='https://wandb.ai/MasterarbeitBV/XGBoost_Hyperparameter_Tuning/runs/xhj97r08' target=\"_blank\">https://wandb.ai/MasterarbeitBV/XGBoost_Hyperparameter_Tuning/runs/xhj97r08</a>"
      ],
      "text/plain": [
       "<IPython.core.display.HTML object>"
      ]
     },
     "metadata": {},
     "output_type": "display_data"
    },
    {
     "data": {
      "text/html": [
       "\n",
       "    <style>\n",
       "        .wandb-row {\n",
       "            display: flex;\n",
       "            flex-direction: row;\n",
       "            flex-wrap: wrap;\n",
       "            justify-content: flex-start;\n",
       "            width: 100%;\n",
       "        }\n",
       "        .wandb-col {\n",
       "            display: flex;\n",
       "            flex-direction: column;\n",
       "            flex-basis: 100%;\n",
       "            flex: 1;\n",
       "            padding: 10px;\n",
       "        }\n",
       "    </style>\n",
       "<div class=\"wandb-row\"><div class=\"wandb-col\"><h3>Run history:</h3><br/><table class=\"wandb\"><tr><td>accuracy</td><td>▁</td></tr><tr><td>f1-score</td><td>▁</td></tr></table><br/></div><div class=\"wandb-col\"><h3>Run summary:</h3><br/><table class=\"wandb\"><tr><td>accuracy</td><td>0.95515</td></tr><tr><td>f1-score</td><td>0.45567</td></tr></table><br/></div></div>"
      ],
      "text/plain": [
       "<IPython.core.display.HTML object>"
      ]
     },
     "metadata": {},
     "output_type": "display_data"
    },
    {
     "data": {
      "text/html": [
       " View run <strong style=\"color:#cdcd00\">elated-sweep-94</strong> at: <a href='https://wandb.ai/MasterarbeitBV/XGBoost_Hyperparameter_Tuning/runs/xhj97r08' target=\"_blank\">https://wandb.ai/MasterarbeitBV/XGBoost_Hyperparameter_Tuning/runs/xhj97r08</a><br/> View project at: <a href='https://wandb.ai/MasterarbeitBV/XGBoost_Hyperparameter_Tuning' target=\"_blank\">https://wandb.ai/MasterarbeitBV/XGBoost_Hyperparameter_Tuning</a><br/>Synced 5 W&B file(s), 0 media file(s), 0 artifact file(s) and 0 other file(s)"
      ],
      "text/plain": [
       "<IPython.core.display.HTML object>"
      ]
     },
     "metadata": {},
     "output_type": "display_data"
    },
    {
     "data": {
      "text/html": [
       "Find logs at: <code>.\\wandb\\run-20241201_154328-xhj97r08\\logs</code>"
      ],
      "text/plain": [
       "<IPython.core.display.HTML object>"
      ]
     },
     "metadata": {},
     "output_type": "display_data"
    },
    {
     "name": "stderr",
     "output_type": "stream",
     "text": [
      "\u001b[34m\u001b[1mwandb\u001b[0m: Agent Starting Run: lgqybryp with config:\n",
      "\u001b[34m\u001b[1mwandb\u001b[0m: \tBalancing: True\n",
      "\u001b[34m\u001b[1mwandb\u001b[0m: \tfeatures: ['x', 'y']\n",
      "\u001b[34m\u001b[1mwandb\u001b[0m: \tn_features_per_kernel: 4\n",
      "\u001b[34m\u001b[1mwandb\u001b[0m: \tnum_kernels: 2000\n",
      "\u001b[34m\u001b[1mwandb\u001b[0m: \trocket_transform: rocket\n",
      "\u001b[34m\u001b[1mwandb\u001b[0m: \tscaling: False\n",
      "\u001b[34m\u001b[1mwandb\u001b[0m: \twindow_size: 11\n"
     ]
    },
    {
     "data": {
      "text/html": [
       "Tracking run with wandb version 0.18.6"
      ],
      "text/plain": [
       "<IPython.core.display.HTML object>"
      ]
     },
     "metadata": {},
     "output_type": "display_data"
    },
    {
     "data": {
      "text/html": [
       "Run data is saved locally in <code>c:\\Users\\benev\\Documents\\Uni_Master\\Masterarbeit\\CODE\\8_tennis_analytics\\wandb\\run-20241201_154445-lgqybryp</code>"
      ],
      "text/plain": [
       "<IPython.core.display.HTML object>"
      ]
     },
     "metadata": {},
     "output_type": "display_data"
    },
    {
     "data": {
      "text/html": [
       "Syncing run <strong><a href='https://wandb.ai/MasterarbeitBV/XGBoost_Hyperparameter_Tuning/runs/lgqybryp' target=\"_blank\">dandy-sweep-95</a></strong> to <a href='https://wandb.ai/MasterarbeitBV/XGBoost_Hyperparameter_Tuning' target=\"_blank\">Weights & Biases</a> (<a href='https://wandb.me/developer-guide' target=\"_blank\">docs</a>)<br/>Sweep page: <a href='https://wandb.ai/MasterarbeitBV/XGBoost_Hyperparameter_Tuning/sweeps/oros33fx' target=\"_blank\">https://wandb.ai/MasterarbeitBV/XGBoost_Hyperparameter_Tuning/sweeps/oros33fx</a>"
      ],
      "text/plain": [
       "<IPython.core.display.HTML object>"
      ]
     },
     "metadata": {},
     "output_type": "display_data"
    },
    {
     "data": {
      "text/html": [
       " View project at <a href='https://wandb.ai/MasterarbeitBV/XGBoost_Hyperparameter_Tuning' target=\"_blank\">https://wandb.ai/MasterarbeitBV/XGBoost_Hyperparameter_Tuning</a>"
      ],
      "text/plain": [
       "<IPython.core.display.HTML object>"
      ]
     },
     "metadata": {},
     "output_type": "display_data"
    },
    {
     "data": {
      "text/html": [
       " View sweep at <a href='https://wandb.ai/MasterarbeitBV/XGBoost_Hyperparameter_Tuning/sweeps/oros33fx' target=\"_blank\">https://wandb.ai/MasterarbeitBV/XGBoost_Hyperparameter_Tuning/sweeps/oros33fx</a>"
      ],
      "text/plain": [
       "<IPython.core.display.HTML object>"
      ]
     },
     "metadata": {},
     "output_type": "display_data"
    },
    {
     "data": {
      "text/html": [
       " View run at <a href='https://wandb.ai/MasterarbeitBV/XGBoost_Hyperparameter_Tuning/runs/lgqybryp' target=\"_blank\">https://wandb.ai/MasterarbeitBV/XGBoost_Hyperparameter_Tuning/runs/lgqybryp</a>"
      ],
      "text/plain": [
       "<IPython.core.display.HTML object>"
      ]
     },
     "metadata": {},
     "output_type": "display_data"
    },
    {
     "data": {
      "text/html": [
       "\n",
       "    <style>\n",
       "        .wandb-row {\n",
       "            display: flex;\n",
       "            flex-direction: row;\n",
       "            flex-wrap: wrap;\n",
       "            justify-content: flex-start;\n",
       "            width: 100%;\n",
       "        }\n",
       "        .wandb-col {\n",
       "            display: flex;\n",
       "            flex-direction: column;\n",
       "            flex-basis: 100%;\n",
       "            flex: 1;\n",
       "            padding: 10px;\n",
       "        }\n",
       "    </style>\n",
       "<div class=\"wandb-row\"><div class=\"wandb-col\"><h3>Run history:</h3><br/><table class=\"wandb\"><tr><td>accuracy</td><td>▁</td></tr><tr><td>f1-score</td><td>▁</td></tr></table><br/></div><div class=\"wandb-col\"><h3>Run summary:</h3><br/><table class=\"wandb\"><tr><td>accuracy</td><td>0.93777</td></tr><tr><td>f1-score</td><td>0.70348</td></tr></table><br/></div></div>"
      ],
      "text/plain": [
       "<IPython.core.display.HTML object>"
      ]
     },
     "metadata": {},
     "output_type": "display_data"
    },
    {
     "data": {
      "text/html": [
       " View run <strong style=\"color:#cdcd00\">dandy-sweep-95</strong> at: <a href='https://wandb.ai/MasterarbeitBV/XGBoost_Hyperparameter_Tuning/runs/lgqybryp' target=\"_blank\">https://wandb.ai/MasterarbeitBV/XGBoost_Hyperparameter_Tuning/runs/lgqybryp</a><br/> View project at: <a href='https://wandb.ai/MasterarbeitBV/XGBoost_Hyperparameter_Tuning' target=\"_blank\">https://wandb.ai/MasterarbeitBV/XGBoost_Hyperparameter_Tuning</a><br/>Synced 5 W&B file(s), 0 media file(s), 0 artifact file(s) and 0 other file(s)"
      ],
      "text/plain": [
       "<IPython.core.display.HTML object>"
      ]
     },
     "metadata": {},
     "output_type": "display_data"
    },
    {
     "data": {
      "text/html": [
       "Find logs at: <code>.\\wandb\\run-20241201_154445-lgqybryp\\logs</code>"
      ],
      "text/plain": [
       "<IPython.core.display.HTML object>"
      ]
     },
     "metadata": {},
     "output_type": "display_data"
    },
    {
     "name": "stderr",
     "output_type": "stream",
     "text": [
      "\u001b[34m\u001b[1mwandb\u001b[0m: Agent Starting Run: 3deyitup with config:\n",
      "\u001b[34m\u001b[1mwandb\u001b[0m: \tBalancing: True\n",
      "\u001b[34m\u001b[1mwandb\u001b[0m: \tfeatures: ['x', 'y']\n",
      "\u001b[34m\u001b[1mwandb\u001b[0m: \tn_features_per_kernel: 2\n",
      "\u001b[34m\u001b[1mwandb\u001b[0m: \tnum_kernels: 2000\n",
      "\u001b[34m\u001b[1mwandb\u001b[0m: \trocket_transform: rocket\n",
      "\u001b[34m\u001b[1mwandb\u001b[0m: \tscaling: False\n",
      "\u001b[34m\u001b[1mwandb\u001b[0m: \twindow_size: 21\n"
     ]
    },
    {
     "data": {
      "text/html": [
       "Tracking run with wandb version 0.18.6"
      ],
      "text/plain": [
       "<IPython.core.display.HTML object>"
      ]
     },
     "metadata": {},
     "output_type": "display_data"
    },
    {
     "data": {
      "text/html": [
       "Run data is saved locally in <code>c:\\Users\\benev\\Documents\\Uni_Master\\Masterarbeit\\CODE\\8_tennis_analytics\\wandb\\run-20241201_154700-3deyitup</code>"
      ],
      "text/plain": [
       "<IPython.core.display.HTML object>"
      ]
     },
     "metadata": {},
     "output_type": "display_data"
    },
    {
     "data": {
      "text/html": [
       "Syncing run <strong><a href='https://wandb.ai/MasterarbeitBV/XGBoost_Hyperparameter_Tuning/runs/3deyitup' target=\"_blank\">neat-sweep-96</a></strong> to <a href='https://wandb.ai/MasterarbeitBV/XGBoost_Hyperparameter_Tuning' target=\"_blank\">Weights & Biases</a> (<a href='https://wandb.me/developer-guide' target=\"_blank\">docs</a>)<br/>Sweep page: <a href='https://wandb.ai/MasterarbeitBV/XGBoost_Hyperparameter_Tuning/sweeps/oros33fx' target=\"_blank\">https://wandb.ai/MasterarbeitBV/XGBoost_Hyperparameter_Tuning/sweeps/oros33fx</a>"
      ],
      "text/plain": [
       "<IPython.core.display.HTML object>"
      ]
     },
     "metadata": {},
     "output_type": "display_data"
    },
    {
     "data": {
      "text/html": [
       " View project at <a href='https://wandb.ai/MasterarbeitBV/XGBoost_Hyperparameter_Tuning' target=\"_blank\">https://wandb.ai/MasterarbeitBV/XGBoost_Hyperparameter_Tuning</a>"
      ],
      "text/plain": [
       "<IPython.core.display.HTML object>"
      ]
     },
     "metadata": {},
     "output_type": "display_data"
    },
    {
     "data": {
      "text/html": [
       " View sweep at <a href='https://wandb.ai/MasterarbeitBV/XGBoost_Hyperparameter_Tuning/sweeps/oros33fx' target=\"_blank\">https://wandb.ai/MasterarbeitBV/XGBoost_Hyperparameter_Tuning/sweeps/oros33fx</a>"
      ],
      "text/plain": [
       "<IPython.core.display.HTML object>"
      ]
     },
     "metadata": {},
     "output_type": "display_data"
    },
    {
     "data": {
      "text/html": [
       " View run at <a href='https://wandb.ai/MasterarbeitBV/XGBoost_Hyperparameter_Tuning/runs/3deyitup' target=\"_blank\">https://wandb.ai/MasterarbeitBV/XGBoost_Hyperparameter_Tuning/runs/3deyitup</a>"
      ],
      "text/plain": [
       "<IPython.core.display.HTML object>"
      ]
     },
     "metadata": {},
     "output_type": "display_data"
    },
    {
     "data": {
      "text/html": [
       "\n",
       "    <style>\n",
       "        .wandb-row {\n",
       "            display: flex;\n",
       "            flex-direction: row;\n",
       "            flex-wrap: wrap;\n",
       "            justify-content: flex-start;\n",
       "            width: 100%;\n",
       "        }\n",
       "        .wandb-col {\n",
       "            display: flex;\n",
       "            flex-direction: column;\n",
       "            flex-basis: 100%;\n",
       "            flex: 1;\n",
       "            padding: 10px;\n",
       "        }\n",
       "    </style>\n",
       "<div class=\"wandb-row\"><div class=\"wandb-col\"><h3>Run history:</h3><br/><table class=\"wandb\"><tr><td>accuracy</td><td>▁</td></tr><tr><td>f1-score</td><td>▁</td></tr></table><br/></div><div class=\"wandb-col\"><h3>Run summary:</h3><br/><table class=\"wandb\"><tr><td>accuracy</td><td>0.92062</td></tr><tr><td>f1-score</td><td>0.6691</td></tr></table><br/></div></div>"
      ],
      "text/plain": [
       "<IPython.core.display.HTML object>"
      ]
     },
     "metadata": {},
     "output_type": "display_data"
    },
    {
     "data": {
      "text/html": [
       " View run <strong style=\"color:#cdcd00\">neat-sweep-96</strong> at: <a href='https://wandb.ai/MasterarbeitBV/XGBoost_Hyperparameter_Tuning/runs/3deyitup' target=\"_blank\">https://wandb.ai/MasterarbeitBV/XGBoost_Hyperparameter_Tuning/runs/3deyitup</a><br/> View project at: <a href='https://wandb.ai/MasterarbeitBV/XGBoost_Hyperparameter_Tuning' target=\"_blank\">https://wandb.ai/MasterarbeitBV/XGBoost_Hyperparameter_Tuning</a><br/>Synced 5 W&B file(s), 0 media file(s), 0 artifact file(s) and 0 other file(s)"
      ],
      "text/plain": [
       "<IPython.core.display.HTML object>"
      ]
     },
     "metadata": {},
     "output_type": "display_data"
    },
    {
     "data": {
      "text/html": [
       "Find logs at: <code>.\\wandb\\run-20241201_154700-3deyitup\\logs</code>"
      ],
      "text/plain": [
       "<IPython.core.display.HTML object>"
      ]
     },
     "metadata": {},
     "output_type": "display_data"
    },
    {
     "name": "stderr",
     "output_type": "stream",
     "text": [
      "\u001b[34m\u001b[1mwandb\u001b[0m: Agent Starting Run: wb1q960o with config:\n",
      "\u001b[34m\u001b[1mwandb\u001b[0m: \tBalancing: True\n",
      "\u001b[34m\u001b[1mwandb\u001b[0m: \tfeatures: ['x', 'y']\n",
      "\u001b[34m\u001b[1mwandb\u001b[0m: \tn_features_per_kernel: 2\n",
      "\u001b[34m\u001b[1mwandb\u001b[0m: \tnum_kernels: 2000\n",
      "\u001b[34m\u001b[1mwandb\u001b[0m: \trocket_transform: rocket\n",
      "\u001b[34m\u001b[1mwandb\u001b[0m: \tscaling: False\n",
      "\u001b[34m\u001b[1mwandb\u001b[0m: \twindow_size: 11\n"
     ]
    },
    {
     "data": {
      "text/html": [
       "Tracking run with wandb version 0.18.6"
      ],
      "text/plain": [
       "<IPython.core.display.HTML object>"
      ]
     },
     "metadata": {},
     "output_type": "display_data"
    },
    {
     "data": {
      "text/html": [
       "Run data is saved locally in <code>c:\\Users\\benev\\Documents\\Uni_Master\\Masterarbeit\\CODE\\8_tennis_analytics\\wandb\\run-20241201_154920-wb1q960o</code>"
      ],
      "text/plain": [
       "<IPython.core.display.HTML object>"
      ]
     },
     "metadata": {},
     "output_type": "display_data"
    },
    {
     "data": {
      "text/html": [
       "Syncing run <strong><a href='https://wandb.ai/MasterarbeitBV/XGBoost_Hyperparameter_Tuning/runs/wb1q960o' target=\"_blank\">snowy-sweep-97</a></strong> to <a href='https://wandb.ai/MasterarbeitBV/XGBoost_Hyperparameter_Tuning' target=\"_blank\">Weights & Biases</a> (<a href='https://wandb.me/developer-guide' target=\"_blank\">docs</a>)<br/>Sweep page: <a href='https://wandb.ai/MasterarbeitBV/XGBoost_Hyperparameter_Tuning/sweeps/oros33fx' target=\"_blank\">https://wandb.ai/MasterarbeitBV/XGBoost_Hyperparameter_Tuning/sweeps/oros33fx</a>"
      ],
      "text/plain": [
       "<IPython.core.display.HTML object>"
      ]
     },
     "metadata": {},
     "output_type": "display_data"
    },
    {
     "data": {
      "text/html": [
       " View project at <a href='https://wandb.ai/MasterarbeitBV/XGBoost_Hyperparameter_Tuning' target=\"_blank\">https://wandb.ai/MasterarbeitBV/XGBoost_Hyperparameter_Tuning</a>"
      ],
      "text/plain": [
       "<IPython.core.display.HTML object>"
      ]
     },
     "metadata": {},
     "output_type": "display_data"
    },
    {
     "data": {
      "text/html": [
       " View sweep at <a href='https://wandb.ai/MasterarbeitBV/XGBoost_Hyperparameter_Tuning/sweeps/oros33fx' target=\"_blank\">https://wandb.ai/MasterarbeitBV/XGBoost_Hyperparameter_Tuning/sweeps/oros33fx</a>"
      ],
      "text/plain": [
       "<IPython.core.display.HTML object>"
      ]
     },
     "metadata": {},
     "output_type": "display_data"
    },
    {
     "data": {
      "text/html": [
       " View run at <a href='https://wandb.ai/MasterarbeitBV/XGBoost_Hyperparameter_Tuning/runs/wb1q960o' target=\"_blank\">https://wandb.ai/MasterarbeitBV/XGBoost_Hyperparameter_Tuning/runs/wb1q960o</a>"
      ],
      "text/plain": [
       "<IPython.core.display.HTML object>"
      ]
     },
     "metadata": {},
     "output_type": "display_data"
    },
    {
     "data": {
      "text/html": [
       "\n",
       "    <style>\n",
       "        .wandb-row {\n",
       "            display: flex;\n",
       "            flex-direction: row;\n",
       "            flex-wrap: wrap;\n",
       "            justify-content: flex-start;\n",
       "            width: 100%;\n",
       "        }\n",
       "        .wandb-col {\n",
       "            display: flex;\n",
       "            flex-direction: column;\n",
       "            flex-basis: 100%;\n",
       "            flex: 1;\n",
       "            padding: 10px;\n",
       "        }\n",
       "    </style>\n",
       "<div class=\"wandb-row\"><div class=\"wandb-col\"><h3>Run history:</h3><br/><table class=\"wandb\"><tr><td>accuracy</td><td>▁</td></tr><tr><td>f1-score</td><td>▁</td></tr></table><br/></div><div class=\"wandb-col\"><h3>Run summary:</h3><br/><table class=\"wandb\"><tr><td>accuracy</td><td>0.93777</td></tr><tr><td>f1-score</td><td>0.70348</td></tr></table><br/></div></div>"
      ],
      "text/plain": [
       "<IPython.core.display.HTML object>"
      ]
     },
     "metadata": {},
     "output_type": "display_data"
    },
    {
     "data": {
      "text/html": [
       " View run <strong style=\"color:#cdcd00\">snowy-sweep-97</strong> at: <a href='https://wandb.ai/MasterarbeitBV/XGBoost_Hyperparameter_Tuning/runs/wb1q960o' target=\"_blank\">https://wandb.ai/MasterarbeitBV/XGBoost_Hyperparameter_Tuning/runs/wb1q960o</a><br/> View project at: <a href='https://wandb.ai/MasterarbeitBV/XGBoost_Hyperparameter_Tuning' target=\"_blank\">https://wandb.ai/MasterarbeitBV/XGBoost_Hyperparameter_Tuning</a><br/>Synced 5 W&B file(s), 0 media file(s), 0 artifact file(s) and 0 other file(s)"
      ],
      "text/plain": [
       "<IPython.core.display.HTML object>"
      ]
     },
     "metadata": {},
     "output_type": "display_data"
    },
    {
     "data": {
      "text/html": [
       "Find logs at: <code>.\\wandb\\run-20241201_154920-wb1q960o\\logs</code>"
      ],
      "text/plain": [
       "<IPython.core.display.HTML object>"
      ]
     },
     "metadata": {},
     "output_type": "display_data"
    },
    {
     "name": "stderr",
     "output_type": "stream",
     "text": [
      "\u001b[34m\u001b[1mwandb\u001b[0m: Agent Starting Run: 2wj56pus with config:\n",
      "\u001b[34m\u001b[1mwandb\u001b[0m: \tBalancing: True\n",
      "\u001b[34m\u001b[1mwandb\u001b[0m: \tfeatures: ['x', 'y']\n",
      "\u001b[34m\u001b[1mwandb\u001b[0m: \tn_features_per_kernel: 2\n",
      "\u001b[34m\u001b[1mwandb\u001b[0m: \tnum_kernels: 2000\n",
      "\u001b[34m\u001b[1mwandb\u001b[0m: \trocket_transform: rocket\n",
      "\u001b[34m\u001b[1mwandb\u001b[0m: \tscaling: True\n",
      "\u001b[34m\u001b[1mwandb\u001b[0m: \twindow_size: 11\n"
     ]
    },
    {
     "data": {
      "text/html": [
       "Tracking run with wandb version 0.18.6"
      ],
      "text/plain": [
       "<IPython.core.display.HTML object>"
      ]
     },
     "metadata": {},
     "output_type": "display_data"
    },
    {
     "data": {
      "text/html": [
       "Run data is saved locally in <code>c:\\Users\\benev\\Documents\\Uni_Master\\Masterarbeit\\CODE\\8_tennis_analytics\\wandb\\run-20241201_155136-2wj56pus</code>"
      ],
      "text/plain": [
       "<IPython.core.display.HTML object>"
      ]
     },
     "metadata": {},
     "output_type": "display_data"
    },
    {
     "data": {
      "text/html": [
       "Syncing run <strong><a href='https://wandb.ai/MasterarbeitBV/XGBoost_Hyperparameter_Tuning/runs/2wj56pus' target=\"_blank\">vibrant-sweep-98</a></strong> to <a href='https://wandb.ai/MasterarbeitBV/XGBoost_Hyperparameter_Tuning' target=\"_blank\">Weights & Biases</a> (<a href='https://wandb.me/developer-guide' target=\"_blank\">docs</a>)<br/>Sweep page: <a href='https://wandb.ai/MasterarbeitBV/XGBoost_Hyperparameter_Tuning/sweeps/oros33fx' target=\"_blank\">https://wandb.ai/MasterarbeitBV/XGBoost_Hyperparameter_Tuning/sweeps/oros33fx</a>"
      ],
      "text/plain": [
       "<IPython.core.display.HTML object>"
      ]
     },
     "metadata": {},
     "output_type": "display_data"
    },
    {
     "data": {
      "text/html": [
       " View project at <a href='https://wandb.ai/MasterarbeitBV/XGBoost_Hyperparameter_Tuning' target=\"_blank\">https://wandb.ai/MasterarbeitBV/XGBoost_Hyperparameter_Tuning</a>"
      ],
      "text/plain": [
       "<IPython.core.display.HTML object>"
      ]
     },
     "metadata": {},
     "output_type": "display_data"
    },
    {
     "data": {
      "text/html": [
       " View sweep at <a href='https://wandb.ai/MasterarbeitBV/XGBoost_Hyperparameter_Tuning/sweeps/oros33fx' target=\"_blank\">https://wandb.ai/MasterarbeitBV/XGBoost_Hyperparameter_Tuning/sweeps/oros33fx</a>"
      ],
      "text/plain": [
       "<IPython.core.display.HTML object>"
      ]
     },
     "metadata": {},
     "output_type": "display_data"
    },
    {
     "data": {
      "text/html": [
       " View run at <a href='https://wandb.ai/MasterarbeitBV/XGBoost_Hyperparameter_Tuning/runs/2wj56pus' target=\"_blank\">https://wandb.ai/MasterarbeitBV/XGBoost_Hyperparameter_Tuning/runs/2wj56pus</a>"
      ],
      "text/plain": [
       "<IPython.core.display.HTML object>"
      ]
     },
     "metadata": {},
     "output_type": "display_data"
    },
    {
     "data": {
      "text/html": [
       "\n",
       "    <style>\n",
       "        .wandb-row {\n",
       "            display: flex;\n",
       "            flex-direction: row;\n",
       "            flex-wrap: wrap;\n",
       "            justify-content: flex-start;\n",
       "            width: 100%;\n",
       "        }\n",
       "        .wandb-col {\n",
       "            display: flex;\n",
       "            flex-direction: column;\n",
       "            flex-basis: 100%;\n",
       "            flex: 1;\n",
       "            padding: 10px;\n",
       "        }\n",
       "    </style>\n",
       "<div class=\"wandb-row\"><div class=\"wandb-col\"><h3>Run history:</h3><br/><table class=\"wandb\"><tr><td>accuracy</td><td>▁</td></tr><tr><td>f1-score</td><td>▁</td></tr></table><br/></div><div class=\"wandb-col\"><h3>Run summary:</h3><br/><table class=\"wandb\"><tr><td>accuracy</td><td>0.93914</td></tr><tr><td>f1-score</td><td>0.70994</td></tr></table><br/></div></div>"
      ],
      "text/plain": [
       "<IPython.core.display.HTML object>"
      ]
     },
     "metadata": {},
     "output_type": "display_data"
    },
    {
     "data": {
      "text/html": [
       " View run <strong style=\"color:#cdcd00\">vibrant-sweep-98</strong> at: <a href='https://wandb.ai/MasterarbeitBV/XGBoost_Hyperparameter_Tuning/runs/2wj56pus' target=\"_blank\">https://wandb.ai/MasterarbeitBV/XGBoost_Hyperparameter_Tuning/runs/2wj56pus</a><br/> View project at: <a href='https://wandb.ai/MasterarbeitBV/XGBoost_Hyperparameter_Tuning' target=\"_blank\">https://wandb.ai/MasterarbeitBV/XGBoost_Hyperparameter_Tuning</a><br/>Synced 5 W&B file(s), 0 media file(s), 0 artifact file(s) and 0 other file(s)"
      ],
      "text/plain": [
       "<IPython.core.display.HTML object>"
      ]
     },
     "metadata": {},
     "output_type": "display_data"
    },
    {
     "data": {
      "text/html": [
       "Find logs at: <code>.\\wandb\\run-20241201_155136-2wj56pus\\logs</code>"
      ],
      "text/plain": [
       "<IPython.core.display.HTML object>"
      ]
     },
     "metadata": {},
     "output_type": "display_data"
    },
    {
     "name": "stderr",
     "output_type": "stream",
     "text": [
      "\u001b[34m\u001b[1mwandb\u001b[0m: Sweep Agent: Waiting for job.\n",
      "\u001b[34m\u001b[1mwandb\u001b[0m: Job received.\n",
      "\u001b[34m\u001b[1mwandb\u001b[0m: Agent Starting Run: y013iwm5 with config:\n",
      "\u001b[34m\u001b[1mwandb\u001b[0m: \tBalancing: False\n",
      "\u001b[34m\u001b[1mwandb\u001b[0m: \tfeatures: ['x', 'y']\n",
      "\u001b[34m\u001b[1mwandb\u001b[0m: \tn_features_per_kernel: 4\n",
      "\u001b[34m\u001b[1mwandb\u001b[0m: \tnum_kernels: 2000\n",
      "\u001b[34m\u001b[1mwandb\u001b[0m: \trocket_transform: rocket\n",
      "\u001b[34m\u001b[1mwandb\u001b[0m: \tscaling: False\n",
      "\u001b[34m\u001b[1mwandb\u001b[0m: \twindow_size: 11\n"
     ]
    },
    {
     "data": {
      "text/html": [
       "Tracking run with wandb version 0.18.6"
      ],
      "text/plain": [
       "<IPython.core.display.HTML object>"
      ]
     },
     "metadata": {},
     "output_type": "display_data"
    },
    {
     "data": {
      "text/html": [
       "Run data is saved locally in <code>c:\\Users\\benev\\Documents\\Uni_Master\\Masterarbeit\\CODE\\8_tennis_analytics\\wandb\\run-20241201_155357-y013iwm5</code>"
      ],
      "text/plain": [
       "<IPython.core.display.HTML object>"
      ]
     },
     "metadata": {},
     "output_type": "display_data"
    },
    {
     "data": {
      "text/html": [
       "Syncing run <strong><a href='https://wandb.ai/MasterarbeitBV/XGBoost_Hyperparameter_Tuning/runs/y013iwm5' target=\"_blank\">dutiful-sweep-99</a></strong> to <a href='https://wandb.ai/MasterarbeitBV/XGBoost_Hyperparameter_Tuning' target=\"_blank\">Weights & Biases</a> (<a href='https://wandb.me/developer-guide' target=\"_blank\">docs</a>)<br/>Sweep page: <a href='https://wandb.ai/MasterarbeitBV/XGBoost_Hyperparameter_Tuning/sweeps/oros33fx' target=\"_blank\">https://wandb.ai/MasterarbeitBV/XGBoost_Hyperparameter_Tuning/sweeps/oros33fx</a>"
      ],
      "text/plain": [
       "<IPython.core.display.HTML object>"
      ]
     },
     "metadata": {},
     "output_type": "display_data"
    },
    {
     "data": {
      "text/html": [
       " View project at <a href='https://wandb.ai/MasterarbeitBV/XGBoost_Hyperparameter_Tuning' target=\"_blank\">https://wandb.ai/MasterarbeitBV/XGBoost_Hyperparameter_Tuning</a>"
      ],
      "text/plain": [
       "<IPython.core.display.HTML object>"
      ]
     },
     "metadata": {},
     "output_type": "display_data"
    },
    {
     "data": {
      "text/html": [
       " View sweep at <a href='https://wandb.ai/MasterarbeitBV/XGBoost_Hyperparameter_Tuning/sweeps/oros33fx' target=\"_blank\">https://wandb.ai/MasterarbeitBV/XGBoost_Hyperparameter_Tuning/sweeps/oros33fx</a>"
      ],
      "text/plain": [
       "<IPython.core.display.HTML object>"
      ]
     },
     "metadata": {},
     "output_type": "display_data"
    },
    {
     "data": {
      "text/html": [
       " View run at <a href='https://wandb.ai/MasterarbeitBV/XGBoost_Hyperparameter_Tuning/runs/y013iwm5' target=\"_blank\">https://wandb.ai/MasterarbeitBV/XGBoost_Hyperparameter_Tuning/runs/y013iwm5</a>"
      ],
      "text/plain": [
       "<IPython.core.display.HTML object>"
      ]
     },
     "metadata": {},
     "output_type": "display_data"
    },
    {
     "data": {
      "text/html": [
       "\n",
       "    <style>\n",
       "        .wandb-row {\n",
       "            display: flex;\n",
       "            flex-direction: row;\n",
       "            flex-wrap: wrap;\n",
       "            justify-content: flex-start;\n",
       "            width: 100%;\n",
       "        }\n",
       "        .wandb-col {\n",
       "            display: flex;\n",
       "            flex-direction: column;\n",
       "            flex-basis: 100%;\n",
       "            flex: 1;\n",
       "            padding: 10px;\n",
       "        }\n",
       "    </style>\n",
       "<div class=\"wandb-row\"><div class=\"wandb-col\"><h3>Run history:</h3><br/><table class=\"wandb\"><tr><td>accuracy</td><td>▁</td></tr><tr><td>f1-score</td><td>▁</td></tr></table><br/></div><div class=\"wandb-col\"><h3>Run summary:</h3><br/><table class=\"wandb\"><tr><td>accuracy</td><td>0.9682</td></tr><tr><td>f1-score</td><td>0.72409</td></tr></table><br/></div></div>"
      ],
      "text/plain": [
       "<IPython.core.display.HTML object>"
      ]
     },
     "metadata": {},
     "output_type": "display_data"
    },
    {
     "data": {
      "text/html": [
       " View run <strong style=\"color:#cdcd00\">dutiful-sweep-99</strong> at: <a href='https://wandb.ai/MasterarbeitBV/XGBoost_Hyperparameter_Tuning/runs/y013iwm5' target=\"_blank\">https://wandb.ai/MasterarbeitBV/XGBoost_Hyperparameter_Tuning/runs/y013iwm5</a><br/> View project at: <a href='https://wandb.ai/MasterarbeitBV/XGBoost_Hyperparameter_Tuning' target=\"_blank\">https://wandb.ai/MasterarbeitBV/XGBoost_Hyperparameter_Tuning</a><br/>Synced 5 W&B file(s), 0 media file(s), 0 artifact file(s) and 0 other file(s)"
      ],
      "text/plain": [
       "<IPython.core.display.HTML object>"
      ]
     },
     "metadata": {},
     "output_type": "display_data"
    },
    {
     "data": {
      "text/html": [
       "Find logs at: <code>.\\wandb\\run-20241201_155357-y013iwm5\\logs</code>"
      ],
      "text/plain": [
       "<IPython.core.display.HTML object>"
      ]
     },
     "metadata": {},
     "output_type": "display_data"
    },
    {
     "name": "stderr",
     "output_type": "stream",
     "text": [
      "\u001b[34m\u001b[1mwandb\u001b[0m: Agent Starting Run: mut04wls with config:\n",
      "\u001b[34m\u001b[1mwandb\u001b[0m: \tBalancing: False\n",
      "\u001b[34m\u001b[1mwandb\u001b[0m: \tfeatures: ['x', 'y']\n",
      "\u001b[34m\u001b[1mwandb\u001b[0m: \tn_features_per_kernel: 4\n",
      "\u001b[34m\u001b[1mwandb\u001b[0m: \tnum_kernels: 2000\n",
      "\u001b[34m\u001b[1mwandb\u001b[0m: \trocket_transform: rocket\n",
      "\u001b[34m\u001b[1mwandb\u001b[0m: \tscaling: True\n",
      "\u001b[34m\u001b[1mwandb\u001b[0m: \twindow_size: 11\n"
     ]
    },
    {
     "data": {
      "text/html": [
       "Tracking run with wandb version 0.18.6"
      ],
      "text/plain": [
       "<IPython.core.display.HTML object>"
      ]
     },
     "metadata": {},
     "output_type": "display_data"
    },
    {
     "data": {
      "text/html": [
       "Run data is saved locally in <code>c:\\Users\\benev\\Documents\\Uni_Master\\Masterarbeit\\CODE\\8_tennis_analytics\\wandb\\run-20241201_155502-mut04wls</code>"
      ],
      "text/plain": [
       "<IPython.core.display.HTML object>"
      ]
     },
     "metadata": {},
     "output_type": "display_data"
    },
    {
     "data": {
      "text/html": [
       "Syncing run <strong><a href='https://wandb.ai/MasterarbeitBV/XGBoost_Hyperparameter_Tuning/runs/mut04wls' target=\"_blank\">driven-sweep-100</a></strong> to <a href='https://wandb.ai/MasterarbeitBV/XGBoost_Hyperparameter_Tuning' target=\"_blank\">Weights & Biases</a> (<a href='https://wandb.me/developer-guide' target=\"_blank\">docs</a>)<br/>Sweep page: <a href='https://wandb.ai/MasterarbeitBV/XGBoost_Hyperparameter_Tuning/sweeps/oros33fx' target=\"_blank\">https://wandb.ai/MasterarbeitBV/XGBoost_Hyperparameter_Tuning/sweeps/oros33fx</a>"
      ],
      "text/plain": [
       "<IPython.core.display.HTML object>"
      ]
     },
     "metadata": {},
     "output_type": "display_data"
    },
    {
     "data": {
      "text/html": [
       " View project at <a href='https://wandb.ai/MasterarbeitBV/XGBoost_Hyperparameter_Tuning' target=\"_blank\">https://wandb.ai/MasterarbeitBV/XGBoost_Hyperparameter_Tuning</a>"
      ],
      "text/plain": [
       "<IPython.core.display.HTML object>"
      ]
     },
     "metadata": {},
     "output_type": "display_data"
    },
    {
     "data": {
      "text/html": [
       " View sweep at <a href='https://wandb.ai/MasterarbeitBV/XGBoost_Hyperparameter_Tuning/sweeps/oros33fx' target=\"_blank\">https://wandb.ai/MasterarbeitBV/XGBoost_Hyperparameter_Tuning/sweeps/oros33fx</a>"
      ],
      "text/plain": [
       "<IPython.core.display.HTML object>"
      ]
     },
     "metadata": {},
     "output_type": "display_data"
    },
    {
     "data": {
      "text/html": [
       " View run at <a href='https://wandb.ai/MasterarbeitBV/XGBoost_Hyperparameter_Tuning/runs/mut04wls' target=\"_blank\">https://wandb.ai/MasterarbeitBV/XGBoost_Hyperparameter_Tuning/runs/mut04wls</a>"
      ],
      "text/plain": [
       "<IPython.core.display.HTML object>"
      ]
     },
     "metadata": {},
     "output_type": "display_data"
    },
    {
     "data": {
      "text/html": [
       "\n",
       "    <style>\n",
       "        .wandb-row {\n",
       "            display: flex;\n",
       "            flex-direction: row;\n",
       "            flex-wrap: wrap;\n",
       "            justify-content: flex-start;\n",
       "            width: 100%;\n",
       "        }\n",
       "        .wandb-col {\n",
       "            display: flex;\n",
       "            flex-direction: column;\n",
       "            flex-basis: 100%;\n",
       "            flex: 1;\n",
       "            padding: 10px;\n",
       "        }\n",
       "    </style>\n",
       "<div class=\"wandb-row\"><div class=\"wandb-col\"><h3>Run history:</h3><br/><table class=\"wandb\"><tr><td>accuracy</td><td>▁</td></tr><tr><td>f1-score</td><td>▁</td></tr></table><br/></div><div class=\"wandb-col\"><h3>Run summary:</h3><br/><table class=\"wandb\"><tr><td>accuracy</td><td>0.96875</td></tr><tr><td>f1-score</td><td>0.72909</td></tr></table><br/></div></div>"
      ],
      "text/plain": [
       "<IPython.core.display.HTML object>"
      ]
     },
     "metadata": {},
     "output_type": "display_data"
    },
    {
     "data": {
      "text/html": [
       " View run <strong style=\"color:#cdcd00\">driven-sweep-100</strong> at: <a href='https://wandb.ai/MasterarbeitBV/XGBoost_Hyperparameter_Tuning/runs/mut04wls' target=\"_blank\">https://wandb.ai/MasterarbeitBV/XGBoost_Hyperparameter_Tuning/runs/mut04wls</a><br/> View project at: <a href='https://wandb.ai/MasterarbeitBV/XGBoost_Hyperparameter_Tuning' target=\"_blank\">https://wandb.ai/MasterarbeitBV/XGBoost_Hyperparameter_Tuning</a><br/>Synced 5 W&B file(s), 0 media file(s), 0 artifact file(s) and 0 other file(s)"
      ],
      "text/plain": [
       "<IPython.core.display.HTML object>"
      ]
     },
     "metadata": {},
     "output_type": "display_data"
    },
    {
     "data": {
      "text/html": [
       "Find logs at: <code>.\\wandb\\run-20241201_155502-mut04wls\\logs</code>"
      ],
      "text/plain": [
       "<IPython.core.display.HTML object>"
      ]
     },
     "metadata": {},
     "output_type": "display_data"
    }
   ],
   "source": [
    "sweep_config = {\n",
    "    \"method\": \"bayes\", \n",
    "    \"metric\": {\n",
    "        \"name\": \"f1-score\",\n",
    "        \"goal\": \"maximize\"  \n",
    "    },\n",
    "    \"parameters\": {\n",
    "        \"num_kernels\": {\n",
    "            \"values\": [500, 1000, 2000]  \n",
    "        },\n",
    "        \"n_features_per_kernel\": {\n",
    "            \"values\": [2, 4] \n",
    "        },\n",
    "        \"rocket_transform\": {\n",
    "            \"values\": [\"rocket\"]  \n",
    "        },\n",
    "        \"scaling\": {\n",
    "            \"values\": [True, False]  # Whether to normalize data\n",
    "        },\n",
    "        \"Balancing\": {\n",
    "            \"values\": [True, False]  # Balancing strategies\n",
    "        },\n",
    "        \"window_size\": {\n",
    "            \"values\": [7, 11, 21]  # Different window sizes for the time-series data\n",
    "        },\n",
    "        \"features\": {\n",
    "            \"values\": [['x', 'y'], ['x', 'y', 'velocity'], ['x', 'y', 'velocity', 'direction']]\n",
    "        }\n",
    "    }\n",
    "}\n",
    "\n",
    "def sweep_train_ROCKET(config=None):\n",
    "    with wandb.init(config=config):\n",
    "        # Access the sweep parameters\n",
    "        config = wandb.config\n",
    "        \n",
    "        # Train the model\n",
    "        report, report_printable, model, cm = train_ROCKET(\n",
    "            df_train,\n",
    "            df_val,\n",
    "            config={\n",
    "                \"num_kernels\": config.num_kernels,\n",
    "                \"n_features_per_kernel\": config.n_features_per_kernel,\n",
    "                \"rocket_transform\": config.rocket_transform,\n",
    "                \"window_size\": config.window_size,\n",
    "                \"scaling\": config.scaling,\n",
    "                \"Balancing\": config.Balancing,\n",
    "                \"features\": config.features\n",
    "            }\n",
    "        )\n",
    "        \n",
    "        # log the classification report\n",
    "        wandb.log(report)\n",
    "        wandb.log({'f1-score': report['macro avg']['f1-score']})\n",
    "  "
   ]
  },
  {
   "cell_type": "markdown",
   "metadata": {},
   "source": [
    "## Test Results\n",
    "\n",
    "Generate test results for both models"
   ]
  },
  {
   "cell_type": "code",
   "execution_count": 67,
   "metadata": {},
   "outputs": [
    {
     "name": "stdout",
     "output_type": "stream",
     "text": [
      "(49572, 76)\n",
      "(49572,)\n",
      "Classification Report on Test Set:\n",
      "              precision    recall  f1-score   support\n",
      "\n",
      "           0       0.98      0.98      0.98      3311\n",
      "           1       0.54      0.47      0.51        78\n",
      "           2       0.70      0.72      0.71        95\n",
      "\n",
      "    accuracy                           0.96      3484\n",
      "   macro avg       0.74      0.72      0.73      3484\n",
      "weighted avg       0.96      0.96      0.96      3484\n",
      "\n"
     ]
    }
   ],
   "source": [
    "# XGBOOST\n",
    "\n",
    "# Train the model\n",
    "parameters = {\n",
    "    \"n_estimators\": 200,\n",
    "    \"learning_rate\": 0.1849,\n",
    "    \"max_depth\": 15,\n",
    "    \"subsample\": 1,\n",
    "    \"window_size\": 10,\n",
    "    \"scaling\": True,\n",
    "    \"Balancing\": \"SMOTE\",\n",
    "    \"features\": ['x', 'y', 'velocity', 'direction']\n",
    "}\n",
    "\n",
    "report_xgboost, report_printable_xgboost, model_xgboost, cm_xgboost= train_XGBoost(df_train, df_test, parameters)\n",
    "# Print the classification report\n",
    "print(\"Classification Report on Test Set:\")\n",
    "print(report_printable_xgboost)"
   ]
  },
  {
   "cell_type": "code",
   "execution_count": null,
   "metadata": {},
   "outputs": [
    {
     "name": "stdout",
     "output_type": "stream",
     "text": [
      "Classification Report on Test Set:\n",
      "              precision    recall  f1-score   support\n",
      "\n",
      "      Bounce       0.73      0.66      0.69        89\n",
      "      Flying       0.98      0.99      0.98      3383\n",
      "         Hit       0.64      0.27      0.38        85\n",
      "\n",
      "    accuracy                           0.97      3557\n",
      "   macro avg       0.78      0.64      0.69      3557\n",
      "weighted avg       0.96      0.97      0.96      3557\n",
      "\n"
     ]
    }
   ],
   "source": [
    "# results multirocket\n",
    "\n",
    "# Train the model\n",
    "parameters = {\n",
    "    \"num_kernels\": 1500,\n",
    "    \"n_features_per_kernel\": 4,\n",
    "    \"rocket_transform\": \"multirocket\",\n",
    "    \"window_size\": 11,\n",
    "    \"scaling\": True,\n",
    "    \"Balancing\": False,\n",
    "    \"features\": ['x', 'y']\n",
    "}\n",
    "\n",
    "report_multirocket, report_printable_multirocket, model_multirocket, cm_multi = train_ROCKET(df_train, df_test, parameters)\n",
    "print(\"Classification Report on Test Set:\")\n",
    "print(report_printable_multirocket)"
   ]
  },
  {
   "cell_type": "code",
   "execution_count": 68,
   "metadata": {},
   "outputs": [
    {
     "name": "stdout",
     "output_type": "stream",
     "text": [
      "Classification Report on Test Set:\n",
      "              precision    recall  f1-score   support\n",
      "\n",
      "      Bounce       0.81      0.73      0.77        89\n",
      "      Flying       0.98      0.99      0.99      3383\n",
      "         Hit       0.68      0.27      0.39        85\n",
      "\n",
      "    accuracy                           0.97      3557\n",
      "   macro avg       0.82      0.66      0.71      3557\n",
      "weighted avg       0.97      0.97      0.97      3557\n",
      "\n"
     ]
    }
   ],
   "source": [
    "# results rocket\n",
    "\n",
    "# Train the model\n",
    "parameters = {\n",
    "    \"num_kernels\": 2000,\n",
    "    \"n_features_per_kernel\": 2,\n",
    "    \"rocket_transform\": \"rocket\",\n",
    "    \"window_size\": 11,\n",
    "    \"scaling\": True,\n",
    "    \"Balancing\": False,\n",
    "    \"features\": ['x', 'y']\n",
    "}\n",
    "\n",
    "report_rocket, report_printable_rocket, model_rocket, cm_rocket = train_ROCKET(df_train, df_test, parameters)\n",
    "print(\"Classification Report on Test Set:\")\n",
    "print(report_printable_rocket)"
   ]
  },
  {
   "cell_type": "code",
   "execution_count": 23,
   "metadata": {},
   "outputs": [
    {
     "data": {
      "text/plain": [
       "['BounceHit_best_rocket.pkl']"
      ]
     },
     "execution_count": 23,
     "metadata": {},
     "output_type": "execute_result"
    }
   ],
   "source": [
    "# save the models\n",
    "import joblib\n",
    "\n",
    "joblib.dump(model_xgboost, 'BounceHit_best_xgboost.pkl')\n",
    "joblib.dump(model_multirocket, 'BounceHit_best_multirocket.pkl')\n",
    "joblib.dump(model_rocket, 'BounceHit_best_rocket.pkl')"
   ]
  },
  {
   "cell_type": "code",
   "execution_count": 34,
   "metadata": {},
   "outputs": [
    {
     "name": "stdout",
     "output_type": "stream",
     "text": [
      "{'Flying': {'precision': 0.9813196746007834, 'recall': 0.9836907278767744, 'f1-score': 0.9825037707390648, 'support': 3311.0}, 'Hit': {'precision': 0.5441176470588235, 'recall': 0.47435897435897434, 'f1-score': 0.5068493150684932, 'support': 78.0}, 'Bounce': {'precision': 0.7010309278350515, 'recall': 0.7157894736842105, 'f1-score': 0.7083333333333334, 'support': 95.0}, 'accuracy': 0.9649827784156142, 'macro avg': {'precision': 0.7421560831648861, 'recall': 0.7246130586399864, 'f1-score': 0.7325621397136305, 'support': 3484.0}, 'weighted avg': {'precision': 0.9638887936906176, 'recall': 0.9649827784156142, 'f1-score': 0.9643788456254456, 'support': 3484.0}, 'model': 'XGBoost'}\n",
      "{'Bounce': {'precision': 0.7283950617283951, 'recall': 0.6629213483146067, 'f1-score': 0.6941176470588235, 'support': 89.0}, 'Flying': {'precision': 0.9761627906976744, 'recall': 0.9926101093703813, 'f1-score': 0.9843177487908544, 'support': 3383.0}, 'Hit': {'precision': 0.6388888888888888, 'recall': 0.27058823529411763, 'f1-score': 0.38016528925619836, 'support': 85.0}, 'accuracy': 0.9671071127354512, 'macro avg': {'precision': 0.7811489137716529, 'recall': 0.6420398976597018, 'f1-score': 0.6862002283686254, 'support': 3557.0}, 'weighted avg': {'precision': 0.9619036932751239, 'recall': 0.9671071127354512, 'f1-score': 0.962619472683293, 'support': 3557.0}, 'model': 'MultiRocket'}\n",
      "{'Bounce': {'precision': 0.8125, 'recall': 0.7303370786516854, 'f1-score': 0.7692307692307693, 'support': 89.0}, 'Flying': {'precision': 0.9764740052279989, 'recall': 0.9937924918711203, 'f1-score': 0.9850571344857896, 'support': 3383.0}, 'Hit': {'precision': 0.6764705882352942, 'recall': 0.27058823529411763, 'f1-score': 0.3865546218487395, 'support': 85.0}, 'accuracy': 0.9699184706213101, 'macro avg': {'precision': 0.8218148644877644, 'recall': 0.6649059352723078, 'f1-score': 0.7136141751884328, 'support': 3557.0}, 'weighted avg': {'precision': 0.9652021534119539, 'recall': 0.9699184706213101, 'f1-score': 0.9653547841675871, 'support': 3557.0}, 'model': 'Rocket'}\n"
     ]
    }
   ],
   "source": [
    "# combine reports into a dataframe\n",
    "report_xgboost['model'] = 'XGBoost'\n",
    "report_multirocket['model'] = 'MultiRocket'\n",
    "report_rocket['model'] = 'Rocket'\n",
    "\n",
    "# convert labels back for xgboost\n",
    "dict_trajectory = {\"0\":\"Flying\", \"1\":\"Hit\", \"2\":\"Bounce\"}\n",
    "\n",
    "# replace keys\n",
    "new = {}\n",
    "for key, value in report_xgboost.items():\n",
    "    if key in dict_trajectory:\n",
    "        new[dict_trajectory[key]] = value\n",
    "    else:\n",
    "        new[key] = value\n",
    "\n",
    "report_xgboost = new\n",
    "\n",
    "#print reports\n",
    "print(report_xgboost)\n",
    "print(report_multirocket)\n",
    "print(report_rocket)"
   ]
  },
  {
   "cell_type": "code",
   "execution_count": 45,
   "metadata": {},
   "outputs": [
    {
     "data": {
      "text/html": [
       "<div>\n",
       "<style scoped>\n",
       "    .dataframe tbody tr th:only-of-type {\n",
       "        vertical-align: middle;\n",
       "    }\n",
       "\n",
       "    .dataframe tbody tr th {\n",
       "        vertical-align: top;\n",
       "    }\n",
       "\n",
       "    .dataframe thead th {\n",
       "        text-align: right;\n",
       "    }\n",
       "</style>\n",
       "<table border=\"1\" class=\"dataframe\">\n",
       "  <thead>\n",
       "    <tr style=\"text-align: right;\">\n",
       "      <th></th>\n",
       "      <th>model</th>\n",
       "      <th>class</th>\n",
       "      <th>precision</th>\n",
       "      <th>recall</th>\n",
       "      <th>f1</th>\n",
       "      <th>support</th>\n",
       "    </tr>\n",
       "  </thead>\n",
       "  <tbody>\n",
       "    <tr>\n",
       "      <th>0</th>\n",
       "      <td>Rocket</td>\n",
       "      <td>Bounce</td>\n",
       "      <td>0.812500</td>\n",
       "      <td>0.730337</td>\n",
       "      <td>0.769231</td>\n",
       "      <td>89.0</td>\n",
       "    </tr>\n",
       "    <tr>\n",
       "      <th>1</th>\n",
       "      <td>XGBoost</td>\n",
       "      <td>Bounce</td>\n",
       "      <td>0.701031</td>\n",
       "      <td>0.715789</td>\n",
       "      <td>0.708333</td>\n",
       "      <td>95.0</td>\n",
       "    </tr>\n",
       "    <tr>\n",
       "      <th>2</th>\n",
       "      <td>Rocket</td>\n",
       "      <td>Flying</td>\n",
       "      <td>0.976474</td>\n",
       "      <td>0.993792</td>\n",
       "      <td>0.985057</td>\n",
       "      <td>3383.0</td>\n",
       "    </tr>\n",
       "    <tr>\n",
       "      <th>3</th>\n",
       "      <td>XGBoost</td>\n",
       "      <td>Flying</td>\n",
       "      <td>0.981320</td>\n",
       "      <td>0.983691</td>\n",
       "      <td>0.982504</td>\n",
       "      <td>3311.0</td>\n",
       "    </tr>\n",
       "    <tr>\n",
       "      <th>4</th>\n",
       "      <td>Rocket</td>\n",
       "      <td>Hit</td>\n",
       "      <td>0.676471</td>\n",
       "      <td>0.270588</td>\n",
       "      <td>0.386555</td>\n",
       "      <td>85.0</td>\n",
       "    </tr>\n",
       "    <tr>\n",
       "      <th>5</th>\n",
       "      <td>XGBoost</td>\n",
       "      <td>Hit</td>\n",
       "      <td>0.544118</td>\n",
       "      <td>0.474359</td>\n",
       "      <td>0.506849</td>\n",
       "      <td>78.0</td>\n",
       "    </tr>\n",
       "    <tr>\n",
       "      <th>6</th>\n",
       "      <td>Rocket</td>\n",
       "      <td>Total</td>\n",
       "      <td>0.821815</td>\n",
       "      <td>0.664906</td>\n",
       "      <td>0.713614</td>\n",
       "      <td>3557.0</td>\n",
       "    </tr>\n",
       "    <tr>\n",
       "      <th>7</th>\n",
       "      <td>XGBoost</td>\n",
       "      <td>Total</td>\n",
       "      <td>0.742156</td>\n",
       "      <td>0.724613</td>\n",
       "      <td>0.732562</td>\n",
       "      <td>3484.0</td>\n",
       "    </tr>\n",
       "  </tbody>\n",
       "</table>\n",
       "</div>"
      ],
      "text/plain": [
       "     model   class  precision    recall        f1  support\n",
       "0   Rocket  Bounce   0.812500  0.730337  0.769231     89.0\n",
       "1  XGBoost  Bounce   0.701031  0.715789  0.708333     95.0\n",
       "2   Rocket  Flying   0.976474  0.993792  0.985057   3383.0\n",
       "3  XGBoost  Flying   0.981320  0.983691  0.982504   3311.0\n",
       "4   Rocket     Hit   0.676471  0.270588  0.386555     85.0\n",
       "5  XGBoost     Hit   0.544118  0.474359  0.506849     78.0\n",
       "6   Rocket   Total   0.821815  0.664906  0.713614   3557.0\n",
       "7  XGBoost   Total   0.742156  0.724613  0.732562   3484.0"
      ]
     },
     "execution_count": 45,
     "metadata": {},
     "output_type": "execute_result"
    }
   ],
   "source": [
    "# Conversion process\n",
    "results = []\n",
    "for report in [report_xgboost, report_rocket]:\n",
    "    model_name = report['model']\n",
    "    for class_label, metrics in report.items():\n",
    "        if class_label == \"model\" or class_label == \"accuracy\" or  class_label == \"weighted avg\":\n",
    "            continue\n",
    "        results.append({\n",
    "            \"model\": model_name,\n",
    "            \"class\": class_label if class_label != \"macro avg\" else \"Total\",\n",
    "            \"precision\": metrics.get(\"precision\"),\n",
    "            \"recall\": metrics.get(\"recall\"),\n",
    "            \"f1\": metrics.get(\"f1-score\"),\n",
    "            \"support\": metrics.get(\"support\"),\n",
    "        })\n",
    "\n",
    "results = pd.DataFrame(results)\n",
    "# sort by model and class\n",
    "results = results.sort_values(by=['class', 'model']).reset_index(drop=True)\n",
    "results"
   ]
  },
  {
   "cell_type": "code",
   "execution_count": 75,
   "metadata": {},
   "outputs": [
    {
     "data": {
      "text/plain": [
       "array([[0.73033708, 0.26966292, 0.        ],\n",
       "       [0.00295596, 0.99379249, 0.00325155],\n",
       "       [0.05882353, 0.67058824, 0.27058824]])"
      ]
     },
     "execution_count": 75,
     "metadata": {},
     "output_type": "execute_result"
    }
   ],
   "source": [
    "cm_rocket"
   ]
  },
  {
   "cell_type": "code",
   "execution_count": 92,
   "metadata": {},
   "outputs": [
    {
     "name": "stderr",
     "output_type": "stream",
     "text": [
      "C:\\Users\\benev\\AppData\\Local\\Temp\\ipykernel_19656\\2065307135.py:20: UserWarning: This figure includes Axes that are not compatible with tight_layout, so results might be incorrect.\n",
      "  plt.tight_layout()\n"
     ]
    },
    {
     "data": {
      "image/png": "[encoded data removed]",
      "text/plain": [
       "<Figure size 900x400 with 3 Axes>"
      ]
     },
     "metadata": {},
     "output_type": "display_data"
    }
   ],
   "source": [
    "set_plot_style_default()\n",
    "\n",
    "def plot_two_confusion_matrices_from_df(cm1, cm2, model_names, cmap='Blues'):\n",
    "    # Create the figure and axes\n",
    "    fig, axes = plt.subplots(1, 2, figsize=(9, 4), gridspec_kw={'width_ratios': [1, 1.25], 'wspace': 0.2})\n",
    "\n",
    "    # Heatmap for the first model\n",
    "    sns.heatmap(cm1, annot=True, fmt='.2f', cmap=cmap, cbar=False, ax=axes[0], annot_kws={\"size\": 10})\n",
    "    axes[0].set_title(model_names[0])\n",
    "    axes[0].set_xlabel('Predicted')\n",
    "    axes[0].set_ylabel('True')\n",
    "\n",
    "    # Heatmap for the second model\n",
    "    sns.heatmap(cm2, annot=True, fmt='.2f', cmap=cmap, cbar=True, ax=axes[1],\n",
    "                cbar_kws={'label': 'Proportion'}, annot_kws={\"size\": 10})\n",
    "    axes[1].set_title(model_names[1])\n",
    "    axes[1].set_xlabel('Predicted')\n",
    "    axes[1].set_ylabel(' ')  # Remove y-axis labels for the second heatmap\n",
    "\n",
    "    plt.tight_layout()\n",
    "    plt.show()\n",
    "\n",
    "# convert cm to dataframe\n",
    "cm_xgboost_df = pd.DataFrame(cm_xgboost, columns=['Flying', 'Hit', 'Bounce'], index=['Flying', 'Hit', 'Bounce'])\n",
    "cm_rocket_df = pd.DataFrame(cm_rocket, columns=['Bounce', 'Flying', 'Hit'], index=['Bounce', 'Flying', 'Hit'])\n",
    "\n",
    "# reorder rows and columns to match\n",
    "cm_xgboost_df = cm_xgboost_df[['Flying', 'Bounce', 'Hit']]\n",
    "cm_xgboost_df = cm_xgboost_df.reindex(['Flying', 'Bounce', 'Hit'])\n",
    "\n",
    "# reorder rows and columns to match\n",
    "cm_rocket_df = cm_rocket_df[['Flying', 'Bounce', 'Hit']]\n",
    "cm_rocket_df = cm_rocket_df.reindex(['Flying', 'Bounce', 'Hit'])\n",
    "\n",
    "# Plot the confusion matrix\n",
    "plot_two_confusion_matrices_from_df(cm_xgboost_df, cm_rocket_df, ['XGBoost', 'ROCKET'])\n"
   ]
  }
 ],
 "metadata": {
  "kernelspec": {
   "display_name": "CODE",
   "language": "python",
   "name": "python3"
  },
  "language_info": {
   "codemirror_mode": {
    "name": "ipython",
    "version": 3
   },
   "file_extension": ".py",
   "mimetype": "text/x-python",
   "name": "python",
   "nbconvert_exporter": "python",
   "pygments_lexer": "ipython3",
   "version": "3.9.20"
  }
 },
 "nbformat": 4,
 "nbformat_minor": 2
}
