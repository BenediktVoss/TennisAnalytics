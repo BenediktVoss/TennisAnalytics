{
 "cells": [
  {
   "cell_type": "markdown",
   "metadata": {},
   "source": [
    "# Modeling Computer Vision\n",
    "\n",
    "In this notebook the modeling Phase for the CV-based Ball tracking approach is displayed. \n",
    "\n",
    "1. Process is implemented\n",
    "2. Afterwards Hyperparameter Tuning is conducted using WandB (Currently commented out)\n",
    "3. Optimal Hyperparameters are tested"
   ]
  },
  {
   "cell_type": "markdown",
   "metadata": {},
   "source": [
    "### Imports"
   ]
  },
  {
   "cell_type": "code",
   "execution_count": 2,
   "metadata": {},
   "outputs": [],
   "source": [
    "import cv2\n",
    "import numpy as np\n",
    "import json\n",
    "import pandas as pd\n",
    "from tqdm import tqdm\n",
    "import matplotlib.pyplot as plt\n",
    "import seaborn as sns\n",
    "import wandb"
   ]
  },
  {
   "cell_type": "markdown",
   "metadata": {},
   "source": [
    "### load data"
   ]
  },
  {
   "cell_type": "code",
   "execution_count": 3,
   "metadata": {},
   "outputs": [],
   "source": [
    "# read annotation json\n",
    "with open('../../00_Dataset/annotations_ball.json') as f:\n",
    "    data_test = json.load(f)"
   ]
  },
  {
   "cell_type": "code",
   "execution_count": 4,
   "metadata": {},
   "outputs": [],
   "source": [
    "def scale_points(point, scale):\n",
    "    # scale and round to int\n",
    "    return (int(point[0] * scale), int(point[1] * scale))\n",
    "\n",
    "def convert_json_to_df(json_data, split='train', resolution=[1280, 720], file_path='../../00_Dataset/'):\n",
    "    rows = []\n",
    "    for subset in json_data['subsets']:\n",
    "        resolution_subset= subset['resolution']\n",
    "        if 'ball' in subset['objects']:\n",
    "            for video in subset['videos']:\n",
    "                for clip in video['clips']:\n",
    "                    for frame_number, frame in clip['frames_with_objects'].items():    \n",
    "                        if frame['split'] != split:\n",
    "                            continue\n",
    "                        points = []\n",
    "                        for ball in frame['balls']:\n",
    "                            if ball['visibility'] not in ['Outside'] and ball['trajectory'] not in ['', 'Static']:\n",
    "                                point = scale_points([ball['x'],ball['y']], resolution[0] / resolution_subset[0])\n",
    "                                point_object = {'x': point[0], 'y': point[1], 'visibility': ball['visibility']}\n",
    "                                points.append(point_object)\n",
    "\n",
    "                            \n",
    "                        file_path_full = file_path + subset['name'] + '/' + video['name'] + '/' + clip['name'] + '/' + frame_number + '.jpg'\n",
    "                        rows.append({\n",
    "                            'subset': subset['name'],\n",
    "                            'video': video['name'],\n",
    "                            'clip': clip['name'],\n",
    "                            'frame': int(frame_number), \n",
    "                            'file_path': file_path_full, \n",
    "                            'points': points\n",
    "                        })\n",
    "\n",
    "    return pd.DataFrame(rows)\n",
    "\n",
    "df_train = convert_json_to_df(data_test, split='train')\n",
    "df_val = convert_json_to_df(data_test, split='val')\n",
    "\n",
    "\n",
    "#combine \n",
    "df = pd.concat([df_train, df_val])\n",
    "df = convert_json_to_df(data_test, split='test')"
   ]
  },
  {
   "cell_type": "markdown",
   "metadata": {},
   "source": [
    "## Test CV-Approach"
   ]
  },
  {
   "cell_type": "code",
   "execution_count": 5,
   "metadata": {},
   "outputs": [
    {
     "data": {
      "text/html": [
       "<div>\n",
       "<style scoped>\n",
       "    .dataframe tbody tr th:only-of-type {\n",
       "        vertical-align: middle;\n",
       "    }\n",
       "\n",
       "    .dataframe tbody tr th {\n",
       "        vertical-align: top;\n",
       "    }\n",
       "\n",
       "    .dataframe thead th {\n",
       "        text-align: right;\n",
       "    }\n",
       "</style>\n",
       "<table border=\"1\" class=\"dataframe\">\n",
       "  <thead>\n",
       "    <tr style=\"text-align: right;\">\n",
       "      <th></th>\n",
       "      <th>subset</th>\n",
       "      <th>video</th>\n",
       "      <th>clip</th>\n",
       "    </tr>\n",
       "  </thead>\n",
       "  <tbody>\n",
       "    <tr>\n",
       "      <th>0</th>\n",
       "      <td>Amateur</td>\n",
       "      <td>Video_1</td>\n",
       "      <td>clip_6</td>\n",
       "    </tr>\n",
       "    <tr>\n",
       "      <th>328</th>\n",
       "      <td>Amateur</td>\n",
       "      <td>Video_2</td>\n",
       "      <td>clip_7</td>\n",
       "    </tr>\n",
       "    <tr>\n",
       "      <th>643</th>\n",
       "      <td>Amateur</td>\n",
       "      <td>Video_3</td>\n",
       "      <td>clip_7</td>\n",
       "    </tr>\n",
       "    <tr>\n",
       "      <th>759</th>\n",
       "      <td>Amateur</td>\n",
       "      <td>Video_3</td>\n",
       "      <td>clip_8</td>\n",
       "    </tr>\n",
       "    <tr>\n",
       "      <th>1029</th>\n",
       "      <td>Amateur</td>\n",
       "      <td>Video_4</td>\n",
       "      <td>clip_7</td>\n",
       "    </tr>\n",
       "  </tbody>\n",
       "</table>\n",
       "</div>"
      ],
      "text/plain": [
       "       subset    video    clip\n",
       "0     Amateur  Video_1  clip_6\n",
       "328   Amateur  Video_2  clip_7\n",
       "643   Amateur  Video_3  clip_7\n",
       "759   Amateur  Video_3  clip_8\n",
       "1029  Amateur  Video_4  clip_7"
      ]
     },
     "execution_count": 5,
     "metadata": {},
     "output_type": "execute_result"
    }
   ],
   "source": [
    "# get all unique combination of subset, video, clip\n",
    "unique_combinations = df[['subset', 'video', 'clip']].drop_duplicates()\n",
    "unique_combinations.head()"
   ]
  },
  {
   "cell_type": "code",
   "execution_count": 6,
   "metadata": {},
   "outputs": [],
   "source": [
    "# get all frame sfrom a uniqe combination ordered by frame number\n",
    "def get_frames(df, subset, video, clip):\n",
    "    return df[(df['subset'] == subset) & (df['video'] == video) & (df['clip'] == clip)].sort_values('frame')"
   ]
  },
  {
   "cell_type": "code",
   "execution_count": 7,
   "metadata": {},
   "outputs": [
    {
     "data": {
      "text/html": [
       "<div>\n",
       "<style scoped>\n",
       "    .dataframe tbody tr th:only-of-type {\n",
       "        vertical-align: middle;\n",
       "    }\n",
       "\n",
       "    .dataframe tbody tr th {\n",
       "        vertical-align: top;\n",
       "    }\n",
       "\n",
       "    .dataframe thead th {\n",
       "        text-align: right;\n",
       "    }\n",
       "</style>\n",
       "<table border=\"1\" class=\"dataframe\">\n",
       "  <thead>\n",
       "    <tr style=\"text-align: right;\">\n",
       "      <th></th>\n",
       "      <th>subset</th>\n",
       "      <th>video</th>\n",
       "      <th>clip</th>\n",
       "      <th>frame</th>\n",
       "      <th>file_path</th>\n",
       "      <th>points</th>\n",
       "    </tr>\n",
       "  </thead>\n",
       "  <tbody>\n",
       "    <tr>\n",
       "      <th>0</th>\n",
       "      <td>Amateur</td>\n",
       "      <td>Video_1</td>\n",
       "      <td>clip_6</td>\n",
       "      <td>53</td>\n",
       "      <td>../../00_Dataset/Amateur/Video_1/clip_6/53.jpg</td>\n",
       "      <td>[{'x': 366, 'y': 552, 'visibility': 'Visible'}]</td>\n",
       "    </tr>\n",
       "    <tr>\n",
       "      <th>1</th>\n",
       "      <td>Amateur</td>\n",
       "      <td>Video_1</td>\n",
       "      <td>clip_6</td>\n",
       "      <td>54</td>\n",
       "      <td>../../00_Dataset/Amateur/Video_1/clip_6/54.jpg</td>\n",
       "      <td>[{'x': 366, 'y': 548, 'visibility': 'Visible'}]</td>\n",
       "    </tr>\n",
       "    <tr>\n",
       "      <th>2</th>\n",
       "      <td>Amateur</td>\n",
       "      <td>Video_1</td>\n",
       "      <td>clip_6</td>\n",
       "      <td>55</td>\n",
       "      <td>../../00_Dataset/Amateur/Video_1/clip_6/55.jpg</td>\n",
       "      <td>[{'x': 366, 'y': 541, 'visibility': 'Difficult'}]</td>\n",
       "    </tr>\n",
       "    <tr>\n",
       "      <th>3</th>\n",
       "      <td>Amateur</td>\n",
       "      <td>Video_1</td>\n",
       "      <td>clip_6</td>\n",
       "      <td>56</td>\n",
       "      <td>../../00_Dataset/Amateur/Video_1/clip_6/56.jpg</td>\n",
       "      <td>[{'x': 368, 'y': 536, 'visibility': 'Difficult'}]</td>\n",
       "    </tr>\n",
       "    <tr>\n",
       "      <th>4</th>\n",
       "      <td>Amateur</td>\n",
       "      <td>Video_1</td>\n",
       "      <td>clip_6</td>\n",
       "      <td>57</td>\n",
       "      <td>../../00_Dataset/Amateur/Video_1/clip_6/57.jpg</td>\n",
       "      <td>[{'x': 370, 'y': 536, 'visibility': 'Difficult'}]</td>\n",
       "    </tr>\n",
       "  </tbody>\n",
       "</table>\n",
       "</div>"
      ],
      "text/plain": [
       "    subset    video    clip  frame  \\\n",
       "0  Amateur  Video_1  clip_6     53   \n",
       "1  Amateur  Video_1  clip_6     54   \n",
       "2  Amateur  Video_1  clip_6     55   \n",
       "3  Amateur  Video_1  clip_6     56   \n",
       "4  Amateur  Video_1  clip_6     57   \n",
       "\n",
       "                                        file_path  \\\n",
       "0  ../../00_Dataset/Amateur/Video_1/clip_6/53.jpg   \n",
       "1  ../../00_Dataset/Amateur/Video_1/clip_6/54.jpg   \n",
       "2  ../../00_Dataset/Amateur/Video_1/clip_6/55.jpg   \n",
       "3  ../../00_Dataset/Amateur/Video_1/clip_6/56.jpg   \n",
       "4  ../../00_Dataset/Amateur/Video_1/clip_6/57.jpg   \n",
       "\n",
       "                                              points  \n",
       "0    [{'x': 366, 'y': 552, 'visibility': 'Visible'}]  \n",
       "1    [{'x': 366, 'y': 548, 'visibility': 'Visible'}]  \n",
       "2  [{'x': 366, 'y': 541, 'visibility': 'Difficult'}]  \n",
       "3  [{'x': 368, 'y': 536, 'visibility': 'Difficult'}]  \n",
       "4  [{'x': 370, 'y': 536, 'visibility': 'Difficult'}]  "
      ]
     },
     "execution_count": 7,
     "metadata": {},
     "output_type": "execute_result"
    }
   ],
   "source": [
    "get_frames(df, unique_combinations.iloc[0]['subset'], unique_combinations.iloc[0]['video'], unique_combinations.iloc[0]['clip']).head()"
   ]
  },
  {
   "cell_type": "code",
   "execution_count": 8,
   "metadata": {},
   "outputs": [],
   "source": [
    "# Hyperparameters\n",
    "FRAME_WIDTH = 1280\n",
    "FRAME_HEIGHT = 720\n",
    "FPS = 30  # Assuming a default FPS value; can be adjusted as needed\n",
    "\n",
    "# Background subtraction parameters\n",
    "BG_HISTORY = 500\n",
    "BG_VAR_THRESHOLD = 32\n",
    "BG_DETECT_SHADOWS = True\n",
    "\n",
    "# Frame differencing parameters\n",
    "FRAME_DIFF_THRESHOLD = 20\n",
    "\n",
    "# Morphological operations parameters\n",
    "DILATE_ITERATIONS = 3\n",
    "ERODE_ITERATIONS = 2\n",
    "\n",
    "# Contour size parameters\n",
    "BALL_MIN_AREA = 10\n",
    "BALL_MAX_AREA = 80\n",
    "PLAYER_MIN_AREA = 300\n",
    "\n",
    "# Parameters for tracking previous player positions\n",
    "PREVIOUS_PLAYER_FRAMES = 10  # Number of frames to retain previous player positions\n",
    "player_boxes_history = []  # Stores player bounding boxes from recent frames\n",
    "\n",
    "def initialize_background_subtractor():\n",
    "    \"\"\"Initialize the background subtractor with predefined parameters.\"\"\"\n",
    "    return cv2.createBackgroundSubtractorMOG2(\n",
    "        history=BG_HISTORY,\n",
    "        varThreshold=BG_VAR_THRESHOLD,\n",
    "        detectShadows=BG_DETECT_SHADOWS\n",
    "    )\n",
    "\n",
    "def initialize_video_writer(output_path, frame_width, frame_height):\n",
    "    \"\"\"Initialize the video writer to save the output video.\"\"\"\n",
    "    fourcc = cv2.VideoWriter_fourcc(*'XVID')\n",
    "    return cv2.VideoWriter(output_path, fourcc, FPS, (frame_width, frame_height))\n",
    "\n",
    "def apply_background_subtraction(background_subtractor, frame):\n",
    "    \"\"\"Apply background subtraction to isolate moving objects.\"\"\"\n",
    "    return background_subtractor.apply(frame)\n",
    "\n",
    "def calculate_frame_difference(prev_frame, current_frame):\n",
    "    \"\"\"Calculate the frame difference and apply thresholding.\"\"\"\n",
    "    frame_diff = cv2.absdiff(prev_frame, current_frame)\n",
    "    gray_diff = cv2.cvtColor(frame_diff, cv2.COLOR_BGR2GRAY)\n",
    "    _, diff_mask = cv2.threshold(gray_diff, FRAME_DIFF_THRESHOLD, 255, cv2.THRESH_BINARY)\n",
    "    return diff_mask\n",
    "\n",
    "def refine_mask(combined_mask):\n",
    "    \"\"\"Refine the mask using thresholding and morphological operations.\"\"\"\n",
    "    _, thresh = cv2.threshold(combined_mask, 200, 255, cv2.THRESH_BINARY)\n",
    "    thresh = cv2.dilate(thresh, None, iterations=DILATE_ITERATIONS)\n",
    "    thresh = cv2.erode(thresh, None, iterations=ERODE_ITERATIONS)\n",
    "    return thresh\n",
    "\n",
    "def combine_overlapping_boxes(boxes):\n",
    "    merged_boxes = []\n",
    "\n",
    "    # Continue to merge until no more overlaps are found\n",
    "    while boxes:\n",
    "        box = boxes.pop(0)\n",
    "        x1, y1, w1, h1 = box\n",
    "        has_merged = False\n",
    "\n",
    "        # Check current box against merged boxes\n",
    "        for i in range(len(merged_boxes)):\n",
    "            x2, y2, w2, h2 = merged_boxes[i]\n",
    "            \n",
    "            # Check for overlap\n",
    "            if (x1 < x2 + w2 and x1 + w1 > x2 and\n",
    "                y1 < y2 + h2 and y1 + h1 > y2):\n",
    "                \n",
    "                # Merge the boxes into a new bounding box\n",
    "                new_x = min(x1, x2)\n",
    "                new_y = min(y1, y2)\n",
    "                new_w = max(x1 + w1, x2 + w2) - new_x\n",
    "                new_h = max(y1 + h1, y2 + h2) - new_y\n",
    "                merged_boxes[i] = (new_x, new_y, new_w, new_h)  # Update merged box\n",
    "                has_merged = True\n",
    "                break\n",
    "\n",
    "        # If box did not merge, add it as a new entry\n",
    "        if not has_merged:\n",
    "            merged_boxes.append(box)\n",
    "\n",
    "    # Repeat merging process on merged_boxes list until stable\n",
    "    stable = False\n",
    "    while not stable:\n",
    "        stable = True\n",
    "        new_merged_boxes = []\n",
    "        while merged_boxes:\n",
    "            box = merged_boxes.pop(0)\n",
    "            x1, y1, w1, h1 = box\n",
    "            has_merged = False\n",
    "\n",
    "            for i in range(len(new_merged_boxes)):\n",
    "                x2, y2, w2, h2 = new_merged_boxes[i]\n",
    "                \n",
    "                # Check for overlap again\n",
    "                if (x1 < x2 + w2 and x1 + w1 > x2 and\n",
    "                    y1 < y2 + h2 and y1 + h1 > y2):\n",
    "                    \n",
    "                    # Merge overlapping boxes\n",
    "                    new_x = min(x1, x2)\n",
    "                    new_y = min(y1, y2)\n",
    "                    new_w = max(x1 + w1, x2 + w2) - new_x\n",
    "                    new_h = max(y1 + h1, y2 + h2) - new_y\n",
    "                    new_merged_boxes[i] = (new_x, new_y, new_w, new_h)\n",
    "                    has_merged = True\n",
    "                    stable = False\n",
    "                    break\n",
    "\n",
    "            if not has_merged:\n",
    "                new_merged_boxes.append(box)\n",
    "        \n",
    "        merged_boxes = new_merged_boxes\n",
    "\n",
    "    return merged_boxes\n",
    "\n",
    "def detect_draw_objects(frame, mask):\n",
    "    \"\"\"Detect objects in the mask and differentiate between ball and players.\"\"\"\n",
    "    contours, _ = cv2.findContours(mask, cv2.RETR_EXTERNAL, cv2.CHAIN_APPROX_SIMPLE)\n",
    "    \n",
    "    # Initialize lists to store detected areas for this frame\n",
    "    circle_areas = []\n",
    "    player_areas = []\n",
    "\n",
    "    # Iterate over contours to classify as ball or player\n",
    "    for cnt in contours:\n",
    "        area = cv2.contourArea(cnt)\n",
    "        if BALL_MIN_AREA < area < BALL_MAX_AREA:  # Ball detection\n",
    "            (x, y), radius = cv2.minEnclosingCircle(cnt)\n",
    "            circle_areas.append((x, y, radius))  # Add to circle areas\n",
    "        elif area > PLAYER_MIN_AREA:  # Player detection\n",
    "            x, y, w, h = cv2.boundingRect(cnt)\n",
    "            player_areas.append((x, y, w, h))  # Add to player areas\n",
    "\n",
    "    # Combine overlapping player boxes\n",
    "    player_areas = combine_overlapping_boxes(player_areas)\n",
    "\n",
    "    # Add player areas to history for ball exclusion\n",
    "    player_boxes_history.append(player_areas)\n",
    "    if len(player_boxes_history) > PREVIOUS_PLAYER_FRAMES:\n",
    "        player_boxes_history.pop(0)  # Limit history to the last 10 frames\n",
    "\n",
    "\n",
    "    # Remove ball positions that overlap with player boxes from recent frames\n",
    "    for players in player_boxes_history:\n",
    "        for (x, y, w, h) in players:\n",
    "             # Create a new list with only circles that don't overlap with the player box\n",
    "            circle_areas = [\n",
    "                (x1, y1, r) for (x1, y1, r) in circle_areas\n",
    "                if not (x - r < x1 < x + w + r and y - r < y1 < y + h + r)\n",
    "            ]\n",
    "\n",
    "    for (x, y, w, h) in player_areas:\n",
    "        for i, (x1, y1, r) in enumerate(circle_areas):\n",
    "                 # Create a new list with only circles that don't overlap with the player box\n",
    "                circle_areas = [\n",
    "                    (x1, y1, r) for (x1, y1, r) in circle_areas\n",
    "                    if not (x - r < x1 < x + w + r and y - r < y1 < y + h + r)\n",
    "                ]\n",
    "\n",
    "    ball_points = [] \n",
    "    # Draw valid ball detections\n",
    "    for x, y, r in circle_areas:\n",
    "        cv2.circle(frame, (int(x), int(y)), int(r), (0, 255, 0), 2)\n",
    "        ball_points.append((int(x), int(y)))\n",
    "\n",
    "    player_bbox = []\n",
    "    # Draw player detections\n",
    "    for x, y, w, h in player_areas:\n",
    "        cv2.rectangle(frame, (x, y), (x + w, y + h), (255, 0, 0), 2)\n",
    "        player_bbox.append((x, y, x + w, y + h))\n",
    "\n",
    "    return frame, ball_points, player_bbox\n",
    "\n",
    "# Combine overlapping boxes (same as original)\n",
    "# Define detect_objects, and combine_overlapping_boxes functions here\n",
    "# Code omitted for brevity, assume those functions are unchanged\n",
    "\n",
    "def process_image_sequence_with_video(df, output_path):\n",
    "    \"\"\"Process a sequence of images provided in a DataFrame.\"\"\"\n",
    "    global FRAME_WIDTH, FRAME_HEIGHT\n",
    "\n",
    "    # Add required columns for annotations\n",
    "    df['ball_points'] = None\n",
    "    df['player_bbox'] = None\n",
    "\n",
    "    # Initialize background subtractor\n",
    "    background_subtractor = initialize_background_subtractor()\n",
    "\n",
    "    # Read the first frame to initialize previous frame for differencing\n",
    "    first_frame_path = df.iloc[0]['file_path']\n",
    "    prev_frame = cv2.imread(first_frame_path)\n",
    "    if prev_frame is None:\n",
    "        print(\"Error: Could not read the first frame.\")\n",
    "        exit()\n",
    "\n",
    "    # if resolution not 720 p rescale\n",
    "    if prev_frame.shape[0] != FRAME_HEIGHT or prev_frame.shape[1] != FRAME_WIDTH:\n",
    "        prev_frame = cv2.resize(prev_frame, (FRAME_WIDTH, FRAME_HEIGHT))\n",
    "\n",
    "    # Initialize video writer\n",
    "    out = initialize_video_writer(output_path, FRAME_WIDTH, FRAME_HEIGHT)\n",
    "\n",
    "    # Iterate over DataFrame to process each frame\n",
    "    for index, row in df.iterrows():\n",
    "        frame_path = row['file_path']\n",
    "        frame = cv2.imread(frame_path)\n",
    "        if frame is None:\n",
    "            print(f\"Warning: Could not read frame at {frame_path}. Skipping.\")\n",
    "            continue\n",
    "\n",
    "        # if resolution not 720 p rescale\n",
    "        if frame.shape[0] != FRAME_HEIGHT or frame.shape[1] != FRAME_WIDTH:\n",
    "            frame = cv2.resize(frame, (FRAME_WIDTH, FRAME_HEIGHT))\n",
    "\n",
    "        # Remove noise\n",
    "        frame = cv2.GaussianBlur(frame, (5, 5), 0)\n",
    "\n",
    "        # Step 1: Background subtraction\n",
    "        bg_mask = apply_background_subtraction(background_subtractor, frame)\n",
    "\n",
    "        # Step 2: Frame differencing\n",
    "        diff_mask = calculate_frame_difference(prev_frame, frame)\n",
    "        prev_frame = frame  # Update previous frame\n",
    "\n",
    "        # Step 3: Combine masks\n",
    "        combined_mask = cv2.bitwise_and(bg_mask, diff_mask)\n",
    "\n",
    "        # Step 4: Refine mask\n",
    "        refined_mask = refine_mask(combined_mask)\n",
    "\n",
    "        # Step 5: Detect objects\n",
    "        frame_with_detections, ball_points, player_bbox = detect_draw_objects(frame, refined_mask)\n",
    "\n",
    "        # add ball points to df\n",
    "        df.at[index, 'ball_points'] = ball_points\n",
    "\n",
    "        # add player bbox to df\n",
    "        df.at[index, 'player_bbox'] = player_bbox\n",
    "\n",
    "        # Write the processed frame to the output video\n",
    "        out.write(frame_with_detections)\n",
    "\n",
    "    # Release resources\n",
    "    out.release()\n",
    "    print(f\"Output video saved as '{output_path}'\")\n",
    "\n",
    "    return df"
   ]
  },
  {
   "cell_type": "markdown",
   "metadata": {},
   "source": [
    "### Create sample Video"
   ]
  },
  {
   "cell_type": "code",
   "execution_count": 9,
   "metadata": {},
   "outputs": [
    {
     "name": "stdout",
     "output_type": "stream",
     "text": [
      "Output video saved as 'ExampleVideo.avi'\n"
     ]
    }
   ],
   "source": [
    "# Process the image sequence and save the output video\n",
    "output_path = 'ExampleVideo.avi'\n",
    "filtered_df = get_frames(df, unique_combinations.iloc[10]['subset'], unique_combinations.iloc[10]['video'], unique_combinations.iloc[10]['clip'])\n",
    "filtered_df = process_image_sequence_with_video(filtered_df, output_path)"
   ]
  },
  {
   "cell_type": "code",
   "execution_count": 11,
   "metadata": {},
   "outputs": [],
   "source": [
    "def detect_objects(mask):\n",
    "    \"\"\"Detect objects in the mask and differentiate between ball and players.\"\"\"\n",
    "    contours, _ = cv2.findContours(mask, cv2.RETR_EXTERNAL, cv2.CHAIN_APPROX_SIMPLE)\n",
    "    \n",
    "    # Initialize lists to store detected areas for this frame\n",
    "    circle_areas = []\n",
    "    player_areas = []\n",
    "\n",
    "    # Iterate over contours to classify as ball or player\n",
    "    for cnt in contours:\n",
    "        area = cv2.contourArea(cnt)\n",
    "        if BALL_MIN_AREA < area < BALL_MAX_AREA:  # Ball detection\n",
    "            (x, y), radius = cv2.minEnclosingCircle(cnt)\n",
    "            circle_areas.append((x, y, radius))  # Add to circle areas\n",
    "        elif area > PLAYER_MIN_AREA:  # Player detection\n",
    "            x, y, w, h = cv2.boundingRect(cnt)\n",
    "            player_areas.append((x, y, w, h))  # Add to player areas\n",
    "\n",
    "    # Combine overlapping player boxes\n",
    "    player_areas = combine_overlapping_boxes(player_areas)\n",
    "\n",
    "    # Add player areas to history for ball exclusion\n",
    "    player_boxes_history.append(player_areas)\n",
    "    if len(player_boxes_history) > PREVIOUS_PLAYER_FRAMES:\n",
    "        player_boxes_history.pop(0)  # Limit history to the last 10 frames\n",
    "\n",
    "\n",
    "    # Remove ball positions that overlap with player boxes from recent frames\n",
    "    for players in player_boxes_history:\n",
    "        for (x, y, w, h) in players:\n",
    "             # Create a new list with only circles that don't overlap with the player box\n",
    "            circle_areas = [\n",
    "                (x1, y1, r) for (x1, y1, r) in circle_areas\n",
    "                if not (x - r < x1 < x + w + r and y - r < y1 < y + h + r)\n",
    "            ]\n",
    "\n",
    "    for (x, y, w, h) in player_areas:\n",
    "        for i, (x1, y1, r) in enumerate(circle_areas):\n",
    "                 # Create a new list with only circles that don't overlap with the player box\n",
    "                circle_areas = [\n",
    "                    (x1, y1, r) for (x1, y1, r) in circle_areas\n",
    "                    if not (x - r < x1 < x + w + r and y - r < y1 < y + h + r)\n",
    "                ]\n",
    "\n",
    "    ball_points = [] \n",
    "    # Draw valid ball detections\n",
    "    for x, y, r in circle_areas:\n",
    "        ball_points.append((int(x), int(y)))\n",
    "\n",
    "    player_bbox = []\n",
    "    # Draw player detections\n",
    "    for x, y, w, h in player_areas:\n",
    "        player_bbox.append((x, y, x + w, y + h))\n",
    "\n",
    "    return ball_points, player_bbox\n",
    "\n",
    "# Combine overlapping boxes (same as original)\n",
    "# Define detect_objects, and combine_overlapping_boxes functions here\n",
    "# Code omitted for brevity, assume those functions are unchanged\n",
    "\n",
    "def process_image_sequence_just_annotations(df):\n",
    "    \"\"\"Process a sequence of images provided in a DataFrame.\"\"\"\n",
    "    global FRAME_WIDTH, FRAME_HEIGHT\n",
    "\n",
    "    # Add required columns for annotations\n",
    "    df['ball_points'] = None\n",
    "    df['player_bbox'] = None\n",
    "\n",
    "    # Initialize background subtractor\n",
    "    background_subtractor = initialize_background_subtractor()\n",
    "\n",
    "    # Read the first frame to initialize previous frame for differencing\n",
    "    first_frame_path = df.iloc[0]['file_path']\n",
    "    prev_frame = cv2.imread(first_frame_path)\n",
    "    if prev_frame is None:\n",
    "        print(\"Error: Could not read the first frame.\")\n",
    "        exit()\n",
    "\n",
    "    # if resolution not 720 p rescale\n",
    "    if prev_frame.shape[0] != FRAME_HEIGHT or prev_frame.shape[1] != FRAME_WIDTH:\n",
    "        prev_frame = cv2.resize(prev_frame, (FRAME_WIDTH, FRAME_HEIGHT))\n",
    "\n",
    "    # Iterate over DataFrame to process each frame\n",
    "    for index, row in df.iterrows():\n",
    "        frame_path = row['file_path']\n",
    "        frame = cv2.imread(frame_path)\n",
    "        if frame is None:\n",
    "            print(f\"Warning: Could not read frame at {frame_path}. Skipping.\")\n",
    "            continue\n",
    "\n",
    "        # if resolution not 720 p rescale\n",
    "        if frame.shape[0] != FRAME_HEIGHT or frame.shape[1] != FRAME_WIDTH:\n",
    "            frame = cv2.resize(frame, (FRAME_WIDTH, FRAME_HEIGHT))\n",
    "\n",
    "        # Remove noise\n",
    "        frame = cv2.GaussianBlur(frame, (5, 5), 0)\n",
    "\n",
    "        # Step 1: Background subtraction\n",
    "        bg_mask = apply_background_subtraction(background_subtractor, frame)\n",
    "\n",
    "        # Step 2: Frame differencing\n",
    "        diff_mask = calculate_frame_difference(prev_frame, frame)\n",
    "        prev_frame = frame  # Update previous frame\n",
    "\n",
    "        # Step 3: Combine masks\n",
    "        combined_mask = cv2.bitwise_and(bg_mask, diff_mask)\n",
    "\n",
    "        # Step 4: Refine mask\n",
    "        refined_mask = refine_mask(combined_mask)\n",
    "\n",
    "        # Step 5: Detect objects\n",
    "        ball_points, player_bbox = detect_objects(refined_mask)\n",
    "\n",
    "        # add ball points to df\n",
    "        df.at[index, 'ball_points'] = ball_points\n",
    "\n",
    "        # add player bbox to df\n",
    "        df.at[index, 'player_bbox'] = player_bbox\n",
    "\n",
    "    return df"
   ]
  },
  {
   "cell_type": "code",
   "execution_count": 12,
   "metadata": {},
   "outputs": [
    {
     "data": {
      "text/html": [
       "<div>\n",
       "<style scoped>\n",
       "    .dataframe tbody tr th:only-of-type {\n",
       "        vertical-align: middle;\n",
       "    }\n",
       "\n",
       "    .dataframe tbody tr th {\n",
       "        vertical-align: top;\n",
       "    }\n",
       "\n",
       "    .dataframe thead th {\n",
       "        text-align: right;\n",
       "    }\n",
       "</style>\n",
       "<table border=\"1\" class=\"dataframe\">\n",
       "  <thead>\n",
       "    <tr style=\"text-align: right;\">\n",
       "      <th></th>\n",
       "      <th>subset</th>\n",
       "      <th>video</th>\n",
       "      <th>clip</th>\n",
       "      <th>frame</th>\n",
       "      <th>file_path</th>\n",
       "      <th>points</th>\n",
       "      <th>ball_points</th>\n",
       "      <th>player_bbox</th>\n",
       "    </tr>\n",
       "  </thead>\n",
       "  <tbody>\n",
       "    <tr>\n",
       "      <th>2305</th>\n",
       "      <td>TrackNet</td>\n",
       "      <td>game6</td>\n",
       "      <td>Clip4</td>\n",
       "      <td>0</td>\n",
       "      <td>../../00_Dataset/TrackNet/game6/Clip4/0.jpg</td>\n",
       "      <td>[{'x': 527, 'y': 518, 'visibility': 'Visible'}]</td>\n",
       "      <td>[]</td>\n",
       "      <td>[]</td>\n",
       "    </tr>\n",
       "    <tr>\n",
       "      <th>2306</th>\n",
       "      <td>TrackNet</td>\n",
       "      <td>game6</td>\n",
       "      <td>Clip4</td>\n",
       "      <td>1</td>\n",
       "      <td>../../00_Dataset/TrackNet/game6/Clip4/1.jpg</td>\n",
       "      <td>[{'x': 528, 'y': 514, 'visibility': 'Visible'}]</td>\n",
       "      <td>[]</td>\n",
       "      <td>[]</td>\n",
       "    </tr>\n",
       "    <tr>\n",
       "      <th>2307</th>\n",
       "      <td>TrackNet</td>\n",
       "      <td>game6</td>\n",
       "      <td>Clip4</td>\n",
       "      <td>2</td>\n",
       "      <td>../../00_Dataset/TrackNet/game6/Clip4/2.jpg</td>\n",
       "      <td>[{'x': 531, 'y': 512, 'visibility': 'Visible'}]</td>\n",
       "      <td>[]</td>\n",
       "      <td>[]</td>\n",
       "    </tr>\n",
       "    <tr>\n",
       "      <th>2308</th>\n",
       "      <td>TrackNet</td>\n",
       "      <td>game6</td>\n",
       "      <td>Clip4</td>\n",
       "      <td>3</td>\n",
       "      <td>../../00_Dataset/TrackNet/game6/Clip4/3.jpg</td>\n",
       "      <td>[{'x': 534, 'y': 510, 'visibility': 'Visible'}]</td>\n",
       "      <td>[]</td>\n",
       "      <td>[]</td>\n",
       "    </tr>\n",
       "    <tr>\n",
       "      <th>2309</th>\n",
       "      <td>TrackNet</td>\n",
       "      <td>game6</td>\n",
       "      <td>Clip4</td>\n",
       "      <td>4</td>\n",
       "      <td>../../00_Dataset/TrackNet/game6/Clip4/4.jpg</td>\n",
       "      <td>[{'x': 533, 'y': 511, 'visibility': 'Visible'}]</td>\n",
       "      <td>[]</td>\n",
       "      <td>[]</td>\n",
       "    </tr>\n",
       "  </tbody>\n",
       "</table>\n",
       "</div>"
      ],
      "text/plain": [
       "        subset  video   clip  frame  \\\n",
       "2305  TrackNet  game6  Clip4      0   \n",
       "2306  TrackNet  game6  Clip4      1   \n",
       "2307  TrackNet  game6  Clip4      2   \n",
       "2308  TrackNet  game6  Clip4      3   \n",
       "2309  TrackNet  game6  Clip4      4   \n",
       "\n",
       "                                        file_path  \\\n",
       "2305  ../../00_Dataset/TrackNet/game6/Clip4/0.jpg   \n",
       "2306  ../../00_Dataset/TrackNet/game6/Clip4/1.jpg   \n",
       "2307  ../../00_Dataset/TrackNet/game6/Clip4/2.jpg   \n",
       "2308  ../../00_Dataset/TrackNet/game6/Clip4/3.jpg   \n",
       "2309  ../../00_Dataset/TrackNet/game6/Clip4/4.jpg   \n",
       "\n",
       "                                               points ball_points player_bbox  \n",
       "2305  [{'x': 527, 'y': 518, 'visibility': 'Visible'}]          []          []  \n",
       "2306  [{'x': 528, 'y': 514, 'visibility': 'Visible'}]          []          []  \n",
       "2307  [{'x': 531, 'y': 512, 'visibility': 'Visible'}]          []          []  \n",
       "2308  [{'x': 534, 'y': 510, 'visibility': 'Visible'}]          []          []  \n",
       "2309  [{'x': 533, 'y': 511, 'visibility': 'Visible'}]          []          []  "
      ]
     },
     "execution_count": 12,
     "metadata": {},
     "output_type": "execute_result"
    }
   ],
   "source": [
    "filtered_df = get_frames(df, unique_combinations.iloc[10]['subset'], unique_combinations.iloc[10]['video'], unique_combinations.iloc[10]['clip'])\n",
    "filtered_df = process_image_sequence_just_annotations(filtered_df)\n",
    "filtered_df.head()"
   ]
  },
  {
   "cell_type": "markdown",
   "metadata": {},
   "source": [
    "## Evaluating first Version"
   ]
  },
  {
   "cell_type": "code",
   "execution_count": 13,
   "metadata": {},
   "outputs": [
    {
     "name": "stderr",
     "output_type": "stream",
     "text": [
      "Processing videos: 100%|██████████| 13/13 [00:53<00:00,  4.14s/it]\n"
     ]
    }
   ],
   "source": [
    "result_df= pd.DataFrame(columns=['subset', 'video', 'clip', 'frame', 'ball_points', 'player_bbox'])\n",
    "\n",
    "# loop over unique combinations\n",
    "for i in tqdm(range(len(unique_combinations)), desc=\"Processing videos\"):\n",
    "    filtered_df = get_frames(df, unique_combinations.iloc[i]['subset'], unique_combinations.iloc[i]['video'], unique_combinations.iloc[i]['clip'])\n",
    "    filtered_df = process_image_sequence_just_annotations(filtered_df)\n",
    "    result_df = pd.concat([result_df, filtered_df])"
   ]
  },
  {
   "cell_type": "code",
   "execution_count": 14,
   "metadata": {},
   "outputs": [
    {
     "data": {
      "text/html": [
       "<div>\n",
       "<style scoped>\n",
       "    .dataframe tbody tr th:only-of-type {\n",
       "        vertical-align: middle;\n",
       "    }\n",
       "\n",
       "    .dataframe tbody tr th {\n",
       "        vertical-align: top;\n",
       "    }\n",
       "\n",
       "    .dataframe thead th {\n",
       "        text-align: right;\n",
       "    }\n",
       "</style>\n",
       "<table border=\"1\" class=\"dataframe\">\n",
       "  <thead>\n",
       "    <tr style=\"text-align: right;\">\n",
       "      <th></th>\n",
       "      <th>subset</th>\n",
       "      <th>video</th>\n",
       "      <th>clip</th>\n",
       "      <th>frame</th>\n",
       "      <th>ball_points</th>\n",
       "      <th>player_bbox</th>\n",
       "      <th>file_path</th>\n",
       "      <th>points</th>\n",
       "    </tr>\n",
       "  </thead>\n",
       "  <tbody>\n",
       "    <tr>\n",
       "      <th>0</th>\n",
       "      <td>Amateur</td>\n",
       "      <td>Video_1</td>\n",
       "      <td>clip_6</td>\n",
       "      <td>53</td>\n",
       "      <td>[]</td>\n",
       "      <td>[]</td>\n",
       "      <td>../../00_Dataset/Amateur/Video_1/clip_6/53.jpg</td>\n",
       "      <td>[{'x': 366, 'y': 552, 'visibility': 'Visible'}]</td>\n",
       "    </tr>\n",
       "    <tr>\n",
       "      <th>1</th>\n",
       "      <td>Amateur</td>\n",
       "      <td>Video_1</td>\n",
       "      <td>clip_6</td>\n",
       "      <td>54</td>\n",
       "      <td>[]</td>\n",
       "      <td>[]</td>\n",
       "      <td>../../00_Dataset/Amateur/Video_1/clip_6/54.jpg</td>\n",
       "      <td>[{'x': 366, 'y': 548, 'visibility': 'Visible'}]</td>\n",
       "    </tr>\n",
       "    <tr>\n",
       "      <th>2</th>\n",
       "      <td>Amateur</td>\n",
       "      <td>Video_1</td>\n",
       "      <td>clip_6</td>\n",
       "      <td>55</td>\n",
       "      <td>[]</td>\n",
       "      <td>[]</td>\n",
       "      <td>../../00_Dataset/Amateur/Video_1/clip_6/55.jpg</td>\n",
       "      <td>[{'x': 366, 'y': 541, 'visibility': 'Difficult'}]</td>\n",
       "    </tr>\n",
       "    <tr>\n",
       "      <th>3</th>\n",
       "      <td>Amateur</td>\n",
       "      <td>Video_1</td>\n",
       "      <td>clip_6</td>\n",
       "      <td>56</td>\n",
       "      <td>[]</td>\n",
       "      <td>[]</td>\n",
       "      <td>../../00_Dataset/Amateur/Video_1/clip_6/56.jpg</td>\n",
       "      <td>[{'x': 368, 'y': 536, 'visibility': 'Difficult'}]</td>\n",
       "    </tr>\n",
       "    <tr>\n",
       "      <th>4</th>\n",
       "      <td>Amateur</td>\n",
       "      <td>Video_1</td>\n",
       "      <td>clip_6</td>\n",
       "      <td>57</td>\n",
       "      <td>[]</td>\n",
       "      <td>[]</td>\n",
       "      <td>../../00_Dataset/Amateur/Video_1/clip_6/57.jpg</td>\n",
       "      <td>[{'x': 370, 'y': 536, 'visibility': 'Difficult'}]</td>\n",
       "    </tr>\n",
       "  </tbody>\n",
       "</table>\n",
       "</div>"
      ],
      "text/plain": [
       "    subset    video    clip frame ball_points player_bbox  \\\n",
       "0  Amateur  Video_1  clip_6    53          []          []   \n",
       "1  Amateur  Video_1  clip_6    54          []          []   \n",
       "2  Amateur  Video_1  clip_6    55          []          []   \n",
       "3  Amateur  Video_1  clip_6    56          []          []   \n",
       "4  Amateur  Video_1  clip_6    57          []          []   \n",
       "\n",
       "                                        file_path  \\\n",
       "0  ../../00_Dataset/Amateur/Video_1/clip_6/53.jpg   \n",
       "1  ../../00_Dataset/Amateur/Video_1/clip_6/54.jpg   \n",
       "2  ../../00_Dataset/Amateur/Video_1/clip_6/55.jpg   \n",
       "3  ../../00_Dataset/Amateur/Video_1/clip_6/56.jpg   \n",
       "4  ../../00_Dataset/Amateur/Video_1/clip_6/57.jpg   \n",
       "\n",
       "                                              points  \n",
       "0    [{'x': 366, 'y': 552, 'visibility': 'Visible'}]  \n",
       "1    [{'x': 366, 'y': 548, 'visibility': 'Visible'}]  \n",
       "2  [{'x': 366, 'y': 541, 'visibility': 'Difficult'}]  \n",
       "3  [{'x': 368, 'y': 536, 'visibility': 'Difficult'}]  \n",
       "4  [{'x': 370, 'y': 536, 'visibility': 'Difficult'}]  "
      ]
     },
     "execution_count": 14,
     "metadata": {},
     "output_type": "execute_result"
    }
   ],
   "source": [
    "result_df.head()"
   ]
  },
  {
   "cell_type": "code",
   "execution_count": 25,
   "metadata": {},
   "outputs": [],
   "source": [
    "# calculate tp, fp, tn, fn\n",
    "def calculate_metrics_strict(gt_balls, pred_balls, distance_threshold=5):\n",
    "    if len(gt_balls) == 0 and len(pred_balls) == 0:\n",
    "        return 0, 0, 1, 0\n",
    "    \n",
    "    if len(gt_balls) == 0 and len(pred_balls) > 0:\n",
    "        return 0, 1, 0, 0\n",
    "    \n",
    "    if len(gt_balls) > 0 and len(pred_balls) == 0:\n",
    "        return 0, 0, 0, 1\n",
    "    \n",
    "    # if more pred than gt return 1 as false positive\n",
    "    if len(pred_balls) > len(gt_balls):\n",
    "        return 0, 1, 0, 0\n",
    "    \n",
    "    # if exacly one for each\n",
    "    if len(pred_balls) == 1 and len(gt_balls) == 1:\n",
    "        #calculate euclidean distance\n",
    "        distance = np.linalg.norm(np.array(gt_balls[0]) - np.array(pred_balls[0]))\n",
    "\n",
    "        if distance < distance_threshold:\n",
    "            return 1, 0, 0, 0\n",
    "        else:\n",
    "            return 0, 1, 0, 0\n",
    "    return 0, 0, 0 ,0\n",
    "\n",
    "# calculate tp, fp, tn, fn\n",
    "def calculate_metrics_loose(gt_balls, pred_balls, distance_threshold=5):\n",
    "    if len(gt_balls) == 0 and len(pred_balls) == 0:\n",
    "        return 0, 0, 1, 0\n",
    "    \n",
    "    if len(gt_balls) == 0 and len(pred_balls) > 0:\n",
    "        return 0, 1, 0, 0\n",
    "    \n",
    "    if len(gt_balls) > 0 and len(pred_balls) == 0:\n",
    "        return 0, 0, 0, 1\n",
    "    \n",
    "    # if pred balls contains all gt balls tp\n",
    "    for gt_ball in gt_balls:\n",
    "        for pred_ball in pred_balls:\n",
    "            distance = np.linalg.norm(np.array((gt_ball[\"x\"], gt_ball[\"y\"])) - np.array(pred_ball))\n",
    "            if distance < distance_threshold:\n",
    "                return 1, 0, 0, 0\n",
    "            \n",
    "    return 0, 0, 0 ,0\n",
    "\n",
    "# def caluclate metrics \n",
    "def calculate_metrics_df(df, loose=True):\n",
    "    tp = 0\n",
    "    fp = 0\n",
    "    tn = 0\n",
    "    fn = 0\n",
    "\n",
    "    for index, row in df.iterrows():\n",
    "        gt_balls = row['points']\n",
    "        pred_balls = row['ball_points']\n",
    "        if loose:\n",
    "            tp_frame, fp_frame, tn_frame, fn_frame = calculate_metrics_loose(gt_balls, pred_balls)\n",
    "        else:\n",
    "            tp_frame, fp_frame, tn_frame, fn_frame = calculate_metrics_strict(gt_balls, pred_balls)\n",
    "        tp += tp_frame\n",
    "        fp += fp_frame\n",
    "        tn += tn_frame\n",
    "        fn += fn_frame\n",
    "\n",
    "    return tp, fp, tn, fn"
   ]
  },
  {
   "cell_type": "code",
   "execution_count": 23,
   "metadata": {},
   "outputs": [],
   "source": [
    "def calculate_agg_metrics(tp, fp, tn, fn):\n",
    "    # Calculate metrics\n",
    "    accuracy = (tp + tn) / (tp + tn + fp + fn) if (tp + tn + fp + fn) > 0 else 0\n",
    "    precision = tp / (tp + fp) if (tp + fp) > 0 else 0\n",
    "    recall = tp / (tp + fn) if (tp + fn) > 0 else 0\n",
    "    f1 = (2 * precision * recall) / (precision + recall) if (precision + recall) > 0 else 0\n",
    "\n",
    "    metrics = {'Accuracy': accuracy, 'F1 Score': f1, 'Precision': precision, 'Recall': recall}\n",
    "    return metrics\n",
    "\n",
    "def plot_metrics_and_confusion_matrix(tp, fp, tn, fn):\n",
    "    \"\"\"Calculate and plot accuracy, F1 score, precision, recall, and the confusion matrix.\"\"\"\n",
    "    \n",
    "    # Calculate metrics\n",
    "    metrics = calculate_agg_metrics(tp, fp, tn, fn)\n",
    "\n",
    "    # Create confusion matrix\n",
    "    confusion_matrix = np.array([[tp, fp], [fn, tn]])\n",
    "    labels_x = [\"Predicted Positive\", \"Predicted Negative\"]\n",
    "    labels_y = [\"Actual Positive\", \"Actual Negative\"]\n",
    "    \n",
    "    # Plot confusion matrix\n",
    "    plt.figure(figsize=(6, 6))\n",
    "    sns.heatmap(confusion_matrix, annot=True, fmt=\"d\", cmap=\"Blues\", xticklabels=labels_x, yticklabels=labels_y)\n",
    "    plt.title(\"Confusion Matrix\")\n",
    "    plt.ylabel(\"Actual\")\n",
    "    plt.xlabel(\"Predicted\")\n",
    "    plt.show()\n",
    "\n",
    "    return metrics"
   ]
  },
  {
   "cell_type": "code",
   "execution_count": 26,
   "metadata": {},
   "outputs": [
    {
     "data": {
      "image/png": "[encoded data removed]",
      "text/plain": [
       "<Figure size 600x600 with 2 Axes>"
      ]
     },
     "metadata": {},
     "output_type": "display_data"
    },
    {
     "name": "stdout",
     "output_type": "stream",
     "text": [
      "Metrics:\n",
      "Accuracy: 0.67\n",
      "F1 Score: 0.78\n",
      "Precision: 0.82\n",
      "Recall: 0.75\n"
     ]
    }
   ],
   "source": [
    "tp, fp, tn, fn = calculate_metrics_df(result_df)\n",
    "metrics = plot_metrics_and_confusion_matrix(tp, fp, tn, fn)\n",
    "\n",
    "print(\"Metrics:\")\n",
    "print(f\"Accuracy: {metrics['Accuracy']:.2f}\")\n",
    "print(f\"F1 Score: {metrics['F1 Score']:.2f}\")\n",
    "print(f\"Precision: {metrics['Precision']:.2f}\")\n",
    "print(f\"Recall: {metrics['Recall']:.2f}\")"
   ]
  },
  {
   "cell_type": "markdown",
   "metadata": {},
   "source": [
    "## Hyperparametertuning using WandB"
   ]
  },
  {
   "cell_type": "code",
   "execution_count": 27,
   "metadata": {},
   "outputs": [],
   "source": [
    "sweep_config = {\n",
    "    'method': 'bayes',  \n",
    "    'metric': {\n",
    "        'name': 'F1 Score',\n",
    "        'goal': 'maximize'   \n",
    "    },\n",
    "    'parameters': {\n",
    "        'BG_HISTORY': {'values': [100, 300, 500]},\n",
    "        'BG_VAR_THRESHOLD': {'values': [16, 32, 48]},\n",
    "        'DILATE_ITERATIONS': {'values': [1, 2, 3]},\n",
    "        'ERODE_ITERATIONS': {'values': [1, 2, 3]},\n",
    "        'BALL_MIN_AREA': {'values': [5, 10, 20]},\n",
    "        'BALL_MAX_AREA': {'values': [50, 100, 150]},\n",
    "    }\n",
    "}"
   ]
  },
  {
   "cell_type": "code",
   "execution_count": 28,
   "metadata": {},
   "outputs": [],
   "source": [
    "bestF1 = 0\n",
    "best_config = None\n",
    "\n",
    "def train(config=None):\n",
    "    global bestF1\n",
    "    global best_config\n",
    "    \n",
    "    with wandb.init(config=config) as run:\n",
    "        config = wandb.config\n",
    "        \n",
    "        # Set hyperparameters\n",
    "        global BG_HISTORY, BG_VAR_THRESHOLD, DILATE_ITERATIONS, ERODE_ITERATIONS, BALL_MIN_AREA, BALL_MAX_AREA\n",
    "        BG_HISTORY = config.BG_HISTORY\n",
    "        BG_VAR_THRESHOLD = config.BG_VAR_THRESHOLD\n",
    "        DILATE_ITERATIONS = config.DILATE_ITERATIONS\n",
    "        ERODE_ITERATIONS = config.ERODE_ITERATIONS\n",
    "        BALL_MIN_AREA = config.BALL_MIN_AREA\n",
    "        BALL_MAX_AREA = config.BALL_MAX_AREA\n",
    "\n",
    "        result_df= pd.DataFrame(columns=['subset', 'video', 'clip', 'frame', 'ball_points', 'player_bbox'])\n",
    "\n",
    "        # loop over unique combinations\n",
    "        for i in tqdm(range(len(unique_combinations)), desc=\"Processing videos\"):\n",
    "            filtered_df = get_frames(df, unique_combinations.iloc[i]['subset'], unique_combinations.iloc[i]['video'], unique_combinations.iloc[i]['clip'])\n",
    "            filtered_df = process_image_sequence_just_annotations(filtered_df)\n",
    "            result_df = pd.concat([result_df, filtered_df])\n",
    "\n",
    "        # calculate tp, fp, tn, fn\n",
    "        tp, fp, tn, fn = calculate_metrics_df(result_df, loose=False)\n",
    "\n",
    "        # calculate metrics\n",
    "        metrics = calculate_agg_metrics(tp, fp, tn, fn)\n",
    "\n",
    "        #if f1 score is better than previous best, save model\n",
    "        if metrics['F1 Score'] > bestF1:\n",
    "            print(\"New best model found!: F1: \" + str(metrics['F1 Score']))\n",
    "            print(\"Old F1: \" + str(bestF1))\n",
    "            bestF1 = metrics['F1 Score']\n",
    "\n",
    "            # Save the best config\n",
    "            best_config = config\n",
    "\n",
    "        # log all metrics to wandb\n",
    "        wandb.log(metrics)"
   ]
  },
  {
   "cell_type": "code",
   "execution_count": null,
   "metadata": {},
   "outputs": [
    {
     "name": "stderr",
     "output_type": "stream",
     "text": [
      "\u001b[34m\u001b[1mwandb\u001b[0m: Using wandb-core as the SDK backend.  Please refer to https://wandb.me/wandb-core for more information.\n"
     ]
    },
    {
     "name": "stdout",
     "output_type": "stream",
     "text": [
      "Create sweep with ID: q1od8byn\n",
      "Sweep URL: https://wandb.ai/MasterarbeitBV/ball-tracking/sweeps/q1od8byn\n"
     ]
    },
    {
     "name": "stderr",
     "output_type": "stream",
     "text": [
      "\u001b[34m\u001b[1mwandb\u001b[0m: Agent Starting Run: vu9xn80e with config:\n",
      "\u001b[34m\u001b[1mwandb\u001b[0m: \tBALL_MAX_AREA: 100\n",
      "\u001b[34m\u001b[1mwandb\u001b[0m: \tBALL_MIN_AREA: 10\n",
      "\u001b[34m\u001b[1mwandb\u001b[0m: \tBG_HISTORY: 300\n",
      "\u001b[34m\u001b[1mwandb\u001b[0m: \tBG_VAR_THRESHOLD: 16\n",
      "\u001b[34m\u001b[1mwandb\u001b[0m: \tDILATE_ITERATIONS: 1\n",
      "\u001b[34m\u001b[1mwandb\u001b[0m: \tERODE_ITERATIONS: 3\n",
      "\u001b[34m\u001b[1mwandb\u001b[0m: Currently logged in as: \u001b[33mspleedy\u001b[0m (\u001b[33mMasterarbeitBV\u001b[0m). Use \u001b[1m`wandb login --relogin`\u001b[0m to force relogin\n"
     ]
    },
    {
     "data": {
      "text/html": [
       "Tracking run with wandb version 0.18.6"
      ],
      "text/plain": [
       "<IPython.core.display.HTML object>"
      ]
     },
     "metadata": {},
     "output_type": "display_data"
    },
    {
     "data": {
      "text/html": [
       "Run data is saved locally in <code>c:\\Users\\benev\\Documents\\Uni_Master\\Masterarbeit\\CODE\\4_BallTracking\\wandb\\run-20241118_133604-vu9xn80e</code>"
      ],
      "text/plain": [
       "<IPython.core.display.HTML object>"
      ]
     },
     "metadata": {},
     "output_type": "display_data"
    },
    {
     "data": {
      "text/html": [
       "Syncing run <strong><a href='https://wandb.ai/MasterarbeitBV/ball-tracking/runs/vu9xn80e' target=\"_blank\">fancy-sweep-1</a></strong> to <a href='https://wandb.ai/MasterarbeitBV/ball-tracking' target=\"_blank\">Weights & Biases</a> (<a href='https://wandb.me/developer-guide' target=\"_blank\">docs</a>)<br/>Sweep page: <a href='https://wandb.ai/MasterarbeitBV/ball-tracking/sweeps/q1od8byn' target=\"_blank\">https://wandb.ai/MasterarbeitBV/ball-tracking/sweeps/q1od8byn</a>"
      ],
      "text/plain": [
       "<IPython.core.display.HTML object>"
      ]
     },
     "metadata": {},
     "output_type": "display_data"
    },
    {
     "data": {
      "text/html": [
       " View project at <a href='https://wandb.ai/MasterarbeitBV/ball-tracking' target=\"_blank\">https://wandb.ai/MasterarbeitBV/ball-tracking</a>"
      ],
      "text/plain": [
       "<IPython.core.display.HTML object>"
      ]
     },
     "metadata": {},
     "output_type": "display_data"
    },
    {
     "data": {
      "text/html": [
       " View sweep at <a href='https://wandb.ai/MasterarbeitBV/ball-tracking/sweeps/q1od8byn' target=\"_blank\">https://wandb.ai/MasterarbeitBV/ball-tracking/sweeps/q1od8byn</a>"
      ],
      "text/plain": [
       "<IPython.core.display.HTML object>"
      ]
     },
     "metadata": {},
     "output_type": "display_data"
    },
    {
     "data": {
      "text/html": [
       " View run at <a href='https://wandb.ai/MasterarbeitBV/ball-tracking/runs/vu9xn80e' target=\"_blank\">https://wandb.ai/MasterarbeitBV/ball-tracking/runs/vu9xn80e</a>"
      ],
      "text/plain": [
       "<IPython.core.display.HTML object>"
      ]
     },
     "metadata": {},
     "output_type": "display_data"
    },
    {
     "name": "stderr",
     "output_type": "stream",
     "text": [
      "Processing videos: 100%|██████████| 42/42 [03:39<00:00,  5.23s/it]\n"
     ]
    },
    {
     "name": "stdout",
     "output_type": "stream",
     "text": [
      "New best model found!: F1: 0.013966956225515244\n",
      "Old F1: 0\n"
     ]
    },
    {
     "data": {
      "text/html": [
       "\n",
       "    <style>\n",
       "        .wandb-row {\n",
       "            display: flex;\n",
       "            flex-direction: row;\n",
       "            flex-wrap: wrap;\n",
       "            justify-content: flex-start;\n",
       "            width: 100%;\n",
       "        }\n",
       "        .wandb-col {\n",
       "            display: flex;\n",
       "            flex-direction: column;\n",
       "            flex-basis: 100%;\n",
       "            flex: 1;\n",
       "            padding: 10px;\n",
       "        }\n",
       "    </style>\n",
       "<div class=\"wandb-row\"><div class=\"wandb-col\"><h3>Run history:</h3><br/><table class=\"wandb\"><tr><td>Accuracy</td><td>▁</td></tr><tr><td>F1 Score</td><td>▁</td></tr><tr><td>Precision</td><td>▁</td></tr><tr><td>Recall</td><td>▁</td></tr></table><br/></div><div class=\"wandb-col\"><h3>Run summary:</h3><br/><table class=\"wandb\"><tr><td>Accuracy</td><td>0.05339</td></tr><tr><td>F1 Score</td><td>0.01397</td></tr><tr><td>Precision</td><td>0.00949</td></tr><tr><td>Recall</td><td>0.02641</td></tr></table><br/></div></div>"
      ],
      "text/plain": [
       "<IPython.core.display.HTML object>"
      ]
     },
     "metadata": {},
     "output_type": "display_data"
    },
    {
     "data": {
      "text/html": [
       " View run <strong style=\"color:#cdcd00\">fancy-sweep-1</strong> at: <a href='https://wandb.ai/MasterarbeitBV/ball-tracking/runs/vu9xn80e' target=\"_blank\">https://wandb.ai/MasterarbeitBV/ball-tracking/runs/vu9xn80e</a><br/> View project at: <a href='https://wandb.ai/MasterarbeitBV/ball-tracking' target=\"_blank\">https://wandb.ai/MasterarbeitBV/ball-tracking</a><br/>Synced 5 W&B file(s), 0 media file(s), 0 artifact file(s) and 0 other file(s)"
      ],
      "text/plain": [
       "<IPython.core.display.HTML object>"
      ]
     },
     "metadata": {},
     "output_type": "display_data"
    },
    {
     "data": {
      "text/html": [
       "Find logs at: <code>.\\wandb\\run-20241118_133604-vu9xn80e\\logs</code>"
      ],
      "text/plain": [
       "<IPython.core.display.HTML object>"
      ]
     },
     "metadata": {},
     "output_type": "display_data"
    },
    {
     "name": "stderr",
     "output_type": "stream",
     "text": [
      "\u001b[34m\u001b[1mwandb\u001b[0m: Agent Starting Run: k925qtwq with config:\n",
      "\u001b[34m\u001b[1mwandb\u001b[0m: \tBALL_MAX_AREA: 100\n",
      "\u001b[34m\u001b[1mwandb\u001b[0m: \tBALL_MIN_AREA: 20\n",
      "\u001b[34m\u001b[1mwandb\u001b[0m: \tBG_HISTORY: 500\n",
      "\u001b[34m\u001b[1mwandb\u001b[0m: \tBG_VAR_THRESHOLD: 16\n",
      "\u001b[34m\u001b[1mwandb\u001b[0m: \tDILATE_ITERATIONS: 1\n",
      "\u001b[34m\u001b[1mwandb\u001b[0m: \tERODE_ITERATIONS: 2\n"
     ]
    },
    {
     "data": {
      "text/html": [
       "Tracking run with wandb version 0.18.6"
      ],
      "text/plain": [
       "<IPython.core.display.HTML object>"
      ]
     },
     "metadata": {},
     "output_type": "display_data"
    },
    {
     "data": {
      "text/html": [
       "Run data is saved locally in <code>c:\\Users\\benev\\Documents\\Uni_Master\\Masterarbeit\\CODE\\4_BallTracking\\wandb\\run-20241118_133953-k925qtwq</code>"
      ],
      "text/plain": [
       "<IPython.core.display.HTML object>"
      ]
     },
     "metadata": {},
     "output_type": "display_data"
    },
    {
     "data": {
      "text/html": [
       "Syncing run <strong><a href='https://wandb.ai/MasterarbeitBV/ball-tracking/runs/k925qtwq' target=\"_blank\">snowy-sweep-2</a></strong> to <a href='https://wandb.ai/MasterarbeitBV/ball-tracking' target=\"_blank\">Weights & Biases</a> (<a href='https://wandb.me/developer-guide' target=\"_blank\">docs</a>)<br/>Sweep page: <a href='https://wandb.ai/MasterarbeitBV/ball-tracking/sweeps/q1od8byn' target=\"_blank\">https://wandb.ai/MasterarbeitBV/ball-tracking/sweeps/q1od8byn</a>"
      ],
      "text/plain": [
       "<IPython.core.display.HTML object>"
      ]
     },
     "metadata": {},
     "output_type": "display_data"
    },
    {
     "data": {
      "text/html": [
       " View project at <a href='https://wandb.ai/MasterarbeitBV/ball-tracking' target=\"_blank\">https://wandb.ai/MasterarbeitBV/ball-tracking</a>"
      ],
      "text/plain": [
       "<IPython.core.display.HTML object>"
      ]
     },
     "metadata": {},
     "output_type": "display_data"
    },
    {
     "data": {
      "text/html": [
       " View sweep at <a href='https://wandb.ai/MasterarbeitBV/ball-tracking/sweeps/q1od8byn' target=\"_blank\">https://wandb.ai/MasterarbeitBV/ball-tracking/sweeps/q1od8byn</a>"
      ],
      "text/plain": [
       "<IPython.core.display.HTML object>"
      ]
     },
     "metadata": {},
     "output_type": "display_data"
    },
    {
     "data": {
      "text/html": [
       " View run at <a href='https://wandb.ai/MasterarbeitBV/ball-tracking/runs/k925qtwq' target=\"_blank\">https://wandb.ai/MasterarbeitBV/ball-tracking/runs/k925qtwq</a>"
      ],
      "text/plain": [
       "<IPython.core.display.HTML object>"
      ]
     },
     "metadata": {},
     "output_type": "display_data"
    },
    {
     "name": "stderr",
     "output_type": "stream",
     "text": [
      "Processing videos: 100%|██████████| 42/42 [03:40<00:00,  5.24s/it]\n"
     ]
    },
    {
     "name": "stdout",
     "output_type": "stream",
     "text": [
      "New best model found!: F1: 0.04193084791613831\n",
      "Old F1: 0.013966956225515244\n"
     ]
    },
    {
     "data": {
      "text/html": [
       "\n",
       "    <style>\n",
       "        .wandb-row {\n",
       "            display: flex;\n",
       "            flex-direction: row;\n",
       "            flex-wrap: wrap;\n",
       "            justify-content: flex-start;\n",
       "            width: 100%;\n",
       "        }\n",
       "        .wandb-col {\n",
       "            display: flex;\n",
       "            flex-direction: column;\n",
       "            flex-basis: 100%;\n",
       "            flex: 1;\n",
       "            padding: 10px;\n",
       "        }\n",
       "    </style>\n",
       "<div class=\"wandb-row\"><div class=\"wandb-col\"><h3>Run history:</h3><br/><table class=\"wandb\"><tr><td>Accuracy</td><td>▁</td></tr><tr><td>F1 Score</td><td>▁</td></tr><tr><td>Precision</td><td>▁</td></tr><tr><td>Recall</td><td>▁</td></tr></table><br/></div><div class=\"wandb-col\"><h3>Run summary:</h3><br/><table class=\"wandb\"><tr><td>Accuracy</td><td>0.07342</td></tr><tr><td>F1 Score</td><td>0.04193</td></tr><tr><td>Precision</td><td>0.03334</td></tr><tr><td>Recall</td><td>0.05649</td></tr></table><br/></div></div>"
      ],
      "text/plain": [
       "<IPython.core.display.HTML object>"
      ]
     },
     "metadata": {},
     "output_type": "display_data"
    },
    {
     "data": {
      "text/html": [
       " View run <strong style=\"color:#cdcd00\">snowy-sweep-2</strong> at: <a href='https://wandb.ai/MasterarbeitBV/ball-tracking/runs/k925qtwq' target=\"_blank\">https://wandb.ai/MasterarbeitBV/ball-tracking/runs/k925qtwq</a><br/> View project at: <a href='https://wandb.ai/MasterarbeitBV/ball-tracking' target=\"_blank\">https://wandb.ai/MasterarbeitBV/ball-tracking</a><br/>Synced 5 W&B file(s), 0 media file(s), 0 artifact file(s) and 0 other file(s)"
      ],
      "text/plain": [
       "<IPython.core.display.HTML object>"
      ]
     },
     "metadata": {},
     "output_type": "display_data"
    },
    {
     "data": {
      "text/html": [
       "Find logs at: <code>.\\wandb\\run-20241118_133953-k925qtwq\\logs</code>"
      ],
      "text/plain": [
       "<IPython.core.display.HTML object>"
      ]
     },
     "metadata": {},
     "output_type": "display_data"
    },
    {
     "name": "stderr",
     "output_type": "stream",
     "text": [
      "\u001b[34m\u001b[1mwandb\u001b[0m: Sweep Agent: Waiting for job.\n",
      "\u001b[34m\u001b[1mwandb\u001b[0m: Job received.\n",
      "\u001b[34m\u001b[1mwandb\u001b[0m: Agent Starting Run: qk4n0heh with config:\n",
      "\u001b[34m\u001b[1mwandb\u001b[0m: \tBALL_MAX_AREA: 150\n",
      "\u001b[34m\u001b[1mwandb\u001b[0m: \tBALL_MIN_AREA: 5\n",
      "\u001b[34m\u001b[1mwandb\u001b[0m: \tBG_HISTORY: 300\n",
      "\u001b[34m\u001b[1mwandb\u001b[0m: \tBG_VAR_THRESHOLD: 48\n",
      "\u001b[34m\u001b[1mwandb\u001b[0m: \tDILATE_ITERATIONS: 2\n",
      "\u001b[34m\u001b[1mwandb\u001b[0m: \tERODE_ITERATIONS: 3\n"
     ]
    },
    {
     "data": {
      "text/html": [
       "Tracking run with wandb version 0.18.6"
      ],
      "text/plain": [
       "<IPython.core.display.HTML object>"
      ]
     },
     "metadata": {},
     "output_type": "display_data"
    },
    {
     "data": {
      "text/html": [
       "Run data is saved locally in <code>c:\\Users\\benev\\Documents\\Uni_Master\\Masterarbeit\\CODE\\4_BallTracking\\wandb\\run-20241118_134347-qk4n0heh</code>"
      ],
      "text/plain": [
       "<IPython.core.display.HTML object>"
      ]
     },
     "metadata": {},
     "output_type": "display_data"
    },
    {
     "data": {
      "text/html": [
       "Syncing run <strong><a href='https://wandb.ai/MasterarbeitBV/ball-tracking/runs/qk4n0heh' target=\"_blank\">grateful-sweep-3</a></strong> to <a href='https://wandb.ai/MasterarbeitBV/ball-tracking' target=\"_blank\">Weights & Biases</a> (<a href='https://wandb.me/developer-guide' target=\"_blank\">docs</a>)<br/>Sweep page: <a href='https://wandb.ai/MasterarbeitBV/ball-tracking/sweeps/q1od8byn' target=\"_blank\">https://wandb.ai/MasterarbeitBV/ball-tracking/sweeps/q1od8byn</a>"
      ],
      "text/plain": [
       "<IPython.core.display.HTML object>"
      ]
     },
     "metadata": {},
     "output_type": "display_data"
    },
    {
     "data": {
      "text/html": [
       " View project at <a href='https://wandb.ai/MasterarbeitBV/ball-tracking' target=\"_blank\">https://wandb.ai/MasterarbeitBV/ball-tracking</a>"
      ],
      "text/plain": [
       "<IPython.core.display.HTML object>"
      ]
     },
     "metadata": {},
     "output_type": "display_data"
    },
    {
     "data": {
      "text/html": [
       " View sweep at <a href='https://wandb.ai/MasterarbeitBV/ball-tracking/sweeps/q1od8byn' target=\"_blank\">https://wandb.ai/MasterarbeitBV/ball-tracking/sweeps/q1od8byn</a>"
      ],
      "text/plain": [
       "<IPython.core.display.HTML object>"
      ]
     },
     "metadata": {},
     "output_type": "display_data"
    },
    {
     "data": {
      "text/html": [
       " View run at <a href='https://wandb.ai/MasterarbeitBV/ball-tracking/runs/qk4n0heh' target=\"_blank\">https://wandb.ai/MasterarbeitBV/ball-tracking/runs/qk4n0heh</a>"
      ],
      "text/plain": [
       "<IPython.core.display.HTML object>"
      ]
     },
     "metadata": {},
     "output_type": "display_data"
    },
    {
     "name": "stderr",
     "output_type": "stream",
     "text": [
      "Processing videos: 100%|██████████| 42/42 [03:40<00:00,  5.24s/it]\n"
     ]
    },
    {
     "name": "stdout",
     "output_type": "stream",
     "text": [
      "New best model found!: F1: 0.062387128550320144\n",
      "Old F1: 0.04193084791613831\n"
     ]
    },
    {
     "data": {
      "text/html": [
       "\n",
       "    <style>\n",
       "        .wandb-row {\n",
       "            display: flex;\n",
       "            flex-direction: row;\n",
       "            flex-wrap: wrap;\n",
       "            justify-content: flex-start;\n",
       "            width: 100%;\n",
       "        }\n",
       "        .wandb-col {\n",
       "            display: flex;\n",
       "            flex-direction: column;\n",
       "            flex-basis: 100%;\n",
       "            flex: 1;\n",
       "            padding: 10px;\n",
       "        }\n",
       "    </style>\n",
       "<div class=\"wandb-row\"><div class=\"wandb-col\"><h3>Run history:</h3><br/><table class=\"wandb\"><tr><td>Accuracy</td><td>▁</td></tr><tr><td>F1 Score</td><td>▁</td></tr><tr><td>Precision</td><td>▁</td></tr><tr><td>Recall</td><td>▁</td></tr></table><br/></div><div class=\"wandb-col\"><h3>Run summary:</h3><br/><table class=\"wandb\"><tr><td>Accuracy</td><td>0.06614</td></tr><tr><td>F1 Score</td><td>0.06239</td></tr><tr><td>Precision</td><td>0.03907</td></tr><tr><td>Recall</td><td>0.15466</td></tr></table><br/></div></div>"
      ],
      "text/plain": [
       "<IPython.core.display.HTML object>"
      ]
     },
     "metadata": {},
     "output_type": "display_data"
    },
    {
     "data": {
      "text/html": [
       " View run <strong style=\"color:#cdcd00\">grateful-sweep-3</strong> at: <a href='https://wandb.ai/MasterarbeitBV/ball-tracking/runs/qk4n0heh' target=\"_blank\">https://wandb.ai/MasterarbeitBV/ball-tracking/runs/qk4n0heh</a><br/> View project at: <a href='https://wandb.ai/MasterarbeitBV/ball-tracking' target=\"_blank\">https://wandb.ai/MasterarbeitBV/ball-tracking</a><br/>Synced 5 W&B file(s), 0 media file(s), 0 artifact file(s) and 0 other file(s)"
      ],
      "text/plain": [
       "<IPython.core.display.HTML object>"
      ]
     },
     "metadata": {},
     "output_type": "display_data"
    },
    {
     "data": {
      "text/html": [
       "Find logs at: <code>.\\wandb\\run-20241118_134347-qk4n0heh\\logs</code>"
      ],
      "text/plain": [
       "<IPython.core.display.HTML object>"
      ]
     },
     "metadata": {},
     "output_type": "display_data"
    },
    {
     "name": "stderr",
     "output_type": "stream",
     "text": [
      "\u001b[34m\u001b[1mwandb\u001b[0m: Agent Starting Run: 99ukld5q with config:\n",
      "\u001b[34m\u001b[1mwandb\u001b[0m: \tBALL_MAX_AREA: 50\n",
      "\u001b[34m\u001b[1mwandb\u001b[0m: \tBALL_MIN_AREA: 10\n",
      "\u001b[34m\u001b[1mwandb\u001b[0m: \tBG_HISTORY: 300\n",
      "\u001b[34m\u001b[1mwandb\u001b[0m: \tBG_VAR_THRESHOLD: 16\n",
      "\u001b[34m\u001b[1mwandb\u001b[0m: \tDILATE_ITERATIONS: 3\n",
      "\u001b[34m\u001b[1mwandb\u001b[0m: \tERODE_ITERATIONS: 1\n"
     ]
    },
    {
     "data": {
      "text/html": [
       "Tracking run with wandb version 0.18.6"
      ],
      "text/plain": [
       "<IPython.core.display.HTML object>"
      ]
     },
     "metadata": {},
     "output_type": "display_data"
    },
    {
     "data": {
      "text/html": [
       "Run data is saved locally in <code>c:\\Users\\benev\\Documents\\Uni_Master\\Masterarbeit\\CODE\\4_BallTracking\\wandb\\run-20241118_134733-99ukld5q</code>"
      ],
      "text/plain": [
       "<IPython.core.display.HTML object>"
      ]
     },
     "metadata": {},
     "output_type": "display_data"
    },
    {
     "data": {
      "text/html": [
       "Syncing run <strong><a href='https://wandb.ai/MasterarbeitBV/ball-tracking/runs/99ukld5q' target=\"_blank\">balmy-sweep-4</a></strong> to <a href='https://wandb.ai/MasterarbeitBV/ball-tracking' target=\"_blank\">Weights & Biases</a> (<a href='https://wandb.me/developer-guide' target=\"_blank\">docs</a>)<br/>Sweep page: <a href='https://wandb.ai/MasterarbeitBV/ball-tracking/sweeps/q1od8byn' target=\"_blank\">https://wandb.ai/MasterarbeitBV/ball-tracking/sweeps/q1od8byn</a>"
      ],
      "text/plain": [
       "<IPython.core.display.HTML object>"
      ]
     },
     "metadata": {},
     "output_type": "display_data"
    },
    {
     "data": {
      "text/html": [
       " View project at <a href='https://wandb.ai/MasterarbeitBV/ball-tracking' target=\"_blank\">https://wandb.ai/MasterarbeitBV/ball-tracking</a>"
      ],
      "text/plain": [
       "<IPython.core.display.HTML object>"
      ]
     },
     "metadata": {},
     "output_type": "display_data"
    },
    {
     "data": {
      "text/html": [
       " View sweep at <a href='https://wandb.ai/MasterarbeitBV/ball-tracking/sweeps/q1od8byn' target=\"_blank\">https://wandb.ai/MasterarbeitBV/ball-tracking/sweeps/q1od8byn</a>"
      ],
      "text/plain": [
       "<IPython.core.display.HTML object>"
      ]
     },
     "metadata": {},
     "output_type": "display_data"
    },
    {
     "data": {
      "text/html": [
       " View run at <a href='https://wandb.ai/MasterarbeitBV/ball-tracking/runs/99ukld5q' target=\"_blank\">https://wandb.ai/MasterarbeitBV/ball-tracking/runs/99ukld5q</a>"
      ],
      "text/plain": [
       "<IPython.core.display.HTML object>"
      ]
     },
     "metadata": {},
     "output_type": "display_data"
    },
    {
     "name": "stderr",
     "output_type": "stream",
     "text": [
      "Processing videos: 100%|██████████| 42/42 [03:46<00:00,  5.39s/it]\n"
     ]
    },
    {
     "name": "stdout",
     "output_type": "stream",
     "text": [
      "New best model found!: F1: 0.15523042015491745\n",
      "Old F1: 0.062387128550320144\n"
     ]
    },
    {
     "data": {
      "text/html": [
       "\n",
       "    <style>\n",
       "        .wandb-row {\n",
       "            display: flex;\n",
       "            flex-direction: row;\n",
       "            flex-wrap: wrap;\n",
       "            justify-content: flex-start;\n",
       "            width: 100%;\n",
       "        }\n",
       "        .wandb-col {\n",
       "            display: flex;\n",
       "            flex-direction: column;\n",
       "            flex-basis: 100%;\n",
       "            flex: 1;\n",
       "            padding: 10px;\n",
       "        }\n",
       "    </style>\n",
       "<div class=\"wandb-row\"><div class=\"wandb-col\"><h3>Run history:</h3><br/><table class=\"wandb\"><tr><td>Accuracy</td><td>▁</td></tr><tr><td>F1 Score</td><td>▁</td></tr><tr><td>Precision</td><td>▁</td></tr><tr><td>Recall</td><td>▁</td></tr></table><br/></div><div class=\"wandb-col\"><h3>Run summary:</h3><br/><table class=\"wandb\"><tr><td>Accuracy</td><td>0.11724</td></tr><tr><td>F1 Score</td><td>0.15523</td></tr><tr><td>Precision</td><td>0.12937</td></tr><tr><td>Recall</td><td>0.19402</td></tr></table><br/></div></div>"
      ],
      "text/plain": [
       "<IPython.core.display.HTML object>"
      ]
     },
     "metadata": {},
     "output_type": "display_data"
    },
    {
     "data": {
      "text/html": [
       " View run <strong style=\"color:#cdcd00\">balmy-sweep-4</strong> at: <a href='https://wandb.ai/MasterarbeitBV/ball-tracking/runs/99ukld5q' target=\"_blank\">https://wandb.ai/MasterarbeitBV/ball-tracking/runs/99ukld5q</a><br/> View project at: <a href='https://wandb.ai/MasterarbeitBV/ball-tracking' target=\"_blank\">https://wandb.ai/MasterarbeitBV/ball-tracking</a><br/>Synced 5 W&B file(s), 0 media file(s), 0 artifact file(s) and 0 other file(s)"
      ],
      "text/plain": [
       "<IPython.core.display.HTML object>"
      ]
     },
     "metadata": {},
     "output_type": "display_data"
    },
    {
     "data": {
      "text/html": [
       "Find logs at: <code>.\\wandb\\run-20241118_134733-99ukld5q\\logs</code>"
      ],
      "text/plain": [
       "<IPython.core.display.HTML object>"
      ]
     },
     "metadata": {},
     "output_type": "display_data"
    },
    {
     "name": "stderr",
     "output_type": "stream",
     "text": [
      "\u001b[34m\u001b[1mwandb\u001b[0m: Sweep Agent: Waiting for job.\n",
      "\u001b[34m\u001b[1mwandb\u001b[0m: Job received.\n",
      "\u001b[34m\u001b[1mwandb\u001b[0m: Agent Starting Run: bax7telv with config:\n",
      "\u001b[34m\u001b[1mwandb\u001b[0m: \tBALL_MAX_AREA: 50\n",
      "\u001b[34m\u001b[1mwandb\u001b[0m: \tBALL_MIN_AREA: 10\n",
      "\u001b[34m\u001b[1mwandb\u001b[0m: \tBG_HISTORY: 300\n",
      "\u001b[34m\u001b[1mwandb\u001b[0m: \tBG_VAR_THRESHOLD: 32\n",
      "\u001b[34m\u001b[1mwandb\u001b[0m: \tDILATE_ITERATIONS: 3\n",
      "\u001b[34m\u001b[1mwandb\u001b[0m: \tERODE_ITERATIONS: 2\n"
     ]
    },
    {
     "data": {
      "text/html": [
       "Tracking run with wandb version 0.18.6"
      ],
      "text/plain": [
       "<IPython.core.display.HTML object>"
      ]
     },
     "metadata": {},
     "output_type": "display_data"
    },
    {
     "data": {
      "text/html": [
       "Run data is saved locally in <code>c:\\Users\\benev\\Documents\\Uni_Master\\Masterarbeit\\CODE\\4_BallTracking\\wandb\\run-20241118_135133-bax7telv</code>"
      ],
      "text/plain": [
       "<IPython.core.display.HTML object>"
      ]
     },
     "metadata": {},
     "output_type": "display_data"
    },
    {
     "data": {
      "text/html": [
       "Syncing run <strong><a href='https://wandb.ai/MasterarbeitBV/ball-tracking/runs/bax7telv' target=\"_blank\">spring-sweep-5</a></strong> to <a href='https://wandb.ai/MasterarbeitBV/ball-tracking' target=\"_blank\">Weights & Biases</a> (<a href='https://wandb.me/developer-guide' target=\"_blank\">docs</a>)<br/>Sweep page: <a href='https://wandb.ai/MasterarbeitBV/ball-tracking/sweeps/q1od8byn' target=\"_blank\">https://wandb.ai/MasterarbeitBV/ball-tracking/sweeps/q1od8byn</a>"
      ],
      "text/plain": [
       "<IPython.core.display.HTML object>"
      ]
     },
     "metadata": {},
     "output_type": "display_data"
    },
    {
     "data": {
      "text/html": [
       " View project at <a href='https://wandb.ai/MasterarbeitBV/ball-tracking' target=\"_blank\">https://wandb.ai/MasterarbeitBV/ball-tracking</a>"
      ],
      "text/plain": [
       "<IPython.core.display.HTML object>"
      ]
     },
     "metadata": {},
     "output_type": "display_data"
    },
    {
     "data": {
      "text/html": [
       " View sweep at <a href='https://wandb.ai/MasterarbeitBV/ball-tracking/sweeps/q1od8byn' target=\"_blank\">https://wandb.ai/MasterarbeitBV/ball-tracking/sweeps/q1od8byn</a>"
      ],
      "text/plain": [
       "<IPython.core.display.HTML object>"
      ]
     },
     "metadata": {},
     "output_type": "display_data"
    },
    {
     "data": {
      "text/html": [
       " View run at <a href='https://wandb.ai/MasterarbeitBV/ball-tracking/runs/bax7telv' target=\"_blank\">https://wandb.ai/MasterarbeitBV/ball-tracking/runs/bax7telv</a>"
      ],
      "text/plain": [
       "<IPython.core.display.HTML object>"
      ]
     },
     "metadata": {},
     "output_type": "display_data"
    },
    {
     "name": "stderr",
     "output_type": "stream",
     "text": [
      "Processing videos: 100%|██████████| 42/42 [03:44<00:00,  5.33s/it]\n"
     ]
    },
    {
     "name": "stdout",
     "output_type": "stream",
     "text": [
      "New best model found!: F1: 0.2626883135878309\n",
      "Old F1: 0.15523042015491745\n"
     ]
    },
    {
     "data": {
      "text/html": [
       "\n",
       "    <style>\n",
       "        .wandb-row {\n",
       "            display: flex;\n",
       "            flex-direction: row;\n",
       "            flex-wrap: wrap;\n",
       "            justify-content: flex-start;\n",
       "            width: 100%;\n",
       "        }\n",
       "        .wandb-col {\n",
       "            display: flex;\n",
       "            flex-direction: column;\n",
       "            flex-basis: 100%;\n",
       "            flex: 1;\n",
       "            padding: 10px;\n",
       "        }\n",
       "    </style>\n",
       "<div class=\"wandb-row\"><div class=\"wandb-col\"><h3>Run history:</h3><br/><table class=\"wandb\"><tr><td>Accuracy</td><td>▁</td></tr><tr><td>F1 Score</td><td>▁</td></tr><tr><td>Precision</td><td>▁</td></tr><tr><td>Recall</td><td>▁</td></tr></table><br/></div><div class=\"wandb-col\"><h3>Run summary:</h3><br/><table class=\"wandb\"><tr><td>Accuracy</td><td>0.1757</td></tr><tr><td>F1 Score</td><td>0.26269</td></tr><tr><td>Precision</td><td>0.19281</td></tr><tr><td>Recall</td><td>0.41202</td></tr></table><br/></div></div>"
      ],
      "text/plain": [
       "<IPython.core.display.HTML object>"
      ]
     },
     "metadata": {},
     "output_type": "display_data"
    },
    {
     "data": {
      "text/html": [
       " View run <strong style=\"color:#cdcd00\">spring-sweep-5</strong> at: <a href='https://wandb.ai/MasterarbeitBV/ball-tracking/runs/bax7telv' target=\"_blank\">https://wandb.ai/MasterarbeitBV/ball-tracking/runs/bax7telv</a><br/> View project at: <a href='https://wandb.ai/MasterarbeitBV/ball-tracking' target=\"_blank\">https://wandb.ai/MasterarbeitBV/ball-tracking</a><br/>Synced 5 W&B file(s), 0 media file(s), 0 artifact file(s) and 0 other file(s)"
      ],
      "text/plain": [
       "<IPython.core.display.HTML object>"
      ]
     },
     "metadata": {},
     "output_type": "display_data"
    },
    {
     "data": {
      "text/html": [
       "Find logs at: <code>.\\wandb\\run-20241118_135133-bax7telv\\logs</code>"
      ],
      "text/plain": [
       "<IPython.core.display.HTML object>"
      ]
     },
     "metadata": {},
     "output_type": "display_data"
    },
    {
     "name": "stderr",
     "output_type": "stream",
     "text": [
      "\u001b[34m\u001b[1mwandb\u001b[0m: Agent Starting Run: bzsqbkgy with config:\n",
      "\u001b[34m\u001b[1mwandb\u001b[0m: \tBALL_MAX_AREA: 100\n",
      "\u001b[34m\u001b[1mwandb\u001b[0m: \tBALL_MIN_AREA: 20\n",
      "\u001b[34m\u001b[1mwandb\u001b[0m: \tBG_HISTORY: 300\n",
      "\u001b[34m\u001b[1mwandb\u001b[0m: \tBG_VAR_THRESHOLD: 48\n",
      "\u001b[34m\u001b[1mwandb\u001b[0m: \tDILATE_ITERATIONS: 3\n",
      "\u001b[34m\u001b[1mwandb\u001b[0m: \tERODE_ITERATIONS: 2\n"
     ]
    },
    {
     "data": {
      "text/html": [
       "Tracking run with wandb version 0.18.6"
      ],
      "text/plain": [
       "<IPython.core.display.HTML object>"
      ]
     },
     "metadata": {},
     "output_type": "display_data"
    },
    {
     "data": {
      "text/html": [
       "Run data is saved locally in <code>c:\\Users\\benev\\Documents\\Uni_Master\\Masterarbeit\\CODE\\4_BallTracking\\wandb\\run-20241118_135525-bzsqbkgy</code>"
      ],
      "text/plain": [
       "<IPython.core.display.HTML object>"
      ]
     },
     "metadata": {},
     "output_type": "display_data"
    },
    {
     "data": {
      "text/html": [
       "Syncing run <strong><a href='https://wandb.ai/MasterarbeitBV/ball-tracking/runs/bzsqbkgy' target=\"_blank\">desert-sweep-6</a></strong> to <a href='https://wandb.ai/MasterarbeitBV/ball-tracking' target=\"_blank\">Weights & Biases</a> (<a href='https://wandb.me/developer-guide' target=\"_blank\">docs</a>)<br/>Sweep page: <a href='https://wandb.ai/MasterarbeitBV/ball-tracking/sweeps/q1od8byn' target=\"_blank\">https://wandb.ai/MasterarbeitBV/ball-tracking/sweeps/q1od8byn</a>"
      ],
      "text/plain": [
       "<IPython.core.display.HTML object>"
      ]
     },
     "metadata": {},
     "output_type": "display_data"
    },
    {
     "data": {
      "text/html": [
       " View project at <a href='https://wandb.ai/MasterarbeitBV/ball-tracking' target=\"_blank\">https://wandb.ai/MasterarbeitBV/ball-tracking</a>"
      ],
      "text/plain": [
       "<IPython.core.display.HTML object>"
      ]
     },
     "metadata": {},
     "output_type": "display_data"
    },
    {
     "data": {
      "text/html": [
       " View sweep at <a href='https://wandb.ai/MasterarbeitBV/ball-tracking/sweeps/q1od8byn' target=\"_blank\">https://wandb.ai/MasterarbeitBV/ball-tracking/sweeps/q1od8byn</a>"
      ],
      "text/plain": [
       "<IPython.core.display.HTML object>"
      ]
     },
     "metadata": {},
     "output_type": "display_data"
    },
    {
     "data": {
      "text/html": [
       " View run at <a href='https://wandb.ai/MasterarbeitBV/ball-tracking/runs/bzsqbkgy' target=\"_blank\">https://wandb.ai/MasterarbeitBV/ball-tracking/runs/bzsqbkgy</a>"
      ],
      "text/plain": [
       "<IPython.core.display.HTML object>"
      ]
     },
     "metadata": {},
     "output_type": "display_data"
    },
    {
     "name": "stderr",
     "output_type": "stream",
     "text": [
      "Processing videos: 100%|██████████| 42/42 [03:45<00:00,  5.37s/it]\n"
     ]
    },
    {
     "name": "stdout",
     "output_type": "stream",
     "text": [
      "New best model found!: F1: 0.28956083513318936\n",
      "Old F1: 0.2626883135878309\n"
     ]
    },
    {
     "data": {
      "text/html": [
       "\n",
       "    <style>\n",
       "        .wandb-row {\n",
       "            display: flex;\n",
       "            flex-direction: row;\n",
       "            flex-wrap: wrap;\n",
       "            justify-content: flex-start;\n",
       "            width: 100%;\n",
       "        }\n",
       "        .wandb-col {\n",
       "            display: flex;\n",
       "            flex-direction: column;\n",
       "            flex-basis: 100%;\n",
       "            flex: 1;\n",
       "            padding: 10px;\n",
       "        }\n",
       "    </style>\n",
       "<div class=\"wandb-row\"><div class=\"wandb-col\"><h3>Run history:</h3><br/><table class=\"wandb\"><tr><td>Accuracy</td><td>▁</td></tr><tr><td>F1 Score</td><td>▁</td></tr><tr><td>Precision</td><td>▁</td></tr><tr><td>Recall</td><td>▁</td></tr></table><br/></div><div class=\"wandb-col\"><h3>Run summary:</h3><br/><table class=\"wandb\"><tr><td>Accuracy</td><td>0.1932</td></tr><tr><td>F1 Score</td><td>0.28956</td></tr><tr><td>Precision</td><td>0.21533</td></tr><tr><td>Recall</td><td>0.44188</td></tr></table><br/></div></div>"
      ],
      "text/plain": [
       "<IPython.core.display.HTML object>"
      ]
     },
     "metadata": {},
     "output_type": "display_data"
    },
    {
     "data": {
      "text/html": [
       " View run <strong style=\"color:#cdcd00\">desert-sweep-6</strong> at: <a href='https://wandb.ai/MasterarbeitBV/ball-tracking/runs/bzsqbkgy' target=\"_blank\">https://wandb.ai/MasterarbeitBV/ball-tracking/runs/bzsqbkgy</a><br/> View project at: <a href='https://wandb.ai/MasterarbeitBV/ball-tracking' target=\"_blank\">https://wandb.ai/MasterarbeitBV/ball-tracking</a><br/>Synced 5 W&B file(s), 0 media file(s), 0 artifact file(s) and 0 other file(s)"
      ],
      "text/plain": [
       "<IPython.core.display.HTML object>"
      ]
     },
     "metadata": {},
     "output_type": "display_data"
    },
    {
     "data": {
      "text/html": [
       "Find logs at: <code>.\\wandb\\run-20241118_135525-bzsqbkgy\\logs</code>"
      ],
      "text/plain": [
       "<IPython.core.display.HTML object>"
      ]
     },
     "metadata": {},
     "output_type": "display_data"
    },
    {
     "name": "stderr",
     "output_type": "stream",
     "text": [
      "\u001b[34m\u001b[1mwandb\u001b[0m: Agent Starting Run: 5uflncog with config:\n",
      "\u001b[34m\u001b[1mwandb\u001b[0m: \tBALL_MAX_AREA: 50\n",
      "\u001b[34m\u001b[1mwandb\u001b[0m: \tBALL_MIN_AREA: 20\n",
      "\u001b[34m\u001b[1mwandb\u001b[0m: \tBG_HISTORY: 500\n",
      "\u001b[34m\u001b[1mwandb\u001b[0m: \tBG_VAR_THRESHOLD: 48\n",
      "\u001b[34m\u001b[1mwandb\u001b[0m: \tDILATE_ITERATIONS: 3\n",
      "\u001b[34m\u001b[1mwandb\u001b[0m: \tERODE_ITERATIONS: 3\n"
     ]
    },
    {
     "data": {
      "text/html": [
       "Tracking run with wandb version 0.18.6"
      ],
      "text/plain": [
       "<IPython.core.display.HTML object>"
      ]
     },
     "metadata": {},
     "output_type": "display_data"
    },
    {
     "data": {
      "text/html": [
       "Run data is saved locally in <code>c:\\Users\\benev\\Documents\\Uni_Master\\Masterarbeit\\CODE\\4_BallTracking\\wandb\\run-20241118_135919-5uflncog</code>"
      ],
      "text/plain": [
       "<IPython.core.display.HTML object>"
      ]
     },
     "metadata": {},
     "output_type": "display_data"
    },
    {
     "data": {
      "text/html": [
       "Syncing run <strong><a href='https://wandb.ai/MasterarbeitBV/ball-tracking/runs/5uflncog' target=\"_blank\">royal-sweep-7</a></strong> to <a href='https://wandb.ai/MasterarbeitBV/ball-tracking' target=\"_blank\">Weights & Biases</a> (<a href='https://wandb.me/developer-guide' target=\"_blank\">docs</a>)<br/>Sweep page: <a href='https://wandb.ai/MasterarbeitBV/ball-tracking/sweeps/q1od8byn' target=\"_blank\">https://wandb.ai/MasterarbeitBV/ball-tracking/sweeps/q1od8byn</a>"
      ],
      "text/plain": [
       "<IPython.core.display.HTML object>"
      ]
     },
     "metadata": {},
     "output_type": "display_data"
    },
    {
     "data": {
      "text/html": [
       " View project at <a href='https://wandb.ai/MasterarbeitBV/ball-tracking' target=\"_blank\">https://wandb.ai/MasterarbeitBV/ball-tracking</a>"
      ],
      "text/plain": [
       "<IPython.core.display.HTML object>"
      ]
     },
     "metadata": {},
     "output_type": "display_data"
    },
    {
     "data": {
      "text/html": [
       " View sweep at <a href='https://wandb.ai/MasterarbeitBV/ball-tracking/sweeps/q1od8byn' target=\"_blank\">https://wandb.ai/MasterarbeitBV/ball-tracking/sweeps/q1od8byn</a>"
      ],
      "text/plain": [
       "<IPython.core.display.HTML object>"
      ]
     },
     "metadata": {},
     "output_type": "display_data"
    },
    {
     "data": {
      "text/html": [
       " View run at <a href='https://wandb.ai/MasterarbeitBV/ball-tracking/runs/5uflncog' target=\"_blank\">https://wandb.ai/MasterarbeitBV/ball-tracking/runs/5uflncog</a>"
      ],
      "text/plain": [
       "<IPython.core.display.HTML object>"
      ]
     },
     "metadata": {},
     "output_type": "display_data"
    },
    {
     "name": "stderr",
     "output_type": "stream",
     "text": [
      "Processing videos: 100%|██████████| 42/42 [03:44<00:00,  5.35s/it]\n"
     ]
    },
    {
     "data": {
      "text/html": [
       "\n",
       "    <style>\n",
       "        .wandb-row {\n",
       "            display: flex;\n",
       "            flex-direction: row;\n",
       "            flex-wrap: wrap;\n",
       "            justify-content: flex-start;\n",
       "            width: 100%;\n",
       "        }\n",
       "        .wandb-col {\n",
       "            display: flex;\n",
       "            flex-direction: column;\n",
       "            flex-basis: 100%;\n",
       "            flex: 1;\n",
       "            padding: 10px;\n",
       "        }\n",
       "    </style>\n",
       "<div class=\"wandb-row\"><div class=\"wandb-col\"><h3>Run history:</h3><br/><table class=\"wandb\"><tr><td>Accuracy</td><td>▁</td></tr><tr><td>F1 Score</td><td>▁</td></tr><tr><td>Precision</td><td>▁</td></tr><tr><td>Recall</td><td>▁</td></tr></table><br/></div><div class=\"wandb-col\"><h3>Run summary:</h3><br/><table class=\"wandb\"><tr><td>Accuracy</td><td>0.13253</td></tr><tr><td>F1 Score</td><td>0.16378</td></tr><tr><td>Precision</td><td>0.1743</td></tr><tr><td>Recall</td><td>0.15445</td></tr></table><br/></div></div>"
      ],
      "text/plain": [
       "<IPython.core.display.HTML object>"
      ]
     },
     "metadata": {},
     "output_type": "display_data"
    },
    {
     "data": {
      "text/html": [
       " View run <strong style=\"color:#cdcd00\">royal-sweep-7</strong> at: <a href='https://wandb.ai/MasterarbeitBV/ball-tracking/runs/5uflncog' target=\"_blank\">https://wandb.ai/MasterarbeitBV/ball-tracking/runs/5uflncog</a><br/> View project at: <a href='https://wandb.ai/MasterarbeitBV/ball-tracking' target=\"_blank\">https://wandb.ai/MasterarbeitBV/ball-tracking</a><br/>Synced 5 W&B file(s), 0 media file(s), 0 artifact file(s) and 0 other file(s)"
      ],
      "text/plain": [
       "<IPython.core.display.HTML object>"
      ]
     },
     "metadata": {},
     "output_type": "display_data"
    },
    {
     "data": {
      "text/html": [
       "Find logs at: <code>.\\wandb\\run-20241118_135919-5uflncog\\logs</code>"
      ],
      "text/plain": [
       "<IPython.core.display.HTML object>"
      ]
     },
     "metadata": {},
     "output_type": "display_data"
    },
    {
     "name": "stderr",
     "output_type": "stream",
     "text": [
      "\u001b[34m\u001b[1mwandb\u001b[0m: Sweep Agent: Waiting for job.\n",
      "\u001b[34m\u001b[1mwandb\u001b[0m: Job received.\n",
      "\u001b[34m\u001b[1mwandb\u001b[0m: Agent Starting Run: xdh8xiei with config:\n",
      "\u001b[34m\u001b[1mwandb\u001b[0m: \tBALL_MAX_AREA: 100\n",
      "\u001b[34m\u001b[1mwandb\u001b[0m: \tBALL_MIN_AREA: 20\n",
      "\u001b[34m\u001b[1mwandb\u001b[0m: \tBG_HISTORY: 300\n",
      "\u001b[34m\u001b[1mwandb\u001b[0m: \tBG_VAR_THRESHOLD: 48\n",
      "\u001b[34m\u001b[1mwandb\u001b[0m: \tDILATE_ITERATIONS: 3\n",
      "\u001b[34m\u001b[1mwandb\u001b[0m: \tERODE_ITERATIONS: 2\n"
     ]
    },
    {
     "data": {
      "text/html": [
       "Tracking run with wandb version 0.18.6"
      ],
      "text/plain": [
       "<IPython.core.display.HTML object>"
      ]
     },
     "metadata": {},
     "output_type": "display_data"
    },
    {
     "data": {
      "text/html": [
       "Run data is saved locally in <code>c:\\Users\\benev\\Documents\\Uni_Master\\Masterarbeit\\CODE\\4_BallTracking\\wandb\\run-20241118_140320-xdh8xiei</code>"
      ],
      "text/plain": [
       "<IPython.core.display.HTML object>"
      ]
     },
     "metadata": {},
     "output_type": "display_data"
    },
    {
     "data": {
      "text/html": [
       "Syncing run <strong><a href='https://wandb.ai/MasterarbeitBV/ball-tracking/runs/xdh8xiei' target=\"_blank\">likely-sweep-8</a></strong> to <a href='https://wandb.ai/MasterarbeitBV/ball-tracking' target=\"_blank\">Weights & Biases</a> (<a href='https://wandb.me/developer-guide' target=\"_blank\">docs</a>)<br/>Sweep page: <a href='https://wandb.ai/MasterarbeitBV/ball-tracking/sweeps/q1od8byn' target=\"_blank\">https://wandb.ai/MasterarbeitBV/ball-tracking/sweeps/q1od8byn</a>"
      ],
      "text/plain": [
       "<IPython.core.display.HTML object>"
      ]
     },
     "metadata": {},
     "output_type": "display_data"
    },
    {
     "data": {
      "text/html": [
       " View project at <a href='https://wandb.ai/MasterarbeitBV/ball-tracking' target=\"_blank\">https://wandb.ai/MasterarbeitBV/ball-tracking</a>"
      ],
      "text/plain": [
       "<IPython.core.display.HTML object>"
      ]
     },
     "metadata": {},
     "output_type": "display_data"
    },
    {
     "data": {
      "text/html": [
       " View sweep at <a href='https://wandb.ai/MasterarbeitBV/ball-tracking/sweeps/q1od8byn' target=\"_blank\">https://wandb.ai/MasterarbeitBV/ball-tracking/sweeps/q1od8byn</a>"
      ],
      "text/plain": [
       "<IPython.core.display.HTML object>"
      ]
     },
     "metadata": {},
     "output_type": "display_data"
    },
    {
     "data": {
      "text/html": [
       " View run at <a href='https://wandb.ai/MasterarbeitBV/ball-tracking/runs/xdh8xiei' target=\"_blank\">https://wandb.ai/MasterarbeitBV/ball-tracking/runs/xdh8xiei</a>"
      ],
      "text/plain": [
       "<IPython.core.display.HTML object>"
      ]
     },
     "metadata": {},
     "output_type": "display_data"
    },
    {
     "name": "stderr",
     "output_type": "stream",
     "text": [
      "Processing videos: 100%|██████████| 42/42 [03:47<00:00,  5.43s/it]\n"
     ]
    },
    {
     "data": {
      "text/html": [
       "\n",
       "    <style>\n",
       "        .wandb-row {\n",
       "            display: flex;\n",
       "            flex-direction: row;\n",
       "            flex-wrap: wrap;\n",
       "            justify-content: flex-start;\n",
       "            width: 100%;\n",
       "        }\n",
       "        .wandb-col {\n",
       "            display: flex;\n",
       "            flex-direction: column;\n",
       "            flex-basis: 100%;\n",
       "            flex: 1;\n",
       "            padding: 10px;\n",
       "        }\n",
       "    </style>\n",
       "<div class=\"wandb-row\"><div class=\"wandb-col\"><h3>Run history:</h3><br/><table class=\"wandb\"><tr><td>Accuracy</td><td>▁</td></tr><tr><td>F1 Score</td><td>▁</td></tr><tr><td>Precision</td><td>▁</td></tr><tr><td>Recall</td><td>▁</td></tr></table><br/></div><div class=\"wandb-col\"><h3>Run summary:</h3><br/><table class=\"wandb\"><tr><td>Accuracy</td><td>0.1932</td></tr><tr><td>F1 Score</td><td>0.28956</td></tr><tr><td>Precision</td><td>0.21533</td></tr><tr><td>Recall</td><td>0.44188</td></tr></table><br/></div></div>"
      ],
      "text/plain": [
       "<IPython.core.display.HTML object>"
      ]
     },
     "metadata": {},
     "output_type": "display_data"
    },
    {
     "data": {
      "text/html": [
       " View run <strong style=\"color:#cdcd00\">likely-sweep-8</strong> at: <a href='https://wandb.ai/MasterarbeitBV/ball-tracking/runs/xdh8xiei' target=\"_blank\">https://wandb.ai/MasterarbeitBV/ball-tracking/runs/xdh8xiei</a><br/> View project at: <a href='https://wandb.ai/MasterarbeitBV/ball-tracking' target=\"_blank\">https://wandb.ai/MasterarbeitBV/ball-tracking</a><br/>Synced 5 W&B file(s), 0 media file(s), 0 artifact file(s) and 0 other file(s)"
      ],
      "text/plain": [
       "<IPython.core.display.HTML object>"
      ]
     },
     "metadata": {},
     "output_type": "display_data"
    },
    {
     "data": {
      "text/html": [
       "Find logs at: <code>.\\wandb\\run-20241118_140320-xdh8xiei\\logs</code>"
      ],
      "text/plain": [
       "<IPython.core.display.HTML object>"
      ]
     },
     "metadata": {},
     "output_type": "display_data"
    },
    {
     "name": "stderr",
     "output_type": "stream",
     "text": [
      "\u001b[34m\u001b[1mwandb\u001b[0m: Agent Starting Run: x35m85v1 with config:\n",
      "\u001b[34m\u001b[1mwandb\u001b[0m: \tBALL_MAX_AREA: 100\n",
      "\u001b[34m\u001b[1mwandb\u001b[0m: \tBALL_MIN_AREA: 20\n",
      "\u001b[34m\u001b[1mwandb\u001b[0m: \tBG_HISTORY: 300\n",
      "\u001b[34m\u001b[1mwandb\u001b[0m: \tBG_VAR_THRESHOLD: 48\n",
      "\u001b[34m\u001b[1mwandb\u001b[0m: \tDILATE_ITERATIONS: 3\n",
      "\u001b[34m\u001b[1mwandb\u001b[0m: \tERODE_ITERATIONS: 2\n"
     ]
    },
    {
     "data": {
      "text/html": [
       "Tracking run with wandb version 0.18.6"
      ],
      "text/plain": [
       "<IPython.core.display.HTML object>"
      ]
     },
     "metadata": {},
     "output_type": "display_data"
    },
    {
     "data": {
      "text/html": [
       "Run data is saved locally in <code>c:\\Users\\benev\\Documents\\Uni_Master\\Masterarbeit\\CODE\\4_BallTracking\\wandb\\run-20241118_140716-x35m85v1</code>"
      ],
      "text/plain": [
       "<IPython.core.display.HTML object>"
      ]
     },
     "metadata": {},
     "output_type": "display_data"
    },
    {
     "data": {
      "text/html": [
       "Syncing run <strong><a href='https://wandb.ai/MasterarbeitBV/ball-tracking/runs/x35m85v1' target=\"_blank\">happy-sweep-9</a></strong> to <a href='https://wandb.ai/MasterarbeitBV/ball-tracking' target=\"_blank\">Weights & Biases</a> (<a href='https://wandb.me/developer-guide' target=\"_blank\">docs</a>)<br/>Sweep page: <a href='https://wandb.ai/MasterarbeitBV/ball-tracking/sweeps/q1od8byn' target=\"_blank\">https://wandb.ai/MasterarbeitBV/ball-tracking/sweeps/q1od8byn</a>"
      ],
      "text/plain": [
       "<IPython.core.display.HTML object>"
      ]
     },
     "metadata": {},
     "output_type": "display_data"
    },
    {
     "data": {
      "text/html": [
       " View project at <a href='https://wandb.ai/MasterarbeitBV/ball-tracking' target=\"_blank\">https://wandb.ai/MasterarbeitBV/ball-tracking</a>"
      ],
      "text/plain": [
       "<IPython.core.display.HTML object>"
      ]
     },
     "metadata": {},
     "output_type": "display_data"
    },
    {
     "data": {
      "text/html": [
       " View sweep at <a href='https://wandb.ai/MasterarbeitBV/ball-tracking/sweeps/q1od8byn' target=\"_blank\">https://wandb.ai/MasterarbeitBV/ball-tracking/sweeps/q1od8byn</a>"
      ],
      "text/plain": [
       "<IPython.core.display.HTML object>"
      ]
     },
     "metadata": {},
     "output_type": "display_data"
    },
    {
     "data": {
      "text/html": [
       " View run at <a href='https://wandb.ai/MasterarbeitBV/ball-tracking/runs/x35m85v1' target=\"_blank\">https://wandb.ai/MasterarbeitBV/ball-tracking/runs/x35m85v1</a>"
      ],
      "text/plain": [
       "<IPython.core.display.HTML object>"
      ]
     },
     "metadata": {},
     "output_type": "display_data"
    },
    {
     "name": "stderr",
     "output_type": "stream",
     "text": [
      "Processing videos: 100%|██████████| 42/42 [03:44<00:00,  5.34s/it]\n"
     ]
    },
    {
     "data": {
      "text/html": [
       "\n",
       "    <style>\n",
       "        .wandb-row {\n",
       "            display: flex;\n",
       "            flex-direction: row;\n",
       "            flex-wrap: wrap;\n",
       "            justify-content: flex-start;\n",
       "            width: 100%;\n",
       "        }\n",
       "        .wandb-col {\n",
       "            display: flex;\n",
       "            flex-direction: column;\n",
       "            flex-basis: 100%;\n",
       "            flex: 1;\n",
       "            padding: 10px;\n",
       "        }\n",
       "    </style>\n",
       "<div class=\"wandb-row\"><div class=\"wandb-col\"><h3>Run history:</h3><br/><table class=\"wandb\"><tr><td>Accuracy</td><td>▁</td></tr><tr><td>F1 Score</td><td>▁</td></tr><tr><td>Precision</td><td>▁</td></tr><tr><td>Recall</td><td>▁</td></tr></table><br/></div><div class=\"wandb-col\"><h3>Run summary:</h3><br/><table class=\"wandb\"><tr><td>Accuracy</td><td>0.1932</td></tr><tr><td>F1 Score</td><td>0.28956</td></tr><tr><td>Precision</td><td>0.21533</td></tr><tr><td>Recall</td><td>0.44188</td></tr></table><br/></div></div>"
      ],
      "text/plain": [
       "<IPython.core.display.HTML object>"
      ]
     },
     "metadata": {},
     "output_type": "display_data"
    },
    {
     "data": {
      "text/html": [
       " View run <strong style=\"color:#cdcd00\">happy-sweep-9</strong> at: <a href='https://wandb.ai/MasterarbeitBV/ball-tracking/runs/x35m85v1' target=\"_blank\">https://wandb.ai/MasterarbeitBV/ball-tracking/runs/x35m85v1</a><br/> View project at: <a href='https://wandb.ai/MasterarbeitBV/ball-tracking' target=\"_blank\">https://wandb.ai/MasterarbeitBV/ball-tracking</a><br/>Synced 5 W&B file(s), 0 media file(s), 0 artifact file(s) and 0 other file(s)"
      ],
      "text/plain": [
       "<IPython.core.display.HTML object>"
      ]
     },
     "metadata": {},
     "output_type": "display_data"
    },
    {
     "data": {
      "text/html": [
       "Find logs at: <code>.\\wandb\\run-20241118_140716-x35m85v1\\logs</code>"
      ],
      "text/plain": [
       "<IPython.core.display.HTML object>"
      ]
     },
     "metadata": {},
     "output_type": "display_data"
    },
    {
     "name": "stderr",
     "output_type": "stream",
     "text": [
      "\u001b[34m\u001b[1mwandb\u001b[0m: Agent Starting Run: 4io9lyzg with config:\n",
      "\u001b[34m\u001b[1mwandb\u001b[0m: \tBALL_MAX_AREA: 50\n",
      "\u001b[34m\u001b[1mwandb\u001b[0m: \tBALL_MIN_AREA: 20\n",
      "\u001b[34m\u001b[1mwandb\u001b[0m: \tBG_HISTORY: 100\n",
      "\u001b[34m\u001b[1mwandb\u001b[0m: \tBG_VAR_THRESHOLD: 48\n",
      "\u001b[34m\u001b[1mwandb\u001b[0m: \tDILATE_ITERATIONS: 3\n",
      "\u001b[34m\u001b[1mwandb\u001b[0m: \tERODE_ITERATIONS: 3\n"
     ]
    },
    {
     "data": {
      "text/html": [
       "Tracking run with wandb version 0.18.6"
      ],
      "text/plain": [
       "<IPython.core.display.HTML object>"
      ]
     },
     "metadata": {},
     "output_type": "display_data"
    },
    {
     "data": {
      "text/html": [
       "Run data is saved locally in <code>c:\\Users\\benev\\Documents\\Uni_Master\\Masterarbeit\\CODE\\4_BallTracking\\wandb\\run-20241118_141105-4io9lyzg</code>"
      ],
      "text/plain": [
       "<IPython.core.display.HTML object>"
      ]
     },
     "metadata": {},
     "output_type": "display_data"
    },
    {
     "data": {
      "text/html": [
       "Syncing run <strong><a href='https://wandb.ai/MasterarbeitBV/ball-tracking/runs/4io9lyzg' target=\"_blank\">spring-sweep-10</a></strong> to <a href='https://wandb.ai/MasterarbeitBV/ball-tracking' target=\"_blank\">Weights & Biases</a> (<a href='https://wandb.me/developer-guide' target=\"_blank\">docs</a>)<br/>Sweep page: <a href='https://wandb.ai/MasterarbeitBV/ball-tracking/sweeps/q1od8byn' target=\"_blank\">https://wandb.ai/MasterarbeitBV/ball-tracking/sweeps/q1od8byn</a>"
      ],
      "text/plain": [
       "<IPython.core.display.HTML object>"
      ]
     },
     "metadata": {},
     "output_type": "display_data"
    },
    {
     "data": {
      "text/html": [
       " View project at <a href='https://wandb.ai/MasterarbeitBV/ball-tracking' target=\"_blank\">https://wandb.ai/MasterarbeitBV/ball-tracking</a>"
      ],
      "text/plain": [
       "<IPython.core.display.HTML object>"
      ]
     },
     "metadata": {},
     "output_type": "display_data"
    },
    {
     "data": {
      "text/html": [
       " View sweep at <a href='https://wandb.ai/MasterarbeitBV/ball-tracking/sweeps/q1od8byn' target=\"_blank\">https://wandb.ai/MasterarbeitBV/ball-tracking/sweeps/q1od8byn</a>"
      ],
      "text/plain": [
       "<IPython.core.display.HTML object>"
      ]
     },
     "metadata": {},
     "output_type": "display_data"
    },
    {
     "data": {
      "text/html": [
       " View run at <a href='https://wandb.ai/MasterarbeitBV/ball-tracking/runs/4io9lyzg' target=\"_blank\">https://wandb.ai/MasterarbeitBV/ball-tracking/runs/4io9lyzg</a>"
      ],
      "text/plain": [
       "<IPython.core.display.HTML object>"
      ]
     },
     "metadata": {},
     "output_type": "display_data"
    },
    {
     "name": "stderr",
     "output_type": "stream",
     "text": [
      "Processing videos: 100%|██████████| 42/42 [03:44<00:00,  5.36s/it]\n"
     ]
    },
    {
     "data": {
      "text/html": [
       "\n",
       "    <style>\n",
       "        .wandb-row {\n",
       "            display: flex;\n",
       "            flex-direction: row;\n",
       "            flex-wrap: wrap;\n",
       "            justify-content: flex-start;\n",
       "            width: 100%;\n",
       "        }\n",
       "        .wandb-col {\n",
       "            display: flex;\n",
       "            flex-direction: column;\n",
       "            flex-basis: 100%;\n",
       "            flex: 1;\n",
       "            padding: 10px;\n",
       "        }\n",
       "    </style>\n",
       "<div class=\"wandb-row\"><div class=\"wandb-col\"><h3>Run history:</h3><br/><table class=\"wandb\"><tr><td>Accuracy</td><td>▁</td></tr><tr><td>F1 Score</td><td>▁</td></tr><tr><td>Precision</td><td>▁</td></tr><tr><td>Recall</td><td>▁</td></tr></table><br/></div><div class=\"wandb-col\"><h3>Run summary:</h3><br/><table class=\"wandb\"><tr><td>Accuracy</td><td>0.13147</td></tr><tr><td>F1 Score</td><td>0.15884</td></tr><tr><td>Precision</td><td>0.16711</td></tr><tr><td>Recall</td><td>0.15135</td></tr></table><br/></div></div>"
      ],
      "text/plain": [
       "<IPython.core.display.HTML object>"
      ]
     },
     "metadata": {},
     "output_type": "display_data"
    },
    {
     "data": {
      "text/html": [
       " View run <strong style=\"color:#cdcd00\">spring-sweep-10</strong> at: <a href='https://wandb.ai/MasterarbeitBV/ball-tracking/runs/4io9lyzg' target=\"_blank\">https://wandb.ai/MasterarbeitBV/ball-tracking/runs/4io9lyzg</a><br/> View project at: <a href='https://wandb.ai/MasterarbeitBV/ball-tracking' target=\"_blank\">https://wandb.ai/MasterarbeitBV/ball-tracking</a><br/>Synced 5 W&B file(s), 0 media file(s), 0 artifact file(s) and 0 other file(s)"
      ],
      "text/plain": [
       "<IPython.core.display.HTML object>"
      ]
     },
     "metadata": {},
     "output_type": "display_data"
    },
    {
     "data": {
      "text/html": [
       "Find logs at: <code>.\\wandb\\run-20241118_141105-4io9lyzg\\logs</code>"
      ],
      "text/plain": [
       "<IPython.core.display.HTML object>"
      ]
     },
     "metadata": {},
     "output_type": "display_data"
    },
    {
     "name": "stderr",
     "output_type": "stream",
     "text": [
      "\u001b[34m\u001b[1mwandb\u001b[0m: Sweep Agent: Waiting for job.\n",
      "\u001b[34m\u001b[1mwandb\u001b[0m: Job received.\n",
      "\u001b[34m\u001b[1mwandb\u001b[0m: Agent Starting Run: nuafhwco with config:\n",
      "\u001b[34m\u001b[1mwandb\u001b[0m: \tBALL_MAX_AREA: 150\n",
      "\u001b[34m\u001b[1mwandb\u001b[0m: \tBALL_MIN_AREA: 20\n",
      "\u001b[34m\u001b[1mwandb\u001b[0m: \tBG_HISTORY: 300\n",
      "\u001b[34m\u001b[1mwandb\u001b[0m: \tBG_VAR_THRESHOLD: 48\n",
      "\u001b[34m\u001b[1mwandb\u001b[0m: \tDILATE_ITERATIONS: 3\n",
      "\u001b[34m\u001b[1mwandb\u001b[0m: \tERODE_ITERATIONS: 2\n"
     ]
    },
    {
     "data": {
      "text/html": [
       "Tracking run with wandb version 0.18.6"
      ],
      "text/plain": [
       "<IPython.core.display.HTML object>"
      ]
     },
     "metadata": {},
     "output_type": "display_data"
    },
    {
     "data": {
      "text/html": [
       "Run data is saved locally in <code>c:\\Users\\benev\\Documents\\Uni_Master\\Masterarbeit\\CODE\\4_BallTracking\\wandb\\run-20241118_141505-nuafhwco</code>"
      ],
      "text/plain": [
       "<IPython.core.display.HTML object>"
      ]
     },
     "metadata": {},
     "output_type": "display_data"
    },
    {
     "data": {
      "text/html": [
       "Syncing run <strong><a href='https://wandb.ai/MasterarbeitBV/ball-tracking/runs/nuafhwco' target=\"_blank\">skilled-sweep-11</a></strong> to <a href='https://wandb.ai/MasterarbeitBV/ball-tracking' target=\"_blank\">Weights & Biases</a> (<a href='https://wandb.me/developer-guide' target=\"_blank\">docs</a>)<br/>Sweep page: <a href='https://wandb.ai/MasterarbeitBV/ball-tracking/sweeps/q1od8byn' target=\"_blank\">https://wandb.ai/MasterarbeitBV/ball-tracking/sweeps/q1od8byn</a>"
      ],
      "text/plain": [
       "<IPython.core.display.HTML object>"
      ]
     },
     "metadata": {},
     "output_type": "display_data"
    },
    {
     "data": {
      "text/html": [
       " View project at <a href='https://wandb.ai/MasterarbeitBV/ball-tracking' target=\"_blank\">https://wandb.ai/MasterarbeitBV/ball-tracking</a>"
      ],
      "text/plain": [
       "<IPython.core.display.HTML object>"
      ]
     },
     "metadata": {},
     "output_type": "display_data"
    },
    {
     "data": {
      "text/html": [
       " View sweep at <a href='https://wandb.ai/MasterarbeitBV/ball-tracking/sweeps/q1od8byn' target=\"_blank\">https://wandb.ai/MasterarbeitBV/ball-tracking/sweeps/q1od8byn</a>"
      ],
      "text/plain": [
       "<IPython.core.display.HTML object>"
      ]
     },
     "metadata": {},
     "output_type": "display_data"
    },
    {
     "data": {
      "text/html": [
       " View run at <a href='https://wandb.ai/MasterarbeitBV/ball-tracking/runs/nuafhwco' target=\"_blank\">https://wandb.ai/MasterarbeitBV/ball-tracking/runs/nuafhwco</a>"
      ],
      "text/plain": [
       "<IPython.core.display.HTML object>"
      ]
     },
     "metadata": {},
     "output_type": "display_data"
    },
    {
     "name": "stderr",
     "output_type": "stream",
     "text": [
      "Processing videos: 100%|██████████| 42/42 [03:49<00:00,  5.48s/it]\n"
     ]
    },
    {
     "data": {
      "text/html": [
       "\n",
       "    <style>\n",
       "        .wandb-row {\n",
       "            display: flex;\n",
       "            flex-direction: row;\n",
       "            flex-wrap: wrap;\n",
       "            justify-content: flex-start;\n",
       "            width: 100%;\n",
       "        }\n",
       "        .wandb-col {\n",
       "            display: flex;\n",
       "            flex-direction: column;\n",
       "            flex-basis: 100%;\n",
       "            flex: 1;\n",
       "            padding: 10px;\n",
       "        }\n",
       "    </style>\n",
       "<div class=\"wandb-row\"><div class=\"wandb-col\"><h3>Run history:</h3><br/><table class=\"wandb\"><tr><td>Accuracy</td><td>▁</td></tr><tr><td>F1 Score</td><td>▁</td></tr><tr><td>Precision</td><td>▁</td></tr><tr><td>Recall</td><td>▁</td></tr></table><br/></div><div class=\"wandb-col\"><h3>Run summary:</h3><br/><table class=\"wandb\"><tr><td>Accuracy</td><td>0.18723</td></tr><tr><td>F1 Score</td><td>0.28322</td></tr><tr><td>Precision</td><td>0.20197</td></tr><tr><td>Recall</td><td>0.47382</td></tr></table><br/></div></div>"
      ],
      "text/plain": [
       "<IPython.core.display.HTML object>"
      ]
     },
     "metadata": {},
     "output_type": "display_data"
    },
    {
     "data": {
      "text/html": [
       " View run <strong style=\"color:#cdcd00\">skilled-sweep-11</strong> at: <a href='https://wandb.ai/MasterarbeitBV/ball-tracking/runs/nuafhwco' target=\"_blank\">https://wandb.ai/MasterarbeitBV/ball-tracking/runs/nuafhwco</a><br/> View project at: <a href='https://wandb.ai/MasterarbeitBV/ball-tracking' target=\"_blank\">https://wandb.ai/MasterarbeitBV/ball-tracking</a><br/>Synced 5 W&B file(s), 0 media file(s), 0 artifact file(s) and 0 other file(s)"
      ],
      "text/plain": [
       "<IPython.core.display.HTML object>"
      ]
     },
     "metadata": {},
     "output_type": "display_data"
    },
    {
     "data": {
      "text/html": [
       "Find logs at: <code>.\\wandb\\run-20241118_141505-nuafhwco\\logs</code>"
      ],
      "text/plain": [
       "<IPython.core.display.HTML object>"
      ]
     },
     "metadata": {},
     "output_type": "display_data"
    },
    {
     "name": "stderr",
     "output_type": "stream",
     "text": [
      "\u001b[34m\u001b[1mwandb\u001b[0m: Agent Starting Run: wi59ehtp with config:\n",
      "\u001b[34m\u001b[1mwandb\u001b[0m: \tBALL_MAX_AREA: 150\n",
      "\u001b[34m\u001b[1mwandb\u001b[0m: \tBALL_MIN_AREA: 20\n",
      "\u001b[34m\u001b[1mwandb\u001b[0m: \tBG_HISTORY: 300\n",
      "\u001b[34m\u001b[1mwandb\u001b[0m: \tBG_VAR_THRESHOLD: 48\n",
      "\u001b[34m\u001b[1mwandb\u001b[0m: \tDILATE_ITERATIONS: 3\n",
      "\u001b[34m\u001b[1mwandb\u001b[0m: \tERODE_ITERATIONS: 2\n"
     ]
    },
    {
     "data": {
      "text/html": [
       "Tracking run with wandb version 0.18.6"
      ],
      "text/plain": [
       "<IPython.core.display.HTML object>"
      ]
     },
     "metadata": {},
     "output_type": "display_data"
    },
    {
     "data": {
      "text/html": [
       "Run data is saved locally in <code>c:\\Users\\benev\\Documents\\Uni_Master\\Masterarbeit\\CODE\\4_BallTracking\\wandb\\run-20241118_141859-wi59ehtp</code>"
      ],
      "text/plain": [
       "<IPython.core.display.HTML object>"
      ]
     },
     "metadata": {},
     "output_type": "display_data"
    },
    {
     "data": {
      "text/html": [
       "Syncing run <strong><a href='https://wandb.ai/MasterarbeitBV/ball-tracking/runs/wi59ehtp' target=\"_blank\">still-sweep-12</a></strong> to <a href='https://wandb.ai/MasterarbeitBV/ball-tracking' target=\"_blank\">Weights & Biases</a> (<a href='https://wandb.me/developer-guide' target=\"_blank\">docs</a>)<br/>Sweep page: <a href='https://wandb.ai/MasterarbeitBV/ball-tracking/sweeps/q1od8byn' target=\"_blank\">https://wandb.ai/MasterarbeitBV/ball-tracking/sweeps/q1od8byn</a>"
      ],
      "text/plain": [
       "<IPython.core.display.HTML object>"
      ]
     },
     "metadata": {},
     "output_type": "display_data"
    },
    {
     "data": {
      "text/html": [
       " View project at <a href='https://wandb.ai/MasterarbeitBV/ball-tracking' target=\"_blank\">https://wandb.ai/MasterarbeitBV/ball-tracking</a>"
      ],
      "text/plain": [
       "<IPython.core.display.HTML object>"
      ]
     },
     "metadata": {},
     "output_type": "display_data"
    },
    {
     "data": {
      "text/html": [
       " View sweep at <a href='https://wandb.ai/MasterarbeitBV/ball-tracking/sweeps/q1od8byn' target=\"_blank\">https://wandb.ai/MasterarbeitBV/ball-tracking/sweeps/q1od8byn</a>"
      ],
      "text/plain": [
       "<IPython.core.display.HTML object>"
      ]
     },
     "metadata": {},
     "output_type": "display_data"
    },
    {
     "data": {
      "text/html": [
       " View run at <a href='https://wandb.ai/MasterarbeitBV/ball-tracking/runs/wi59ehtp' target=\"_blank\">https://wandb.ai/MasterarbeitBV/ball-tracking/runs/wi59ehtp</a>"
      ],
      "text/plain": [
       "<IPython.core.display.HTML object>"
      ]
     },
     "metadata": {},
     "output_type": "display_data"
    },
    {
     "name": "stderr",
     "output_type": "stream",
     "text": [
      "Processing videos: 100%|██████████| 42/42 [03:50<00:00,  5.48s/it]\n"
     ]
    },
    {
     "data": {
      "text/html": [
       "\n",
       "    <style>\n",
       "        .wandb-row {\n",
       "            display: flex;\n",
       "            flex-direction: row;\n",
       "            flex-wrap: wrap;\n",
       "            justify-content: flex-start;\n",
       "            width: 100%;\n",
       "        }\n",
       "        .wandb-col {\n",
       "            display: flex;\n",
       "            flex-direction: column;\n",
       "            flex-basis: 100%;\n",
       "            flex: 1;\n",
       "            padding: 10px;\n",
       "        }\n",
       "    </style>\n",
       "<div class=\"wandb-row\"><div class=\"wandb-col\"><h3>Run history:</h3><br/><table class=\"wandb\"><tr><td>Accuracy</td><td>▁</td></tr><tr><td>F1 Score</td><td>▁</td></tr><tr><td>Precision</td><td>▁</td></tr><tr><td>Recall</td><td>▁</td></tr></table><br/></div><div class=\"wandb-col\"><h3>Run summary:</h3><br/><table class=\"wandb\"><tr><td>Accuracy</td><td>0.18723</td></tr><tr><td>F1 Score</td><td>0.28322</td></tr><tr><td>Precision</td><td>0.20197</td></tr><tr><td>Recall</td><td>0.47382</td></tr></table><br/></div></div>"
      ],
      "text/plain": [
       "<IPython.core.display.HTML object>"
      ]
     },
     "metadata": {},
     "output_type": "display_data"
    },
    {
     "data": {
      "text/html": [
       " View run <strong style=\"color:#cdcd00\">still-sweep-12</strong> at: <a href='https://wandb.ai/MasterarbeitBV/ball-tracking/runs/wi59ehtp' target=\"_blank\">https://wandb.ai/MasterarbeitBV/ball-tracking/runs/wi59ehtp</a><br/> View project at: <a href='https://wandb.ai/MasterarbeitBV/ball-tracking' target=\"_blank\">https://wandb.ai/MasterarbeitBV/ball-tracking</a><br/>Synced 5 W&B file(s), 0 media file(s), 0 artifact file(s) and 0 other file(s)"
      ],
      "text/plain": [
       "<IPython.core.display.HTML object>"
      ]
     },
     "metadata": {},
     "output_type": "display_data"
    },
    {
     "data": {
      "text/html": [
       "Find logs at: <code>.\\wandb\\run-20241118_141859-wi59ehtp\\logs</code>"
      ],
      "text/plain": [
       "<IPython.core.display.HTML object>"
      ]
     },
     "metadata": {},
     "output_type": "display_data"
    },
    {
     "name": "stderr",
     "output_type": "stream",
     "text": [
      "\u001b[34m\u001b[1mwandb\u001b[0m: Sweep Agent: Waiting for job.\n",
      "\u001b[34m\u001b[1mwandb\u001b[0m: Job received.\n",
      "\u001b[34m\u001b[1mwandb\u001b[0m: Agent Starting Run: wufoncz8 with config:\n",
      "\u001b[34m\u001b[1mwandb\u001b[0m: \tBALL_MAX_AREA: 150\n",
      "\u001b[34m\u001b[1mwandb\u001b[0m: \tBALL_MIN_AREA: 20\n",
      "\u001b[34m\u001b[1mwandb\u001b[0m: \tBG_HISTORY: 300\n",
      "\u001b[34m\u001b[1mwandb\u001b[0m: \tBG_VAR_THRESHOLD: 48\n",
      "\u001b[34m\u001b[1mwandb\u001b[0m: \tDILATE_ITERATIONS: 3\n",
      "\u001b[34m\u001b[1mwandb\u001b[0m: \tERODE_ITERATIONS: 1\n"
     ]
    },
    {
     "data": {
      "text/html": [
       "Tracking run with wandb version 0.18.6"
      ],
      "text/plain": [
       "<IPython.core.display.HTML object>"
      ]
     },
     "metadata": {},
     "output_type": "display_data"
    },
    {
     "data": {
      "text/html": [
       "Run data is saved locally in <code>c:\\Users\\benev\\Documents\\Uni_Master\\Masterarbeit\\CODE\\4_BallTracking\\wandb\\run-20241118_142304-wufoncz8</code>"
      ],
      "text/plain": [
       "<IPython.core.display.HTML object>"
      ]
     },
     "metadata": {},
     "output_type": "display_data"
    },
    {
     "data": {
      "text/html": [
       "Syncing run <strong><a href='https://wandb.ai/MasterarbeitBV/ball-tracking/runs/wufoncz8' target=\"_blank\">jumping-sweep-13</a></strong> to <a href='https://wandb.ai/MasterarbeitBV/ball-tracking' target=\"_blank\">Weights & Biases</a> (<a href='https://wandb.me/developer-guide' target=\"_blank\">docs</a>)<br/>Sweep page: <a href='https://wandb.ai/MasterarbeitBV/ball-tracking/sweeps/q1od8byn' target=\"_blank\">https://wandb.ai/MasterarbeitBV/ball-tracking/sweeps/q1od8byn</a>"
      ],
      "text/plain": [
       "<IPython.core.display.HTML object>"
      ]
     },
     "metadata": {},
     "output_type": "display_data"
    },
    {
     "data": {
      "text/html": [
       " View project at <a href='https://wandb.ai/MasterarbeitBV/ball-tracking' target=\"_blank\">https://wandb.ai/MasterarbeitBV/ball-tracking</a>"
      ],
      "text/plain": [
       "<IPython.core.display.HTML object>"
      ]
     },
     "metadata": {},
     "output_type": "display_data"
    },
    {
     "data": {
      "text/html": [
       " View sweep at <a href='https://wandb.ai/MasterarbeitBV/ball-tracking/sweeps/q1od8byn' target=\"_blank\">https://wandb.ai/MasterarbeitBV/ball-tracking/sweeps/q1od8byn</a>"
      ],
      "text/plain": [
       "<IPython.core.display.HTML object>"
      ]
     },
     "metadata": {},
     "output_type": "display_data"
    },
    {
     "data": {
      "text/html": [
       " View run at <a href='https://wandb.ai/MasterarbeitBV/ball-tracking/runs/wufoncz8' target=\"_blank\">https://wandb.ai/MasterarbeitBV/ball-tracking/runs/wufoncz8</a>"
      ],
      "text/plain": [
       "<IPython.core.display.HTML object>"
      ]
     },
     "metadata": {},
     "output_type": "display_data"
    },
    {
     "name": "stderr",
     "output_type": "stream",
     "text": [
      "Processing videos: 100%|██████████| 42/42 [03:52<00:00,  5.54s/it]\n"
     ]
    },
    {
     "name": "stdout",
     "output_type": "stream",
     "text": [
      "New best model found!: F1: 0.3139839818555532\n",
      "Old F1: 0.28956083513318936\n"
     ]
    },
    {
     "data": {
      "text/html": [
       "\n",
       "    <style>\n",
       "        .wandb-row {\n",
       "            display: flex;\n",
       "            flex-direction: row;\n",
       "            flex-wrap: wrap;\n",
       "            justify-content: flex-start;\n",
       "            width: 100%;\n",
       "        }\n",
       "        .wandb-col {\n",
       "            display: flex;\n",
       "            flex-direction: column;\n",
       "            flex-basis: 100%;\n",
       "            flex: 1;\n",
       "            padding: 10px;\n",
       "        }\n",
       "    </style>\n",
       "<div class=\"wandb-row\"><div class=\"wandb-col\"><h3>Run history:</h3><br/><table class=\"wandb\"><tr><td>Accuracy</td><td>▁</td></tr><tr><td>F1 Score</td><td>▁</td></tr><tr><td>Precision</td><td>▁</td></tr><tr><td>Recall</td><td>▁</td></tr></table><br/></div><div class=\"wandb-col\"><h3>Run summary:</h3><br/><table class=\"wandb\"><tr><td>Accuracy</td><td>0.20865</td></tr><tr><td>F1 Score</td><td>0.31398</td></tr><tr><td>Precision</td><td>0.21907</td></tr><tr><td>Recall</td><td>0.55403</td></tr></table><br/></div></div>"
      ],
      "text/plain": [
       "<IPython.core.display.HTML object>"
      ]
     },
     "metadata": {},
     "output_type": "display_data"
    },
    {
     "data": {
      "text/html": [
       " View run <strong style=\"color:#cdcd00\">jumping-sweep-13</strong> at: <a href='https://wandb.ai/MasterarbeitBV/ball-tracking/runs/wufoncz8' target=\"_blank\">https://wandb.ai/MasterarbeitBV/ball-tracking/runs/wufoncz8</a><br/> View project at: <a href='https://wandb.ai/MasterarbeitBV/ball-tracking' target=\"_blank\">https://wandb.ai/MasterarbeitBV/ball-tracking</a><br/>Synced 5 W&B file(s), 0 media file(s), 0 artifact file(s) and 0 other file(s)"
      ],
      "text/plain": [
       "<IPython.core.display.HTML object>"
      ]
     },
     "metadata": {},
     "output_type": "display_data"
    },
    {
     "data": {
      "text/html": [
       "Find logs at: <code>.\\wandb\\run-20241118_142304-wufoncz8\\logs</code>"
      ],
      "text/plain": [
       "<IPython.core.display.HTML object>"
      ]
     },
     "metadata": {},
     "output_type": "display_data"
    },
    {
     "name": "stderr",
     "output_type": "stream",
     "text": [
      "\u001b[34m\u001b[1mwandb\u001b[0m: Agent Starting Run: vye6pcfs with config:\n",
      "\u001b[34m\u001b[1mwandb\u001b[0m: \tBALL_MAX_AREA: 100\n",
      "\u001b[34m\u001b[1mwandb\u001b[0m: \tBALL_MIN_AREA: 10\n",
      "\u001b[34m\u001b[1mwandb\u001b[0m: \tBG_HISTORY: 300\n",
      "\u001b[34m\u001b[1mwandb\u001b[0m: \tBG_VAR_THRESHOLD: 48\n",
      "\u001b[34m\u001b[1mwandb\u001b[0m: \tDILATE_ITERATIONS: 3\n",
      "\u001b[34m\u001b[1mwandb\u001b[0m: \tERODE_ITERATIONS: 1\n"
     ]
    },
    {
     "data": {
      "text/html": [
       "Tracking run with wandb version 0.18.6"
      ],
      "text/plain": [
       "<IPython.core.display.HTML object>"
      ]
     },
     "metadata": {},
     "output_type": "display_data"
    },
    {
     "data": {
      "text/html": [
       "Run data is saved locally in <code>c:\\Users\\benev\\Documents\\Uni_Master\\Masterarbeit\\CODE\\4_BallTracking\\wandb\\run-20241118_142704-vye6pcfs</code>"
      ],
      "text/plain": [
       "<IPython.core.display.HTML object>"
      ]
     },
     "metadata": {},
     "output_type": "display_data"
    },
    {
     "data": {
      "text/html": [
       "Syncing run <strong><a href='https://wandb.ai/MasterarbeitBV/ball-tracking/runs/vye6pcfs' target=\"_blank\">still-sweep-14</a></strong> to <a href='https://wandb.ai/MasterarbeitBV/ball-tracking' target=\"_blank\">Weights & Biases</a> (<a href='https://wandb.me/developer-guide' target=\"_blank\">docs</a>)<br/>Sweep page: <a href='https://wandb.ai/MasterarbeitBV/ball-tracking/sweeps/q1od8byn' target=\"_blank\">https://wandb.ai/MasterarbeitBV/ball-tracking/sweeps/q1od8byn</a>"
      ],
      "text/plain": [
       "<IPython.core.display.HTML object>"
      ]
     },
     "metadata": {},
     "output_type": "display_data"
    },
    {
     "data": {
      "text/html": [
       " View project at <a href='https://wandb.ai/MasterarbeitBV/ball-tracking' target=\"_blank\">https://wandb.ai/MasterarbeitBV/ball-tracking</a>"
      ],
      "text/plain": [
       "<IPython.core.display.HTML object>"
      ]
     },
     "metadata": {},
     "output_type": "display_data"
    },
    {
     "data": {
      "text/html": [
       " View sweep at <a href='https://wandb.ai/MasterarbeitBV/ball-tracking/sweeps/q1od8byn' target=\"_blank\">https://wandb.ai/MasterarbeitBV/ball-tracking/sweeps/q1od8byn</a>"
      ],
      "text/plain": [
       "<IPython.core.display.HTML object>"
      ]
     },
     "metadata": {},
     "output_type": "display_data"
    },
    {
     "data": {
      "text/html": [
       " View run at <a href='https://wandb.ai/MasterarbeitBV/ball-tracking/runs/vye6pcfs' target=\"_blank\">https://wandb.ai/MasterarbeitBV/ball-tracking/runs/vye6pcfs</a>"
      ],
      "text/plain": [
       "<IPython.core.display.HTML object>"
      ]
     },
     "metadata": {},
     "output_type": "display_data"
    },
    {
     "name": "stderr",
     "output_type": "stream",
     "text": [
      "Processing videos: 100%|██████████| 42/42 [03:51<00:00,  5.52s/it]\n"
     ]
    },
    {
     "data": {
      "text/html": [
       "\n",
       "    <style>\n",
       "        .wandb-row {\n",
       "            display: flex;\n",
       "            flex-direction: row;\n",
       "            flex-wrap: wrap;\n",
       "            justify-content: flex-start;\n",
       "            width: 100%;\n",
       "        }\n",
       "        .wandb-col {\n",
       "            display: flex;\n",
       "            flex-direction: column;\n",
       "            flex-basis: 100%;\n",
       "            flex: 1;\n",
       "            padding: 10px;\n",
       "        }\n",
       "    </style>\n",
       "<div class=\"wandb-row\"><div class=\"wandb-col\"><h3>Run history:</h3><br/><table class=\"wandb\"><tr><td>Accuracy</td><td>▁</td></tr><tr><td>F1 Score</td><td>▁</td></tr><tr><td>Precision</td><td>▁</td></tr><tr><td>Recall</td><td>▁</td></tr></table><br/></div><div class=\"wandb-col\"><h3>Run summary:</h3><br/><table class=\"wandb\"><tr><td>Accuracy</td><td>0.173</td></tr><tr><td>F1 Score</td><td>0.26442</td></tr><tr><td>Precision</td><td>0.18025</td></tr><tr><td>Recall</td><td>0.49604</td></tr></table><br/></div></div>"
      ],
      "text/plain": [
       "<IPython.core.display.HTML object>"
      ]
     },
     "metadata": {},
     "output_type": "display_data"
    },
    {
     "data": {
      "text/html": [
       " View run <strong style=\"color:#cdcd00\">still-sweep-14</strong> at: <a href='https://wandb.ai/MasterarbeitBV/ball-tracking/runs/vye6pcfs' target=\"_blank\">https://wandb.ai/MasterarbeitBV/ball-tracking/runs/vye6pcfs</a><br/> View project at: <a href='https://wandb.ai/MasterarbeitBV/ball-tracking' target=\"_blank\">https://wandb.ai/MasterarbeitBV/ball-tracking</a><br/>Synced 5 W&B file(s), 0 media file(s), 0 artifact file(s) and 0 other file(s)"
      ],
      "text/plain": [
       "<IPython.core.display.HTML object>"
      ]
     },
     "metadata": {},
     "output_type": "display_data"
    },
    {
     "data": {
      "text/html": [
       "Find logs at: <code>.\\wandb\\run-20241118_142704-vye6pcfs\\logs</code>"
      ],
      "text/plain": [
       "<IPython.core.display.HTML object>"
      ]
     },
     "metadata": {},
     "output_type": "display_data"
    },
    {
     "name": "stderr",
     "output_type": "stream",
     "text": [
      "\u001b[34m\u001b[1mwandb\u001b[0m: Agent Starting Run: jaknw9po with config:\n",
      "\u001b[34m\u001b[1mwandb\u001b[0m: \tBALL_MAX_AREA: 150\n",
      "\u001b[34m\u001b[1mwandb\u001b[0m: \tBALL_MIN_AREA: 20\n",
      "\u001b[34m\u001b[1mwandb\u001b[0m: \tBG_HISTORY: 300\n",
      "\u001b[34m\u001b[1mwandb\u001b[0m: \tBG_VAR_THRESHOLD: 48\n",
      "\u001b[34m\u001b[1mwandb\u001b[0m: \tDILATE_ITERATIONS: 3\n",
      "\u001b[34m\u001b[1mwandb\u001b[0m: \tERODE_ITERATIONS: 1\n"
     ]
    },
    {
     "data": {
      "text/html": [
       "Tracking run with wandb version 0.18.6"
      ],
      "text/plain": [
       "<IPython.core.display.HTML object>"
      ]
     },
     "metadata": {},
     "output_type": "display_data"
    },
    {
     "data": {
      "text/html": [
       "Run data is saved locally in <code>c:\\Users\\benev\\Documents\\Uni_Master\\Masterarbeit\\CODE\\4_BallTracking\\wandb\\run-20241118_143104-jaknw9po</code>"
      ],
      "text/plain": [
       "<IPython.core.display.HTML object>"
      ]
     },
     "metadata": {},
     "output_type": "display_data"
    },
    {
     "data": {
      "text/html": [
       "Syncing run <strong><a href='https://wandb.ai/MasterarbeitBV/ball-tracking/runs/jaknw9po' target=\"_blank\">crimson-sweep-15</a></strong> to <a href='https://wandb.ai/MasterarbeitBV/ball-tracking' target=\"_blank\">Weights & Biases</a> (<a href='https://wandb.me/developer-guide' target=\"_blank\">docs</a>)<br/>Sweep page: <a href='https://wandb.ai/MasterarbeitBV/ball-tracking/sweeps/q1od8byn' target=\"_blank\">https://wandb.ai/MasterarbeitBV/ball-tracking/sweeps/q1od8byn</a>"
      ],
      "text/plain": [
       "<IPython.core.display.HTML object>"
      ]
     },
     "metadata": {},
     "output_type": "display_data"
    },
    {
     "data": {
      "text/html": [
       " View project at <a href='https://wandb.ai/MasterarbeitBV/ball-tracking' target=\"_blank\">https://wandb.ai/MasterarbeitBV/ball-tracking</a>"
      ],
      "text/plain": [
       "<IPython.core.display.HTML object>"
      ]
     },
     "metadata": {},
     "output_type": "display_data"
    },
    {
     "data": {
      "text/html": [
       " View sweep at <a href='https://wandb.ai/MasterarbeitBV/ball-tracking/sweeps/q1od8byn' target=\"_blank\">https://wandb.ai/MasterarbeitBV/ball-tracking/sweeps/q1od8byn</a>"
      ],
      "text/plain": [
       "<IPython.core.display.HTML object>"
      ]
     },
     "metadata": {},
     "output_type": "display_data"
    },
    {
     "data": {
      "text/html": [
       " View run at <a href='https://wandb.ai/MasterarbeitBV/ball-tracking/runs/jaknw9po' target=\"_blank\">https://wandb.ai/MasterarbeitBV/ball-tracking/runs/jaknw9po</a>"
      ],
      "text/plain": [
       "<IPython.core.display.HTML object>"
      ]
     },
     "metadata": {},
     "output_type": "display_data"
    },
    {
     "name": "stderr",
     "output_type": "stream",
     "text": [
      "Processing videos: 100%|██████████| 42/42 [03:54<00:00,  5.59s/it]\n"
     ]
    },
    {
     "data": {
      "text/html": [
       "\n",
       "    <style>\n",
       "        .wandb-row {\n",
       "            display: flex;\n",
       "            flex-direction: row;\n",
       "            flex-wrap: wrap;\n",
       "            justify-content: flex-start;\n",
       "            width: 100%;\n",
       "        }\n",
       "        .wandb-col {\n",
       "            display: flex;\n",
       "            flex-direction: column;\n",
       "            flex-basis: 100%;\n",
       "            flex: 1;\n",
       "            padding: 10px;\n",
       "        }\n",
       "    </style>\n",
       "<div class=\"wandb-row\"><div class=\"wandb-col\"><h3>Run history:</h3><br/><table class=\"wandb\"><tr><td>Accuracy</td><td>▁</td></tr><tr><td>F1 Score</td><td>▁</td></tr><tr><td>Precision</td><td>▁</td></tr><tr><td>Recall</td><td>▁</td></tr></table><br/></div><div class=\"wandb-col\"><h3>Run summary:</h3><br/><table class=\"wandb\"><tr><td>Accuracy</td><td>0.20865</td></tr><tr><td>F1 Score</td><td>0.31398</td></tr><tr><td>Precision</td><td>0.21907</td></tr><tr><td>Recall</td><td>0.55403</td></tr></table><br/></div></div>"
      ],
      "text/plain": [
       "<IPython.core.display.HTML object>"
      ]
     },
     "metadata": {},
     "output_type": "display_data"
    },
    {
     "data": {
      "text/html": [
       " View run <strong style=\"color:#cdcd00\">crimson-sweep-15</strong> at: <a href='https://wandb.ai/MasterarbeitBV/ball-tracking/runs/jaknw9po' target=\"_blank\">https://wandb.ai/MasterarbeitBV/ball-tracking/runs/jaknw9po</a><br/> View project at: <a href='https://wandb.ai/MasterarbeitBV/ball-tracking' target=\"_blank\">https://wandb.ai/MasterarbeitBV/ball-tracking</a><br/>Synced 5 W&B file(s), 0 media file(s), 0 artifact file(s) and 0 other file(s)"
      ],
      "text/plain": [
       "<IPython.core.display.HTML object>"
      ]
     },
     "metadata": {},
     "output_type": "display_data"
    },
    {
     "data": {
      "text/html": [
       "Find logs at: <code>.\\wandb\\run-20241118_143104-jaknw9po\\logs</code>"
      ],
      "text/plain": [
       "<IPython.core.display.HTML object>"
      ]
     },
     "metadata": {},
     "output_type": "display_data"
    },
    {
     "name": "stderr",
     "output_type": "stream",
     "text": [
      "\u001b[34m\u001b[1mwandb\u001b[0m: Agent Starting Run: i88mk47v with config:\n",
      "\u001b[34m\u001b[1mwandb\u001b[0m: \tBALL_MAX_AREA: 100\n",
      "\u001b[34m\u001b[1mwandb\u001b[0m: \tBALL_MIN_AREA: 20\n",
      "\u001b[34m\u001b[1mwandb\u001b[0m: \tBG_HISTORY: 100\n",
      "\u001b[34m\u001b[1mwandb\u001b[0m: \tBG_VAR_THRESHOLD: 48\n",
      "\u001b[34m\u001b[1mwandb\u001b[0m: \tDILATE_ITERATIONS: 3\n",
      "\u001b[34m\u001b[1mwandb\u001b[0m: \tERODE_ITERATIONS: 1\n"
     ]
    },
    {
     "data": {
      "text/html": [
       "Tracking run with wandb version 0.18.6"
      ],
      "text/plain": [
       "<IPython.core.display.HTML object>"
      ]
     },
     "metadata": {},
     "output_type": "display_data"
    },
    {
     "data": {
      "text/html": [
       "Run data is saved locally in <code>c:\\Users\\benev\\Documents\\Uni_Master\\Masterarbeit\\CODE\\4_BallTracking\\wandb\\run-20241118_143505-i88mk47v</code>"
      ],
      "text/plain": [
       "<IPython.core.display.HTML object>"
      ]
     },
     "metadata": {},
     "output_type": "display_data"
    },
    {
     "data": {
      "text/html": [
       "Syncing run <strong><a href='https://wandb.ai/MasterarbeitBV/ball-tracking/runs/i88mk47v' target=\"_blank\">mild-sweep-16</a></strong> to <a href='https://wandb.ai/MasterarbeitBV/ball-tracking' target=\"_blank\">Weights & Biases</a> (<a href='https://wandb.me/developer-guide' target=\"_blank\">docs</a>)<br/>Sweep page: <a href='https://wandb.ai/MasterarbeitBV/ball-tracking/sweeps/q1od8byn' target=\"_blank\">https://wandb.ai/MasterarbeitBV/ball-tracking/sweeps/q1od8byn</a>"
      ],
      "text/plain": [
       "<IPython.core.display.HTML object>"
      ]
     },
     "metadata": {},
     "output_type": "display_data"
    },
    {
     "data": {
      "text/html": [
       " View project at <a href='https://wandb.ai/MasterarbeitBV/ball-tracking' target=\"_blank\">https://wandb.ai/MasterarbeitBV/ball-tracking</a>"
      ],
      "text/plain": [
       "<IPython.core.display.HTML object>"
      ]
     },
     "metadata": {},
     "output_type": "display_data"
    },
    {
     "data": {
      "text/html": [
       " View sweep at <a href='https://wandb.ai/MasterarbeitBV/ball-tracking/sweeps/q1od8byn' target=\"_blank\">https://wandb.ai/MasterarbeitBV/ball-tracking/sweeps/q1od8byn</a>"
      ],
      "text/plain": [
       "<IPython.core.display.HTML object>"
      ]
     },
     "metadata": {},
     "output_type": "display_data"
    },
    {
     "data": {
      "text/html": [
       " View run at <a href='https://wandb.ai/MasterarbeitBV/ball-tracking/runs/i88mk47v' target=\"_blank\">https://wandb.ai/MasterarbeitBV/ball-tracking/runs/i88mk47v</a>"
      ],
      "text/plain": [
       "<IPython.core.display.HTML object>"
      ]
     },
     "metadata": {},
     "output_type": "display_data"
    },
    {
     "name": "stderr",
     "output_type": "stream",
     "text": [
      "Processing videos: 100%|██████████| 42/42 [03:45<00:00,  5.37s/it]\n"
     ]
    },
    {
     "data": {
      "text/html": [
       "\n",
       "    <style>\n",
       "        .wandb-row {\n",
       "            display: flex;\n",
       "            flex-direction: row;\n",
       "            flex-wrap: wrap;\n",
       "            justify-content: flex-start;\n",
       "            width: 100%;\n",
       "        }\n",
       "        .wandb-col {\n",
       "            display: flex;\n",
       "            flex-direction: column;\n",
       "            flex-basis: 100%;\n",
       "            flex: 1;\n",
       "            padding: 10px;\n",
       "        }\n",
       "    </style>\n",
       "<div class=\"wandb-row\"><div class=\"wandb-col\"><h3>Run history:</h3><br/><table class=\"wandb\"><tr><td>Accuracy</td><td>▁</td></tr><tr><td>F1 Score</td><td>▁</td></tr><tr><td>Precision</td><td>▁</td></tr><tr><td>Recall</td><td>▁</td></tr></table><br/></div><div class=\"wandb-col\"><h3>Run summary:</h3><br/><table class=\"wandb\"><tr><td>Accuracy</td><td>0.19402</td></tr><tr><td>F1 Score</td><td>0.29079</td></tr><tr><td>Precision</td><td>0.21103</td></tr><tr><td>Recall</td><td>0.4675</td></tr></table><br/></div></div>"
      ],
      "text/plain": [
       "<IPython.core.display.HTML object>"
      ]
     },
     "metadata": {},
     "output_type": "display_data"
    },
    {
     "data": {
      "text/html": [
       " View run <strong style=\"color:#cdcd00\">mild-sweep-16</strong> at: <a href='https://wandb.ai/MasterarbeitBV/ball-tracking/runs/i88mk47v' target=\"_blank\">https://wandb.ai/MasterarbeitBV/ball-tracking/runs/i88mk47v</a><br/> View project at: <a href='https://wandb.ai/MasterarbeitBV/ball-tracking' target=\"_blank\">https://wandb.ai/MasterarbeitBV/ball-tracking</a><br/>Synced 5 W&B file(s), 0 media file(s), 0 artifact file(s) and 0 other file(s)"
      ],
      "text/plain": [
       "<IPython.core.display.HTML object>"
      ]
     },
     "metadata": {},
     "output_type": "display_data"
    },
    {
     "data": {
      "text/html": [
       "Find logs at: <code>.\\wandb\\run-20241118_143505-i88mk47v\\logs</code>"
      ],
      "text/plain": [
       "<IPython.core.display.HTML object>"
      ]
     },
     "metadata": {},
     "output_type": "display_data"
    },
    {
     "name": "stderr",
     "output_type": "stream",
     "text": [
      "\u001b[34m\u001b[1mwandb\u001b[0m: Agent Starting Run: x6l9l0xe with config:\n",
      "\u001b[34m\u001b[1mwandb\u001b[0m: \tBALL_MAX_AREA: 150\n",
      "\u001b[34m\u001b[1mwandb\u001b[0m: \tBALL_MIN_AREA: 20\n",
      "\u001b[34m\u001b[1mwandb\u001b[0m: \tBG_HISTORY: 100\n",
      "\u001b[34m\u001b[1mwandb\u001b[0m: \tBG_VAR_THRESHOLD: 32\n",
      "\u001b[34m\u001b[1mwandb\u001b[0m: \tDILATE_ITERATIONS: 3\n",
      "\u001b[34m\u001b[1mwandb\u001b[0m: \tERODE_ITERATIONS: 1\n"
     ]
    },
    {
     "data": {
      "text/html": [
       "Tracking run with wandb version 0.18.6"
      ],
      "text/plain": [
       "<IPython.core.display.HTML object>"
      ]
     },
     "metadata": {},
     "output_type": "display_data"
    },
    {
     "data": {
      "text/html": [
       "Run data is saved locally in <code>c:\\Users\\benev\\Documents\\Uni_Master\\Masterarbeit\\CODE\\4_BallTracking\\wandb\\run-20241118_143900-x6l9l0xe</code>"
      ],
      "text/plain": [
       "<IPython.core.display.HTML object>"
      ]
     },
     "metadata": {},
     "output_type": "display_data"
    },
    {
     "data": {
      "text/html": [
       "Syncing run <strong><a href='https://wandb.ai/MasterarbeitBV/ball-tracking/runs/x6l9l0xe' target=\"_blank\">fast-sweep-17</a></strong> to <a href='https://wandb.ai/MasterarbeitBV/ball-tracking' target=\"_blank\">Weights & Biases</a> (<a href='https://wandb.me/developer-guide' target=\"_blank\">docs</a>)<br/>Sweep page: <a href='https://wandb.ai/MasterarbeitBV/ball-tracking/sweeps/q1od8byn' target=\"_blank\">https://wandb.ai/MasterarbeitBV/ball-tracking/sweeps/q1od8byn</a>"
      ],
      "text/plain": [
       "<IPython.core.display.HTML object>"
      ]
     },
     "metadata": {},
     "output_type": "display_data"
    },
    {
     "data": {
      "text/html": [
       " View project at <a href='https://wandb.ai/MasterarbeitBV/ball-tracking' target=\"_blank\">https://wandb.ai/MasterarbeitBV/ball-tracking</a>"
      ],
      "text/plain": [
       "<IPython.core.display.HTML object>"
      ]
     },
     "metadata": {},
     "output_type": "display_data"
    },
    {
     "data": {
      "text/html": [
       " View sweep at <a href='https://wandb.ai/MasterarbeitBV/ball-tracking/sweeps/q1od8byn' target=\"_blank\">https://wandb.ai/MasterarbeitBV/ball-tracking/sweeps/q1od8byn</a>"
      ],
      "text/plain": [
       "<IPython.core.display.HTML object>"
      ]
     },
     "metadata": {},
     "output_type": "display_data"
    },
    {
     "data": {
      "text/html": [
       " View run at <a href='https://wandb.ai/MasterarbeitBV/ball-tracking/runs/x6l9l0xe' target=\"_blank\">https://wandb.ai/MasterarbeitBV/ball-tracking/runs/x6l9l0xe</a>"
      ],
      "text/plain": [
       "<IPython.core.display.HTML object>"
      ]
     },
     "metadata": {},
     "output_type": "display_data"
    },
    {
     "name": "stderr",
     "output_type": "stream",
     "text": [
      "Processing videos: 100%|██████████| 42/42 [03:39<00:00,  5.23s/it]\n"
     ]
    },
    {
     "data": {
      "text/html": [
       "\n",
       "    <style>\n",
       "        .wandb-row {\n",
       "            display: flex;\n",
       "            flex-direction: row;\n",
       "            flex-wrap: wrap;\n",
       "            justify-content: flex-start;\n",
       "            width: 100%;\n",
       "        }\n",
       "        .wandb-col {\n",
       "            display: flex;\n",
       "            flex-direction: column;\n",
       "            flex-basis: 100%;\n",
       "            flex: 1;\n",
       "            padding: 10px;\n",
       "        }\n",
       "    </style>\n",
       "<div class=\"wandb-row\"><div class=\"wandb-col\"><h3>Run history:</h3><br/><table class=\"wandb\"><tr><td>Accuracy</td><td>▁</td></tr><tr><td>F1 Score</td><td>▁</td></tr><tr><td>Precision</td><td>▁</td></tr><tr><td>Recall</td><td>▁</td></tr></table><br/></div><div class=\"wandb-col\"><h3>Run summary:</h3><br/><table class=\"wandb\"><tr><td>Accuracy</td><td>0.20824</td></tr><tr><td>F1 Score</td><td>0.3128</td></tr><tr><td>Precision</td><td>0.21865</td></tr><tr><td>Recall</td><td>0.54935</td></tr></table><br/></div></div>"
      ],
      "text/plain": [
       "<IPython.core.display.HTML object>"
      ]
     },
     "metadata": {},
     "output_type": "display_data"
    },
    {
     "data": {
      "text/html": [
       " View run <strong style=\"color:#cdcd00\">fast-sweep-17</strong> at: <a href='https://wandb.ai/MasterarbeitBV/ball-tracking/runs/x6l9l0xe' target=\"_blank\">https://wandb.ai/MasterarbeitBV/ball-tracking/runs/x6l9l0xe</a><br/> View project at: <a href='https://wandb.ai/MasterarbeitBV/ball-tracking' target=\"_blank\">https://wandb.ai/MasterarbeitBV/ball-tracking</a><br/>Synced 5 W&B file(s), 0 media file(s), 0 artifact file(s) and 0 other file(s)"
      ],
      "text/plain": [
       "<IPython.core.display.HTML object>"
      ]
     },
     "metadata": {},
     "output_type": "display_data"
    },
    {
     "data": {
      "text/html": [
       "Find logs at: <code>.\\wandb\\run-20241118_143900-x6l9l0xe\\logs</code>"
      ],
      "text/plain": [
       "<IPython.core.display.HTML object>"
      ]
     },
     "metadata": {},
     "output_type": "display_data"
    },
    {
     "name": "stderr",
     "output_type": "stream",
     "text": [
      "\u001b[34m\u001b[1mwandb\u001b[0m: Sweep Agent: Waiting for job.\n",
      "\u001b[34m\u001b[1mwandb\u001b[0m: Job received.\n",
      "\u001b[34m\u001b[1mwandb\u001b[0m: Agent Starting Run: ccd2dg7e with config:\n",
      "\u001b[34m\u001b[1mwandb\u001b[0m: \tBALL_MAX_AREA: 150\n",
      "\u001b[34m\u001b[1mwandb\u001b[0m: \tBALL_MIN_AREA: 20\n",
      "\u001b[34m\u001b[1mwandb\u001b[0m: \tBG_HISTORY: 300\n",
      "\u001b[34m\u001b[1mwandb\u001b[0m: \tBG_VAR_THRESHOLD: 48\n",
      "\u001b[34m\u001b[1mwandb\u001b[0m: \tDILATE_ITERATIONS: 3\n",
      "\u001b[34m\u001b[1mwandb\u001b[0m: \tERODE_ITERATIONS: 1\n"
     ]
    },
    {
     "data": {
      "text/html": [
       "Tracking run with wandb version 0.18.6"
      ],
      "text/plain": [
       "<IPython.core.display.HTML object>"
      ]
     },
     "metadata": {},
     "output_type": "display_data"
    },
    {
     "data": {
      "text/html": [
       "Run data is saved locally in <code>c:\\Users\\benev\\Documents\\Uni_Master\\Masterarbeit\\CODE\\4_BallTracking\\wandb\\run-20241118_144254-ccd2dg7e</code>"
      ],
      "text/plain": [
       "<IPython.core.display.HTML object>"
      ]
     },
     "metadata": {},
     "output_type": "display_data"
    },
    {
     "data": {
      "text/html": [
       "Syncing run <strong><a href='https://wandb.ai/MasterarbeitBV/ball-tracking/runs/ccd2dg7e' target=\"_blank\">flowing-sweep-18</a></strong> to <a href='https://wandb.ai/MasterarbeitBV/ball-tracking' target=\"_blank\">Weights & Biases</a> (<a href='https://wandb.me/developer-guide' target=\"_blank\">docs</a>)<br/>Sweep page: <a href='https://wandb.ai/MasterarbeitBV/ball-tracking/sweeps/q1od8byn' target=\"_blank\">https://wandb.ai/MasterarbeitBV/ball-tracking/sweeps/q1od8byn</a>"
      ],
      "text/plain": [
       "<IPython.core.display.HTML object>"
      ]
     },
     "metadata": {},
     "output_type": "display_data"
    },
    {
     "data": {
      "text/html": [
       " View project at <a href='https://wandb.ai/MasterarbeitBV/ball-tracking' target=\"_blank\">https://wandb.ai/MasterarbeitBV/ball-tracking</a>"
      ],
      "text/plain": [
       "<IPython.core.display.HTML object>"
      ]
     },
     "metadata": {},
     "output_type": "display_data"
    },
    {
     "data": {
      "text/html": [
       " View sweep at <a href='https://wandb.ai/MasterarbeitBV/ball-tracking/sweeps/q1od8byn' target=\"_blank\">https://wandb.ai/MasterarbeitBV/ball-tracking/sweeps/q1od8byn</a>"
      ],
      "text/plain": [
       "<IPython.core.display.HTML object>"
      ]
     },
     "metadata": {},
     "output_type": "display_data"
    },
    {
     "data": {
      "text/html": [
       " View run at <a href='https://wandb.ai/MasterarbeitBV/ball-tracking/runs/ccd2dg7e' target=\"_blank\">https://wandb.ai/MasterarbeitBV/ball-tracking/runs/ccd2dg7e</a>"
      ],
      "text/plain": [
       "<IPython.core.display.HTML object>"
      ]
     },
     "metadata": {},
     "output_type": "display_data"
    },
    {
     "name": "stderr",
     "output_type": "stream",
     "text": [
      "Processing videos: 100%|██████████| 42/42 [03:48<00:00,  5.43s/it]\n"
     ]
    },
    {
     "data": {
      "text/html": [
       "\n",
       "    <style>\n",
       "        .wandb-row {\n",
       "            display: flex;\n",
       "            flex-direction: row;\n",
       "            flex-wrap: wrap;\n",
       "            justify-content: flex-start;\n",
       "            width: 100%;\n",
       "        }\n",
       "        .wandb-col {\n",
       "            display: flex;\n",
       "            flex-direction: column;\n",
       "            flex-basis: 100%;\n",
       "            flex: 1;\n",
       "            padding: 10px;\n",
       "        }\n",
       "    </style>\n",
       "<div class=\"wandb-row\"><div class=\"wandb-col\"><h3>Run history:</h3><br/><table class=\"wandb\"><tr><td>Accuracy</td><td>▁</td></tr><tr><td>F1 Score</td><td>▁</td></tr><tr><td>Precision</td><td>▁</td></tr><tr><td>Recall</td><td>▁</td></tr></table><br/></div><div class=\"wandb-col\"><h3>Run summary:</h3><br/><table class=\"wandb\"><tr><td>Accuracy</td><td>0.20865</td></tr><tr><td>F1 Score</td><td>0.31398</td></tr><tr><td>Precision</td><td>0.21907</td></tr><tr><td>Recall</td><td>0.55403</td></tr></table><br/></div></div>"
      ],
      "text/plain": [
       "<IPython.core.display.HTML object>"
      ]
     },
     "metadata": {},
     "output_type": "display_data"
    },
    {
     "data": {
      "text/html": [
       " View run <strong style=\"color:#cdcd00\">flowing-sweep-18</strong> at: <a href='https://wandb.ai/MasterarbeitBV/ball-tracking/runs/ccd2dg7e' target=\"_blank\">https://wandb.ai/MasterarbeitBV/ball-tracking/runs/ccd2dg7e</a><br/> View project at: <a href='https://wandb.ai/MasterarbeitBV/ball-tracking' target=\"_blank\">https://wandb.ai/MasterarbeitBV/ball-tracking</a><br/>Synced 5 W&B file(s), 0 media file(s), 0 artifact file(s) and 0 other file(s)"
      ],
      "text/plain": [
       "<IPython.core.display.HTML object>"
      ]
     },
     "metadata": {},
     "output_type": "display_data"
    },
    {
     "data": {
      "text/html": [
       "Find logs at: <code>.\\wandb\\run-20241118_144254-ccd2dg7e\\logs</code>"
      ],
      "text/plain": [
       "<IPython.core.display.HTML object>"
      ]
     },
     "metadata": {},
     "output_type": "display_data"
    },
    {
     "name": "stderr",
     "output_type": "stream",
     "text": [
      "\u001b[34m\u001b[1mwandb\u001b[0m: Agent Starting Run: je56kgt2 with config:\n",
      "\u001b[34m\u001b[1mwandb\u001b[0m: \tBALL_MAX_AREA: 150\n",
      "\u001b[34m\u001b[1mwandb\u001b[0m: \tBALL_MIN_AREA: 10\n",
      "\u001b[34m\u001b[1mwandb\u001b[0m: \tBG_HISTORY: 100\n",
      "\u001b[34m\u001b[1mwandb\u001b[0m: \tBG_VAR_THRESHOLD: 48\n",
      "\u001b[34m\u001b[1mwandb\u001b[0m: \tDILATE_ITERATIONS: 3\n",
      "\u001b[34m\u001b[1mwandb\u001b[0m: \tERODE_ITERATIONS: 1\n"
     ]
    },
    {
     "data": {
      "text/html": [
       "Tracking run with wandb version 0.18.6"
      ],
      "text/plain": [
       "<IPython.core.display.HTML object>"
      ]
     },
     "metadata": {},
     "output_type": "display_data"
    },
    {
     "data": {
      "text/html": [
       "Run data is saved locally in <code>c:\\Users\\benev\\Documents\\Uni_Master\\Masterarbeit\\CODE\\4_BallTracking\\wandb\\run-20241118_144650-je56kgt2</code>"
      ],
      "text/plain": [
       "<IPython.core.display.HTML object>"
      ]
     },
     "metadata": {},
     "output_type": "display_data"
    },
    {
     "data": {
      "text/html": [
       "Syncing run <strong><a href='https://wandb.ai/MasterarbeitBV/ball-tracking/runs/je56kgt2' target=\"_blank\">dashing-sweep-19</a></strong> to <a href='https://wandb.ai/MasterarbeitBV/ball-tracking' target=\"_blank\">Weights & Biases</a> (<a href='https://wandb.me/developer-guide' target=\"_blank\">docs</a>)<br/>Sweep page: <a href='https://wandb.ai/MasterarbeitBV/ball-tracking/sweeps/q1od8byn' target=\"_blank\">https://wandb.ai/MasterarbeitBV/ball-tracking/sweeps/q1od8byn</a>"
      ],
      "text/plain": [
       "<IPython.core.display.HTML object>"
      ]
     },
     "metadata": {},
     "output_type": "display_data"
    },
    {
     "data": {
      "text/html": [
       " View project at <a href='https://wandb.ai/MasterarbeitBV/ball-tracking' target=\"_blank\">https://wandb.ai/MasterarbeitBV/ball-tracking</a>"
      ],
      "text/plain": [
       "<IPython.core.display.HTML object>"
      ]
     },
     "metadata": {},
     "output_type": "display_data"
    },
    {
     "data": {
      "text/html": [
       " View sweep at <a href='https://wandb.ai/MasterarbeitBV/ball-tracking/sweeps/q1od8byn' target=\"_blank\">https://wandb.ai/MasterarbeitBV/ball-tracking/sweeps/q1od8byn</a>"
      ],
      "text/plain": [
       "<IPython.core.display.HTML object>"
      ]
     },
     "metadata": {},
     "output_type": "display_data"
    },
    {
     "data": {
      "text/html": [
       " View run at <a href='https://wandb.ai/MasterarbeitBV/ball-tracking/runs/je56kgt2' target=\"_blank\">https://wandb.ai/MasterarbeitBV/ball-tracking/runs/je56kgt2</a>"
      ],
      "text/plain": [
       "<IPython.core.display.HTML object>"
      ]
     },
     "metadata": {},
     "output_type": "display_data"
    },
    {
     "name": "stderr",
     "output_type": "stream",
     "text": [
      "Processing videos: 100%|██████████| 42/42 [03:44<00:00,  5.35s/it]\n"
     ]
    },
    {
     "data": {
      "text/html": [
       "\n",
       "    <style>\n",
       "        .wandb-row {\n",
       "            display: flex;\n",
       "            flex-direction: row;\n",
       "            flex-wrap: wrap;\n",
       "            justify-content: flex-start;\n",
       "            width: 100%;\n",
       "        }\n",
       "        .wandb-col {\n",
       "            display: flex;\n",
       "            flex-direction: column;\n",
       "            flex-basis: 100%;\n",
       "            flex: 1;\n",
       "            padding: 10px;\n",
       "        }\n",
       "    </style>\n",
       "<div class=\"wandb-row\"><div class=\"wandb-col\"><h3>Run history:</h3><br/><table class=\"wandb\"><tr><td>Accuracy</td><td>▁</td></tr><tr><td>F1 Score</td><td>▁</td></tr><tr><td>Precision</td><td>▁</td></tr><tr><td>Recall</td><td>▁</td></tr></table><br/></div><div class=\"wandb-col\"><h3>Run summary:</h3><br/><table class=\"wandb\"><tr><td>Accuracy</td><td>0.16687</td></tr><tr><td>F1 Score</td><td>0.25869</td></tr><tr><td>Precision</td><td>0.16783</td></tr><tr><td>Recall</td><td>0.56409</td></tr></table><br/></div></div>"
      ],
      "text/plain": [
       "<IPython.core.display.HTML object>"
      ]
     },
     "metadata": {},
     "output_type": "display_data"
    },
    {
     "data": {
      "text/html": [
       " View run <strong style=\"color:#cdcd00\">dashing-sweep-19</strong> at: <a href='https://wandb.ai/MasterarbeitBV/ball-tracking/runs/je56kgt2' target=\"_blank\">https://wandb.ai/MasterarbeitBV/ball-tracking/runs/je56kgt2</a><br/> View project at: <a href='https://wandb.ai/MasterarbeitBV/ball-tracking' target=\"_blank\">https://wandb.ai/MasterarbeitBV/ball-tracking</a><br/>Synced 5 W&B file(s), 0 media file(s), 0 artifact file(s) and 0 other file(s)"
      ],
      "text/plain": [
       "<IPython.core.display.HTML object>"
      ]
     },
     "metadata": {},
     "output_type": "display_data"
    },
    {
     "data": {
      "text/html": [
       "Find logs at: <code>.\\wandb\\run-20241118_144650-je56kgt2\\logs</code>"
      ],
      "text/plain": [
       "<IPython.core.display.HTML object>"
      ]
     },
     "metadata": {},
     "output_type": "display_data"
    },
    {
     "name": "stderr",
     "output_type": "stream",
     "text": [
      "\u001b[34m\u001b[1mwandb\u001b[0m: Sweep Agent: Waiting for job.\n",
      "\u001b[34m\u001b[1mwandb\u001b[0m: Job received.\n",
      "\u001b[34m\u001b[1mwandb\u001b[0m: Agent Starting Run: ja80639x with config:\n",
      "\u001b[34m\u001b[1mwandb\u001b[0m: \tBALL_MAX_AREA: 150\n",
      "\u001b[34m\u001b[1mwandb\u001b[0m: \tBALL_MIN_AREA: 20\n",
      "\u001b[34m\u001b[1mwandb\u001b[0m: \tBG_HISTORY: 300\n",
      "\u001b[34m\u001b[1mwandb\u001b[0m: \tBG_VAR_THRESHOLD: 48\n",
      "\u001b[34m\u001b[1mwandb\u001b[0m: \tDILATE_ITERATIONS: 3\n",
      "\u001b[34m\u001b[1mwandb\u001b[0m: \tERODE_ITERATIONS: 1\n"
     ]
    },
    {
     "data": {
      "text/html": [
       "Tracking run with wandb version 0.18.6"
      ],
      "text/plain": [
       "<IPython.core.display.HTML object>"
      ]
     },
     "metadata": {},
     "output_type": "display_data"
    },
    {
     "data": {
      "text/html": [
       "Run data is saved locally in <code>c:\\Users\\benev\\Documents\\Uni_Master\\Masterarbeit\\CODE\\4_BallTracking\\wandb\\run-20241118_145049-ja80639x</code>"
      ],
      "text/plain": [
       "<IPython.core.display.HTML object>"
      ]
     },
     "metadata": {},
     "output_type": "display_data"
    },
    {
     "data": {
      "text/html": [
       "Syncing run <strong><a href='https://wandb.ai/MasterarbeitBV/ball-tracking/runs/ja80639x' target=\"_blank\">stellar-sweep-20</a></strong> to <a href='https://wandb.ai/MasterarbeitBV/ball-tracking' target=\"_blank\">Weights & Biases</a> (<a href='https://wandb.me/developer-guide' target=\"_blank\">docs</a>)<br/>Sweep page: <a href='https://wandb.ai/MasterarbeitBV/ball-tracking/sweeps/q1od8byn' target=\"_blank\">https://wandb.ai/MasterarbeitBV/ball-tracking/sweeps/q1od8byn</a>"
      ],
      "text/plain": [
       "<IPython.core.display.HTML object>"
      ]
     },
     "metadata": {},
     "output_type": "display_data"
    },
    {
     "data": {
      "text/html": [
       " View project at <a href='https://wandb.ai/MasterarbeitBV/ball-tracking' target=\"_blank\">https://wandb.ai/MasterarbeitBV/ball-tracking</a>"
      ],
      "text/plain": [
       "<IPython.core.display.HTML object>"
      ]
     },
     "metadata": {},
     "output_type": "display_data"
    },
    {
     "data": {
      "text/html": [
       " View sweep at <a href='https://wandb.ai/MasterarbeitBV/ball-tracking/sweeps/q1od8byn' target=\"_blank\">https://wandb.ai/MasterarbeitBV/ball-tracking/sweeps/q1od8byn</a>"
      ],
      "text/plain": [
       "<IPython.core.display.HTML object>"
      ]
     },
     "metadata": {},
     "output_type": "display_data"
    },
    {
     "data": {
      "text/html": [
       " View run at <a href='https://wandb.ai/MasterarbeitBV/ball-tracking/runs/ja80639x' target=\"_blank\">https://wandb.ai/MasterarbeitBV/ball-tracking/runs/ja80639x</a>"
      ],
      "text/plain": [
       "<IPython.core.display.HTML object>"
      ]
     },
     "metadata": {},
     "output_type": "display_data"
    },
    {
     "name": "stderr",
     "output_type": "stream",
     "text": [
      "Processing videos: 100%|██████████| 42/42 [03:44<00:00,  5.35s/it]\n"
     ]
    },
    {
     "data": {
      "text/html": [
       "\n",
       "    <style>\n",
       "        .wandb-row {\n",
       "            display: flex;\n",
       "            flex-direction: row;\n",
       "            flex-wrap: wrap;\n",
       "            justify-content: flex-start;\n",
       "            width: 100%;\n",
       "        }\n",
       "        .wandb-col {\n",
       "            display: flex;\n",
       "            flex-direction: column;\n",
       "            flex-basis: 100%;\n",
       "            flex: 1;\n",
       "            padding: 10px;\n",
       "        }\n",
       "    </style>\n",
       "<div class=\"wandb-row\"><div class=\"wandb-col\"><h3>Run history:</h3><br/><table class=\"wandb\"><tr><td>Accuracy</td><td>▁</td></tr><tr><td>F1 Score</td><td>▁</td></tr><tr><td>Precision</td><td>▁</td></tr><tr><td>Recall</td><td>▁</td></tr></table><br/></div><div class=\"wandb-col\"><h3>Run summary:</h3><br/><table class=\"wandb\"><tr><td>Accuracy</td><td>0.20865</td></tr><tr><td>F1 Score</td><td>0.31398</td></tr><tr><td>Precision</td><td>0.21907</td></tr><tr><td>Recall</td><td>0.55403</td></tr></table><br/></div></div>"
      ],
      "text/plain": [
       "<IPython.core.display.HTML object>"
      ]
     },
     "metadata": {},
     "output_type": "display_data"
    },
    {
     "data": {
      "text/html": [
       " View run <strong style=\"color:#cdcd00\">stellar-sweep-20</strong> at: <a href='https://wandb.ai/MasterarbeitBV/ball-tracking/runs/ja80639x' target=\"_blank\">https://wandb.ai/MasterarbeitBV/ball-tracking/runs/ja80639x</a><br/> View project at: <a href='https://wandb.ai/MasterarbeitBV/ball-tracking' target=\"_blank\">https://wandb.ai/MasterarbeitBV/ball-tracking</a><br/>Synced 5 W&B file(s), 0 media file(s), 0 artifact file(s) and 0 other file(s)"
      ],
      "text/plain": [
       "<IPython.core.display.HTML object>"
      ]
     },
     "metadata": {},
     "output_type": "display_data"
    },
    {
     "data": {
      "text/html": [
       "Find logs at: <code>.\\wandb\\run-20241118_145049-ja80639x\\logs</code>"
      ],
      "text/plain": [
       "<IPython.core.display.HTML object>"
      ]
     },
     "metadata": {},
     "output_type": "display_data"
    }
   ],
   "source": [
    "# run the sweep\n",
    "#sweep_id = wandb.sweep(sweep_config, project=\"ball-tracking\")\n",
    "#wandb.agent(sweep_id, train, count=20)"
   ]
  },
  {
   "cell_type": "markdown",
   "metadata": {},
   "source": [
    "## Test best Hyperparameters"
   ]
  },
  {
   "cell_type": "code",
   "execution_count": 29,
   "metadata": {},
   "outputs": [],
   "source": [
    "# apply config to global vars\n",
    "BG_HISTORY = 300\n",
    "BG_VAR_THRESHOLD = 48\n",
    "DILATE_ITERATIONS = 3\n",
    "ERODE_ITERATIONS = 1\n",
    "BALL_MIN_AREA = 20\n",
    "BALL_MAX_AREA = 150"
   ]
  },
  {
   "cell_type": "code",
   "execution_count": 35,
   "metadata": {},
   "outputs": [],
   "source": [
    "# def caluclate metrics \n",
    "def calculate_metrics_df(df, loose=True):\n",
    "    \"\"\"Calculate the True Positives, False Positives, True Negatives, and False Negatives for each frame.\"\"\"\n",
    "    metrics_dict = {'Dataset_New': {'tp': 0, 'fp': 0, 'tn': 0, 'fn': 0},\n",
    "                    'Dataset_TrackNet': {'tp': 0, 'fp': 0, 'tn': 0, 'fn': 0},\n",
    "                    'Visibility_Visible': {'tp': 0, 'fp': 0, 'tn': 0, 'fn': 0},\n",
    "                    'Visibility_Difficult': {'tp': 0, 'fp': 0, 'tn': 0, 'fn': 0},\n",
    "                    'Visibility_Blurry': {'tp': 0, 'fp': 0, 'tn': 0, 'fn': 0},\n",
    "                    'Visibility_Occluded': {'tp': 0, 'fp': 0, 'tn': 0, 'fn': 0},\n",
    "                    'Visibility_None': {'tp': 0, 'fp': 0, 'tn': 0, 'fn': 0},\n",
    "                    'Total': {'tp': 0, 'fp': 0, 'tn': 0, 'fn': 0}}\n",
    "\n",
    "    for index, row in df.iterrows():\n",
    "        gt_balls = row['points']\n",
    "        pred_balls = row['ball_points']\n",
    "        if loose:\n",
    "            tp_frame, fp_frame, tn_frame, fn_frame = calculate_metrics_loose(gt_balls, pred_balls) \n",
    "        else:\n",
    "            tp_frame, fp_frame, tn_frame, fn_frame = calculate_metrics_strict(gt_balls, pred_balls)\n",
    "\n",
    "        dataset=\"Dataset_\"+row['subset']\n",
    "        visibility = \"Visibility_\" + (row['points'][0]['visibility'] if  len(row['points']) > 0 else 'None')\n",
    "\n",
    "        metrics_dict[dataset]['tp'] += tp_frame   \n",
    "        metrics_dict[dataset]['fp'] += fp_frame\n",
    "        metrics_dict[dataset]['tn'] += tn_frame\n",
    "        metrics_dict[dataset]['fn'] += fn_frame\n",
    "\n",
    "        metrics_dict[visibility]['tp'] += tp_frame\n",
    "        metrics_dict[visibility]['fp'] += fp_frame\n",
    "        metrics_dict[visibility]['tn'] += tn_frame\n",
    "        metrics_dict[visibility]['fn'] += fn_frame\n",
    "\n",
    "        metrics_dict['Total']['tp'] += tp_frame\n",
    "        metrics_dict['Total']['fp'] += fp_frame\n",
    "        metrics_dict['Total']['tn'] += tn_frame\n",
    "        metrics_dict['Total']['fn'] += fn_frame\n",
    "\n",
    "    return metrics_dict\n",
    "\n",
    "\n",
    "# calculate tp, fp, tn, fn\n",
    "def calculate_metrics_strict(gt_balls, pred_balls, prev_position = None, distance_threshold=10):\n",
    "    \"\"\"Calculate the True Positives, False Positives, True Negatives, and False Negatives.\"\"\"\n",
    "\n",
    "    if len(gt_balls) == 0 and len(pred_balls) == 0:\n",
    "        return 0, 0, 1, 0, None\n",
    "    \n",
    "    if len(gt_balls) == 0 and len(pred_balls) > 0:\n",
    "        return 0, 1, 0, 0, pred_balls[0]\n",
    "    \n",
    "    if len(gt_balls) > 0 and len(pred_balls) == 0:\n",
    "        return 0, 0, 0, 1, None\n",
    "        \n",
    "    pred_ball= None\n",
    "    # if more than one preditcion get the closest one to prefious position\n",
    "    if len(pred_balls) > 1 and prev_position is not None:\n",
    "        distances = []\n",
    "        for pred_ball in pred_balls:\n",
    "            distance = np.linalg.norm(np.array(prev_position) - np.array(pred_ball))\n",
    "            distances.append(distance)\n",
    "        pred_ball = pred_balls[np.argmin(distances)]\n",
    "    else:\n",
    "        pred_ball = pred_balls[0]\n",
    "\n",
    "    # get the first ball in the list\n",
    "    gt_ball = (gt_balls[0]['x'], gt_balls[0]['y'])\n",
    "    pred_ball = pred_balls[0]\n",
    "\n",
    "    #calculate euclidean distance\n",
    "    distance = np.linalg.norm(np.array(gt_ball) - np.array(pred_ball))\n",
    "\n",
    "    if distance < distance_threshold:\n",
    "        return 1, 0, 0, 0, pred_ball\n",
    "    else:\n",
    "        return 0, 1, 0, 0, pred_ball\n",
    "\n",
    "# calculate tp, fp, tn, fn\n",
    "def calculate_metrics_loose(gt_balls, pred_balls, distance_threshold=5):\n",
    "    \"\"\"Calculate the True Positives, False Positives, True Negatives, and False Negatives.\"\"\"\n",
    "\n",
    "    if len(gt_balls) == 0 and len(pred_balls) == 0:\n",
    "        return 0, 0, 1, 0\n",
    "    \n",
    "    if len(gt_balls) == 0 and len(pred_balls) > 0:\n",
    "        return 0, 1, 0, 0\n",
    "    \n",
    "    if len(gt_balls) > 0 and len(pred_balls) == 0:\n",
    "        return 0, 0, 0, 1\n",
    "    \n",
    "    # if pred balls contains all gt balls tp\n",
    "    for gt_ball in gt_balls:\n",
    "        for pred_ball in pred_balls:\n",
    "            # get the first ball in the list\n",
    "            gt_ball = (gt_balls[0]['x'], gt_balls[0]['y'])\n",
    "            pred_ball = pred_balls[0]\n",
    "            \n",
    "            #calculate euclidean distance\n",
    "            distance = np.linalg.norm(np.array(gt_ball) - np.array(pred_ball))\n",
    "\n",
    "            if distance < distance_threshold:\n",
    "                return 1, 0, 0, 0\n",
    "            \n",
    "    return 0, 0, 0 ,0"
   ]
  },
  {
   "cell_type": "code",
   "execution_count": 31,
   "metadata": {},
   "outputs": [
    {
     "name": "stderr",
     "output_type": "stream",
     "text": [
      "Processing videos: 100%|██████████| 13/13 [00:52<00:00,  4.02s/it]\n"
     ]
    }
   ],
   "source": [
    "result_df= pd.DataFrame(columns=['subset', 'video', 'clip', 'frame', 'ball_points', 'player_bbox'])\n",
    "\n",
    "# loop over unique combinations\n",
    "for i in tqdm(range(len(unique_combinations)), desc=\"Processing videos\"):\n",
    "    filtered_df = get_frames(df, unique_combinations.iloc[i]['subset'], unique_combinations.iloc[i]['video'], unique_combinations.iloc[i]['clip'])\n",
    "    filtered_df = process_image_sequence_just_annotations(filtered_df)\n",
    "    result_df = pd.concat([result_df, filtered_df])"
   ]
  },
  {
   "cell_type": "code",
   "execution_count": 36,
   "metadata": {},
   "outputs": [],
   "source": [
    "def calculate_positioning_error(gt_balls, pred_balls, prev_position = None):\n",
    "    \"\"\"Calculate the True Positives, False Positives, True Negatives, and False Negatives.\"\"\"\n",
    "\n",
    "    if len(gt_balls) == 0 and len(pred_balls) == 0:\n",
    "        return 0, None\n",
    "    \n",
    "    if len(gt_balls) == 0 and len(pred_balls) > 0:\n",
    "        return -1 , pred_balls[0]\n",
    "    \n",
    "    if len(gt_balls) > 0 and len(pred_balls) == 0:\n",
    "        return -1 , None\n",
    "        \n",
    "    pred_ball= None\n",
    "    # if more than one preditcion get the closest one to prefious position\n",
    "    if len(pred_balls) > 1 and prev_position is not None:\n",
    "        distances = []\n",
    "        for pred_ball in pred_balls:\n",
    "            distance = np.linalg.norm(np.array(prev_position) - np.array(pred_ball))\n",
    "            distances.append(distance)\n",
    "        pred_ball = pred_balls[np.argmin(distances)]\n",
    "    else:\n",
    "        pred_ball = pred_balls[0]\n",
    "\n",
    "    # get the first ball in the list\n",
    "    gt_ball = (gt_balls[0]['x'], gt_balls[0]['y'])\n",
    "    pred_ball = pred_balls[0]\n",
    "\n",
    "    #calculate euclidean distance\n",
    "    distance = np.linalg.norm(np.array(gt_ball) - np.array(pred_ball))\n",
    "\n",
    "    return distance, pred_ball\n",
    "\n",
    "def calculate_positioning_error_df(df):\n",
    "    \"\"\"Calculate the True Positives, False Positives, True Negatives, and False Negatives for each frame.\"\"\"\n",
    "    errors = []\n",
    "    prev_position = None\n",
    "    for index, row in df.iterrows():\n",
    "        gt_balls = row['points']\n",
    "        pred_balls = row['ball_points']\n",
    "        error, prev_position = calculate_positioning_error(gt_balls, pred_balls, prev_position)\n",
    "        errors.append(error)\n",
    "\n",
    "    # remove -1\n",
    "    errors = [x for x in errors if x != -1]\n",
    "\n",
    "    # scale down with factor 2.5\n",
    "    errors = [x/2.5 for x in errors]\n",
    "\n",
    "    # count bins for 0, 1,2,3,4,5 >5\n",
    "    bins = [0, 1, 2, 3, 4, 5, 10000]\n",
    "\n",
    "    # create counts for bins\n",
    "    counts = np.bincount(np.digitize(errors, bins))\n",
    "\n",
    "    # median\n",
    "    median = np.median(errors)\n",
    "\n",
    "    # median below th\n",
    "    filtered_errors = [x for x in errors if x < 4]\n",
    "    median_below_4 = np.median(filtered_errors)\n",
    "\n",
    "    return counts, median, median_below_4"
   ]
  },
  {
   "cell_type": "code",
   "execution_count": 50,
   "metadata": {},
   "outputs": [],
   "source": [
    "# def caluclate metrics \n",
    "def calculate_metrics_df(df, loose=True):\n",
    "    metrics_dict = {'Dataset_Amateur': {'tp': 0, 'fp': 0, 'tn': 0, 'fn': 0},\n",
    "                    'Dataset_TrackNet': {'tp': 0, 'fp': 0, 'tn': 0, 'fn': 0},\n",
    "                    'Visibility_Visible': {'tp': 0, 'fp': 0, 'tn': 0, 'fn': 0},\n",
    "                    'Visibility_Difficult': {'tp': 0, 'fp': 0, 'tn': 0, 'fn': 0},\n",
    "                    'Visibility_Blurry': {'tp': 0, 'fp': 0, 'tn': 0, 'fn': 0},\n",
    "                    'Visibility_Occluded': {'tp': 0, 'fp': 0, 'tn': 0, 'fn': 0},\n",
    "                    'Visibility_None': {'tp': 0, 'fp': 0, 'tn': 0, 'fn': 0},\n",
    "                    'Total': {'tp': 0, 'fp': 0, 'tn': 0, 'fn': 0}}\n",
    "    \n",
    "    previous_position = None\n",
    "\n",
    "    for index, row in df.iterrows():\n",
    "        gt_balls = row['points']\n",
    "        pred_balls = row['ball_points']\n",
    "        if loose:\n",
    "            tp_frame, fp_frame, tn_frame, fn_frame = calculate_metrics_loose(gt_balls, pred_balls) \n",
    "        else:\n",
    "            tp_frame, fp_frame, tn_frame, fn_frame, previous_position = calculate_metrics_strict(gt_balls, pred_balls, previous_position)\n",
    "\n",
    "        dataset=\"Dataset_\"+row['subset']\n",
    "        visibility = \"Visibility_\" + (row['points'][0]['visibility'] if  len(row['points']) > 0 else 'None')\n",
    "\n",
    "        metrics_dict[dataset]['tp'] += tp_frame   \n",
    "        metrics_dict[dataset]['fp'] += fp_frame\n",
    "        metrics_dict[dataset]['tn'] += tn_frame\n",
    "        metrics_dict[dataset]['fn'] += fn_frame\n",
    "\n",
    "        metrics_dict[visibility]['tp'] += tp_frame\n",
    "        metrics_dict[visibility]['fp'] += fp_frame\n",
    "        metrics_dict[visibility]['tn'] += tn_frame\n",
    "        metrics_dict[visibility]['fn'] += fn_frame\n",
    "\n",
    "        metrics_dict['Total']['tp'] += tp_frame\n",
    "        metrics_dict['Total']['fp'] += fp_frame\n",
    "        metrics_dict['Total']['tn'] += tn_frame\n",
    "        metrics_dict['Total']['fn'] += fn_frame\n",
    "\n",
    "    return metrics_dict\n",
    "\n",
    "\n",
    "# calculate tp, fp, tn, fn\n",
    "def calculate_metrics_strict(gt_balls, pred_balls, prev_position = None, distance_threshold=10):\n",
    "    if len(gt_balls) == 0 and len(pred_balls) == 0:\n",
    "        return 0, 0, 1, 0, None\n",
    "    \n",
    "    if len(gt_balls) == 0 and len(pred_balls) > 0:\n",
    "        return 0, 1, 0, 0, pred_balls[0]\n",
    "    \n",
    "    if len(gt_balls) > 0 and len(pred_balls) == 0:\n",
    "        return 0, 0, 0, 1, None\n",
    "        \n",
    "    pred_ball= None\n",
    "    # if more than one preditcion get the closest one to prefious position\n",
    "    if len(pred_balls) > 1 and prev_position is not None:\n",
    "        distances = []\n",
    "        for pred_ball in pred_balls:\n",
    "            distance = np.linalg.norm(np.array(prev_position) - np.array(pred_ball))\n",
    "            distances.append(distance)\n",
    "        pred_ball = pred_balls[np.argmin(distances)]\n",
    "    else:\n",
    "        pred_ball = pred_balls[0]\n",
    "\n",
    "    # get the first ball in the list\n",
    "    gt_ball = (gt_balls[0]['x'], gt_balls[0]['y'])\n",
    "    pred_ball = pred_balls[0]\n",
    "\n",
    "    #calculate euclidean distance\n",
    "    distance = np.linalg.norm(np.array(gt_ball) - np.array(pred_ball))\n",
    "\n",
    "    if distance < distance_threshold:\n",
    "        return 1, 0, 0, 0, pred_ball\n",
    "    else:\n",
    "        return 0, 1, 0, 0, pred_ball"
   ]
  },
  {
   "cell_type": "code",
   "execution_count": 51,
   "metadata": {},
   "outputs": [
    {
     "data": {
      "text/plain": [
       "{'Dataset_Amateur': {'tp': 390, 'fp': 192, 'tn': 134, 'fn': 324},\n",
       " 'Dataset_TrackNet': {'tp': 345, 'fp': 46, 'tn': 15, 'fn': 62},\n",
       " 'Visibility_Visible': {'tp': 669, 'fp': 0, 'tn': 0, 'fn': 248},\n",
       " 'Visibility_Difficult': {'tp': 51, 'fp': 0, 'tn': 0, 'fn': 123},\n",
       " 'Visibility_Blurry': {'tp': 14, 'fp': 0, 'tn': 0, 'fn': 5},\n",
       " 'Visibility_Occluded': {'tp': 1, 'fp': 0, 'tn': 0, 'fn': 10},\n",
       " 'Visibility_None': {'tp': 0, 'fp': 238, 'tn': 149, 'fn': 0},\n",
       " 'Total': {'tp': 735, 'fp': 238, 'tn': 149, 'fn': 386}}"
      ]
     },
     "execution_count": 51,
     "metadata": {},
     "output_type": "execute_result"
    }
   ],
   "source": [
    "metrics = calculate_metrics_df(result_df)\n",
    "metrics"
   ]
  },
  {
   "cell_type": "code",
   "execution_count": 52,
   "metadata": {},
   "outputs": [],
   "source": [
    "df_train = convert_json_to_df(data_test, split='train')\n",
    "df_validation = convert_json_to_df(data_test, split='validation')\n",
    "df_test = convert_json_to_df(data_test, split='validation')"
   ]
  },
  {
   "cell_type": "code",
   "execution_count": 53,
   "metadata": {},
   "outputs": [
    {
     "data": {
      "text/html": [
       "<div>\n",
       "<style scoped>\n",
       "    .dataframe tbody tr th:only-of-type {\n",
       "        vertical-align: middle;\n",
       "    }\n",
       "\n",
       "    .dataframe tbody tr th {\n",
       "        vertical-align: top;\n",
       "    }\n",
       "\n",
       "    .dataframe thead th {\n",
       "        text-align: right;\n",
       "    }\n",
       "</style>\n",
       "<table border=\"1\" class=\"dataframe\">\n",
       "  <thead>\n",
       "    <tr style=\"text-align: right;\">\n",
       "      <th></th>\n",
       "      <th>model</th>\n",
       "      <th>key</th>\n",
       "      <th>accuracy</th>\n",
       "      <th>f1</th>\n",
       "      <th>precision</th>\n",
       "      <th>recall</th>\n",
       "    </tr>\n",
       "  </thead>\n",
       "  <tbody>\n",
       "    <tr>\n",
       "      <th>0</th>\n",
       "      <td>Baseline</td>\n",
       "      <td>Dataset_Amateur</td>\n",
       "      <td>0.503846</td>\n",
       "      <td>0.601852</td>\n",
       "      <td>0.670103</td>\n",
       "      <td>0.546218</td>\n",
       "    </tr>\n",
       "    <tr>\n",
       "      <th>1</th>\n",
       "      <td>Baseline</td>\n",
       "      <td>Dataset_TrackNet</td>\n",
       "      <td>0.769231</td>\n",
       "      <td>0.864662</td>\n",
       "      <td>0.882353</td>\n",
       "      <td>0.847666</td>\n",
       "    </tr>\n",
       "    <tr>\n",
       "      <th>2</th>\n",
       "      <td>Baseline</td>\n",
       "      <td>Visibility_Visible</td>\n",
       "      <td>0.729553</td>\n",
       "      <td>0.843632</td>\n",
       "      <td>1.000000</td>\n",
       "      <td>0.729553</td>\n",
       "    </tr>\n",
       "    <tr>\n",
       "      <th>3</th>\n",
       "      <td>Baseline</td>\n",
       "      <td>Visibility_Difficult</td>\n",
       "      <td>0.293103</td>\n",
       "      <td>0.453333</td>\n",
       "      <td>1.000000</td>\n",
       "      <td>0.293103</td>\n",
       "    </tr>\n",
       "    <tr>\n",
       "      <th>4</th>\n",
       "      <td>Baseline</td>\n",
       "      <td>Visibility_Blurry</td>\n",
       "      <td>0.736842</td>\n",
       "      <td>0.848485</td>\n",
       "      <td>1.000000</td>\n",
       "      <td>0.736842</td>\n",
       "    </tr>\n",
       "    <tr>\n",
       "      <th>5</th>\n",
       "      <td>Baseline</td>\n",
       "      <td>Visibility_Occluded</td>\n",
       "      <td>0.090909</td>\n",
       "      <td>0.166667</td>\n",
       "      <td>1.000000</td>\n",
       "      <td>0.090909</td>\n",
       "    </tr>\n",
       "    <tr>\n",
       "      <th>6</th>\n",
       "      <td>Baseline</td>\n",
       "      <td>Visibility_None</td>\n",
       "      <td>0.385013</td>\n",
       "      <td>0.000000</td>\n",
       "      <td>0.000000</td>\n",
       "      <td>0.000000</td>\n",
       "    </tr>\n",
       "    <tr>\n",
       "      <th>7</th>\n",
       "      <td>Baseline</td>\n",
       "      <td>Total</td>\n",
       "      <td>0.586207</td>\n",
       "      <td>0.702006</td>\n",
       "      <td>0.755396</td>\n",
       "      <td>0.655665</td>\n",
       "    </tr>\n",
       "  </tbody>\n",
       "</table>\n",
       "</div>"
      ],
      "text/plain": [
       "      model                   key  accuracy        f1  precision    recall\n",
       "0  Baseline       Dataset_Amateur  0.503846  0.601852   0.670103  0.546218\n",
       "1  Baseline      Dataset_TrackNet  0.769231  0.864662   0.882353  0.847666\n",
       "2  Baseline    Visibility_Visible  0.729553  0.843632   1.000000  0.729553\n",
       "3  Baseline  Visibility_Difficult  0.293103  0.453333   1.000000  0.293103\n",
       "4  Baseline     Visibility_Blurry  0.736842  0.848485   1.000000  0.736842\n",
       "5  Baseline   Visibility_Occluded  0.090909  0.166667   1.000000  0.090909\n",
       "6  Baseline       Visibility_None  0.385013  0.000000   0.000000  0.000000\n",
       "7  Baseline                 Total  0.586207  0.702006   0.755396  0.655665"
      ]
     },
     "execution_count": 53,
     "metadata": {},
     "output_type": "execute_result"
    }
   ],
   "source": [
    "elements = []\n",
    "\n",
    "# aggregate for each key\n",
    "for key, value in metrics.items():\n",
    "    tp = value['tp']\n",
    "    fp = value['fp']\n",
    "    tn = value['tn']\n",
    "    fn = value['fn']\n",
    "    metrics_key = calculate_agg_metrics(tp, fp, tn, fn)\n",
    "\n",
    "    row = {'model': 'Baseline', 'key': key, 'accuracy': metrics_key['Accuracy'], 'f1': metrics_key['F1 Score'], 'precision': metrics_key['Precision'], 'recall': metrics_key['Recall']}\n",
    "    elements.append(row)\n",
    "\n",
    "results = pd.DataFrame(elements)\n",
    "results"
   ]
  },
  {
   "cell_type": "code",
   "execution_count": 54,
   "metadata": {},
   "outputs": [
    {
     "data": {
      "text/html": [
       "<div>\n",
       "<style scoped>\n",
       "    .dataframe tbody tr th:only-of-type {\n",
       "        vertical-align: middle;\n",
       "    }\n",
       "\n",
       "    .dataframe tbody tr th {\n",
       "        vertical-align: top;\n",
       "    }\n",
       "\n",
       "    .dataframe thead th {\n",
       "        text-align: right;\n",
       "    }\n",
       "</style>\n",
       "<table border=\"1\" class=\"dataframe\">\n",
       "  <thead>\n",
       "    <tr style=\"text-align: right;\">\n",
       "      <th></th>\n",
       "      <th>subset</th>\n",
       "      <th>video</th>\n",
       "      <th>clip</th>\n",
       "      <th>frame</th>\n",
       "      <th>ball_points</th>\n",
       "      <th>player_bbox</th>\n",
       "      <th>file_path</th>\n",
       "      <th>points</th>\n",
       "    </tr>\n",
       "  </thead>\n",
       "  <tbody>\n",
       "    <tr>\n",
       "      <th>0</th>\n",
       "      <td>Amateur</td>\n",
       "      <td>Video_1</td>\n",
       "      <td>clip_6</td>\n",
       "      <td>53</td>\n",
       "      <td>[]</td>\n",
       "      <td>[]</td>\n",
       "      <td>../../00_Dataset/Amateur/Video_1/clip_6/53.jpg</td>\n",
       "      <td>[{'x': 366, 'y': 552, 'visibility': 'Visible'}]</td>\n",
       "    </tr>\n",
       "    <tr>\n",
       "      <th>1</th>\n",
       "      <td>Amateur</td>\n",
       "      <td>Video_1</td>\n",
       "      <td>clip_6</td>\n",
       "      <td>54</td>\n",
       "      <td>[]</td>\n",
       "      <td>[]</td>\n",
       "      <td>../../00_Dataset/Amateur/Video_1/clip_6/54.jpg</td>\n",
       "      <td>[{'x': 366, 'y': 548, 'visibility': 'Visible'}]</td>\n",
       "    </tr>\n",
       "    <tr>\n",
       "      <th>2</th>\n",
       "      <td>Amateur</td>\n",
       "      <td>Video_1</td>\n",
       "      <td>clip_6</td>\n",
       "      <td>55</td>\n",
       "      <td>[]</td>\n",
       "      <td>[]</td>\n",
       "      <td>../../00_Dataset/Amateur/Video_1/clip_6/55.jpg</td>\n",
       "      <td>[{'x': 366, 'y': 541, 'visibility': 'Difficult'}]</td>\n",
       "    </tr>\n",
       "    <tr>\n",
       "      <th>3</th>\n",
       "      <td>Amateur</td>\n",
       "      <td>Video_1</td>\n",
       "      <td>clip_6</td>\n",
       "      <td>56</td>\n",
       "      <td>[]</td>\n",
       "      <td>[]</td>\n",
       "      <td>../../00_Dataset/Amateur/Video_1/clip_6/56.jpg</td>\n",
       "      <td>[{'x': 368, 'y': 536, 'visibility': 'Difficult'}]</td>\n",
       "    </tr>\n",
       "    <tr>\n",
       "      <th>4</th>\n",
       "      <td>Amateur</td>\n",
       "      <td>Video_1</td>\n",
       "      <td>clip_6</td>\n",
       "      <td>57</td>\n",
       "      <td>[]</td>\n",
       "      <td>[]</td>\n",
       "      <td>../../00_Dataset/Amateur/Video_1/clip_6/57.jpg</td>\n",
       "      <td>[{'x': 370, 'y': 536, 'visibility': 'Difficult'}]</td>\n",
       "    </tr>\n",
       "  </tbody>\n",
       "</table>\n",
       "</div>"
      ],
      "text/plain": [
       "    subset    video    clip frame ball_points player_bbox  \\\n",
       "0  Amateur  Video_1  clip_6    53          []          []   \n",
       "1  Amateur  Video_1  clip_6    54          []          []   \n",
       "2  Amateur  Video_1  clip_6    55          []          []   \n",
       "3  Amateur  Video_1  clip_6    56          []          []   \n",
       "4  Amateur  Video_1  clip_6    57          []          []   \n",
       "\n",
       "                                        file_path  \\\n",
       "0  ../../00_Dataset/Amateur/Video_1/clip_6/53.jpg   \n",
       "1  ../../00_Dataset/Amateur/Video_1/clip_6/54.jpg   \n",
       "2  ../../00_Dataset/Amateur/Video_1/clip_6/55.jpg   \n",
       "3  ../../00_Dataset/Amateur/Video_1/clip_6/56.jpg   \n",
       "4  ../../00_Dataset/Amateur/Video_1/clip_6/57.jpg   \n",
       "\n",
       "                                              points  \n",
       "0    [{'x': 366, 'y': 552, 'visibility': 'Visible'}]  \n",
       "1    [{'x': 366, 'y': 548, 'visibility': 'Visible'}]  \n",
       "2  [{'x': 366, 'y': 541, 'visibility': 'Difficult'}]  \n",
       "3  [{'x': 368, 'y': 536, 'visibility': 'Difficult'}]  \n",
       "4  [{'x': 370, 'y': 536, 'visibility': 'Difficult'}]  "
      ]
     },
     "execution_count": 54,
     "metadata": {},
     "output_type": "execute_result"
    }
   ],
   "source": [
    "result_df.head()"
   ]
  },
  {
   "cell_type": "code",
   "execution_count": 56,
   "metadata": {},
   "outputs": [
    {
     "data": {
      "image/png": "[encoded data removed]",
      "text/plain": [
       "<Figure size 600x600 with 2 Axes>"
      ]
     },
     "metadata": {},
     "output_type": "display_data"
    },
    {
     "name": "stdout",
     "output_type": "stream",
     "text": [
      "Metrics:\n",
      "Accuracy: 0.33\n",
      "F1 Score: 0.45\n",
      "Precision: 0.34\n",
      "Recall: 0.67\n"
     ]
    }
   ],
   "source": [
    "metrics_dict = calculate_metrics_df(result_df, loose=False)\n",
    "\n",
    "tp = metrics_dict['Total']['tp']\n",
    "fp = metrics_dict['Total']['fp']\n",
    "tn = metrics_dict['Total']['tn']\n",
    "fn = metrics_dict['Total']['fn']\n",
    "\n",
    "metrics = plot_metrics_and_confusion_matrix(tp, fp, tn, fn)\n",
    "\n",
    "print(\"Metrics:\")\n",
    "print(f\"Accuracy: {metrics['Accuracy']:.2f}\")\n",
    "print(f\"F1 Score: {metrics['F1 Score']:.2f}\")\n",
    "print(f\"Precision: {metrics['Precision']:.2f}\")\n",
    "print(f\"Recall: {metrics['Recall']:.2f}\")"
   ]
  }
 ],
 "metadata": {
  "kernelspec": {
   "display_name": "CODE",
   "language": "python",
   "name": "python3"
  },
  "language_info": {
   "codemirror_mode": {
    "name": "ipython",
    "version": 3
   },
   "file_extension": ".py",
   "mimetype": "text/x-python",
   "name": "python",
   "nbconvert_exporter": "python",
   "pygments_lexer": "ipython3",
   "version": "3.9.20"
  }
 },
 "nbformat": 4,
 "nbformat_minor": 2
}
