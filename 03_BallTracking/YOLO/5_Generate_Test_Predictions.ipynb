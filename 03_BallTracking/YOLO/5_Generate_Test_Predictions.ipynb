{
 "cells": [
  {
   "cell_type": "markdown",
   "id": "cfe34365",
   "metadata": {},
   "source": [
    "# Test Results\n",
    "\n",
    "In this notebook the test results for the different YOLO models are generated"
   ]
  },
  {
   "cell_type": "markdown",
   "id": "805d4106",
   "metadata": {},
   "source": [
    "### import"
   ]
  },
  {
   "cell_type": "code",
   "execution_count": 1,
   "id": "25c34db8-5f13-408a-a935-55e670943bbd",
   "metadata": {},
   "outputs": [],
   "source": [
    "from ultralytics import YOLO\n",
    "import pandas as pd\n",
    "import time\n",
    "import os"
   ]
  },
  {
   "cell_type": "markdown",
   "id": "bb5e660a",
   "metadata": {},
   "source": [
    "## generate results"
   ]
  },
  {
   "cell_type": "code",
   "execution_count": 2,
   "id": "f2b647a9-1aa6-4ca2-a7ba-37884cc40fd8",
   "metadata": {},
   "outputs": [],
   "source": [
    "def get_test_inference(model_path):\n",
    "    model = YOLO(model_path)\n",
    "\n",
    "    # Run inference\n",
    "    results = model.predict(\n",
    "        source=\"./datasets/YOLODataset/images/test\",\n",
    "        conf=0.3,       \n",
    "        save=False,\n",
    "        stream=True,\n",
    "        batch=1,\n",
    "        device=[3],\n",
    "        verbose=False\n",
    "    )\n",
    "    # Initialize an empty list to store results\n",
    "    data = []\n",
    "    \n",
    "    # Start time\n",
    "    start_time = time.time()\n",
    "    \n",
    "    # Process results\n",
    "    for result in results:\n",
    "        # Initialize an empty list for detections in the current image\n",
    "        detections = []\n",
    "    \n",
    "        boxes = result.boxes  # Bounding box outputs\n",
    "        if boxes is not None:\n",
    "            for box in boxes:\n",
    "                # Extract information for each detected object\n",
    "                bbox = box.xyxy[0].tolist()  # Bounding box (x1, y1, x2, y2)\n",
    "                confidence = box.conf[0].item()  # Confidence score\n",
    "                class_label = int(box.cls[0].item())  # Class label\n",
    "    \n",
    "                # Add to the results list\n",
    "                detections.append({\n",
    "                    \"x1\": bbox[0],\n",
    "                    \"y1\": bbox[1],\n",
    "                    \"x2\": bbox[2],\n",
    "                    \"y2\": bbox[3],\n",
    "                    \"confidence\": confidence,\n",
    "                    \"class_label\": class_label\n",
    "                })\n",
    "    \n",
    "        data.append({\n",
    "            \"path\": result.path.split(\"/\")[-1],\n",
    "            \"detections\": detections  # Store all detections for the image\n",
    "        })\n",
    "    \n",
    "    # End time\n",
    "    end_time = time.time()\n",
    "    \n",
    "    # Calculate elapsed time\n",
    "    elapsed_time = end_time - start_time\n",
    "\n",
    "    # Calculate FPS\n",
    "    fps = 2877 / elapsed_time\n",
    "    \n",
    "    print(f\"Time needed to process results: {elapsed_time:.2f} seconds\")\n",
    "    print(f\"FPS: {fps:.2f}\")\n",
    "    \n",
    "    # Convert results to a DataFrame\n",
    "    return pd.DataFrame(data)"
   ]
  },
  {
   "cell_type": "code",
   "execution_count": 3,
   "id": "21162d97-1755-421b-8f11-0bc43c834e29",
   "metadata": {},
   "outputs": [
    {
     "data": {
      "text/plain": [
       "[['./ball-tracking/train_yolov10n/weights/best.pt', 'yolov10n'],\n",
       " ['./ball-tracking/train_yolov9s/weights/best.pt', 'yolov9s'],\n",
       " ['./ball-tracking/train_tuned_yolov5su/weights/best.pt', 'tuned_yolov5su'],\n",
       " ['./ball-tracking/train_yolov10s/weights/best.pt', 'yolov10s'],\n",
       " ['./ball-tracking/train_yolov10m/weights/best.pt', 'yolov10m'],\n",
       " ['./ball-tracking/train_tuned_yolo11s/weights/best.pt', 'tuned_yolo11s'],\n",
       " ['./ball-tracking/train_yolov8s/weights/best.pt', 'yolov8s'],\n",
       " ['./ball-tracking/train_yolov5su/weights/best.pt', 'yolov5su'],\n",
       " ['./ball-tracking/train_yolov10l/weights/best.pt', 'yolov10l'],\n",
       " ['./ball-tracking/train_yolo11s/weights/best.pt', 'yolo11s'],\n",
       " ['./ball-tracking/train_yolov10x/weights/best.pt', 'yolov10x']]"
      ]
     },
     "execution_count": 3,
     "metadata": {},
     "output_type": "execute_result"
    }
   ],
   "source": [
    "models  = [[os.path.join(f.path, 'weights/best.pt'), f.path.split('/')[-1].replace(\"train_\",\"\")] \n",
    "         for f in os.scandir('./ball-tracking/') \n",
    "         if f.is_dir() and \"train\" in str(f.path)]\n",
    "models "
   ]
  },
  {
   "cell_type": "code",
   "execution_count": 4,
   "id": "e1381b75-674b-445f-8877-6daf0b6d6122",
   "metadata": {},
   "outputs": [
    {
     "name": "stdout",
     "output_type": "stream",
     "text": [
      "yolov10n\n",
      "Time needed to process results: 33.04 seconds\n",
      "FPS: 87.08\n",
      "yolov9s\n",
      "Time needed to process results: 38.69 seconds\n",
      "FPS: 74.35\n",
      "tuned_yolov5su\n",
      "Time needed to process results: 24.54 seconds\n",
      "FPS: 117.22\n",
      "yolov10s\n",
      "Time needed to process results: 28.37 seconds\n",
      "FPS: 101.41\n",
      "yolov10m\n",
      "Time needed to process results: 31.34 seconds\n",
      "FPS: 91.81\n",
      "tuned_yolo11s\n",
      "Time needed to process results: 27.57 seconds\n",
      "FPS: 104.35\n",
      "yolov8s\n",
      "Time needed to process results: 23.28 seconds\n",
      "FPS: 123.56\n",
      "yolov5su\n",
      "Time needed to process results: 24.42 seconds\n",
      "FPS: 117.80\n",
      "yolov10l\n",
      "Time needed to process results: 36.56 seconds\n",
      "FPS: 78.68\n",
      "yolo11s\n",
      "Time needed to process results: 27.59 seconds\n",
      "FPS: 104.27\n",
      "yolov10x\n",
      "Time needed to process results: 38.70 seconds\n",
      "FPS: 74.34\n"
     ]
    }
   ],
   "source": [
    "results = []\n",
    "for path,model in models:\n",
    "    print(model)\n",
    "    df = get_test_inference(path)\n",
    "    df['model'] = model\n",
    "    results.append(df)"
   ]
  },
  {
   "cell_type": "code",
   "execution_count": 5,
   "id": "69c39897-cd64-4547-8eb1-57c549580ffa",
   "metadata": {},
   "outputs": [],
   "source": [
    "df = pd.concat(results)"
   ]
  },
  {
   "cell_type": "code",
   "execution_count": 6,
   "id": "691d28a7-de78-456a-8796-6dd89b9f7606",
   "metadata": {},
   "outputs": [
    {
     "data": {
      "text/html": [
       "<div>\n",
       "<style scoped>\n",
       "    .dataframe tbody tr th:only-of-type {\n",
       "        vertical-align: middle;\n",
       "    }\n",
       "\n",
       "    .dataframe tbody tr th {\n",
       "        vertical-align: top;\n",
       "    }\n",
       "\n",
       "    .dataframe thead th {\n",
       "        text-align: right;\n",
       "    }\n",
       "</style>\n",
       "<table border=\"1\" class=\"dataframe\">\n",
       "  <thead>\n",
       "    <tr style=\"text-align: right;\">\n",
       "      <th></th>\n",
       "      <th>path</th>\n",
       "      <th>detections</th>\n",
       "      <th>model</th>\n",
       "    </tr>\n",
       "  </thead>\n",
       "  <tbody>\n",
       "    <tr>\n",
       "      <th>2052</th>\n",
       "      <td>TrackNet_game4_Clip7_241.jpg</td>\n",
       "      <td>[{'x1': 505.08941650390625, 'y1': 260.53109741...</td>\n",
       "      <td>yolov10l</td>\n",
       "    </tr>\n",
       "    <tr>\n",
       "      <th>761</th>\n",
       "      <td>New_Video_3_clip_8_10.jpg</td>\n",
       "      <td>[{'x1': 455.6346435546875, 'y1': 303.473388671...</td>\n",
       "      <td>yolo11s</td>\n",
       "    </tr>\n",
       "    <tr>\n",
       "      <th>1196</th>\n",
       "      <td>New_Video_4_clip_7_255.jpg</td>\n",
       "      <td>[{'x1': 368.630126953125, 'y1': 293.2926940917...</td>\n",
       "      <td>tuned_yolo11s</td>\n",
       "    </tr>\n",
       "    <tr>\n",
       "      <th>2675</th>\n",
       "      <td>TrackNet_game8_Clip9_130.jpg</td>\n",
       "      <td>[{'x1': 830.2001953125, 'y1': 503.255737304687...</td>\n",
       "      <td>yolov10s</td>\n",
       "    </tr>\n",
       "    <tr>\n",
       "      <th>968</th>\n",
       "      <td>New_Video_3_clip_8_44.jpg</td>\n",
       "      <td>[{'x1': 618.78125, 'y1': 182.66943359375, 'x2'...</td>\n",
       "      <td>yolov10s</td>\n",
       "    </tr>\n",
       "    <tr>\n",
       "      <th>729</th>\n",
       "      <td>New_Video_3_clip_7_300.jpg</td>\n",
       "      <td>[{'x1': 665.705078125, 'y1': 288.806640625, 'x...</td>\n",
       "      <td>yolov8s</td>\n",
       "    </tr>\n",
       "    <tr>\n",
       "      <th>397</th>\n",
       "      <td>New_Video_2_clip_7_169.jpg</td>\n",
       "      <td>[]</td>\n",
       "      <td>tuned_yolov5su</td>\n",
       "    </tr>\n",
       "    <tr>\n",
       "      <th>2374</th>\n",
       "      <td>TrackNet_game6_Clip4_160.jpg</td>\n",
       "      <td>[{'x1': 601.8062744140625, 'y1': 189.192535400...</td>\n",
       "      <td>yolov10m</td>\n",
       "    </tr>\n",
       "    <tr>\n",
       "      <th>2403</th>\n",
       "      <td>TrackNet_game6_Clip4_187.jpg</td>\n",
       "      <td>[{'x1': 912.176025390625, 'y1': 376.1239929199...</td>\n",
       "      <td>yolov10m</td>\n",
       "    </tr>\n",
       "    <tr>\n",
       "      <th>1427</th>\n",
       "      <td>New_Video_5_clip_6_183.jpg</td>\n",
       "      <td>[{'x1': 626.8560791015625, 'y1': 269.064117431...</td>\n",
       "      <td>yolov8s</td>\n",
       "    </tr>\n",
       "  </tbody>\n",
       "</table>\n",
       "</div>"
      ],
      "text/plain": [
       "                              path  \\\n",
       "2052  TrackNet_game4_Clip7_241.jpg   \n",
       "761      New_Video_3_clip_8_10.jpg   \n",
       "1196    New_Video_4_clip_7_255.jpg   \n",
       "2675  TrackNet_game8_Clip9_130.jpg   \n",
       "968      New_Video_3_clip_8_44.jpg   \n",
       "729     New_Video_3_clip_7_300.jpg   \n",
       "397     New_Video_2_clip_7_169.jpg   \n",
       "2374  TrackNet_game6_Clip4_160.jpg   \n",
       "2403  TrackNet_game6_Clip4_187.jpg   \n",
       "1427    New_Video_5_clip_6_183.jpg   \n",
       "\n",
       "                                             detections           model  \n",
       "2052  [{'x1': 505.08941650390625, 'y1': 260.53109741...        yolov10l  \n",
       "761   [{'x1': 455.6346435546875, 'y1': 303.473388671...         yolo11s  \n",
       "1196  [{'x1': 368.630126953125, 'y1': 293.2926940917...   tuned_yolo11s  \n",
       "2675  [{'x1': 830.2001953125, 'y1': 503.255737304687...        yolov10s  \n",
       "968   [{'x1': 618.78125, 'y1': 182.66943359375, 'x2'...        yolov10s  \n",
       "729   [{'x1': 665.705078125, 'y1': 288.806640625, 'x...         yolov8s  \n",
       "397                                                  []  tuned_yolov5su  \n",
       "2374  [{'x1': 601.8062744140625, 'y1': 189.192535400...        yolov10m  \n",
       "2403  [{'x1': 912.176025390625, 'y1': 376.1239929199...        yolov10m  \n",
       "1427  [{'x1': 626.8560791015625, 'y1': 269.064117431...         yolov8s  "
      ]
     },
     "execution_count": 6,
     "metadata": {},
     "output_type": "execute_result"
    }
   ],
   "source": [
    "df.sample(10)"
   ]
  },
  {
   "cell_type": "code",
   "execution_count": null,
   "id": "fe5c5fdd-4790-4e31-b453-6035d4de753e",
   "metadata": {},
   "outputs": [],
   "source": [
    "df.to_csv('../results/Pre_Results_YOLO.csv', index=False)"
   ]
  }
 ],
 "metadata": {
  "kernelspec": {
   "display_name": "BV_Conda",
   "language": "python",
   "name": "bv_conda"
  },
  "language_info": {
   "codemirror_mode": {
    "name": "ipython",
    "version": 3
   },
   "file_extension": ".py",
   "mimetype": "text/x-python",
   "name": "python",
   "nbconvert_exporter": "python",
   "pygments_lexer": "ipython3",
   "version": "3.10.15"
  }
 },
 "nbformat": 4,
 "nbformat_minor": 5
}
