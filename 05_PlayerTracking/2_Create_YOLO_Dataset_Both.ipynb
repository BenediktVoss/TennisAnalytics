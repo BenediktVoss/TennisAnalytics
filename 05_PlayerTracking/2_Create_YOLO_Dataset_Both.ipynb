{
 "cells": [
  {
   "cell_type": "markdown",
   "metadata": {},
   "source": [
    "# Create YOLO Dataset\n",
    "\n",
    "In this notbook the YOLO dataset is created containing both the player and the ball annotations"
   ]
  },
  {
   "cell_type": "markdown",
   "metadata": {},
   "source": [
    "### imports"
   ]
  },
  {
   "cell_type": "code",
   "execution_count": 1,
   "metadata": {},
   "outputs": [],
   "source": [
    "import os\n",
    "import json\n",
    "import shutil\n",
    "import cv2"
   ]
  },
  {
   "cell_type": "code",
   "execution_count": null,
   "metadata": {},
   "outputs": [],
   "source": [
    "#read annotation json\n",
    "with open('./00_Dataset/annotations_player.json') as f:\n",
    "    data = json.load(f)"
   ]
  },
  {
   "cell_type": "markdown",
   "metadata": {},
   "source": [
    "## create the folder structure"
   ]
  },
  {
   "cell_type": "code",
   "execution_count": 3,
   "metadata": {},
   "outputs": [],
   "source": [
    "path = 'datasets/YOLOPlayerBall'\n",
    "\n",
    "# create folder structure for YOLO Dataset\n",
    "os.makedirs(path, exist_ok=True)\n",
    "#subfolders for images and labels\n",
    "os.makedirs(path+'/images', exist_ok=True)\n",
    "os.makedirs(path+'/labels', exist_ok=True)\n",
    "#train, test and validation subfolders\n",
    "os.makedirs(path+'/images/train', exist_ok=True)\n",
    "os.makedirs(path+'/images/validation', exist_ok=True)\n",
    "os.makedirs(path+'/images/test', exist_ok=True)\n",
    "os.makedirs(path+'/labels/train', exist_ok=True)\n",
    "os.makedirs(path+'/labels/validation', exist_ok=True)\n",
    "os.makedirs(path+'/labels/test', exist_ok=True)"
   ]
  },
  {
   "cell_type": "code",
   "execution_count": 4,
   "metadata": {},
   "outputs": [],
   "source": [
    "# create the yaml file\n",
    "with open(path+'/annotations.yaml', 'w') as f:\n",
    "    f.write(\"train: ../images/train\\n\")\n",
    "    f.write(\"val: ../images/validation\\n\")\n",
    "    f.write(\"test: ../images/test\\n\")\n",
    "    f.write(\"nc: 2\\n\")\n",
    "    f.write(\"names: \\n\")\n",
    "    f.write(\"   0: ball\\n\")\n",
    "    f.write(\"   1: person\\n\")"
   ]
  },
  {
   "cell_type": "code",
   "execution_count": null,
   "metadata": {},
   "outputs": [],
   "source": [
    "def convert_player_to_yolo_bb(player, img_width, img_height):\n",
    "        # get the center point\n",
    "        x = (player['xtl'] + player['xbr']) / 2\n",
    "        y = (player['ytl'] + player['ybr']) / 2\n",
    "\n",
    "        # normalize the center point\n",
    "        x /= img_width\n",
    "        y /= img_height\n",
    "        x = round(x, 6)\n",
    "        y = round(y, 6)\n",
    "\n",
    "        # normalize the width and height    \n",
    "        w = (player['xbr'] - player['xtl']) / img_width\n",
    "        h = (player['ybr'] - player['ytl']) / img_height\n",
    "        w = round(w, 6)\n",
    "        h = round(h, 6)\n",
    "\n",
    "        return 1, x, y, w, h\n",
    "\n",
    "\n",
    "def convert_point_to_yolo_bb(center_point, img_width, img_height):\n",
    "    # normalize the center point\n",
    "    x, y = center_point\n",
    "    x /= img_width\n",
    "    y /= img_height\n",
    "    x = round(x, 6)\n",
    "    y = round(y, 6)\n",
    "\n",
    "    # size for 20x20px at a resolution of 1280x720\n",
    "    size_x = 0.015625\n",
    "    size_y = 0.027776\n",
    "\n",
    "    return 0, x, y, size_x, size_y\n",
    "\n",
    "def create_dataset():\n",
    "    yolo_dataset_dir = path+\"/images\"\n",
    "\n",
    "    # loop over each frame in the json file\n",
    "    for subset in data['subsets']:\n",
    "        subset_name = subset['name']\n",
    "        resolution = subset['resolution']\n",
    "        for video in subset['videos']:\n",
    "            video_name = video['name']\n",
    "            \n",
    "            for clip in video['clips']:\n",
    "                clip_name = clip['name']\n",
    "                for frame_num, frame in clip['frames_with_objects'].items():\n",
    "\n",
    "                    #get split\n",
    "                    split = frame[\"split\"]\n",
    "                    \n",
    "                    # get the image path\n",
    "                    img_path = os.path.join(\n",
    "                        \"./00_Dataset\",\n",
    "                        subset_name,\n",
    "                        video_name,\n",
    "                        clip_name,\n",
    "                        str(int(frame_num)) + \".jpg\"\n",
    "                    )\n",
    "\n",
    "                    #create new filename\n",
    "                    file_name = subset_name + \"_\" + video_name + \"_\" + clip_name + \"_\" + str(int(frame_num)) \n",
    "                    dest_path = os.path.join(yolo_dataset_dir, split, file_name+ \".jpg\")\n",
    "\n",
    "                   # Copy the image to the YOLO dataset directory\n",
    "                    try:\n",
    "                        shutil.copy2(img_path, dest_path)\n",
    "                    except FileNotFoundError as e:\n",
    "                        print(e)\n",
    "                    except Exception as e:\n",
    "                        print(f\"Error copying file {img_path}: {e}\")\n",
    "\n",
    "                    # create the label file\n",
    "                    with open(f\"{path}/labels/{split}/{file_name}.txt\", 'w') as f:\n",
    "                        for player in frame['players']:\n",
    "                                # get the bounding box\n",
    "                                c, x, y, w, h = convert_player_to_yolo_bb(player, resolution[0], resolution[1])\n",
    "\n",
    "                                # write the label to the file\n",
    "                                f.write(f\"{c} {x} {y} {w} {h}\\n\")   \n",
    "\n",
    "                        for ball in frame['balls']:\n",
    "                            if ball['visibility'] not in ['Outside'] and ball['trajectory'] not in ['', 'Static']:\n",
    "                                point = (ball['x'], ball['y'])\n",
    "                                # get the bounding box\n",
    "                                c, x, y, w, h = convert_point_to_yolo_bb(point, resolution[0], resolution[1])\n",
    "\n",
    "                                # write the label to the file\n",
    "                                f.write(f\"{c} {x} {y} {w} {h}\\n\")                   "
   ]
  },
  {
   "cell_type": "code",
   "execution_count": 6,
   "metadata": {},
   "outputs": [],
   "source": [
    "create_dataset()"
   ]
  }
 ],
 "metadata": {
  "kernelspec": {
   "display_name": "BV_Conda",
   "language": "python",
   "name": "bv_conda"
  },
  "language_info": {
   "codemirror_mode": {
    "name": "ipython",
    "version": 3
   },
   "file_extension": ".py",
   "mimetype": "text/x-python",
   "name": "python",
   "nbconvert_exporter": "python",
   "pygments_lexer": "ipython3",
   "version": "3.10.15"
  }
 },
 "nbformat": 4,
 "nbformat_minor": 4
}
