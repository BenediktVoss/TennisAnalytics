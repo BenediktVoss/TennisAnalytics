{
 "cells": [
  {
   "cell_type": "markdown",
   "id": "4ae7b946",
   "metadata": {},
   "source": [
    "# Test Results\n",
    "\n",
    "In this notebook the results on the test split are generated for the 4 different models"
   ]
  },
  {
   "cell_type": "markdown",
   "id": "048567ae",
   "metadata": {},
   "source": [
    "### imports"
   ]
  },
  {
   "cell_type": "code",
   "execution_count": 1,
   "id": "f6caecf3-eb5c-4f43-9a03-00c0e3ffbbf6",
   "metadata": {},
   "outputs": [],
   "source": [
    "from ultralytics import YOLO\n",
    "import pandas as pd"
   ]
  },
  {
   "cell_type": "markdown",
   "id": "5cb629b6",
   "metadata": {},
   "source": [
    "## Evaluate"
   ]
  },
  {
   "cell_type": "code",
   "execution_count": 2,
   "id": "0930a080-bf21-42ac-b537-dde9c9e43ec3",
   "metadata": {},
   "outputs": [],
   "source": [
    "def evaluate_model(model_path, dataset_path, includesBalls):\n",
    "    # load model\n",
    "    model = YOLO(model_path)\n",
    "\n",
    "    # validate\n",
    "    metrics = model.val(data=dataset_path, imgsz = 640, project=\"evaluation\", device=\"cuda:1\", split=\"test\", batch=64)\n",
    "\n",
    "    # get metrics for both classes (person 1 and ball 0)\n",
    "    metrics_total = metrics.results_dict\n",
    "\n",
    "    # calculate f1 score total and for both classes\n",
    "    f1_total = 2 * (metrics_total[\"metrics/precision(B)\"] * metrics_total[\"metrics/recall(B)\"]) / (metrics_total[\"metrics/precision(B)\"] + metrics_total[\"metrics/recall(B)\"])\n",
    "    map50_total = metrics_total[\"metrics/mAP50(B)\"]\n",
    "    \n",
    "    if includesBalls:\n",
    "        results_person = metrics.class_result(1)\n",
    "        results_ball = metrics.class_result(0)\n",
    "        f1_person = 2 * (results_person[0] * results_person[1]) / (results_person[0] + results_person[1])\n",
    "        f1_ball = 2 * (results_ball[0] * results_ball[1]) / (results_ball[0] + results_ball[1])\n",
    "        map50_person = results_person[2]\n",
    "        map50_ball = results_ball[2]\n",
    "\n",
    "        predictions = get_ball_predictions(model)\n",
    "\n",
    "        return round(f1_total, 4), round(map50_total, 4), round(f1_person, 4), round(map50_person, 4), round(f1_ball, 4), round(map50_ball, 4), predictions\n",
    "    else:\n",
    "        results_person = metrics.class_result(0)\n",
    "        f1_person = 2 * (results_person[0] * results_person[1]) / (results_person[0] + results_person[1])\n",
    "        map50_person = results_person[2]\n",
    "        return round(f1_total, 4), round(map50_total, 4), round(f1_person, 4), round(map50_person, 4), None, None, None\n",
    "\n",
    "def get_ball_predictions(model):\n",
    "    # Initialize an empty list to store results\n",
    "    data = []\n",
    "    \n",
    "    # Run inference\n",
    "    results = model.predict(\n",
    "        source=\"./datasets/YOLOPlayerBall/images/test\",\n",
    "        conf=0.3,       \n",
    "        save=False,\n",
    "        stream=True,\n",
    "        batch=16,\n",
    "        device=\"cuda:1\",\n",
    "        verbose=False\n",
    "    )\n",
    "    \n",
    "    # Process results\n",
    "    for result in results:\n",
    "        # Initialize an empty list for detections in the current image\n",
    "        detections = []\n",
    "    \n",
    "        boxes = result.boxes  # Bounding box outputs\n",
    "        if boxes is not None:\n",
    "            for box in boxes:\n",
    "                # Extract information for each detected object\n",
    "                bbox = box.xyxy[0].tolist()  # Bounding box (x1, y1, x2, y2)\n",
    "                confidence = box.conf[0].item()  # Confidence score\n",
    "                class_label = int(box.cls[0].item())  # Class label\n",
    "                if class_label == 0:\n",
    "                    # Add to the results list\n",
    "                    detections.append({\n",
    "                        \"x1\": bbox[0],\n",
    "                        \"y1\": bbox[1],\n",
    "                        \"x2\": bbox[2],\n",
    "                        \"y2\": bbox[3],\n",
    "                        \"confidence\": confidence,\n",
    "                        \"class_label\": class_label\n",
    "                    })\n",
    "    \n",
    "        data.append({\n",
    "            \"path\": result.path.split(\"/\")[-1],\n",
    "            \"detections\": detections  # Store all detections for the image\n",
    "        })\n",
    "    \n",
    "    return data"
   ]
  },
  {
   "cell_type": "code",
   "execution_count": null,
   "id": "4401a240-9c51-469e-9838-a58e8e64d383",
   "metadata": {},
   "outputs": [
    {
     "name": "stdout",
     "output_type": "stream",
     "text": [
      "Ultralytics 8.3.31 🚀 Python-3.10.15 torch-2.5.1+cu124 CUDA:1 (NVIDIA GeForce RTX 4090, 24111MiB)\n",
      "YOLO11s summary (fused): 238 layers, 9,413,187 parameters, 0 gradients, 21.3 GFLOPs\n"
     ]
    },
    {
     "name": "stderr",
     "output_type": "stream",
     "text": [
      "\u001b[34m\u001b[1mval: \u001b[0mScanning /home/bevo/PlayerTracking/datasets/YOLOPlayer/labels/test.cache... 1963 images, 0 backgrounds, 0 corrupt: 100%|██████████| 1963/1963 [00:00<?, ?it/s]\n",
      "                 Class     Images  Instances      Box(P          R      mAP50  mAP50-95): 100%|██████████| 31/31 [00:05<00:00,  5.60it/s]\n"
     ]
    },
    {
     "name": "stdout",
     "output_type": "stream",
     "text": [
      "                   all       1963       3834      0.943      0.946      0.982      0.713\n",
      "Speed: 0.2ms preprocess, 0.8ms inference, 0.0ms loss, 0.4ms postprocess per image\n",
      "Results saved to \u001b[1mevaluation/val\u001b[0m\n",
      "Ultralytics 8.3.31 🚀 Python-3.10.15 torch-2.5.1+cu124 CUDA:1 (NVIDIA GeForce RTX 4090, 24111MiB)\n",
      "YOLO11s summary (fused): 238 layers, 9,413,574 parameters, 0 gradients, 21.3 GFLOPs\n"
     ]
    },
    {
     "name": "stderr",
     "output_type": "stream",
     "text": [
      "\u001b[34m\u001b[1mval: \u001b[0mScanning /home/bevo/PlayerTracking/datasets/YOLOPlayerBall/labels/test.cache... 1963 images, 0 backgrounds, 0 corrupt: 100%|██████████| 1963/1963 [00:00<?, ?it/s]\n",
      "                 Class     Images  Instances      Box(P          R      mAP50  mAP50-95): 100%|██████████| 31/31 [00:06<00:00,  4.95it/s]\n"
     ]
    },
    {
     "name": "stdout",
     "output_type": "stream",
     "text": [
      "                   all       1963       5471      0.856      0.784      0.809      0.618\n",
      "                  ball       1637       1637      0.748      0.575      0.627      0.465\n",
      "                person       1963       3834      0.965      0.993      0.991      0.771\n",
      "Speed: 0.2ms preprocess, 0.7ms inference, 0.0ms loss, 0.3ms postprocess per image\n",
      "Results saved to \u001b[1mevaluation/val2\u001b[0m\n",
      "Ultralytics 8.3.31 🚀 Python-3.10.15 torch-2.5.1+cu124 CUDA:1 (NVIDIA GeForce RTX 4090, 24111MiB)\n",
      "YOLOv5s summary (fused): 193 layers, 9,111,923 parameters, 0 gradients, 23.8 GFLOPs\n"
     ]
    },
    {
     "name": "stderr",
     "output_type": "stream",
     "text": [
      "\u001b[34m\u001b[1mval: \u001b[0mScanning /home/bevo/PlayerTracking/datasets/YOLOPlayer/labels/test.cache... 1963 images, 0 backgrounds, 0 corrupt: 100%|██████████| 1963/1963 [00:00<?, ?it/s]\n",
      "                 Class     Images  Instances      Box(P          R      mAP50  mAP50-95): 100%|██████████| 31/31 [00:05<00:00,  5.68it/s]\n"
     ]
    },
    {
     "name": "stdout",
     "output_type": "stream",
     "text": [
      "                   all       1963       3834      0.926      0.994      0.967      0.778\n",
      "Speed: 0.2ms preprocess, 0.6ms inference, 0.0ms loss, 0.3ms postprocess per image\n",
      "Results saved to \u001b[1mevaluation/val3\u001b[0m\n",
      "Ultralytics 8.3.31 🚀 Python-3.10.15 torch-2.5.1+cu124 CUDA:1 (NVIDIA GeForce RTX 4090, 24111MiB)\n",
      "YOLOv5s summary (fused): 193 layers, 9,112,310 parameters, 0 gradients, 23.8 GFLOPs\n"
     ]
    },
    {
     "name": "stderr",
     "output_type": "stream",
     "text": [
      "\u001b[34m\u001b[1mval: \u001b[0mScanning /home/bevo/PlayerTracking/datasets/YOLOPlayerBall/labels/test.cache... 1963 images, 0 backgrounds, 0 corrupt: 100%|██████████| 1963/1963 [00:00<?, ?it/s]\n",
      "                 Class     Images  Instances      Box(P          R      mAP50  mAP50-95): 100%|██████████| 31/31 [00:06<00:00,  5.05it/s]\n"
     ]
    },
    {
     "name": "stdout",
     "output_type": "stream",
     "text": [
      "                   all       1963       5471      0.927      0.769      0.825      0.604\n",
      "                  ball       1637       1637      0.894      0.561      0.667      0.465\n",
      "                person       1963       3834       0.96      0.976      0.984      0.743\n",
      "Speed: 0.2ms preprocess, 0.6ms inference, 0.0ms loss, 0.4ms postprocess per image\n",
      "Results saved to \u001b[1mevaluation/val4\u001b[0m\n"
     ]
    }
   ],
   "source": [
    "models = [\n",
    "            {\"name\": \"YOLOv11 Just Player\",\n",
    "             \"path\": \"./player-tracking/train_yolo11/weights/best.pt\",\n",
    "             \"dataset\": \"datasets/YOLOPlayer/annotations.yaml\",\n",
    "             \"includesBalls\": False},\n",
    "            {\"name\": \"YOLOv11 Player and Ball\",\n",
    "             \"path\": \"./player-ball-tracking/train_PreTrained_Ball_V11/weights/best.pt\",\n",
    "             \"dataset\": \"datasets/YOLOPlayerBall/annotations.yaml\",\n",
    "             \"includesBalls\": True},\n",
    "            {\"name\": \"YOLOv5 Just Player\",\n",
    "             \"path\": \"./player-tracking/train_yolov5/weights/best.pt\",\n",
    "             \"dataset\": \"datasets/YOLOPlayer/annotations.yaml\",\n",
    "             \"includesBalls\": False},\n",
    "            {\"name\": \"YOLOv5 Player and Ball\",\n",
    "             \"path\": \"./player-ball-tracking/train_Pretrained_Ball_V5/weights/best.pt\",\n",
    "             \"dataset\": \"datasets/YOLOPlayerBall/annotations.yaml\",\n",
    "             \"includesBalls\": True},\n",
    "        ]\n",
    "\n",
    "results = []\n",
    "for model in models:\n",
    "    f1_total, map50_total, f1_person, map50_person, f1_ball, map50_ball, predictions = evaluate_model(model[\"path\"], model[\"dataset\"], model[\"includesBalls\"])\n",
    "    results.append({\"model\": model[\"name\"], \"f1_total\": f1_total, \"map50_total\": map50_total, \"f1_person\": f1_person, \"map50_person\": map50_person, \"f1_ball\": f1_ball, \"map50_ball\": map50_ball, \"predictions\": predictions})\n"
   ]
  },
  {
   "cell_type": "code",
   "execution_count": 4,
   "id": "d00ad85e-bc05-4bf1-a4c0-bafc509d55e3",
   "metadata": {},
   "outputs": [
    {
     "data": {
      "text/html": [
       "<div>\n",
       "<style scoped>\n",
       "    .dataframe tbody tr th:only-of-type {\n",
       "        vertical-align: middle;\n",
       "    }\n",
       "\n",
       "    .dataframe tbody tr th {\n",
       "        vertical-align: top;\n",
       "    }\n",
       "\n",
       "    .dataframe thead th {\n",
       "        text-align: right;\n",
       "    }\n",
       "</style>\n",
       "<table border=\"1\" class=\"dataframe\">\n",
       "  <thead>\n",
       "    <tr style=\"text-align: right;\">\n",
       "      <th></th>\n",
       "      <th>model</th>\n",
       "      <th>f1_total</th>\n",
       "      <th>map50_total</th>\n",
       "      <th>f1_person</th>\n",
       "      <th>map50_person</th>\n",
       "      <th>f1_ball</th>\n",
       "      <th>map50_ball</th>\n",
       "      <th>predictions</th>\n",
       "    </tr>\n",
       "  </thead>\n",
       "  <tbody>\n",
       "    <tr>\n",
       "      <th>0</th>\n",
       "      <td>YOLOv11 Just Player</td>\n",
       "      <td>0.9445</td>\n",
       "      <td>0.9821</td>\n",
       "      <td>0.9445</td>\n",
       "      <td>0.9821</td>\n",
       "      <td>NaN</td>\n",
       "      <td>NaN</td>\n",
       "      <td>None</td>\n",
       "    </tr>\n",
       "    <tr>\n",
       "      <th>1</th>\n",
       "      <td>YOLOv11 Player and Ball</td>\n",
       "      <td>0.8187</td>\n",
       "      <td>0.8090</td>\n",
       "      <td>0.9788</td>\n",
       "      <td>0.9908</td>\n",
       "      <td>0.6504</td>\n",
       "      <td>0.6271</td>\n",
       "      <td>[{'path': 'New_Video_1_clip_6_100.jpg', 'detec...</td>\n",
       "    </tr>\n",
       "    <tr>\n",
       "      <th>2</th>\n",
       "      <td>YOLOv5 Just Player</td>\n",
       "      <td>0.9588</td>\n",
       "      <td>0.9675</td>\n",
       "      <td>0.9588</td>\n",
       "      <td>0.9675</td>\n",
       "      <td>NaN</td>\n",
       "      <td>NaN</td>\n",
       "      <td>None</td>\n",
       "    </tr>\n",
       "    <tr>\n",
       "      <th>3</th>\n",
       "      <td>YOLOv5 Player and Ball</td>\n",
       "      <td>0.8403</td>\n",
       "      <td>0.8254</td>\n",
       "      <td>0.9678</td>\n",
       "      <td>0.9836</td>\n",
       "      <td>0.6896</td>\n",
       "      <td>0.6672</td>\n",
       "      <td>[{'path': 'New_Video_1_clip_6_100.jpg', 'detec...</td>\n",
       "    </tr>\n",
       "  </tbody>\n",
       "</table>\n",
       "</div>"
      ],
      "text/plain": [
       "                     model  f1_total  map50_total  f1_person  map50_person  \\\n",
       "0      YOLOv11 Just Player    0.9445       0.9821     0.9445        0.9821   \n",
       "1  YOLOv11 Player and Ball    0.8187       0.8090     0.9788        0.9908   \n",
       "2       YOLOv5 Just Player    0.9588       0.9675     0.9588        0.9675   \n",
       "3   YOLOv5 Player and Ball    0.8403       0.8254     0.9678        0.9836   \n",
       "\n",
       "   f1_ball  map50_ball                                        predictions  \n",
       "0      NaN         NaN                                               None  \n",
       "1   0.6504      0.6271  [{'path': 'New_Video_1_clip_6_100.jpg', 'detec...  \n",
       "2      NaN         NaN                                               None  \n",
       "3   0.6896      0.6672  [{'path': 'New_Video_1_clip_6_100.jpg', 'detec...  "
      ]
     },
     "execution_count": 4,
     "metadata": {},
     "output_type": "execute_result"
    }
   ],
   "source": [
    "df = pd.DataFrame(results)\n",
    "df"
   ]
  },
  {
   "cell_type": "code",
   "execution_count": 5,
   "id": "1706c91b-ac71-48cc-a41e-17c2af724816",
   "metadata": {},
   "outputs": [],
   "source": [
    "df.to_csv(\"test_results.csv\")"
   ]
  }
 ],
 "metadata": {
  "kernelspec": {
   "display_name": "BV_Conda",
   "language": "python",
   "name": "bv_conda"
  },
  "language_info": {
   "codemirror_mode": {
    "name": "ipython",
    "version": 3
   },
   "file_extension": ".py",
   "mimetype": "text/x-python",
   "name": "python",
   "nbconvert_exporter": "python",
   "pygments_lexer": "ipython3",
   "version": "3.10.15"
  }
 },
 "nbformat": 4,
 "nbformat_minor": 5
}
